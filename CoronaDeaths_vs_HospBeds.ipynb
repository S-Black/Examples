{
 "cells": [
  {
   "cell_type": "markdown",
   "metadata": {},
   "source": [
    "# Corona analysis, infection rate, hospital bed and death correlation etc\n",
    "Read data from wikipedia, worldometer and the EU"
   ]
  },
  {
   "cell_type": "code",
   "execution_count": 5,
   "metadata": {},
   "outputs": [],
   "source": [
    "#Libraries\n",
    "import pandas as pd\n",
    "import numpy as np\n",
    "import plotly.express as px"
   ]
  },
  {
   "cell_type": "code",
   "execution_count": 6,
   "metadata": {},
   "outputs": [],
   "source": [
    "#Hospital beds, copy from wikipedia: https://en.wikipedia.org/wiki/List_of_countries_by_hospital_beds\n",
    "hospital_beds = pd.read_excel(r'C:\\Users\\...\\hospitalbeds.xlsx',sheet_name='hospital_beds')\n",
    "\n",
    "#Download from EU: https://data.europa.eu/euodp/en/data/dataset/covid-19-coronavirus-data\n",
    "url=\"https://opendata.ecdc.europa.eu/covid19/casedistribution/csv\"\n",
    "EU_data=pd.read_csv(url)"
   ]
  },
  {
   "cell_type": "code",
   "execution_count": 7,
   "metadata": {},
   "outputs": [
    {
     "data": {
      "text/html": [
       "<div>\n",
       "<style scoped>\n",
       "    .dataframe tbody tr th:only-of-type {\n",
       "        vertical-align: middle;\n",
       "    }\n",
       "\n",
       "    .dataframe tbody tr th {\n",
       "        vertical-align: top;\n",
       "    }\n",
       "\n",
       "    .dataframe thead th {\n",
       "        text-align: right;\n",
       "    }\n",
       "</style>\n",
       "<table border=\"1\" class=\"dataframe\">\n",
       "  <thead>\n",
       "    <tr style=\"text-align: right;\">\n",
       "      <th></th>\n",
       "      <th>Country</th>\n",
       "      <th>Continent</th>\n",
       "      <th>Hospital_beds_per100_2017</th>\n",
       "      <th>ICU_beds_per100k</th>\n",
       "      <th>Federal</th>\n",
       "    </tr>\n",
       "  </thead>\n",
       "  <tbody>\n",
       "    <tr>\n",
       "      <th>0</th>\n",
       "      <td>Japan</td>\n",
       "      <td>Asia</td>\n",
       "      <td>13.05</td>\n",
       "      <td>7.3</td>\n",
       "      <td>no</td>\n",
       "    </tr>\n",
       "    <tr>\n",
       "      <th>1</th>\n",
       "      <td>South Korea</td>\n",
       "      <td>Asia</td>\n",
       "      <td>12.27</td>\n",
       "      <td>10.6</td>\n",
       "      <td>no</td>\n",
       "    </tr>\n",
       "    <tr>\n",
       "      <th>2</th>\n",
       "      <td>Russia</td>\n",
       "      <td>Europe</td>\n",
       "      <td>8.05</td>\n",
       "      <td>8.3</td>\n",
       "      <td>yes</td>\n",
       "    </tr>\n",
       "    <tr>\n",
       "      <th>3</th>\n",
       "      <td>Germany</td>\n",
       "      <td>Europe</td>\n",
       "      <td>8.00</td>\n",
       "      <td>29.2</td>\n",
       "      <td>yes</td>\n",
       "    </tr>\n",
       "    <tr>\n",
       "      <th>4</th>\n",
       "      <td>Austria</td>\n",
       "      <td>Europe</td>\n",
       "      <td>7.37</td>\n",
       "      <td>21.8</td>\n",
       "      <td>yes</td>\n",
       "    </tr>\n",
       "    <tr>\n",
       "      <th>5</th>\n",
       "      <td>Hungary</td>\n",
       "      <td>Europe</td>\n",
       "      <td>7.02</td>\n",
       "      <td>13.8</td>\n",
       "      <td>no</td>\n",
       "    </tr>\n",
       "    <tr>\n",
       "      <th>6</th>\n",
       "      <td>Czech Republic</td>\n",
       "      <td>Europe</td>\n",
       "      <td>6.63</td>\n",
       "      <td>11.6</td>\n",
       "      <td>no</td>\n",
       "    </tr>\n",
       "    <tr>\n",
       "      <th>7</th>\n",
       "      <td>Poland</td>\n",
       "      <td>Europe</td>\n",
       "      <td>6.62</td>\n",
       "      <td>6.9</td>\n",
       "      <td>no</td>\n",
       "    </tr>\n",
       "    <tr>\n",
       "      <th>8</th>\n",
       "      <td>Lithuania</td>\n",
       "      <td>Europe</td>\n",
       "      <td>6.56</td>\n",
       "      <td>15.5</td>\n",
       "      <td>no</td>\n",
       "    </tr>\n",
       "    <tr>\n",
       "      <th>9</th>\n",
       "      <td>France</td>\n",
       "      <td>Europe</td>\n",
       "      <td>5.98</td>\n",
       "      <td>11.6</td>\n",
       "      <td>no</td>\n",
       "    </tr>\n",
       "    <tr>\n",
       "      <th>10</th>\n",
       "      <td>Slovakia</td>\n",
       "      <td>Europe</td>\n",
       "      <td>5.82</td>\n",
       "      <td>9.2</td>\n",
       "      <td>no</td>\n",
       "    </tr>\n",
       "    <tr>\n",
       "      <th>11</th>\n",
       "      <td>Belgium</td>\n",
       "      <td>Europe</td>\n",
       "      <td>5.76</td>\n",
       "      <td>15.9</td>\n",
       "      <td>yes</td>\n",
       "    </tr>\n",
       "    <tr>\n",
       "      <th>12</th>\n",
       "      <td>Latvia</td>\n",
       "      <td>Europe</td>\n",
       "      <td>5.57</td>\n",
       "      <td>9.7</td>\n",
       "      <td>no</td>\n",
       "    </tr>\n",
       "    <tr>\n",
       "      <th>13</th>\n",
       "      <td>Hong Kong</td>\n",
       "      <td>Asia</td>\n",
       "      <td>5.40</td>\n",
       "      <td>7.1</td>\n",
       "      <td>no</td>\n",
       "    </tr>\n",
       "    <tr>\n",
       "      <th>14</th>\n",
       "      <td>Estonia</td>\n",
       "      <td>Europe</td>\n",
       "      <td>4.69</td>\n",
       "      <td>14.6</td>\n",
       "      <td>no</td>\n",
       "    </tr>\n",
       "    <tr>\n",
       "      <th>15</th>\n",
       "      <td>Luxembourg</td>\n",
       "      <td>Europe</td>\n",
       "      <td>4.66</td>\n",
       "      <td>24.8</td>\n",
       "      <td>no</td>\n",
       "    </tr>\n",
       "    <tr>\n",
       "      <th>16</th>\n",
       "      <td>Switzerland</td>\n",
       "      <td>Europe</td>\n",
       "      <td>4.53</td>\n",
       "      <td>11.0</td>\n",
       "      <td>yes</td>\n",
       "    </tr>\n",
       "    <tr>\n",
       "      <th>17</th>\n",
       "      <td>Slovenia</td>\n",
       "      <td>Europe</td>\n",
       "      <td>4.50</td>\n",
       "      <td>6.4</td>\n",
       "      <td>no</td>\n",
       "    </tr>\n",
       "    <tr>\n",
       "      <th>18</th>\n",
       "      <td>China</td>\n",
       "      <td>Asia</td>\n",
       "      <td>4.34</td>\n",
       "      <td>3.6</td>\n",
       "      <td>no</td>\n",
       "    </tr>\n",
       "    <tr>\n",
       "      <th>19</th>\n",
       "      <td>Greece</td>\n",
       "      <td>Europe</td>\n",
       "      <td>4.21</td>\n",
       "      <td>6.0</td>\n",
       "      <td>no</td>\n",
       "    </tr>\n",
       "    <tr>\n",
       "      <th>20</th>\n",
       "      <td>Australia</td>\n",
       "      <td>Oceania</td>\n",
       "      <td>3.84</td>\n",
       "      <td>9.1</td>\n",
       "      <td>yes</td>\n",
       "    </tr>\n",
       "    <tr>\n",
       "      <th>21</th>\n",
       "      <td>Norway</td>\n",
       "      <td>Europe</td>\n",
       "      <td>3.60</td>\n",
       "      <td>8.0</td>\n",
       "      <td>no</td>\n",
       "    </tr>\n",
       "    <tr>\n",
       "      <th>22</th>\n",
       "      <td>Portugal</td>\n",
       "      <td>Europe</td>\n",
       "      <td>3.39</td>\n",
       "      <td>4.2</td>\n",
       "      <td>no</td>\n",
       "    </tr>\n",
       "    <tr>\n",
       "      <th>23</th>\n",
       "      <td>Netherlands</td>\n",
       "      <td>Europe</td>\n",
       "      <td>3.32</td>\n",
       "      <td>6.4</td>\n",
       "      <td>no</td>\n",
       "    </tr>\n",
       "    <tr>\n",
       "      <th>24</th>\n",
       "      <td>Finland</td>\n",
       "      <td>Europe</td>\n",
       "      <td>3.28</td>\n",
       "      <td>6.1</td>\n",
       "      <td>no</td>\n",
       "    </tr>\n",
       "    <tr>\n",
       "      <th>25</th>\n",
       "      <td>Italy</td>\n",
       "      <td>Europe</td>\n",
       "      <td>3.18</td>\n",
       "      <td>12.5</td>\n",
       "      <td>no</td>\n",
       "    </tr>\n",
       "    <tr>\n",
       "      <th>26</th>\n",
       "      <td>Iceland</td>\n",
       "      <td>Europe</td>\n",
       "      <td>3.06</td>\n",
       "      <td>9.1</td>\n",
       "      <td>no</td>\n",
       "    </tr>\n",
       "    <tr>\n",
       "      <th>27</th>\n",
       "      <td>Israel</td>\n",
       "      <td>Asia</td>\n",
       "      <td>3.02</td>\n",
       "      <td>NaN</td>\n",
       "      <td>no</td>\n",
       "    </tr>\n",
       "    <tr>\n",
       "      <th>28</th>\n",
       "      <td>Spain</td>\n",
       "      <td>Europe</td>\n",
       "      <td>2.97</td>\n",
       "      <td>9.7</td>\n",
       "      <td>no</td>\n",
       "    </tr>\n",
       "    <tr>\n",
       "      <th>29</th>\n",
       "      <td>Ireland</td>\n",
       "      <td>Europe</td>\n",
       "      <td>2.96</td>\n",
       "      <td>6.5</td>\n",
       "      <td>no</td>\n",
       "    </tr>\n",
       "    <tr>\n",
       "      <th>30</th>\n",
       "      <td>Turkey</td>\n",
       "      <td>Europe</td>\n",
       "      <td>2.81</td>\n",
       "      <td>29.0</td>\n",
       "      <td>no</td>\n",
       "    </tr>\n",
       "    <tr>\n",
       "      <th>31</th>\n",
       "      <td>United States</td>\n",
       "      <td>North America</td>\n",
       "      <td>2.77</td>\n",
       "      <td>34.7</td>\n",
       "      <td>yes</td>\n",
       "    </tr>\n",
       "    <tr>\n",
       "      <th>32</th>\n",
       "      <td>New Zealand</td>\n",
       "      <td>Oceania</td>\n",
       "      <td>2.71</td>\n",
       "      <td>NaN</td>\n",
       "      <td>no</td>\n",
       "    </tr>\n",
       "    <tr>\n",
       "      <th>33</th>\n",
       "      <td>Denmark</td>\n",
       "      <td>Europe</td>\n",
       "      <td>2.61</td>\n",
       "      <td>6.7</td>\n",
       "      <td>no</td>\n",
       "    </tr>\n",
       "    <tr>\n",
       "      <th>34</th>\n",
       "      <td>United Kingdom (more)</td>\n",
       "      <td>Europe</td>\n",
       "      <td>2.54</td>\n",
       "      <td>6.6</td>\n",
       "      <td>no</td>\n",
       "    </tr>\n",
       "    <tr>\n",
       "      <th>35</th>\n",
       "      <td>Canada</td>\n",
       "      <td>North America</td>\n",
       "      <td>2.52</td>\n",
       "      <td>13.5</td>\n",
       "      <td>yes</td>\n",
       "    </tr>\n",
       "    <tr>\n",
       "      <th>36</th>\n",
       "      <td>Sweden</td>\n",
       "      <td>Europe</td>\n",
       "      <td>2.22</td>\n",
       "      <td>5.8</td>\n",
       "      <td>no</td>\n",
       "    </tr>\n",
       "    <tr>\n",
       "      <th>37</th>\n",
       "      <td>Chile</td>\n",
       "      <td>South America</td>\n",
       "      <td>2.11</td>\n",
       "      <td>NaN</td>\n",
       "      <td>no</td>\n",
       "    </tr>\n",
       "    <tr>\n",
       "      <th>38</th>\n",
       "      <td>Colombia</td>\n",
       "      <td>South America</td>\n",
       "      <td>1.70</td>\n",
       "      <td>NaN</td>\n",
       "      <td>no</td>\n",
       "    </tr>\n",
       "    <tr>\n",
       "      <th>39</th>\n",
       "      <td>India</td>\n",
       "      <td>Asia</td>\n",
       "      <td>0.53</td>\n",
       "      <td>5.2</td>\n",
       "      <td>yes</td>\n",
       "    </tr>\n",
       "    <tr>\n",
       "      <th>40</th>\n",
       "      <td>Mexico</td>\n",
       "      <td>North America</td>\n",
       "      <td>1.38</td>\n",
       "      <td>1.2</td>\n",
       "      <td>yes</td>\n",
       "    </tr>\n",
       "  </tbody>\n",
       "</table>\n",
       "</div>"
      ],
      "text/plain": [
       "                   Country      Continent  Hospital_beds_per100_2017  \\\n",
       "0                    Japan           Asia                      13.05   \n",
       "1              South Korea           Asia                      12.27   \n",
       "2                   Russia         Europe                       8.05   \n",
       "3                  Germany         Europe                       8.00   \n",
       "4                  Austria         Europe                       7.37   \n",
       "5                  Hungary         Europe                       7.02   \n",
       "6           Czech Republic         Europe                       6.63   \n",
       "7                   Poland         Europe                       6.62   \n",
       "8                Lithuania         Europe                       6.56   \n",
       "9                   France         Europe                       5.98   \n",
       "10                Slovakia         Europe                       5.82   \n",
       "11                 Belgium         Europe                       5.76   \n",
       "12                  Latvia         Europe                       5.57   \n",
       "13               Hong Kong           Asia                       5.40   \n",
       "14                 Estonia         Europe                       4.69   \n",
       "15              Luxembourg         Europe                       4.66   \n",
       "16             Switzerland         Europe                       4.53   \n",
       "17                Slovenia         Europe                       4.50   \n",
       "18                   China           Asia                       4.34   \n",
       "19                  Greece         Europe                       4.21   \n",
       "20               Australia        Oceania                       3.84   \n",
       "21                  Norway         Europe                       3.60   \n",
       "22                Portugal         Europe                       3.39   \n",
       "23             Netherlands         Europe                       3.32   \n",
       "24                 Finland         Europe                       3.28   \n",
       "25                   Italy         Europe                       3.18   \n",
       "26                 Iceland         Europe                       3.06   \n",
       "27                  Israel           Asia                       3.02   \n",
       "28                   Spain         Europe                       2.97   \n",
       "29                 Ireland         Europe                       2.96   \n",
       "30                  Turkey         Europe                       2.81   \n",
       "31           United States  North America                       2.77   \n",
       "32             New Zealand        Oceania                       2.71   \n",
       "33                 Denmark         Europe                       2.61   \n",
       "34   United Kingdom (more)         Europe                       2.54   \n",
       "35                  Canada  North America                       2.52   \n",
       "36                  Sweden         Europe                       2.22   \n",
       "37                   Chile  South America                       2.11   \n",
       "38                Colombia  South America                       1.70   \n",
       "39                   India           Asia                       0.53   \n",
       "40                  Mexico  North America                       1.38   \n",
       "\n",
       "    ICU_beds_per100k Federal  \n",
       "0                7.3      no  \n",
       "1               10.6      no  \n",
       "2                8.3     yes  \n",
       "3               29.2     yes  \n",
       "4               21.8     yes  \n",
       "5               13.8      no  \n",
       "6               11.6      no  \n",
       "7                6.9      no  \n",
       "8               15.5      no  \n",
       "9               11.6      no  \n",
       "10               9.2      no  \n",
       "11              15.9     yes  \n",
       "12               9.7      no  \n",
       "13               7.1      no  \n",
       "14              14.6      no  \n",
       "15              24.8      no  \n",
       "16              11.0     yes  \n",
       "17               6.4      no  \n",
       "18               3.6      no  \n",
       "19               6.0      no  \n",
       "20               9.1     yes  \n",
       "21               8.0      no  \n",
       "22               4.2      no  \n",
       "23               6.4      no  \n",
       "24               6.1      no  \n",
       "25              12.5      no  \n",
       "26               9.1      no  \n",
       "27               NaN      no  \n",
       "28               9.7      no  \n",
       "29               6.5      no  \n",
       "30              29.0      no  \n",
       "31              34.7     yes  \n",
       "32               NaN      no  \n",
       "33               6.7      no  \n",
       "34               6.6      no  \n",
       "35              13.5     yes  \n",
       "36               5.8      no  \n",
       "37               NaN      no  \n",
       "38               NaN      no  \n",
       "39               5.2     yes  \n",
       "40               1.2     yes  "
      ]
     },
     "execution_count": 7,
     "metadata": {},
     "output_type": "execute_result"
    }
   ],
   "source": [
    "hospital_beds.drop(['Rank','Ventilators'],axis=1,inplace=True)\n",
    "hospital_beds.columns = ['Country','Continent','Hospital_beds_per100_2017','ICU_beds_per100k','Federal']\n",
    "hospital_beds"
   ]
  },
  {
   "cell_type": "code",
   "execution_count": 8,
   "metadata": {},
   "outputs": [
    {
     "data": {
      "text/html": [
       "<div>\n",
       "<style scoped>\n",
       "    .dataframe tbody tr th:only-of-type {\n",
       "        vertical-align: middle;\n",
       "    }\n",
       "\n",
       "    .dataframe tbody tr th {\n",
       "        vertical-align: top;\n",
       "    }\n",
       "\n",
       "    .dataframe thead th {\n",
       "        text-align: right;\n",
       "    }\n",
       "</style>\n",
       "<table border=\"1\" class=\"dataframe\">\n",
       "  <thead>\n",
       "    <tr style=\"text-align: right;\">\n",
       "      <th></th>\n",
       "      <th>Date</th>\n",
       "      <th>day</th>\n",
       "      <th>month</th>\n",
       "      <th>year</th>\n",
       "      <th>cases</th>\n",
       "      <th>deaths</th>\n",
       "      <th>geoId</th>\n",
       "      <th>continentExp</th>\n",
       "      <th>countryterritoryCode</th>\n",
       "      <th>popData2018</th>\n",
       "      <th>Country</th>\n",
       "    </tr>\n",
       "  </thead>\n",
       "  <tbody>\n",
       "    <tr>\n",
       "      <th>0</th>\n",
       "      <td>2020-04-20</td>\n",
       "      <td>20</td>\n",
       "      <td>4</td>\n",
       "      <td>2020</td>\n",
       "      <td>88</td>\n",
       "      <td>3</td>\n",
       "      <td>AF</td>\n",
       "      <td>Asia</td>\n",
       "      <td>AFG</td>\n",
       "      <td>37172386.0</td>\n",
       "      <td>Afghanistan</td>\n",
       "    </tr>\n",
       "    <tr>\n",
       "      <th>1</th>\n",
       "      <td>2020-04-19</td>\n",
       "      <td>19</td>\n",
       "      <td>4</td>\n",
       "      <td>2020</td>\n",
       "      <td>63</td>\n",
       "      <td>0</td>\n",
       "      <td>AF</td>\n",
       "      <td>Asia</td>\n",
       "      <td>AFG</td>\n",
       "      <td>37172386.0</td>\n",
       "      <td>Afghanistan</td>\n",
       "    </tr>\n",
       "    <tr>\n",
       "      <th>2</th>\n",
       "      <td>2020-04-18</td>\n",
       "      <td>18</td>\n",
       "      <td>4</td>\n",
       "      <td>2020</td>\n",
       "      <td>51</td>\n",
       "      <td>1</td>\n",
       "      <td>AF</td>\n",
       "      <td>Asia</td>\n",
       "      <td>AFG</td>\n",
       "      <td>37172386.0</td>\n",
       "      <td>Afghanistan</td>\n",
       "    </tr>\n",
       "    <tr>\n",
       "      <th>3</th>\n",
       "      <td>2020-04-17</td>\n",
       "      <td>17</td>\n",
       "      <td>4</td>\n",
       "      <td>2020</td>\n",
       "      <td>10</td>\n",
       "      <td>4</td>\n",
       "      <td>AF</td>\n",
       "      <td>Asia</td>\n",
       "      <td>AFG</td>\n",
       "      <td>37172386.0</td>\n",
       "      <td>Afghanistan</td>\n",
       "    </tr>\n",
       "    <tr>\n",
       "      <th>4</th>\n",
       "      <td>2020-04-16</td>\n",
       "      <td>16</td>\n",
       "      <td>4</td>\n",
       "      <td>2020</td>\n",
       "      <td>70</td>\n",
       "      <td>2</td>\n",
       "      <td>AF</td>\n",
       "      <td>Asia</td>\n",
       "      <td>AFG</td>\n",
       "      <td>37172386.0</td>\n",
       "      <td>Afghanistan</td>\n",
       "    </tr>\n",
       "    <tr>\n",
       "      <th>...</th>\n",
       "      <td>...</td>\n",
       "      <td>...</td>\n",
       "      <td>...</td>\n",
       "      <td>...</td>\n",
       "      <td>...</td>\n",
       "      <td>...</td>\n",
       "      <td>...</td>\n",
       "      <td>...</td>\n",
       "      <td>...</td>\n",
       "      <td>...</td>\n",
       "      <td>...</td>\n",
       "    </tr>\n",
       "    <tr>\n",
       "      <th>11976</th>\n",
       "      <td>2020-03-25</td>\n",
       "      <td>25</td>\n",
       "      <td>3</td>\n",
       "      <td>2020</td>\n",
       "      <td>0</td>\n",
       "      <td>0</td>\n",
       "      <td>ZW</td>\n",
       "      <td>Africa</td>\n",
       "      <td>ZWE</td>\n",
       "      <td>14439018.0</td>\n",
       "      <td>Zimbabwe</td>\n",
       "    </tr>\n",
       "    <tr>\n",
       "      <th>11977</th>\n",
       "      <td>2020-03-24</td>\n",
       "      <td>24</td>\n",
       "      <td>3</td>\n",
       "      <td>2020</td>\n",
       "      <td>0</td>\n",
       "      <td>1</td>\n",
       "      <td>ZW</td>\n",
       "      <td>Africa</td>\n",
       "      <td>ZWE</td>\n",
       "      <td>14439018.0</td>\n",
       "      <td>Zimbabwe</td>\n",
       "    </tr>\n",
       "    <tr>\n",
       "      <th>11978</th>\n",
       "      <td>2020-03-23</td>\n",
       "      <td>23</td>\n",
       "      <td>3</td>\n",
       "      <td>2020</td>\n",
       "      <td>0</td>\n",
       "      <td>0</td>\n",
       "      <td>ZW</td>\n",
       "      <td>Africa</td>\n",
       "      <td>ZWE</td>\n",
       "      <td>14439018.0</td>\n",
       "      <td>Zimbabwe</td>\n",
       "    </tr>\n",
       "    <tr>\n",
       "      <th>11979</th>\n",
       "      <td>2020-03-22</td>\n",
       "      <td>22</td>\n",
       "      <td>3</td>\n",
       "      <td>2020</td>\n",
       "      <td>1</td>\n",
       "      <td>0</td>\n",
       "      <td>ZW</td>\n",
       "      <td>Africa</td>\n",
       "      <td>ZWE</td>\n",
       "      <td>14439018.0</td>\n",
       "      <td>Zimbabwe</td>\n",
       "    </tr>\n",
       "    <tr>\n",
       "      <th>11980</th>\n",
       "      <td>2020-03-21</td>\n",
       "      <td>21</td>\n",
       "      <td>3</td>\n",
       "      <td>2020</td>\n",
       "      <td>1</td>\n",
       "      <td>0</td>\n",
       "      <td>ZW</td>\n",
       "      <td>Africa</td>\n",
       "      <td>ZWE</td>\n",
       "      <td>14439018.0</td>\n",
       "      <td>Zimbabwe</td>\n",
       "    </tr>\n",
       "  </tbody>\n",
       "</table>\n",
       "<p>11981 rows × 11 columns</p>\n",
       "</div>"
      ],
      "text/plain": [
       "            Date  day  month  year  cases  deaths geoId continentExp  \\\n",
       "0     2020-04-20   20      4  2020     88       3    AF         Asia   \n",
       "1     2020-04-19   19      4  2020     63       0    AF         Asia   \n",
       "2     2020-04-18   18      4  2020     51       1    AF         Asia   \n",
       "3     2020-04-17   17      4  2020     10       4    AF         Asia   \n",
       "4     2020-04-16   16      4  2020     70       2    AF         Asia   \n",
       "...          ...  ...    ...   ...    ...     ...   ...          ...   \n",
       "11976 2020-03-25   25      3  2020      0       0    ZW       Africa   \n",
       "11977 2020-03-24   24      3  2020      0       1    ZW       Africa   \n",
       "11978 2020-03-23   23      3  2020      0       0    ZW       Africa   \n",
       "11979 2020-03-22   22      3  2020      1       0    ZW       Africa   \n",
       "11980 2020-03-21   21      3  2020      1       0    ZW       Africa   \n",
       "\n",
       "      countryterritoryCode  popData2018      Country  \n",
       "0                      AFG   37172386.0  Afghanistan  \n",
       "1                      AFG   37172386.0  Afghanistan  \n",
       "2                      AFG   37172386.0  Afghanistan  \n",
       "3                      AFG   37172386.0  Afghanistan  \n",
       "4                      AFG   37172386.0  Afghanistan  \n",
       "...                    ...          ...          ...  \n",
       "11976                  ZWE   14439018.0     Zimbabwe  \n",
       "11977                  ZWE   14439018.0     Zimbabwe  \n",
       "11978                  ZWE   14439018.0     Zimbabwe  \n",
       "11979                  ZWE   14439018.0     Zimbabwe  \n",
       "11980                  ZWE   14439018.0     Zimbabwe  \n",
       "\n",
       "[11981 rows x 11 columns]"
      ]
     },
     "execution_count": 8,
     "metadata": {},
     "output_type": "execute_result"
    }
   ],
   "source": [
    "EU_data.rename({'countriesAndTerritories':'Country','dateRep':'Date'},axis=1,inplace=True)\n",
    "#EU_data.drop(['geoId','countryterritoryCode'],axis=1,inplace=True)\n",
    "EU_data['Date']=pd.to_datetime(EU_data[['year','month','day']])\n",
    "#EU_data['popData2018']=pd.to_numeric(EU_data['popData2018'],downcast='integer',errors='coerce')\n",
    "EU_data"
   ]
  },
  {
   "cell_type": "code",
   "execution_count": 9,
   "metadata": {},
   "outputs": [],
   "source": [
    "#Rename country names to align to each other\n",
    "hospital_beds['Country'].replace(regex={'South Korea':'South_Korea','Czech Republic':'Czech_Republic','Hong Kong':'Hong_Kong',\n",
    "                                 'United States':'USA','New Zealand':'New_Zealand','United Kingdom(more)':'UK'},inplace=True)\n",
    "hospital_beds['Country'].replace({'United Kingdom(more)':'UK'},inplace=True)\n",
    "\n",
    "EU_data['Country'].replace(regex={'Czechia':'Czech_Republic','United_States_of_America':'USA','United_Kingdom':'UK'},inplace=True)"
   ]
  },
  {
   "cell_type": "markdown",
   "metadata": {},
   "source": [
    "# Time Series data"
   ]
  },
  {
   "cell_type": "code",
   "execution_count": 11,
   "metadata": {},
   "outputs": [],
   "source": [
    "#EU_data.groupby(['Date','Country']).cumsum()\n",
    "Cumulative_deaths = EU_data.groupby(['Country','Date','popData2018'])['deaths'].sum().groupby(level=0).cumsum().reset_index()\n",
    "Cumulative_deaths.sort_values(by=['Country','Date'],inplace=True)\n",
    "Cumulative_deaths['Dead_per_million']=Cumulative_deaths['deaths']/Cumulative_deaths['popData2018']*1000000\n",
    "#Cumulative_deaths[(Cumulative_deaths['Country']=='Germany') & (Cumulative_deaths['Dead_per_million']>0)]#.sort_values(by=['Date'],ascending=True)"
   ]
  },
  {
   "cell_type": "code",
   "execution_count": 12,
   "metadata": {},
   "outputs": [],
   "source": [
    "#Drop all deaths per million under 1\n",
    "Cumulative_deaths.drop(Cumulative_deaths[Cumulative_deaths.Dead_per_million < 1].index, inplace=True)\n",
    "#To align all countries for time we need to count days starting from the first day, there were more than 1 death per million\n",
    "Cumulative_deaths['Day']=Cumulative_deaths.groupby(['Country'])['Date'].cumcount(ascending=True)+1\n",
    "#Cumulative_deaths[Cumulative_deaths['Country']=='Japan']"
   ]
  },
  {
   "cell_type": "code",
   "execution_count": 18,
   "metadata": {},
   "outputs": [
    {
     "data": {
      "application/vnd.plotly.v1+json": {
       "config": {
        "plotlyServerURL": "https://plot.ly"
       },
       "data": [
        {
         "hovertemplate": "Country=Albania<br>Day=%{x}<br>Dead_per_million=%{y}<br>popData2018=%{marker.size}<extra></extra>",
         "legendgroup": "Albania",
         "marker": {
          "color": "#2E91E5",
          "size": [
           2866376,
           2866376,
           2866376,
           2866376,
           2866376,
           2866376,
           2866376,
           2866376,
           2866376,
           2866376,
           2866376,
           2866376,
           2866376,
           2866376,
           2866376,
           2866376,
           2866376,
           2866376,
           2866376,
           2866376,
           2866376,
           2866376,
           2866376,
           2866376,
           2866376,
           2866376,
           2866376,
           2866376
          ],
          "sizemode": "area",
          "sizeref": 3481825,
          "symbol": "circle"
         },
         "mode": "markers",
         "name": "Albania",
         "showlegend": true,
         "type": "scattergl",
         "x": [
          1,
          2,
          3,
          4,
          5,
          6,
          7,
          8,
          9,
          10,
          11,
          12,
          13,
          14,
          15,
          16,
          17,
          18,
          19,
          20,
          21,
          22,
          23,
          24,
          25,
          26,
          27,
          28
         ],
         "xaxis": "x",
         "y": [
          1.3954903334384603,
          1.7443629167980754,
          1.7443629167980754,
          2.0932355001576908,
          3.1398532502365355,
          3.488725833596151,
          3.488725833596151,
          4.1864710003153816,
          5.233088750394226,
          5.233088750394226,
          5.581961333753841,
          5.930833917113456,
          6.628579083832686,
          7.326324250551917,
          7.675196833911531,
          7.675196833911531,
          7.675196833911531,
          8.024069417271146,
          8.024069417271146,
          8.024069417271146,
          8.024069417271146,
          8.024069417271146,
          8.372942000630763,
          8.721814583990378,
          9.070687167349993,
          9.070687167349993,
          9.070687167349993,
          9.070687167349993
         ],
         "yaxis": "y"
        },
        {
         "hovertemplate": "Country=Algeria<br>Day=%{x}<br>Dead_per_million=%{y}<br>popData2018=%{marker.size}<extra></extra>",
         "legendgroup": "Algeria",
         "marker": {
          "color": "#E15F99",
          "size": [
           42228429,
           42228429,
           42228429,
           42228429,
           42228429,
           42228429,
           42228429,
           42228429,
           42228429,
           42228429,
           42228429,
           42228429,
           42228429,
           42228429,
           42228429,
           42228429,
           42228429,
           42228429,
           42228429,
           42228429
          ],
          "sizemode": "area",
          "sizeref": 3481825,
          "symbol": "circle"
         },
         "mode": "markers",
         "name": "Algeria",
         "showlegend": true,
         "type": "scattergl",
         "x": [
          1,
          2,
          3,
          4,
          5,
          6,
          7,
          8,
          9,
          10,
          11,
          12,
          13,
          14,
          15,
          16,
          17,
          18,
          19,
          20
         ],
         "xaxis": "x",
         "y": [
          1.0419520934581772,
          1.3734823050130516,
          1.4918859519969356,
          2.486476586661559,
          3.0784948215809784,
          3.5994708683100667,
          4.0967661856423785,
          4.570380773577914,
          4.854549526339234,
          5.564971408242537,
          6.062266725574849,
          6.512200584113607,
          6.938453713255589,
          7.412068301191124,
          7.696237053952445,
          7.956725077316989,
          8.24089383007831,
          8.619785500426739,
          8.690827688617068,
          8.880273523791283
         ],
         "yaxis": "y"
        },
        {
         "hovertemplate": "Country=Andorra<br>Day=%{x}<br>Dead_per_million=%{y}<br>popData2018=%{marker.size}<extra></extra>",
         "legendgroup": "Andorra",
         "marker": {
          "color": "#1CA71C",
          "size": [
           77006,
           77006,
           77006,
           77006,
           77006,
           77006,
           77006,
           77006,
           77006,
           77006,
           77006,
           77006,
           77006,
           77006,
           77006,
           77006,
           77006,
           77006,
           77006,
           77006,
           77006,
           77006,
           77006,
           77006,
           77006
          ],
          "sizemode": "area",
          "sizeref": 3481825,
          "symbol": "circle"
         },
         "mode": "markers",
         "name": "Andorra",
         "showlegend": true,
         "type": "scattergl",
         "x": [
          1,
          2,
          3,
          4,
          5,
          6,
          7,
          8,
          9,
          10,
          11,
          12,
          13,
          14,
          15,
          16,
          17,
          18,
          19,
          20,
          21,
          22,
          23,
          24,
          25
         ],
         "xaxis": "x",
         "y": [
          38.958003272472276,
          38.958003272472276,
          51.944004363296365,
          77.91600654494455,
          103.88800872659273,
          155.8320130898891,
          181.80401527153728,
          194.7900163623614,
          207.77601745318546,
          220.76201854400955,
          233.74801963483364,
          272.7060229073059,
          285.69202399813,
          298.6780250889541,
          324.65002727060227,
          337.6360283614264,
          363.60803054307456,
          376.5940316338986,
          376.5940316338986,
          402.56603381554686,
          428.53803599719504,
          428.53803599719504,
          454.5100381788432,
          454.5100381788432,
          467.4960392696673
         ],
         "yaxis": "y"
        },
        {
         "hovertemplate": "Country=Antigua_and_Barbuda<br>Day=%{x}<br>Dead_per_million=%{y}<br>popData2018=%{marker.size}<extra></extra>",
         "legendgroup": "Antigua_and_Barbuda",
         "marker": {
          "color": "#FB0D0D",
          "size": [
           96286,
           96286,
           96286,
           96286,
           96286,
           96286,
           96286,
           96286,
           96286,
           96286,
           96286
          ],
          "sizemode": "area",
          "sizeref": 3481825,
          "symbol": "circle"
         },
         "mode": "markers",
         "name": "Antigua_and_Barbuda",
         "showlegend": true,
         "type": "scattergl",
         "x": [
          1,
          2,
          3,
          4,
          5,
          6,
          7,
          8,
          9,
          10,
          11
         ],
         "xaxis": "x",
         "y": [
          20.771451716760485,
          20.771451716760485,
          20.771451716760485,
          20.771451716760485,
          20.771451716760485,
          20.771451716760485,
          20.771451716760485,
          20.771451716760485,
          20.771451716760485,
          20.771451716760485,
          20.771451716760485
         ],
         "yaxis": "y"
        },
        {
         "hovertemplate": "Country=Argentina<br>Day=%{x}<br>Dead_per_million=%{y}<br>popData2018=%{marker.size}<extra></extra>",
         "legendgroup": "Argentina",
         "marker": {
          "color": "#DA16FF",
          "size": [
           44494502,
           44494502,
           44494502,
           44494502,
           44494502,
           44494502,
           44494502,
           44494502,
           44494502,
           44494502,
           44494502,
           44494502,
           44494502,
           44494502,
           44494502
          ],
          "sizemode": "area",
          "sizeref": 3481825,
          "symbol": "circle"
         },
         "mode": "markers",
         "name": "Argentina",
         "showlegend": true,
         "type": "scattergl",
         "x": [
          1,
          2,
          3,
          4,
          5,
          6,
          7,
          8,
          9,
          10,
          11,
          12,
          13,
          14,
          15
         ],
         "xaxis": "x",
         "y": [
          1.0338355961372487,
          1.1911584042450907,
          1.3484812123529328,
          1.4608546467156773,
          1.7755002629313617,
          1.8429243235490085,
          2.0002471316568506,
          2.135095252892144,
          2.2025193135097902,
          2.359842121617633,
          2.449740869107828,
          2.5845889903431214,
          2.7419117984509636,
          2.9666586671764525,
          3.0116080409215504
         ],
         "yaxis": "y"
        },
        {
         "hovertemplate": "Country=Armenia<br>Day=%{x}<br>Dead_per_million=%{y}<br>popData2018=%{marker.size}<extra></extra>",
         "legendgroup": "Armenia",
         "marker": {
          "color": "#222A2A",
          "size": [
           2951776,
           2951776,
           2951776,
           2951776,
           2951776,
           2951776,
           2951776,
           2951776,
           2951776,
           2951776,
           2951776,
           2951776,
           2951776,
           2951776,
           2951776,
           2951776,
           2951776,
           2951776,
           2951776,
           2951776,
           2951776,
           2951776,
           2951776
          ],
          "sizemode": "area",
          "sizeref": 3481825,
          "symbol": "circle"
         },
         "mode": "markers",
         "name": "Armenia",
         "showlegend": true,
         "type": "scattergl",
         "x": [
          1,
          2,
          3,
          4,
          5,
          6,
          7,
          8,
          9,
          10,
          11,
          12,
          13,
          14,
          15,
          16,
          17,
          18,
          19,
          20,
          21,
          22,
          23
         ],
         "xaxis": "x",
         "y": [
          1.0163372830458681,
          1.0163372830458681,
          1.0163372830458681,
          1.0163372830458681,
          1.0163372830458681,
          1.3551163773944908,
          2.3714536604403587,
          2.3714536604403587,
          2.3714536604403587,
          2.7102327547889815,
          2.7102327547889815,
          3.049011849137604,
          3.3877909434862263,
          3.726570037834849,
          4.4041282265320945,
          4.4041282265320945,
          4.742907320880717,
          5.759244603926585,
          6.098023698275208,
          6.436802792623831,
          6.775581886972453,
          6.775581886972453,
          7.453140075669698
         ],
         "yaxis": "y"
        },
        {
         "hovertemplate": "Country=Aruba<br>Day=%{x}<br>Dead_per_million=%{y}<br>popData2018=%{marker.size}<extra></extra>",
         "legendgroup": "Aruba",
         "marker": {
          "color": "#B68100",
          "size": [
           105845,
           105845,
           105845,
           105845,
           105845
          ],
          "sizemode": "area",
          "sizeref": 3481825,
          "symbol": "circle"
         },
         "mode": "markers",
         "name": "Aruba",
         "showlegend": true,
         "type": "scattergl",
         "x": [
          1,
          2,
          3,
          4,
          5
         ],
         "xaxis": "x",
         "y": [
          9.447777410364212,
          9.447777410364212,
          18.895554820728425,
          18.895554820728425,
          18.895554820728425
         ],
         "yaxis": "y"
        },
        {
         "hovertemplate": "Country=Australia<br>Day=%{x}<br>Dead_per_million=%{y}<br>popData2018=%{marker.size}<extra></extra>",
         "legendgroup": "Australia",
         "marker": {
          "color": "#750D86",
          "size": [
           24992369,
           24992369,
           24992369,
           24992369,
           24992369,
           24992369,
           24992369,
           24992369,
           24992369,
           24992369,
           24992369,
           24992369,
           24992369,
           24992369,
           24992369,
           24992369,
           24992369
          ],
          "sizemode": "area",
          "sizeref": 3481825,
          "symbol": "circle"
         },
         "mode": "markers",
         "name": "Australia",
         "showlegend": true,
         "type": "scattergl",
         "x": [
          1,
          2,
          3,
          4,
          5,
          6,
          7,
          8,
          9,
          10,
          11,
          12,
          13,
          14,
          15,
          16,
          17
         ],
         "xaxis": "x",
         "y": [
          1.200366399839887,
          1.360415253151872,
          1.4404396798078645,
          1.680512959775842,
          1.8005495997598306,
          2.0006106663998118,
          2.0806350930558044,
          2.1606595197117966,
          2.2806961596957858,
          2.4407450130077706,
          2.4407450130077706,
          2.4407450130077706,
          2.5207694396637628,
          2.5207694396637628,
          2.6808182929757476,
          2.76084271963174,
          2.8008549329597368
         ],
         "yaxis": "y"
        },
        {
         "hovertemplate": "Country=Austria<br>Day=%{x}<br>Dead_per_million=%{y}<br>popData2018=%{marker.size}<extra></extra>",
         "legendgroup": "Austria",
         "marker": {
          "color": "#EB663B",
          "size": [
           8847037,
           8847037,
           8847037,
           8847037,
           8847037,
           8847037,
           8847037,
           8847037,
           8847037,
           8847037,
           8847037,
           8847037,
           8847037,
           8847037,
           8847037,
           8847037,
           8847037,
           8847037,
           8847037,
           8847037,
           8847037,
           8847037,
           8847037,
           8847037,
           8847037,
           8847037,
           8847037,
           8847037,
           8847037
          ],
          "sizemode": "area",
          "sizeref": 3481825,
          "symbol": "circle"
         },
         "mode": "markers",
         "name": "Austria",
         "showlegend": true,
         "type": "scattergl",
         "x": [
          1,
          2,
          3,
          4,
          5,
          6,
          7,
          8,
          9,
          10,
          11,
          12,
          13,
          14,
          15,
          16,
          17,
          18,
          19,
          20,
          21,
          22,
          23,
          24,
          25,
          26,
          27,
          28,
          29
         ],
         "xaxis": "x",
         "y": [
          1.8085150994621135,
          2.8258048429095526,
          3.3909658114914634,
          3.8430945863569916,
          5.877674073251869,
          7.686189172713983,
          7.686189172713983,
          9.720768659608861,
          12.207476921369267,
          14.468120795696908,
          16.50270028259179,
          17.859086607188374,
          18.989408544352194,
          21.02398803124707,
          23.05856751814195,
          24.867082617604062,
          27.466823073080853,
          30.85778888457232,
          33.34449714633272,
          36.05726979552589,
          38.09184928242077,
          39.56126780073374,
          41.595847287628615,
          43.40436238709073,
          44.42165213053817,
          46.34319942371666,
          48.71687549176069,
          50.07326181635727,
          51.090551559804716
         ],
         "yaxis": "y"
        },
        {
         "hovertemplate": "Country=Azerbaijan<br>Day=%{x}<br>Dead_per_million=%{y}<br>popData2018=%{marker.size}<extra></extra>",
         "legendgroup": "Azerbaijan",
         "marker": {
          "color": "#511CFB",
          "size": [
           9942334,
           9942334,
           9942334,
           9942334,
           9942334,
           9942334,
           9942334,
           9942334,
           9942334,
           9942334
          ],
          "sizemode": "area",
          "sizeref": 3481825,
          "symbol": "circle"
         },
         "mode": "markers",
         "name": "Azerbaijan",
         "showlegend": true,
         "type": "scattergl",
         "x": [
          1,
          2,
          3,
          4,
          5,
          6,
          7,
          8,
          9,
          10
         ],
         "xaxis": "x",
         "y": [
          1.0058000465484263,
          1.1063800512032687,
          1.1063800512032687,
          1.2069600558581113,
          1.3075400605129541,
          1.3075400605129541,
          1.5087000698226392,
          1.5087000698226392,
          1.810440083787167,
          1.9110200884420097
         ],
         "yaxis": "y"
        },
        {
         "hovertemplate": "Country=Bahamas<br>Day=%{x}<br>Dead_per_million=%{y}<br>popData2018=%{marker.size}<extra></extra>",
         "legendgroup": "Bahamas",
         "marker": {
          "color": "#00A08B",
          "size": [
           385640,
           385640,
           385640,
           385640,
           385640,
           385640,
           385640,
           385640,
           385640,
           385640,
           385640,
           385640,
           385640,
           385640,
           385640,
           385640,
           385640,
           385640,
           385640
          ],
          "sizemode": "area",
          "sizeref": 3481825,
          "symbol": "circle"
         },
         "mode": "markers",
         "name": "Bahamas",
         "showlegend": true,
         "type": "scattergl",
         "x": [
          1,
          2,
          3,
          4,
          5,
          6,
          7,
          8,
          9,
          10,
          11,
          12,
          13,
          14,
          15,
          16,
          17,
          18,
          19
         ],
         "xaxis": "x",
         "y": [
          2.593092002904263,
          2.593092002904263,
          7.779276008712789,
          10.372368011617052,
          12.965460014521314,
          12.965460014521314,
          15.558552017425578,
          18.151644020329844,
          20.744736023234104,
          20.744736023234104,
          20.744736023234104,
          20.744736023234104,
          20.744736023234104,
          20.744736023234104,
          20.744736023234104,
          23.337828026138368,
          23.337828026138368,
          23.337828026138368,
          23.337828026138368
         ],
         "yaxis": "y"
        },
        {
         "hovertemplate": "Country=Bahrain<br>Day=%{x}<br>Dead_per_million=%{y}<br>popData2018=%{marker.size}<extra></extra>",
         "legendgroup": "Bahrain",
         "marker": {
          "color": "#FB00D1",
          "size": [
           1569439,
           1569439,
           1569439,
           1569439,
           1569439,
           1569439,
           1569439,
           1569439,
           1569439,
           1569439,
           1569439,
           1569439,
           1569439,
           1569439,
           1569439,
           1569439,
           1569439,
           1569439,
           1569439,
           1569439,
           1569439,
           1569439,
           1569439,
           1569439,
           1569439,
           1569439,
           1569439,
           1569439,
           1569439
          ],
          "sizemode": "area",
          "sizeref": 3481825,
          "symbol": "circle"
         },
         "mode": "markers",
         "name": "Bahrain",
         "showlegend": true,
         "type": "scattergl",
         "x": [
          1,
          2,
          3,
          4,
          5,
          6,
          7,
          8,
          9,
          10,
          11,
          12,
          13,
          14,
          15,
          16,
          17,
          18,
          19,
          20,
          21,
          22,
          23,
          24,
          25,
          26,
          27,
          28,
          29
         ],
         "xaxis": "x",
         "y": [
          1.2743407039075747,
          1.2743407039075747,
          1.911511055861362,
          1.911511055861362,
          2.5486814078151494,
          2.5486814078151494,
          2.5486814078151494,
          2.5486814078151494,
          2.5486814078151494,
          2.5486814078151494,
          2.5486814078151494,
          2.5486814078151494,
          2.5486814078151494,
          2.5486814078151494,
          2.5486814078151494,
          2.5486814078151494,
          3.185851759768936,
          3.185851759768936,
          3.185851759768936,
          3.823022111722724,
          3.823022111722724,
          3.823022111722724,
          4.460192463676512,
          4.460192463676512,
          4.460192463676512,
          4.460192463676512,
          4.460192463676512,
          4.460192463676512,
          4.460192463676512
         ],
         "yaxis": "y"
        },
        {
         "hovertemplate": "Country=Barbados<br>Day=%{x}<br>Dead_per_million=%{y}<br>popData2018=%{marker.size}<extra></extra>",
         "legendgroup": "Barbados",
         "marker": {
          "color": "#FC0080",
          "size": [
           286641,
           286641,
           286641,
           286641,
           286641,
           286641,
           286641,
           286641,
           286641,
           286641,
           286641,
           286641,
           286641,
           286641,
           286641
          ],
          "sizemode": "area",
          "sizeref": 3481825,
          "symbol": "circle"
         },
         "mode": "markers",
         "name": "Barbados",
         "showlegend": true,
         "type": "scattergl",
         "x": [
          1,
          2,
          3,
          4,
          5,
          6,
          7,
          8,
          9,
          10,
          11,
          12,
          13,
          14,
          15
         ],
         "xaxis": "x",
         "y": [
          3.488684451980003,
          6.977368903960006,
          10.466053355940009,
          10.466053355940009,
          10.466053355940009,
          13.954737807920012,
          13.954737807920012,
          13.954737807920012,
          13.954737807920012,
          17.443422259900014,
          17.443422259900014,
          17.443422259900014,
          17.443422259900014,
          17.443422259900014,
          17.443422259900014
         ],
         "yaxis": "y"
        },
        {
         "hovertemplate": "Country=Belarus<br>Day=%{x}<br>Dead_per_million=%{y}<br>popData2018=%{marker.size}<extra></extra>",
         "legendgroup": "Belarus",
         "marker": {
          "color": "#B2828D",
          "size": [
           9485386,
           9485386,
           9485386,
           9485386,
           9485386,
           9485386,
           9485386,
           9485386,
           9485386,
           9485386,
           9485386,
           9485386,
           9485386,
           9485386
          ],
          "sizemode": "area",
          "sizeref": 3481825,
          "symbol": "circle"
         },
         "mode": "markers",
         "name": "Belarus",
         "showlegend": true,
         "type": "scattergl",
         "x": [
          1,
          2,
          3,
          4,
          5,
          6,
          7,
          8,
          9,
          10,
          11,
          12,
          13,
          14
         ],
         "xaxis": "x",
         "y": [
          1.3705293595853665,
          1.3705293595853665,
          1.3705293595853665,
          1.6868053656435278,
          2.0030813717016893,
          2.4247827131125717,
          2.741058719170733,
          3.0573347252288943,
          3.479036066639776,
          3.795312072697938,
          4.21701341410882,
          4.427864084814261,
          4.744140090872422,
          4.954990761577863
         ],
         "yaxis": "y"
        },
        {
         "hovertemplate": "Country=Belgium<br>Day=%{x}<br>Dead_per_million=%{y}<br>popData2018=%{marker.size}<extra></extra>",
         "legendgroup": "Belgium",
         "marker": {
          "color": "#6C7C32",
          "size": [
           11422068,
           11422068,
           11422068,
           11422068,
           11422068,
           11422068,
           11422068,
           11422068,
           11422068,
           11422068,
           11422068,
           11422068,
           11422068,
           11422068,
           11422068,
           11422068,
           11422068,
           11422068,
           11422068,
           11422068,
           11422068,
           11422068,
           11422068,
           11422068,
           11422068,
           11422068,
           11422068,
           11422068,
           11422068,
           11422068,
           11422068,
           11422068,
           11422068
          ],
          "sizemode": "area",
          "sizeref": 3481825,
          "symbol": "circle"
         },
         "mode": "markers",
         "name": "Belgium",
         "showlegend": true,
         "type": "scattergl",
         "x": [
          1,
          2,
          3,
          4,
          5,
          6,
          7,
          8,
          9,
          10,
          11,
          12,
          13,
          14,
          15,
          16,
          17,
          18,
          19,
          20,
          21,
          22,
          23,
          24,
          25,
          26,
          27,
          28,
          29,
          30,
          31,
          32,
          33
         ],
         "xaxis": "x",
         "y": [
          1.225697483152788,
          1.8385462247291822,
          3.2393433483323686,
          5.8658379550883435,
          6.566236516889936,
          7.704384179817525,
          10.681078067474296,
          15.583868000085449,
          19.260960449543813,
          25.301898045082552,
          30.9050865394953,
          37.733972517060835,
          44.913057775527164,
          61.7226232587654,
          72.49125114646489,
          88.51286824767634,
          100.06944451740263,
          112.32641934893051,
          126.68458986586317,
          142.881306607525,
          178.16388415828027,
          196.1115973044461,
          220.88819642817745,
          264.3129072598762,
          292.94169847351634,
          315.179352810717,
          341.70694833895226,
          363.94460267615284,
          388.7212017998842,
          425.22947683379226,
          452.0197218227032,
          477.409169688011,
          497.5456283398068
         ],
         "yaxis": "y"
        },
        {
         "hovertemplate": "Country=Belize<br>Day=%{x}<br>Dead_per_million=%{y}<br>popData2018=%{marker.size}<extra></extra>",
         "legendgroup": "Belize",
         "marker": {
          "color": "#778AAE",
          "size": [
           383071,
           383071,
           383071,
           383071,
           383071,
           383071,
           383071,
           383071,
           383071,
           383071,
           383071,
           383071,
           383071,
           383071,
           383071
          ],
          "sizemode": "area",
          "sizeref": 3481825,
          "symbol": "circle"
         },
         "mode": "markers",
         "name": "Belize",
         "showlegend": true,
         "type": "scattergl",
         "x": [
          1,
          2,
          3,
          4,
          5,
          6,
          7,
          8,
          9,
          10,
          11,
          12,
          13,
          14,
          15
         ],
         "xaxis": "x",
         "y": [
          2.6104821299445793,
          2.6104821299445793,
          2.6104821299445793,
          2.6104821299445793,
          2.6104821299445793,
          5.220964259889159,
          5.220964259889159,
          5.220964259889159,
          5.220964259889159,
          5.220964259889159,
          5.220964259889159,
          5.220964259889159,
          5.220964259889159,
          5.220964259889159,
          5.220964259889159
         ],
         "yaxis": "y"
        },
        {
         "hovertemplate": "Country=Bermuda<br>Day=%{x}<br>Dead_per_million=%{y}<br>popData2018=%{marker.size}<extra></extra>",
         "legendgroup": "Bermuda",
         "marker": {
          "color": "#862A16",
          "size": [
           63968,
           63968,
           63968,
           63968,
           63968,
           63968,
           63968,
           63968,
           63968,
           63968,
           63968,
           63968,
           63968,
           63968
          ],
          "sizemode": "area",
          "sizeref": 3481825,
          "symbol": "circle"
         },
         "mode": "markers",
         "name": "Bermuda",
         "showlegend": true,
         "type": "scattergl",
         "x": [
          1,
          2,
          3,
          4,
          5,
          6,
          7,
          8,
          9,
          10,
          11,
          12,
          13,
          14
         ],
         "xaxis": "x",
         "y": [
          31.265632816408203,
          31.265632816408203,
          46.89844922461231,
          62.53126563281641,
          62.53126563281641,
          62.53126563281641,
          62.53126563281641,
          62.53126563281641,
          78.1640820410205,
          78.1640820410205,
          78.1640820410205,
          78.1640820410205,
          78.1640820410205,
          78.1640820410205
         ],
         "yaxis": "y"
        },
        {
         "hovertemplate": "Country=Bolivia<br>Day=%{x}<br>Dead_per_million=%{y}<br>popData2018=%{marker.size}<extra></extra>",
         "legendgroup": "Bolivia",
         "marker": {
          "color": "#A777F1",
          "size": [
           11353142,
           11353142,
           11353142,
           11353142,
           11353142,
           11353142,
           11353142,
           11353142,
           11353142,
           11353142,
           11353142,
           11353142,
           11353142,
           11353142
          ],
          "sizemode": "area",
          "sizeref": 3481825,
          "symbol": "circle"
         },
         "mode": "markers",
         "name": "Bolivia",
         "showlegend": true,
         "type": "scattergl",
         "x": [
          1,
          2,
          3,
          4,
          5,
          6,
          7,
          8,
          9,
          10,
          11,
          12,
          13,
          14
         ],
         "xaxis": "x",
         "y": [
          1.2331388086223178,
          1.3212201520953408,
          1.585464182514409,
          1.6735455259874314,
          1.7616268694604542,
          2.113952243352545,
          2.378196273771613,
          2.4662776172446357,
          2.4662776172446357,
          2.554358960717659,
          2.730521647663704,
          2.730521647663704,
          2.8186029911367267,
          2.9066843346097495
         ],
         "yaxis": "y"
        },
        {
         "hovertemplate": "Country=Bosnia_and_Herzegovina<br>Day=%{x}<br>Dead_per_million=%{y}<br>popData2018=%{marker.size}<extra></extra>",
         "legendgroup": "Bosnia_and_Herzegovina",
         "marker": {
          "color": "#620042",
          "size": [
           3323929,
           3323929,
           3323929,
           3323929,
           3323929,
           3323929,
           3323929,
           3323929,
           3323929,
           3323929,
           3323929,
           3323929,
           3323929,
           3323929,
           3323929,
           3323929,
           3323929,
           3323929,
           3323929,
           3323929,
           3323929,
           3323929,
           3323929
          ],
          "sizemode": "area",
          "sizeref": 3481825,
          "symbol": "circle"
         },
         "mode": "markers",
         "name": "Bosnia_and_Herzegovina",
         "showlegend": true,
         "type": "scattergl",
         "x": [
          1,
          2,
          3,
          4,
          5,
          6,
          7,
          8,
          9,
          10,
          11,
          12,
          13,
          14,
          15,
          16,
          17,
          18,
          19,
          20,
          21,
          22,
          23
         ],
         "xaxis": "x",
         "y": [
          1.504243923381035,
          1.8050927080572419,
          2.4067902774096557,
          3.6101854161144837,
          3.9110342007906906,
          5.114429339495519,
          5.415278124171726,
          6.317824478200347,
          7.2203708322289675,
          8.423765970933795,
          9.627161109638623,
          10.529707463667243,
          10.830556248343452,
          11.131405033019659,
          11.131405033019659,
          11.432253817695864,
          11.432253817695864,
          11.733102602372073,
          12.03395138704828,
          12.334800171724487,
          13.237346525753107,
          13.538195310429314,
          13.839044095105521
         ],
         "yaxis": "y"
        },
        {
         "hovertemplate": "Country=Brazil<br>Day=%{x}<br>Dead_per_million=%{y}<br>popData2018=%{marker.size}<extra></extra>",
         "legendgroup": "Brazil",
         "marker": {
          "color": "#1616A7",
          "size": [
           209469333,
           209469333,
           209469333,
           209469333,
           209469333,
           209469333,
           209469333,
           209469333,
           209469333,
           209469333,
           209469333,
           209469333,
           209469333,
           209469333,
           209469333,
           209469333,
           209469333,
           209469333,
           209469333
          ],
          "sizemode": "area",
          "sizeref": 3481825,
          "symbol": "circle"
         },
         "mode": "markers",
         "name": "Brazil",
         "showlegend": true,
         "type": "scattergl",
         "x": [
          1,
          2,
          3,
          4,
          5,
          6,
          7,
          8,
          9,
          10,
          11,
          12,
          13,
          14,
          15,
          16,
          17,
          18,
          19
         ],
         "xaxis": "x",
         "y": [
          1.150526411424626,
          1.427416585128478,
          1.7138546958566008,
          2.062354397242483,
          2.320148696897794,
          2.640004587210864,
          3.1842369975942972,
          3.819174809708302,
          4.49230436991939,
          5.0413107488149596,
          5.365940607640165,
          5.838563490341567,
          6.339830184115782,
          7.313719760591399,
          8.287609337067016,
          9.185115417348467,
          10.221066584481845,
          11.204504097981733,
          11.7535104768773
         ],
         "yaxis": "y"
        },
        {
         "hovertemplate": "Country=British_Virgin_Islands<br>Day=%{x}<br>Dead_per_million=%{y}<br>popData2018=%{marker.size}<extra></extra>",
         "legendgroup": "British_Virgin_Islands",
         "marker": {
          "color": "#DA60CA",
          "size": [
           29802
          ],
          "sizemode": "area",
          "sizeref": 3481825,
          "symbol": "circle"
         },
         "mode": "markers",
         "name": "British_Virgin_Islands",
         "showlegend": true,
         "type": "scattergl",
         "x": [
          1
         ],
         "xaxis": "x",
         "y": [
          33.55479498020267
         ],
         "yaxis": "y"
        },
        {
         "hovertemplate": "Country=Brunei_Darussalam<br>Day=%{x}<br>Dead_per_million=%{y}<br>popData2018=%{marker.size}<extra></extra>",
         "legendgroup": "Brunei_Darussalam",
         "marker": {
          "color": "#6C4516",
          "size": [
           428962,
           428962,
           428962,
           428962,
           428962,
           428962,
           428962,
           428962,
           428962,
           428962,
           428962,
           428962,
           428962,
           428962,
           428962,
           428962,
           428962,
           428962,
           428962,
           428962,
           428962,
           428962,
           428962
          ],
          "sizemode": "area",
          "sizeref": 3481825,
          "symbol": "circle"
         },
         "mode": "markers",
         "name": "Brunei_Darussalam",
         "showlegend": true,
         "type": "scattergl",
         "x": [
          1,
          2,
          3,
          4,
          5,
          6,
          7,
          8,
          9,
          10,
          11,
          12,
          13,
          14,
          15,
          16,
          17,
          18,
          19,
          20,
          21,
          22,
          23
         ],
         "xaxis": "x",
         "y": [
          2.3312088250241283,
          2.3312088250241283,
          2.3312088250241283,
          2.3312088250241283,
          2.3312088250241283,
          2.3312088250241283,
          2.3312088250241283,
          2.3312088250241283,
          2.3312088250241283,
          2.3312088250241283,
          2.3312088250241283,
          2.3312088250241283,
          2.3312088250241283,
          2.3312088250241283,
          2.3312088250241283,
          2.3312088250241283,
          2.3312088250241283,
          2.3312088250241283,
          2.3312088250241283,
          2.3312088250241283,
          2.3312088250241283,
          2.3312088250241283,
          2.3312088250241283
         ],
         "yaxis": "y"
        },
        {
         "hovertemplate": "Country=Bulgaria<br>Day=%{x}<br>Dead_per_million=%{y}<br>popData2018=%{marker.size}<extra></extra>",
         "legendgroup": "Bulgaria",
         "marker": {
          "color": "#0D2A63",
          "size": [
           7024216,
           7024216,
           7024216,
           7024216,
           7024216,
           7024216,
           7024216,
           7024216,
           7024216,
           7024216,
           7024216,
           7024216,
           7024216,
           7024216,
           7024216,
           7024216,
           7024216,
           7024216,
           7024216,
           7024216,
           7024216,
           7024216
          ],
          "sizemode": "area",
          "sizeref": 3481825,
          "symbol": "circle"
         },
         "mode": "markers",
         "name": "Bulgaria",
         "showlegend": true,
         "type": "scattergl",
         "x": [
          1,
          2,
          3,
          4,
          5,
          6,
          7,
          8,
          9,
          10,
          11,
          12,
          13,
          14,
          15,
          16,
          17,
          18,
          19,
          20,
          21,
          22
         ],
         "xaxis": "x",
         "y": [
          1.1389171403612872,
          1.1389171403612872,
          1.1389171403612872,
          1.4236464254516092,
          1.4236464254516092,
          1.9931049956322529,
          2.4201989232677352,
          2.8472928509032185,
          3.13202213599354,
          3.2743867785387013,
          3.416751421083862,
          3.416751421083862,
          3.5591160636290224,
          3.9862099912645057,
          4.1285746338096665,
          4.555668561445149,
          4.982762489080632,
          5.125127131625793,
          5.4098564167161145,
          5.836950344351597,
          5.836950344351597,
          6.121679629441919
         ],
         "yaxis": "y"
        },
        {
         "hovertemplate": "Country=Burkina_Faso<br>Day=%{x}<br>Dead_per_million=%{y}<br>popData2018=%{marker.size}<extra></extra>",
         "legendgroup": "Burkina_Faso",
         "marker": {
          "color": "#AF0038",
          "size": [
           19751535,
           19751535,
           19751535,
           19751535,
           19751535,
           19751535,
           19751535,
           19751535,
           19751535,
           19751535,
           19751535,
           19751535
          ],
          "sizemode": "area",
          "sizeref": 3481825,
          "symbol": "circle"
         },
         "mode": "markers",
         "name": "Burkina_Faso",
         "showlegend": true,
         "type": "scattergl",
         "x": [
          1,
          2,
          3,
          4,
          5,
          6,
          7,
          8,
          9,
          10,
          11,
          12
         ],
         "xaxis": "x",
         "y": [
          1.1644664579233968,
          1.215095434354849,
          1.3163533872177529,
          1.3669823636492051,
          1.3669823636492051,
          1.4176113400806571,
          1.518869292943561,
          1.620127245806465,
          1.620127245806465,
          1.7720141751008214,
          1.8226431515322732,
          1.8226431515322732
         ],
         "yaxis": "y"
        },
        {
         "hovertemplate": "Country=Cameroon<br>Day=%{x}<br>Dead_per_million=%{y}<br>popData2018=%{marker.size}<extra></extra>",
         "legendgroup": "Cameroon",
         "marker": {
          "color": "#2E91E5",
          "size": [
           25216237
          ],
          "sizemode": "area",
          "sizeref": 3481825,
          "symbol": "circle"
         },
         "mode": "markers",
         "name": "Cameroon",
         "showlegend": true,
         "type": "scattergl",
         "x": [
          1
         ],
         "xaxis": "x",
         "y": [
          1.6655934824851146
         ],
         "yaxis": "y"
        },
        {
         "hovertemplate": "Country=Canada<br>Day=%{x}<br>Dead_per_million=%{y}<br>popData2018=%{marker.size}<extra></extra>",
         "legendgroup": "Canada",
         "marker": {
          "color": "#E15F99",
          "size": [
           37058856,
           37058856,
           37058856,
           37058856,
           37058856,
           37058856,
           37058856,
           37058856,
           37058856,
           37058856,
           37058856,
           37058856,
           37058856,
           37058856,
           37058856,
           37058856,
           37058856,
           37058856,
           37058856,
           37058856,
           37058856,
           37058856,
           37058856,
           37058856,
           37058856
          ],
          "sizemode": "area",
          "sizeref": 3481825,
          "symbol": "circle"
         },
         "mode": "markers",
         "name": "Canada",
         "showlegend": true,
         "type": "scattergl",
         "x": [
          1,
          2,
          3,
          4,
          5,
          6,
          7,
          8,
          9,
          10,
          11,
          12,
          13,
          14,
          15,
          16,
          17,
          18,
          19,
          20,
          21,
          22,
          23,
          24,
          25
         ],
         "xaxis": "x",
         "y": [
          1.0523800302955926,
          1.4301574770683692,
          1.6190462004547577,
          1.6460303037956703,
          2.4015851973412237,
          2.590473920727612,
          2.9412672641594764,
          3.723806261045943,
          5.0460273247506615,
          6.2333278717508165,
          7.555548935455536,
          8.71586537911478,
          10.2539592695468,
          11.738084953296992,
          13.734908600524529,
          15.353954800979285,
          17.620619481615943,
          19.347602095434354,
          21.04760060591185,
          24.366645316844103,
          27.253944374321755,
          32.19203528570877,
          35.32219127325463,
          39.58567960111883,
          42.63488327864195
         ],
         "yaxis": "y"
        },
        {
         "hovertemplate": "Country=Cape_Verde<br>Day=%{x}<br>Dead_per_million=%{y}<br>popData2018=%{marker.size}<extra></extra>",
         "legendgroup": "Cape_Verde",
         "marker": {
          "color": "#1CA71C",
          "size": [
           543767,
           543767,
           543767,
           543767,
           543767,
           543767,
           543767,
           543767,
           543767,
           543767,
           543767,
           543767,
           543767,
           543767,
           543767,
           543767,
           543767,
           543767,
           543767,
           543767,
           543767,
           543767,
           543767,
           543767,
           543767,
           543767,
           543767
          ],
          "sizemode": "area",
          "sizeref": 3481825,
          "symbol": "circle"
         },
         "mode": "markers",
         "name": "Cape_Verde",
         "showlegend": true,
         "type": "scattergl",
         "x": [
          1,
          2,
          3,
          4,
          5,
          6,
          7,
          8,
          9,
          10,
          11,
          12,
          13,
          14,
          15,
          16,
          17,
          18,
          19,
          20,
          21,
          22,
          23,
          24,
          25,
          26,
          27
         ],
         "xaxis": "x",
         "y": [
          1.83902296387975,
          1.83902296387975,
          1.83902296387975,
          1.83902296387975,
          1.83902296387975,
          1.83902296387975,
          1.83902296387975,
          1.83902296387975,
          1.83902296387975,
          1.83902296387975,
          1.83902296387975,
          1.83902296387975,
          1.83902296387975,
          1.83902296387975,
          1.83902296387975,
          1.83902296387975,
          1.83902296387975,
          1.83902296387975,
          1.83902296387975,
          1.83902296387975,
          1.83902296387975,
          1.83902296387975,
          1.83902296387975,
          1.83902296387975,
          1.83902296387975,
          1.83902296387975,
          1.83902296387975
         ],
         "yaxis": "y"
        },
        {
         "hovertemplate": "Country=Cases_on_an_international_conveyance_Japan<br>Day=%{x}<br>Dead_per_million=%{y}<br>popData2018=%{marker.size}<extra></extra>",
         "legendgroup": "Cases_on_an_international_conveyance_Japan",
         "marker": {
          "color": "#FB0D0D",
          "size": [
           3000,
           3000,
           3000,
           3000,
           3000,
           3000,
           3000,
           3000,
           3000,
           3000,
           3000,
           3000,
           3000
          ],
          "sizemode": "area",
          "sizeref": 3481825,
          "symbol": "circle"
         },
         "mode": "markers",
         "name": "Cases_on_an_international_conveyance_Japan",
         "showlegend": true,
         "type": "scattergl",
         "x": [
          1,
          2,
          3,
          4,
          5,
          6,
          7,
          8,
          9,
          10,
          11,
          12,
          13
         ],
         "xaxis": "x",
         "y": [
          666.6666666666666,
          666.6666666666666,
          666.6666666666666,
          666.6666666666666,
          1000,
          1000,
          1333.3333333333333,
          1333.3333333333333,
          1333.3333333333333,
          2000,
          2000,
          2000,
          2333.3333333333335
         ],
         "yaxis": "y"
        },
        {
         "hovertemplate": "Country=Cayman_Islands<br>Day=%{x}<br>Dead_per_million=%{y}<br>popData2018=%{marker.size}<extra></extra>",
         "legendgroup": "Cayman_Islands",
         "marker": {
          "color": "#DA16FF",
          "size": [
           64174,
           64174,
           64174,
           64174,
           64174,
           64174,
           64174,
           64174,
           64174,
           64174,
           64174,
           64174,
           64174,
           64174,
           64174,
           64174,
           64174,
           64174,
           64174,
           64174,
           64174,
           64174,
           64174,
           64174,
           64174,
           64174,
           64174,
           64174,
           64174,
           64174,
           64174
          ],
          "sizemode": "area",
          "sizeref": 3481825,
          "symbol": "circle"
         },
         "mode": "markers",
         "name": "Cayman_Islands",
         "showlegend": true,
         "type": "scattergl",
         "x": [
          1,
          2,
          3,
          4,
          5,
          6,
          7,
          8,
          9,
          10,
          11,
          12,
          13,
          14,
          15,
          16,
          17,
          18,
          19,
          20,
          21,
          22,
          23,
          24,
          25,
          26,
          27,
          28,
          29,
          30,
          31
         ],
         "xaxis": "x",
         "y": [
          15.582634711877086,
          15.582634711877086,
          15.582634711877086,
          15.582634711877086,
          15.582634711877086,
          15.582634711877086,
          15.582634711877086,
          15.582634711877086,
          15.582634711877086,
          15.582634711877086,
          15.582634711877086,
          15.582634711877086,
          15.582634711877086,
          15.582634711877086,
          15.582634711877086,
          15.582634711877086,
          15.582634711877086,
          15.582634711877086,
          15.582634711877086,
          15.582634711877086,
          15.582634711877086,
          15.582634711877086,
          15.582634711877086,
          15.582634711877086,
          15.582634711877086,
          15.582634711877086,
          15.582634711877086,
          15.582634711877086,
          15.582634711877086,
          15.582634711877086,
          15.582634711877086
         ],
         "yaxis": "y"
        },
        {
         "hovertemplate": "Country=Chile<br>Day=%{x}<br>Dead_per_million=%{y}<br>popData2018=%{marker.size}<extra></extra>",
         "legendgroup": "Chile",
         "marker": {
          "color": "#222A2A",
          "size": [
           18729160,
           18729160,
           18729160,
           18729160,
           18729160,
           18729160,
           18729160,
           18729160,
           18729160,
           18729160,
           18729160,
           18729160,
           18729160,
           18729160,
           18729160,
           18729160,
           18729160
          ],
          "sizemode": "area",
          "sizeref": 3481825,
          "symbol": "circle"
         },
         "mode": "markers",
         "name": "Chile",
         "showlegend": true,
         "type": "scattergl",
         "x": [
          1,
          2,
          3,
          4,
          5,
          6,
          7,
          8,
          9,
          10,
          11,
          12,
          13,
          14,
          15,
          16,
          17
         ],
         "xaxis": "x",
         "y": [
          1.1746389053219686,
          1.441602292895143,
          1.8153510354975877,
          1.9755290680414928,
          2.295885133129302,
          2.5628485207024765,
          3.043382618334191,
          3.4705240384512708,
          3.8976654585683503,
          4.271414201170795,
          4.378199556200064,
          4.912126331346413,
          5.0189116863756835,
          5.606231139036669,
          6.193550591697652,
          6.727477366844001,
          7.101226109446446
         ],
         "yaxis": "y"
        },
        {
         "hovertemplate": "Country=China<br>Day=%{x}<br>Dead_per_million=%{y}<br>popData2018=%{marker.size}<extra></extra>",
         "legendgroup": "China",
         "marker": {
          "color": "#B68100",
          "size": [
           1392730000,
           1392730000,
           1392730000,
           1392730000,
           1392730000,
           1392730000,
           1392730000,
           1392730000,
           1392730000,
           1392730000,
           1392730000,
           1392730000,
           1392730000,
           1392730000,
           1392730000,
           1392730000,
           1392730000,
           1392730000,
           1392730000,
           1392730000,
           1392730000,
           1392730000,
           1392730000,
           1392730000,
           1392730000,
           1392730000,
           1392730000,
           1392730000,
           1392730000,
           1392730000,
           1392730000,
           1392730000,
           1392730000,
           1392730000,
           1392730000,
           1392730000,
           1392730000,
           1392730000,
           1392730000,
           1392730000,
           1392730000,
           1392730000,
           1392730000,
           1392730000,
           1392730000,
           1392730000,
           1392730000,
           1392730000,
           1392730000,
           1392730000,
           1392730000,
           1392730000,
           1392730000,
           1392730000,
           1392730000,
           1392730000,
           1392730000,
           1392730000,
           1392730000,
           1392730000,
           1392730000,
           1392730000,
           1392730000,
           1392730000,
           1392730000,
           1392730000
          ],
          "sizemode": "area",
          "sizeref": 3481825,
          "symbol": "circle"
         },
         "mode": "markers",
         "name": "China",
         "showlegend": true,
         "type": "scattergl",
         "x": [
          1,
          2,
          3,
          4,
          5,
          6,
          7,
          8,
          9,
          10,
          11,
          12,
          13,
          14,
          15,
          16,
          17,
          18,
          19,
          20,
          21,
          22,
          23,
          24,
          25,
          26,
          27,
          28,
          29,
          30,
          31,
          32,
          33,
          34,
          35,
          36,
          37,
          38,
          39,
          40,
          41,
          42,
          43,
          44,
          45,
          46,
          47,
          48,
          49,
          50,
          51,
          52,
          53,
          54,
          55,
          56,
          57,
          58,
          59,
          60,
          61,
          62,
          63,
          64,
          65,
          66
         ],
         "xaxis": "x",
         "y": [
          1.0942537318791152,
          1.1962117567654895,
          1.2716032540406252,
          1.3419686514974187,
          1.4417726336045034,
          1.5221902306979818,
          1.6069159133500392,
          1.685179467664228,
          1.7555448651210213,
          1.8632470040855011,
          1.9135080022689248,
          1.9508447437766112,
          1.9716671573097442,
          2.003259784739325,
          2.0370064549481954,
          2.0621369540399073,
          2.0922935529499616,
          2.115270009262384,
          2.141836536873622,
          2.1640949789262813,
          2.1856354067191774,
          2.2057398059925473,
          2.225126191006153,
          2.241640518980707,
          2.253846761396681,
          2.2696430751114716,
          2.2775412319688666,
          2.2825673317872095,
          2.293337545683657,
          2.299799674021526,
          2.309133859398448,
          2.3155959877363164,
          2.3270842158925276,
          2.332828329970633,
          2.335700387009686,
          2.3400084725682655,
          2.3443165581268444,
          2.350778686464713,
          2.3558047862830556,
          2.358676843322108,
          2.362984928880688,
          2.3665750001795036,
          2.368729042958793,
          2.372319114257609,
          2.3737551427771355,
          2.375909185556425,
          2.376627199816188,
          2.3809352853747674,
          2.3881154279723997,
          2.3909874850114523,
          2.393141527790742,
          2.3945775563102685,
          2.3945775563102685,
          2.3960135848297948,
          2.397449613349321,
          2.398167627609084,
          2.400321670388374,
          2.400321670388374,
          2.4017576989079004,
          2.4017576989079004,
          2.4024757131676635,
          2.4024757131676635,
          3.32871410826219,
          3.32871410826219,
          3.32871410826219,
          3.32871410826219
         ],
         "yaxis": "y"
        },
        {
         "hovertemplate": "Country=Colombia<br>Day=%{x}<br>Dead_per_million=%{y}<br>popData2018=%{marker.size}<extra></extra>",
         "legendgroup": "Colombia",
         "marker": {
          "color": "#750D86",
          "size": [
           49648685,
           49648685,
           49648685,
           49648685,
           49648685,
           49648685,
           49648685,
           49648685,
           49648685,
           49648685,
           49648685,
           49648685,
           49648685
          ],
          "sizemode": "area",
          "sizeref": 3481825,
          "symbol": "circle"
         },
         "mode": "markers",
         "name": "Colombia",
         "showlegend": true,
         "type": "scattergl",
         "x": [
          1,
          2,
          3,
          4,
          5,
          6,
          7,
          8,
          9,
          10,
          11,
          12,
          13
         ],
         "xaxis": "x",
         "y": [
          1.0070760182268674,
          1.1077836200495543,
          1.3897649051530772,
          1.611321629162988,
          2.014152036453735,
          2.1954257197345712,
          2.255850280828183,
          2.557973086296243,
          2.638539167754393,
          2.900378932493378,
          3.0816526157742143,
          3.3434923805132,
          3.6053321452521856
         ],
         "yaxis": "y"
        },
        {
         "hovertemplate": "Country=Congo<br>Day=%{x}<br>Dead_per_million=%{y}<br>popData2018=%{marker.size}<extra></extra>",
         "legendgroup": "Congo",
         "marker": {
          "color": "#EB663B",
          "size": [
           5244363,
           5244363,
           5244363
          ],
          "sizemode": "area",
          "sizeref": 3481825,
          "symbol": "circle"
         },
         "mode": "markers",
         "name": "Congo",
         "showlegend": true,
         "type": "scattergl",
         "x": [
          1,
          2,
          3
         ],
         "xaxis": "x",
         "y": [
          1.1440855638711507,
          1.1440855638711507,
          1.1440855638711507
         ],
         "yaxis": "y"
        },
        {
         "hovertemplate": "Country=Croatia<br>Day=%{x}<br>Dead_per_million=%{y}<br>popData2018=%{marker.size}<extra></extra>",
         "legendgroup": "Croatia",
         "marker": {
          "color": "#511CFB",
          "size": [
           4089400,
           4089400,
           4089400,
           4089400,
           4089400,
           4089400,
           4089400,
           4089400,
           4089400,
           4089400,
           4089400,
           4089400,
           4089400,
           4089400,
           4089400,
           4089400,
           4089400,
           4089400,
           4089400,
           4089400,
           4089400,
           4089400,
           4089400
          ],
          "sizemode": "area",
          "sizeref": 3481825,
          "symbol": "circle"
         },
         "mode": "markers",
         "name": "Croatia",
         "showlegend": true,
         "type": "scattergl",
         "x": [
          1,
          2,
          3,
          4,
          5,
          6,
          7,
          8,
          9,
          10,
          11,
          12,
          13,
          14,
          15,
          16,
          17,
          18,
          19,
          20,
          21,
          22,
          23
         ],
         "xaxis": "x",
         "y": [
          1.2226732527999218,
          1.4672079033599061,
          1.4672079033599061,
          1.4672079033599061,
          1.4672079033599061,
          1.7117425539198905,
          1.9562772044798749,
          2.9344158067198123,
          3.6680197583997654,
          3.9125544089597497,
          4.401623710079718,
          4.646158360639703,
          4.890693011199687,
          5.1352276617596715,
          5.1352276617596715,
          5.62429696287964,
          6.113366263999609,
          7.580574167359514,
          8.314178119039468,
          8.558712769599452,
          8.803247420159437,
          9.53685137183939,
          11.493128576319265
         ],
         "yaxis": "y"
        },
        {
         "hovertemplate": "Country=Cuba<br>Day=%{x}<br>Dead_per_million=%{y}<br>popData2018=%{marker.size}<extra></extra>",
         "legendgroup": "Cuba",
         "marker": {
          "color": "#00A08B",
          "size": [
           11338138,
           11338138,
           11338138,
           11338138,
           11338138,
           11338138,
           11338138,
           11338138,
           11338138,
           11338138,
           11338138,
           11338138
          ],
          "sizemode": "area",
          "sizeref": 3481825,
          "symbol": "circle"
         },
         "mode": "markers",
         "name": "Cuba",
         "showlegend": true,
         "type": "scattergl",
         "x": [
          1,
          2,
          3,
          4,
          5,
          6,
          7,
          8,
          9,
          10,
          11,
          12
         ],
         "xaxis": "x",
         "y": [
          1.0583748407366358,
          1.322968550920795,
          1.322968550920795,
          1.4111664543155147,
          1.587562261104954,
          1.852155971289113,
          1.852155971289113,
          2.1167496814732716,
          2.3813433916574307,
          2.7341350052363094,
          2.8223329086310294,
          2.9987287154204685
         ],
         "yaxis": "y"
        },
        {
         "hovertemplate": "Country=Curaçao<br>Day=%{x}<br>Dead_per_million=%{y}<br>popData2018=%{marker.size}<extra></extra>",
         "legendgroup": "Curaçao",
         "marker": {
          "color": "#FB00D1",
          "size": [
           159849,
           159849,
           159849,
           159849,
           159849,
           159849,
           159849,
           159849,
           159849,
           159849,
           159849,
           159849,
           159849,
           159849,
           159849,
           159849,
           159849,
           159849,
           159849,
           159849,
           159849,
           159849,
           159849,
           159849,
           159849
          ],
          "sizemode": "area",
          "sizeref": 3481825,
          "symbol": "circle"
         },
         "mode": "markers",
         "name": "Curaçao",
         "showlegend": true,
         "type": "scattergl",
         "x": [
          1,
          2,
          3,
          4,
          5,
          6,
          7,
          8,
          9,
          10,
          11,
          12,
          13,
          14,
          15,
          16,
          17,
          18,
          19,
          20,
          21,
          22,
          23,
          24,
          25
         ],
         "xaxis": "x",
         "y": [
          6.25590400940888,
          6.25590400940888,
          6.25590400940888,
          6.25590400940888,
          6.25590400940888,
          6.25590400940888,
          6.25590400940888,
          6.25590400940888,
          6.25590400940888,
          6.25590400940888,
          6.25590400940888,
          6.25590400940888,
          6.25590400940888,
          6.25590400940888,
          6.25590400940888,
          6.25590400940888,
          6.25590400940888,
          6.25590400940888,
          6.25590400940888,
          6.25590400940888,
          6.25590400940888,
          6.25590400940888,
          6.25590400940888,
          6.25590400940888,
          6.25590400940888
         ],
         "yaxis": "y"
        },
        {
         "hovertemplate": "Country=Cyprus<br>Day=%{x}<br>Dead_per_million=%{y}<br>popData2018=%{marker.size}<extra></extra>",
         "legendgroup": "Cyprus",
         "marker": {
          "color": "#FC0080",
          "size": [
           1189265,
           1189265,
           1189265,
           1189265,
           1189265,
           1189265,
           1189265,
           1189265,
           1189265,
           1189265,
           1189265,
           1189265,
           1189265,
           1189265,
           1189265,
           1189265,
           1189265,
           1189265,
           1189265,
           1189265,
           1189265,
           1189265,
           1189265,
           1189265,
           1189265,
           1189265,
           1189265
          ],
          "sizemode": "area",
          "sizeref": 3481825,
          "symbol": "circle"
         },
         "mode": "markers",
         "name": "Cyprus",
         "showlegend": true,
         "type": "scattergl",
         "x": [
          1,
          2,
          3,
          4,
          5,
          6,
          7,
          8,
          9,
          10,
          11,
          12,
          13,
          14,
          15,
          16,
          17,
          18,
          19,
          20,
          21,
          22,
          23,
          24,
          25,
          26,
          27
         ],
         "xaxis": "x",
         "y": [
          2.522566459115504,
          2.522566459115504,
          2.522566459115504,
          4.204277431859174,
          4.204277431859174,
          5.045132918231008,
          5.885988404602843,
          6.726843890974678,
          7.567699377346512,
          7.567699377346512,
          9.249410350090182,
          9.249410350090182,
          11.771976809205686,
          11.771976809205686,
          11.771976809205686,
          11.771976809205686,
          12.61283229557752,
          12.61283229557752,
          12.61283229557752,
          13.453687781949355,
          14.29454326832119,
          14.29454326832119,
          14.29454326832119,
          14.29454326832119,
          14.29454326832119,
          14.29454326832119,
          14.29454326832119
         ],
         "yaxis": "y"
        },
        {
         "hovertemplate": "Country=Czech_Republic<br>Day=%{x}<br>Dead_per_million=%{y}<br>popData2018=%{marker.size}<extra></extra>",
         "legendgroup": "Czech_Republic",
         "marker": {
          "color": "#B2828D",
          "size": [
           10625695,
           10625695,
           10625695,
           10625695,
           10625695,
           10625695,
           10625695,
           10625695,
           10625695,
           10625695,
           10625695,
           10625695,
           10625695,
           10625695,
           10625695,
           10625695,
           10625695,
           10625695,
           10625695,
           10625695,
           10625695,
           10625695,
           10625695
          ],
          "sizemode": "area",
          "sizeref": 3481825,
          "symbol": "circle"
         },
         "mode": "markers",
         "name": "Czech_Republic",
         "showlegend": true,
         "type": "scattergl",
         "x": [
          1,
          2,
          3,
          4,
          5,
          6,
          7,
          8,
          9,
          10,
          11,
          12,
          13,
          14,
          15,
          16,
          17,
          18,
          19,
          20,
          21,
          22,
          23
         ],
         "xaxis": "x",
         "y": [
          1.035226401661256,
          1.505783856961827,
          2.2586757854427404,
          2.9174562228635397,
          3.670348151344453,
          4.140905606645024,
          4.987909026186052,
          5.552577972546737,
          6.30546990102765,
          7.340696302688906,
          8.281811213290048,
          9.317037614951303,
          10.540486998732788,
          11.199267436153589,
          12.14038234675473,
          12.987385766295759,
          13.457943221596329,
          15.151950060678384,
          15.622507515978953,
          15.904841989159298,
          16.281287953399755,
          17.034179881880668,
          17.692960319301466
         ],
         "yaxis": "y"
        },
        {
         "hovertemplate": "Country=Denmark<br>Day=%{x}<br>Dead_per_million=%{y}<br>popData2018=%{marker.size}<extra></extra>",
         "legendgroup": "Denmark",
         "marker": {
          "color": "#6C7C32",
          "size": [
           5797446,
           5797446,
           5797446,
           5797446,
           5797446,
           5797446,
           5797446,
           5797446,
           5797446,
           5797446,
           5797446,
           5797446,
           5797446,
           5797446,
           5797446,
           5797446,
           5797446,
           5797446,
           5797446,
           5797446,
           5797446,
           5797446,
           5797446,
           5797446,
           5797446,
           5797446,
           5797446,
           5797446,
           5797446,
           5797446,
           5797446,
           5797446
          ],
          "sizemode": "area",
          "sizeref": 3481825,
          "symbol": "circle"
         },
         "mode": "markers",
         "name": "Denmark",
         "showlegend": true,
         "type": "scattergl",
         "x": [
          1,
          2,
          3,
          4,
          5,
          6,
          7,
          8,
          9,
          10,
          11,
          12,
          13,
          14,
          15,
          16,
          17,
          18,
          19,
          20,
          21,
          22,
          23,
          24,
          25,
          26,
          27,
          28,
          29,
          30,
          31,
          32
         ],
         "xaxis": "x",
         "y": [
          1.0349384884309403,
          1.55240773264641,
          2.2423667249337034,
          2.2423667249337034,
          4.139753953723761,
          5.519671938298347,
          5.864651434441995,
          7.072079670944757,
          8.969466899734813,
          11.211833624668518,
          12.41926186117128,
          13.281710601530397,
          15.524077326464102,
          17.938933799469627,
          21.216239012834272,
          23.976074981983448,
          27.77084943956356,
          30.87566490485638,
          32.25558288943097,
          35.01541885858014,
          37.60276507965749,
          40.880070293022136,
          42.60496777374036,
          44.84733449867407,
          47.089701223607776,
          49.15957820046965,
          51.57443467347518,
          53.299332154193415,
          55.3692091310553,
          57.956555352132646,
          59.68145283285088,
          61.233860565497295
         ],
         "yaxis": "y"
        },
        {
         "hovertemplate": "Country=Djibouti<br>Day=%{x}<br>Dead_per_million=%{y}<br>popData2018=%{marker.size}<extra></extra>",
         "legendgroup": "Djibouti",
         "marker": {
          "color": "#778AAE",
          "size": [
           958920,
           958920,
           958920,
           958920,
           958920,
           958920,
           958920,
           958920,
           958920,
           958920,
           958920
          ],
          "sizemode": "area",
          "sizeref": 3481825,
          "symbol": "circle"
         },
         "mode": "markers",
         "name": "Djibouti",
         "showlegend": true,
         "type": "scattergl",
         "x": [
          1,
          2,
          3,
          4,
          5,
          6,
          7,
          8,
          9,
          10,
          11
         ],
         "xaxis": "x",
         "y": [
          1.0428398615108665,
          1.0428398615108665,
          2.085679723021733,
          2.085679723021733,
          2.085679723021733,
          2.085679723021733,
          2.085679723021733,
          2.085679723021733,
          2.085679723021733,
          2.085679723021733,
          2.085679723021733
         ],
         "yaxis": "y"
        },
        {
         "hovertemplate": "Country=Dominican_Republic<br>Day=%{x}<br>Dead_per_million=%{y}<br>popData2018=%{marker.size}<extra></extra>",
         "legendgroup": "Dominican_Republic",
         "marker": {
          "color": "#862A16",
          "size": [
           10627165,
           10627165,
           10627165,
           10627165,
           10627165,
           10627165,
           10627165,
           10627165,
           10627165,
           10627165,
           10627165,
           10627165,
           10627165,
           10627165,
           10627165,
           10627165,
           10627165,
           10627165,
           10627165,
           10627165,
           10627165,
           10627165,
           10627165,
           10627165
          ],
          "sizemode": "area",
          "sizeref": 3481825,
          "symbol": "circle"
         },
         "mode": "markers",
         "name": "Dominican_Republic",
         "showlegend": true,
         "type": "scattergl",
         "x": [
          1,
          2,
          3,
          4,
          5,
          6,
          7,
          8,
          9,
          10,
          11,
          12,
          13,
          14,
          15,
          16,
          17,
          18,
          19,
          20,
          21,
          22,
          23,
          24
         ],
         "xaxis": "x",
         "y": [
          1.8819694622225211,
          2.63475724711153,
          3.6698404513339162,
          3.952135870667295,
          4.799022128667429,
          5.363612967334186,
          5.645908386667564,
          6.398696171556572,
          7.245582429556706,
          7.716074795112338,
          8.092468687556842,
          9.221650364890353,
          10.162635096001615,
          11.103619827112876,
          11.856407612001883,
          12.703293870002017,
          16.279035848224808,
          16.655429740669312,
          17.220020579336072,
          17.78461141800283,
          18.443300729780706,
          18.81969462222521,
          20.419368665114355,
          21.26625492311449
         ],
         "yaxis": "y"
        },
        {
         "hovertemplate": "Country=Ecuador<br>Day=%{x}<br>Dead_per_million=%{y}<br>popData2018=%{marker.size}<extra></extra>",
         "legendgroup": "Ecuador",
         "marker": {
          "color": "#A777F1",
          "size": [
           17084357,
           17084357,
           17084357,
           17084357,
           17084357,
           17084357,
           17084357,
           17084357,
           17084357,
           17084357,
           17084357,
           17084357,
           17084357,
           17084357,
           17084357,
           17084357,
           17084357,
           17084357,
           17084357,
           17084357,
           17084357,
           17084357,
           17084357,
           17084357,
           17084357,
           17084357,
           17084357,
           17084357
          ],
          "sizemode": "area",
          "sizeref": 3481825,
          "symbol": "circle"
         },
         "mode": "markers",
         "name": "Ecuador",
         "showlegend": true,
         "type": "scattergl",
         "x": [
          1,
          2,
          3,
          4,
          5,
          6,
          7,
          8,
          9,
          10,
          11,
          12,
          13,
          14,
          15,
          16,
          17,
          18,
          19,
          20,
          21,
          22,
          23,
          24,
          25,
          26,
          27,
          28
         ],
         "xaxis": "x",
         "y": [
          1.0535954030930166,
          1.5803931046395248,
          1.697459260538749,
          1.9901246502868093,
          2.399856195934093,
          2.8095877415813777,
          3.394918521077498,
          3.629050832875946,
          4.624113158019351,
          7.0239693539534445,
          7.0239693539534445,
          8.487296302693744,
          10.06768940733327,
          10.535954030930167,
          11.179817888375897,
          12.877277148914649,
          14.165004863806113,
          15.920997202294474,
          17.384324151034775,
          18.43791955412779,
          19.491514957220808,
          20.77924267211227,
          20.77924267211227,
          22.71083424444947,
          23.58883041369365,
          24.642425816786666,
          26.691083545023087,
          27.744678948116103
         ],
         "yaxis": "y"
        },
        {
         "hovertemplate": "Country=Egypt<br>Day=%{x}<br>Dead_per_million=%{y}<br>popData2018=%{marker.size}<extra></extra>",
         "legendgroup": "Egypt",
         "marker": {
          "color": "#620042",
          "size": [
           98423595,
           98423595,
           98423595,
           98423595,
           98423595,
           98423595,
           98423595,
           98423595,
           98423595,
           98423595,
           98423595,
           98423595
          ],
          "sizemode": "area",
          "sizeref": 3481825,
          "symbol": "circle"
         },
         "mode": "markers",
         "name": "Egypt",
         "showlegend": true,
         "type": "scattergl",
         "x": [
          1,
          2,
          3,
          4,
          5,
          6,
          7,
          8,
          9,
          10,
          11,
          12
         ],
         "xaxis": "x",
         "y": [
          1.0464970315298887,
          1.1988995118497756,
          1.3716223228789806,
          1.4833841417802307,
          1.6154662913907991,
          1.6662671181640947,
          1.8085094331293223,
          1.8593102599026177,
          1.9913924095131863,
          2.082833897705118,
          2.2758770394436416,
          2.428279519763528
         ],
         "yaxis": "y"
        },
        {
         "hovertemplate": "Country=El_Salvador<br>Day=%{x}<br>Dead_per_million=%{y}<br>popData2018=%{marker.size}<extra></extra>",
         "legendgroup": "El_Salvador",
         "marker": {
          "color": "#1616A7",
          "size": [
           6420744,
           6420744,
           6420744
          ],
          "sizemode": "area",
          "sizeref": 3481825,
          "symbol": "circle"
         },
         "mode": "markers",
         "name": "El_Salvador",
         "showlegend": true,
         "type": "scattergl",
         "x": [
          1,
          2,
          3
         ],
         "xaxis": "x",
         "y": [
          1.0902163362999677,
          1.0902163362999677,
          1.0902163362999677
         ],
         "yaxis": "y"
        },
        {
         "hovertemplate": "Country=Estonia<br>Day=%{x}<br>Dead_per_million=%{y}<br>popData2018=%{marker.size}<extra></extra>",
         "legendgroup": "Estonia",
         "marker": {
          "color": "#DA60CA",
          "size": [
           1320884,
           1320884,
           1320884,
           1320884,
           1320884,
           1320884,
           1320884,
           1320884,
           1320884,
           1320884,
           1320884,
           1320884,
           1320884,
           1320884,
           1320884,
           1320884,
           1320884,
           1320884,
           1320884,
           1320884,
           1320884,
           1320884
          ],
          "sizemode": "area",
          "sizeref": 3481825,
          "symbol": "circle"
         },
         "mode": "markers",
         "name": "Estonia",
         "showlegend": true,
         "type": "scattergl",
         "x": [
          1,
          2,
          3,
          4,
          5,
          6,
          7,
          8,
          9,
          10,
          11,
          12,
          13,
          14,
          15,
          16,
          17,
          18,
          19,
          20,
          21,
          22
         ],
         "xaxis": "x",
         "y": [
          2.2712062527822274,
          2.2712062527822274,
          3.028275003709637,
          3.785343754637046,
          8.3277562602015,
          9.08482501112891,
          9.841893762056321,
          11.356031263911138,
          14.384306267620774,
          15.898443769475593,
          18.16965002225782,
          18.16965002225782,
          18.16965002225782,
          18.16965002225782,
          18.92671877318523,
          21.19792502596746,
          23.469131278749686,
          26.497406282459323,
          27.254475033386733,
          28.768612535241548,
          28.768612535241548,
          30.282750037096367
         ],
         "yaxis": "y"
        },
        {
         "hovertemplate": "Country=Finland<br>Day=%{x}<br>Dead_per_million=%{y}<br>popData2018=%{marker.size}<extra></extra>",
         "legendgroup": "Finland",
         "marker": {
          "color": "#6C4516",
          "size": [
           5518050,
           5518050,
           5518050,
           5518050,
           5518050,
           5518050,
           5518050,
           5518050,
           5518050,
           5518050,
           5518050,
           5518050,
           5518050,
           5518050,
           5518050,
           5518050,
           5518050,
           5518050,
           5518050,
           5518050,
           5518050,
           5518050,
           5518050,
           5518050
          ],
          "sizemode": "area",
          "sizeref": 3481825,
          "symbol": "circle"
         },
         "mode": "markers",
         "name": "Finland",
         "showlegend": true,
         "type": "scattergl",
         "x": [
          1,
          2,
          3,
          4,
          5,
          6,
          7,
          8,
          9,
          10,
          11,
          12,
          13,
          14,
          15,
          16,
          17,
          18,
          19,
          20,
          21,
          22,
          23,
          24
         ],
         "xaxis": "x",
         "y": [
          1.2685640760775998,
          1.631010954956914,
          1.9934578338362285,
          2.3559047127155424,
          3.0807984704741713,
          3.0807984704741713,
          3.4432453493534854,
          3.6244687887931426,
          4.530585985991428,
          4.893032864870743,
          4.893032864870743,
          6.161596940948343,
          7.248937577586285,
          7.6113844564656,
          8.698725093103542,
          8.8799485325432,
          10.148512608620798,
          10.69218292693977,
          11.598300124138056,
          13.048087639655312,
          13.591757957974286,
          14.860322034051885,
          16.31010954956914,
          17.03500330732777
         ],
         "yaxis": "y"
        },
        {
         "hovertemplate": "Country=France<br>Day=%{x}<br>Dead_per_million=%{y}<br>popData2018=%{marker.size}<extra></extra>",
         "legendgroup": "France",
         "marker": {
          "color": "#0D2A63",
          "size": [
           66987244,
           66987244,
           66987244,
           66987244,
           66987244,
           66987244,
           66987244,
           66987244,
           66987244,
           66987244,
           66987244,
           66987244,
           66987244,
           66987244,
           66987244,
           66987244,
           66987244,
           66987244,
           66987244,
           66987244,
           66987244,
           66987244,
           66987244,
           66987244,
           66987244,
           66987244,
           66987244,
           66987244,
           66987244,
           66987244,
           66987244,
           66987244,
           66987244,
           66987244,
           66987244,
           66987244,
           66987244,
           66987244
          ],
          "sizemode": "area",
          "sizeref": 3481825,
          "symbol": "circle"
         },
         "mode": "markers",
         "name": "France",
         "showlegend": true,
         "type": "scattergl",
         "x": [
          1,
          2,
          3,
          4,
          5,
          6,
          7,
          8,
          9,
          10,
          11,
          12,
          13,
          14,
          15,
          16,
          17,
          18,
          19,
          20,
          21,
          22,
          23,
          24,
          25,
          26,
          27,
          28,
          29,
          30,
          31,
          32,
          33,
          34,
          35,
          36,
          37,
          38
         ],
         "xaxis": "x",
         "y": [
          1.17932900777348,
          1.3584675912327426,
          1.8958833416105312,
          2.209375862664241,
          2.612437675447582,
          3.6424845303383435,
          5.553296087237146,
          6.717696879722355,
          8.389656992008808,
          10.06161710429526,
          12.838265147913832,
          16.421036817099086,
          19.869454548689895,
          25.31825312890914,
          29.781789500102438,
          34.54389017706117,
          38.90292904123657,
          45.14292303173422,
          52.5921024605819,
          60.19056404231229,
          67.22175344308836,
          97.13789688078525,
          112.85730757933555,
          120.5901230986604,
          133.0253264337909,
          154.17860749727217,
          162.25477196822726,
          182.27350866979987,
          197.00765715932422,
          206.4870738673769,
          214.86180264409742,
          223.43059821956552,
          234.8058982692287,
          256.2726718537637,
          267.5136179658324,
          278.87398980020737,
          288.4579040152779,
          294.3545490541453
         ],
         "yaxis": "y"
        },
        {
         "hovertemplate": "Country=Georgia<br>Day=%{x}<br>Dead_per_million=%{y}<br>popData2018=%{marker.size}<extra></extra>",
         "legendgroup": "Georgia",
         "marker": {
          "color": "#AF0038",
          "size": [
           3731000,
           3731000
          ],
          "sizemode": "area",
          "sizeref": 3481825,
          "symbol": "circle"
         },
         "mode": "markers",
         "name": "Georgia",
         "showlegend": true,
         "type": "scattergl",
         "x": [
          1,
          2
         ],
         "xaxis": "x",
         "y": [
          1.0720986330742428,
          1.0720986330742428
         ],
         "yaxis": "y"
        },
        {
         "hovertemplate": "Country=Germany<br>Day=%{x}<br>Dead_per_million=%{y}<br>popData2018=%{marker.size}<extra></extra>",
         "legendgroup": "Germany",
         "marker": {
          "color": "#2E91E5",
          "size": [
           82927922,
           82927922,
           82927922,
           82927922,
           82927922,
           82927922,
           82927922,
           82927922,
           82927922,
           82927922,
           82927922,
           82927922,
           82927922,
           82927922,
           82927922,
           82927922,
           82927922,
           82927922,
           82927922,
           82927922,
           82927922,
           82927922,
           82927922,
           82927922,
           82927922,
           82927922,
           82927922,
           82927922,
           82927922
          ],
          "sizemode": "area",
          "sizeref": 3481825,
          "symbol": "circle"
         },
         "mode": "markers",
         "name": "Germany",
         "showlegend": true,
         "type": "scattergl",
         "x": [
          1,
          2,
          3,
          4,
          5,
          6,
          7,
          8,
          9,
          10,
          11,
          12,
          13,
          14,
          15,
          16,
          17,
          18,
          19,
          20,
          21,
          22,
          23,
          24,
          25,
          26,
          27,
          28,
          29
         ],
         "xaxis": "x",
         "y": [
          1.1335144753777866,
          1.5193917435915012,
          1.7967410301201086,
          2.387615597072359,
          3.0508421518146807,
          3.9190660052955386,
          4.690820541722968,
          5.486692407413754,
          7.030201480268612,
          8.82694251038872,
          10.515155558823722,
          12.263661930417117,
          13.963933643483795,
          16.182727935712656,
          17.292125081827084,
          19.378274063107476,
          22.441174879553834,
          25.40760637894677,
          28.615211170973268,
          30.67724282299031,
          32.23281056047684,
          33.75220230406835,
          35.8021752914537,
          39.238894711482104,
          43.03737407046086,
          46.64291479533274,
          49.561111636198966,
          51.77990592842782,
          53.10635903791247
         ],
         "yaxis": "y"
        },
        {
         "hovertemplate": "Country=Gibraltar<br>Day=%{x}<br>Dead_per_million=%{y}<br>popData2018=%{marker.size}<extra></extra>",
         "legendgroup": "Gibraltar",
         "marker": {
          "color": "#E15F99",
          "size": [
           33718,
           33718,
           33718,
           33718,
           33718,
           33718,
           33718,
           33718
          ],
          "sizemode": "area",
          "sizeref": 3481825,
          "symbol": "circle"
         },
         "mode": "markers",
         "name": "Gibraltar",
         "showlegend": true,
         "type": "scattergl",
         "x": [
          1,
          2,
          3,
          4,
          5,
          6,
          7,
          8
         ],
         "xaxis": "x",
         "y": [
          118.63099827985053,
          118.63099827985053,
          118.63099827985053,
          118.63099827985053,
          118.63099827985053,
          118.63099827985053,
          118.63099827985053,
          118.63099827985053
         ],
         "yaxis": "y"
        },
        {
         "hovertemplate": "Country=Greece<br>Day=%{x}<br>Dead_per_million=%{y}<br>popData2018=%{marker.size}<extra></extra>",
         "legendgroup": "Greece",
         "marker": {
          "color": "#1CA71C",
          "size": [
           10727668,
           10727668,
           10727668,
           10727668,
           10727668,
           10727668,
           10727668,
           10727668,
           10727668,
           10727668,
           10727668,
           10727668,
           10727668,
           10727668,
           10727668,
           10727668,
           10727668,
           10727668,
           10727668,
           10727668,
           10727668,
           10727668,
           10727668,
           10727668,
           10727668,
           10727668,
           10727668,
           10727668,
           10727668,
           10727668
          ],
          "sizemode": "area",
          "sizeref": 3481825,
          "symbol": "circle"
         },
         "mode": "markers",
         "name": "Greece",
         "showlegend": true,
         "type": "scattergl",
         "x": [
          1,
          2,
          3,
          4,
          5,
          6,
          7,
          8,
          9,
          10,
          11,
          12,
          13,
          14,
          15,
          16,
          17,
          18,
          19,
          20,
          21,
          22,
          23,
          24,
          25,
          26,
          27,
          28,
          29,
          30
         ],
         "xaxis": "x",
         "y": [
          1.2118197543026126,
          1.3982535626568608,
          1.584687371011109,
          1.864338083542481,
          2.050771891896729,
          2.423639508605225,
          2.6100733169594736,
          2.9829409336679698,
          3.542242358730714,
          4.008326879616334,
          4.567628304679078,
          4.660845208856202,
          4.9404959213875745,
          5.499797346450319,
          6.338749484044436,
          6.804834004930055,
          7.3641354299928,
          7.550569238347048,
          7.737003046701296,
          8.016653759232668,
          8.389521375941165,
          8.669172088472537,
          9.135256609358157,
          9.228473513535281,
          9.41490732188953,
          9.508124226066654,
          9.787774938598025,
          9.787774938598025,
          9.787774938598025,
          10.253859459483646
         ],
         "yaxis": "y"
        },
        {
         "hovertemplate": "Country=Guam<br>Day=%{x}<br>Dead_per_million=%{y}<br>popData2018=%{marker.size}<extra></extra>",
         "legendgroup": "Guam",
         "marker": {
          "color": "#FB0D0D",
          "size": [
           165768,
           165768,
           165768,
           165768,
           165768,
           165768,
           165768,
           165768,
           165768,
           165768,
           165768,
           165768,
           165768,
           165768,
           165768,
           165768,
           165768,
           165768,
           165768,
           165768,
           165768,
           165768,
           165768,
           165768,
           165768,
           165768,
           165768,
           165768,
           165768,
           165768
          ],
          "sizemode": "area",
          "sizeref": 3481825,
          "symbol": "circle"
         },
         "mode": "markers",
         "name": "Guam",
         "showlegend": true,
         "type": "scattergl",
         "x": [
          1,
          2,
          3,
          4,
          5,
          6,
          7,
          8,
          9,
          10,
          11,
          12,
          13,
          14,
          15,
          16,
          17,
          18,
          19,
          20,
          21,
          22,
          23,
          24,
          25,
          26,
          27,
          28,
          29,
          30
         ],
         "xaxis": "x",
         "y": [
          6.03252738767434,
          6.03252738767434,
          6.03252738767434,
          6.03252738767434,
          6.03252738767434,
          6.03252738767434,
          6.03252738767434,
          6.03252738767434,
          6.03252738767434,
          6.03252738767434,
          18.09758216302302,
          18.09758216302302,
          18.09758216302302,
          24.13010955069736,
          24.13010955069736,
          24.13010955069736,
          24.13010955069736,
          24.13010955069736,
          24.13010955069736,
          24.13010955069736,
          24.13010955069736,
          30.1626369383717,
          30.1626369383717,
          30.1626369383717,
          30.1626369383717,
          30.1626369383717,
          30.1626369383717,
          30.1626369383717,
          30.1626369383717,
          30.1626369383717
         ],
         "yaxis": "y"
        },
        {
         "hovertemplate": "Country=Guernsey<br>Day=%{x}<br>Dead_per_million=%{y}<br>popData2018=%{marker.size}<extra></extra>",
         "legendgroup": "Guernsey",
         "marker": {
          "color": "#DA16FF",
          "size": [
           63026,
           63026,
           63026,
           63026,
           63026,
           63026,
           63026,
           63026,
           63026,
           63026,
           63026,
           63026,
           63026,
           63026,
           63026,
           63026,
           63026
          ],
          "sizemode": "area",
          "sizeref": 3481825,
          "symbol": "circle"
         },
         "mode": "markers",
         "name": "Guernsey",
         "showlegend": true,
         "type": "scattergl",
         "x": [
          1,
          2,
          3,
          4,
          5,
          6,
          7,
          8,
          9,
          10,
          11,
          12,
          13,
          14,
          15,
          16,
          17
         ],
         "xaxis": "x",
         "y": [
          31.732935613873643,
          31.732935613873643,
          47.59940342081046,
          63.465871227747286,
          63.465871227747286,
          79.3323390346841,
          79.3323390346841,
          95.19880684162092,
          95.19880684162092,
          95.19880684162092,
          95.19880684162092,
          111.06527464855775,
          111.06527464855775,
          142.79821026243138,
          142.79821026243138,
          142.79821026243138,
          142.79821026243138
         ],
         "yaxis": "y"
        },
        {
         "hovertemplate": "Country=Guyana<br>Day=%{x}<br>Dead_per_million=%{y}<br>popData2018=%{marker.size}<extra></extra>",
         "legendgroup": "Guyana",
         "marker": {
          "color": "#222A2A",
          "size": [
           779004,
           779004,
           779004,
           779004,
           779004,
           779004,
           779004,
           779004,
           779004,
           779004,
           779004,
           779004,
           779004,
           779004,
           779004,
           779004,
           779004,
           779004,
           779004,
           779004,
           779004,
           779004,
           779004,
           779004,
           779004,
           779004,
           779004,
           779004,
           779004,
           779004,
           779004,
           779004,
           779004,
           779004,
           779004,
           779004,
           779004
          ],
          "sizemode": "area",
          "sizeref": 3481825,
          "symbol": "circle"
         },
         "mode": "markers",
         "name": "Guyana",
         "showlegend": true,
         "type": "scattergl",
         "x": [
          1,
          2,
          3,
          4,
          5,
          6,
          7,
          8,
          9,
          10,
          11,
          12,
          13,
          14,
          15,
          16,
          17,
          18,
          19,
          20,
          21,
          22,
          23,
          24,
          25,
          26,
          27,
          28,
          29,
          30,
          31,
          32,
          33,
          34,
          35,
          36,
          37
         ],
         "xaxis": "x",
         "y": [
          1.2836904560181976,
          1.2836904560181976,
          1.2836904560181976,
          1.2836904560181976,
          1.2836904560181976,
          1.2836904560181976,
          1.2836904560181976,
          1.2836904560181976,
          1.2836904560181976,
          1.2836904560181976,
          1.2836904560181976,
          1.2836904560181976,
          1.2836904560181976,
          1.2836904560181976,
          1.2836904560181976,
          1.2836904560181976,
          1.2836904560181976,
          2.5673809120363953,
          5.134761824072791,
          5.134761824072791,
          5.134761824072791,
          5.134761824072791,
          5.134761824072791,
          6.418452280090988,
          6.418452280090988,
          7.702142736109185,
          7.702142736109185,
          7.702142736109185,
          7.702142736109185,
          7.702142736109185,
          7.702142736109185,
          7.702142736109185,
          7.702142736109185,
          7.702142736109185,
          7.702142736109185,
          8.985833192127382,
          8.985833192127382
         ],
         "yaxis": "y"
        },
        {
         "hovertemplate": "Country=Honduras<br>Day=%{x}<br>Dead_per_million=%{y}<br>popData2018=%{marker.size}<extra></extra>",
         "legendgroup": "Honduras",
         "marker": {
          "color": "#B68100",
          "size": [
           9587522,
           9587522,
           9587522,
           9587522,
           9587522,
           9587522,
           9587522,
           9587522,
           9587522,
           9587522,
           9587522,
           9587522,
           9587522,
           9587522,
           9587522,
           9587522,
           9587522,
           9587522,
           9587522,
           9587522
          ],
          "sizemode": "area",
          "sizeref": 3481825,
          "symbol": "circle"
         },
         "mode": "markers",
         "name": "Honduras",
         "showlegend": true,
         "type": "scattergl",
         "x": [
          1,
          2,
          3,
          4,
          5,
          6,
          7,
          8,
          9,
          10,
          11,
          12,
          13,
          14,
          15,
          16,
          17,
          18,
          19,
          20
         ],
         "xaxis": "x",
         "y": [
          1.043022378462339,
          1.4602313298472744,
          1.5645335676935084,
          1.5645335676935084,
          2.2946492326171457,
          2.2946492326171457,
          2.2946492326171457,
          2.2946492326171457,
          2.398951470463379,
          2.398951470463379,
          2.5032537083096136,
          2.607555946155847,
          2.607555946155847,
          2.711858184002081,
          3.2333693732332502,
          3.6505783246181864,
          4.276391751695589,
          4.797902940926758,
          4.797902940926758,
          4.797902940926758
         ],
         "yaxis": "y"
        },
        {
         "hovertemplate": "Country=Hungary<br>Day=%{x}<br>Dead_per_million=%{y}<br>popData2018=%{marker.size}<extra></extra>",
         "legendgroup": "Hungary",
         "marker": {
          "color": "#750D86",
          "size": [
           9768785,
           9768785,
           9768785,
           9768785,
           9768785,
           9768785,
           9768785,
           9768785,
           9768785,
           9768785,
           9768785,
           9768785,
           9768785,
           9768785,
           9768785,
           9768785,
           9768785,
           9768785,
           9768785,
           9768785,
           9768785,
           9768785,
           9768785,
           9768785,
           9768785,
           9768785,
           9768785
          ],
          "sizemode": "area",
          "sizeref": 3481825,
          "symbol": "circle"
         },
         "mode": "markers",
         "name": "Hungary",
         "showlegend": true,
         "type": "scattergl",
         "x": [
          1,
          2,
          3,
          4,
          5,
          6,
          7,
          8,
          9,
          10,
          11,
          12,
          13,
          14,
          15,
          16,
          17,
          18,
          19,
          20,
          21,
          22,
          23,
          24,
          25,
          26,
          27
         ],
         "xaxis": "x",
         "y": [
          1.0236687571688803,
          1.0236687571688803,
          1.0236687571688803,
          1.1260356328857684,
          1.3307693843195443,
          1.5355031357533204,
          1.6378700114702085,
          2.0473375143377606,
          2.1497043900546484,
          2.6615387686390886,
          3.275740022940417,
          3.4804737743741927,
          3.8899412772417454,
          4.811243158693737,
          5.937278791579506,
          6.75621379731461,
          7.882249430200378,
          8.701184435935483,
          10.134320695971914,
          11.157989453140795,
          12.48875883746034,
          13.717161346062996,
          14.536096351798099,
          15.969232611834531,
          17.60710262330474,
          19.347339510491835,
          20.371008267660716
         ],
         "yaxis": "y"
        },
        {
         "hovertemplate": "Country=Iceland<br>Day=%{x}<br>Dead_per_million=%{y}<br>popData2018=%{marker.size}<extra></extra>",
         "legendgroup": "Iceland",
         "marker": {
          "color": "#EB663B",
          "size": [
           353574,
           353574,
           353574,
           353574,
           353574,
           353574,
           353574,
           353574,
           353574,
           353574,
           353574,
           353574,
           353574,
           353574,
           353574,
           353574,
           353574,
           353574,
           353574,
           353574,
           353574,
           353574,
           353574,
           353574,
           353574,
           353574,
           353574,
           353574,
           353574,
           353574,
           353574,
           353574
          ],
          "sizemode": "area",
          "sizeref": 3481825,
          "symbol": "circle"
         },
         "mode": "markers",
         "name": "Iceland",
         "showlegend": true,
         "type": "scattergl",
         "x": [
          1,
          2,
          3,
          4,
          5,
          6,
          7,
          8,
          9,
          10,
          11,
          12,
          13,
          14,
          15,
          16,
          17,
          18,
          19,
          20,
          21,
          22,
          23,
          24,
          25,
          26,
          27,
          28,
          29,
          30,
          31,
          32
         ],
         "xaxis": "x",
         "y": [
          2.828262259102762,
          2.828262259102762,
          2.828262259102762,
          2.828262259102762,
          5.656524518205524,
          5.656524518205524,
          5.656524518205524,
          5.656524518205524,
          5.656524518205524,
          5.656524518205524,
          5.656524518205524,
          5.656524518205524,
          5.656524518205524,
          5.656524518205524,
          11.313049036411048,
          11.313049036411048,
          11.313049036411048,
          11.313049036411048,
          16.96957355461657,
          16.96957355461657,
          16.96957355461657,
          16.96957355461657,
          19.797835813719335,
          22.626098072822096,
          22.626098072822096,
          22.626098072822096,
          22.626098072822096,
          22.626098072822096,
          22.626098072822096,
          22.626098072822096,
          25.454360331924857,
          25.454360331924857
         ],
         "yaxis": "y"
        },
        {
         "hovertemplate": "Country=Indonesia<br>Day=%{x}<br>Dead_per_million=%{y}<br>popData2018=%{marker.size}<extra></extra>",
         "legendgroup": "Indonesia",
         "marker": {
          "color": "#511CFB",
          "size": [
           267663435,
           267663435,
           267663435,
           267663435,
           267663435,
           267663435,
           267663435,
           267663435,
           267663435,
           267663435,
           267663435
          ],
          "sizemode": "area",
          "sizeref": 3481825,
          "symbol": "circle"
         },
         "mode": "markers",
         "name": "Indonesia",
         "showlegend": true,
         "type": "scattergl",
         "x": [
          1,
          2,
          3,
          4,
          5,
          6,
          7,
          8,
          9,
          10,
          11
         ],
         "xaxis": "x",
         "y": [
          1.0460898403997543,
          1.14322675415116,
          1.2216834921811415,
          1.3935411088182441,
          1.4906780225696499,
          1.71484013122674,
          1.7522004826695885,
          1.853073431565279,
          1.9427382750281152,
          1.9987788021923876,
          2.174372453973775
         ],
         "yaxis": "y"
        },
        {
         "hovertemplate": "Country=Iran<br>Day=%{x}<br>Dead_per_million=%{y}<br>popData2018=%{marker.size}<extra></extra>",
         "legendgroup": "Iran",
         "marker": {
          "color": "#00A08B",
          "size": [
           81800269,
           81800269,
           81800269,
           81800269,
           81800269,
           81800269,
           81800269,
           81800269,
           81800269,
           81800269,
           81800269,
           81800269,
           81800269,
           81800269,
           81800269,
           81800269,
           81800269,
           81800269,
           81800269,
           81800269,
           81800269,
           81800269,
           81800269,
           81800269,
           81800269,
           81800269,
           81800269,
           81800269,
           81800269,
           81800269,
           81800269,
           81800269,
           81800269,
           81800269,
           81800269,
           81800269,
           81800269,
           81800269,
           81800269,
           81800269,
           81800269,
           81800269,
           81800269,
           81800269,
           81800269,
           81800269,
           81800269
          ],
          "sizemode": "area",
          "sizeref": 3481825,
          "symbol": "circle"
         },
         "mode": "markers",
         "name": "Iran",
         "showlegend": true,
         "type": "scattergl",
         "x": [
          1,
          2,
          3,
          4,
          5,
          6,
          7,
          8,
          9,
          10,
          11,
          12,
          13,
          14,
          15,
          16,
          17,
          18,
          19,
          20,
          21,
          22,
          23,
          24,
          25,
          26,
          27,
          28,
          29,
          30,
          31,
          32,
          33,
          34,
          35,
          36,
          37,
          38,
          39,
          40,
          41,
          42,
          43,
          44,
          45,
          46,
          47
         ],
         "xaxis": "x",
         "y": [
          1.1246906779731982,
          1.308064158077524,
          1.5158874355290934,
          1.7726103076751496,
          2.3716303426826135,
          2.8973009856483483,
          3.5574455140239207,
          4.32761413046209,
          5.244481530983719,
          6.283597918241565,
          7.469413089582872,
          8.850826639702126,
          10.427838568599329,
          12.078199889538261,
          13.875259994560654,
          15.69676989693029,
          17.51827979929993,
          19.021942336155398,
          20.598954265052598,
          22.151516396602556,
          23.64295403478441,
          25.391114545112316,
          27.310423636870926,
          29.07080904587245,
          30.77006996150587,
          32.27373249836135,
          33.704045643175085,
          35.427756356155754,
          37.11479237311554,
          38.63067980864464,
          38.63067980864464,
          42.200350221342184,
          44.04630992105906,
          45.70889614067161,
          47.33480766426331,
          48.81402040377153,
          50.244333548585274,
          51.735771186767124,
          53.26388352096984,
          54.69419666578358,
          56.05116041855559,
          57.24920048857052,
          58.398340963890966,
          59.523031641864165,
          60.61104762381649,
          61.50346522699088,
          62.56703141159596
         ],
         "yaxis": "y"
        },
        {
         "hovertemplate": "Country=Iraq<br>Day=%{x}<br>Dead_per_million=%{y}<br>popData2018=%{marker.size}<extra></extra>",
         "legendgroup": "Iraq",
         "marker": {
          "color": "#FB00D1",
          "size": [
           38433600,
           38433600,
           38433600,
           38433600,
           38433600,
           38433600,
           38433600,
           38433600,
           38433600,
           38433600,
           38433600,
           38433600,
           38433600,
           38433600,
           38433600,
           38433600,
           38433600,
           38433600,
           38433600,
           38433600,
           38433600,
           38433600,
           38433600,
           38433600
          ],
          "sizemode": "area",
          "sizeref": 3481825,
          "symbol": "circle"
         },
         "mode": "markers",
         "name": "Iraq",
         "showlegend": true,
         "type": "scattergl",
         "x": [
          1,
          2,
          3,
          4,
          5,
          6,
          7,
          8,
          9,
          10,
          11,
          12,
          13,
          14,
          15,
          16,
          17,
          18,
          19,
          20,
          21,
          22,
          23,
          24
         ],
         "xaxis": "x",
         "y": [
          1.0407560051621498,
          1.0927938054202573,
          1.0927938054202573,
          1.1968694059364722,
          1.3009450064526873,
          1.3009450064526873,
          1.4050206069689022,
          1.4050206069689022,
          1.4570584072270096,
          1.5871529078722784,
          1.6652096082594396,
          1.6652096082594396,
          1.7953041089047084,
          1.7953041089047084,
          1.821323009033762,
          1.8733608092918694,
          1.9774364098080843,
          2.0294742100661924,
          2.0294742100661924,
          2.055493110195246,
          2.0815120103242997,
          2.1075309104533533,
          2.1075309104533533,
          2.1335498105824073
         ],
         "yaxis": "y"
        },
        {
         "hovertemplate": "Country=Ireland<br>Day=%{x}<br>Dead_per_million=%{y}<br>popData2018=%{marker.size}<extra></extra>",
         "legendgroup": "Ireland",
         "marker": {
          "color": "#FC0080",
          "size": [
           4853506,
           4853506,
           4853506,
           4853506,
           4853506,
           4853506,
           4853506,
           4853506,
           4853506,
           4853506,
           4853506,
           4853506,
           4853506,
           4853506,
           4853506,
           4853506,
           4853506,
           4853506,
           4853506,
           4853506,
           4853506,
           4853506,
           4853506,
           4853506,
           4853506,
           4853506,
           4853506,
           4853506
          ],
          "sizemode": "area",
          "sizeref": 3481825,
          "symbol": "circle"
         },
         "mode": "markers",
         "name": "Ireland",
         "showlegend": true,
         "type": "scattergl",
         "x": [
          1,
          2,
          3,
          4,
          5,
          6,
          7,
          8,
          9,
          10,
          11,
          12,
          13,
          14,
          15,
          16,
          17,
          18,
          19,
          20,
          21,
          22,
          23,
          24,
          25,
          26,
          27,
          28
         ],
         "xaxis": "x",
         "y": [
          1.2362197553685932,
          1.4422563812633589,
          1.85432963305289,
          3.9146958920005455,
          4.532805769684843,
          7.41731853221156,
          9.477684791159215,
          11.12597779831734,
          14.628600438528355,
          17.513113201055074,
          20.191589337687024,
          24.72439510737187,
          28.22701774758288,
          32.55378689137296,
          35.850372905689206,
          43.267691437900766,
          48.41860708526991,
          54.18763261032334,
          59.13251163179771,
          65.93172028632497,
          68.8162330488517,
          75.20336845158944,
          83.65087011327482,
          91.48026189727591,
          100.13380018485607,
          109.19941172422574,
          117.64691338591113,
          125.68234179580699
         ],
         "yaxis": "y"
        },
        {
         "hovertemplate": "Country=Isle_of_Man<br>Day=%{x}<br>Dead_per_million=%{y}<br>popData2018=%{marker.size}<extra></extra>",
         "legendgroup": "Isle_of_Man",
         "marker": {
          "color": "#B2828D",
          "size": [
           84077,
           84077,
           84077,
           84077,
           84077,
           84077,
           84077,
           84077,
           84077,
           84077,
           84077,
           84077,
           84077,
           84077,
           84077,
           84077,
           84077,
           84077
          ],
          "sizemode": "area",
          "sizeref": 3481825,
          "symbol": "circle"
         },
         "mode": "markers",
         "name": "Isle_of_Man",
         "showlegend": true,
         "type": "scattergl",
         "x": [
          1,
          2,
          3,
          4,
          5,
          6,
          7,
          8,
          9,
          10,
          11,
          12,
          13,
          14,
          15,
          16,
          17,
          18
         ],
         "xaxis": "x",
         "y": [
          11.893859200494784,
          11.893859200494784,
          11.893859200494784,
          11.893859200494784,
          11.893859200494784,
          11.893859200494784,
          11.893859200494784,
          11.893859200494784,
          11.893859200494784,
          11.893859200494784,
          23.78771840098957,
          23.78771840098957,
          23.78771840098957,
          23.78771840098957,
          47.57543680197914,
          47.57543680197914,
          71.36315520296871,
          71.36315520296871
         ],
         "yaxis": "y"
        },
        {
         "hovertemplate": "Country=Israel<br>Day=%{x}<br>Dead_per_million=%{y}<br>popData2018=%{marker.size}<extra></extra>",
         "legendgroup": "Israel",
         "marker": {
          "color": "#6C7C32",
          "size": [
           8883800,
           8883800,
           8883800,
           8883800,
           8883800,
           8883800,
           8883800,
           8883800,
           8883800,
           8883800,
           8883800,
           8883800,
           8883800,
           8883800,
           8883800,
           8883800,
           8883800,
           8883800,
           8883800,
           8883800,
           8883800,
           8883800,
           8883800,
           8883800
          ],
          "sizemode": "area",
          "sizeref": 3481825,
          "symbol": "circle"
         },
         "mode": "markers",
         "name": "Israel",
         "showlegend": true,
         "type": "scattergl",
         "x": [
          1,
          2,
          3,
          4,
          5,
          6,
          7,
          8,
          9,
          10,
          11,
          12,
          13,
          14,
          15,
          16,
          17,
          18,
          19,
          20,
          21,
          22,
          23,
          24
         ],
         "xaxis": "x",
         "y": [
          1.1256444314369976,
          1.350773317724397,
          1.6884666471554965,
          1.9135955334428962,
          2.251288862873995,
          2.363853306017695,
          3.8271910668857925,
          4.390013282604291,
          5.177964384610189,
          5.515657714041288,
          6.416173259190887,
          7.316688804340485,
          7.992075463202684,
          9.680542110358179,
          10.693622098651478,
          11.369008757513676,
          11.594137643801075,
          13.057475404669173,
          13.845426506675071,
          14.63337760868097,
          15.984150926405368,
          16.997230914698665,
          18.460568675566762,
          19.361084220716357
         ],
         "yaxis": "y"
        },
        {
         "hovertemplate": "Country=Italy<br>Day=%{x}<br>Dead_per_million=%{y}<br>popData2018=%{marker.size}<extra></extra>",
         "legendgroup": "Italy",
         "marker": {
          "color": "#778AAE",
          "size": [
           60431283,
           60431283,
           60431283,
           60431283,
           60431283,
           60431283,
           60431283,
           60431283,
           60431283,
           60431283,
           60431283,
           60431283,
           60431283,
           60431283,
           60431283,
           60431283,
           60431283,
           60431283,
           60431283,
           60431283,
           60431283,
           60431283,
           60431283,
           60431283,
           60431283,
           60431283,
           60431283,
           60431283,
           60431283,
           60431283,
           60431283,
           60431283,
           60431283,
           60431283,
           60431283,
           60431283,
           60431283,
           60431283,
           60431283,
           60431283,
           60431283,
           60431283,
           60431283,
           60431283,
           60431283,
           60431283,
           60431283,
           60431283
          ],
          "sizemode": "area",
          "sizeref": 3481825,
          "symbol": "circle"
         },
         "mode": "markers",
         "name": "Italy",
         "showlegend": true,
         "type": "scattergl",
         "x": [
          1,
          2,
          3,
          4,
          5,
          6,
          7,
          8,
          9,
          10,
          11,
          12,
          13,
          14,
          15,
          16,
          17,
          18,
          19,
          20,
          21,
          22,
          23,
          24,
          25,
          26,
          27,
          28,
          29,
          30,
          31,
          32,
          33,
          34,
          35,
          36,
          37,
          38,
          39,
          40,
          41,
          42,
          43,
          44,
          45,
          46,
          47,
          48
         ],
         "xaxis": "x",
         "y": [
          1.3238176657609602,
          1.7706061279552843,
          2.4490626816577765,
          3.2599010019363646,
          3.8556189515287964,
          6.056465820856393,
          7.67814246141357,
          10.441611838689575,
          13.684965119803927,
          16.812484355164194,
          20.98251000231122,
          23.845265704519296,
          29.96792240866374,
          35.7099815339019,
          41.45204065914007,
          49.279112607951745,
          56.3780848405949,
          66.7204103543524,
          79.87584840785193,
          90.61531922133773,
          100.56049943536695,
          112.85545600612187,
          124.19064476920009,
          135.11214051172803,
          151.17997742990167,
          165.85780579902632,
          178.4009781821114,
          191.8046320479411,
          205.6881698176092,
          217.71836285521192,
          230.29463067994106,
          242.93708938795822,
          254.20608726774842,
          262.9267361409487,
          273.45108658374835,
          283.4459099602436,
          292.3816792041301,
          302.50888434720144,
          311.9410852157483,
          322.1841244045737,
          329.31619207886087,
          338.64910662247564,
          348.64392999897086,
          358.20851263409384,
          366.89606606565013,
          376.41100553830705,
          384.3539115328728,
          391.519074648804
         ],
         "yaxis": "y"
        },
        {
         "hovertemplate": "Country=Jamaica<br>Day=%{x}<br>Dead_per_million=%{y}<br>popData2018=%{marker.size}<extra></extra>",
         "legendgroup": "Jamaica",
         "marker": {
          "color": "#862A16",
          "size": [
           2934855,
           2934855,
           2934855,
           2934855,
           2934855,
           2934855,
           2934855,
           2934855,
           2934855,
           2934855,
           2934855,
           2934855,
           2934855,
           2934855,
           2934855,
           2934855,
           2934855,
           2934855,
           2934855
          ],
          "sizemode": "area",
          "sizeref": 3481825,
          "symbol": "circle"
         },
         "mode": "markers",
         "name": "Jamaica",
         "showlegend": true,
         "type": "scattergl",
         "x": [
          1,
          2,
          3,
          4,
          5,
          6,
          7,
          8,
          9,
          10,
          11,
          12,
          13,
          14,
          15,
          16,
          17,
          18,
          19
         ],
         "xaxis": "x",
         "y": [
          1.0221970080293574,
          1.0221970080293574,
          1.0221970080293574,
          1.0221970080293574,
          1.0221970080293574,
          1.0221970080293574,
          1.0221970080293574,
          1.3629293440391435,
          1.3629293440391435,
          1.3629293440391435,
          1.3629293440391435,
          1.3629293440391435,
          1.3629293440391435,
          1.703661680048929,
          1.703661680048929,
          1.703661680048929,
          1.703661680048929,
          1.703661680048929,
          1.703661680048929
         ],
         "yaxis": "y"
        },
        {
         "hovertemplate": "Country=Japan<br>Day=%{x}<br>Dead_per_million=%{y}<br>popData2018=%{marker.size}<extra></extra>",
         "legendgroup": "Japan",
         "marker": {
          "color": "#A777F1",
          "size": [
           126529100,
           126529100,
           126529100,
           126529100,
           126529100
          ],
          "sizemode": "area",
          "sizeref": 3481825,
          "symbol": "circle"
         },
         "mode": "markers",
         "name": "Japan",
         "showlegend": true,
         "type": "scattergl",
         "x": [
          1,
          2,
          3,
          4,
          5
         ],
         "xaxis": "x",
         "y": [
          1.0748515558871439,
          1.1696913990536564,
          1.2171113206369129,
          1.2724345624840452,
          1.3514677651228058
         ],
         "yaxis": "y"
        },
        {
         "hovertemplate": "Country=Jersey<br>Day=%{x}<br>Dead_per_million=%{y}<br>popData2018=%{marker.size}<extra></extra>",
         "legendgroup": "Jersey",
         "marker": {
          "color": "#620042",
          "size": [
           106800,
           106800,
           106800,
           106800,
           106800,
           106800,
           106800,
           106800,
           106800,
           106800,
           106800,
           106800,
           106800,
           106800,
           106800,
           106800,
           106800,
           106800,
           106800,
           106800,
           106800,
           106800,
           106800,
           106800,
           106800
          ],
          "sizemode": "area",
          "sizeref": 3481825,
          "symbol": "circle"
         },
         "mode": "markers",
         "name": "Jersey",
         "showlegend": true,
         "type": "scattergl",
         "x": [
          1,
          2,
          3,
          4,
          5,
          6,
          7,
          8,
          9,
          10,
          11,
          12,
          13,
          14,
          15,
          16,
          17,
          18,
          19,
          20,
          21,
          22,
          23,
          24,
          25
         ],
         "xaxis": "x",
         "y": [
          9.363295880149813,
          9.363295880149813,
          9.363295880149813,
          18.726591760299627,
          18.726591760299627,
          18.726591760299627,
          18.726591760299627,
          18.726591760299627,
          18.726591760299627,
          28.08988764044944,
          28.08988764044944,
          28.08988764044944,
          28.08988764044944,
          28.08988764044944,
          28.08988764044944,
          37.453183520599254,
          37.453183520599254,
          37.453183520599254,
          37.453183520599254,
          37.453183520599254,
          56.17977528089888,
          93.63295880149813,
          102.99625468164794,
          112.35955056179776,
          112.35955056179776
         ],
         "yaxis": "y"
        },
        {
         "hovertemplate": "Country=Kazakhstan<br>Day=%{x}<br>Dead_per_million=%{y}<br>popData2018=%{marker.size}<extra></extra>",
         "legendgroup": "Kazakhstan",
         "marker": {
          "color": "#1616A7",
          "size": [
           18276499
          ],
          "sizemode": "area",
          "sizeref": 3481825,
          "symbol": "circle"
         },
         "mode": "markers",
         "name": "Kazakhstan",
         "showlegend": true,
         "type": "scattergl",
         "x": [
          1
         ],
         "xaxis": "x",
         "y": [
          1.0395864109422708
         ],
         "yaxis": "y"
        },
        {
         "hovertemplate": "Country=Kosovo<br>Day=%{x}<br>Dead_per_million=%{y}<br>popData2018=%{marker.size}<extra></extra>",
         "legendgroup": "Kosovo",
         "marker": {
          "color": "#DA60CA",
          "size": [
           1845300,
           1845300,
           1845300,
           1845300,
           1845300,
           1845300,
           1845300,
           1845300,
           1845300,
           1845300,
           1845300,
           1845300,
           1845300,
           1845300
          ],
          "sizemode": "area",
          "sizeref": 3481825,
          "symbol": "circle"
         },
         "mode": "markers",
         "name": "Kosovo",
         "showlegend": true,
         "type": "scattergl",
         "x": [
          1,
          2,
          3,
          4,
          5,
          6,
          7,
          8,
          9,
          10,
          11,
          12,
          13,
          14
         ],
         "xaxis": "x",
         "y": [
          1.6257519102584945,
          2.709586517097491,
          2.709586517097491,
          3.7934211239364872,
          3.7934211239364872,
          3.7934211239364872,
          3.7934211239364872,
          4.335338427355985,
          4.335338427355985,
          4.8772557307754845,
          5.961090337614481,
          6.503007641033978,
          6.503007641033978,
          6.503007641033978
         ],
         "yaxis": "y"
        },
        {
         "hovertemplate": "Country=Kuwait<br>Day=%{x}<br>Dead_per_million=%{y}<br>popData2018=%{marker.size}<extra></extra>",
         "legendgroup": "Kuwait",
         "marker": {
          "color": "#6C4516",
          "size": [
           4137309,
           4137309,
           4137309
          ],
          "sizemode": "area",
          "sizeref": 3481825,
          "symbol": "circle"
         },
         "mode": "markers",
         "name": "Kuwait",
         "showlegend": true,
         "type": "scattergl",
         "x": [
          1,
          2,
          3
         ],
         "xaxis": "x",
         "y": [
          1.2085150033512122,
          1.4502180040214545,
          1.6919210046916968
         ],
         "yaxis": "y"
        },
        {
         "hovertemplate": "Country=Kyrgyzstan<br>Day=%{x}<br>Dead_per_million=%{y}<br>popData2018=%{marker.size}<extra></extra>",
         "legendgroup": "Kyrgyzstan",
         "marker": {
          "color": "#0D2A63",
          "size": [
           6315800
          ],
          "sizemode": "area",
          "sizeref": 3481825,
          "symbol": "circle"
         },
         "mode": "markers",
         "name": "Kyrgyzstan",
         "showlegend": true,
         "type": "scattergl",
         "x": [
          1
         ],
         "xaxis": "x",
         "y": [
          1.10833148611419
         ],
         "yaxis": "y"
        },
        {
         "hovertemplate": "Country=Latvia<br>Day=%{x}<br>Dead_per_million=%{y}<br>popData2018=%{marker.size}<extra></extra>",
         "legendgroup": "Latvia",
         "marker": {
          "color": "#AF0038",
          "size": [
           1926542,
           1926542,
           1926542,
           1926542,
           1926542,
           1926542,
           1926542,
           1926542,
           1926542,
           1926542,
           1926542,
           1926542,
           1926542
          ],
          "sizemode": "area",
          "sizeref": 3481825,
          "symbol": "circle"
         },
         "mode": "markers",
         "name": "Latvia",
         "showlegend": true,
         "type": "scattergl",
         "x": [
          1,
          2,
          3,
          4,
          5,
          6,
          7,
          8,
          9,
          10,
          11,
          12,
          13
         ],
         "xaxis": "x",
         "y": [
          1.0381294568195243,
          1.0381294568195243,
          1.0381294568195243,
          1.0381294568195243,
          1.5571941852292863,
          2.5953236420488106,
          2.5953236420488106,
          2.5953236420488106,
          2.5953236420488106,
          2.5953236420488106,
          2.5953236420488106,
          2.5953236420488106,
          2.5953236420488106
         ],
         "yaxis": "y"
        },
        {
         "hovertemplate": "Country=Lebanon<br>Day=%{x}<br>Dead_per_million=%{y}<br>popData2018=%{marker.size}<extra></extra>",
         "legendgroup": "Lebanon",
         "marker": {
          "color": "#2E91E5",
          "size": [
           6848925,
           6848925,
           6848925,
           6848925,
           6848925,
           6848925,
           6848925,
           6848925,
           6848925,
           6848925,
           6848925,
           6848925,
           6848925,
           6848925,
           6848925,
           6848925,
           6848925,
           6848925,
           6848925,
           6848925,
           6848925,
           6848925,
           6848925,
           6848925
          ],
          "sizemode": "area",
          "sizeref": 3481825,
          "symbol": "circle"
         },
         "mode": "markers",
         "name": "Lebanon",
         "showlegend": true,
         "type": "scattergl",
         "x": [
          1,
          2,
          3,
          4,
          5,
          6,
          7,
          8,
          9,
          10,
          11,
          12,
          13,
          14,
          15,
          16,
          17,
          18,
          19,
          20,
          21,
          22,
          23,
          24
         ],
         "xaxis": "x",
         "y": [
          1.022058206214844,
          1.1680665213883932,
          1.4600831517354913,
          1.6060914669090405,
          1.7520997820825894,
          1.7520997820825894,
          2.3361330427767864,
          2.3361330427767864,
          2.482141357950335,
          2.6281496731238843,
          2.7741579882974334,
          2.7741579882974334,
          2.7741579882974334,
          2.7741579882974334,
          2.9201663034709826,
          2.9201663034709826,
          2.9201663034709826,
          2.9201663034709826,
          3.066174618644532,
          3.066174618644532,
          3.066174618644532,
          3.066174618644532,
          3.066174618644532,
          3.066174618644532
         ],
         "yaxis": "y"
        },
        {
         "hovertemplate": "Country=Liberia<br>Day=%{x}<br>Dead_per_million=%{y}<br>popData2018=%{marker.size}<extra></extra>",
         "legendgroup": "Liberia",
         "marker": {
          "color": "#E15F99",
          "size": [
           4818977,
           4818977,
           4818977,
           4818977,
           4818977,
           4818977,
           4818977,
           4818977,
           4818977
          ],
          "sizemode": "area",
          "sizeref": 3481825,
          "symbol": "circle"
         },
         "mode": "markers",
         "name": "Liberia",
         "showlegend": true,
         "type": "scattergl",
         "x": [
          1,
          2,
          3,
          4,
          5,
          6,
          7,
          8,
          9
         ],
         "xaxis": "x",
         "y": [
          1.0375646117422848,
          1.0375646117422848,
          1.2450775340907418,
          1.2450775340907418,
          1.2450775340907418,
          1.2450775340907418,
          1.4525904564391987,
          1.4525904564391987,
          1.6601033787876556
         ],
         "yaxis": "y"
        },
        {
         "hovertemplate": "Country=Liechtenstein<br>Day=%{x}<br>Dead_per_million=%{y}<br>popData2018=%{marker.size}<extra></extra>",
         "legendgroup": "Liechtenstein",
         "marker": {
          "color": "#1CA71C",
          "size": [
           37910,
           37910,
           37910,
           37910,
           37910,
           37910,
           37910,
           37910,
           37910,
           37910,
           37910,
           37910,
           37910,
           37910,
           37910,
           37910
          ],
          "sizemode": "area",
          "sizeref": 3481825,
          "symbol": "circle"
         },
         "mode": "markers",
         "name": "Liechtenstein",
         "showlegend": true,
         "type": "scattergl",
         "x": [
          1,
          2,
          3,
          4,
          5,
          6,
          7,
          8,
          9,
          10,
          11,
          12,
          13,
          14,
          15,
          16
         ],
         "xaxis": "x",
         "y": [
          26.378264310208387,
          26.378264310208387,
          26.378264310208387,
          26.378264310208387,
          26.378264310208387,
          26.378264310208387,
          26.378264310208387,
          26.378264310208387,
          26.378264310208387,
          26.378264310208387,
          26.378264310208387,
          26.378264310208387,
          26.378264310208387,
          26.378264310208387,
          26.378264310208387,
          26.378264310208387
         ],
         "yaxis": "y"
        },
        {
         "hovertemplate": "Country=Lithuania<br>Day=%{x}<br>Dead_per_million=%{y}<br>popData2018=%{marker.size}<extra></extra>",
         "legendgroup": "Lithuania",
         "marker": {
          "color": "#FB0D0D",
          "size": [
           2789533,
           2789533,
           2789533,
           2789533,
           2789533,
           2789533,
           2789533,
           2789533,
           2789533,
           2789533,
           2789533,
           2789533,
           2789533,
           2789533,
           2789533,
           2789533,
           2789533,
           2789533,
           2789533,
           2789533,
           2789533,
           2789533,
           2789533,
           2789533,
           2789533,
           2789533
          ],
          "sizemode": "area",
          "sizeref": 3481825,
          "symbol": "circle"
         },
         "mode": "markers",
         "name": "Lithuania",
         "showlegend": true,
         "type": "scattergl",
         "x": [
          1,
          2,
          3,
          4,
          5,
          6,
          7,
          8,
          9,
          10,
          11,
          12,
          13,
          14,
          15,
          16,
          17,
          18,
          19,
          20,
          21,
          22,
          23,
          24,
          25,
          26
         ],
         "xaxis": "x",
         "y": [
          1.433931772809284,
          1.433931772809284,
          1.7924147160116048,
          2.5093806024162464,
          2.5093806024162464,
          2.5093806024162464,
          2.5093806024162464,
          2.867863545618568,
          3.226346488820889,
          3.226346488820889,
          3.226346488820889,
          4.660278261630173,
          5.018761204832493,
          5.377244148034815,
          5.377244148034815,
          5.377244148034815,
          6.094210034439457,
          8.245107693653383,
          8.603590636855703,
          8.603590636855703,
          8.603590636855703,
          10.396005352867308,
          11.471454182474272,
          11.829937125676592,
          11.829937125676592,
          12.905385955283556
         ],
         "yaxis": "y"
        },
        {
         "hovertemplate": "Country=Luxembourg<br>Day=%{x}<br>Dead_per_million=%{y}<br>popData2018=%{marker.size}<extra></extra>",
         "legendgroup": "Luxembourg",
         "marker": {
          "color": "#DA16FF",
          "size": [
           607728,
           607728,
           607728,
           607728,
           607728,
           607728,
           607728,
           607728,
           607728,
           607728,
           607728,
           607728,
           607728,
           607728,
           607728,
           607728,
           607728,
           607728,
           607728,
           607728,
           607728,
           607728,
           607728,
           607728,
           607728,
           607728,
           607728,
           607728,
           607728,
           607728,
           607728,
           607728,
           607728,
           607728,
           607728,
           607728,
           607728
          ],
          "sizemode": "area",
          "sizeref": 3481825,
          "symbol": "circle"
         },
         "mode": "markers",
         "name": "Luxembourg",
         "showlegend": true,
         "type": "scattergl",
         "x": [
          1,
          2,
          3,
          4,
          5,
          6,
          7,
          8,
          9,
          10,
          11,
          12,
          13,
          14,
          15,
          16,
          17,
          18,
          19,
          20,
          21,
          22,
          23,
          24,
          25,
          26,
          27,
          28,
          29,
          30,
          31,
          32,
          33,
          34,
          35,
          36,
          37
         ],
         "xaxis": "x",
         "y": [
          1.6454729747518626,
          1.6454729747518626,
          1.6454729747518626,
          1.6454729747518626,
          3.290945949503725,
          6.58189189900745,
          8.227364873759313,
          13.1637837980149,
          13.1637837980149,
          13.1637837980149,
          13.1637837980149,
          13.1637837980149,
          14.809256772766764,
          24.68209462127794,
          29.618513545533528,
          34.554932469789115,
          36.200405444540976,
          37.845878419292845,
          47.71871626780402,
          49.36418924255588,
          51.00966221730774,
          51.00966221730774,
          59.237027091067056,
          67.46439196482638,
          72.40081088908195,
          75.69175683858569,
          85.56459468709686,
          88.85554063660058,
          102.01932443461548,
          108.60121633362293,
          110.2466893083748,
          110.2466893083748,
          113.53763525787852,
          113.53763525787852,
          118.47405418213411,
          118.47405418213411,
          120.11952715688598
         ],
         "yaxis": "y"
        },
        {
         "hovertemplate": "Country=Malaysia<br>Day=%{x}<br>Dead_per_million=%{y}<br>popData2018=%{marker.size}<extra></extra>",
         "legendgroup": "Malaysia",
         "marker": {
          "color": "#222A2A",
          "size": [
           31528585,
           31528585,
           31528585,
           31528585,
           31528585,
           31528585,
           31528585,
           31528585,
           31528585,
           31528585,
           31528585,
           31528585,
           31528585,
           31528585,
           31528585,
           31528585,
           31528585,
           31528585,
           31528585,
           31528585,
           31528585,
           31528585
          ],
          "sizemode": "area",
          "sizeref": 3481825,
          "symbol": "circle"
         },
         "mode": "markers",
         "name": "Malaysia",
         "showlegend": true,
         "type": "scattergl",
         "x": [
          1,
          2,
          3,
          4,
          5,
          6,
          7,
          8,
          9,
          10,
          11,
          12,
          13,
          14,
          15,
          16,
          17,
          18,
          19,
          20,
          21,
          22
         ],
         "xaxis": "x",
         "y": [
          1.078386486421766,
          1.1735382352236867,
          1.3638417328275279,
          1.4272762320288082,
          1.5858624800320091,
          1.6810142288339296,
          1.8078832272364902,
          1.934752225639051,
          1.9664694752396914,
          1.9981867248403316,
          2.0616212240416116,
          2.125055723242892,
          2.220207472044813,
          2.3153592208467333,
          2.4105109696486537,
          2.442228219249294,
          2.6008144672524947,
          2.6325317168531353,
          2.6642489664537754,
          2.7276834656550557,
          2.791117964856336,
          2.8228352144569757
         ],
         "yaxis": "y"
        },
        {
         "hovertemplate": "Country=Malta<br>Day=%{x}<br>Dead_per_million=%{y}<br>popData2018=%{marker.size}<extra></extra>",
         "legendgroup": "Malta",
         "marker": {
          "color": "#B68100",
          "size": [
           483530,
           483530,
           483530,
           483530,
           483530,
           483530,
           483530,
           483530,
           483530,
           483530,
           483530,
           483530
          ],
          "sizemode": "area",
          "sizeref": 3481825,
          "symbol": "circle"
         },
         "mode": "markers",
         "name": "Malta",
         "showlegend": true,
         "type": "scattergl",
         "x": [
          1,
          2,
          3,
          4,
          5,
          6,
          7,
          8,
          9,
          10,
          11,
          12
         ],
         "xaxis": "x",
         "y": [
          2.068124004715323,
          4.136248009430646,
          4.136248009430646,
          6.204372014145968,
          6.204372014145968,
          6.204372014145968,
          6.204372014145968,
          6.204372014145968,
          6.204372014145968,
          6.204372014145968,
          6.204372014145968,
          6.204372014145968
         ],
         "yaxis": "y"
        },
        {
         "hovertemplate": "Country=Mauritius<br>Day=%{x}<br>Dead_per_million=%{y}<br>popData2018=%{marker.size}<extra></extra>",
         "legendgroup": "Mauritius",
         "marker": {
          "color": "#750D86",
          "size": [
           1265303,
           1265303,
           1265303,
           1265303,
           1265303,
           1265303,
           1265303,
           1265303,
           1265303,
           1265303,
           1265303,
           1265303,
           1265303,
           1265303,
           1265303,
           1265303,
           1265303,
           1265303,
           1265303,
           1265303,
           1265303,
           1265303,
           1265303,
           1265303,
           1265303,
           1265303,
           1265303,
           1265303,
           1265303
          ],
          "sizemode": "area",
          "sizeref": 3481825,
          "symbol": "circle"
         },
         "mode": "markers",
         "name": "Mauritius",
         "showlegend": true,
         "type": "scattergl",
         "x": [
          1,
          2,
          3,
          4,
          5,
          6,
          7,
          8,
          9,
          10,
          11,
          12,
          13,
          14,
          15,
          16,
          17,
          18,
          19,
          20,
          21,
          22,
          23,
          24,
          25,
          26,
          27,
          28,
          29
         ],
         "xaxis": "x",
         "y": [
          1.5806490619242979,
          1.5806490619242979,
          1.5806490619242979,
          1.5806490619242979,
          1.5806490619242979,
          1.5806490619242979,
          1.5806490619242979,
          2.370973592886447,
          2.370973592886447,
          2.370973592886447,
          3.951622654810745,
          5.5322717167350435,
          5.5322717167350435,
          5.5322717167350435,
          5.5322717167350435,
          5.5322717167350435,
          5.5322717167350435,
          5.5322717167350435,
          5.5322717167350435,
          7.1129207786593405,
          7.1129207786593405,
          7.1129207786593405,
          7.1129207786593405,
          7.1129207786593405,
          7.1129207786593405,
          7.1129207786593405,
          7.1129207786593405,
          7.1129207786593405,
          7.1129207786593405
         ],
         "yaxis": "y"
        },
        {
         "hovertemplate": "Country=Mexico<br>Day=%{x}<br>Dead_per_million=%{y}<br>popData2018=%{marker.size}<extra></extra>",
         "legendgroup": "Mexico",
         "marker": {
          "color": "#EB663B",
          "size": [
           126190788,
           126190788,
           126190788,
           126190788,
           126190788,
           126190788,
           126190788,
           126190788,
           126190788,
           126190788,
           126190788,
           126190788,
           126190788
          ],
          "sizemode": "area",
          "sizeref": 3481825,
          "symbol": "circle"
         },
         "mode": "markers",
         "name": "Mexico",
         "showlegend": true,
         "type": "scattergl",
         "x": [
          1,
          2,
          3,
          4,
          5,
          6,
          7,
          8,
          9,
          10,
          11,
          12,
          13
         ],
         "xaxis": "x",
         "y": [
          1.1173557296432763,
          1.3788645174321281,
          1.5373546918496142,
          1.8464105319637119,
          2.1633908807986844,
          2.345654581378793,
          2.630936895330268,
          3.217350540674966,
          3.558104415672561,
          3.8513112383449104,
          4.326781761597369,
          5.150930668568296,
          5.436212982519771
         ],
         "yaxis": "y"
        },
        {
         "hovertemplate": "Country=Moldova<br>Day=%{x}<br>Dead_per_million=%{y}<br>popData2018=%{marker.size}<extra></extra>",
         "legendgroup": "Moldova",
         "marker": {
          "color": "#511CFB",
          "size": [
           3545883,
           3545883,
           3545883,
           3545883,
           3545883,
           3545883,
           3545883,
           3545883,
           3545883,
           3545883,
           3545883,
           3545883,
           3545883,
           3545883,
           3545883,
           3545883,
           3545883,
           3545883,
           3545883,
           3545883
          ],
          "sizemode": "area",
          "sizeref": 3481825,
          "symbol": "circle"
         },
         "mode": "markers",
         "name": "Moldova",
         "showlegend": true,
         "type": "scattergl",
         "x": [
          1,
          2,
          3,
          4,
          5,
          6,
          7,
          8,
          9,
          10,
          11,
          12,
          13,
          14,
          15,
          16,
          17,
          18,
          19,
          20
         ],
         "xaxis": "x",
         "y": [
          1.1280688054287185,
          1.4100860067858978,
          1.6921032081430776,
          2.256137610857437,
          3.384206416286155,
          4.230258020357694,
          5.358326825786412,
          6.204378429857951,
          7.614464436643849,
          8.178498839358207,
          8.178498839358207,
          8.460516040715389,
          9.024550443429748,
          10.152619248858464,
          11.280688054287182,
          12.972791262430261,
          15.228928873287698,
          15.792963276002055,
          16.921032081430777,
          18.895152490931032
         ],
         "yaxis": "y"
        },
        {
         "hovertemplate": "Country=Monaco<br>Day=%{x}<br>Dead_per_million=%{y}<br>popData2018=%{marker.size}<extra></extra>",
         "legendgroup": "Monaco",
         "marker": {
          "color": "#00A08B",
          "size": [
           38682,
           38682,
           38682,
           38682,
           38682,
           38682,
           38682,
           38682,
           38682,
           38682,
           38682,
           38682,
           38682,
           38682,
           38682,
           38682
          ],
          "sizemode": "area",
          "sizeref": 3481825,
          "symbol": "circle"
         },
         "mode": "markers",
         "name": "Monaco",
         "showlegend": true,
         "type": "scattergl",
         "x": [
          1,
          2,
          3,
          4,
          5,
          6,
          7,
          8,
          9,
          10,
          11,
          12,
          13,
          14,
          15,
          16
         ],
         "xaxis": "x",
         "y": [
          51.703634765524015,
          51.703634765524015,
          51.703634765524015,
          51.703634765524015,
          51.703634765524015,
          51.703634765524015,
          51.703634765524015,
          51.703634765524015,
          51.703634765524015,
          51.703634765524015,
          51.703634765524015,
          77.55545214828602,
          77.55545214828602,
          77.55545214828602,
          77.55545214828602,
          77.55545214828602
         ],
         "yaxis": "y"
        },
        {
         "hovertemplate": "Country=Montenegro<br>Day=%{x}<br>Dead_per_million=%{y}<br>popData2018=%{marker.size}<extra></extra>",
         "legendgroup": "Montenegro",
         "marker": {
          "color": "#FB00D1",
          "size": [
           622345,
           622345,
           622345,
           622345,
           622345,
           622345,
           622345,
           622345,
           622345,
           622345,
           622345,
           622345,
           622345,
           622345,
           622345,
           622345,
           622345,
           622345,
           622345,
           622345,
           622345,
           622345,
           622345,
           622345,
           622345
          ],
          "sizemode": "area",
          "sizeref": 3481825,
          "symbol": "circle"
         },
         "mode": "markers",
         "name": "Montenegro",
         "showlegend": true,
         "type": "scattergl",
         "x": [
          1,
          2,
          3,
          4,
          5,
          6,
          7,
          8,
          9,
          10,
          11,
          12,
          13,
          14,
          15,
          16,
          17,
          18,
          19,
          20,
          21,
          22,
          23,
          24,
          25
         ],
         "xaxis": "x",
         "y": [
          1.6068257959813286,
          1.6068257959813286,
          1.6068257959813286,
          1.6068257959813286,
          1.6068257959813286,
          1.6068257959813286,
          1.6068257959813286,
          3.213651591962657,
          3.213651591962657,
          3.213651591962657,
          3.213651591962657,
          3.213651591962657,
          3.213651591962657,
          3.213651591962657,
          3.213651591962657,
          3.213651591962657,
          3.213651591962657,
          4.820477387943986,
          4.820477387943986,
          6.427303183925314,
          6.427303183925314,
          6.427303183925314,
          6.427303183925314,
          8.034128979906644,
          8.034128979906644
         ],
         "yaxis": "y"
        },
        {
         "hovertemplate": "Country=Morocco<br>Day=%{x}<br>Dead_per_million=%{y}<br>popData2018=%{marker.size}<extra></extra>",
         "legendgroup": "Morocco",
         "marker": {
          "color": "#FC0080",
          "size": [
           36029138,
           36029138,
           36029138,
           36029138,
           36029138,
           36029138,
           36029138,
           36029138,
           36029138,
           36029138,
           36029138,
           36029138,
           36029138,
           36029138,
           36029138,
           36029138,
           36029138,
           36029138,
           36029138
          ],
          "sizemode": "area",
          "sizeref": 3481825,
          "symbol": "circle"
         },
         "mode": "markers",
         "name": "Morocco",
         "showlegend": true,
         "type": "scattergl",
         "x": [
          1,
          2,
          3,
          4,
          5,
          6,
          7,
          8,
          9,
          10,
          11,
          12,
          13,
          14,
          15,
          16,
          17,
          18,
          19
         ],
         "xaxis": "x",
         "y": [
          1.082457204499314,
          1.221233769178713,
          1.221233769178713,
          1.6375634632169107,
          1.942871905511589,
          2.220425034870387,
          2.497978164229186,
          2.5812441030368256,
          2.6922653547803446,
          2.969818484139143,
          3.0808397358826625,
          3.2751269264338214,
          3.49716942992086,
          3.49716942992086,
          3.52492474285674,
          3.6081906816643796,
          3.746967246343779,
          3.802477872215538,
          3.9134991239590575
         ],
         "yaxis": "y"
        },
        {
         "hovertemplate": "Country=Netherlands<br>Day=%{x}<br>Dead_per_million=%{y}<br>popData2018=%{marker.size}<extra></extra>",
         "legendgroup": "Netherlands",
         "marker": {
          "color": "#B2828D",
          "size": [
           17231017,
           17231017,
           17231017,
           17231017,
           17231017,
           17231017,
           17231017,
           17231017,
           17231017,
           17231017,
           17231017,
           17231017,
           17231017,
           17231017,
           17231017,
           17231017,
           17231017,
           17231017,
           17231017,
           17231017,
           17231017,
           17231017,
           17231017,
           17231017,
           17231017,
           17231017,
           17231017,
           17231017,
           17231017,
           17231017,
           17231017,
           17231017,
           17231017,
           17231017,
           17231017,
           17231017
          ],
          "sizemode": "area",
          "sizeref": 3481825,
          "symbol": "circle"
         },
         "mode": "markers",
         "name": "Netherlands",
         "showlegend": true,
         "type": "scattergl",
         "x": [
          1,
          2,
          3,
          4,
          5,
          6,
          7,
          8,
          9,
          10,
          11,
          12,
          13,
          14,
          15,
          16,
          17,
          18,
          19,
          20,
          21,
          22,
          23,
          24,
          25,
          26,
          27,
          28,
          29,
          30,
          31,
          32,
          33,
          34,
          35,
          36
         ],
         "xaxis": "x",
         "y": [
          1.1606975955046646,
          1.3928371146055976,
          2.4954998303350293,
          3.3660230269635276,
          4.410650862917725,
          6.151697256174723,
          7.89274364943172,
          10.388243479766748,
          12.361429392124679,
          16.01762681796437,
          20.66041719998303,
          25.187137822451223,
          31.687044357277344,
          37.08428817637403,
          44.74489230670482,
          50.14213612580151,
          60.298240086467324,
          68.07491397634858,
          77.7087040190373,
          86.29786622577183,
          95.81558650891007,
          102.48959768306189,
          108.35112054036044,
          121.93128240776501,
          130.4624097347243,
          139.05157194145883,
          145.72558311561065,
          153.38618724594141,
          158.84146594481336,
          163.8324656054834,
          170.91272093806185,
          181.88131321558095,
          192.38562645489816,
          200.74264914253175,
          208.98360207061486,
          213.80049709195922
         ],
         "yaxis": "y"
        },
        {
         "hovertemplate": "Country=New_Zealand<br>Day=%{x}<br>Dead_per_million=%{y}<br>popData2018=%{marker.size}<extra></extra>",
         "legendgroup": "New_Zealand",
         "marker": {
          "color": "#6C7C32",
          "size": [
           4885500,
           4885500,
           4885500,
           4885500,
           4885500,
           4885500,
           4885500,
           4885500
          ],
          "sizemode": "area",
          "sizeref": 3481825,
          "symbol": "circle"
         },
         "mode": "markers",
         "name": "New_Zealand",
         "showlegend": true,
         "type": "scattergl",
         "x": [
          1,
          2,
          3,
          4,
          5,
          6,
          7,
          8
         ],
         "xaxis": "x",
         "y": [
          1.0234367004400777,
          1.84218606079214,
          1.84218606079214,
          1.84218606079214,
          2.251560740968171,
          2.251560740968171,
          2.4562480810561866,
          2.4562480810561866
         ],
         "yaxis": "y"
        },
        {
         "hovertemplate": "Country=North_Macedonia<br>Day=%{x}<br>Dead_per_million=%{y}<br>popData2018=%{marker.size}<extra></extra>",
         "legendgroup": "North_Macedonia",
         "marker": {
          "color": "#778AAE",
          "size": [
           2082958,
           2082958,
           2082958,
           2082958,
           2082958,
           2082958,
           2082958,
           2082958,
           2082958,
           2082958,
           2082958,
           2082958,
           2082958,
           2082958,
           2082958,
           2082958,
           2082958,
           2082958,
           2082958,
           2082958,
           2082958,
           2082958,
           2082958,
           2082958,
           2082958
          ],
          "sizemode": "area",
          "sizeref": 3481825,
          "symbol": "circle"
         },
         "mode": "markers",
         "name": "North_Macedonia",
         "showlegend": true,
         "type": "scattergl",
         "x": [
          1,
          2,
          3,
          4,
          5,
          6,
          7,
          8,
          9,
          10,
          11,
          12,
          13,
          14,
          15,
          16,
          17,
          18,
          19,
          20,
          21,
          22,
          23,
          24,
          25
         ],
         "xaxis": "x",
         "y": [
          1.4402594771474029,
          1.4402594771474029,
          1.9203459695298706,
          2.8805189542948058,
          3.3606054466772735,
          4.320778431442208,
          4.800864923824676,
          5.280951416207143,
          5.7610379085896115,
          8.16147037050195,
          8.16147037050195,
          10.08181634003182,
          12.48224880194416,
          14.402594771474028,
          15.362767756238965,
          15.362767756238965,
          16.3229407410039,
          16.3229407410039,
          18.24328671053377,
          21.123805664828573,
          21.603892157211043,
          22.08397864959351,
          23.524238126740915,
          23.524238126740915,
          24.48441111150585
         ],
         "yaxis": "y"
        },
        {
         "hovertemplate": "Country=Northern_Mariana_Islands<br>Day=%{x}<br>Dead_per_million=%{y}<br>popData2018=%{marker.size}<extra></extra>",
         "legendgroup": "Northern_Mariana_Islands",
         "marker": {
          "color": "#862A16",
          "size": [
           56882,
           56882,
           56882,
           56882,
           56882,
           56882,
           56882,
           56882,
           56882,
           56882,
           56882,
           56882,
           56882,
           56882,
           56882,
           56882,
           56882,
           56882,
           56882
          ],
          "sizemode": "area",
          "sizeref": 3481825,
          "symbol": "circle"
         },
         "mode": "markers",
         "name": "Northern_Mariana_Islands",
         "showlegend": true,
         "type": "scattergl",
         "x": [
          1,
          2,
          3,
          4,
          5,
          6,
          7,
          8,
          9,
          10,
          11,
          12,
          13,
          14,
          15,
          16,
          17,
          18,
          19
         ],
         "xaxis": "x",
         "y": [
          17.580253858865724,
          17.580253858865724,
          17.580253858865724,
          17.580253858865724,
          17.580253858865724,
          17.580253858865724,
          35.16050771773145,
          35.16050771773145,
          35.16050771773145,
          35.16050771773145,
          35.16050771773145,
          35.16050771773145,
          35.16050771773145,
          35.16050771773145,
          35.16050771773145,
          35.16050771773145,
          35.16050771773145,
          35.16050771773145,
          35.16050771773145
         ],
         "yaxis": "y"
        },
        {
         "hovertemplate": "Country=Norway<br>Day=%{x}<br>Dead_per_million=%{y}<br>popData2018=%{marker.size}<extra></extra>",
         "legendgroup": "Norway",
         "marker": {
          "color": "#A777F1",
          "size": [
           5314336,
           5314336,
           5314336,
           5314336,
           5314336,
           5314336,
           5314336,
           5314336,
           5314336,
           5314336,
           5314336,
           5314336,
           5314336,
           5314336,
           5314336,
           5314336,
           5314336,
           5314336,
           5314336,
           5314336,
           5314336,
           5314336,
           5314336,
           5314336,
           5314336,
           5314336,
           5314336,
           5314336,
           5314336,
           5314336,
           5314336,
           5314336
          ],
          "sizemode": "area",
          "sizeref": 3481825,
          "symbol": "circle"
         },
         "mode": "markers",
         "name": "Norway",
         "showlegend": true,
         "type": "scattergl",
         "x": [
          1,
          2,
          3,
          4,
          5,
          6,
          7,
          8,
          9,
          10,
          11,
          12,
          13,
          14,
          15,
          16,
          17,
          18,
          19,
          20,
          21,
          22,
          23,
          24,
          25,
          26,
          27,
          28,
          29,
          30,
          31,
          32
         ],
         "xaxis": "x",
         "y": [
          1.1290215748496144,
          1.31719183732455,
          1.31719183732455,
          1.31719183732455,
          1.5053620997994857,
          1.8817026247493573,
          2.258043149699229,
          2.6343836746491,
          3.0107241995989713,
          3.7634052494987147,
          4.139745774448586,
          4.892426824348329,
          5.2687673492982,
          6.021448399197943,
          7.9031510239473,
          8.279491548897171,
          9.408513123746786,
          10.913875223546272,
          11.102045486021208,
          12.983748110770565,
          15.053620997994859,
          16.558983097794343,
          17.311664147694085,
          18.4406857225437,
          19.38153703491838,
          21.451409922142673,
          23.897623334316837,
          24.462134121741645,
          25.591155696591258,
          25.591155696591258,
          27.849198846290488,
          28.9782204211401
         ],
         "yaxis": "y"
        },
        {
         "hovertemplate": "Country=Oman<br>Day=%{x}<br>Dead_per_million=%{y}<br>popData2018=%{marker.size}<extra></extra>",
         "legendgroup": "Oman",
         "marker": {
          "color": "#620042",
          "size": [
           4829483,
           4829483,
           4829483
          ],
          "sizemode": "area",
          "sizeref": 3481825,
          "symbol": "circle"
         },
         "mode": "markers",
         "name": "Oman",
         "showlegend": true,
         "type": "scattergl",
         "x": [
          1,
          2,
          3
         ],
         "xaxis": "x",
         "y": [
          1.2423690072001494,
          1.2423690072001494,
          1.4494305084001746
         ],
         "yaxis": "y"
        },
        {
         "hovertemplate": "Country=Panama<br>Day=%{x}<br>Dead_per_million=%{y}<br>popData2018=%{marker.size}<extra></extra>",
         "legendgroup": "Panama",
         "marker": {
          "color": "#1616A7",
          "size": [
           4176873,
           4176873,
           4176873,
           4176873,
           4176873,
           4176873,
           4176873,
           4176873,
           4176873,
           4176873,
           4176873,
           4176873,
           4176873,
           4176873,
           4176873,
           4176873,
           4176873,
           4176873,
           4176873,
           4176873,
           4176873,
           4176873,
           4176873,
           4176873,
           4176873,
           4176873,
           4176873,
           4176873
          ],
          "sizemode": "area",
          "sizeref": 3481825,
          "symbol": "circle"
         },
         "mode": "markers",
         "name": "Panama",
         "showlegend": true,
         "type": "scattergl",
         "x": [
          1,
          2,
          3,
          4,
          5,
          6,
          7,
          8,
          9,
          10,
          11,
          12,
          13,
          14,
          15,
          16,
          17,
          18,
          19,
          20,
          21,
          22,
          23,
          24,
          25,
          26,
          27,
          28
         ],
         "xaxis": "x",
         "y": [
          1.436481310300792,
          1.436481310300792,
          1.436481310300792,
          2.154721965451188,
          3.3517897240351813,
          4.070030379185577,
          5.745925241203168,
          6.224752344636766,
          7.18240655150396,
          7.661233654937558,
          8.85830141352155,
          9.815955620388745,
          11.013023378972738,
          12.928331792707128,
          13.167745344423926,
          14.125399551291121,
          15.083053758158316,
          15.80129441330871,
          17.7166028270431,
          18.913670585627095,
          20.828978999361485,
          22.504873861379075,
          22.744287413095876,
          24.659595826830262,
          26.096077137131054,
          27.771971999148644,
          28.72962620601584,
          30.166107516316632
         ],
         "yaxis": "y"
        },
        {
         "hovertemplate": "Country=Paraguay<br>Day=%{x}<br>Dead_per_million=%{y}<br>popData2018=%{marker.size}<extra></extra>",
         "legendgroup": "Paraguay",
         "marker": {
          "color": "#DA60CA",
          "size": [
           6956071,
           6956071,
           6956071,
           6956071,
           6956071,
           6956071,
           6956071
          ],
          "sizemode": "area",
          "sizeref": 3481825,
          "symbol": "circle"
         },
         "mode": "markers",
         "name": "Paraguay",
         "showlegend": true,
         "type": "scattergl",
         "x": [
          1,
          2,
          3,
          4,
          5,
          6,
          7
         ],
         "xaxis": "x",
         "y": [
          1.00631520293568,
          1.1500745176407774,
          1.1500745176407774,
          1.1500745176407774,
          1.1500745176407774,
          1.1500745176407774,
          1.1500745176407774
         ],
         "yaxis": "y"
        },
        {
         "hovertemplate": "Country=Peru<br>Day=%{x}<br>Dead_per_million=%{y}<br>popData2018=%{marker.size}<extra></extra>",
         "legendgroup": "Peru",
         "marker": {
          "color": "#6C4516",
          "size": [
           31989256,
           31989256,
           31989256,
           31989256,
           31989256,
           31989256,
           31989256,
           31989256,
           31989256,
           31989256,
           31989256,
           31989256,
           31989256,
           31989256,
           31989256,
           31989256,
           31989256,
           31989256,
           31989256
          ],
          "sizemode": "area",
          "sizeref": 3481825,
          "symbol": "circle"
         },
         "mode": "markers",
         "name": "Peru",
         "showlegend": true,
         "type": "scattergl",
         "x": [
          1,
          2,
          3,
          4,
          5,
          6,
          7,
          8,
          9,
          10,
          11,
          12,
          13,
          14,
          15,
          16,
          17,
          18,
          19
         ],
         "xaxis": "x",
         "y": [
          1.4692432984374504,
          1.7193272641289314,
          1.9068902383975421,
          2.2820161869347637,
          2.5946211440491145,
          2.8759656054520306,
          3.344873041123557,
          3.7825199810836487,
          4.313948408178046,
          5.283023775232535,
          5.658149723769756,
          6.033275672306977,
          6.033275672306977,
          7.189914013630076,
          7.940165910704519,
          8.565375824933222,
          9.378148713430534,
          10.87865250757942,
          12.504198284574045
         ],
         "yaxis": "y"
        },
        {
         "hovertemplate": "Country=Philippines<br>Day=%{x}<br>Dead_per_million=%{y}<br>popData2018=%{marker.size}<extra></extra>",
         "legendgroup": "Philippines",
         "marker": {
          "color": "#0D2A63",
          "size": [
           106651922,
           106651922,
           106651922,
           106651922,
           106651922,
           106651922,
           106651922,
           106651922,
           106651922,
           106651922,
           106651922,
           106651922,
           106651922,
           106651922,
           106651922,
           106651922,
           106651922,
           106651922
          ],
          "sizemode": "area",
          "sizeref": 3481825,
          "symbol": "circle"
         },
         "mode": "markers",
         "name": "Philippines",
         "showlegend": true,
         "type": "scattergl",
         "x": [
          1,
          2,
          3,
          4,
          5,
          6,
          7,
          8,
          9,
          10,
          11,
          12,
          13,
          14,
          15,
          16,
          17,
          18
         ],
         "xaxis": "x",
         "y": [
          1.0032636823928969,
          1.275176269209663,
          1.3501866379867022,
          1.4251970067637414,
          1.5283362638321698,
          1.659604409191988,
          1.7064858896776374,
          1.9033881077173649,
          1.9033881077173649,
          2.3159451359910794,
          2.7847599408475734,
          2.9535332705959108,
          3.1410591925385085,
          3.272327337898327,
          3.3942191871610152,
          3.6286265895892624,
          3.722389550560561,
          3.8349051037261197
         ],
         "yaxis": "y"
        },
        {
         "hovertemplate": "Country=Poland<br>Day=%{x}<br>Dead_per_million=%{y}<br>popData2018=%{marker.size}<extra></extra>",
         "legendgroup": "Poland",
         "marker": {
          "color": "#AF0038",
          "size": [
           37978548,
           37978548,
           37978548,
           37978548,
           37978548,
           37978548,
           37978548,
           37978548,
           37978548,
           37978548,
           37978548,
           37978548,
           37978548,
           37978548,
           37978548,
           37978548,
           37978548,
           37978548,
           37978548
          ],
          "sizemode": "area",
          "sizeref": 3481825,
          "symbol": "circle"
         },
         "mode": "markers",
         "name": "Poland",
         "showlegend": true,
         "type": "scattergl",
         "x": [
          1,
          2,
          3,
          4,
          5,
          6,
          7,
          8,
          9,
          10,
          11,
          12,
          13,
          14,
          15,
          16,
          17,
          18,
          19
         ],
         "xaxis": "x",
         "y": [
          1.1322181142891508,
          1.5008472677786417,
          1.8694764212681327,
          2.080121651833556,
          2.475081459143725,
          2.817379958812538,
          3.3966543428674525,
          4.1865739574877905,
          4.5815337647979595,
          4.765848341542704,
          5.476775994701009,
          6.108711686397279,
          6.451010186066092,
          6.924961954838294,
          7.530566992713887,
          8.267825299692868,
          8.741777068465073,
          9.13673687577524,
          9.479035375444052
         ],
         "yaxis": "y"
        },
        {
         "hovertemplate": "Country=Portugal<br>Day=%{x}<br>Dead_per_million=%{y}<br>popData2018=%{marker.size}<extra></extra>",
         "legendgroup": "Portugal",
         "marker": {
          "color": "#2E91E5",
          "size": [
           10281762,
           10281762,
           10281762,
           10281762,
           10281762,
           10281762,
           10281762,
           10281762,
           10281762,
           10281762,
           10281762,
           10281762,
           10281762,
           10281762,
           10281762,
           10281762,
           10281762,
           10281762,
           10281762,
           10281762,
           10281762,
           10281762,
           10281762,
           10281762,
           10281762,
           10281762,
           10281762,
           10281762,
           10281762,
           10281762
          ],
          "sizemode": "area",
          "sizeref": 3481825,
          "symbol": "circle"
         },
         "mode": "markers",
         "name": "Portugal",
         "showlegend": true,
         "type": "scattergl",
         "x": [
          1,
          2,
          3,
          4,
          5,
          6,
          7,
          8,
          9,
          10,
          11,
          12,
          13,
          14,
          15,
          16,
          17,
          18,
          19,
          20,
          21,
          22,
          23,
          24,
          25,
          26,
          27,
          28,
          29,
          30
         ],
         "xaxis": "x",
         "y": [
          1.1671151306556211,
          1.3616343190982245,
          2.2369706670899405,
          3.209566609302958,
          4.182162551515976,
          5.835575653278106,
          7.391729160818933,
          9.725959422130176,
          11.57389171233491,
          13.616343190982246,
          15.561535075408283,
          18.18754411938343,
          20.327255192252068,
          23.92586017844023,
          25.871052062866266,
          28.691580295284016,
          30.247733802824847,
          33.55456000634911,
          36.95864580409467,
          39.77917403651242,
          42.30792348626626,
          45.71200928401183,
          49.01883548753609,
          52.03388290839644,
          55.1461899234781,
          58.25849693855975,
          61.17628476519881,
          63.89955340339526,
          66.8173412300343,
          69.44335027400946
         ],
         "yaxis": "y"
        },
        {
         "hovertemplate": "Country=Puerto_Rico<br>Day=%{x}<br>Dead_per_million=%{y}<br>popData2018=%{marker.size}<extra></extra>",
         "legendgroup": "Puerto_Rico",
         "marker": {
          "color": "#E15F99",
          "size": [
           3195153,
           3195153,
           3195153,
           3195153,
           3195153,
           3195153,
           3195153,
           3195153,
           3195153,
           3195153,
           3195153,
           3195153,
           3195153,
           3195153,
           3195153,
           3195153,
           3195153,
           3195153,
           3195153,
           3195153,
           3195153,
           3195153
          ],
          "sizemode": "area",
          "sizeref": 3481825,
          "symbol": "circle"
         },
         "mode": "markers",
         "name": "Puerto_Rico",
         "showlegend": true,
         "type": "scattergl",
         "x": [
          1,
          2,
          3,
          4,
          5,
          6,
          7,
          8,
          9,
          10,
          11,
          12,
          13,
          14,
          15,
          16,
          17,
          18,
          19,
          20,
          21,
          22
         ],
         "xaxis": "x",
         "y": [
          1.5648702894665765,
          1.8778443473598916,
          2.5037924631465223,
          3.442714636826468,
          3.755688694719783,
          4.694610868399729,
          5.633533042079675,
          6.259481157866306,
          6.5724552157596206,
          7.198403331546252,
          7.511377389439566,
          10.328143910479405,
          12.205988257839296,
          13.144910431519241,
          13.770858547305872,
          14.083832605199188,
          14.083832605199188,
          15.961676952559081,
          17.526547242025657,
          18.152495357812285,
          18.778443473598916,
          19.404391589385547
         ],
         "yaxis": "y"
        },
        {
         "hovertemplate": "Country=Qatar<br>Day=%{x}<br>Dead_per_million=%{y}<br>popData2018=%{marker.size}<extra></extra>",
         "legendgroup": "Qatar",
         "marker": {
          "color": "#1CA71C",
          "size": [
           2781677,
           2781677,
           2781677,
           2781677,
           2781677,
           2781677,
           2781677,
           2781677,
           2781677,
           2781677,
           2781677,
           2781677,
           2781677,
           2781677,
           2781677,
           2781677,
           2781677,
           2781677
          ],
          "sizemode": "area",
          "sizeref": 3481825,
          "symbol": "circle"
         },
         "mode": "markers",
         "name": "Qatar",
         "showlegend": true,
         "type": "scattergl",
         "x": [
          1,
          2,
          3,
          4,
          5,
          6,
          7,
          8,
          9,
          10,
          11,
          12,
          13,
          14,
          15,
          16,
          17,
          18
         ],
         "xaxis": "x",
         "y": [
          1.0784861074812064,
          1.0784861074812064,
          1.0784861074812064,
          1.4379814766416086,
          1.4379814766416086,
          2.156972214962413,
          2.156972214962413,
          2.156972214962413,
          2.156972214962413,
          2.156972214962413,
          2.516467584122815,
          2.516467584122815,
          2.516467584122815,
          2.516467584122815,
          2.516467584122815,
          2.516467584122815,
          2.875962953283217,
          2.875962953283217
         ],
         "yaxis": "y"
        },
        {
         "hovertemplate": "Country=Romania<br>Day=%{x}<br>Dead_per_million=%{y}<br>popData2018=%{marker.size}<extra></extra>",
         "legendgroup": "Romania",
         "marker": {
          "color": "#FB0D0D",
          "size": [
           19473936,
           19473936,
           19473936,
           19473936,
           19473936,
           19473936,
           19473936,
           19473936,
           19473936,
           19473936,
           19473936,
           19473936,
           19473936,
           19473936,
           19473936,
           19473936,
           19473936,
           19473936,
           19473936,
           19473936,
           19473936,
           19473936,
           19473936,
           19473936
          ],
          "sizemode": "area",
          "sizeref": 3481825,
          "symbol": "circle"
         },
         "mode": "markers",
         "name": "Romania",
         "showlegend": true,
         "type": "scattergl",
         "x": [
          1,
          2,
          3,
          4,
          5,
          6,
          7,
          8,
          9,
          10,
          11,
          12,
          13,
          14,
          15,
          16,
          17,
          18,
          19,
          20,
          21,
          22,
          23,
          24
         ],
         "xaxis": "x",
         "y": [
          1.2324164976202037,
          1.489169934624413,
          2.054027496033673,
          2.25943024563704,
          3.543197430658086,
          4.364808429071555,
          4.826964615679131,
          6.829641424311962,
          7.240446923518697,
          7.59990173532459,
          8.062057921932167,
          9.345825106953212,
          10.732293666775941,
          11.759307414792778,
          13.197126662016348,
          14.480893847037393,
          15.7133103446576,
          16.3295185934677,
          17.664636465889586,
          19.10245571311316,
          19.872716024125786,
          20.540274960336728,
          21.413236646151038,
          22.286198331965352
         ],
         "yaxis": "y"
        },
        {
         "hovertemplate": "Country=Russia<br>Day=%{x}<br>Dead_per_million=%{y}<br>popData2018=%{marker.size}<extra></extra>",
         "legendgroup": "Russia",
         "marker": {
          "color": "#DA16FF",
          "size": [
           144478050,
           144478050,
           144478050,
           144478050,
           144478050,
           144478050,
           144478050
          ],
          "sizemode": "area",
          "sizeref": 3481825,
          "symbol": "circle"
         },
         "mode": "markers",
         "name": "Russia",
         "showlegend": true,
         "type": "scattergl",
         "x": [
          1,
          2,
          3,
          4,
          5,
          6,
          7
         ],
         "xaxis": "x",
         "y": [
          1.0243770593526145,
          1.176649324932057,
          1.3704503902149843,
          1.6057802552013956,
          1.8895603865085389,
          2.1664190511984347,
          2.49864944882631
         ],
         "yaxis": "y"
        },
        {
         "hovertemplate": "Country=San_Marino<br>Day=%{x}<br>Dead_per_million=%{y}<br>popData2018=%{marker.size}<extra></extra>",
         "legendgroup": "San_Marino",
         "marker": {
          "color": "#222A2A",
          "size": [
           33785,
           33785,
           33785,
           33785,
           33785,
           33785,
           33785,
           33785,
           33785,
           33785,
           33785,
           33785,
           33785,
           33785,
           33785,
           33785,
           33785,
           33785,
           33785,
           33785,
           33785,
           33785,
           33785,
           33785,
           33785,
           33785,
           33785,
           33785,
           33785,
           33785,
           33785,
           33785,
           33785,
           33785,
           33785,
           33785,
           33785,
           33785,
           33785,
           33785,
           33785,
           33785,
           33785,
           33785,
           33785,
           33785,
           33785,
           33785,
           33785
          ],
          "sizemode": "area",
          "sizeref": 3481825,
          "symbol": "circle"
         },
         "mode": "markers",
         "name": "San_Marino",
         "showlegend": true,
         "type": "scattergl",
         "x": [
          1,
          2,
          3,
          4,
          5,
          6,
          7,
          8,
          9,
          10,
          11,
          12,
          13,
          14,
          15,
          16,
          17,
          18,
          19,
          20,
          21,
          22,
          23,
          24,
          25,
          26,
          27,
          28,
          29,
          30,
          31,
          32,
          33,
          34,
          35,
          36,
          37,
          38,
          39,
          40,
          41,
          42,
          43,
          44,
          45,
          46,
          47,
          48,
          49
         ],
         "xaxis": "x",
         "y": [
          29.59893443836022,
          29.59893443836022,
          29.59893443836022,
          29.59893443836022,
          29.59893443836022,
          29.59893443836022,
          29.59893443836022,
          59.19786887672044,
          59.19786887672044,
          88.79680331508065,
          147.9946721918011,
          147.9946721918011,
          147.9946721918011,
          207.19254106852154,
          266.39040994524197,
          325.5882788219624,
          414.38508213704307,
          414.38508213704307,
          414.38508213704307,
          591.9786887672044,
          591.9786887672044,
          591.9786887672044,
          621.5776232055646,
          621.5776232055646,
          621.5776232055646,
          621.5776232055646,
          651.1765576439248,
          710.3744265206452,
          739.9733609590055,
          769.5722953973657,
          769.5722953973657,
          887.9680331508066,
          947.1659020275271,
          947.1659020275271,
          947.1659020275271,
          947.1659020275271,
          1006.3637709042475,
          1006.3637709042475,
          1006.3637709042475,
          1006.3637709042475,
          1035.9627053426077,
          1035.9627053426077,
          1065.5616397809679,
          1065.5616397809679,
          1065.5616397809679,
          1124.7595086576885,
          1154.3584430960486,
          1154.3584430960486,
          1154.3584430960486
         ],
         "yaxis": "y"
        },
        {
         "hovertemplate": "Country=Saudi_Arabia<br>Day=%{x}<br>Dead_per_million=%{y}<br>popData2018=%{marker.size}<extra></extra>",
         "legendgroup": "Saudi_Arabia",
         "marker": {
          "color": "#B68100",
          "size": [
           33699947,
           33699947,
           33699947,
           33699947,
           33699947,
           33699947,
           33699947,
           33699947,
           33699947,
           33699947,
           33699947,
           33699947,
           33699947,
           33699947,
           33699947
          ],
          "sizemode": "area",
          "sizeref": 3481825,
          "symbol": "circle"
         },
         "mode": "markers",
         "name": "Saudi_Arabia",
         "showlegend": true,
         "type": "scattergl",
         "x": [
          1,
          2,
          3,
          4,
          5,
          6,
          7,
          8,
          9,
          10,
          11,
          12,
          13,
          14,
          15
         ],
         "xaxis": "x",
         "y": [
          1.0089036638544266,
          1.127598212543183,
          1.21661912405975,
          1.21661912405975,
          1.3056400355763171,
          1.3946609470928841,
          1.5430291329538293,
          1.7507445931591525,
          1.9287864161922865,
          2.1661755135697986,
          2.344217336602933,
          2.462911885291689,
          2.581606433980445,
          2.72997461984139,
          2.8783428057023355
         ],
         "yaxis": "y"
        },
        {
         "hovertemplate": "Country=Serbia<br>Day=%{x}<br>Dead_per_million=%{y}<br>popData2018=%{marker.size}<extra></extra>",
         "legendgroup": "Serbia",
         "marker": {
          "color": "#750D86",
          "size": [
           6982084,
           6982084,
           6982084,
           6982084,
           6982084,
           6982084,
           6982084,
           6982084,
           6982084,
           6982084,
           6982084,
           6982084,
           6982084,
           6982084,
           6982084,
           6982084,
           6982084,
           6982084,
           6982084,
           6982084,
           6982084,
           6982084,
           6982084
          ],
          "sizemode": "area",
          "sizeref": 3481825,
          "symbol": "circle"
         },
         "mode": "markers",
         "name": "Serbia",
         "showlegend": true,
         "type": "scattergl",
         "x": [
          1,
          2,
          3,
          4,
          5,
          6,
          7,
          8,
          9,
          10,
          11,
          12,
          13,
          14,
          15,
          16,
          17,
          18,
          19,
          20,
          21,
          22,
          23
         ],
         "xaxis": "x",
         "y": [
          1.4322371372214944,
          1.8619082783879426,
          1.8619082783879426,
          3.294145415609437,
          3.294145415609437,
          4.439935125386632,
          5.585724835163828,
          6.3018434037745745,
          7.304409399829622,
          8.306975395884667,
          8.736646537051117,
          9.309541391939714,
          9.452765105661863,
          10.168883674272609,
          10.598554815439059,
          11.457897097771955,
          12.174015666382703,
          13.463029089882047,
          14.179147658492795,
          14.75204251338139,
          15.754608509436439,
          16.757174505491484,
          17.473293074102234
         ],
         "yaxis": "y"
        },
        {
         "hovertemplate": "Country=Singapore<br>Day=%{x}<br>Dead_per_million=%{y}<br>popData2018=%{marker.size}<extra></extra>",
         "legendgroup": "Singapore",
         "marker": {
          "color": "#EB663B",
          "size": [
           5638676,
           5638676,
           5638676,
           5638676,
           5638676,
           5638676,
           5638676,
           5638676,
           5638676,
           5638676,
           5638676,
           5638676,
           5638676,
           5638676,
           5638676,
           5638676
          ],
          "sizemode": "area",
          "sizeref": 3481825,
          "symbol": "circle"
         },
         "mode": "markers",
         "name": "Singapore",
         "showlegend": true,
         "type": "scattergl",
         "x": [
          1,
          2,
          3,
          4,
          5,
          6,
          7,
          8,
          9,
          10,
          11,
          12,
          13,
          14,
          15,
          16
         ],
         "xaxis": "x",
         "y": [
          1.0640795818025366,
          1.0640795818025366,
          1.0640795818025366,
          1.0640795818025366,
          1.0640795818025366,
          1.0640795818025366,
          1.0640795818025366,
          1.4187727757367155,
          1.4187727757367155,
          1.596119372703805,
          1.7734659696708943,
          1.7734659696708943,
          1.7734659696708943,
          1.9508125666379836,
          1.9508125666379836,
          1.9508125666379836
         ],
         "yaxis": "y"
        },
        {
         "hovertemplate": "Country=Sint_Maarten<br>Day=%{x}<br>Dead_per_million=%{y}<br>popData2018=%{marker.size}<extra></extra>",
         "legendgroup": "Sint_Maarten",
         "marker": {
          "color": "#511CFB",
          "size": [
           41486,
           41486,
           41486,
           41486,
           41486,
           41486,
           41486,
           41486,
           41486,
           41486,
           41486,
           41486,
           41486,
           41486,
           41486,
           41486,
           41486,
           41486,
           41486
          ],
          "sizemode": "area",
          "sizeref": 3481825,
          "symbol": "circle"
         },
         "mode": "markers",
         "name": "Sint_Maarten",
         "showlegend": true,
         "type": "scattergl",
         "x": [
          1,
          2,
          3,
          4,
          5,
          6,
          7,
          8,
          9,
          10,
          11,
          12,
          13,
          14,
          15,
          16,
          17,
          18,
          19
         ],
         "xaxis": "x",
         "y": [
          24.104517186520752,
          48.209034373041504,
          48.209034373041504,
          48.209034373041504,
          96.41806874608301,
          96.41806874608301,
          192.83613749216602,
          192.83613749216602,
          192.83613749216602,
          216.9406546786868,
          216.9406546786868,
          216.9406546786868,
          216.9406546786868,
          216.9406546786868,
          216.9406546786868,
          216.9406546786868,
          216.9406546786868,
          216.9406546786868,
          241.04517186520755
         ],
         "yaxis": "y"
        },
        {
         "hovertemplate": "Country=Slovakia<br>Day=%{x}<br>Dead_per_million=%{y}<br>popData2018=%{marker.size}<extra></extra>",
         "legendgroup": "Slovakia",
         "marker": {
          "color": "#00A08B",
          "size": [
           5447011,
           5447011,
           5447011,
           5447011,
           5447011
          ],
          "sizemode": "area",
          "sizeref": 3481825,
          "symbol": "circle"
         },
         "mode": "markers",
         "name": "Slovakia",
         "showlegend": true,
         "type": "scattergl",
         "x": [
          1,
          2,
          3,
          4,
          5
         ],
         "xaxis": "x",
         "y": [
          1.1015215500758122,
          1.468695400101083,
          1.6522823251137184,
          2.019456175138989,
          2.2030431001516244
         ],
         "yaxis": "y"
        },
        {
         "hovertemplate": "Country=Slovenia<br>Day=%{x}<br>Dead_per_million=%{y}<br>popData2018=%{marker.size}<extra></extra>",
         "legendgroup": "Slovenia",
         "marker": {
          "color": "#FB00D1",
          "size": [
           2067372,
           2067372,
           2067372,
           2067372,
           2067372,
           2067372,
           2067372,
           2067372,
           2067372,
           2067372,
           2067372,
           2067372,
           2067372,
           2067372,
           2067372,
           2067372,
           2067372,
           2067372,
           2067372,
           2067372,
           2067372,
           2067372,
           2067372,
           2067372,
           2067372,
           2067372,
           2067372
          ],
          "sizemode": "area",
          "sizeref": 3481825,
          "symbol": "circle"
         },
         "mode": "markers",
         "name": "Slovenia",
         "showlegend": true,
         "type": "scattergl",
         "x": [
          1,
          2,
          3,
          4,
          5,
          6,
          7,
          8,
          9,
          10,
          11,
          12,
          13,
          14,
          15,
          16,
          17,
          18,
          19,
          20,
          21,
          22,
          23,
          24,
          25,
          26,
          27
         ],
         "xaxis": "x",
         "y": [
          1.4511176508146575,
          1.9348235344195432,
          2.4185294180244292,
          4.353352952443973,
          4.353352952443973,
          5.320764719653744,
          5.320764719653744,
          6.288176486863516,
          7.255588254073287,
          7.739294137678173,
          9.674117672097717,
          10.641529439307488,
          13.543764740936803,
          14.511176508146574,
          17.41341180977589,
          19.348235344195434,
          20.79935299501009,
          21.76676476221986,
          24.18529418024429,
          25.636411831058947,
          26.60382359826872,
          27.087529481873606,
          29.506058899898036,
          29.506058899898036,
          31.924588317922463,
          33.85941185234201,
          35.79423538676155
         ],
         "yaxis": "y"
        },
        {
         "hovertemplate": "Country=South_Korea<br>Day=%{x}<br>Dead_per_million=%{y}<br>popData2018=%{marker.size}<extra></extra>",
         "legendgroup": "South_Korea",
         "marker": {
          "color": "#FC0080",
          "size": [
           51635256,
           51635256,
           51635256,
           51635256,
           51635256,
           51635256,
           51635256,
           51635256,
           51635256,
           51635256,
           51635256,
           51635256,
           51635256,
           51635256,
           51635256,
           51635256,
           51635256,
           51635256,
           51635256,
           51635256,
           51635256,
           51635256,
           51635256,
           51635256,
           51635256,
           51635256,
           51635256,
           51635256,
           51635256,
           51635256,
           51635256,
           51635256,
           51635256,
           51635256,
           51635256,
           51635256,
           51635256,
           51635256,
           51635256,
           51635256,
           51635256,
           51635256
          ],
          "sizemode": "area",
          "sizeref": 3481825,
          "symbol": "circle"
         },
         "mode": "markers",
         "name": "South_Korea",
         "showlegend": true,
         "type": "scattergl",
         "x": [
          1,
          2,
          3,
          4,
          5,
          6,
          7,
          8,
          9,
          10,
          11,
          12,
          13,
          14,
          15,
          16,
          17,
          18,
          19,
          20,
          21,
          22,
          23,
          24,
          25,
          26,
          27,
          28,
          29,
          30,
          31,
          32,
          33,
          34,
          35,
          36,
          37,
          38,
          39,
          40,
          41,
          42
         ],
         "xaxis": "x",
         "y": [
          1.0457970809711876,
          1.161996756634653,
          1.2781964322981183,
          1.2975630449086957,
          1.3943961079615834,
          1.4524959457933162,
          1.4524959457933162,
          1.5686956214567813,
          1.665528684509669,
          1.7623617475625568,
          1.936661261057755,
          1.9947610988894875,
          2.0141277115000653,
          2.188427224995263,
          2.323993513269306,
          2.440193188932771,
          2.537026251985659,
          2.6919591528702793,
          2.788792215923167,
          2.943725116807787,
          3.0599247924712527,
          3.1567578555241402,
          3.1567578555241402,
          3.2729575311876054,
          3.3697905942404933,
          3.427890432072226,
          3.544090107735691,
          3.602189945567424,
          3.718389621230889,
          3.87332252211551,
          3.9507889725578202,
          4.028255423000131,
          4.028255423000131,
          4.144455098663595,
          4.2025549364953285,
          4.299387999548216,
          4.357487837379948,
          4.434954287822259,
          4.454320900432836,
          4.493054125653991,
          4.531787350875146,
          4.5705205760963015
         ],
         "yaxis": "y"
        },
        {
         "hovertemplate": "Country=Spain<br>Day=%{x}<br>Dead_per_million=%{y}<br>popData2018=%{marker.size}<extra></extra>",
         "legendgroup": "Spain",
         "marker": {
          "color": "#B2828D",
          "size": [
           46723749,
           46723749,
           46723749,
           46723749,
           46723749,
           46723749,
           46723749,
           46723749,
           46723749,
           46723749,
           46723749,
           46723749,
           46723749,
           46723749,
           46723749,
           46723749,
           46723749,
           46723749,
           46723749,
           46723749,
           46723749,
           46723749,
           46723749,
           46723749,
           46723749,
           46723749,
           46723749,
           46723749,
           46723749,
           46723749,
           46723749,
           46723749,
           46723749,
           46723749,
           46723749,
           46723749,
           46723749,
           46723749,
           46723749,
           46723749
          ],
          "sizemode": "area",
          "sizeref": 3481825,
          "symbol": "circle"
         },
         "mode": "markers",
         "name": "Spain",
         "showlegend": true,
         "type": "scattergl",
         "x": [
          1,
          2,
          3,
          4,
          5,
          6,
          7,
          8,
          9,
          10,
          11,
          12,
          13,
          14,
          15,
          16,
          17,
          18,
          19,
          20,
          21,
          22,
          23,
          24,
          25,
          26,
          27,
          28,
          29,
          30,
          31,
          32,
          33,
          34,
          35,
          36,
          37,
          38,
          39,
          40
         ],
         "xaxis": "x",
         "y": [
          1.005912432240829,
          1.7978009427282902,
          2.5896894532157515,
          2.910725335845803,
          6.163888946496995,
          6.613339182179067,
          10.508574558090361,
          12.798630520851399,
          16.415634798483314,
          21.44519695968746,
          28.37957202449658,
          36.81211454157927,
          46.70001972658487,
          57.70084930470797,
          73.49581473010653,
          87.51438160495212,
          103.97282118778611,
          121.77961147766631,
          139.71481612059856,
          157.09355856697204,
          175.26418952383295,
          193.75585636332394,
          214.08812892989386,
          234.03515843730776,
          251.34969370715524,
          265.77490603333223,
          279.4082298490217,
          295.31020723529696,
          311.5118181120269,
          326.1296519677819,
          339.0780992338607,
          349.9933192432825,
          363.24139999981594,
          374.30643675446504,
          386.441593117881,
          397.63504422558213,
          409.42776231419276,
          416.87579479120996,
          428.96814637027524,
          437.74312716216326
         ],
         "yaxis": "y"
        },
        {
         "hovertemplate": "Country=Suriname<br>Day=%{x}<br>Dead_per_million=%{y}<br>popData2018=%{marker.size}<extra></extra>",
         "legendgroup": "Suriname",
         "marker": {
          "color": "#6C7C32",
          "size": [
           575991,
           575991,
           575991,
           575991,
           575991,
           575991,
           575991,
           575991,
           575991,
           575991,
           575991,
           575991,
           575991,
           575991,
           575991,
           575991,
           575991
          ],
          "sizemode": "area",
          "sizeref": 3481825,
          "symbol": "circle"
         },
         "mode": "markers",
         "name": "Suriname",
         "showlegend": true,
         "type": "scattergl",
         "x": [
          1,
          2,
          3,
          4,
          5,
          6,
          7,
          8,
          9,
          10,
          11,
          12,
          13,
          14,
          15,
          16,
          17
         ],
         "xaxis": "x",
         "y": [
          1.736138238271084,
          1.736138238271084,
          1.736138238271084,
          1.736138238271084,
          1.736138238271084,
          1.736138238271084,
          1.736138238271084,
          1.736138238271084,
          1.736138238271084,
          1.736138238271084,
          1.736138238271084,
          1.736138238271084,
          1.736138238271084,
          1.736138238271084,
          1.736138238271084,
          1.736138238271084,
          1.736138238271084
         ],
         "yaxis": "y"
        },
        {
         "hovertemplate": "Country=Sweden<br>Day=%{x}<br>Dead_per_million=%{y}<br>popData2018=%{marker.size}<extra></extra>",
         "legendgroup": "Sweden",
         "marker": {
          "color": "#778AAE",
          "size": [
           10183175,
           10183175,
           10183175,
           10183175,
           10183175,
           10183175,
           10183175,
           10183175,
           10183175,
           10183175,
           10183175,
           10183175,
           10183175,
           10183175,
           10183175,
           10183175,
           10183175,
           10183175,
           10183175,
           10183175,
           10183175,
           10183175,
           10183175,
           10183175,
           10183175,
           10183175,
           10183175,
           10183175,
           10183175,
           10183175,
           10183175
          ],
          "sizemode": "area",
          "sizeref": 3481825,
          "symbol": "circle"
         },
         "mode": "markers",
         "name": "Sweden",
         "showlegend": true,
         "type": "scattergl",
         "x": [
          1,
          2,
          3,
          4,
          5,
          6,
          7,
          8,
          9,
          10,
          11,
          12,
          13,
          14,
          15,
          16,
          17,
          18,
          19,
          20,
          21,
          22,
          23,
          24,
          25,
          26,
          27,
          28,
          29,
          30,
          31
         ],
         "xaxis": "x",
         "y": [
          1.5712191924424357,
          1.9640239905530446,
          2.0622251900806967,
          2.455029988191306,
          3.5352431829954805,
          4.124450380161393,
          6.481279168825047,
          9.034510356544004,
          10.016522351820527,
          10.802131948041746,
          14.337375131037225,
          17.6762159149774,
          23.470086687108886,
          27.69273826679793,
          32.700999442708195,
          36.629047423814285,
          39.378681010588544,
          46.84197217469011,
          58.036908920842464,
          67.46422407549709,
          77.87355122542822,
          85.43504358905744,
          87.10446398102754,
          88.28287837535935,
          90.24690236591239,
          101.44183911206476,
          118.13604303176564,
          130.90219897036042,
          137.48167933871312,
          148.38201248628252,
          151.22984727258444
         ],
         "yaxis": "y"
        },
        {
         "hovertemplate": "Country=Switzerland<br>Day=%{x}<br>Dead_per_million=%{y}<br>popData2018=%{marker.size}<extra></extra>",
         "legendgroup": "Switzerland",
         "marker": {
          "color": "#862A16",
          "size": [
           8516543,
           8516543,
           8516543,
           8516543,
           8516543,
           8516543,
           8516543,
           8516543,
           8516543,
           8516543,
           8516543,
           8516543,
           8516543,
           8516543,
           8516543,
           8516543,
           8516543,
           8516543,
           8516543,
           8516543,
           8516543,
           8516543,
           8516543,
           8516543,
           8516543,
           8516543,
           8516543,
           8516543,
           8516543,
           8516543,
           8516543,
           8516543,
           8516543,
           8516543,
           8516543,
           8516543,
           8516543
          ],
          "sizemode": "area",
          "sizeref": 3481825,
          "symbol": "circle"
         },
         "mode": "markers",
         "name": "Switzerland",
         "showlegend": true,
         "type": "scattergl",
         "x": [
          1,
          2,
          3,
          4,
          5,
          6,
          7,
          8,
          9,
          10,
          11,
          12,
          13,
          14,
          15,
          16,
          17,
          18,
          19,
          20,
          21,
          22,
          23,
          24,
          25,
          26,
          27,
          28,
          29,
          30,
          31,
          32,
          33,
          34,
          35,
          36,
          37
         ],
         "xaxis": "x",
         "y": [
          1.2916038819976603,
          1.5264409514517805,
          1.6438594861788405,
          2.230952159814141,
          2.465789229268261,
          3.874811645992981,
          5.048996993263581,
          6.575437944715362,
          7.045112083623601,
          7.749623291985962,
          10.097993986527163,
          12.094109076887182,
          18.904384091056667,
          23.131451341230825,
          27.593355660859107,
          30.17656342485443,
          34.63846774448271,
          43.79711345319339,
          44.384206126828694,
          50.72480700208993,
          56.830570807897054,
          63.406008752612415,
          65.63696091242656,
          68.57242428060306,
          75.26528076004548,
          82.78006698257732,
          88.76841225365739,
          94.52192045528332,
          97.57480235818689,
          100.74510279581752,
          100.74510279581752,
          105.67668125435404,
          114.2482342894294,
          119.29723128269299,
          124.22880974122951,
          130.33457354703663,
          133.15261838048608
         ],
         "yaxis": "y"
        },
        {
         "hovertemplate": "Country=Trinidad_and_Tobago<br>Day=%{x}<br>Dead_per_million=%{y}<br>popData2018=%{marker.size}<extra></extra>",
         "legendgroup": "Trinidad_and_Tobago",
         "marker": {
          "color": "#A777F1",
          "size": [
           1389858,
           1389858,
           1389858,
           1389858,
           1389858,
           1389858,
           1389858,
           1389858,
           1389858,
           1389858,
           1389858,
           1389858,
           1389858,
           1389858,
           1389858,
           1389858,
           1389858,
           1389858,
           1389858,
           1389858,
           1389858,
           1389858,
           1389858,
           1389858
          ],
          "sizemode": "area",
          "sizeref": 3481825,
          "symbol": "circle"
         },
         "mode": "markers",
         "name": "Trinidad_and_Tobago",
         "showlegend": true,
         "type": "scattergl",
         "x": [
          1,
          2,
          3,
          4,
          5,
          6,
          7,
          8,
          9,
          10,
          11,
          12,
          13,
          14,
          15,
          16,
          17,
          18,
          19,
          20,
          21,
          22,
          23,
          24
         ],
         "xaxis": "x",
         "y": [
          1.438995926202533,
          1.438995926202533,
          2.1584938893037995,
          2.1584938893037995,
          2.1584938893037995,
          3.5974898155063326,
          4.316987778607599,
          4.316987778607599,
          4.316987778607599,
          5.036485741708866,
          5.755983704810132,
          5.755983704810132,
          5.755983704810132,
          5.755983704810132,
          5.755983704810132,
          5.755983704810132,
          5.755983704810132,
          5.755983704810132,
          5.755983704810132,
          5.755983704810132,
          5.755983704810132,
          5.755983704810132,
          5.755983704810132,
          5.755983704810132
         ],
         "yaxis": "y"
        },
        {
         "hovertemplate": "Country=Tunisia<br>Day=%{x}<br>Dead_per_million=%{y}<br>popData2018=%{marker.size}<extra></extra>",
         "legendgroup": "Tunisia",
         "marker": {
          "color": "#620042",
          "size": [
           11565204,
           11565204,
           11565204,
           11565204,
           11565204,
           11565204,
           11565204,
           11565204,
           11565204,
           11565204,
           11565204,
           11565204,
           11565204,
           11565204,
           11565204,
           11565204,
           11565204,
           11565204
          ],
          "sizemode": "area",
          "sizeref": 3481825,
          "symbol": "circle"
         },
         "mode": "markers",
         "name": "Tunisia",
         "showlegend": true,
         "type": "scattergl",
         "x": [
          1,
          2,
          3,
          4,
          5,
          6,
          7,
          8,
          9,
          10,
          11,
          12,
          13,
          14,
          15,
          16,
          17,
          18
         ],
         "xaxis": "x",
         "y": [
          1.124061451920779,
          1.124061451920779,
          1.556392779582617,
          1.6428590451149845,
          1.9022578417120872,
          1.9022578417120872,
          1.988724107244455,
          2.16165663830919,
          2.16165663830919,
          2.421055434906293,
          2.680454231503396,
          2.9398530281004986,
          2.9398530281004986,
          3.0263192936328664,
          3.1992518246976016,
          3.1992518246976016,
          3.1992518246976016,
          3.285718090229969
         ],
         "yaxis": "y"
        },
        {
         "hovertemplate": "Country=Turkey<br>Day=%{x}<br>Dead_per_million=%{y}<br>popData2018=%{marker.size}<extra></extra>",
         "legendgroup": "Turkey",
         "marker": {
          "color": "#1616A7",
          "size": [
           82319724,
           82319724,
           82319724,
           82319724,
           82319724,
           82319724,
           82319724,
           82319724,
           82319724,
           82319724,
           82319724,
           82319724,
           82319724,
           82319724,
           82319724,
           82319724,
           82319724,
           82319724,
           82319724,
           82319724,
           82319724,
           82319724,
           82319724,
           82319724
          ],
          "sizemode": "area",
          "sizeref": 3481825,
          "symbol": "circle"
         },
         "mode": "markers",
         "name": "Turkey",
         "showlegend": true,
         "type": "scattergl",
         "x": [
          1,
          2,
          3,
          4,
          5,
          6,
          7,
          8,
          9,
          10,
          11,
          12,
          13,
          14,
          15,
          16,
          17,
          18,
          19,
          20,
          21,
          22,
          23,
          24
         ],
         "xaxis": "x",
         "y": [
          1.1175936401341675,
          1.311957751461849,
          1.5913561614953908,
          2.040823168940654,
          2.5996199890077376,
          3.3649286773604827,
          4.324601477040909,
          5.162796707141535,
          6.0860262359480215,
          6.972812493880568,
          7.883894265729073,
          8.80712379453556,
          9.863978649879828,
          11.030163317845915,
          12.220643499727963,
          13.37468041073607,
          14.55301283566014,
          15.743493017542187,
          17.043303012046056,
          18.440295062213767,
          19.958764681961277,
          21.489382058666767,
          22.959260650582358,
          24.502025784245827
         ],
         "yaxis": "y"
        },
        {
         "hovertemplate": "Country=Turks_and_Caicos_islands<br>Day=%{x}<br>Dead_per_million=%{y}<br>popData2018=%{marker.size}<extra></extra>",
         "legendgroup": "Turks_and_Caicos_islands",
         "marker": {
          "color": "#DA60CA",
          "size": [
           31458,
           31458,
           31458,
           31458,
           31458,
           31458,
           31458,
           31458,
           31458,
           31458,
           31458,
           31458,
           31458,
           31458,
           31458
          ],
          "sizemode": "area",
          "sizeref": 3481825,
          "symbol": "circle"
         },
         "mode": "markers",
         "name": "Turks_and_Caicos_islands",
         "showlegend": true,
         "type": "scattergl",
         "x": [
          1,
          2,
          3,
          4,
          5,
          6,
          7,
          8,
          9,
          10,
          11,
          12,
          13,
          14,
          15
         ],
         "xaxis": "x",
         "y": [
          31.788416301099875,
          31.788416301099875,
          31.788416301099875,
          31.788416301099875,
          31.788416301099875,
          31.788416301099875,
          31.788416301099875,
          31.788416301099875,
          31.788416301099875,
          31.788416301099875,
          31.788416301099875,
          31.788416301099875,
          31.788416301099875,
          31.788416301099875,
          31.788416301099875
         ],
         "yaxis": "y"
        },
        {
         "hovertemplate": "Country=UK<br>Day=%{x}<br>Dead_per_million=%{y}<br>popData2018=%{marker.size}<extra></extra>",
         "legendgroup": "UK",
         "marker": {
          "color": "#6C4516",
          "size": [
           66488991,
           66488991,
           66488991,
           66488991,
           66488991,
           66488991,
           66488991,
           66488991,
           66488991,
           66488991,
           66488991,
           66488991,
           66488991,
           66488991,
           66488991,
           66488991,
           66488991,
           66488991,
           66488991,
           66488991,
           66488991,
           66488991,
           66488991,
           66488991,
           66488991,
           66488991,
           66488991,
           66488991,
           66488991,
           66488991,
           66488991,
           66488991,
           66488991
          ],
          "sizemode": "area",
          "sizeref": 3481825,
          "symbol": "circle"
         },
         "mode": "markers",
         "name": "UK",
         "showlegend": true,
         "type": "scattergl",
         "x": [
          1,
          2,
          3,
          4,
          5,
          6,
          7,
          8,
          9,
          10,
          11,
          12,
          13,
          14,
          15,
          16,
          17,
          18,
          19,
          20,
          21,
          22,
          23,
          24,
          25,
          26,
          27,
          28,
          29,
          30,
          31,
          32,
          33
         ],
         "xaxis": "x",
         "y": [
          1.5491286369498374,
          2.1657720749589955,
          2.662094842137099,
          3.5043395379544866,
          4.226263562940819,
          5.0384280910504415,
          6.346915386338169,
          6.963558824347327,
          8.693168467543748,
          11.415423645096375,
          15.32584544710567,
          18.469222972566993,
          21.176438066265735,
          26.906710014594747,
          38.081492318029014,
          43.932084937189074,
          54.21950229324431,
          64.8678816617927,
          74.20777373505337,
          80.81037054690754,
          92.63187645605872,
          106.73947511099995,
          119.98978898626991,
          134.7290711630742,
          148.52082805708392,
          159.6053698573949,
          170.3891099806282,
          182.09029521894834,
          193.53579903175248,
          206.4853112299448,
          219.2242622541828,
          232.57985671642993,
          241.54374669334356
         ],
         "yaxis": "y"
        },
        {
         "hovertemplate": "Country=USA<br>Day=%{x}<br>Dead_per_million=%{y}<br>popData2018=%{marker.size}<extra></extra>",
         "legendgroup": "USA",
         "marker": {
          "color": "#0D2A63",
          "size": [
           327167434,
           327167434,
           327167434,
           327167434,
           327167434,
           327167434,
           327167434,
           327167434,
           327167434,
           327167434,
           327167434,
           327167434,
           327167434,
           327167434,
           327167434,
           327167434,
           327167434,
           327167434,
           327167434,
           327167434,
           327167434,
           327167434,
           327167434,
           327167434,
           327167434,
           327167434,
           327167434,
           327167434,
           327167434,
           327167434
          ],
          "sizemode": "area",
          "sizeref": 3481825,
          "symbol": "circle"
         },
         "mode": "markers",
         "name": "USA",
         "showlegend": true,
         "type": "scattergl",
         "x": [
          1,
          2,
          3,
          4,
          5,
          6,
          7,
          8,
          9,
          10,
          11,
          12,
          13,
          14,
          15,
          16,
          17,
          18,
          19,
          20,
          21,
          22,
          23,
          24,
          25,
          26,
          27,
          28,
          29,
          30
         ],
         "xaxis": "x",
         "y": [
          1.039223237603777,
          1.4396298379746437,
          1.8033579711359657,
          2.448287686237133,
          3.2093658808351937,
          3.9612744586308675,
          5.217511960557786,
          6.696876804676104,
          7.668856185729048,
          9.689228421188155,
          12.467622312311194,
          15.704497043553546,
          18.501230168281356,
          21.875649151559504,
          25.983637479028552,
          29.486431097540105,
          33.58830634714089,
          39.4140695555903,
          45.28873738698577,
          51.013634810608934,
          57.39263156613564,
          62.9891543545254,
          67.57396275571853,
          72.28408925321094,
          79.644235006593,
          94.70685887397948,
          101.7338418835415,
          113.2569936652069,
          118.92992992694988,
          124.34611691822603
         ],
         "yaxis": "y"
        },
        {
         "hovertemplate": "Country=Ukraine<br>Day=%{x}<br>Dead_per_million=%{y}<br>popData2018=%{marker.size}<extra></extra>",
         "legendgroup": "Ukraine",
         "marker": {
          "color": "#AF0038",
          "size": [
           44622516,
           44622516,
           44622516,
           44622516,
           44622516,
           44622516,
           44622516,
           44622516,
           44622516,
           44622516,
           44622516,
           44622516,
           44622516
          ],
          "sizemode": "area",
          "sizeref": 3481825,
          "symbol": "circle"
         },
         "mode": "markers",
         "name": "Ukraine",
         "showlegend": true,
         "type": "scattergl",
         "x": [
          1,
          2,
          3,
          4,
          5,
          6,
          7,
          8,
          9,
          10,
          11,
          12,
          13
         ],
         "xaxis": "x",
         "y": [
          1.0084594960983373,
          1.1653309732691899,
          1.2773820283912274,
          1.5463045606841173,
          1.6359454047817474,
          1.8600475150258222,
          2.084149625269897,
          2.196200680391935,
          2.59958447883127,
          2.8012763780509373,
          2.9805580662461972,
          3.159839754441457,
          3.383941864685532
         ],
         "yaxis": "y"
        },
        {
         "hovertemplate": "Country=United_Arab_Emirates<br>Day=%{x}<br>Dead_per_million=%{y}<br>popData2018=%{marker.size}<extra></extra>",
         "legendgroup": "United_Arab_Emirates",
         "marker": {
          "color": "#2E91E5",
          "size": [
           9630959,
           9630959,
           9630959,
           9630959,
           9630959,
           9630959,
           9630959,
           9630959,
           9630959,
           9630959,
           9630959,
           9630959,
           9630959,
           9630959,
           9630959,
           9630959
          ],
          "sizemode": "area",
          "sizeref": 3481825,
          "symbol": "circle"
         },
         "mode": "markers",
         "name": "United_Arab_Emirates",
         "showlegend": true,
         "type": "scattergl",
         "x": [
          1,
          2,
          3,
          4,
          5,
          6,
          7,
          8,
          9,
          10,
          11,
          12,
          13,
          14,
          15,
          16
         ],
         "xaxis": "x",
         "y": [
          1.038318198634217,
          1.038318198634217,
          1.1421500184976385,
          1.2459818383610606,
          1.2459818383610606,
          1.4536454780879038,
          1.6613091178147472,
          2.076636397268434,
          2.284300036995277,
          2.5957954965855423,
          2.9072909561758076,
          3.426450055492916,
          3.426450055492916,
          3.6341136952197597,
          3.841777334946603,
          4.25710461440029
         ],
         "yaxis": "y"
        },
        {
         "hovertemplate": "Country=United_States_Virgin_Islands<br>Day=%{x}<br>Dead_per_million=%{y}<br>popData2018=%{marker.size}<extra></extra>",
         "legendgroup": "United_States_Virgin_Islands",
         "marker": {
          "color": "#E15F99",
          "size": [
           106977,
           106977,
           106977,
           106977,
           106977,
           106977,
           106977,
           106977,
           106977,
           106977,
           106977,
           106977,
           106977,
           106977,
           106977
          ],
          "sizemode": "area",
          "sizeref": 3481825,
          "symbol": "circle"
         },
         "mode": "markers",
         "name": "United_States_Virgin_Islands",
         "showlegend": true,
         "type": "scattergl",
         "x": [
          1,
          2,
          3,
          4,
          5,
          6,
          7,
          8,
          9,
          10,
          11,
          12,
          13,
          14,
          15
         ],
         "xaxis": "x",
         "y": [
          9.34780373351281,
          9.34780373351281,
          9.34780373351281,
          9.34780373351281,
          9.34780373351281,
          9.34780373351281,
          9.34780373351281,
          9.34780373351281,
          9.34780373351281,
          9.34780373351281,
          9.34780373351281,
          9.34780373351281,
          18.69560746702562,
          28.043411200538436,
          28.043411200538436
         ],
         "yaxis": "y"
        },
        {
         "hovertemplate": "Country=Uruguay<br>Day=%{x}<br>Dead_per_million=%{y}<br>popData2018=%{marker.size}<extra></extra>",
         "legendgroup": "Uruguay",
         "marker": {
          "color": "#1CA71C",
          "size": [
           3449299,
           3449299,
           3449299,
           3449299,
           3449299,
           3449299,
           3449299,
           3449299,
           3449299,
           3449299,
           3449299,
           3449299,
           3449299,
           3449299,
           3449299,
           3449299,
           3449299,
           3449299
          ],
          "sizemode": "area",
          "sizeref": 3481825,
          "symbol": "circle"
         },
         "mode": "markers",
         "name": "Uruguay",
         "showlegend": true,
         "type": "scattergl",
         "x": [
          1,
          2,
          3,
          4,
          5,
          6,
          7,
          8,
          9,
          10,
          11,
          12,
          13,
          14,
          15,
          16,
          17,
          18
         ],
         "xaxis": "x",
         "y": [
          1.1596559184924242,
          1.1596559184924242,
          1.44956989811553,
          1.739483877738636,
          1.739483877738636,
          2.029397857361742,
          2.029397857361742,
          2.029397857361742,
          2.029397857361742,
          2.029397857361742,
          2.3193118369848484,
          2.3193118369848484,
          2.3193118369848484,
          2.609225816607954,
          2.609225816607954,
          2.609225816607954,
          2.609225816607954,
          2.89913979623106
         ],
         "yaxis": "y"
        }
       ],
       "layout": {
        "legend": {
         "itemsizing": "constant",
         "title": {
          "text": "Country"
         },
         "tracegroupgap": 0
        },
        "margin": {
         "t": 60
        },
        "template": {
         "data": {
          "bar": [
           {
            "error_x": {
             "color": "#2a3f5f"
            },
            "error_y": {
             "color": "#2a3f5f"
            },
            "marker": {
             "line": {
              "color": "#E5ECF6",
              "width": 0.5
             }
            },
            "type": "bar"
           }
          ],
          "barpolar": [
           {
            "marker": {
             "line": {
              "color": "#E5ECF6",
              "width": 0.5
             }
            },
            "type": "barpolar"
           }
          ],
          "carpet": [
           {
            "aaxis": {
             "endlinecolor": "#2a3f5f",
             "gridcolor": "white",
             "linecolor": "white",
             "minorgridcolor": "white",
             "startlinecolor": "#2a3f5f"
            },
            "baxis": {
             "endlinecolor": "#2a3f5f",
             "gridcolor": "white",
             "linecolor": "white",
             "minorgridcolor": "white",
             "startlinecolor": "#2a3f5f"
            },
            "type": "carpet"
           }
          ],
          "choropleth": [
           {
            "colorbar": {
             "outlinewidth": 0,
             "ticks": ""
            },
            "type": "choropleth"
           }
          ],
          "contour": [
           {
            "colorbar": {
             "outlinewidth": 0,
             "ticks": ""
            },
            "colorscale": [
             [
              0,
              "#0d0887"
             ],
             [
              0.1111111111111111,
              "#46039f"
             ],
             [
              0.2222222222222222,
              "#7201a8"
             ],
             [
              0.3333333333333333,
              "#9c179e"
             ],
             [
              0.4444444444444444,
              "#bd3786"
             ],
             [
              0.5555555555555556,
              "#d8576b"
             ],
             [
              0.6666666666666666,
              "#ed7953"
             ],
             [
              0.7777777777777778,
              "#fb9f3a"
             ],
             [
              0.8888888888888888,
              "#fdca26"
             ],
             [
              1,
              "#f0f921"
             ]
            ],
            "type": "contour"
           }
          ],
          "contourcarpet": [
           {
            "colorbar": {
             "outlinewidth": 0,
             "ticks": ""
            },
            "type": "contourcarpet"
           }
          ],
          "heatmap": [
           {
            "colorbar": {
             "outlinewidth": 0,
             "ticks": ""
            },
            "colorscale": [
             [
              0,
              "#0d0887"
             ],
             [
              0.1111111111111111,
              "#46039f"
             ],
             [
              0.2222222222222222,
              "#7201a8"
             ],
             [
              0.3333333333333333,
              "#9c179e"
             ],
             [
              0.4444444444444444,
              "#bd3786"
             ],
             [
              0.5555555555555556,
              "#d8576b"
             ],
             [
              0.6666666666666666,
              "#ed7953"
             ],
             [
              0.7777777777777778,
              "#fb9f3a"
             ],
             [
              0.8888888888888888,
              "#fdca26"
             ],
             [
              1,
              "#f0f921"
             ]
            ],
            "type": "heatmap"
           }
          ],
          "heatmapgl": [
           {
            "colorbar": {
             "outlinewidth": 0,
             "ticks": ""
            },
            "colorscale": [
             [
              0,
              "#0d0887"
             ],
             [
              0.1111111111111111,
              "#46039f"
             ],
             [
              0.2222222222222222,
              "#7201a8"
             ],
             [
              0.3333333333333333,
              "#9c179e"
             ],
             [
              0.4444444444444444,
              "#bd3786"
             ],
             [
              0.5555555555555556,
              "#d8576b"
             ],
             [
              0.6666666666666666,
              "#ed7953"
             ],
             [
              0.7777777777777778,
              "#fb9f3a"
             ],
             [
              0.8888888888888888,
              "#fdca26"
             ],
             [
              1,
              "#f0f921"
             ]
            ],
            "type": "heatmapgl"
           }
          ],
          "histogram": [
           {
            "marker": {
             "colorbar": {
              "outlinewidth": 0,
              "ticks": ""
             }
            },
            "type": "histogram"
           }
          ],
          "histogram2d": [
           {
            "colorbar": {
             "outlinewidth": 0,
             "ticks": ""
            },
            "colorscale": [
             [
              0,
              "#0d0887"
             ],
             [
              0.1111111111111111,
              "#46039f"
             ],
             [
              0.2222222222222222,
              "#7201a8"
             ],
             [
              0.3333333333333333,
              "#9c179e"
             ],
             [
              0.4444444444444444,
              "#bd3786"
             ],
             [
              0.5555555555555556,
              "#d8576b"
             ],
             [
              0.6666666666666666,
              "#ed7953"
             ],
             [
              0.7777777777777778,
              "#fb9f3a"
             ],
             [
              0.8888888888888888,
              "#fdca26"
             ],
             [
              1,
              "#f0f921"
             ]
            ],
            "type": "histogram2d"
           }
          ],
          "histogram2dcontour": [
           {
            "colorbar": {
             "outlinewidth": 0,
             "ticks": ""
            },
            "colorscale": [
             [
              0,
              "#0d0887"
             ],
             [
              0.1111111111111111,
              "#46039f"
             ],
             [
              0.2222222222222222,
              "#7201a8"
             ],
             [
              0.3333333333333333,
              "#9c179e"
             ],
             [
              0.4444444444444444,
              "#bd3786"
             ],
             [
              0.5555555555555556,
              "#d8576b"
             ],
             [
              0.6666666666666666,
              "#ed7953"
             ],
             [
              0.7777777777777778,
              "#fb9f3a"
             ],
             [
              0.8888888888888888,
              "#fdca26"
             ],
             [
              1,
              "#f0f921"
             ]
            ],
            "type": "histogram2dcontour"
           }
          ],
          "mesh3d": [
           {
            "colorbar": {
             "outlinewidth": 0,
             "ticks": ""
            },
            "type": "mesh3d"
           }
          ],
          "parcoords": [
           {
            "line": {
             "colorbar": {
              "outlinewidth": 0,
              "ticks": ""
             }
            },
            "type": "parcoords"
           }
          ],
          "pie": [
           {
            "automargin": true,
            "type": "pie"
           }
          ],
          "scatter": [
           {
            "marker": {
             "colorbar": {
              "outlinewidth": 0,
              "ticks": ""
             }
            },
            "type": "scatter"
           }
          ],
          "scatter3d": [
           {
            "line": {
             "colorbar": {
              "outlinewidth": 0,
              "ticks": ""
             }
            },
            "marker": {
             "colorbar": {
              "outlinewidth": 0,
              "ticks": ""
             }
            },
            "type": "scatter3d"
           }
          ],
          "scattercarpet": [
           {
            "marker": {
             "colorbar": {
              "outlinewidth": 0,
              "ticks": ""
             }
            },
            "type": "scattercarpet"
           }
          ],
          "scattergeo": [
           {
            "marker": {
             "colorbar": {
              "outlinewidth": 0,
              "ticks": ""
             }
            },
            "type": "scattergeo"
           }
          ],
          "scattergl": [
           {
            "marker": {
             "colorbar": {
              "outlinewidth": 0,
              "ticks": ""
             }
            },
            "type": "scattergl"
           }
          ],
          "scattermapbox": [
           {
            "marker": {
             "colorbar": {
              "outlinewidth": 0,
              "ticks": ""
             }
            },
            "type": "scattermapbox"
           }
          ],
          "scatterpolar": [
           {
            "marker": {
             "colorbar": {
              "outlinewidth": 0,
              "ticks": ""
             }
            },
            "type": "scatterpolar"
           }
          ],
          "scatterpolargl": [
           {
            "marker": {
             "colorbar": {
              "outlinewidth": 0,
              "ticks": ""
             }
            },
            "type": "scatterpolargl"
           }
          ],
          "scatterternary": [
           {
            "marker": {
             "colorbar": {
              "outlinewidth": 0,
              "ticks": ""
             }
            },
            "type": "scatterternary"
           }
          ],
          "surface": [
           {
            "colorbar": {
             "outlinewidth": 0,
             "ticks": ""
            },
            "colorscale": [
             [
              0,
              "#0d0887"
             ],
             [
              0.1111111111111111,
              "#46039f"
             ],
             [
              0.2222222222222222,
              "#7201a8"
             ],
             [
              0.3333333333333333,
              "#9c179e"
             ],
             [
              0.4444444444444444,
              "#bd3786"
             ],
             [
              0.5555555555555556,
              "#d8576b"
             ],
             [
              0.6666666666666666,
              "#ed7953"
             ],
             [
              0.7777777777777778,
              "#fb9f3a"
             ],
             [
              0.8888888888888888,
              "#fdca26"
             ],
             [
              1,
              "#f0f921"
             ]
            ],
            "type": "surface"
           }
          ],
          "table": [
           {
            "cells": {
             "fill": {
              "color": "#EBF0F8"
             },
             "line": {
              "color": "white"
             }
            },
            "header": {
             "fill": {
              "color": "#C8D4E3"
             },
             "line": {
              "color": "white"
             }
            },
            "type": "table"
           }
          ]
         },
         "layout": {
          "annotationdefaults": {
           "arrowcolor": "#2a3f5f",
           "arrowhead": 0,
           "arrowwidth": 1
          },
          "coloraxis": {
           "colorbar": {
            "outlinewidth": 0,
            "ticks": ""
           }
          },
          "colorscale": {
           "diverging": [
            [
             0,
             "#8e0152"
            ],
            [
             0.1,
             "#c51b7d"
            ],
            [
             0.2,
             "#de77ae"
            ],
            [
             0.3,
             "#f1b6da"
            ],
            [
             0.4,
             "#fde0ef"
            ],
            [
             0.5,
             "#f7f7f7"
            ],
            [
             0.6,
             "#e6f5d0"
            ],
            [
             0.7,
             "#b8e186"
            ],
            [
             0.8,
             "#7fbc41"
            ],
            [
             0.9,
             "#4d9221"
            ],
            [
             1,
             "#276419"
            ]
           ],
           "sequential": [
            [
             0,
             "#0d0887"
            ],
            [
             0.1111111111111111,
             "#46039f"
            ],
            [
             0.2222222222222222,
             "#7201a8"
            ],
            [
             0.3333333333333333,
             "#9c179e"
            ],
            [
             0.4444444444444444,
             "#bd3786"
            ],
            [
             0.5555555555555556,
             "#d8576b"
            ],
            [
             0.6666666666666666,
             "#ed7953"
            ],
            [
             0.7777777777777778,
             "#fb9f3a"
            ],
            [
             0.8888888888888888,
             "#fdca26"
            ],
            [
             1,
             "#f0f921"
            ]
           ],
           "sequentialminus": [
            [
             0,
             "#0d0887"
            ],
            [
             0.1111111111111111,
             "#46039f"
            ],
            [
             0.2222222222222222,
             "#7201a8"
            ],
            [
             0.3333333333333333,
             "#9c179e"
            ],
            [
             0.4444444444444444,
             "#bd3786"
            ],
            [
             0.5555555555555556,
             "#d8576b"
            ],
            [
             0.6666666666666666,
             "#ed7953"
            ],
            [
             0.7777777777777778,
             "#fb9f3a"
            ],
            [
             0.8888888888888888,
             "#fdca26"
            ],
            [
             1,
             "#f0f921"
            ]
           ]
          },
          "colorway": [
           "#636efa",
           "#EF553B",
           "#00cc96",
           "#ab63fa",
           "#FFA15A",
           "#19d3f3",
           "#FF6692",
           "#B6E880",
           "#FF97FF",
           "#FECB52"
          ],
          "font": {
           "color": "#2a3f5f"
          },
          "geo": {
           "bgcolor": "white",
           "lakecolor": "white",
           "landcolor": "#E5ECF6",
           "showlakes": true,
           "showland": true,
           "subunitcolor": "white"
          },
          "hoverlabel": {
           "align": "left"
          },
          "hovermode": "closest",
          "mapbox": {
           "style": "light"
          },
          "paper_bgcolor": "white",
          "plot_bgcolor": "#E5ECF6",
          "polar": {
           "angularaxis": {
            "gridcolor": "white",
            "linecolor": "white",
            "ticks": ""
           },
           "bgcolor": "#E5ECF6",
           "radialaxis": {
            "gridcolor": "white",
            "linecolor": "white",
            "ticks": ""
           }
          },
          "scene": {
           "xaxis": {
            "backgroundcolor": "#E5ECF6",
            "gridcolor": "white",
            "gridwidth": 2,
            "linecolor": "white",
            "showbackground": true,
            "ticks": "",
            "zerolinecolor": "white"
           },
           "yaxis": {
            "backgroundcolor": "#E5ECF6",
            "gridcolor": "white",
            "gridwidth": 2,
            "linecolor": "white",
            "showbackground": true,
            "ticks": "",
            "zerolinecolor": "white"
           },
           "zaxis": {
            "backgroundcolor": "#E5ECF6",
            "gridcolor": "white",
            "gridwidth": 2,
            "linecolor": "white",
            "showbackground": true,
            "ticks": "",
            "zerolinecolor": "white"
           }
          },
          "shapedefaults": {
           "line": {
            "color": "#2a3f5f"
           }
          },
          "ternary": {
           "aaxis": {
            "gridcolor": "white",
            "linecolor": "white",
            "ticks": ""
           },
           "baxis": {
            "gridcolor": "white",
            "linecolor": "white",
            "ticks": ""
           },
           "bgcolor": "#E5ECF6",
           "caxis": {
            "gridcolor": "white",
            "linecolor": "white",
            "ticks": ""
           }
          },
          "title": {
           "x": 0.05
          },
          "xaxis": {
           "automargin": true,
           "gridcolor": "white",
           "linecolor": "white",
           "ticks": "",
           "title": {
            "standoff": 15
           },
           "zerolinecolor": "white",
           "zerolinewidth": 2
          },
          "yaxis": {
           "automargin": true,
           "gridcolor": "white",
           "linecolor": "white",
           "ticks": "",
           "title": {
            "standoff": 15
           },
           "zerolinecolor": "white",
           "zerolinewidth": 2
          }
         }
        },
        "title": {
         "text": "Cumulative Covid-19 deaths (bubble size = population size)"
        },
        "xaxis": {
         "anchor": "y",
         "domain": [
          0,
          1
         ],
         "title": {
          "text": "Number of days since at least 1 death per million of population"
         }
        },
        "yaxis": {
         "anchor": "x",
         "domain": [
          0,
          1
         ],
         "title": {
          "text": "Log of deaths due to Covid-19 per million population"
         },
         "type": "log"
        }
       }
      },
      "text/html": [
       "<div>\n",
       "        \n",
       "        \n",
       "            <div id=\"dc720263-073e-4057-8aa7-60f2048c3647\" class=\"plotly-graph-div\" style=\"height:525px; width:100%;\"></div>\n",
       "            <script type=\"text/javascript\">\n",
       "                require([\"plotly\"], function(Plotly) {\n",
       "                    window.PLOTLYENV=window.PLOTLYENV || {};\n",
       "                    \n",
       "                if (document.getElementById(\"dc720263-073e-4057-8aa7-60f2048c3647\")) {\n",
       "                    Plotly.newPlot(\n",
       "                        'dc720263-073e-4057-8aa7-60f2048c3647',\n",
       "                        [{\"hovertemplate\": \"Country=Albania<br>Day=%{x}<br>Dead_per_million=%{y}<br>popData2018=%{marker.size}<extra></extra>\", \"legendgroup\": \"Albania\", \"marker\": {\"color\": \"#2E91E5\", \"size\": [2866376.0, 2866376.0, 2866376.0, 2866376.0, 2866376.0, 2866376.0, 2866376.0, 2866376.0, 2866376.0, 2866376.0, 2866376.0, 2866376.0, 2866376.0, 2866376.0, 2866376.0, 2866376.0, 2866376.0, 2866376.0, 2866376.0, 2866376.0, 2866376.0, 2866376.0, 2866376.0, 2866376.0, 2866376.0, 2866376.0, 2866376.0, 2866376.0], \"sizemode\": \"area\", \"sizeref\": 3481825.0, \"symbol\": \"circle\"}, \"mode\": \"markers\", \"name\": \"Albania\", \"showlegend\": true, \"type\": \"scattergl\", \"x\": [1, 2, 3, 4, 5, 6, 7, 8, 9, 10, 11, 12, 13, 14, 15, 16, 17, 18, 19, 20, 21, 22, 23, 24, 25, 26, 27, 28], \"xaxis\": \"x\", \"y\": [1.3954903334384603, 1.7443629167980754, 1.7443629167980754, 2.0932355001576908, 3.1398532502365355, 3.488725833596151, 3.488725833596151, 4.1864710003153816, 5.233088750394226, 5.233088750394226, 5.581961333753841, 5.930833917113456, 6.628579083832686, 7.326324250551917, 7.675196833911531, 7.675196833911531, 7.675196833911531, 8.024069417271146, 8.024069417271146, 8.024069417271146, 8.024069417271146, 8.024069417271146, 8.372942000630763, 8.721814583990378, 9.070687167349993, 9.070687167349993, 9.070687167349993, 9.070687167349993], \"yaxis\": \"y\"}, {\"hovertemplate\": \"Country=Algeria<br>Day=%{x}<br>Dead_per_million=%{y}<br>popData2018=%{marker.size}<extra></extra>\", \"legendgroup\": \"Algeria\", \"marker\": {\"color\": \"#E15F99\", \"size\": [42228429.0, 42228429.0, 42228429.0, 42228429.0, 42228429.0, 42228429.0, 42228429.0, 42228429.0, 42228429.0, 42228429.0, 42228429.0, 42228429.0, 42228429.0, 42228429.0, 42228429.0, 42228429.0, 42228429.0, 42228429.0, 42228429.0, 42228429.0], \"sizemode\": \"area\", \"sizeref\": 3481825.0, \"symbol\": \"circle\"}, \"mode\": \"markers\", \"name\": \"Algeria\", \"showlegend\": true, \"type\": \"scattergl\", \"x\": [1, 2, 3, 4, 5, 6, 7, 8, 9, 10, 11, 12, 13, 14, 15, 16, 17, 18, 19, 20], \"xaxis\": \"x\", \"y\": [1.0419520934581772, 1.3734823050130516, 1.4918859519969356, 2.486476586661559, 3.0784948215809784, 3.5994708683100667, 4.0967661856423785, 4.570380773577914, 4.854549526339234, 5.564971408242537, 6.062266725574849, 6.512200584113607, 6.938453713255589, 7.412068301191124, 7.696237053952445, 7.956725077316989, 8.24089383007831, 8.619785500426739, 8.690827688617068, 8.880273523791283], \"yaxis\": \"y\"}, {\"hovertemplate\": \"Country=Andorra<br>Day=%{x}<br>Dead_per_million=%{y}<br>popData2018=%{marker.size}<extra></extra>\", \"legendgroup\": \"Andorra\", \"marker\": {\"color\": \"#1CA71C\", \"size\": [77006.0, 77006.0, 77006.0, 77006.0, 77006.0, 77006.0, 77006.0, 77006.0, 77006.0, 77006.0, 77006.0, 77006.0, 77006.0, 77006.0, 77006.0, 77006.0, 77006.0, 77006.0, 77006.0, 77006.0, 77006.0, 77006.0, 77006.0, 77006.0, 77006.0], \"sizemode\": \"area\", \"sizeref\": 3481825.0, \"symbol\": \"circle\"}, \"mode\": \"markers\", \"name\": \"Andorra\", \"showlegend\": true, \"type\": \"scattergl\", \"x\": [1, 2, 3, 4, 5, 6, 7, 8, 9, 10, 11, 12, 13, 14, 15, 16, 17, 18, 19, 20, 21, 22, 23, 24, 25], \"xaxis\": \"x\", \"y\": [38.958003272472276, 38.958003272472276, 51.944004363296365, 77.91600654494455, 103.88800872659273, 155.8320130898891, 181.80401527153728, 194.7900163623614, 207.77601745318546, 220.76201854400955, 233.74801963483364, 272.7060229073059, 285.69202399813, 298.6780250889541, 324.65002727060227, 337.6360283614264, 363.60803054307456, 376.5940316338986, 376.5940316338986, 402.56603381554686, 428.53803599719504, 428.53803599719504, 454.5100381788432, 454.5100381788432, 467.4960392696673], \"yaxis\": \"y\"}, {\"hovertemplate\": \"Country=Antigua_and_Barbuda<br>Day=%{x}<br>Dead_per_million=%{y}<br>popData2018=%{marker.size}<extra></extra>\", \"legendgroup\": \"Antigua_and_Barbuda\", \"marker\": {\"color\": \"#FB0D0D\", \"size\": [96286.0, 96286.0, 96286.0, 96286.0, 96286.0, 96286.0, 96286.0, 96286.0, 96286.0, 96286.0, 96286.0], \"sizemode\": \"area\", \"sizeref\": 3481825.0, \"symbol\": \"circle\"}, \"mode\": \"markers\", \"name\": \"Antigua_and_Barbuda\", \"showlegend\": true, \"type\": \"scattergl\", \"x\": [1, 2, 3, 4, 5, 6, 7, 8, 9, 10, 11], \"xaxis\": \"x\", \"y\": [20.771451716760485, 20.771451716760485, 20.771451716760485, 20.771451716760485, 20.771451716760485, 20.771451716760485, 20.771451716760485, 20.771451716760485, 20.771451716760485, 20.771451716760485, 20.771451716760485], \"yaxis\": \"y\"}, {\"hovertemplate\": \"Country=Argentina<br>Day=%{x}<br>Dead_per_million=%{y}<br>popData2018=%{marker.size}<extra></extra>\", \"legendgroup\": \"Argentina\", \"marker\": {\"color\": \"#DA16FF\", \"size\": [44494502.0, 44494502.0, 44494502.0, 44494502.0, 44494502.0, 44494502.0, 44494502.0, 44494502.0, 44494502.0, 44494502.0, 44494502.0, 44494502.0, 44494502.0, 44494502.0, 44494502.0], \"sizemode\": \"area\", \"sizeref\": 3481825.0, \"symbol\": \"circle\"}, \"mode\": \"markers\", \"name\": \"Argentina\", \"showlegend\": true, \"type\": \"scattergl\", \"x\": [1, 2, 3, 4, 5, 6, 7, 8, 9, 10, 11, 12, 13, 14, 15], \"xaxis\": \"x\", \"y\": [1.0338355961372487, 1.1911584042450907, 1.3484812123529328, 1.4608546467156773, 1.7755002629313617, 1.8429243235490085, 2.0002471316568506, 2.135095252892144, 2.2025193135097902, 2.359842121617633, 2.449740869107828, 2.5845889903431214, 2.7419117984509636, 2.9666586671764525, 3.0116080409215504], \"yaxis\": \"y\"}, {\"hovertemplate\": \"Country=Armenia<br>Day=%{x}<br>Dead_per_million=%{y}<br>popData2018=%{marker.size}<extra></extra>\", \"legendgroup\": \"Armenia\", \"marker\": {\"color\": \"#222A2A\", \"size\": [2951776.0, 2951776.0, 2951776.0, 2951776.0, 2951776.0, 2951776.0, 2951776.0, 2951776.0, 2951776.0, 2951776.0, 2951776.0, 2951776.0, 2951776.0, 2951776.0, 2951776.0, 2951776.0, 2951776.0, 2951776.0, 2951776.0, 2951776.0, 2951776.0, 2951776.0, 2951776.0], \"sizemode\": \"area\", \"sizeref\": 3481825.0, \"symbol\": \"circle\"}, \"mode\": \"markers\", \"name\": \"Armenia\", \"showlegend\": true, \"type\": \"scattergl\", \"x\": [1, 2, 3, 4, 5, 6, 7, 8, 9, 10, 11, 12, 13, 14, 15, 16, 17, 18, 19, 20, 21, 22, 23], \"xaxis\": \"x\", \"y\": [1.0163372830458681, 1.0163372830458681, 1.0163372830458681, 1.0163372830458681, 1.0163372830458681, 1.3551163773944908, 2.3714536604403587, 2.3714536604403587, 2.3714536604403587, 2.7102327547889815, 2.7102327547889815, 3.049011849137604, 3.3877909434862263, 3.726570037834849, 4.4041282265320945, 4.4041282265320945, 4.742907320880717, 5.759244603926585, 6.098023698275208, 6.436802792623831, 6.775581886972453, 6.775581886972453, 7.453140075669698], \"yaxis\": \"y\"}, {\"hovertemplate\": \"Country=Aruba<br>Day=%{x}<br>Dead_per_million=%{y}<br>popData2018=%{marker.size}<extra></extra>\", \"legendgroup\": \"Aruba\", \"marker\": {\"color\": \"#B68100\", \"size\": [105845.0, 105845.0, 105845.0, 105845.0, 105845.0], \"sizemode\": \"area\", \"sizeref\": 3481825.0, \"symbol\": \"circle\"}, \"mode\": \"markers\", \"name\": \"Aruba\", \"showlegend\": true, \"type\": \"scattergl\", \"x\": [1, 2, 3, 4, 5], \"xaxis\": \"x\", \"y\": [9.447777410364212, 9.447777410364212, 18.895554820728425, 18.895554820728425, 18.895554820728425], \"yaxis\": \"y\"}, {\"hovertemplate\": \"Country=Australia<br>Day=%{x}<br>Dead_per_million=%{y}<br>popData2018=%{marker.size}<extra></extra>\", \"legendgroup\": \"Australia\", \"marker\": {\"color\": \"#750D86\", \"size\": [24992369.0, 24992369.0, 24992369.0, 24992369.0, 24992369.0, 24992369.0, 24992369.0, 24992369.0, 24992369.0, 24992369.0, 24992369.0, 24992369.0, 24992369.0, 24992369.0, 24992369.0, 24992369.0, 24992369.0], \"sizemode\": \"area\", \"sizeref\": 3481825.0, \"symbol\": \"circle\"}, \"mode\": \"markers\", \"name\": \"Australia\", \"showlegend\": true, \"type\": \"scattergl\", \"x\": [1, 2, 3, 4, 5, 6, 7, 8, 9, 10, 11, 12, 13, 14, 15, 16, 17], \"xaxis\": \"x\", \"y\": [1.200366399839887, 1.360415253151872, 1.4404396798078645, 1.680512959775842, 1.8005495997598306, 2.0006106663998118, 2.0806350930558044, 2.1606595197117966, 2.2806961596957858, 2.4407450130077706, 2.4407450130077706, 2.4407450130077706, 2.5207694396637628, 2.5207694396637628, 2.6808182929757476, 2.76084271963174, 2.8008549329597368], \"yaxis\": \"y\"}, {\"hovertemplate\": \"Country=Austria<br>Day=%{x}<br>Dead_per_million=%{y}<br>popData2018=%{marker.size}<extra></extra>\", \"legendgroup\": \"Austria\", \"marker\": {\"color\": \"#EB663B\", \"size\": [8847037.0, 8847037.0, 8847037.0, 8847037.0, 8847037.0, 8847037.0, 8847037.0, 8847037.0, 8847037.0, 8847037.0, 8847037.0, 8847037.0, 8847037.0, 8847037.0, 8847037.0, 8847037.0, 8847037.0, 8847037.0, 8847037.0, 8847037.0, 8847037.0, 8847037.0, 8847037.0, 8847037.0, 8847037.0, 8847037.0, 8847037.0, 8847037.0, 8847037.0], \"sizemode\": \"area\", \"sizeref\": 3481825.0, \"symbol\": \"circle\"}, \"mode\": \"markers\", \"name\": \"Austria\", \"showlegend\": true, \"type\": \"scattergl\", \"x\": [1, 2, 3, 4, 5, 6, 7, 8, 9, 10, 11, 12, 13, 14, 15, 16, 17, 18, 19, 20, 21, 22, 23, 24, 25, 26, 27, 28, 29], \"xaxis\": \"x\", \"y\": [1.8085150994621135, 2.8258048429095526, 3.3909658114914634, 3.8430945863569916, 5.877674073251869, 7.686189172713983, 7.686189172713983, 9.720768659608861, 12.207476921369267, 14.468120795696908, 16.50270028259179, 17.859086607188374, 18.989408544352194, 21.02398803124707, 23.05856751814195, 24.867082617604062, 27.466823073080853, 30.85778888457232, 33.34449714633272, 36.05726979552589, 38.09184928242077, 39.56126780073374, 41.595847287628615, 43.40436238709073, 44.42165213053817, 46.34319942371666, 48.71687549176069, 50.07326181635727, 51.090551559804716], \"yaxis\": \"y\"}, {\"hovertemplate\": \"Country=Azerbaijan<br>Day=%{x}<br>Dead_per_million=%{y}<br>popData2018=%{marker.size}<extra></extra>\", \"legendgroup\": \"Azerbaijan\", \"marker\": {\"color\": \"#511CFB\", \"size\": [9942334.0, 9942334.0, 9942334.0, 9942334.0, 9942334.0, 9942334.0, 9942334.0, 9942334.0, 9942334.0, 9942334.0], \"sizemode\": \"area\", \"sizeref\": 3481825.0, \"symbol\": \"circle\"}, \"mode\": \"markers\", \"name\": \"Azerbaijan\", \"showlegend\": true, \"type\": \"scattergl\", \"x\": [1, 2, 3, 4, 5, 6, 7, 8, 9, 10], \"xaxis\": \"x\", \"y\": [1.0058000465484263, 1.1063800512032687, 1.1063800512032687, 1.2069600558581113, 1.3075400605129541, 1.3075400605129541, 1.5087000698226392, 1.5087000698226392, 1.810440083787167, 1.9110200884420097], \"yaxis\": \"y\"}, {\"hovertemplate\": \"Country=Bahamas<br>Day=%{x}<br>Dead_per_million=%{y}<br>popData2018=%{marker.size}<extra></extra>\", \"legendgroup\": \"Bahamas\", \"marker\": {\"color\": \"#00A08B\", \"size\": [385640.0, 385640.0, 385640.0, 385640.0, 385640.0, 385640.0, 385640.0, 385640.0, 385640.0, 385640.0, 385640.0, 385640.0, 385640.0, 385640.0, 385640.0, 385640.0, 385640.0, 385640.0, 385640.0], \"sizemode\": \"area\", \"sizeref\": 3481825.0, \"symbol\": \"circle\"}, \"mode\": \"markers\", \"name\": \"Bahamas\", \"showlegend\": true, \"type\": \"scattergl\", \"x\": [1, 2, 3, 4, 5, 6, 7, 8, 9, 10, 11, 12, 13, 14, 15, 16, 17, 18, 19], \"xaxis\": \"x\", \"y\": [2.593092002904263, 2.593092002904263, 7.779276008712789, 10.372368011617052, 12.965460014521314, 12.965460014521314, 15.558552017425578, 18.151644020329844, 20.744736023234104, 20.744736023234104, 20.744736023234104, 20.744736023234104, 20.744736023234104, 20.744736023234104, 20.744736023234104, 23.337828026138368, 23.337828026138368, 23.337828026138368, 23.337828026138368], \"yaxis\": \"y\"}, {\"hovertemplate\": \"Country=Bahrain<br>Day=%{x}<br>Dead_per_million=%{y}<br>popData2018=%{marker.size}<extra></extra>\", \"legendgroup\": \"Bahrain\", \"marker\": {\"color\": \"#FB00D1\", \"size\": [1569439.0, 1569439.0, 1569439.0, 1569439.0, 1569439.0, 1569439.0, 1569439.0, 1569439.0, 1569439.0, 1569439.0, 1569439.0, 1569439.0, 1569439.0, 1569439.0, 1569439.0, 1569439.0, 1569439.0, 1569439.0, 1569439.0, 1569439.0, 1569439.0, 1569439.0, 1569439.0, 1569439.0, 1569439.0, 1569439.0, 1569439.0, 1569439.0, 1569439.0], \"sizemode\": \"area\", \"sizeref\": 3481825.0, \"symbol\": \"circle\"}, \"mode\": \"markers\", \"name\": \"Bahrain\", \"showlegend\": true, \"type\": \"scattergl\", \"x\": [1, 2, 3, 4, 5, 6, 7, 8, 9, 10, 11, 12, 13, 14, 15, 16, 17, 18, 19, 20, 21, 22, 23, 24, 25, 26, 27, 28, 29], \"xaxis\": \"x\", \"y\": [1.2743407039075747, 1.2743407039075747, 1.911511055861362, 1.911511055861362, 2.5486814078151494, 2.5486814078151494, 2.5486814078151494, 2.5486814078151494, 2.5486814078151494, 2.5486814078151494, 2.5486814078151494, 2.5486814078151494, 2.5486814078151494, 2.5486814078151494, 2.5486814078151494, 2.5486814078151494, 3.185851759768936, 3.185851759768936, 3.185851759768936, 3.823022111722724, 3.823022111722724, 3.823022111722724, 4.460192463676512, 4.460192463676512, 4.460192463676512, 4.460192463676512, 4.460192463676512, 4.460192463676512, 4.460192463676512], \"yaxis\": \"y\"}, {\"hovertemplate\": \"Country=Barbados<br>Day=%{x}<br>Dead_per_million=%{y}<br>popData2018=%{marker.size}<extra></extra>\", \"legendgroup\": \"Barbados\", \"marker\": {\"color\": \"#FC0080\", \"size\": [286641.0, 286641.0, 286641.0, 286641.0, 286641.0, 286641.0, 286641.0, 286641.0, 286641.0, 286641.0, 286641.0, 286641.0, 286641.0, 286641.0, 286641.0], \"sizemode\": \"area\", \"sizeref\": 3481825.0, \"symbol\": \"circle\"}, \"mode\": \"markers\", \"name\": \"Barbados\", \"showlegend\": true, \"type\": \"scattergl\", \"x\": [1, 2, 3, 4, 5, 6, 7, 8, 9, 10, 11, 12, 13, 14, 15], \"xaxis\": \"x\", \"y\": [3.488684451980003, 6.977368903960006, 10.466053355940009, 10.466053355940009, 10.466053355940009, 13.954737807920012, 13.954737807920012, 13.954737807920012, 13.954737807920012, 17.443422259900014, 17.443422259900014, 17.443422259900014, 17.443422259900014, 17.443422259900014, 17.443422259900014], \"yaxis\": \"y\"}, {\"hovertemplate\": \"Country=Belarus<br>Day=%{x}<br>Dead_per_million=%{y}<br>popData2018=%{marker.size}<extra></extra>\", \"legendgroup\": \"Belarus\", \"marker\": {\"color\": \"#B2828D\", \"size\": [9485386.0, 9485386.0, 9485386.0, 9485386.0, 9485386.0, 9485386.0, 9485386.0, 9485386.0, 9485386.0, 9485386.0, 9485386.0, 9485386.0, 9485386.0, 9485386.0], \"sizemode\": \"area\", \"sizeref\": 3481825.0, \"symbol\": \"circle\"}, \"mode\": \"markers\", \"name\": \"Belarus\", \"showlegend\": true, \"type\": \"scattergl\", \"x\": [1, 2, 3, 4, 5, 6, 7, 8, 9, 10, 11, 12, 13, 14], \"xaxis\": \"x\", \"y\": [1.3705293595853665, 1.3705293595853665, 1.3705293595853665, 1.6868053656435278, 2.0030813717016893, 2.4247827131125717, 2.741058719170733, 3.0573347252288943, 3.479036066639776, 3.795312072697938, 4.21701341410882, 4.427864084814261, 4.744140090872422, 4.954990761577863], \"yaxis\": \"y\"}, {\"hovertemplate\": \"Country=Belgium<br>Day=%{x}<br>Dead_per_million=%{y}<br>popData2018=%{marker.size}<extra></extra>\", \"legendgroup\": \"Belgium\", \"marker\": {\"color\": \"#6C7C32\", \"size\": [11422068.0, 11422068.0, 11422068.0, 11422068.0, 11422068.0, 11422068.0, 11422068.0, 11422068.0, 11422068.0, 11422068.0, 11422068.0, 11422068.0, 11422068.0, 11422068.0, 11422068.0, 11422068.0, 11422068.0, 11422068.0, 11422068.0, 11422068.0, 11422068.0, 11422068.0, 11422068.0, 11422068.0, 11422068.0, 11422068.0, 11422068.0, 11422068.0, 11422068.0, 11422068.0, 11422068.0, 11422068.0, 11422068.0], \"sizemode\": \"area\", \"sizeref\": 3481825.0, \"symbol\": \"circle\"}, \"mode\": \"markers\", \"name\": \"Belgium\", \"showlegend\": true, \"type\": \"scattergl\", \"x\": [1, 2, 3, 4, 5, 6, 7, 8, 9, 10, 11, 12, 13, 14, 15, 16, 17, 18, 19, 20, 21, 22, 23, 24, 25, 26, 27, 28, 29, 30, 31, 32, 33], \"xaxis\": \"x\", \"y\": [1.225697483152788, 1.8385462247291822, 3.2393433483323686, 5.8658379550883435, 6.566236516889936, 7.704384179817525, 10.681078067474296, 15.583868000085449, 19.260960449543813, 25.301898045082552, 30.9050865394953, 37.733972517060835, 44.913057775527164, 61.7226232587654, 72.49125114646489, 88.51286824767634, 100.06944451740263, 112.32641934893051, 126.68458986586317, 142.881306607525, 178.16388415828027, 196.1115973044461, 220.88819642817745, 264.3129072598762, 292.94169847351634, 315.179352810717, 341.70694833895226, 363.94460267615284, 388.7212017998842, 425.22947683379226, 452.0197218227032, 477.409169688011, 497.5456283398068], \"yaxis\": \"y\"}, {\"hovertemplate\": \"Country=Belize<br>Day=%{x}<br>Dead_per_million=%{y}<br>popData2018=%{marker.size}<extra></extra>\", \"legendgroup\": \"Belize\", \"marker\": {\"color\": \"#778AAE\", \"size\": [383071.0, 383071.0, 383071.0, 383071.0, 383071.0, 383071.0, 383071.0, 383071.0, 383071.0, 383071.0, 383071.0, 383071.0, 383071.0, 383071.0, 383071.0], \"sizemode\": \"area\", \"sizeref\": 3481825.0, \"symbol\": \"circle\"}, \"mode\": \"markers\", \"name\": \"Belize\", \"showlegend\": true, \"type\": \"scattergl\", \"x\": [1, 2, 3, 4, 5, 6, 7, 8, 9, 10, 11, 12, 13, 14, 15], \"xaxis\": \"x\", \"y\": [2.6104821299445793, 2.6104821299445793, 2.6104821299445793, 2.6104821299445793, 2.6104821299445793, 5.220964259889159, 5.220964259889159, 5.220964259889159, 5.220964259889159, 5.220964259889159, 5.220964259889159, 5.220964259889159, 5.220964259889159, 5.220964259889159, 5.220964259889159], \"yaxis\": \"y\"}, {\"hovertemplate\": \"Country=Bermuda<br>Day=%{x}<br>Dead_per_million=%{y}<br>popData2018=%{marker.size}<extra></extra>\", \"legendgroup\": \"Bermuda\", \"marker\": {\"color\": \"#862A16\", \"size\": [63968.0, 63968.0, 63968.0, 63968.0, 63968.0, 63968.0, 63968.0, 63968.0, 63968.0, 63968.0, 63968.0, 63968.0, 63968.0, 63968.0], \"sizemode\": \"area\", \"sizeref\": 3481825.0, \"symbol\": \"circle\"}, \"mode\": \"markers\", \"name\": \"Bermuda\", \"showlegend\": true, \"type\": \"scattergl\", \"x\": [1, 2, 3, 4, 5, 6, 7, 8, 9, 10, 11, 12, 13, 14], \"xaxis\": \"x\", \"y\": [31.265632816408203, 31.265632816408203, 46.89844922461231, 62.53126563281641, 62.53126563281641, 62.53126563281641, 62.53126563281641, 62.53126563281641, 78.1640820410205, 78.1640820410205, 78.1640820410205, 78.1640820410205, 78.1640820410205, 78.1640820410205], \"yaxis\": \"y\"}, {\"hovertemplate\": \"Country=Bolivia<br>Day=%{x}<br>Dead_per_million=%{y}<br>popData2018=%{marker.size}<extra></extra>\", \"legendgroup\": \"Bolivia\", \"marker\": {\"color\": \"#A777F1\", \"size\": [11353142.0, 11353142.0, 11353142.0, 11353142.0, 11353142.0, 11353142.0, 11353142.0, 11353142.0, 11353142.0, 11353142.0, 11353142.0, 11353142.0, 11353142.0, 11353142.0], \"sizemode\": \"area\", \"sizeref\": 3481825.0, \"symbol\": \"circle\"}, \"mode\": \"markers\", \"name\": \"Bolivia\", \"showlegend\": true, \"type\": \"scattergl\", \"x\": [1, 2, 3, 4, 5, 6, 7, 8, 9, 10, 11, 12, 13, 14], \"xaxis\": \"x\", \"y\": [1.2331388086223178, 1.3212201520953408, 1.585464182514409, 1.6735455259874314, 1.7616268694604542, 2.113952243352545, 2.378196273771613, 2.4662776172446357, 2.4662776172446357, 2.554358960717659, 2.730521647663704, 2.730521647663704, 2.8186029911367267, 2.9066843346097495], \"yaxis\": \"y\"}, {\"hovertemplate\": \"Country=Bosnia_and_Herzegovina<br>Day=%{x}<br>Dead_per_million=%{y}<br>popData2018=%{marker.size}<extra></extra>\", \"legendgroup\": \"Bosnia_and_Herzegovina\", \"marker\": {\"color\": \"#620042\", \"size\": [3323929.0, 3323929.0, 3323929.0, 3323929.0, 3323929.0, 3323929.0, 3323929.0, 3323929.0, 3323929.0, 3323929.0, 3323929.0, 3323929.0, 3323929.0, 3323929.0, 3323929.0, 3323929.0, 3323929.0, 3323929.0, 3323929.0, 3323929.0, 3323929.0, 3323929.0, 3323929.0], \"sizemode\": \"area\", \"sizeref\": 3481825.0, \"symbol\": \"circle\"}, \"mode\": \"markers\", \"name\": \"Bosnia_and_Herzegovina\", \"showlegend\": true, \"type\": \"scattergl\", \"x\": [1, 2, 3, 4, 5, 6, 7, 8, 9, 10, 11, 12, 13, 14, 15, 16, 17, 18, 19, 20, 21, 22, 23], \"xaxis\": \"x\", \"y\": [1.504243923381035, 1.8050927080572419, 2.4067902774096557, 3.6101854161144837, 3.9110342007906906, 5.114429339495519, 5.415278124171726, 6.317824478200347, 7.2203708322289675, 8.423765970933795, 9.627161109638623, 10.529707463667243, 10.830556248343452, 11.131405033019659, 11.131405033019659, 11.432253817695864, 11.432253817695864, 11.733102602372073, 12.03395138704828, 12.334800171724487, 13.237346525753107, 13.538195310429314, 13.839044095105521], \"yaxis\": \"y\"}, {\"hovertemplate\": \"Country=Brazil<br>Day=%{x}<br>Dead_per_million=%{y}<br>popData2018=%{marker.size}<extra></extra>\", \"legendgroup\": \"Brazil\", \"marker\": {\"color\": \"#1616A7\", \"size\": [209469333.0, 209469333.0, 209469333.0, 209469333.0, 209469333.0, 209469333.0, 209469333.0, 209469333.0, 209469333.0, 209469333.0, 209469333.0, 209469333.0, 209469333.0, 209469333.0, 209469333.0, 209469333.0, 209469333.0, 209469333.0, 209469333.0], \"sizemode\": \"area\", \"sizeref\": 3481825.0, \"symbol\": \"circle\"}, \"mode\": \"markers\", \"name\": \"Brazil\", \"showlegend\": true, \"type\": \"scattergl\", \"x\": [1, 2, 3, 4, 5, 6, 7, 8, 9, 10, 11, 12, 13, 14, 15, 16, 17, 18, 19], \"xaxis\": \"x\", \"y\": [1.150526411424626, 1.427416585128478, 1.7138546958566008, 2.062354397242483, 2.320148696897794, 2.640004587210864, 3.1842369975942972, 3.819174809708302, 4.49230436991939, 5.0413107488149596, 5.365940607640165, 5.838563490341567, 6.339830184115782, 7.313719760591399, 8.287609337067016, 9.185115417348467, 10.221066584481845, 11.204504097981733, 11.7535104768773], \"yaxis\": \"y\"}, {\"hovertemplate\": \"Country=British_Virgin_Islands<br>Day=%{x}<br>Dead_per_million=%{y}<br>popData2018=%{marker.size}<extra></extra>\", \"legendgroup\": \"British_Virgin_Islands\", \"marker\": {\"color\": \"#DA60CA\", \"size\": [29802.0], \"sizemode\": \"area\", \"sizeref\": 3481825.0, \"symbol\": \"circle\"}, \"mode\": \"markers\", \"name\": \"British_Virgin_Islands\", \"showlegend\": true, \"type\": \"scattergl\", \"x\": [1], \"xaxis\": \"x\", \"y\": [33.55479498020267], \"yaxis\": \"y\"}, {\"hovertemplate\": \"Country=Brunei_Darussalam<br>Day=%{x}<br>Dead_per_million=%{y}<br>popData2018=%{marker.size}<extra></extra>\", \"legendgroup\": \"Brunei_Darussalam\", \"marker\": {\"color\": \"#6C4516\", \"size\": [428962.0, 428962.0, 428962.0, 428962.0, 428962.0, 428962.0, 428962.0, 428962.0, 428962.0, 428962.0, 428962.0, 428962.0, 428962.0, 428962.0, 428962.0, 428962.0, 428962.0, 428962.0, 428962.0, 428962.0, 428962.0, 428962.0, 428962.0], \"sizemode\": \"area\", \"sizeref\": 3481825.0, \"symbol\": \"circle\"}, \"mode\": \"markers\", \"name\": \"Brunei_Darussalam\", \"showlegend\": true, \"type\": \"scattergl\", \"x\": [1, 2, 3, 4, 5, 6, 7, 8, 9, 10, 11, 12, 13, 14, 15, 16, 17, 18, 19, 20, 21, 22, 23], \"xaxis\": \"x\", \"y\": [2.3312088250241283, 2.3312088250241283, 2.3312088250241283, 2.3312088250241283, 2.3312088250241283, 2.3312088250241283, 2.3312088250241283, 2.3312088250241283, 2.3312088250241283, 2.3312088250241283, 2.3312088250241283, 2.3312088250241283, 2.3312088250241283, 2.3312088250241283, 2.3312088250241283, 2.3312088250241283, 2.3312088250241283, 2.3312088250241283, 2.3312088250241283, 2.3312088250241283, 2.3312088250241283, 2.3312088250241283, 2.3312088250241283], \"yaxis\": \"y\"}, {\"hovertemplate\": \"Country=Bulgaria<br>Day=%{x}<br>Dead_per_million=%{y}<br>popData2018=%{marker.size}<extra></extra>\", \"legendgroup\": \"Bulgaria\", \"marker\": {\"color\": \"#0D2A63\", \"size\": [7024216.0, 7024216.0, 7024216.0, 7024216.0, 7024216.0, 7024216.0, 7024216.0, 7024216.0, 7024216.0, 7024216.0, 7024216.0, 7024216.0, 7024216.0, 7024216.0, 7024216.0, 7024216.0, 7024216.0, 7024216.0, 7024216.0, 7024216.0, 7024216.0, 7024216.0], \"sizemode\": \"area\", \"sizeref\": 3481825.0, \"symbol\": \"circle\"}, \"mode\": \"markers\", \"name\": \"Bulgaria\", \"showlegend\": true, \"type\": \"scattergl\", \"x\": [1, 2, 3, 4, 5, 6, 7, 8, 9, 10, 11, 12, 13, 14, 15, 16, 17, 18, 19, 20, 21, 22], \"xaxis\": \"x\", \"y\": [1.1389171403612872, 1.1389171403612872, 1.1389171403612872, 1.4236464254516092, 1.4236464254516092, 1.9931049956322529, 2.4201989232677352, 2.8472928509032185, 3.13202213599354, 3.2743867785387013, 3.416751421083862, 3.416751421083862, 3.5591160636290224, 3.9862099912645057, 4.1285746338096665, 4.555668561445149, 4.982762489080632, 5.125127131625793, 5.4098564167161145, 5.836950344351597, 5.836950344351597, 6.121679629441919], \"yaxis\": \"y\"}, {\"hovertemplate\": \"Country=Burkina_Faso<br>Day=%{x}<br>Dead_per_million=%{y}<br>popData2018=%{marker.size}<extra></extra>\", \"legendgroup\": \"Burkina_Faso\", \"marker\": {\"color\": \"#AF0038\", \"size\": [19751535.0, 19751535.0, 19751535.0, 19751535.0, 19751535.0, 19751535.0, 19751535.0, 19751535.0, 19751535.0, 19751535.0, 19751535.0, 19751535.0], \"sizemode\": \"area\", \"sizeref\": 3481825.0, \"symbol\": \"circle\"}, \"mode\": \"markers\", \"name\": \"Burkina_Faso\", \"showlegend\": true, \"type\": \"scattergl\", \"x\": [1, 2, 3, 4, 5, 6, 7, 8, 9, 10, 11, 12], \"xaxis\": \"x\", \"y\": [1.1644664579233968, 1.215095434354849, 1.3163533872177529, 1.3669823636492051, 1.3669823636492051, 1.4176113400806571, 1.518869292943561, 1.620127245806465, 1.620127245806465, 1.7720141751008214, 1.8226431515322732, 1.8226431515322732], \"yaxis\": \"y\"}, {\"hovertemplate\": \"Country=Cameroon<br>Day=%{x}<br>Dead_per_million=%{y}<br>popData2018=%{marker.size}<extra></extra>\", \"legendgroup\": \"Cameroon\", \"marker\": {\"color\": \"#2E91E5\", \"size\": [25216237.0], \"sizemode\": \"area\", \"sizeref\": 3481825.0, \"symbol\": \"circle\"}, \"mode\": \"markers\", \"name\": \"Cameroon\", \"showlegend\": true, \"type\": \"scattergl\", \"x\": [1], \"xaxis\": \"x\", \"y\": [1.6655934824851146], \"yaxis\": \"y\"}, {\"hovertemplate\": \"Country=Canada<br>Day=%{x}<br>Dead_per_million=%{y}<br>popData2018=%{marker.size}<extra></extra>\", \"legendgroup\": \"Canada\", \"marker\": {\"color\": \"#E15F99\", \"size\": [37058856.0, 37058856.0, 37058856.0, 37058856.0, 37058856.0, 37058856.0, 37058856.0, 37058856.0, 37058856.0, 37058856.0, 37058856.0, 37058856.0, 37058856.0, 37058856.0, 37058856.0, 37058856.0, 37058856.0, 37058856.0, 37058856.0, 37058856.0, 37058856.0, 37058856.0, 37058856.0, 37058856.0, 37058856.0], \"sizemode\": \"area\", \"sizeref\": 3481825.0, \"symbol\": \"circle\"}, \"mode\": \"markers\", \"name\": \"Canada\", \"showlegend\": true, \"type\": \"scattergl\", \"x\": [1, 2, 3, 4, 5, 6, 7, 8, 9, 10, 11, 12, 13, 14, 15, 16, 17, 18, 19, 20, 21, 22, 23, 24, 25], \"xaxis\": \"x\", \"y\": [1.0523800302955926, 1.4301574770683692, 1.6190462004547577, 1.6460303037956703, 2.4015851973412237, 2.590473920727612, 2.9412672641594764, 3.723806261045943, 5.0460273247506615, 6.2333278717508165, 7.555548935455536, 8.71586537911478, 10.2539592695468, 11.738084953296992, 13.734908600524529, 15.353954800979285, 17.620619481615943, 19.347602095434354, 21.04760060591185, 24.366645316844103, 27.253944374321755, 32.19203528570877, 35.32219127325463, 39.58567960111883, 42.63488327864195], \"yaxis\": \"y\"}, {\"hovertemplate\": \"Country=Cape_Verde<br>Day=%{x}<br>Dead_per_million=%{y}<br>popData2018=%{marker.size}<extra></extra>\", \"legendgroup\": \"Cape_Verde\", \"marker\": {\"color\": \"#1CA71C\", \"size\": [543767.0, 543767.0, 543767.0, 543767.0, 543767.0, 543767.0, 543767.0, 543767.0, 543767.0, 543767.0, 543767.0, 543767.0, 543767.0, 543767.0, 543767.0, 543767.0, 543767.0, 543767.0, 543767.0, 543767.0, 543767.0, 543767.0, 543767.0, 543767.0, 543767.0, 543767.0, 543767.0], \"sizemode\": \"area\", \"sizeref\": 3481825.0, \"symbol\": \"circle\"}, \"mode\": \"markers\", \"name\": \"Cape_Verde\", \"showlegend\": true, \"type\": \"scattergl\", \"x\": [1, 2, 3, 4, 5, 6, 7, 8, 9, 10, 11, 12, 13, 14, 15, 16, 17, 18, 19, 20, 21, 22, 23, 24, 25, 26, 27], \"xaxis\": \"x\", \"y\": [1.83902296387975, 1.83902296387975, 1.83902296387975, 1.83902296387975, 1.83902296387975, 1.83902296387975, 1.83902296387975, 1.83902296387975, 1.83902296387975, 1.83902296387975, 1.83902296387975, 1.83902296387975, 1.83902296387975, 1.83902296387975, 1.83902296387975, 1.83902296387975, 1.83902296387975, 1.83902296387975, 1.83902296387975, 1.83902296387975, 1.83902296387975, 1.83902296387975, 1.83902296387975, 1.83902296387975, 1.83902296387975, 1.83902296387975, 1.83902296387975], \"yaxis\": \"y\"}, {\"hovertemplate\": \"Country=Cases_on_an_international_conveyance_Japan<br>Day=%{x}<br>Dead_per_million=%{y}<br>popData2018=%{marker.size}<extra></extra>\", \"legendgroup\": \"Cases_on_an_international_conveyance_Japan\", \"marker\": {\"color\": \"#FB0D0D\", \"size\": [3000.0, 3000.0, 3000.0, 3000.0, 3000.0, 3000.0, 3000.0, 3000.0, 3000.0, 3000.0, 3000.0, 3000.0, 3000.0], \"sizemode\": \"area\", \"sizeref\": 3481825.0, \"symbol\": \"circle\"}, \"mode\": \"markers\", \"name\": \"Cases_on_an_international_conveyance_Japan\", \"showlegend\": true, \"type\": \"scattergl\", \"x\": [1, 2, 3, 4, 5, 6, 7, 8, 9, 10, 11, 12, 13], \"xaxis\": \"x\", \"y\": [666.6666666666666, 666.6666666666666, 666.6666666666666, 666.6666666666666, 1000.0, 1000.0, 1333.3333333333333, 1333.3333333333333, 1333.3333333333333, 2000.0, 2000.0, 2000.0, 2333.3333333333335], \"yaxis\": \"y\"}, {\"hovertemplate\": \"Country=Cayman_Islands<br>Day=%{x}<br>Dead_per_million=%{y}<br>popData2018=%{marker.size}<extra></extra>\", \"legendgroup\": \"Cayman_Islands\", \"marker\": {\"color\": \"#DA16FF\", \"size\": [64174.0, 64174.0, 64174.0, 64174.0, 64174.0, 64174.0, 64174.0, 64174.0, 64174.0, 64174.0, 64174.0, 64174.0, 64174.0, 64174.0, 64174.0, 64174.0, 64174.0, 64174.0, 64174.0, 64174.0, 64174.0, 64174.0, 64174.0, 64174.0, 64174.0, 64174.0, 64174.0, 64174.0, 64174.0, 64174.0, 64174.0], \"sizemode\": \"area\", \"sizeref\": 3481825.0, \"symbol\": \"circle\"}, \"mode\": \"markers\", \"name\": \"Cayman_Islands\", \"showlegend\": true, \"type\": \"scattergl\", \"x\": [1, 2, 3, 4, 5, 6, 7, 8, 9, 10, 11, 12, 13, 14, 15, 16, 17, 18, 19, 20, 21, 22, 23, 24, 25, 26, 27, 28, 29, 30, 31], \"xaxis\": \"x\", \"y\": [15.582634711877086, 15.582634711877086, 15.582634711877086, 15.582634711877086, 15.582634711877086, 15.582634711877086, 15.582634711877086, 15.582634711877086, 15.582634711877086, 15.582634711877086, 15.582634711877086, 15.582634711877086, 15.582634711877086, 15.582634711877086, 15.582634711877086, 15.582634711877086, 15.582634711877086, 15.582634711877086, 15.582634711877086, 15.582634711877086, 15.582634711877086, 15.582634711877086, 15.582634711877086, 15.582634711877086, 15.582634711877086, 15.582634711877086, 15.582634711877086, 15.582634711877086, 15.582634711877086, 15.582634711877086, 15.582634711877086], \"yaxis\": \"y\"}, {\"hovertemplate\": \"Country=Chile<br>Day=%{x}<br>Dead_per_million=%{y}<br>popData2018=%{marker.size}<extra></extra>\", \"legendgroup\": \"Chile\", \"marker\": {\"color\": \"#222A2A\", \"size\": [18729160.0, 18729160.0, 18729160.0, 18729160.0, 18729160.0, 18729160.0, 18729160.0, 18729160.0, 18729160.0, 18729160.0, 18729160.0, 18729160.0, 18729160.0, 18729160.0, 18729160.0, 18729160.0, 18729160.0], \"sizemode\": \"area\", \"sizeref\": 3481825.0, \"symbol\": \"circle\"}, \"mode\": \"markers\", \"name\": \"Chile\", \"showlegend\": true, \"type\": \"scattergl\", \"x\": [1, 2, 3, 4, 5, 6, 7, 8, 9, 10, 11, 12, 13, 14, 15, 16, 17], \"xaxis\": \"x\", \"y\": [1.1746389053219686, 1.441602292895143, 1.8153510354975877, 1.9755290680414928, 2.295885133129302, 2.5628485207024765, 3.043382618334191, 3.4705240384512708, 3.8976654585683503, 4.271414201170795, 4.378199556200064, 4.912126331346413, 5.0189116863756835, 5.606231139036669, 6.193550591697652, 6.727477366844001, 7.101226109446446], \"yaxis\": \"y\"}, {\"hovertemplate\": \"Country=China<br>Day=%{x}<br>Dead_per_million=%{y}<br>popData2018=%{marker.size}<extra></extra>\", \"legendgroup\": \"China\", \"marker\": {\"color\": \"#B68100\", \"size\": [1392730000.0, 1392730000.0, 1392730000.0, 1392730000.0, 1392730000.0, 1392730000.0, 1392730000.0, 1392730000.0, 1392730000.0, 1392730000.0, 1392730000.0, 1392730000.0, 1392730000.0, 1392730000.0, 1392730000.0, 1392730000.0, 1392730000.0, 1392730000.0, 1392730000.0, 1392730000.0, 1392730000.0, 1392730000.0, 1392730000.0, 1392730000.0, 1392730000.0, 1392730000.0, 1392730000.0, 1392730000.0, 1392730000.0, 1392730000.0, 1392730000.0, 1392730000.0, 1392730000.0, 1392730000.0, 1392730000.0, 1392730000.0, 1392730000.0, 1392730000.0, 1392730000.0, 1392730000.0, 1392730000.0, 1392730000.0, 1392730000.0, 1392730000.0, 1392730000.0, 1392730000.0, 1392730000.0, 1392730000.0, 1392730000.0, 1392730000.0, 1392730000.0, 1392730000.0, 1392730000.0, 1392730000.0, 1392730000.0, 1392730000.0, 1392730000.0, 1392730000.0, 1392730000.0, 1392730000.0, 1392730000.0, 1392730000.0, 1392730000.0, 1392730000.0, 1392730000.0, 1392730000.0], \"sizemode\": \"area\", \"sizeref\": 3481825.0, \"symbol\": \"circle\"}, \"mode\": \"markers\", \"name\": \"China\", \"showlegend\": true, \"type\": \"scattergl\", \"x\": [1, 2, 3, 4, 5, 6, 7, 8, 9, 10, 11, 12, 13, 14, 15, 16, 17, 18, 19, 20, 21, 22, 23, 24, 25, 26, 27, 28, 29, 30, 31, 32, 33, 34, 35, 36, 37, 38, 39, 40, 41, 42, 43, 44, 45, 46, 47, 48, 49, 50, 51, 52, 53, 54, 55, 56, 57, 58, 59, 60, 61, 62, 63, 64, 65, 66], \"xaxis\": \"x\", \"y\": [1.0942537318791152, 1.1962117567654895, 1.2716032540406252, 1.3419686514974187, 1.4417726336045034, 1.5221902306979818, 1.6069159133500392, 1.685179467664228, 1.7555448651210213, 1.8632470040855011, 1.9135080022689248, 1.9508447437766112, 1.9716671573097442, 2.003259784739325, 2.0370064549481954, 2.0621369540399073, 2.0922935529499616, 2.115270009262384, 2.141836536873622, 2.1640949789262813, 2.1856354067191774, 2.2057398059925473, 2.225126191006153, 2.241640518980707, 2.253846761396681, 2.2696430751114716, 2.2775412319688666, 2.2825673317872095, 2.293337545683657, 2.299799674021526, 2.309133859398448, 2.3155959877363164, 2.3270842158925276, 2.332828329970633, 2.335700387009686, 2.3400084725682655, 2.3443165581268444, 2.350778686464713, 2.3558047862830556, 2.358676843322108, 2.362984928880688, 2.3665750001795036, 2.368729042958793, 2.372319114257609, 2.3737551427771355, 2.375909185556425, 2.376627199816188, 2.3809352853747674, 2.3881154279723997, 2.3909874850114523, 2.393141527790742, 2.3945775563102685, 2.3945775563102685, 2.3960135848297948, 2.397449613349321, 2.398167627609084, 2.400321670388374, 2.400321670388374, 2.4017576989079004, 2.4017576989079004, 2.4024757131676635, 2.4024757131676635, 3.32871410826219, 3.32871410826219, 3.32871410826219, 3.32871410826219], \"yaxis\": \"y\"}, {\"hovertemplate\": \"Country=Colombia<br>Day=%{x}<br>Dead_per_million=%{y}<br>popData2018=%{marker.size}<extra></extra>\", \"legendgroup\": \"Colombia\", \"marker\": {\"color\": \"#750D86\", \"size\": [49648685.0, 49648685.0, 49648685.0, 49648685.0, 49648685.0, 49648685.0, 49648685.0, 49648685.0, 49648685.0, 49648685.0, 49648685.0, 49648685.0, 49648685.0], \"sizemode\": \"area\", \"sizeref\": 3481825.0, \"symbol\": \"circle\"}, \"mode\": \"markers\", \"name\": \"Colombia\", \"showlegend\": true, \"type\": \"scattergl\", \"x\": [1, 2, 3, 4, 5, 6, 7, 8, 9, 10, 11, 12, 13], \"xaxis\": \"x\", \"y\": [1.0070760182268674, 1.1077836200495543, 1.3897649051530772, 1.611321629162988, 2.014152036453735, 2.1954257197345712, 2.255850280828183, 2.557973086296243, 2.638539167754393, 2.900378932493378, 3.0816526157742143, 3.3434923805132, 3.6053321452521856], \"yaxis\": \"y\"}, {\"hovertemplate\": \"Country=Congo<br>Day=%{x}<br>Dead_per_million=%{y}<br>popData2018=%{marker.size}<extra></extra>\", \"legendgroup\": \"Congo\", \"marker\": {\"color\": \"#EB663B\", \"size\": [5244363.0, 5244363.0, 5244363.0], \"sizemode\": \"area\", \"sizeref\": 3481825.0, \"symbol\": \"circle\"}, \"mode\": \"markers\", \"name\": \"Congo\", \"showlegend\": true, \"type\": \"scattergl\", \"x\": [1, 2, 3], \"xaxis\": \"x\", \"y\": [1.1440855638711507, 1.1440855638711507, 1.1440855638711507], \"yaxis\": \"y\"}, {\"hovertemplate\": \"Country=Croatia<br>Day=%{x}<br>Dead_per_million=%{y}<br>popData2018=%{marker.size}<extra></extra>\", \"legendgroup\": \"Croatia\", \"marker\": {\"color\": \"#511CFB\", \"size\": [4089400.0, 4089400.0, 4089400.0, 4089400.0, 4089400.0, 4089400.0, 4089400.0, 4089400.0, 4089400.0, 4089400.0, 4089400.0, 4089400.0, 4089400.0, 4089400.0, 4089400.0, 4089400.0, 4089400.0, 4089400.0, 4089400.0, 4089400.0, 4089400.0, 4089400.0, 4089400.0], \"sizemode\": \"area\", \"sizeref\": 3481825.0, \"symbol\": \"circle\"}, \"mode\": \"markers\", \"name\": \"Croatia\", \"showlegend\": true, \"type\": \"scattergl\", \"x\": [1, 2, 3, 4, 5, 6, 7, 8, 9, 10, 11, 12, 13, 14, 15, 16, 17, 18, 19, 20, 21, 22, 23], \"xaxis\": \"x\", \"y\": [1.2226732527999218, 1.4672079033599061, 1.4672079033599061, 1.4672079033599061, 1.4672079033599061, 1.7117425539198905, 1.9562772044798749, 2.9344158067198123, 3.6680197583997654, 3.9125544089597497, 4.401623710079718, 4.646158360639703, 4.890693011199687, 5.1352276617596715, 5.1352276617596715, 5.62429696287964, 6.113366263999609, 7.580574167359514, 8.314178119039468, 8.558712769599452, 8.803247420159437, 9.53685137183939, 11.493128576319265], \"yaxis\": \"y\"}, {\"hovertemplate\": \"Country=Cuba<br>Day=%{x}<br>Dead_per_million=%{y}<br>popData2018=%{marker.size}<extra></extra>\", \"legendgroup\": \"Cuba\", \"marker\": {\"color\": \"#00A08B\", \"size\": [11338138.0, 11338138.0, 11338138.0, 11338138.0, 11338138.0, 11338138.0, 11338138.0, 11338138.0, 11338138.0, 11338138.0, 11338138.0, 11338138.0], \"sizemode\": \"area\", \"sizeref\": 3481825.0, \"symbol\": \"circle\"}, \"mode\": \"markers\", \"name\": \"Cuba\", \"showlegend\": true, \"type\": \"scattergl\", \"x\": [1, 2, 3, 4, 5, 6, 7, 8, 9, 10, 11, 12], \"xaxis\": \"x\", \"y\": [1.0583748407366358, 1.322968550920795, 1.322968550920795, 1.4111664543155147, 1.587562261104954, 1.852155971289113, 1.852155971289113, 2.1167496814732716, 2.3813433916574307, 2.7341350052363094, 2.8223329086310294, 2.9987287154204685], \"yaxis\": \"y\"}, {\"hovertemplate\": \"Country=Cura\\u00e7ao<br>Day=%{x}<br>Dead_per_million=%{y}<br>popData2018=%{marker.size}<extra></extra>\", \"legendgroup\": \"Cura\\u00e7ao\", \"marker\": {\"color\": \"#FB00D1\", \"size\": [159849.0, 159849.0, 159849.0, 159849.0, 159849.0, 159849.0, 159849.0, 159849.0, 159849.0, 159849.0, 159849.0, 159849.0, 159849.0, 159849.0, 159849.0, 159849.0, 159849.0, 159849.0, 159849.0, 159849.0, 159849.0, 159849.0, 159849.0, 159849.0, 159849.0], \"sizemode\": \"area\", \"sizeref\": 3481825.0, \"symbol\": \"circle\"}, \"mode\": \"markers\", \"name\": \"Cura\\u00e7ao\", \"showlegend\": true, \"type\": \"scattergl\", \"x\": [1, 2, 3, 4, 5, 6, 7, 8, 9, 10, 11, 12, 13, 14, 15, 16, 17, 18, 19, 20, 21, 22, 23, 24, 25], \"xaxis\": \"x\", \"y\": [6.25590400940888, 6.25590400940888, 6.25590400940888, 6.25590400940888, 6.25590400940888, 6.25590400940888, 6.25590400940888, 6.25590400940888, 6.25590400940888, 6.25590400940888, 6.25590400940888, 6.25590400940888, 6.25590400940888, 6.25590400940888, 6.25590400940888, 6.25590400940888, 6.25590400940888, 6.25590400940888, 6.25590400940888, 6.25590400940888, 6.25590400940888, 6.25590400940888, 6.25590400940888, 6.25590400940888, 6.25590400940888], \"yaxis\": \"y\"}, {\"hovertemplate\": \"Country=Cyprus<br>Day=%{x}<br>Dead_per_million=%{y}<br>popData2018=%{marker.size}<extra></extra>\", \"legendgroup\": \"Cyprus\", \"marker\": {\"color\": \"#FC0080\", \"size\": [1189265.0, 1189265.0, 1189265.0, 1189265.0, 1189265.0, 1189265.0, 1189265.0, 1189265.0, 1189265.0, 1189265.0, 1189265.0, 1189265.0, 1189265.0, 1189265.0, 1189265.0, 1189265.0, 1189265.0, 1189265.0, 1189265.0, 1189265.0, 1189265.0, 1189265.0, 1189265.0, 1189265.0, 1189265.0, 1189265.0, 1189265.0], \"sizemode\": \"area\", \"sizeref\": 3481825.0, \"symbol\": \"circle\"}, \"mode\": \"markers\", \"name\": \"Cyprus\", \"showlegend\": true, \"type\": \"scattergl\", \"x\": [1, 2, 3, 4, 5, 6, 7, 8, 9, 10, 11, 12, 13, 14, 15, 16, 17, 18, 19, 20, 21, 22, 23, 24, 25, 26, 27], \"xaxis\": \"x\", \"y\": [2.522566459115504, 2.522566459115504, 2.522566459115504, 4.204277431859174, 4.204277431859174, 5.045132918231008, 5.885988404602843, 6.726843890974678, 7.567699377346512, 7.567699377346512, 9.249410350090182, 9.249410350090182, 11.771976809205686, 11.771976809205686, 11.771976809205686, 11.771976809205686, 12.61283229557752, 12.61283229557752, 12.61283229557752, 13.453687781949355, 14.29454326832119, 14.29454326832119, 14.29454326832119, 14.29454326832119, 14.29454326832119, 14.29454326832119, 14.29454326832119], \"yaxis\": \"y\"}, {\"hovertemplate\": \"Country=Czech_Republic<br>Day=%{x}<br>Dead_per_million=%{y}<br>popData2018=%{marker.size}<extra></extra>\", \"legendgroup\": \"Czech_Republic\", \"marker\": {\"color\": \"#B2828D\", \"size\": [10625695.0, 10625695.0, 10625695.0, 10625695.0, 10625695.0, 10625695.0, 10625695.0, 10625695.0, 10625695.0, 10625695.0, 10625695.0, 10625695.0, 10625695.0, 10625695.0, 10625695.0, 10625695.0, 10625695.0, 10625695.0, 10625695.0, 10625695.0, 10625695.0, 10625695.0, 10625695.0], \"sizemode\": \"area\", \"sizeref\": 3481825.0, \"symbol\": \"circle\"}, \"mode\": \"markers\", \"name\": \"Czech_Republic\", \"showlegend\": true, \"type\": \"scattergl\", \"x\": [1, 2, 3, 4, 5, 6, 7, 8, 9, 10, 11, 12, 13, 14, 15, 16, 17, 18, 19, 20, 21, 22, 23], \"xaxis\": \"x\", \"y\": [1.035226401661256, 1.505783856961827, 2.2586757854427404, 2.9174562228635397, 3.670348151344453, 4.140905606645024, 4.987909026186052, 5.552577972546737, 6.30546990102765, 7.340696302688906, 8.281811213290048, 9.317037614951303, 10.540486998732788, 11.199267436153589, 12.14038234675473, 12.987385766295759, 13.457943221596329, 15.151950060678384, 15.622507515978953, 15.904841989159298, 16.281287953399755, 17.034179881880668, 17.692960319301466], \"yaxis\": \"y\"}, {\"hovertemplate\": \"Country=Denmark<br>Day=%{x}<br>Dead_per_million=%{y}<br>popData2018=%{marker.size}<extra></extra>\", \"legendgroup\": \"Denmark\", \"marker\": {\"color\": \"#6C7C32\", \"size\": [5797446.0, 5797446.0, 5797446.0, 5797446.0, 5797446.0, 5797446.0, 5797446.0, 5797446.0, 5797446.0, 5797446.0, 5797446.0, 5797446.0, 5797446.0, 5797446.0, 5797446.0, 5797446.0, 5797446.0, 5797446.0, 5797446.0, 5797446.0, 5797446.0, 5797446.0, 5797446.0, 5797446.0, 5797446.0, 5797446.0, 5797446.0, 5797446.0, 5797446.0, 5797446.0, 5797446.0, 5797446.0], \"sizemode\": \"area\", \"sizeref\": 3481825.0, \"symbol\": \"circle\"}, \"mode\": \"markers\", \"name\": \"Denmark\", \"showlegend\": true, \"type\": \"scattergl\", \"x\": [1, 2, 3, 4, 5, 6, 7, 8, 9, 10, 11, 12, 13, 14, 15, 16, 17, 18, 19, 20, 21, 22, 23, 24, 25, 26, 27, 28, 29, 30, 31, 32], \"xaxis\": \"x\", \"y\": [1.0349384884309403, 1.55240773264641, 2.2423667249337034, 2.2423667249337034, 4.139753953723761, 5.519671938298347, 5.864651434441995, 7.072079670944757, 8.969466899734813, 11.211833624668518, 12.41926186117128, 13.281710601530397, 15.524077326464102, 17.938933799469627, 21.216239012834272, 23.976074981983448, 27.77084943956356, 30.87566490485638, 32.25558288943097, 35.01541885858014, 37.60276507965749, 40.880070293022136, 42.60496777374036, 44.84733449867407, 47.089701223607776, 49.15957820046965, 51.57443467347518, 53.299332154193415, 55.3692091310553, 57.956555352132646, 59.68145283285088, 61.233860565497295], \"yaxis\": \"y\"}, {\"hovertemplate\": \"Country=Djibouti<br>Day=%{x}<br>Dead_per_million=%{y}<br>popData2018=%{marker.size}<extra></extra>\", \"legendgroup\": \"Djibouti\", \"marker\": {\"color\": \"#778AAE\", \"size\": [958920.0, 958920.0, 958920.0, 958920.0, 958920.0, 958920.0, 958920.0, 958920.0, 958920.0, 958920.0, 958920.0], \"sizemode\": \"area\", \"sizeref\": 3481825.0, \"symbol\": \"circle\"}, \"mode\": \"markers\", \"name\": \"Djibouti\", \"showlegend\": true, \"type\": \"scattergl\", \"x\": [1, 2, 3, 4, 5, 6, 7, 8, 9, 10, 11], \"xaxis\": \"x\", \"y\": [1.0428398615108665, 1.0428398615108665, 2.085679723021733, 2.085679723021733, 2.085679723021733, 2.085679723021733, 2.085679723021733, 2.085679723021733, 2.085679723021733, 2.085679723021733, 2.085679723021733], \"yaxis\": \"y\"}, {\"hovertemplate\": \"Country=Dominican_Republic<br>Day=%{x}<br>Dead_per_million=%{y}<br>popData2018=%{marker.size}<extra></extra>\", \"legendgroup\": \"Dominican_Republic\", \"marker\": {\"color\": \"#862A16\", \"size\": [10627165.0, 10627165.0, 10627165.0, 10627165.0, 10627165.0, 10627165.0, 10627165.0, 10627165.0, 10627165.0, 10627165.0, 10627165.0, 10627165.0, 10627165.0, 10627165.0, 10627165.0, 10627165.0, 10627165.0, 10627165.0, 10627165.0, 10627165.0, 10627165.0, 10627165.0, 10627165.0, 10627165.0], \"sizemode\": \"area\", \"sizeref\": 3481825.0, \"symbol\": \"circle\"}, \"mode\": \"markers\", \"name\": \"Dominican_Republic\", \"showlegend\": true, \"type\": \"scattergl\", \"x\": [1, 2, 3, 4, 5, 6, 7, 8, 9, 10, 11, 12, 13, 14, 15, 16, 17, 18, 19, 20, 21, 22, 23, 24], \"xaxis\": \"x\", \"y\": [1.8819694622225211, 2.63475724711153, 3.6698404513339162, 3.952135870667295, 4.799022128667429, 5.363612967334186, 5.645908386667564, 6.398696171556572, 7.245582429556706, 7.716074795112338, 8.092468687556842, 9.221650364890353, 10.162635096001615, 11.103619827112876, 11.856407612001883, 12.703293870002017, 16.279035848224808, 16.655429740669312, 17.220020579336072, 17.78461141800283, 18.443300729780706, 18.81969462222521, 20.419368665114355, 21.26625492311449], \"yaxis\": \"y\"}, {\"hovertemplate\": \"Country=Ecuador<br>Day=%{x}<br>Dead_per_million=%{y}<br>popData2018=%{marker.size}<extra></extra>\", \"legendgroup\": \"Ecuador\", \"marker\": {\"color\": \"#A777F1\", \"size\": [17084357.0, 17084357.0, 17084357.0, 17084357.0, 17084357.0, 17084357.0, 17084357.0, 17084357.0, 17084357.0, 17084357.0, 17084357.0, 17084357.0, 17084357.0, 17084357.0, 17084357.0, 17084357.0, 17084357.0, 17084357.0, 17084357.0, 17084357.0, 17084357.0, 17084357.0, 17084357.0, 17084357.0, 17084357.0, 17084357.0, 17084357.0, 17084357.0], \"sizemode\": \"area\", \"sizeref\": 3481825.0, \"symbol\": \"circle\"}, \"mode\": \"markers\", \"name\": \"Ecuador\", \"showlegend\": true, \"type\": \"scattergl\", \"x\": [1, 2, 3, 4, 5, 6, 7, 8, 9, 10, 11, 12, 13, 14, 15, 16, 17, 18, 19, 20, 21, 22, 23, 24, 25, 26, 27, 28], \"xaxis\": \"x\", \"y\": [1.0535954030930166, 1.5803931046395248, 1.697459260538749, 1.9901246502868093, 2.399856195934093, 2.8095877415813777, 3.394918521077498, 3.629050832875946, 4.624113158019351, 7.0239693539534445, 7.0239693539534445, 8.487296302693744, 10.06768940733327, 10.535954030930167, 11.179817888375897, 12.877277148914649, 14.165004863806113, 15.920997202294474, 17.384324151034775, 18.43791955412779, 19.491514957220808, 20.77924267211227, 20.77924267211227, 22.71083424444947, 23.58883041369365, 24.642425816786666, 26.691083545023087, 27.744678948116103], \"yaxis\": \"y\"}, {\"hovertemplate\": \"Country=Egypt<br>Day=%{x}<br>Dead_per_million=%{y}<br>popData2018=%{marker.size}<extra></extra>\", \"legendgroup\": \"Egypt\", \"marker\": {\"color\": \"#620042\", \"size\": [98423595.0, 98423595.0, 98423595.0, 98423595.0, 98423595.0, 98423595.0, 98423595.0, 98423595.0, 98423595.0, 98423595.0, 98423595.0, 98423595.0], \"sizemode\": \"area\", \"sizeref\": 3481825.0, \"symbol\": \"circle\"}, \"mode\": \"markers\", \"name\": \"Egypt\", \"showlegend\": true, \"type\": \"scattergl\", \"x\": [1, 2, 3, 4, 5, 6, 7, 8, 9, 10, 11, 12], \"xaxis\": \"x\", \"y\": [1.0464970315298887, 1.1988995118497756, 1.3716223228789806, 1.4833841417802307, 1.6154662913907991, 1.6662671181640947, 1.8085094331293223, 1.8593102599026177, 1.9913924095131863, 2.082833897705118, 2.2758770394436416, 2.428279519763528], \"yaxis\": \"y\"}, {\"hovertemplate\": \"Country=El_Salvador<br>Day=%{x}<br>Dead_per_million=%{y}<br>popData2018=%{marker.size}<extra></extra>\", \"legendgroup\": \"El_Salvador\", \"marker\": {\"color\": \"#1616A7\", \"size\": [6420744.0, 6420744.0, 6420744.0], \"sizemode\": \"area\", \"sizeref\": 3481825.0, \"symbol\": \"circle\"}, \"mode\": \"markers\", \"name\": \"El_Salvador\", \"showlegend\": true, \"type\": \"scattergl\", \"x\": [1, 2, 3], \"xaxis\": \"x\", \"y\": [1.0902163362999677, 1.0902163362999677, 1.0902163362999677], \"yaxis\": \"y\"}, {\"hovertemplate\": \"Country=Estonia<br>Day=%{x}<br>Dead_per_million=%{y}<br>popData2018=%{marker.size}<extra></extra>\", \"legendgroup\": \"Estonia\", \"marker\": {\"color\": \"#DA60CA\", \"size\": [1320884.0, 1320884.0, 1320884.0, 1320884.0, 1320884.0, 1320884.0, 1320884.0, 1320884.0, 1320884.0, 1320884.0, 1320884.0, 1320884.0, 1320884.0, 1320884.0, 1320884.0, 1320884.0, 1320884.0, 1320884.0, 1320884.0, 1320884.0, 1320884.0, 1320884.0], \"sizemode\": \"area\", \"sizeref\": 3481825.0, \"symbol\": \"circle\"}, \"mode\": \"markers\", \"name\": \"Estonia\", \"showlegend\": true, \"type\": \"scattergl\", \"x\": [1, 2, 3, 4, 5, 6, 7, 8, 9, 10, 11, 12, 13, 14, 15, 16, 17, 18, 19, 20, 21, 22], \"xaxis\": \"x\", \"y\": [2.2712062527822274, 2.2712062527822274, 3.028275003709637, 3.785343754637046, 8.3277562602015, 9.08482501112891, 9.841893762056321, 11.356031263911138, 14.384306267620774, 15.898443769475593, 18.16965002225782, 18.16965002225782, 18.16965002225782, 18.16965002225782, 18.92671877318523, 21.19792502596746, 23.469131278749686, 26.497406282459323, 27.254475033386733, 28.768612535241548, 28.768612535241548, 30.282750037096367], \"yaxis\": \"y\"}, {\"hovertemplate\": \"Country=Finland<br>Day=%{x}<br>Dead_per_million=%{y}<br>popData2018=%{marker.size}<extra></extra>\", \"legendgroup\": \"Finland\", \"marker\": {\"color\": \"#6C4516\", \"size\": [5518050.0, 5518050.0, 5518050.0, 5518050.0, 5518050.0, 5518050.0, 5518050.0, 5518050.0, 5518050.0, 5518050.0, 5518050.0, 5518050.0, 5518050.0, 5518050.0, 5518050.0, 5518050.0, 5518050.0, 5518050.0, 5518050.0, 5518050.0, 5518050.0, 5518050.0, 5518050.0, 5518050.0], \"sizemode\": \"area\", \"sizeref\": 3481825.0, \"symbol\": \"circle\"}, \"mode\": \"markers\", \"name\": \"Finland\", \"showlegend\": true, \"type\": \"scattergl\", \"x\": [1, 2, 3, 4, 5, 6, 7, 8, 9, 10, 11, 12, 13, 14, 15, 16, 17, 18, 19, 20, 21, 22, 23, 24], \"xaxis\": \"x\", \"y\": [1.2685640760775998, 1.631010954956914, 1.9934578338362285, 2.3559047127155424, 3.0807984704741713, 3.0807984704741713, 3.4432453493534854, 3.6244687887931426, 4.530585985991428, 4.893032864870743, 4.893032864870743, 6.161596940948343, 7.248937577586285, 7.6113844564656, 8.698725093103542, 8.8799485325432, 10.148512608620798, 10.69218292693977, 11.598300124138056, 13.048087639655312, 13.591757957974286, 14.860322034051885, 16.31010954956914, 17.03500330732777], \"yaxis\": \"y\"}, {\"hovertemplate\": \"Country=France<br>Day=%{x}<br>Dead_per_million=%{y}<br>popData2018=%{marker.size}<extra></extra>\", \"legendgroup\": \"France\", \"marker\": {\"color\": \"#0D2A63\", \"size\": [66987244.0, 66987244.0, 66987244.0, 66987244.0, 66987244.0, 66987244.0, 66987244.0, 66987244.0, 66987244.0, 66987244.0, 66987244.0, 66987244.0, 66987244.0, 66987244.0, 66987244.0, 66987244.0, 66987244.0, 66987244.0, 66987244.0, 66987244.0, 66987244.0, 66987244.0, 66987244.0, 66987244.0, 66987244.0, 66987244.0, 66987244.0, 66987244.0, 66987244.0, 66987244.0, 66987244.0, 66987244.0, 66987244.0, 66987244.0, 66987244.0, 66987244.0, 66987244.0, 66987244.0], \"sizemode\": \"area\", \"sizeref\": 3481825.0, \"symbol\": \"circle\"}, \"mode\": \"markers\", \"name\": \"France\", \"showlegend\": true, \"type\": \"scattergl\", \"x\": [1, 2, 3, 4, 5, 6, 7, 8, 9, 10, 11, 12, 13, 14, 15, 16, 17, 18, 19, 20, 21, 22, 23, 24, 25, 26, 27, 28, 29, 30, 31, 32, 33, 34, 35, 36, 37, 38], \"xaxis\": \"x\", \"y\": [1.17932900777348, 1.3584675912327426, 1.8958833416105312, 2.209375862664241, 2.612437675447582, 3.6424845303383435, 5.553296087237146, 6.717696879722355, 8.389656992008808, 10.06161710429526, 12.838265147913832, 16.421036817099086, 19.869454548689895, 25.31825312890914, 29.781789500102438, 34.54389017706117, 38.90292904123657, 45.14292303173422, 52.5921024605819, 60.19056404231229, 67.22175344308836, 97.13789688078525, 112.85730757933555, 120.5901230986604, 133.0253264337909, 154.17860749727217, 162.25477196822726, 182.27350866979987, 197.00765715932422, 206.4870738673769, 214.86180264409742, 223.43059821956552, 234.8058982692287, 256.2726718537637, 267.5136179658324, 278.87398980020737, 288.4579040152779, 294.3545490541453], \"yaxis\": \"y\"}, {\"hovertemplate\": \"Country=Georgia<br>Day=%{x}<br>Dead_per_million=%{y}<br>popData2018=%{marker.size}<extra></extra>\", \"legendgroup\": \"Georgia\", \"marker\": {\"color\": \"#AF0038\", \"size\": [3731000.0, 3731000.0], \"sizemode\": \"area\", \"sizeref\": 3481825.0, \"symbol\": \"circle\"}, \"mode\": \"markers\", \"name\": \"Georgia\", \"showlegend\": true, \"type\": \"scattergl\", \"x\": [1, 2], \"xaxis\": \"x\", \"y\": [1.0720986330742428, 1.0720986330742428], \"yaxis\": \"y\"}, {\"hovertemplate\": \"Country=Germany<br>Day=%{x}<br>Dead_per_million=%{y}<br>popData2018=%{marker.size}<extra></extra>\", \"legendgroup\": \"Germany\", \"marker\": {\"color\": \"#2E91E5\", \"size\": [82927922.0, 82927922.0, 82927922.0, 82927922.0, 82927922.0, 82927922.0, 82927922.0, 82927922.0, 82927922.0, 82927922.0, 82927922.0, 82927922.0, 82927922.0, 82927922.0, 82927922.0, 82927922.0, 82927922.0, 82927922.0, 82927922.0, 82927922.0, 82927922.0, 82927922.0, 82927922.0, 82927922.0, 82927922.0, 82927922.0, 82927922.0, 82927922.0, 82927922.0], \"sizemode\": \"area\", \"sizeref\": 3481825.0, \"symbol\": \"circle\"}, \"mode\": \"markers\", \"name\": \"Germany\", \"showlegend\": true, \"type\": \"scattergl\", \"x\": [1, 2, 3, 4, 5, 6, 7, 8, 9, 10, 11, 12, 13, 14, 15, 16, 17, 18, 19, 20, 21, 22, 23, 24, 25, 26, 27, 28, 29], \"xaxis\": \"x\", \"y\": [1.1335144753777866, 1.5193917435915012, 1.7967410301201086, 2.387615597072359, 3.0508421518146807, 3.9190660052955386, 4.690820541722968, 5.486692407413754, 7.030201480268612, 8.82694251038872, 10.515155558823722, 12.263661930417117, 13.963933643483795, 16.182727935712656, 17.292125081827084, 19.378274063107476, 22.441174879553834, 25.40760637894677, 28.615211170973268, 30.67724282299031, 32.23281056047684, 33.75220230406835, 35.8021752914537, 39.238894711482104, 43.03737407046086, 46.64291479533274, 49.561111636198966, 51.77990592842782, 53.10635903791247], \"yaxis\": \"y\"}, {\"hovertemplate\": \"Country=Gibraltar<br>Day=%{x}<br>Dead_per_million=%{y}<br>popData2018=%{marker.size}<extra></extra>\", \"legendgroup\": \"Gibraltar\", \"marker\": {\"color\": \"#E15F99\", \"size\": [33718.0, 33718.0, 33718.0, 33718.0, 33718.0, 33718.0, 33718.0, 33718.0], \"sizemode\": \"area\", \"sizeref\": 3481825.0, \"symbol\": \"circle\"}, \"mode\": \"markers\", \"name\": \"Gibraltar\", \"showlegend\": true, \"type\": \"scattergl\", \"x\": [1, 2, 3, 4, 5, 6, 7, 8], \"xaxis\": \"x\", \"y\": [118.63099827985053, 118.63099827985053, 118.63099827985053, 118.63099827985053, 118.63099827985053, 118.63099827985053, 118.63099827985053, 118.63099827985053], \"yaxis\": \"y\"}, {\"hovertemplate\": \"Country=Greece<br>Day=%{x}<br>Dead_per_million=%{y}<br>popData2018=%{marker.size}<extra></extra>\", \"legendgroup\": \"Greece\", \"marker\": {\"color\": \"#1CA71C\", \"size\": [10727668.0, 10727668.0, 10727668.0, 10727668.0, 10727668.0, 10727668.0, 10727668.0, 10727668.0, 10727668.0, 10727668.0, 10727668.0, 10727668.0, 10727668.0, 10727668.0, 10727668.0, 10727668.0, 10727668.0, 10727668.0, 10727668.0, 10727668.0, 10727668.0, 10727668.0, 10727668.0, 10727668.0, 10727668.0, 10727668.0, 10727668.0, 10727668.0, 10727668.0, 10727668.0], \"sizemode\": \"area\", \"sizeref\": 3481825.0, \"symbol\": \"circle\"}, \"mode\": \"markers\", \"name\": \"Greece\", \"showlegend\": true, \"type\": \"scattergl\", \"x\": [1, 2, 3, 4, 5, 6, 7, 8, 9, 10, 11, 12, 13, 14, 15, 16, 17, 18, 19, 20, 21, 22, 23, 24, 25, 26, 27, 28, 29, 30], \"xaxis\": \"x\", \"y\": [1.2118197543026126, 1.3982535626568608, 1.584687371011109, 1.864338083542481, 2.050771891896729, 2.423639508605225, 2.6100733169594736, 2.9829409336679698, 3.542242358730714, 4.008326879616334, 4.567628304679078, 4.660845208856202, 4.9404959213875745, 5.499797346450319, 6.338749484044436, 6.804834004930055, 7.3641354299928, 7.550569238347048, 7.737003046701296, 8.016653759232668, 8.389521375941165, 8.669172088472537, 9.135256609358157, 9.228473513535281, 9.41490732188953, 9.508124226066654, 9.787774938598025, 9.787774938598025, 9.787774938598025, 10.253859459483646], \"yaxis\": \"y\"}, {\"hovertemplate\": \"Country=Guam<br>Day=%{x}<br>Dead_per_million=%{y}<br>popData2018=%{marker.size}<extra></extra>\", \"legendgroup\": \"Guam\", \"marker\": {\"color\": \"#FB0D0D\", \"size\": [165768.0, 165768.0, 165768.0, 165768.0, 165768.0, 165768.0, 165768.0, 165768.0, 165768.0, 165768.0, 165768.0, 165768.0, 165768.0, 165768.0, 165768.0, 165768.0, 165768.0, 165768.0, 165768.0, 165768.0, 165768.0, 165768.0, 165768.0, 165768.0, 165768.0, 165768.0, 165768.0, 165768.0, 165768.0, 165768.0], \"sizemode\": \"area\", \"sizeref\": 3481825.0, \"symbol\": \"circle\"}, \"mode\": \"markers\", \"name\": \"Guam\", \"showlegend\": true, \"type\": \"scattergl\", \"x\": [1, 2, 3, 4, 5, 6, 7, 8, 9, 10, 11, 12, 13, 14, 15, 16, 17, 18, 19, 20, 21, 22, 23, 24, 25, 26, 27, 28, 29, 30], \"xaxis\": \"x\", \"y\": [6.03252738767434, 6.03252738767434, 6.03252738767434, 6.03252738767434, 6.03252738767434, 6.03252738767434, 6.03252738767434, 6.03252738767434, 6.03252738767434, 6.03252738767434, 18.09758216302302, 18.09758216302302, 18.09758216302302, 24.13010955069736, 24.13010955069736, 24.13010955069736, 24.13010955069736, 24.13010955069736, 24.13010955069736, 24.13010955069736, 24.13010955069736, 30.1626369383717, 30.1626369383717, 30.1626369383717, 30.1626369383717, 30.1626369383717, 30.1626369383717, 30.1626369383717, 30.1626369383717, 30.1626369383717], \"yaxis\": \"y\"}, {\"hovertemplate\": \"Country=Guernsey<br>Day=%{x}<br>Dead_per_million=%{y}<br>popData2018=%{marker.size}<extra></extra>\", \"legendgroup\": \"Guernsey\", \"marker\": {\"color\": \"#DA16FF\", \"size\": [63026.0, 63026.0, 63026.0, 63026.0, 63026.0, 63026.0, 63026.0, 63026.0, 63026.0, 63026.0, 63026.0, 63026.0, 63026.0, 63026.0, 63026.0, 63026.0, 63026.0], \"sizemode\": \"area\", \"sizeref\": 3481825.0, \"symbol\": \"circle\"}, \"mode\": \"markers\", \"name\": \"Guernsey\", \"showlegend\": true, \"type\": \"scattergl\", \"x\": [1, 2, 3, 4, 5, 6, 7, 8, 9, 10, 11, 12, 13, 14, 15, 16, 17], \"xaxis\": \"x\", \"y\": [31.732935613873643, 31.732935613873643, 47.59940342081046, 63.465871227747286, 63.465871227747286, 79.3323390346841, 79.3323390346841, 95.19880684162092, 95.19880684162092, 95.19880684162092, 95.19880684162092, 111.06527464855775, 111.06527464855775, 142.79821026243138, 142.79821026243138, 142.79821026243138, 142.79821026243138], \"yaxis\": \"y\"}, {\"hovertemplate\": \"Country=Guyana<br>Day=%{x}<br>Dead_per_million=%{y}<br>popData2018=%{marker.size}<extra></extra>\", \"legendgroup\": \"Guyana\", \"marker\": {\"color\": \"#222A2A\", \"size\": [779004.0, 779004.0, 779004.0, 779004.0, 779004.0, 779004.0, 779004.0, 779004.0, 779004.0, 779004.0, 779004.0, 779004.0, 779004.0, 779004.0, 779004.0, 779004.0, 779004.0, 779004.0, 779004.0, 779004.0, 779004.0, 779004.0, 779004.0, 779004.0, 779004.0, 779004.0, 779004.0, 779004.0, 779004.0, 779004.0, 779004.0, 779004.0, 779004.0, 779004.0, 779004.0, 779004.0, 779004.0], \"sizemode\": \"area\", \"sizeref\": 3481825.0, \"symbol\": \"circle\"}, \"mode\": \"markers\", \"name\": \"Guyana\", \"showlegend\": true, \"type\": \"scattergl\", \"x\": [1, 2, 3, 4, 5, 6, 7, 8, 9, 10, 11, 12, 13, 14, 15, 16, 17, 18, 19, 20, 21, 22, 23, 24, 25, 26, 27, 28, 29, 30, 31, 32, 33, 34, 35, 36, 37], \"xaxis\": \"x\", \"y\": [1.2836904560181976, 1.2836904560181976, 1.2836904560181976, 1.2836904560181976, 1.2836904560181976, 1.2836904560181976, 1.2836904560181976, 1.2836904560181976, 1.2836904560181976, 1.2836904560181976, 1.2836904560181976, 1.2836904560181976, 1.2836904560181976, 1.2836904560181976, 1.2836904560181976, 1.2836904560181976, 1.2836904560181976, 2.5673809120363953, 5.134761824072791, 5.134761824072791, 5.134761824072791, 5.134761824072791, 5.134761824072791, 6.418452280090988, 6.418452280090988, 7.702142736109185, 7.702142736109185, 7.702142736109185, 7.702142736109185, 7.702142736109185, 7.702142736109185, 7.702142736109185, 7.702142736109185, 7.702142736109185, 7.702142736109185, 8.985833192127382, 8.985833192127382], \"yaxis\": \"y\"}, {\"hovertemplate\": \"Country=Honduras<br>Day=%{x}<br>Dead_per_million=%{y}<br>popData2018=%{marker.size}<extra></extra>\", \"legendgroup\": \"Honduras\", \"marker\": {\"color\": \"#B68100\", \"size\": [9587522.0, 9587522.0, 9587522.0, 9587522.0, 9587522.0, 9587522.0, 9587522.0, 9587522.0, 9587522.0, 9587522.0, 9587522.0, 9587522.0, 9587522.0, 9587522.0, 9587522.0, 9587522.0, 9587522.0, 9587522.0, 9587522.0, 9587522.0], \"sizemode\": \"area\", \"sizeref\": 3481825.0, \"symbol\": \"circle\"}, \"mode\": \"markers\", \"name\": \"Honduras\", \"showlegend\": true, \"type\": \"scattergl\", \"x\": [1, 2, 3, 4, 5, 6, 7, 8, 9, 10, 11, 12, 13, 14, 15, 16, 17, 18, 19, 20], \"xaxis\": \"x\", \"y\": [1.043022378462339, 1.4602313298472744, 1.5645335676935084, 1.5645335676935084, 2.2946492326171457, 2.2946492326171457, 2.2946492326171457, 2.2946492326171457, 2.398951470463379, 2.398951470463379, 2.5032537083096136, 2.607555946155847, 2.607555946155847, 2.711858184002081, 3.2333693732332502, 3.6505783246181864, 4.276391751695589, 4.797902940926758, 4.797902940926758, 4.797902940926758], \"yaxis\": \"y\"}, {\"hovertemplate\": \"Country=Hungary<br>Day=%{x}<br>Dead_per_million=%{y}<br>popData2018=%{marker.size}<extra></extra>\", \"legendgroup\": \"Hungary\", \"marker\": {\"color\": \"#750D86\", \"size\": [9768785.0, 9768785.0, 9768785.0, 9768785.0, 9768785.0, 9768785.0, 9768785.0, 9768785.0, 9768785.0, 9768785.0, 9768785.0, 9768785.0, 9768785.0, 9768785.0, 9768785.0, 9768785.0, 9768785.0, 9768785.0, 9768785.0, 9768785.0, 9768785.0, 9768785.0, 9768785.0, 9768785.0, 9768785.0, 9768785.0, 9768785.0], \"sizemode\": \"area\", \"sizeref\": 3481825.0, \"symbol\": \"circle\"}, \"mode\": \"markers\", \"name\": \"Hungary\", \"showlegend\": true, \"type\": \"scattergl\", \"x\": [1, 2, 3, 4, 5, 6, 7, 8, 9, 10, 11, 12, 13, 14, 15, 16, 17, 18, 19, 20, 21, 22, 23, 24, 25, 26, 27], \"xaxis\": \"x\", \"y\": [1.0236687571688803, 1.0236687571688803, 1.0236687571688803, 1.1260356328857684, 1.3307693843195443, 1.5355031357533204, 1.6378700114702085, 2.0473375143377606, 2.1497043900546484, 2.6615387686390886, 3.275740022940417, 3.4804737743741927, 3.8899412772417454, 4.811243158693737, 5.937278791579506, 6.75621379731461, 7.882249430200378, 8.701184435935483, 10.134320695971914, 11.157989453140795, 12.48875883746034, 13.717161346062996, 14.536096351798099, 15.969232611834531, 17.60710262330474, 19.347339510491835, 20.371008267660716], \"yaxis\": \"y\"}, {\"hovertemplate\": \"Country=Iceland<br>Day=%{x}<br>Dead_per_million=%{y}<br>popData2018=%{marker.size}<extra></extra>\", \"legendgroup\": \"Iceland\", \"marker\": {\"color\": \"#EB663B\", \"size\": [353574.0, 353574.0, 353574.0, 353574.0, 353574.0, 353574.0, 353574.0, 353574.0, 353574.0, 353574.0, 353574.0, 353574.0, 353574.0, 353574.0, 353574.0, 353574.0, 353574.0, 353574.0, 353574.0, 353574.0, 353574.0, 353574.0, 353574.0, 353574.0, 353574.0, 353574.0, 353574.0, 353574.0, 353574.0, 353574.0, 353574.0, 353574.0], \"sizemode\": \"area\", \"sizeref\": 3481825.0, \"symbol\": \"circle\"}, \"mode\": \"markers\", \"name\": \"Iceland\", \"showlegend\": true, \"type\": \"scattergl\", \"x\": [1, 2, 3, 4, 5, 6, 7, 8, 9, 10, 11, 12, 13, 14, 15, 16, 17, 18, 19, 20, 21, 22, 23, 24, 25, 26, 27, 28, 29, 30, 31, 32], \"xaxis\": \"x\", \"y\": [2.828262259102762, 2.828262259102762, 2.828262259102762, 2.828262259102762, 5.656524518205524, 5.656524518205524, 5.656524518205524, 5.656524518205524, 5.656524518205524, 5.656524518205524, 5.656524518205524, 5.656524518205524, 5.656524518205524, 5.656524518205524, 11.313049036411048, 11.313049036411048, 11.313049036411048, 11.313049036411048, 16.96957355461657, 16.96957355461657, 16.96957355461657, 16.96957355461657, 19.797835813719335, 22.626098072822096, 22.626098072822096, 22.626098072822096, 22.626098072822096, 22.626098072822096, 22.626098072822096, 22.626098072822096, 25.454360331924857, 25.454360331924857], \"yaxis\": \"y\"}, {\"hovertemplate\": \"Country=Indonesia<br>Day=%{x}<br>Dead_per_million=%{y}<br>popData2018=%{marker.size}<extra></extra>\", \"legendgroup\": \"Indonesia\", \"marker\": {\"color\": \"#511CFB\", \"size\": [267663435.0, 267663435.0, 267663435.0, 267663435.0, 267663435.0, 267663435.0, 267663435.0, 267663435.0, 267663435.0, 267663435.0, 267663435.0], \"sizemode\": \"area\", \"sizeref\": 3481825.0, \"symbol\": \"circle\"}, \"mode\": \"markers\", \"name\": \"Indonesia\", \"showlegend\": true, \"type\": \"scattergl\", \"x\": [1, 2, 3, 4, 5, 6, 7, 8, 9, 10, 11], \"xaxis\": \"x\", \"y\": [1.0460898403997543, 1.14322675415116, 1.2216834921811415, 1.3935411088182441, 1.4906780225696499, 1.71484013122674, 1.7522004826695885, 1.853073431565279, 1.9427382750281152, 1.9987788021923876, 2.174372453973775], \"yaxis\": \"y\"}, {\"hovertemplate\": \"Country=Iran<br>Day=%{x}<br>Dead_per_million=%{y}<br>popData2018=%{marker.size}<extra></extra>\", \"legendgroup\": \"Iran\", \"marker\": {\"color\": \"#00A08B\", \"size\": [81800269.0, 81800269.0, 81800269.0, 81800269.0, 81800269.0, 81800269.0, 81800269.0, 81800269.0, 81800269.0, 81800269.0, 81800269.0, 81800269.0, 81800269.0, 81800269.0, 81800269.0, 81800269.0, 81800269.0, 81800269.0, 81800269.0, 81800269.0, 81800269.0, 81800269.0, 81800269.0, 81800269.0, 81800269.0, 81800269.0, 81800269.0, 81800269.0, 81800269.0, 81800269.0, 81800269.0, 81800269.0, 81800269.0, 81800269.0, 81800269.0, 81800269.0, 81800269.0, 81800269.0, 81800269.0, 81800269.0, 81800269.0, 81800269.0, 81800269.0, 81800269.0, 81800269.0, 81800269.0, 81800269.0], \"sizemode\": \"area\", \"sizeref\": 3481825.0, \"symbol\": \"circle\"}, \"mode\": \"markers\", \"name\": \"Iran\", \"showlegend\": true, \"type\": \"scattergl\", \"x\": [1, 2, 3, 4, 5, 6, 7, 8, 9, 10, 11, 12, 13, 14, 15, 16, 17, 18, 19, 20, 21, 22, 23, 24, 25, 26, 27, 28, 29, 30, 31, 32, 33, 34, 35, 36, 37, 38, 39, 40, 41, 42, 43, 44, 45, 46, 47], \"xaxis\": \"x\", \"y\": [1.1246906779731982, 1.308064158077524, 1.5158874355290934, 1.7726103076751496, 2.3716303426826135, 2.8973009856483483, 3.5574455140239207, 4.32761413046209, 5.244481530983719, 6.283597918241565, 7.469413089582872, 8.850826639702126, 10.427838568599329, 12.078199889538261, 13.875259994560654, 15.69676989693029, 17.51827979929993, 19.021942336155398, 20.598954265052598, 22.151516396602556, 23.64295403478441, 25.391114545112316, 27.310423636870926, 29.07080904587245, 30.77006996150587, 32.27373249836135, 33.704045643175085, 35.427756356155754, 37.11479237311554, 38.63067980864464, 38.63067980864464, 42.200350221342184, 44.04630992105906, 45.70889614067161, 47.33480766426331, 48.81402040377153, 50.244333548585274, 51.735771186767124, 53.26388352096984, 54.69419666578358, 56.05116041855559, 57.24920048857052, 58.398340963890966, 59.523031641864165, 60.61104762381649, 61.50346522699088, 62.56703141159596], \"yaxis\": \"y\"}, {\"hovertemplate\": \"Country=Iraq<br>Day=%{x}<br>Dead_per_million=%{y}<br>popData2018=%{marker.size}<extra></extra>\", \"legendgroup\": \"Iraq\", \"marker\": {\"color\": \"#FB00D1\", \"size\": [38433600.0, 38433600.0, 38433600.0, 38433600.0, 38433600.0, 38433600.0, 38433600.0, 38433600.0, 38433600.0, 38433600.0, 38433600.0, 38433600.0, 38433600.0, 38433600.0, 38433600.0, 38433600.0, 38433600.0, 38433600.0, 38433600.0, 38433600.0, 38433600.0, 38433600.0, 38433600.0, 38433600.0], \"sizemode\": \"area\", \"sizeref\": 3481825.0, \"symbol\": \"circle\"}, \"mode\": \"markers\", \"name\": \"Iraq\", \"showlegend\": true, \"type\": \"scattergl\", \"x\": [1, 2, 3, 4, 5, 6, 7, 8, 9, 10, 11, 12, 13, 14, 15, 16, 17, 18, 19, 20, 21, 22, 23, 24], \"xaxis\": \"x\", \"y\": [1.0407560051621498, 1.0927938054202573, 1.0927938054202573, 1.1968694059364722, 1.3009450064526873, 1.3009450064526873, 1.4050206069689022, 1.4050206069689022, 1.4570584072270096, 1.5871529078722784, 1.6652096082594396, 1.6652096082594396, 1.7953041089047084, 1.7953041089047084, 1.821323009033762, 1.8733608092918694, 1.9774364098080843, 2.0294742100661924, 2.0294742100661924, 2.055493110195246, 2.0815120103242997, 2.1075309104533533, 2.1075309104533533, 2.1335498105824073], \"yaxis\": \"y\"}, {\"hovertemplate\": \"Country=Ireland<br>Day=%{x}<br>Dead_per_million=%{y}<br>popData2018=%{marker.size}<extra></extra>\", \"legendgroup\": \"Ireland\", \"marker\": {\"color\": \"#FC0080\", \"size\": [4853506.0, 4853506.0, 4853506.0, 4853506.0, 4853506.0, 4853506.0, 4853506.0, 4853506.0, 4853506.0, 4853506.0, 4853506.0, 4853506.0, 4853506.0, 4853506.0, 4853506.0, 4853506.0, 4853506.0, 4853506.0, 4853506.0, 4853506.0, 4853506.0, 4853506.0, 4853506.0, 4853506.0, 4853506.0, 4853506.0, 4853506.0, 4853506.0], \"sizemode\": \"area\", \"sizeref\": 3481825.0, \"symbol\": \"circle\"}, \"mode\": \"markers\", \"name\": \"Ireland\", \"showlegend\": true, \"type\": \"scattergl\", \"x\": [1, 2, 3, 4, 5, 6, 7, 8, 9, 10, 11, 12, 13, 14, 15, 16, 17, 18, 19, 20, 21, 22, 23, 24, 25, 26, 27, 28], \"xaxis\": \"x\", \"y\": [1.2362197553685932, 1.4422563812633589, 1.85432963305289, 3.9146958920005455, 4.532805769684843, 7.41731853221156, 9.477684791159215, 11.12597779831734, 14.628600438528355, 17.513113201055074, 20.191589337687024, 24.72439510737187, 28.22701774758288, 32.55378689137296, 35.850372905689206, 43.267691437900766, 48.41860708526991, 54.18763261032334, 59.13251163179771, 65.93172028632497, 68.8162330488517, 75.20336845158944, 83.65087011327482, 91.48026189727591, 100.13380018485607, 109.19941172422574, 117.64691338591113, 125.68234179580699], \"yaxis\": \"y\"}, {\"hovertemplate\": \"Country=Isle_of_Man<br>Day=%{x}<br>Dead_per_million=%{y}<br>popData2018=%{marker.size}<extra></extra>\", \"legendgroup\": \"Isle_of_Man\", \"marker\": {\"color\": \"#B2828D\", \"size\": [84077.0, 84077.0, 84077.0, 84077.0, 84077.0, 84077.0, 84077.0, 84077.0, 84077.0, 84077.0, 84077.0, 84077.0, 84077.0, 84077.0, 84077.0, 84077.0, 84077.0, 84077.0], \"sizemode\": \"area\", \"sizeref\": 3481825.0, \"symbol\": \"circle\"}, \"mode\": \"markers\", \"name\": \"Isle_of_Man\", \"showlegend\": true, \"type\": \"scattergl\", \"x\": [1, 2, 3, 4, 5, 6, 7, 8, 9, 10, 11, 12, 13, 14, 15, 16, 17, 18], \"xaxis\": \"x\", \"y\": [11.893859200494784, 11.893859200494784, 11.893859200494784, 11.893859200494784, 11.893859200494784, 11.893859200494784, 11.893859200494784, 11.893859200494784, 11.893859200494784, 11.893859200494784, 23.78771840098957, 23.78771840098957, 23.78771840098957, 23.78771840098957, 47.57543680197914, 47.57543680197914, 71.36315520296871, 71.36315520296871], \"yaxis\": \"y\"}, {\"hovertemplate\": \"Country=Israel<br>Day=%{x}<br>Dead_per_million=%{y}<br>popData2018=%{marker.size}<extra></extra>\", \"legendgroup\": \"Israel\", \"marker\": {\"color\": \"#6C7C32\", \"size\": [8883800.0, 8883800.0, 8883800.0, 8883800.0, 8883800.0, 8883800.0, 8883800.0, 8883800.0, 8883800.0, 8883800.0, 8883800.0, 8883800.0, 8883800.0, 8883800.0, 8883800.0, 8883800.0, 8883800.0, 8883800.0, 8883800.0, 8883800.0, 8883800.0, 8883800.0, 8883800.0, 8883800.0], \"sizemode\": \"area\", \"sizeref\": 3481825.0, \"symbol\": \"circle\"}, \"mode\": \"markers\", \"name\": \"Israel\", \"showlegend\": true, \"type\": \"scattergl\", \"x\": [1, 2, 3, 4, 5, 6, 7, 8, 9, 10, 11, 12, 13, 14, 15, 16, 17, 18, 19, 20, 21, 22, 23, 24], \"xaxis\": \"x\", \"y\": [1.1256444314369976, 1.350773317724397, 1.6884666471554965, 1.9135955334428962, 2.251288862873995, 2.363853306017695, 3.8271910668857925, 4.390013282604291, 5.177964384610189, 5.515657714041288, 6.416173259190887, 7.316688804340485, 7.992075463202684, 9.680542110358179, 10.693622098651478, 11.369008757513676, 11.594137643801075, 13.057475404669173, 13.845426506675071, 14.63337760868097, 15.984150926405368, 16.997230914698665, 18.460568675566762, 19.361084220716357], \"yaxis\": \"y\"}, {\"hovertemplate\": \"Country=Italy<br>Day=%{x}<br>Dead_per_million=%{y}<br>popData2018=%{marker.size}<extra></extra>\", \"legendgroup\": \"Italy\", \"marker\": {\"color\": \"#778AAE\", \"size\": [60431283.0, 60431283.0, 60431283.0, 60431283.0, 60431283.0, 60431283.0, 60431283.0, 60431283.0, 60431283.0, 60431283.0, 60431283.0, 60431283.0, 60431283.0, 60431283.0, 60431283.0, 60431283.0, 60431283.0, 60431283.0, 60431283.0, 60431283.0, 60431283.0, 60431283.0, 60431283.0, 60431283.0, 60431283.0, 60431283.0, 60431283.0, 60431283.0, 60431283.0, 60431283.0, 60431283.0, 60431283.0, 60431283.0, 60431283.0, 60431283.0, 60431283.0, 60431283.0, 60431283.0, 60431283.0, 60431283.0, 60431283.0, 60431283.0, 60431283.0, 60431283.0, 60431283.0, 60431283.0, 60431283.0, 60431283.0], \"sizemode\": \"area\", \"sizeref\": 3481825.0, \"symbol\": \"circle\"}, \"mode\": \"markers\", \"name\": \"Italy\", \"showlegend\": true, \"type\": \"scattergl\", \"x\": [1, 2, 3, 4, 5, 6, 7, 8, 9, 10, 11, 12, 13, 14, 15, 16, 17, 18, 19, 20, 21, 22, 23, 24, 25, 26, 27, 28, 29, 30, 31, 32, 33, 34, 35, 36, 37, 38, 39, 40, 41, 42, 43, 44, 45, 46, 47, 48], \"xaxis\": \"x\", \"y\": [1.3238176657609602, 1.7706061279552843, 2.4490626816577765, 3.2599010019363646, 3.8556189515287964, 6.056465820856393, 7.67814246141357, 10.441611838689575, 13.684965119803927, 16.812484355164194, 20.98251000231122, 23.845265704519296, 29.96792240866374, 35.7099815339019, 41.45204065914007, 49.279112607951745, 56.3780848405949, 66.7204103543524, 79.87584840785193, 90.61531922133773, 100.56049943536695, 112.85545600612187, 124.19064476920009, 135.11214051172803, 151.17997742990167, 165.85780579902632, 178.4009781821114, 191.8046320479411, 205.6881698176092, 217.71836285521192, 230.29463067994106, 242.93708938795822, 254.20608726774842, 262.9267361409487, 273.45108658374835, 283.4459099602436, 292.3816792041301, 302.50888434720144, 311.9410852157483, 322.1841244045737, 329.31619207886087, 338.64910662247564, 348.64392999897086, 358.20851263409384, 366.89606606565013, 376.41100553830705, 384.3539115328728, 391.519074648804], \"yaxis\": \"y\"}, {\"hovertemplate\": \"Country=Jamaica<br>Day=%{x}<br>Dead_per_million=%{y}<br>popData2018=%{marker.size}<extra></extra>\", \"legendgroup\": \"Jamaica\", \"marker\": {\"color\": \"#862A16\", \"size\": [2934855.0, 2934855.0, 2934855.0, 2934855.0, 2934855.0, 2934855.0, 2934855.0, 2934855.0, 2934855.0, 2934855.0, 2934855.0, 2934855.0, 2934855.0, 2934855.0, 2934855.0, 2934855.0, 2934855.0, 2934855.0, 2934855.0], \"sizemode\": \"area\", \"sizeref\": 3481825.0, \"symbol\": \"circle\"}, \"mode\": \"markers\", \"name\": \"Jamaica\", \"showlegend\": true, \"type\": \"scattergl\", \"x\": [1, 2, 3, 4, 5, 6, 7, 8, 9, 10, 11, 12, 13, 14, 15, 16, 17, 18, 19], \"xaxis\": \"x\", \"y\": [1.0221970080293574, 1.0221970080293574, 1.0221970080293574, 1.0221970080293574, 1.0221970080293574, 1.0221970080293574, 1.0221970080293574, 1.3629293440391435, 1.3629293440391435, 1.3629293440391435, 1.3629293440391435, 1.3629293440391435, 1.3629293440391435, 1.703661680048929, 1.703661680048929, 1.703661680048929, 1.703661680048929, 1.703661680048929, 1.703661680048929], \"yaxis\": \"y\"}, {\"hovertemplate\": \"Country=Japan<br>Day=%{x}<br>Dead_per_million=%{y}<br>popData2018=%{marker.size}<extra></extra>\", \"legendgroup\": \"Japan\", \"marker\": {\"color\": \"#A777F1\", \"size\": [126529100.0, 126529100.0, 126529100.0, 126529100.0, 126529100.0], \"sizemode\": \"area\", \"sizeref\": 3481825.0, \"symbol\": \"circle\"}, \"mode\": \"markers\", \"name\": \"Japan\", \"showlegend\": true, \"type\": \"scattergl\", \"x\": [1, 2, 3, 4, 5], \"xaxis\": \"x\", \"y\": [1.0748515558871439, 1.1696913990536564, 1.2171113206369129, 1.2724345624840452, 1.3514677651228058], \"yaxis\": \"y\"}, {\"hovertemplate\": \"Country=Jersey<br>Day=%{x}<br>Dead_per_million=%{y}<br>popData2018=%{marker.size}<extra></extra>\", \"legendgroup\": \"Jersey\", \"marker\": {\"color\": \"#620042\", \"size\": [106800.0, 106800.0, 106800.0, 106800.0, 106800.0, 106800.0, 106800.0, 106800.0, 106800.0, 106800.0, 106800.0, 106800.0, 106800.0, 106800.0, 106800.0, 106800.0, 106800.0, 106800.0, 106800.0, 106800.0, 106800.0, 106800.0, 106800.0, 106800.0, 106800.0], \"sizemode\": \"area\", \"sizeref\": 3481825.0, \"symbol\": \"circle\"}, \"mode\": \"markers\", \"name\": \"Jersey\", \"showlegend\": true, \"type\": \"scattergl\", \"x\": [1, 2, 3, 4, 5, 6, 7, 8, 9, 10, 11, 12, 13, 14, 15, 16, 17, 18, 19, 20, 21, 22, 23, 24, 25], \"xaxis\": \"x\", \"y\": [9.363295880149813, 9.363295880149813, 9.363295880149813, 18.726591760299627, 18.726591760299627, 18.726591760299627, 18.726591760299627, 18.726591760299627, 18.726591760299627, 28.08988764044944, 28.08988764044944, 28.08988764044944, 28.08988764044944, 28.08988764044944, 28.08988764044944, 37.453183520599254, 37.453183520599254, 37.453183520599254, 37.453183520599254, 37.453183520599254, 56.17977528089888, 93.63295880149813, 102.99625468164794, 112.35955056179776, 112.35955056179776], \"yaxis\": \"y\"}, {\"hovertemplate\": \"Country=Kazakhstan<br>Day=%{x}<br>Dead_per_million=%{y}<br>popData2018=%{marker.size}<extra></extra>\", \"legendgroup\": \"Kazakhstan\", \"marker\": {\"color\": \"#1616A7\", \"size\": [18276499.0], \"sizemode\": \"area\", \"sizeref\": 3481825.0, \"symbol\": \"circle\"}, \"mode\": \"markers\", \"name\": \"Kazakhstan\", \"showlegend\": true, \"type\": \"scattergl\", \"x\": [1], \"xaxis\": \"x\", \"y\": [1.0395864109422708], \"yaxis\": \"y\"}, {\"hovertemplate\": \"Country=Kosovo<br>Day=%{x}<br>Dead_per_million=%{y}<br>popData2018=%{marker.size}<extra></extra>\", \"legendgroup\": \"Kosovo\", \"marker\": {\"color\": \"#DA60CA\", \"size\": [1845300.0, 1845300.0, 1845300.0, 1845300.0, 1845300.0, 1845300.0, 1845300.0, 1845300.0, 1845300.0, 1845300.0, 1845300.0, 1845300.0, 1845300.0, 1845300.0], \"sizemode\": \"area\", \"sizeref\": 3481825.0, \"symbol\": \"circle\"}, \"mode\": \"markers\", \"name\": \"Kosovo\", \"showlegend\": true, \"type\": \"scattergl\", \"x\": [1, 2, 3, 4, 5, 6, 7, 8, 9, 10, 11, 12, 13, 14], \"xaxis\": \"x\", \"y\": [1.6257519102584945, 2.709586517097491, 2.709586517097491, 3.7934211239364872, 3.7934211239364872, 3.7934211239364872, 3.7934211239364872, 4.335338427355985, 4.335338427355985, 4.8772557307754845, 5.961090337614481, 6.503007641033978, 6.503007641033978, 6.503007641033978], \"yaxis\": \"y\"}, {\"hovertemplate\": \"Country=Kuwait<br>Day=%{x}<br>Dead_per_million=%{y}<br>popData2018=%{marker.size}<extra></extra>\", \"legendgroup\": \"Kuwait\", \"marker\": {\"color\": \"#6C4516\", \"size\": [4137309.0, 4137309.0, 4137309.0], \"sizemode\": \"area\", \"sizeref\": 3481825.0, \"symbol\": \"circle\"}, \"mode\": \"markers\", \"name\": \"Kuwait\", \"showlegend\": true, \"type\": \"scattergl\", \"x\": [1, 2, 3], \"xaxis\": \"x\", \"y\": [1.2085150033512122, 1.4502180040214545, 1.6919210046916968], \"yaxis\": \"y\"}, {\"hovertemplate\": \"Country=Kyrgyzstan<br>Day=%{x}<br>Dead_per_million=%{y}<br>popData2018=%{marker.size}<extra></extra>\", \"legendgroup\": \"Kyrgyzstan\", \"marker\": {\"color\": \"#0D2A63\", \"size\": [6315800.0], \"sizemode\": \"area\", \"sizeref\": 3481825.0, \"symbol\": \"circle\"}, \"mode\": \"markers\", \"name\": \"Kyrgyzstan\", \"showlegend\": true, \"type\": \"scattergl\", \"x\": [1], \"xaxis\": \"x\", \"y\": [1.10833148611419], \"yaxis\": \"y\"}, {\"hovertemplate\": \"Country=Latvia<br>Day=%{x}<br>Dead_per_million=%{y}<br>popData2018=%{marker.size}<extra></extra>\", \"legendgroup\": \"Latvia\", \"marker\": {\"color\": \"#AF0038\", \"size\": [1926542.0, 1926542.0, 1926542.0, 1926542.0, 1926542.0, 1926542.0, 1926542.0, 1926542.0, 1926542.0, 1926542.0, 1926542.0, 1926542.0, 1926542.0], \"sizemode\": \"area\", \"sizeref\": 3481825.0, \"symbol\": \"circle\"}, \"mode\": \"markers\", \"name\": \"Latvia\", \"showlegend\": true, \"type\": \"scattergl\", \"x\": [1, 2, 3, 4, 5, 6, 7, 8, 9, 10, 11, 12, 13], \"xaxis\": \"x\", \"y\": [1.0381294568195243, 1.0381294568195243, 1.0381294568195243, 1.0381294568195243, 1.5571941852292863, 2.5953236420488106, 2.5953236420488106, 2.5953236420488106, 2.5953236420488106, 2.5953236420488106, 2.5953236420488106, 2.5953236420488106, 2.5953236420488106], \"yaxis\": \"y\"}, {\"hovertemplate\": \"Country=Lebanon<br>Day=%{x}<br>Dead_per_million=%{y}<br>popData2018=%{marker.size}<extra></extra>\", \"legendgroup\": \"Lebanon\", \"marker\": {\"color\": \"#2E91E5\", \"size\": [6848925.0, 6848925.0, 6848925.0, 6848925.0, 6848925.0, 6848925.0, 6848925.0, 6848925.0, 6848925.0, 6848925.0, 6848925.0, 6848925.0, 6848925.0, 6848925.0, 6848925.0, 6848925.0, 6848925.0, 6848925.0, 6848925.0, 6848925.0, 6848925.0, 6848925.0, 6848925.0, 6848925.0], \"sizemode\": \"area\", \"sizeref\": 3481825.0, \"symbol\": \"circle\"}, \"mode\": \"markers\", \"name\": \"Lebanon\", \"showlegend\": true, \"type\": \"scattergl\", \"x\": [1, 2, 3, 4, 5, 6, 7, 8, 9, 10, 11, 12, 13, 14, 15, 16, 17, 18, 19, 20, 21, 22, 23, 24], \"xaxis\": \"x\", \"y\": [1.022058206214844, 1.1680665213883932, 1.4600831517354913, 1.6060914669090405, 1.7520997820825894, 1.7520997820825894, 2.3361330427767864, 2.3361330427767864, 2.482141357950335, 2.6281496731238843, 2.7741579882974334, 2.7741579882974334, 2.7741579882974334, 2.7741579882974334, 2.9201663034709826, 2.9201663034709826, 2.9201663034709826, 2.9201663034709826, 3.066174618644532, 3.066174618644532, 3.066174618644532, 3.066174618644532, 3.066174618644532, 3.066174618644532], \"yaxis\": \"y\"}, {\"hovertemplate\": \"Country=Liberia<br>Day=%{x}<br>Dead_per_million=%{y}<br>popData2018=%{marker.size}<extra></extra>\", \"legendgroup\": \"Liberia\", \"marker\": {\"color\": \"#E15F99\", \"size\": [4818977.0, 4818977.0, 4818977.0, 4818977.0, 4818977.0, 4818977.0, 4818977.0, 4818977.0, 4818977.0], \"sizemode\": \"area\", \"sizeref\": 3481825.0, \"symbol\": \"circle\"}, \"mode\": \"markers\", \"name\": \"Liberia\", \"showlegend\": true, \"type\": \"scattergl\", \"x\": [1, 2, 3, 4, 5, 6, 7, 8, 9], \"xaxis\": \"x\", \"y\": [1.0375646117422848, 1.0375646117422848, 1.2450775340907418, 1.2450775340907418, 1.2450775340907418, 1.2450775340907418, 1.4525904564391987, 1.4525904564391987, 1.6601033787876556], \"yaxis\": \"y\"}, {\"hovertemplate\": \"Country=Liechtenstein<br>Day=%{x}<br>Dead_per_million=%{y}<br>popData2018=%{marker.size}<extra></extra>\", \"legendgroup\": \"Liechtenstein\", \"marker\": {\"color\": \"#1CA71C\", \"size\": [37910.0, 37910.0, 37910.0, 37910.0, 37910.0, 37910.0, 37910.0, 37910.0, 37910.0, 37910.0, 37910.0, 37910.0, 37910.0, 37910.0, 37910.0, 37910.0], \"sizemode\": \"area\", \"sizeref\": 3481825.0, \"symbol\": \"circle\"}, \"mode\": \"markers\", \"name\": \"Liechtenstein\", \"showlegend\": true, \"type\": \"scattergl\", \"x\": [1, 2, 3, 4, 5, 6, 7, 8, 9, 10, 11, 12, 13, 14, 15, 16], \"xaxis\": \"x\", \"y\": [26.378264310208387, 26.378264310208387, 26.378264310208387, 26.378264310208387, 26.378264310208387, 26.378264310208387, 26.378264310208387, 26.378264310208387, 26.378264310208387, 26.378264310208387, 26.378264310208387, 26.378264310208387, 26.378264310208387, 26.378264310208387, 26.378264310208387, 26.378264310208387], \"yaxis\": \"y\"}, {\"hovertemplate\": \"Country=Lithuania<br>Day=%{x}<br>Dead_per_million=%{y}<br>popData2018=%{marker.size}<extra></extra>\", \"legendgroup\": \"Lithuania\", \"marker\": {\"color\": \"#FB0D0D\", \"size\": [2789533.0, 2789533.0, 2789533.0, 2789533.0, 2789533.0, 2789533.0, 2789533.0, 2789533.0, 2789533.0, 2789533.0, 2789533.0, 2789533.0, 2789533.0, 2789533.0, 2789533.0, 2789533.0, 2789533.0, 2789533.0, 2789533.0, 2789533.0, 2789533.0, 2789533.0, 2789533.0, 2789533.0, 2789533.0, 2789533.0], \"sizemode\": \"area\", \"sizeref\": 3481825.0, \"symbol\": \"circle\"}, \"mode\": \"markers\", \"name\": \"Lithuania\", \"showlegend\": true, \"type\": \"scattergl\", \"x\": [1, 2, 3, 4, 5, 6, 7, 8, 9, 10, 11, 12, 13, 14, 15, 16, 17, 18, 19, 20, 21, 22, 23, 24, 25, 26], \"xaxis\": \"x\", \"y\": [1.433931772809284, 1.433931772809284, 1.7924147160116048, 2.5093806024162464, 2.5093806024162464, 2.5093806024162464, 2.5093806024162464, 2.867863545618568, 3.226346488820889, 3.226346488820889, 3.226346488820889, 4.660278261630173, 5.018761204832493, 5.377244148034815, 5.377244148034815, 5.377244148034815, 6.094210034439457, 8.245107693653383, 8.603590636855703, 8.603590636855703, 8.603590636855703, 10.396005352867308, 11.471454182474272, 11.829937125676592, 11.829937125676592, 12.905385955283556], \"yaxis\": \"y\"}, {\"hovertemplate\": \"Country=Luxembourg<br>Day=%{x}<br>Dead_per_million=%{y}<br>popData2018=%{marker.size}<extra></extra>\", \"legendgroup\": \"Luxembourg\", \"marker\": {\"color\": \"#DA16FF\", \"size\": [607728.0, 607728.0, 607728.0, 607728.0, 607728.0, 607728.0, 607728.0, 607728.0, 607728.0, 607728.0, 607728.0, 607728.0, 607728.0, 607728.0, 607728.0, 607728.0, 607728.0, 607728.0, 607728.0, 607728.0, 607728.0, 607728.0, 607728.0, 607728.0, 607728.0, 607728.0, 607728.0, 607728.0, 607728.0, 607728.0, 607728.0, 607728.0, 607728.0, 607728.0, 607728.0, 607728.0, 607728.0], \"sizemode\": \"area\", \"sizeref\": 3481825.0, \"symbol\": \"circle\"}, \"mode\": \"markers\", \"name\": \"Luxembourg\", \"showlegend\": true, \"type\": \"scattergl\", \"x\": [1, 2, 3, 4, 5, 6, 7, 8, 9, 10, 11, 12, 13, 14, 15, 16, 17, 18, 19, 20, 21, 22, 23, 24, 25, 26, 27, 28, 29, 30, 31, 32, 33, 34, 35, 36, 37], \"xaxis\": \"x\", \"y\": [1.6454729747518626, 1.6454729747518626, 1.6454729747518626, 1.6454729747518626, 3.290945949503725, 6.58189189900745, 8.227364873759313, 13.1637837980149, 13.1637837980149, 13.1637837980149, 13.1637837980149, 13.1637837980149, 14.809256772766764, 24.68209462127794, 29.618513545533528, 34.554932469789115, 36.200405444540976, 37.845878419292845, 47.71871626780402, 49.36418924255588, 51.00966221730774, 51.00966221730774, 59.237027091067056, 67.46439196482638, 72.40081088908195, 75.69175683858569, 85.56459468709686, 88.85554063660058, 102.01932443461548, 108.60121633362293, 110.2466893083748, 110.2466893083748, 113.53763525787852, 113.53763525787852, 118.47405418213411, 118.47405418213411, 120.11952715688598], \"yaxis\": \"y\"}, {\"hovertemplate\": \"Country=Malaysia<br>Day=%{x}<br>Dead_per_million=%{y}<br>popData2018=%{marker.size}<extra></extra>\", \"legendgroup\": \"Malaysia\", \"marker\": {\"color\": \"#222A2A\", \"size\": [31528585.0, 31528585.0, 31528585.0, 31528585.0, 31528585.0, 31528585.0, 31528585.0, 31528585.0, 31528585.0, 31528585.0, 31528585.0, 31528585.0, 31528585.0, 31528585.0, 31528585.0, 31528585.0, 31528585.0, 31528585.0, 31528585.0, 31528585.0, 31528585.0, 31528585.0], \"sizemode\": \"area\", \"sizeref\": 3481825.0, \"symbol\": \"circle\"}, \"mode\": \"markers\", \"name\": \"Malaysia\", \"showlegend\": true, \"type\": \"scattergl\", \"x\": [1, 2, 3, 4, 5, 6, 7, 8, 9, 10, 11, 12, 13, 14, 15, 16, 17, 18, 19, 20, 21, 22], \"xaxis\": \"x\", \"y\": [1.078386486421766, 1.1735382352236867, 1.3638417328275279, 1.4272762320288082, 1.5858624800320091, 1.6810142288339296, 1.8078832272364902, 1.934752225639051, 1.9664694752396914, 1.9981867248403316, 2.0616212240416116, 2.125055723242892, 2.220207472044813, 2.3153592208467333, 2.4105109696486537, 2.442228219249294, 2.6008144672524947, 2.6325317168531353, 2.6642489664537754, 2.7276834656550557, 2.791117964856336, 2.8228352144569757], \"yaxis\": \"y\"}, {\"hovertemplate\": \"Country=Malta<br>Day=%{x}<br>Dead_per_million=%{y}<br>popData2018=%{marker.size}<extra></extra>\", \"legendgroup\": \"Malta\", \"marker\": {\"color\": \"#B68100\", \"size\": [483530.0, 483530.0, 483530.0, 483530.0, 483530.0, 483530.0, 483530.0, 483530.0, 483530.0, 483530.0, 483530.0, 483530.0], \"sizemode\": \"area\", \"sizeref\": 3481825.0, \"symbol\": \"circle\"}, \"mode\": \"markers\", \"name\": \"Malta\", \"showlegend\": true, \"type\": \"scattergl\", \"x\": [1, 2, 3, 4, 5, 6, 7, 8, 9, 10, 11, 12], \"xaxis\": \"x\", \"y\": [2.068124004715323, 4.136248009430646, 4.136248009430646, 6.204372014145968, 6.204372014145968, 6.204372014145968, 6.204372014145968, 6.204372014145968, 6.204372014145968, 6.204372014145968, 6.204372014145968, 6.204372014145968], \"yaxis\": \"y\"}, {\"hovertemplate\": \"Country=Mauritius<br>Day=%{x}<br>Dead_per_million=%{y}<br>popData2018=%{marker.size}<extra></extra>\", \"legendgroup\": \"Mauritius\", \"marker\": {\"color\": \"#750D86\", \"size\": [1265303.0, 1265303.0, 1265303.0, 1265303.0, 1265303.0, 1265303.0, 1265303.0, 1265303.0, 1265303.0, 1265303.0, 1265303.0, 1265303.0, 1265303.0, 1265303.0, 1265303.0, 1265303.0, 1265303.0, 1265303.0, 1265303.0, 1265303.0, 1265303.0, 1265303.0, 1265303.0, 1265303.0, 1265303.0, 1265303.0, 1265303.0, 1265303.0, 1265303.0], \"sizemode\": \"area\", \"sizeref\": 3481825.0, \"symbol\": \"circle\"}, \"mode\": \"markers\", \"name\": \"Mauritius\", \"showlegend\": true, \"type\": \"scattergl\", \"x\": [1, 2, 3, 4, 5, 6, 7, 8, 9, 10, 11, 12, 13, 14, 15, 16, 17, 18, 19, 20, 21, 22, 23, 24, 25, 26, 27, 28, 29], \"xaxis\": \"x\", \"y\": [1.5806490619242979, 1.5806490619242979, 1.5806490619242979, 1.5806490619242979, 1.5806490619242979, 1.5806490619242979, 1.5806490619242979, 2.370973592886447, 2.370973592886447, 2.370973592886447, 3.951622654810745, 5.5322717167350435, 5.5322717167350435, 5.5322717167350435, 5.5322717167350435, 5.5322717167350435, 5.5322717167350435, 5.5322717167350435, 5.5322717167350435, 7.1129207786593405, 7.1129207786593405, 7.1129207786593405, 7.1129207786593405, 7.1129207786593405, 7.1129207786593405, 7.1129207786593405, 7.1129207786593405, 7.1129207786593405, 7.1129207786593405], \"yaxis\": \"y\"}, {\"hovertemplate\": \"Country=Mexico<br>Day=%{x}<br>Dead_per_million=%{y}<br>popData2018=%{marker.size}<extra></extra>\", \"legendgroup\": \"Mexico\", \"marker\": {\"color\": \"#EB663B\", \"size\": [126190788.0, 126190788.0, 126190788.0, 126190788.0, 126190788.0, 126190788.0, 126190788.0, 126190788.0, 126190788.0, 126190788.0, 126190788.0, 126190788.0, 126190788.0], \"sizemode\": \"area\", \"sizeref\": 3481825.0, \"symbol\": \"circle\"}, \"mode\": \"markers\", \"name\": \"Mexico\", \"showlegend\": true, \"type\": \"scattergl\", \"x\": [1, 2, 3, 4, 5, 6, 7, 8, 9, 10, 11, 12, 13], \"xaxis\": \"x\", \"y\": [1.1173557296432763, 1.3788645174321281, 1.5373546918496142, 1.8464105319637119, 2.1633908807986844, 2.345654581378793, 2.630936895330268, 3.217350540674966, 3.558104415672561, 3.8513112383449104, 4.326781761597369, 5.150930668568296, 5.436212982519771], \"yaxis\": \"y\"}, {\"hovertemplate\": \"Country=Moldova<br>Day=%{x}<br>Dead_per_million=%{y}<br>popData2018=%{marker.size}<extra></extra>\", \"legendgroup\": \"Moldova\", \"marker\": {\"color\": \"#511CFB\", \"size\": [3545883.0, 3545883.0, 3545883.0, 3545883.0, 3545883.0, 3545883.0, 3545883.0, 3545883.0, 3545883.0, 3545883.0, 3545883.0, 3545883.0, 3545883.0, 3545883.0, 3545883.0, 3545883.0, 3545883.0, 3545883.0, 3545883.0, 3545883.0], \"sizemode\": \"area\", \"sizeref\": 3481825.0, \"symbol\": \"circle\"}, \"mode\": \"markers\", \"name\": \"Moldova\", \"showlegend\": true, \"type\": \"scattergl\", \"x\": [1, 2, 3, 4, 5, 6, 7, 8, 9, 10, 11, 12, 13, 14, 15, 16, 17, 18, 19, 20], \"xaxis\": \"x\", \"y\": [1.1280688054287185, 1.4100860067858978, 1.6921032081430776, 2.256137610857437, 3.384206416286155, 4.230258020357694, 5.358326825786412, 6.204378429857951, 7.614464436643849, 8.178498839358207, 8.178498839358207, 8.460516040715389, 9.024550443429748, 10.152619248858464, 11.280688054287182, 12.972791262430261, 15.228928873287698, 15.792963276002055, 16.921032081430777, 18.895152490931032], \"yaxis\": \"y\"}, {\"hovertemplate\": \"Country=Monaco<br>Day=%{x}<br>Dead_per_million=%{y}<br>popData2018=%{marker.size}<extra></extra>\", \"legendgroup\": \"Monaco\", \"marker\": {\"color\": \"#00A08B\", \"size\": [38682.0, 38682.0, 38682.0, 38682.0, 38682.0, 38682.0, 38682.0, 38682.0, 38682.0, 38682.0, 38682.0, 38682.0, 38682.0, 38682.0, 38682.0, 38682.0], \"sizemode\": \"area\", \"sizeref\": 3481825.0, \"symbol\": \"circle\"}, \"mode\": \"markers\", \"name\": \"Monaco\", \"showlegend\": true, \"type\": \"scattergl\", \"x\": [1, 2, 3, 4, 5, 6, 7, 8, 9, 10, 11, 12, 13, 14, 15, 16], \"xaxis\": \"x\", \"y\": [51.703634765524015, 51.703634765524015, 51.703634765524015, 51.703634765524015, 51.703634765524015, 51.703634765524015, 51.703634765524015, 51.703634765524015, 51.703634765524015, 51.703634765524015, 51.703634765524015, 77.55545214828602, 77.55545214828602, 77.55545214828602, 77.55545214828602, 77.55545214828602], \"yaxis\": \"y\"}, {\"hovertemplate\": \"Country=Montenegro<br>Day=%{x}<br>Dead_per_million=%{y}<br>popData2018=%{marker.size}<extra></extra>\", \"legendgroup\": \"Montenegro\", \"marker\": {\"color\": \"#FB00D1\", \"size\": [622345.0, 622345.0, 622345.0, 622345.0, 622345.0, 622345.0, 622345.0, 622345.0, 622345.0, 622345.0, 622345.0, 622345.0, 622345.0, 622345.0, 622345.0, 622345.0, 622345.0, 622345.0, 622345.0, 622345.0, 622345.0, 622345.0, 622345.0, 622345.0, 622345.0], \"sizemode\": \"area\", \"sizeref\": 3481825.0, \"symbol\": \"circle\"}, \"mode\": \"markers\", \"name\": \"Montenegro\", \"showlegend\": true, \"type\": \"scattergl\", \"x\": [1, 2, 3, 4, 5, 6, 7, 8, 9, 10, 11, 12, 13, 14, 15, 16, 17, 18, 19, 20, 21, 22, 23, 24, 25], \"xaxis\": \"x\", \"y\": [1.6068257959813286, 1.6068257959813286, 1.6068257959813286, 1.6068257959813286, 1.6068257959813286, 1.6068257959813286, 1.6068257959813286, 3.213651591962657, 3.213651591962657, 3.213651591962657, 3.213651591962657, 3.213651591962657, 3.213651591962657, 3.213651591962657, 3.213651591962657, 3.213651591962657, 3.213651591962657, 4.820477387943986, 4.820477387943986, 6.427303183925314, 6.427303183925314, 6.427303183925314, 6.427303183925314, 8.034128979906644, 8.034128979906644], \"yaxis\": \"y\"}, {\"hovertemplate\": \"Country=Morocco<br>Day=%{x}<br>Dead_per_million=%{y}<br>popData2018=%{marker.size}<extra></extra>\", \"legendgroup\": \"Morocco\", \"marker\": {\"color\": \"#FC0080\", \"size\": [36029138.0, 36029138.0, 36029138.0, 36029138.0, 36029138.0, 36029138.0, 36029138.0, 36029138.0, 36029138.0, 36029138.0, 36029138.0, 36029138.0, 36029138.0, 36029138.0, 36029138.0, 36029138.0, 36029138.0, 36029138.0, 36029138.0], \"sizemode\": \"area\", \"sizeref\": 3481825.0, \"symbol\": \"circle\"}, \"mode\": \"markers\", \"name\": \"Morocco\", \"showlegend\": true, \"type\": \"scattergl\", \"x\": [1, 2, 3, 4, 5, 6, 7, 8, 9, 10, 11, 12, 13, 14, 15, 16, 17, 18, 19], \"xaxis\": \"x\", \"y\": [1.082457204499314, 1.221233769178713, 1.221233769178713, 1.6375634632169107, 1.942871905511589, 2.220425034870387, 2.497978164229186, 2.5812441030368256, 2.6922653547803446, 2.969818484139143, 3.0808397358826625, 3.2751269264338214, 3.49716942992086, 3.49716942992086, 3.52492474285674, 3.6081906816643796, 3.746967246343779, 3.802477872215538, 3.9134991239590575], \"yaxis\": \"y\"}, {\"hovertemplate\": \"Country=Netherlands<br>Day=%{x}<br>Dead_per_million=%{y}<br>popData2018=%{marker.size}<extra></extra>\", \"legendgroup\": \"Netherlands\", \"marker\": {\"color\": \"#B2828D\", \"size\": [17231017.0, 17231017.0, 17231017.0, 17231017.0, 17231017.0, 17231017.0, 17231017.0, 17231017.0, 17231017.0, 17231017.0, 17231017.0, 17231017.0, 17231017.0, 17231017.0, 17231017.0, 17231017.0, 17231017.0, 17231017.0, 17231017.0, 17231017.0, 17231017.0, 17231017.0, 17231017.0, 17231017.0, 17231017.0, 17231017.0, 17231017.0, 17231017.0, 17231017.0, 17231017.0, 17231017.0, 17231017.0, 17231017.0, 17231017.0, 17231017.0, 17231017.0], \"sizemode\": \"area\", \"sizeref\": 3481825.0, \"symbol\": \"circle\"}, \"mode\": \"markers\", \"name\": \"Netherlands\", \"showlegend\": true, \"type\": \"scattergl\", \"x\": [1, 2, 3, 4, 5, 6, 7, 8, 9, 10, 11, 12, 13, 14, 15, 16, 17, 18, 19, 20, 21, 22, 23, 24, 25, 26, 27, 28, 29, 30, 31, 32, 33, 34, 35, 36], \"xaxis\": \"x\", \"y\": [1.1606975955046646, 1.3928371146055976, 2.4954998303350293, 3.3660230269635276, 4.410650862917725, 6.151697256174723, 7.89274364943172, 10.388243479766748, 12.361429392124679, 16.01762681796437, 20.66041719998303, 25.187137822451223, 31.687044357277344, 37.08428817637403, 44.74489230670482, 50.14213612580151, 60.298240086467324, 68.07491397634858, 77.7087040190373, 86.29786622577183, 95.81558650891007, 102.48959768306189, 108.35112054036044, 121.93128240776501, 130.4624097347243, 139.05157194145883, 145.72558311561065, 153.38618724594141, 158.84146594481336, 163.8324656054834, 170.91272093806185, 181.88131321558095, 192.38562645489816, 200.74264914253175, 208.98360207061486, 213.80049709195922], \"yaxis\": \"y\"}, {\"hovertemplate\": \"Country=New_Zealand<br>Day=%{x}<br>Dead_per_million=%{y}<br>popData2018=%{marker.size}<extra></extra>\", \"legendgroup\": \"New_Zealand\", \"marker\": {\"color\": \"#6C7C32\", \"size\": [4885500.0, 4885500.0, 4885500.0, 4885500.0, 4885500.0, 4885500.0, 4885500.0, 4885500.0], \"sizemode\": \"area\", \"sizeref\": 3481825.0, \"symbol\": \"circle\"}, \"mode\": \"markers\", \"name\": \"New_Zealand\", \"showlegend\": true, \"type\": \"scattergl\", \"x\": [1, 2, 3, 4, 5, 6, 7, 8], \"xaxis\": \"x\", \"y\": [1.0234367004400777, 1.84218606079214, 1.84218606079214, 1.84218606079214, 2.251560740968171, 2.251560740968171, 2.4562480810561866, 2.4562480810561866], \"yaxis\": \"y\"}, {\"hovertemplate\": \"Country=North_Macedonia<br>Day=%{x}<br>Dead_per_million=%{y}<br>popData2018=%{marker.size}<extra></extra>\", \"legendgroup\": \"North_Macedonia\", \"marker\": {\"color\": \"#778AAE\", \"size\": [2082958.0, 2082958.0, 2082958.0, 2082958.0, 2082958.0, 2082958.0, 2082958.0, 2082958.0, 2082958.0, 2082958.0, 2082958.0, 2082958.0, 2082958.0, 2082958.0, 2082958.0, 2082958.0, 2082958.0, 2082958.0, 2082958.0, 2082958.0, 2082958.0, 2082958.0, 2082958.0, 2082958.0, 2082958.0], \"sizemode\": \"area\", \"sizeref\": 3481825.0, \"symbol\": \"circle\"}, \"mode\": \"markers\", \"name\": \"North_Macedonia\", \"showlegend\": true, \"type\": \"scattergl\", \"x\": [1, 2, 3, 4, 5, 6, 7, 8, 9, 10, 11, 12, 13, 14, 15, 16, 17, 18, 19, 20, 21, 22, 23, 24, 25], \"xaxis\": \"x\", \"y\": [1.4402594771474029, 1.4402594771474029, 1.9203459695298706, 2.8805189542948058, 3.3606054466772735, 4.320778431442208, 4.800864923824676, 5.280951416207143, 5.7610379085896115, 8.16147037050195, 8.16147037050195, 10.08181634003182, 12.48224880194416, 14.402594771474028, 15.362767756238965, 15.362767756238965, 16.3229407410039, 16.3229407410039, 18.24328671053377, 21.123805664828573, 21.603892157211043, 22.08397864959351, 23.524238126740915, 23.524238126740915, 24.48441111150585], \"yaxis\": \"y\"}, {\"hovertemplate\": \"Country=Northern_Mariana_Islands<br>Day=%{x}<br>Dead_per_million=%{y}<br>popData2018=%{marker.size}<extra></extra>\", \"legendgroup\": \"Northern_Mariana_Islands\", \"marker\": {\"color\": \"#862A16\", \"size\": [56882.0, 56882.0, 56882.0, 56882.0, 56882.0, 56882.0, 56882.0, 56882.0, 56882.0, 56882.0, 56882.0, 56882.0, 56882.0, 56882.0, 56882.0, 56882.0, 56882.0, 56882.0, 56882.0], \"sizemode\": \"area\", \"sizeref\": 3481825.0, \"symbol\": \"circle\"}, \"mode\": \"markers\", \"name\": \"Northern_Mariana_Islands\", \"showlegend\": true, \"type\": \"scattergl\", \"x\": [1, 2, 3, 4, 5, 6, 7, 8, 9, 10, 11, 12, 13, 14, 15, 16, 17, 18, 19], \"xaxis\": \"x\", \"y\": [17.580253858865724, 17.580253858865724, 17.580253858865724, 17.580253858865724, 17.580253858865724, 17.580253858865724, 35.16050771773145, 35.16050771773145, 35.16050771773145, 35.16050771773145, 35.16050771773145, 35.16050771773145, 35.16050771773145, 35.16050771773145, 35.16050771773145, 35.16050771773145, 35.16050771773145, 35.16050771773145, 35.16050771773145], \"yaxis\": \"y\"}, {\"hovertemplate\": \"Country=Norway<br>Day=%{x}<br>Dead_per_million=%{y}<br>popData2018=%{marker.size}<extra></extra>\", \"legendgroup\": \"Norway\", \"marker\": {\"color\": \"#A777F1\", \"size\": [5314336.0, 5314336.0, 5314336.0, 5314336.0, 5314336.0, 5314336.0, 5314336.0, 5314336.0, 5314336.0, 5314336.0, 5314336.0, 5314336.0, 5314336.0, 5314336.0, 5314336.0, 5314336.0, 5314336.0, 5314336.0, 5314336.0, 5314336.0, 5314336.0, 5314336.0, 5314336.0, 5314336.0, 5314336.0, 5314336.0, 5314336.0, 5314336.0, 5314336.0, 5314336.0, 5314336.0, 5314336.0], \"sizemode\": \"area\", \"sizeref\": 3481825.0, \"symbol\": \"circle\"}, \"mode\": \"markers\", \"name\": \"Norway\", \"showlegend\": true, \"type\": \"scattergl\", \"x\": [1, 2, 3, 4, 5, 6, 7, 8, 9, 10, 11, 12, 13, 14, 15, 16, 17, 18, 19, 20, 21, 22, 23, 24, 25, 26, 27, 28, 29, 30, 31, 32], \"xaxis\": \"x\", \"y\": [1.1290215748496144, 1.31719183732455, 1.31719183732455, 1.31719183732455, 1.5053620997994857, 1.8817026247493573, 2.258043149699229, 2.6343836746491, 3.0107241995989713, 3.7634052494987147, 4.139745774448586, 4.892426824348329, 5.2687673492982, 6.021448399197943, 7.9031510239473, 8.279491548897171, 9.408513123746786, 10.913875223546272, 11.102045486021208, 12.983748110770565, 15.053620997994859, 16.558983097794343, 17.311664147694085, 18.4406857225437, 19.38153703491838, 21.451409922142673, 23.897623334316837, 24.462134121741645, 25.591155696591258, 25.591155696591258, 27.849198846290488, 28.9782204211401], \"yaxis\": \"y\"}, {\"hovertemplate\": \"Country=Oman<br>Day=%{x}<br>Dead_per_million=%{y}<br>popData2018=%{marker.size}<extra></extra>\", \"legendgroup\": \"Oman\", \"marker\": {\"color\": \"#620042\", \"size\": [4829483.0, 4829483.0, 4829483.0], \"sizemode\": \"area\", \"sizeref\": 3481825.0, \"symbol\": \"circle\"}, \"mode\": \"markers\", \"name\": \"Oman\", \"showlegend\": true, \"type\": \"scattergl\", \"x\": [1, 2, 3], \"xaxis\": \"x\", \"y\": [1.2423690072001494, 1.2423690072001494, 1.4494305084001746], \"yaxis\": \"y\"}, {\"hovertemplate\": \"Country=Panama<br>Day=%{x}<br>Dead_per_million=%{y}<br>popData2018=%{marker.size}<extra></extra>\", \"legendgroup\": \"Panama\", \"marker\": {\"color\": \"#1616A7\", \"size\": [4176873.0, 4176873.0, 4176873.0, 4176873.0, 4176873.0, 4176873.0, 4176873.0, 4176873.0, 4176873.0, 4176873.0, 4176873.0, 4176873.0, 4176873.0, 4176873.0, 4176873.0, 4176873.0, 4176873.0, 4176873.0, 4176873.0, 4176873.0, 4176873.0, 4176873.0, 4176873.0, 4176873.0, 4176873.0, 4176873.0, 4176873.0, 4176873.0], \"sizemode\": \"area\", \"sizeref\": 3481825.0, \"symbol\": \"circle\"}, \"mode\": \"markers\", \"name\": \"Panama\", \"showlegend\": true, \"type\": \"scattergl\", \"x\": [1, 2, 3, 4, 5, 6, 7, 8, 9, 10, 11, 12, 13, 14, 15, 16, 17, 18, 19, 20, 21, 22, 23, 24, 25, 26, 27, 28], \"xaxis\": \"x\", \"y\": [1.436481310300792, 1.436481310300792, 1.436481310300792, 2.154721965451188, 3.3517897240351813, 4.070030379185577, 5.745925241203168, 6.224752344636766, 7.18240655150396, 7.661233654937558, 8.85830141352155, 9.815955620388745, 11.013023378972738, 12.928331792707128, 13.167745344423926, 14.125399551291121, 15.083053758158316, 15.80129441330871, 17.7166028270431, 18.913670585627095, 20.828978999361485, 22.504873861379075, 22.744287413095876, 24.659595826830262, 26.096077137131054, 27.771971999148644, 28.72962620601584, 30.166107516316632], \"yaxis\": \"y\"}, {\"hovertemplate\": \"Country=Paraguay<br>Day=%{x}<br>Dead_per_million=%{y}<br>popData2018=%{marker.size}<extra></extra>\", \"legendgroup\": \"Paraguay\", \"marker\": {\"color\": \"#DA60CA\", \"size\": [6956071.0, 6956071.0, 6956071.0, 6956071.0, 6956071.0, 6956071.0, 6956071.0], \"sizemode\": \"area\", \"sizeref\": 3481825.0, \"symbol\": \"circle\"}, \"mode\": \"markers\", \"name\": \"Paraguay\", \"showlegend\": true, \"type\": \"scattergl\", \"x\": [1, 2, 3, 4, 5, 6, 7], \"xaxis\": \"x\", \"y\": [1.00631520293568, 1.1500745176407774, 1.1500745176407774, 1.1500745176407774, 1.1500745176407774, 1.1500745176407774, 1.1500745176407774], \"yaxis\": \"y\"}, {\"hovertemplate\": \"Country=Peru<br>Day=%{x}<br>Dead_per_million=%{y}<br>popData2018=%{marker.size}<extra></extra>\", \"legendgroup\": \"Peru\", \"marker\": {\"color\": \"#6C4516\", \"size\": [31989256.0, 31989256.0, 31989256.0, 31989256.0, 31989256.0, 31989256.0, 31989256.0, 31989256.0, 31989256.0, 31989256.0, 31989256.0, 31989256.0, 31989256.0, 31989256.0, 31989256.0, 31989256.0, 31989256.0, 31989256.0, 31989256.0], \"sizemode\": \"area\", \"sizeref\": 3481825.0, \"symbol\": \"circle\"}, \"mode\": \"markers\", \"name\": \"Peru\", \"showlegend\": true, \"type\": \"scattergl\", \"x\": [1, 2, 3, 4, 5, 6, 7, 8, 9, 10, 11, 12, 13, 14, 15, 16, 17, 18, 19], \"xaxis\": \"x\", \"y\": [1.4692432984374504, 1.7193272641289314, 1.9068902383975421, 2.2820161869347637, 2.5946211440491145, 2.8759656054520306, 3.344873041123557, 3.7825199810836487, 4.313948408178046, 5.283023775232535, 5.658149723769756, 6.033275672306977, 6.033275672306977, 7.189914013630076, 7.940165910704519, 8.565375824933222, 9.378148713430534, 10.87865250757942, 12.504198284574045], \"yaxis\": \"y\"}, {\"hovertemplate\": \"Country=Philippines<br>Day=%{x}<br>Dead_per_million=%{y}<br>popData2018=%{marker.size}<extra></extra>\", \"legendgroup\": \"Philippines\", \"marker\": {\"color\": \"#0D2A63\", \"size\": [106651922.0, 106651922.0, 106651922.0, 106651922.0, 106651922.0, 106651922.0, 106651922.0, 106651922.0, 106651922.0, 106651922.0, 106651922.0, 106651922.0, 106651922.0, 106651922.0, 106651922.0, 106651922.0, 106651922.0, 106651922.0], \"sizemode\": \"area\", \"sizeref\": 3481825.0, \"symbol\": \"circle\"}, \"mode\": \"markers\", \"name\": \"Philippines\", \"showlegend\": true, \"type\": \"scattergl\", \"x\": [1, 2, 3, 4, 5, 6, 7, 8, 9, 10, 11, 12, 13, 14, 15, 16, 17, 18], \"xaxis\": \"x\", \"y\": [1.0032636823928969, 1.275176269209663, 1.3501866379867022, 1.4251970067637414, 1.5283362638321698, 1.659604409191988, 1.7064858896776374, 1.9033881077173649, 1.9033881077173649, 2.3159451359910794, 2.7847599408475734, 2.9535332705959108, 3.1410591925385085, 3.272327337898327, 3.3942191871610152, 3.6286265895892624, 3.722389550560561, 3.8349051037261197], \"yaxis\": \"y\"}, {\"hovertemplate\": \"Country=Poland<br>Day=%{x}<br>Dead_per_million=%{y}<br>popData2018=%{marker.size}<extra></extra>\", \"legendgroup\": \"Poland\", \"marker\": {\"color\": \"#AF0038\", \"size\": [37978548.0, 37978548.0, 37978548.0, 37978548.0, 37978548.0, 37978548.0, 37978548.0, 37978548.0, 37978548.0, 37978548.0, 37978548.0, 37978548.0, 37978548.0, 37978548.0, 37978548.0, 37978548.0, 37978548.0, 37978548.0, 37978548.0], \"sizemode\": \"area\", \"sizeref\": 3481825.0, \"symbol\": \"circle\"}, \"mode\": \"markers\", \"name\": \"Poland\", \"showlegend\": true, \"type\": \"scattergl\", \"x\": [1, 2, 3, 4, 5, 6, 7, 8, 9, 10, 11, 12, 13, 14, 15, 16, 17, 18, 19], \"xaxis\": \"x\", \"y\": [1.1322181142891508, 1.5008472677786417, 1.8694764212681327, 2.080121651833556, 2.475081459143725, 2.817379958812538, 3.3966543428674525, 4.1865739574877905, 4.5815337647979595, 4.765848341542704, 5.476775994701009, 6.108711686397279, 6.451010186066092, 6.924961954838294, 7.530566992713887, 8.267825299692868, 8.741777068465073, 9.13673687577524, 9.479035375444052], \"yaxis\": \"y\"}, {\"hovertemplate\": \"Country=Portugal<br>Day=%{x}<br>Dead_per_million=%{y}<br>popData2018=%{marker.size}<extra></extra>\", \"legendgroup\": \"Portugal\", \"marker\": {\"color\": \"#2E91E5\", \"size\": [10281762.0, 10281762.0, 10281762.0, 10281762.0, 10281762.0, 10281762.0, 10281762.0, 10281762.0, 10281762.0, 10281762.0, 10281762.0, 10281762.0, 10281762.0, 10281762.0, 10281762.0, 10281762.0, 10281762.0, 10281762.0, 10281762.0, 10281762.0, 10281762.0, 10281762.0, 10281762.0, 10281762.0, 10281762.0, 10281762.0, 10281762.0, 10281762.0, 10281762.0, 10281762.0], \"sizemode\": \"area\", \"sizeref\": 3481825.0, \"symbol\": \"circle\"}, \"mode\": \"markers\", \"name\": \"Portugal\", \"showlegend\": true, \"type\": \"scattergl\", \"x\": [1, 2, 3, 4, 5, 6, 7, 8, 9, 10, 11, 12, 13, 14, 15, 16, 17, 18, 19, 20, 21, 22, 23, 24, 25, 26, 27, 28, 29, 30], \"xaxis\": \"x\", \"y\": [1.1671151306556211, 1.3616343190982245, 2.2369706670899405, 3.209566609302958, 4.182162551515976, 5.835575653278106, 7.391729160818933, 9.725959422130176, 11.57389171233491, 13.616343190982246, 15.561535075408283, 18.18754411938343, 20.327255192252068, 23.92586017844023, 25.871052062866266, 28.691580295284016, 30.247733802824847, 33.55456000634911, 36.95864580409467, 39.77917403651242, 42.30792348626626, 45.71200928401183, 49.01883548753609, 52.03388290839644, 55.1461899234781, 58.25849693855975, 61.17628476519881, 63.89955340339526, 66.8173412300343, 69.44335027400946], \"yaxis\": \"y\"}, {\"hovertemplate\": \"Country=Puerto_Rico<br>Day=%{x}<br>Dead_per_million=%{y}<br>popData2018=%{marker.size}<extra></extra>\", \"legendgroup\": \"Puerto_Rico\", \"marker\": {\"color\": \"#E15F99\", \"size\": [3195153.0, 3195153.0, 3195153.0, 3195153.0, 3195153.0, 3195153.0, 3195153.0, 3195153.0, 3195153.0, 3195153.0, 3195153.0, 3195153.0, 3195153.0, 3195153.0, 3195153.0, 3195153.0, 3195153.0, 3195153.0, 3195153.0, 3195153.0, 3195153.0, 3195153.0], \"sizemode\": \"area\", \"sizeref\": 3481825.0, \"symbol\": \"circle\"}, \"mode\": \"markers\", \"name\": \"Puerto_Rico\", \"showlegend\": true, \"type\": \"scattergl\", \"x\": [1, 2, 3, 4, 5, 6, 7, 8, 9, 10, 11, 12, 13, 14, 15, 16, 17, 18, 19, 20, 21, 22], \"xaxis\": \"x\", \"y\": [1.5648702894665765, 1.8778443473598916, 2.5037924631465223, 3.442714636826468, 3.755688694719783, 4.694610868399729, 5.633533042079675, 6.259481157866306, 6.5724552157596206, 7.198403331546252, 7.511377389439566, 10.328143910479405, 12.205988257839296, 13.144910431519241, 13.770858547305872, 14.083832605199188, 14.083832605199188, 15.961676952559081, 17.526547242025657, 18.152495357812285, 18.778443473598916, 19.404391589385547], \"yaxis\": \"y\"}, {\"hovertemplate\": \"Country=Qatar<br>Day=%{x}<br>Dead_per_million=%{y}<br>popData2018=%{marker.size}<extra></extra>\", \"legendgroup\": \"Qatar\", \"marker\": {\"color\": \"#1CA71C\", \"size\": [2781677.0, 2781677.0, 2781677.0, 2781677.0, 2781677.0, 2781677.0, 2781677.0, 2781677.0, 2781677.0, 2781677.0, 2781677.0, 2781677.0, 2781677.0, 2781677.0, 2781677.0, 2781677.0, 2781677.0, 2781677.0], \"sizemode\": \"area\", \"sizeref\": 3481825.0, \"symbol\": \"circle\"}, \"mode\": \"markers\", \"name\": \"Qatar\", \"showlegend\": true, \"type\": \"scattergl\", \"x\": [1, 2, 3, 4, 5, 6, 7, 8, 9, 10, 11, 12, 13, 14, 15, 16, 17, 18], \"xaxis\": \"x\", \"y\": [1.0784861074812064, 1.0784861074812064, 1.0784861074812064, 1.4379814766416086, 1.4379814766416086, 2.156972214962413, 2.156972214962413, 2.156972214962413, 2.156972214962413, 2.156972214962413, 2.516467584122815, 2.516467584122815, 2.516467584122815, 2.516467584122815, 2.516467584122815, 2.516467584122815, 2.875962953283217, 2.875962953283217], \"yaxis\": \"y\"}, {\"hovertemplate\": \"Country=Romania<br>Day=%{x}<br>Dead_per_million=%{y}<br>popData2018=%{marker.size}<extra></extra>\", \"legendgroup\": \"Romania\", \"marker\": {\"color\": \"#FB0D0D\", \"size\": [19473936.0, 19473936.0, 19473936.0, 19473936.0, 19473936.0, 19473936.0, 19473936.0, 19473936.0, 19473936.0, 19473936.0, 19473936.0, 19473936.0, 19473936.0, 19473936.0, 19473936.0, 19473936.0, 19473936.0, 19473936.0, 19473936.0, 19473936.0, 19473936.0, 19473936.0, 19473936.0, 19473936.0], \"sizemode\": \"area\", \"sizeref\": 3481825.0, \"symbol\": \"circle\"}, \"mode\": \"markers\", \"name\": \"Romania\", \"showlegend\": true, \"type\": \"scattergl\", \"x\": [1, 2, 3, 4, 5, 6, 7, 8, 9, 10, 11, 12, 13, 14, 15, 16, 17, 18, 19, 20, 21, 22, 23, 24], \"xaxis\": \"x\", \"y\": [1.2324164976202037, 1.489169934624413, 2.054027496033673, 2.25943024563704, 3.543197430658086, 4.364808429071555, 4.826964615679131, 6.829641424311962, 7.240446923518697, 7.59990173532459, 8.062057921932167, 9.345825106953212, 10.732293666775941, 11.759307414792778, 13.197126662016348, 14.480893847037393, 15.7133103446576, 16.3295185934677, 17.664636465889586, 19.10245571311316, 19.872716024125786, 20.540274960336728, 21.413236646151038, 22.286198331965352], \"yaxis\": \"y\"}, {\"hovertemplate\": \"Country=Russia<br>Day=%{x}<br>Dead_per_million=%{y}<br>popData2018=%{marker.size}<extra></extra>\", \"legendgroup\": \"Russia\", \"marker\": {\"color\": \"#DA16FF\", \"size\": [144478050.0, 144478050.0, 144478050.0, 144478050.0, 144478050.0, 144478050.0, 144478050.0], \"sizemode\": \"area\", \"sizeref\": 3481825.0, \"symbol\": \"circle\"}, \"mode\": \"markers\", \"name\": \"Russia\", \"showlegend\": true, \"type\": \"scattergl\", \"x\": [1, 2, 3, 4, 5, 6, 7], \"xaxis\": \"x\", \"y\": [1.0243770593526145, 1.176649324932057, 1.3704503902149843, 1.6057802552013956, 1.8895603865085389, 2.1664190511984347, 2.49864944882631], \"yaxis\": \"y\"}, {\"hovertemplate\": \"Country=San_Marino<br>Day=%{x}<br>Dead_per_million=%{y}<br>popData2018=%{marker.size}<extra></extra>\", \"legendgroup\": \"San_Marino\", \"marker\": {\"color\": \"#222A2A\", \"size\": [33785.0, 33785.0, 33785.0, 33785.0, 33785.0, 33785.0, 33785.0, 33785.0, 33785.0, 33785.0, 33785.0, 33785.0, 33785.0, 33785.0, 33785.0, 33785.0, 33785.0, 33785.0, 33785.0, 33785.0, 33785.0, 33785.0, 33785.0, 33785.0, 33785.0, 33785.0, 33785.0, 33785.0, 33785.0, 33785.0, 33785.0, 33785.0, 33785.0, 33785.0, 33785.0, 33785.0, 33785.0, 33785.0, 33785.0, 33785.0, 33785.0, 33785.0, 33785.0, 33785.0, 33785.0, 33785.0, 33785.0, 33785.0, 33785.0], \"sizemode\": \"area\", \"sizeref\": 3481825.0, \"symbol\": \"circle\"}, \"mode\": \"markers\", \"name\": \"San_Marino\", \"showlegend\": true, \"type\": \"scattergl\", \"x\": [1, 2, 3, 4, 5, 6, 7, 8, 9, 10, 11, 12, 13, 14, 15, 16, 17, 18, 19, 20, 21, 22, 23, 24, 25, 26, 27, 28, 29, 30, 31, 32, 33, 34, 35, 36, 37, 38, 39, 40, 41, 42, 43, 44, 45, 46, 47, 48, 49], \"xaxis\": \"x\", \"y\": [29.59893443836022, 29.59893443836022, 29.59893443836022, 29.59893443836022, 29.59893443836022, 29.59893443836022, 29.59893443836022, 59.19786887672044, 59.19786887672044, 88.79680331508065, 147.9946721918011, 147.9946721918011, 147.9946721918011, 207.19254106852154, 266.39040994524197, 325.5882788219624, 414.38508213704307, 414.38508213704307, 414.38508213704307, 591.9786887672044, 591.9786887672044, 591.9786887672044, 621.5776232055646, 621.5776232055646, 621.5776232055646, 621.5776232055646, 651.1765576439248, 710.3744265206452, 739.9733609590055, 769.5722953973657, 769.5722953973657, 887.9680331508066, 947.1659020275271, 947.1659020275271, 947.1659020275271, 947.1659020275271, 1006.3637709042475, 1006.3637709042475, 1006.3637709042475, 1006.3637709042475, 1035.9627053426077, 1035.9627053426077, 1065.5616397809679, 1065.5616397809679, 1065.5616397809679, 1124.7595086576885, 1154.3584430960486, 1154.3584430960486, 1154.3584430960486], \"yaxis\": \"y\"}, {\"hovertemplate\": \"Country=Saudi_Arabia<br>Day=%{x}<br>Dead_per_million=%{y}<br>popData2018=%{marker.size}<extra></extra>\", \"legendgroup\": \"Saudi_Arabia\", \"marker\": {\"color\": \"#B68100\", \"size\": [33699947.0, 33699947.0, 33699947.0, 33699947.0, 33699947.0, 33699947.0, 33699947.0, 33699947.0, 33699947.0, 33699947.0, 33699947.0, 33699947.0, 33699947.0, 33699947.0, 33699947.0], \"sizemode\": \"area\", \"sizeref\": 3481825.0, \"symbol\": \"circle\"}, \"mode\": \"markers\", \"name\": \"Saudi_Arabia\", \"showlegend\": true, \"type\": \"scattergl\", \"x\": [1, 2, 3, 4, 5, 6, 7, 8, 9, 10, 11, 12, 13, 14, 15], \"xaxis\": \"x\", \"y\": [1.0089036638544266, 1.127598212543183, 1.21661912405975, 1.21661912405975, 1.3056400355763171, 1.3946609470928841, 1.5430291329538293, 1.7507445931591525, 1.9287864161922865, 2.1661755135697986, 2.344217336602933, 2.462911885291689, 2.581606433980445, 2.72997461984139, 2.8783428057023355], \"yaxis\": \"y\"}, {\"hovertemplate\": \"Country=Serbia<br>Day=%{x}<br>Dead_per_million=%{y}<br>popData2018=%{marker.size}<extra></extra>\", \"legendgroup\": \"Serbia\", \"marker\": {\"color\": \"#750D86\", \"size\": [6982084.0, 6982084.0, 6982084.0, 6982084.0, 6982084.0, 6982084.0, 6982084.0, 6982084.0, 6982084.0, 6982084.0, 6982084.0, 6982084.0, 6982084.0, 6982084.0, 6982084.0, 6982084.0, 6982084.0, 6982084.0, 6982084.0, 6982084.0, 6982084.0, 6982084.0, 6982084.0], \"sizemode\": \"area\", \"sizeref\": 3481825.0, \"symbol\": \"circle\"}, \"mode\": \"markers\", \"name\": \"Serbia\", \"showlegend\": true, \"type\": \"scattergl\", \"x\": [1, 2, 3, 4, 5, 6, 7, 8, 9, 10, 11, 12, 13, 14, 15, 16, 17, 18, 19, 20, 21, 22, 23], \"xaxis\": \"x\", \"y\": [1.4322371372214944, 1.8619082783879426, 1.8619082783879426, 3.294145415609437, 3.294145415609437, 4.439935125386632, 5.585724835163828, 6.3018434037745745, 7.304409399829622, 8.306975395884667, 8.736646537051117, 9.309541391939714, 9.452765105661863, 10.168883674272609, 10.598554815439059, 11.457897097771955, 12.174015666382703, 13.463029089882047, 14.179147658492795, 14.75204251338139, 15.754608509436439, 16.757174505491484, 17.473293074102234], \"yaxis\": \"y\"}, {\"hovertemplate\": \"Country=Singapore<br>Day=%{x}<br>Dead_per_million=%{y}<br>popData2018=%{marker.size}<extra></extra>\", \"legendgroup\": \"Singapore\", \"marker\": {\"color\": \"#EB663B\", \"size\": [5638676.0, 5638676.0, 5638676.0, 5638676.0, 5638676.0, 5638676.0, 5638676.0, 5638676.0, 5638676.0, 5638676.0, 5638676.0, 5638676.0, 5638676.0, 5638676.0, 5638676.0, 5638676.0], \"sizemode\": \"area\", \"sizeref\": 3481825.0, \"symbol\": \"circle\"}, \"mode\": \"markers\", \"name\": \"Singapore\", \"showlegend\": true, \"type\": \"scattergl\", \"x\": [1, 2, 3, 4, 5, 6, 7, 8, 9, 10, 11, 12, 13, 14, 15, 16], \"xaxis\": \"x\", \"y\": [1.0640795818025366, 1.0640795818025366, 1.0640795818025366, 1.0640795818025366, 1.0640795818025366, 1.0640795818025366, 1.0640795818025366, 1.4187727757367155, 1.4187727757367155, 1.596119372703805, 1.7734659696708943, 1.7734659696708943, 1.7734659696708943, 1.9508125666379836, 1.9508125666379836, 1.9508125666379836], \"yaxis\": \"y\"}, {\"hovertemplate\": \"Country=Sint_Maarten<br>Day=%{x}<br>Dead_per_million=%{y}<br>popData2018=%{marker.size}<extra></extra>\", \"legendgroup\": \"Sint_Maarten\", \"marker\": {\"color\": \"#511CFB\", \"size\": [41486.0, 41486.0, 41486.0, 41486.0, 41486.0, 41486.0, 41486.0, 41486.0, 41486.0, 41486.0, 41486.0, 41486.0, 41486.0, 41486.0, 41486.0, 41486.0, 41486.0, 41486.0, 41486.0], \"sizemode\": \"area\", \"sizeref\": 3481825.0, \"symbol\": \"circle\"}, \"mode\": \"markers\", \"name\": \"Sint_Maarten\", \"showlegend\": true, \"type\": \"scattergl\", \"x\": [1, 2, 3, 4, 5, 6, 7, 8, 9, 10, 11, 12, 13, 14, 15, 16, 17, 18, 19], \"xaxis\": \"x\", \"y\": [24.104517186520752, 48.209034373041504, 48.209034373041504, 48.209034373041504, 96.41806874608301, 96.41806874608301, 192.83613749216602, 192.83613749216602, 192.83613749216602, 216.9406546786868, 216.9406546786868, 216.9406546786868, 216.9406546786868, 216.9406546786868, 216.9406546786868, 216.9406546786868, 216.9406546786868, 216.9406546786868, 241.04517186520755], \"yaxis\": \"y\"}, {\"hovertemplate\": \"Country=Slovakia<br>Day=%{x}<br>Dead_per_million=%{y}<br>popData2018=%{marker.size}<extra></extra>\", \"legendgroup\": \"Slovakia\", \"marker\": {\"color\": \"#00A08B\", \"size\": [5447011.0, 5447011.0, 5447011.0, 5447011.0, 5447011.0], \"sizemode\": \"area\", \"sizeref\": 3481825.0, \"symbol\": \"circle\"}, \"mode\": \"markers\", \"name\": \"Slovakia\", \"showlegend\": true, \"type\": \"scattergl\", \"x\": [1, 2, 3, 4, 5], \"xaxis\": \"x\", \"y\": [1.1015215500758122, 1.468695400101083, 1.6522823251137184, 2.019456175138989, 2.2030431001516244], \"yaxis\": \"y\"}, {\"hovertemplate\": \"Country=Slovenia<br>Day=%{x}<br>Dead_per_million=%{y}<br>popData2018=%{marker.size}<extra></extra>\", \"legendgroup\": \"Slovenia\", \"marker\": {\"color\": \"#FB00D1\", \"size\": [2067372.0, 2067372.0, 2067372.0, 2067372.0, 2067372.0, 2067372.0, 2067372.0, 2067372.0, 2067372.0, 2067372.0, 2067372.0, 2067372.0, 2067372.0, 2067372.0, 2067372.0, 2067372.0, 2067372.0, 2067372.0, 2067372.0, 2067372.0, 2067372.0, 2067372.0, 2067372.0, 2067372.0, 2067372.0, 2067372.0, 2067372.0], \"sizemode\": \"area\", \"sizeref\": 3481825.0, \"symbol\": \"circle\"}, \"mode\": \"markers\", \"name\": \"Slovenia\", \"showlegend\": true, \"type\": \"scattergl\", \"x\": [1, 2, 3, 4, 5, 6, 7, 8, 9, 10, 11, 12, 13, 14, 15, 16, 17, 18, 19, 20, 21, 22, 23, 24, 25, 26, 27], \"xaxis\": \"x\", \"y\": [1.4511176508146575, 1.9348235344195432, 2.4185294180244292, 4.353352952443973, 4.353352952443973, 5.320764719653744, 5.320764719653744, 6.288176486863516, 7.255588254073287, 7.739294137678173, 9.674117672097717, 10.641529439307488, 13.543764740936803, 14.511176508146574, 17.41341180977589, 19.348235344195434, 20.79935299501009, 21.76676476221986, 24.18529418024429, 25.636411831058947, 26.60382359826872, 27.087529481873606, 29.506058899898036, 29.506058899898036, 31.924588317922463, 33.85941185234201, 35.79423538676155], \"yaxis\": \"y\"}, {\"hovertemplate\": \"Country=South_Korea<br>Day=%{x}<br>Dead_per_million=%{y}<br>popData2018=%{marker.size}<extra></extra>\", \"legendgroup\": \"South_Korea\", \"marker\": {\"color\": \"#FC0080\", \"size\": [51635256.0, 51635256.0, 51635256.0, 51635256.0, 51635256.0, 51635256.0, 51635256.0, 51635256.0, 51635256.0, 51635256.0, 51635256.0, 51635256.0, 51635256.0, 51635256.0, 51635256.0, 51635256.0, 51635256.0, 51635256.0, 51635256.0, 51635256.0, 51635256.0, 51635256.0, 51635256.0, 51635256.0, 51635256.0, 51635256.0, 51635256.0, 51635256.0, 51635256.0, 51635256.0, 51635256.0, 51635256.0, 51635256.0, 51635256.0, 51635256.0, 51635256.0, 51635256.0, 51635256.0, 51635256.0, 51635256.0, 51635256.0, 51635256.0], \"sizemode\": \"area\", \"sizeref\": 3481825.0, \"symbol\": \"circle\"}, \"mode\": \"markers\", \"name\": \"South_Korea\", \"showlegend\": true, \"type\": \"scattergl\", \"x\": [1, 2, 3, 4, 5, 6, 7, 8, 9, 10, 11, 12, 13, 14, 15, 16, 17, 18, 19, 20, 21, 22, 23, 24, 25, 26, 27, 28, 29, 30, 31, 32, 33, 34, 35, 36, 37, 38, 39, 40, 41, 42], \"xaxis\": \"x\", \"y\": [1.0457970809711876, 1.161996756634653, 1.2781964322981183, 1.2975630449086957, 1.3943961079615834, 1.4524959457933162, 1.4524959457933162, 1.5686956214567813, 1.665528684509669, 1.7623617475625568, 1.936661261057755, 1.9947610988894875, 2.0141277115000653, 2.188427224995263, 2.323993513269306, 2.440193188932771, 2.537026251985659, 2.6919591528702793, 2.788792215923167, 2.943725116807787, 3.0599247924712527, 3.1567578555241402, 3.1567578555241402, 3.2729575311876054, 3.3697905942404933, 3.427890432072226, 3.544090107735691, 3.602189945567424, 3.718389621230889, 3.87332252211551, 3.9507889725578202, 4.028255423000131, 4.028255423000131, 4.144455098663595, 4.2025549364953285, 4.299387999548216, 4.357487837379948, 4.434954287822259, 4.454320900432836, 4.493054125653991, 4.531787350875146, 4.5705205760963015], \"yaxis\": \"y\"}, {\"hovertemplate\": \"Country=Spain<br>Day=%{x}<br>Dead_per_million=%{y}<br>popData2018=%{marker.size}<extra></extra>\", \"legendgroup\": \"Spain\", \"marker\": {\"color\": \"#B2828D\", \"size\": [46723749.0, 46723749.0, 46723749.0, 46723749.0, 46723749.0, 46723749.0, 46723749.0, 46723749.0, 46723749.0, 46723749.0, 46723749.0, 46723749.0, 46723749.0, 46723749.0, 46723749.0, 46723749.0, 46723749.0, 46723749.0, 46723749.0, 46723749.0, 46723749.0, 46723749.0, 46723749.0, 46723749.0, 46723749.0, 46723749.0, 46723749.0, 46723749.0, 46723749.0, 46723749.0, 46723749.0, 46723749.0, 46723749.0, 46723749.0, 46723749.0, 46723749.0, 46723749.0, 46723749.0, 46723749.0, 46723749.0], \"sizemode\": \"area\", \"sizeref\": 3481825.0, \"symbol\": \"circle\"}, \"mode\": \"markers\", \"name\": \"Spain\", \"showlegend\": true, \"type\": \"scattergl\", \"x\": [1, 2, 3, 4, 5, 6, 7, 8, 9, 10, 11, 12, 13, 14, 15, 16, 17, 18, 19, 20, 21, 22, 23, 24, 25, 26, 27, 28, 29, 30, 31, 32, 33, 34, 35, 36, 37, 38, 39, 40], \"xaxis\": \"x\", \"y\": [1.005912432240829, 1.7978009427282902, 2.5896894532157515, 2.910725335845803, 6.163888946496995, 6.613339182179067, 10.508574558090361, 12.798630520851399, 16.415634798483314, 21.44519695968746, 28.37957202449658, 36.81211454157927, 46.70001972658487, 57.70084930470797, 73.49581473010653, 87.51438160495212, 103.97282118778611, 121.77961147766631, 139.71481612059856, 157.09355856697204, 175.26418952383295, 193.75585636332394, 214.08812892989386, 234.03515843730776, 251.34969370715524, 265.77490603333223, 279.4082298490217, 295.31020723529696, 311.5118181120269, 326.1296519677819, 339.0780992338607, 349.9933192432825, 363.24139999981594, 374.30643675446504, 386.441593117881, 397.63504422558213, 409.42776231419276, 416.87579479120996, 428.96814637027524, 437.74312716216326], \"yaxis\": \"y\"}, {\"hovertemplate\": \"Country=Suriname<br>Day=%{x}<br>Dead_per_million=%{y}<br>popData2018=%{marker.size}<extra></extra>\", \"legendgroup\": \"Suriname\", \"marker\": {\"color\": \"#6C7C32\", \"size\": [575991.0, 575991.0, 575991.0, 575991.0, 575991.0, 575991.0, 575991.0, 575991.0, 575991.0, 575991.0, 575991.0, 575991.0, 575991.0, 575991.0, 575991.0, 575991.0, 575991.0], \"sizemode\": \"area\", \"sizeref\": 3481825.0, \"symbol\": \"circle\"}, \"mode\": \"markers\", \"name\": \"Suriname\", \"showlegend\": true, \"type\": \"scattergl\", \"x\": [1, 2, 3, 4, 5, 6, 7, 8, 9, 10, 11, 12, 13, 14, 15, 16, 17], \"xaxis\": \"x\", \"y\": [1.736138238271084, 1.736138238271084, 1.736138238271084, 1.736138238271084, 1.736138238271084, 1.736138238271084, 1.736138238271084, 1.736138238271084, 1.736138238271084, 1.736138238271084, 1.736138238271084, 1.736138238271084, 1.736138238271084, 1.736138238271084, 1.736138238271084, 1.736138238271084, 1.736138238271084], \"yaxis\": \"y\"}, {\"hovertemplate\": \"Country=Sweden<br>Day=%{x}<br>Dead_per_million=%{y}<br>popData2018=%{marker.size}<extra></extra>\", \"legendgroup\": \"Sweden\", \"marker\": {\"color\": \"#778AAE\", \"size\": [10183175.0, 10183175.0, 10183175.0, 10183175.0, 10183175.0, 10183175.0, 10183175.0, 10183175.0, 10183175.0, 10183175.0, 10183175.0, 10183175.0, 10183175.0, 10183175.0, 10183175.0, 10183175.0, 10183175.0, 10183175.0, 10183175.0, 10183175.0, 10183175.0, 10183175.0, 10183175.0, 10183175.0, 10183175.0, 10183175.0, 10183175.0, 10183175.0, 10183175.0, 10183175.0, 10183175.0], \"sizemode\": \"area\", \"sizeref\": 3481825.0, \"symbol\": \"circle\"}, \"mode\": \"markers\", \"name\": \"Sweden\", \"showlegend\": true, \"type\": \"scattergl\", \"x\": [1, 2, 3, 4, 5, 6, 7, 8, 9, 10, 11, 12, 13, 14, 15, 16, 17, 18, 19, 20, 21, 22, 23, 24, 25, 26, 27, 28, 29, 30, 31], \"xaxis\": \"x\", \"y\": [1.5712191924424357, 1.9640239905530446, 2.0622251900806967, 2.455029988191306, 3.5352431829954805, 4.124450380161393, 6.481279168825047, 9.034510356544004, 10.016522351820527, 10.802131948041746, 14.337375131037225, 17.6762159149774, 23.470086687108886, 27.69273826679793, 32.700999442708195, 36.629047423814285, 39.378681010588544, 46.84197217469011, 58.036908920842464, 67.46422407549709, 77.87355122542822, 85.43504358905744, 87.10446398102754, 88.28287837535935, 90.24690236591239, 101.44183911206476, 118.13604303176564, 130.90219897036042, 137.48167933871312, 148.38201248628252, 151.22984727258444], \"yaxis\": \"y\"}, {\"hovertemplate\": \"Country=Switzerland<br>Day=%{x}<br>Dead_per_million=%{y}<br>popData2018=%{marker.size}<extra></extra>\", \"legendgroup\": \"Switzerland\", \"marker\": {\"color\": \"#862A16\", \"size\": [8516543.0, 8516543.0, 8516543.0, 8516543.0, 8516543.0, 8516543.0, 8516543.0, 8516543.0, 8516543.0, 8516543.0, 8516543.0, 8516543.0, 8516543.0, 8516543.0, 8516543.0, 8516543.0, 8516543.0, 8516543.0, 8516543.0, 8516543.0, 8516543.0, 8516543.0, 8516543.0, 8516543.0, 8516543.0, 8516543.0, 8516543.0, 8516543.0, 8516543.0, 8516543.0, 8516543.0, 8516543.0, 8516543.0, 8516543.0, 8516543.0, 8516543.0, 8516543.0], \"sizemode\": \"area\", \"sizeref\": 3481825.0, \"symbol\": \"circle\"}, \"mode\": \"markers\", \"name\": \"Switzerland\", \"showlegend\": true, \"type\": \"scattergl\", \"x\": [1, 2, 3, 4, 5, 6, 7, 8, 9, 10, 11, 12, 13, 14, 15, 16, 17, 18, 19, 20, 21, 22, 23, 24, 25, 26, 27, 28, 29, 30, 31, 32, 33, 34, 35, 36, 37], \"xaxis\": \"x\", \"y\": [1.2916038819976603, 1.5264409514517805, 1.6438594861788405, 2.230952159814141, 2.465789229268261, 3.874811645992981, 5.048996993263581, 6.575437944715362, 7.045112083623601, 7.749623291985962, 10.097993986527163, 12.094109076887182, 18.904384091056667, 23.131451341230825, 27.593355660859107, 30.17656342485443, 34.63846774448271, 43.79711345319339, 44.384206126828694, 50.72480700208993, 56.830570807897054, 63.406008752612415, 65.63696091242656, 68.57242428060306, 75.26528076004548, 82.78006698257732, 88.76841225365739, 94.52192045528332, 97.57480235818689, 100.74510279581752, 100.74510279581752, 105.67668125435404, 114.2482342894294, 119.29723128269299, 124.22880974122951, 130.33457354703663, 133.15261838048608], \"yaxis\": \"y\"}, {\"hovertemplate\": \"Country=Trinidad_and_Tobago<br>Day=%{x}<br>Dead_per_million=%{y}<br>popData2018=%{marker.size}<extra></extra>\", \"legendgroup\": \"Trinidad_and_Tobago\", \"marker\": {\"color\": \"#A777F1\", \"size\": [1389858.0, 1389858.0, 1389858.0, 1389858.0, 1389858.0, 1389858.0, 1389858.0, 1389858.0, 1389858.0, 1389858.0, 1389858.0, 1389858.0, 1389858.0, 1389858.0, 1389858.0, 1389858.0, 1389858.0, 1389858.0, 1389858.0, 1389858.0, 1389858.0, 1389858.0, 1389858.0, 1389858.0], \"sizemode\": \"area\", \"sizeref\": 3481825.0, \"symbol\": \"circle\"}, \"mode\": \"markers\", \"name\": \"Trinidad_and_Tobago\", \"showlegend\": true, \"type\": \"scattergl\", \"x\": [1, 2, 3, 4, 5, 6, 7, 8, 9, 10, 11, 12, 13, 14, 15, 16, 17, 18, 19, 20, 21, 22, 23, 24], \"xaxis\": \"x\", \"y\": [1.438995926202533, 1.438995926202533, 2.1584938893037995, 2.1584938893037995, 2.1584938893037995, 3.5974898155063326, 4.316987778607599, 4.316987778607599, 4.316987778607599, 5.036485741708866, 5.755983704810132, 5.755983704810132, 5.755983704810132, 5.755983704810132, 5.755983704810132, 5.755983704810132, 5.755983704810132, 5.755983704810132, 5.755983704810132, 5.755983704810132, 5.755983704810132, 5.755983704810132, 5.755983704810132, 5.755983704810132], \"yaxis\": \"y\"}, {\"hovertemplate\": \"Country=Tunisia<br>Day=%{x}<br>Dead_per_million=%{y}<br>popData2018=%{marker.size}<extra></extra>\", \"legendgroup\": \"Tunisia\", \"marker\": {\"color\": \"#620042\", \"size\": [11565204.0, 11565204.0, 11565204.0, 11565204.0, 11565204.0, 11565204.0, 11565204.0, 11565204.0, 11565204.0, 11565204.0, 11565204.0, 11565204.0, 11565204.0, 11565204.0, 11565204.0, 11565204.0, 11565204.0, 11565204.0], \"sizemode\": \"area\", \"sizeref\": 3481825.0, \"symbol\": \"circle\"}, \"mode\": \"markers\", \"name\": \"Tunisia\", \"showlegend\": true, \"type\": \"scattergl\", \"x\": [1, 2, 3, 4, 5, 6, 7, 8, 9, 10, 11, 12, 13, 14, 15, 16, 17, 18], \"xaxis\": \"x\", \"y\": [1.124061451920779, 1.124061451920779, 1.556392779582617, 1.6428590451149845, 1.9022578417120872, 1.9022578417120872, 1.988724107244455, 2.16165663830919, 2.16165663830919, 2.421055434906293, 2.680454231503396, 2.9398530281004986, 2.9398530281004986, 3.0263192936328664, 3.1992518246976016, 3.1992518246976016, 3.1992518246976016, 3.285718090229969], \"yaxis\": \"y\"}, {\"hovertemplate\": \"Country=Turkey<br>Day=%{x}<br>Dead_per_million=%{y}<br>popData2018=%{marker.size}<extra></extra>\", \"legendgroup\": \"Turkey\", \"marker\": {\"color\": \"#1616A7\", \"size\": [82319724.0, 82319724.0, 82319724.0, 82319724.0, 82319724.0, 82319724.0, 82319724.0, 82319724.0, 82319724.0, 82319724.0, 82319724.0, 82319724.0, 82319724.0, 82319724.0, 82319724.0, 82319724.0, 82319724.0, 82319724.0, 82319724.0, 82319724.0, 82319724.0, 82319724.0, 82319724.0, 82319724.0], \"sizemode\": \"area\", \"sizeref\": 3481825.0, \"symbol\": \"circle\"}, \"mode\": \"markers\", \"name\": \"Turkey\", \"showlegend\": true, \"type\": \"scattergl\", \"x\": [1, 2, 3, 4, 5, 6, 7, 8, 9, 10, 11, 12, 13, 14, 15, 16, 17, 18, 19, 20, 21, 22, 23, 24], \"xaxis\": \"x\", \"y\": [1.1175936401341675, 1.311957751461849, 1.5913561614953908, 2.040823168940654, 2.5996199890077376, 3.3649286773604827, 4.324601477040909, 5.162796707141535, 6.0860262359480215, 6.972812493880568, 7.883894265729073, 8.80712379453556, 9.863978649879828, 11.030163317845915, 12.220643499727963, 13.37468041073607, 14.55301283566014, 15.743493017542187, 17.043303012046056, 18.440295062213767, 19.958764681961277, 21.489382058666767, 22.959260650582358, 24.502025784245827], \"yaxis\": \"y\"}, {\"hovertemplate\": \"Country=Turks_and_Caicos_islands<br>Day=%{x}<br>Dead_per_million=%{y}<br>popData2018=%{marker.size}<extra></extra>\", \"legendgroup\": \"Turks_and_Caicos_islands\", \"marker\": {\"color\": \"#DA60CA\", \"size\": [31458.0, 31458.0, 31458.0, 31458.0, 31458.0, 31458.0, 31458.0, 31458.0, 31458.0, 31458.0, 31458.0, 31458.0, 31458.0, 31458.0, 31458.0], \"sizemode\": \"area\", \"sizeref\": 3481825.0, \"symbol\": \"circle\"}, \"mode\": \"markers\", \"name\": \"Turks_and_Caicos_islands\", \"showlegend\": true, \"type\": \"scattergl\", \"x\": [1, 2, 3, 4, 5, 6, 7, 8, 9, 10, 11, 12, 13, 14, 15], \"xaxis\": \"x\", \"y\": [31.788416301099875, 31.788416301099875, 31.788416301099875, 31.788416301099875, 31.788416301099875, 31.788416301099875, 31.788416301099875, 31.788416301099875, 31.788416301099875, 31.788416301099875, 31.788416301099875, 31.788416301099875, 31.788416301099875, 31.788416301099875, 31.788416301099875], \"yaxis\": \"y\"}, {\"hovertemplate\": \"Country=UK<br>Day=%{x}<br>Dead_per_million=%{y}<br>popData2018=%{marker.size}<extra></extra>\", \"legendgroup\": \"UK\", \"marker\": {\"color\": \"#6C4516\", \"size\": [66488991.0, 66488991.0, 66488991.0, 66488991.0, 66488991.0, 66488991.0, 66488991.0, 66488991.0, 66488991.0, 66488991.0, 66488991.0, 66488991.0, 66488991.0, 66488991.0, 66488991.0, 66488991.0, 66488991.0, 66488991.0, 66488991.0, 66488991.0, 66488991.0, 66488991.0, 66488991.0, 66488991.0, 66488991.0, 66488991.0, 66488991.0, 66488991.0, 66488991.0, 66488991.0, 66488991.0, 66488991.0, 66488991.0], \"sizemode\": \"area\", \"sizeref\": 3481825.0, \"symbol\": \"circle\"}, \"mode\": \"markers\", \"name\": \"UK\", \"showlegend\": true, \"type\": \"scattergl\", \"x\": [1, 2, 3, 4, 5, 6, 7, 8, 9, 10, 11, 12, 13, 14, 15, 16, 17, 18, 19, 20, 21, 22, 23, 24, 25, 26, 27, 28, 29, 30, 31, 32, 33], \"xaxis\": \"x\", \"y\": [1.5491286369498374, 2.1657720749589955, 2.662094842137099, 3.5043395379544866, 4.226263562940819, 5.0384280910504415, 6.346915386338169, 6.963558824347327, 8.693168467543748, 11.415423645096375, 15.32584544710567, 18.469222972566993, 21.176438066265735, 26.906710014594747, 38.081492318029014, 43.932084937189074, 54.21950229324431, 64.8678816617927, 74.20777373505337, 80.81037054690754, 92.63187645605872, 106.73947511099995, 119.98978898626991, 134.7290711630742, 148.52082805708392, 159.6053698573949, 170.3891099806282, 182.09029521894834, 193.53579903175248, 206.4853112299448, 219.2242622541828, 232.57985671642993, 241.54374669334356], \"yaxis\": \"y\"}, {\"hovertemplate\": \"Country=USA<br>Day=%{x}<br>Dead_per_million=%{y}<br>popData2018=%{marker.size}<extra></extra>\", \"legendgroup\": \"USA\", \"marker\": {\"color\": \"#0D2A63\", \"size\": [327167434.0, 327167434.0, 327167434.0, 327167434.0, 327167434.0, 327167434.0, 327167434.0, 327167434.0, 327167434.0, 327167434.0, 327167434.0, 327167434.0, 327167434.0, 327167434.0, 327167434.0, 327167434.0, 327167434.0, 327167434.0, 327167434.0, 327167434.0, 327167434.0, 327167434.0, 327167434.0, 327167434.0, 327167434.0, 327167434.0, 327167434.0, 327167434.0, 327167434.0, 327167434.0], \"sizemode\": \"area\", \"sizeref\": 3481825.0, \"symbol\": \"circle\"}, \"mode\": \"markers\", \"name\": \"USA\", \"showlegend\": true, \"type\": \"scattergl\", \"x\": [1, 2, 3, 4, 5, 6, 7, 8, 9, 10, 11, 12, 13, 14, 15, 16, 17, 18, 19, 20, 21, 22, 23, 24, 25, 26, 27, 28, 29, 30], \"xaxis\": \"x\", \"y\": [1.039223237603777, 1.4396298379746437, 1.8033579711359657, 2.448287686237133, 3.2093658808351937, 3.9612744586308675, 5.217511960557786, 6.696876804676104, 7.668856185729048, 9.689228421188155, 12.467622312311194, 15.704497043553546, 18.501230168281356, 21.875649151559504, 25.983637479028552, 29.486431097540105, 33.58830634714089, 39.4140695555903, 45.28873738698577, 51.013634810608934, 57.39263156613564, 62.9891543545254, 67.57396275571853, 72.28408925321094, 79.644235006593, 94.70685887397948, 101.7338418835415, 113.2569936652069, 118.92992992694988, 124.34611691822603], \"yaxis\": \"y\"}, {\"hovertemplate\": \"Country=Ukraine<br>Day=%{x}<br>Dead_per_million=%{y}<br>popData2018=%{marker.size}<extra></extra>\", \"legendgroup\": \"Ukraine\", \"marker\": {\"color\": \"#AF0038\", \"size\": [44622516.0, 44622516.0, 44622516.0, 44622516.0, 44622516.0, 44622516.0, 44622516.0, 44622516.0, 44622516.0, 44622516.0, 44622516.0, 44622516.0, 44622516.0], \"sizemode\": \"area\", \"sizeref\": 3481825.0, \"symbol\": \"circle\"}, \"mode\": \"markers\", \"name\": \"Ukraine\", \"showlegend\": true, \"type\": \"scattergl\", \"x\": [1, 2, 3, 4, 5, 6, 7, 8, 9, 10, 11, 12, 13], \"xaxis\": \"x\", \"y\": [1.0084594960983373, 1.1653309732691899, 1.2773820283912274, 1.5463045606841173, 1.6359454047817474, 1.8600475150258222, 2.084149625269897, 2.196200680391935, 2.59958447883127, 2.8012763780509373, 2.9805580662461972, 3.159839754441457, 3.383941864685532], \"yaxis\": \"y\"}, {\"hovertemplate\": \"Country=United_Arab_Emirates<br>Day=%{x}<br>Dead_per_million=%{y}<br>popData2018=%{marker.size}<extra></extra>\", \"legendgroup\": \"United_Arab_Emirates\", \"marker\": {\"color\": \"#2E91E5\", \"size\": [9630959.0, 9630959.0, 9630959.0, 9630959.0, 9630959.0, 9630959.0, 9630959.0, 9630959.0, 9630959.0, 9630959.0, 9630959.0, 9630959.0, 9630959.0, 9630959.0, 9630959.0, 9630959.0], \"sizemode\": \"area\", \"sizeref\": 3481825.0, \"symbol\": \"circle\"}, \"mode\": \"markers\", \"name\": \"United_Arab_Emirates\", \"showlegend\": true, \"type\": \"scattergl\", \"x\": [1, 2, 3, 4, 5, 6, 7, 8, 9, 10, 11, 12, 13, 14, 15, 16], \"xaxis\": \"x\", \"y\": [1.038318198634217, 1.038318198634217, 1.1421500184976385, 1.2459818383610606, 1.2459818383610606, 1.4536454780879038, 1.6613091178147472, 2.076636397268434, 2.284300036995277, 2.5957954965855423, 2.9072909561758076, 3.426450055492916, 3.426450055492916, 3.6341136952197597, 3.841777334946603, 4.25710461440029], \"yaxis\": \"y\"}, {\"hovertemplate\": \"Country=United_States_Virgin_Islands<br>Day=%{x}<br>Dead_per_million=%{y}<br>popData2018=%{marker.size}<extra></extra>\", \"legendgroup\": \"United_States_Virgin_Islands\", \"marker\": {\"color\": \"#E15F99\", \"size\": [106977.0, 106977.0, 106977.0, 106977.0, 106977.0, 106977.0, 106977.0, 106977.0, 106977.0, 106977.0, 106977.0, 106977.0, 106977.0, 106977.0, 106977.0], \"sizemode\": \"area\", \"sizeref\": 3481825.0, \"symbol\": \"circle\"}, \"mode\": \"markers\", \"name\": \"United_States_Virgin_Islands\", \"showlegend\": true, \"type\": \"scattergl\", \"x\": [1, 2, 3, 4, 5, 6, 7, 8, 9, 10, 11, 12, 13, 14, 15], \"xaxis\": \"x\", \"y\": [9.34780373351281, 9.34780373351281, 9.34780373351281, 9.34780373351281, 9.34780373351281, 9.34780373351281, 9.34780373351281, 9.34780373351281, 9.34780373351281, 9.34780373351281, 9.34780373351281, 9.34780373351281, 18.69560746702562, 28.043411200538436, 28.043411200538436], \"yaxis\": \"y\"}, {\"hovertemplate\": \"Country=Uruguay<br>Day=%{x}<br>Dead_per_million=%{y}<br>popData2018=%{marker.size}<extra></extra>\", \"legendgroup\": \"Uruguay\", \"marker\": {\"color\": \"#1CA71C\", \"size\": [3449299.0, 3449299.0, 3449299.0, 3449299.0, 3449299.0, 3449299.0, 3449299.0, 3449299.0, 3449299.0, 3449299.0, 3449299.0, 3449299.0, 3449299.0, 3449299.0, 3449299.0, 3449299.0, 3449299.0, 3449299.0], \"sizemode\": \"area\", \"sizeref\": 3481825.0, \"symbol\": \"circle\"}, \"mode\": \"markers\", \"name\": \"Uruguay\", \"showlegend\": true, \"type\": \"scattergl\", \"x\": [1, 2, 3, 4, 5, 6, 7, 8, 9, 10, 11, 12, 13, 14, 15, 16, 17, 18], \"xaxis\": \"x\", \"y\": [1.1596559184924242, 1.1596559184924242, 1.44956989811553, 1.739483877738636, 1.739483877738636, 2.029397857361742, 2.029397857361742, 2.029397857361742, 2.029397857361742, 2.029397857361742, 2.3193118369848484, 2.3193118369848484, 2.3193118369848484, 2.609225816607954, 2.609225816607954, 2.609225816607954, 2.609225816607954, 2.89913979623106], \"yaxis\": \"y\"}],\n",
       "                        {\"legend\": {\"itemsizing\": \"constant\", \"title\": {\"text\": \"Country\"}, \"tracegroupgap\": 0}, \"margin\": {\"t\": 60}, \"template\": {\"data\": {\"bar\": [{\"error_x\": {\"color\": \"#2a3f5f\"}, \"error_y\": {\"color\": \"#2a3f5f\"}, \"marker\": {\"line\": {\"color\": \"#E5ECF6\", \"width\": 0.5}}, \"type\": \"bar\"}], \"barpolar\": [{\"marker\": {\"line\": {\"color\": \"#E5ECF6\", \"width\": 0.5}}, \"type\": \"barpolar\"}], \"carpet\": [{\"aaxis\": {\"endlinecolor\": \"#2a3f5f\", \"gridcolor\": \"white\", \"linecolor\": \"white\", \"minorgridcolor\": \"white\", \"startlinecolor\": \"#2a3f5f\"}, \"baxis\": {\"endlinecolor\": \"#2a3f5f\", \"gridcolor\": \"white\", \"linecolor\": \"white\", \"minorgridcolor\": \"white\", \"startlinecolor\": \"#2a3f5f\"}, \"type\": \"carpet\"}], \"choropleth\": [{\"colorbar\": {\"outlinewidth\": 0, \"ticks\": \"\"}, \"type\": \"choropleth\"}], \"contour\": [{\"colorbar\": {\"outlinewidth\": 0, \"ticks\": \"\"}, \"colorscale\": [[0.0, \"#0d0887\"], [0.1111111111111111, \"#46039f\"], [0.2222222222222222, \"#7201a8\"], [0.3333333333333333, \"#9c179e\"], [0.4444444444444444, \"#bd3786\"], [0.5555555555555556, \"#d8576b\"], [0.6666666666666666, \"#ed7953\"], [0.7777777777777778, \"#fb9f3a\"], [0.8888888888888888, \"#fdca26\"], [1.0, \"#f0f921\"]], \"type\": \"contour\"}], \"contourcarpet\": [{\"colorbar\": {\"outlinewidth\": 0, \"ticks\": \"\"}, \"type\": \"contourcarpet\"}], \"heatmap\": [{\"colorbar\": {\"outlinewidth\": 0, \"ticks\": \"\"}, \"colorscale\": [[0.0, \"#0d0887\"], [0.1111111111111111, \"#46039f\"], [0.2222222222222222, \"#7201a8\"], [0.3333333333333333, \"#9c179e\"], [0.4444444444444444, \"#bd3786\"], [0.5555555555555556, \"#d8576b\"], [0.6666666666666666, \"#ed7953\"], [0.7777777777777778, \"#fb9f3a\"], [0.8888888888888888, \"#fdca26\"], [1.0, \"#f0f921\"]], \"type\": \"heatmap\"}], \"heatmapgl\": [{\"colorbar\": {\"outlinewidth\": 0, \"ticks\": \"\"}, \"colorscale\": [[0.0, \"#0d0887\"], [0.1111111111111111, \"#46039f\"], [0.2222222222222222, \"#7201a8\"], [0.3333333333333333, \"#9c179e\"], [0.4444444444444444, \"#bd3786\"], [0.5555555555555556, \"#d8576b\"], [0.6666666666666666, \"#ed7953\"], [0.7777777777777778, \"#fb9f3a\"], [0.8888888888888888, \"#fdca26\"], [1.0, \"#f0f921\"]], \"type\": \"heatmapgl\"}], \"histogram\": [{\"marker\": {\"colorbar\": {\"outlinewidth\": 0, \"ticks\": \"\"}}, \"type\": \"histogram\"}], \"histogram2d\": [{\"colorbar\": {\"outlinewidth\": 0, \"ticks\": \"\"}, \"colorscale\": [[0.0, \"#0d0887\"], [0.1111111111111111, \"#46039f\"], [0.2222222222222222, \"#7201a8\"], [0.3333333333333333, \"#9c179e\"], [0.4444444444444444, \"#bd3786\"], [0.5555555555555556, \"#d8576b\"], [0.6666666666666666, \"#ed7953\"], [0.7777777777777778, \"#fb9f3a\"], [0.8888888888888888, \"#fdca26\"], [1.0, \"#f0f921\"]], \"type\": \"histogram2d\"}], \"histogram2dcontour\": [{\"colorbar\": {\"outlinewidth\": 0, \"ticks\": \"\"}, \"colorscale\": [[0.0, \"#0d0887\"], [0.1111111111111111, \"#46039f\"], [0.2222222222222222, \"#7201a8\"], [0.3333333333333333, \"#9c179e\"], [0.4444444444444444, \"#bd3786\"], [0.5555555555555556, \"#d8576b\"], [0.6666666666666666, \"#ed7953\"], [0.7777777777777778, \"#fb9f3a\"], [0.8888888888888888, \"#fdca26\"], [1.0, \"#f0f921\"]], \"type\": \"histogram2dcontour\"}], \"mesh3d\": [{\"colorbar\": {\"outlinewidth\": 0, \"ticks\": \"\"}, \"type\": \"mesh3d\"}], \"parcoords\": [{\"line\": {\"colorbar\": {\"outlinewidth\": 0, \"ticks\": \"\"}}, \"type\": \"parcoords\"}], \"pie\": [{\"automargin\": true, \"type\": \"pie\"}], \"scatter\": [{\"marker\": {\"colorbar\": {\"outlinewidth\": 0, \"ticks\": \"\"}}, \"type\": \"scatter\"}], \"scatter3d\": [{\"line\": {\"colorbar\": {\"outlinewidth\": 0, \"ticks\": \"\"}}, \"marker\": {\"colorbar\": {\"outlinewidth\": 0, \"ticks\": \"\"}}, \"type\": \"scatter3d\"}], \"scattercarpet\": [{\"marker\": {\"colorbar\": {\"outlinewidth\": 0, \"ticks\": \"\"}}, \"type\": \"scattercarpet\"}], \"scattergeo\": [{\"marker\": {\"colorbar\": {\"outlinewidth\": 0, \"ticks\": \"\"}}, \"type\": \"scattergeo\"}], \"scattergl\": [{\"marker\": {\"colorbar\": {\"outlinewidth\": 0, \"ticks\": \"\"}}, \"type\": \"scattergl\"}], \"scattermapbox\": [{\"marker\": {\"colorbar\": {\"outlinewidth\": 0, \"ticks\": \"\"}}, \"type\": \"scattermapbox\"}], \"scatterpolar\": [{\"marker\": {\"colorbar\": {\"outlinewidth\": 0, \"ticks\": \"\"}}, \"type\": \"scatterpolar\"}], \"scatterpolargl\": [{\"marker\": {\"colorbar\": {\"outlinewidth\": 0, \"ticks\": \"\"}}, \"type\": \"scatterpolargl\"}], \"scatterternary\": [{\"marker\": {\"colorbar\": {\"outlinewidth\": 0, \"ticks\": \"\"}}, \"type\": \"scatterternary\"}], \"surface\": [{\"colorbar\": {\"outlinewidth\": 0, \"ticks\": \"\"}, \"colorscale\": [[0.0, \"#0d0887\"], [0.1111111111111111, \"#46039f\"], [0.2222222222222222, \"#7201a8\"], [0.3333333333333333, \"#9c179e\"], [0.4444444444444444, \"#bd3786\"], [0.5555555555555556, \"#d8576b\"], [0.6666666666666666, \"#ed7953\"], [0.7777777777777778, \"#fb9f3a\"], [0.8888888888888888, \"#fdca26\"], [1.0, \"#f0f921\"]], \"type\": \"surface\"}], \"table\": [{\"cells\": {\"fill\": {\"color\": \"#EBF0F8\"}, \"line\": {\"color\": \"white\"}}, \"header\": {\"fill\": {\"color\": \"#C8D4E3\"}, \"line\": {\"color\": \"white\"}}, \"type\": \"table\"}]}, \"layout\": {\"annotationdefaults\": {\"arrowcolor\": \"#2a3f5f\", \"arrowhead\": 0, \"arrowwidth\": 1}, \"coloraxis\": {\"colorbar\": {\"outlinewidth\": 0, \"ticks\": \"\"}}, \"colorscale\": {\"diverging\": [[0, \"#8e0152\"], [0.1, \"#c51b7d\"], [0.2, \"#de77ae\"], [0.3, \"#f1b6da\"], [0.4, \"#fde0ef\"], [0.5, \"#f7f7f7\"], [0.6, \"#e6f5d0\"], [0.7, \"#b8e186\"], [0.8, \"#7fbc41\"], [0.9, \"#4d9221\"], [1, \"#276419\"]], \"sequential\": [[0.0, \"#0d0887\"], [0.1111111111111111, \"#46039f\"], [0.2222222222222222, \"#7201a8\"], [0.3333333333333333, \"#9c179e\"], [0.4444444444444444, \"#bd3786\"], [0.5555555555555556, \"#d8576b\"], [0.6666666666666666, \"#ed7953\"], [0.7777777777777778, \"#fb9f3a\"], [0.8888888888888888, \"#fdca26\"], [1.0, \"#f0f921\"]], \"sequentialminus\": [[0.0, \"#0d0887\"], [0.1111111111111111, \"#46039f\"], [0.2222222222222222, \"#7201a8\"], [0.3333333333333333, \"#9c179e\"], [0.4444444444444444, \"#bd3786\"], [0.5555555555555556, \"#d8576b\"], [0.6666666666666666, \"#ed7953\"], [0.7777777777777778, \"#fb9f3a\"], [0.8888888888888888, \"#fdca26\"], [1.0, \"#f0f921\"]]}, \"colorway\": [\"#636efa\", \"#EF553B\", \"#00cc96\", \"#ab63fa\", \"#FFA15A\", \"#19d3f3\", \"#FF6692\", \"#B6E880\", \"#FF97FF\", \"#FECB52\"], \"font\": {\"color\": \"#2a3f5f\"}, \"geo\": {\"bgcolor\": \"white\", \"lakecolor\": \"white\", \"landcolor\": \"#E5ECF6\", \"showlakes\": true, \"showland\": true, \"subunitcolor\": \"white\"}, \"hoverlabel\": {\"align\": \"left\"}, \"hovermode\": \"closest\", \"mapbox\": {\"style\": \"light\"}, \"paper_bgcolor\": \"white\", \"plot_bgcolor\": \"#E5ECF6\", \"polar\": {\"angularaxis\": {\"gridcolor\": \"white\", \"linecolor\": \"white\", \"ticks\": \"\"}, \"bgcolor\": \"#E5ECF6\", \"radialaxis\": {\"gridcolor\": \"white\", \"linecolor\": \"white\", \"ticks\": \"\"}}, \"scene\": {\"xaxis\": {\"backgroundcolor\": \"#E5ECF6\", \"gridcolor\": \"white\", \"gridwidth\": 2, \"linecolor\": \"white\", \"showbackground\": true, \"ticks\": \"\", \"zerolinecolor\": \"white\"}, \"yaxis\": {\"backgroundcolor\": \"#E5ECF6\", \"gridcolor\": \"white\", \"gridwidth\": 2, \"linecolor\": \"white\", \"showbackground\": true, \"ticks\": \"\", \"zerolinecolor\": \"white\"}, \"zaxis\": {\"backgroundcolor\": \"#E5ECF6\", \"gridcolor\": \"white\", \"gridwidth\": 2, \"linecolor\": \"white\", \"showbackground\": true, \"ticks\": \"\", \"zerolinecolor\": \"white\"}}, \"shapedefaults\": {\"line\": {\"color\": \"#2a3f5f\"}}, \"ternary\": {\"aaxis\": {\"gridcolor\": \"white\", \"linecolor\": \"white\", \"ticks\": \"\"}, \"baxis\": {\"gridcolor\": \"white\", \"linecolor\": \"white\", \"ticks\": \"\"}, \"bgcolor\": \"#E5ECF6\", \"caxis\": {\"gridcolor\": \"white\", \"linecolor\": \"white\", \"ticks\": \"\"}}, \"title\": {\"x\": 0.05}, \"xaxis\": {\"automargin\": true, \"gridcolor\": \"white\", \"linecolor\": \"white\", \"ticks\": \"\", \"title\": {\"standoff\": 15}, \"zerolinecolor\": \"white\", \"zerolinewidth\": 2}, \"yaxis\": {\"automargin\": true, \"gridcolor\": \"white\", \"linecolor\": \"white\", \"ticks\": \"\", \"title\": {\"standoff\": 15}, \"zerolinecolor\": \"white\", \"zerolinewidth\": 2}}}, \"title\": {\"text\": \"Cumulative Covid-19 deaths (bubble size = population size)\"}, \"xaxis\": {\"anchor\": \"y\", \"domain\": [0.0, 1.0], \"title\": {\"text\": \"Number of days since at least 1 death per million of population\"}}, \"yaxis\": {\"anchor\": \"x\", \"domain\": [0.0, 1.0], \"title\": {\"text\": \"Log of deaths due to Covid-19 per million population\"}, \"type\": \"log\"}},\n",
       "                        {\"responsive\": true}\n",
       "                    ).then(function(){\n",
       "                            \n",
       "var gd = document.getElementById('dc720263-073e-4057-8aa7-60f2048c3647');\n",
       "var x = new MutationObserver(function (mutations, observer) {{\n",
       "        var display = window.getComputedStyle(gd).display;\n",
       "        if (!display || display === 'none') {{\n",
       "            console.log([gd, 'removed!']);\n",
       "            Plotly.purge(gd);\n",
       "            observer.disconnect();\n",
       "        }}\n",
       "}});\n",
       "\n",
       "// Listen for the removal of the full notebook cells\n",
       "var notebookContainer = gd.closest('#notebook-container');\n",
       "if (notebookContainer) {{\n",
       "    x.observe(notebookContainer, {childList: true});\n",
       "}}\n",
       "\n",
       "// Listen for the clearing of the current output cell\n",
       "var outputEl = gd.closest('.output');\n",
       "if (outputEl) {{\n",
       "    x.observe(outputEl, {childList: true});\n",
       "}}\n",
       "\n",
       "                        })\n",
       "                };\n",
       "                });\n",
       "            </script>\n",
       "        </div>"
      ]
     },
     "metadata": {},
     "output_type": "display_data"
    }
   ],
   "source": [
    "#Figure showing death rates\n",
    "fig = px.scatter(Cumulative_deaths, x=\"Day\", y=\"Dead_per_million\", \n",
    "                 color='Country',\n",
    "                 color_discrete_sequence=px.colors.qualitative.Dark24,\n",
    "                 log_y=True,\n",
    "                 #text=\"Country\",\n",
    "                 size='popData2018')\n",
    "\n",
    "fig.update_layout(\n",
    "    title_text='Cumulative Covid-19 deaths (bubble size = population size)',\n",
    "    xaxis_title=\"Number of days since at least 1 death per million of population\",\n",
    "    yaxis_title=\"Log of deaths due to Covid-19 per million population\"\n",
    ")\n",
    "    \n",
    "fig.show()"
   ]
  },
  {
   "cell_type": "code",
   "execution_count": 16,
   "metadata": {},
   "outputs": [],
   "source": [
    "#Merge to hospital data set\n",
    "\n",
    "#Wouldn't merge, so checked the encoding and had to replace following instructions form\n",
    "#https://stackoverflow.com/questions/39582984/pandas-merging-on-string-columns-not-working-bug\n",
    "hospital_beds.Country = hospital_beds.Country.str.replace('\\xa0','')\n",
    "\n",
    "Cumulative_deaths = Cumulative_deaths.merge(hospital_beds, on='Country',how='left')\n",
    "#Cumulative_deaths.dropna()"
   ]
  },
  {
   "cell_type": "code",
   "execution_count": 20,
   "metadata": {},
   "outputs": [
    {
     "data": {
      "application/vnd.plotly.v1+json": {
       "config": {
        "plotlyServerURL": "https://plot.ly"
       },
       "data": [
        {
         "hovertemplate": "<b>%{hovertext}</b><br><br>Continent=Oceania<br>Day=1<br>Hospital_beds_per100_2017=%{x}<br>Dead_per_million=%{y}<br>popData2018=%{marker.size}<extra></extra>",
         "hovertext": [
          "Australia"
         ],
         "ids": [
          "Australia"
         ],
         "legendgroup": "Oceania",
         "marker": {
          "color": "#636efa",
          "size": [
           24992369
          ],
          "sizemode": "area",
          "sizeref": 460406.6115702479,
          "symbol": "circle"
         },
         "mode": "markers",
         "name": "Oceania",
         "showlegend": true,
         "type": "scatter",
         "x": [
          3.84
         ],
         "xaxis": "x",
         "y": [
          1.200366399839887
         ],
         "yaxis": "y"
        },
        {
         "hovertemplate": "<b>%{hovertext}</b><br><br>Continent=Europe<br>Day=1<br>Hospital_beds_per100_2017=%{x}<br>Dead_per_million=%{y}<br>popData2018=%{marker.size}<extra></extra>",
         "hovertext": [
          "Austria",
          "Belgium",
          "Czech_Republic",
          "Denmark",
          "Estonia",
          "Finland",
          "France",
          "Germany",
          "Greece",
          "Hungary",
          "Iceland",
          "Ireland",
          "Italy",
          "Latvia",
          "Lithuania",
          "Luxembourg",
          "Netherlands",
          "Norway",
          "Poland",
          "Portugal",
          "Russia",
          "Slovakia",
          "Slovenia",
          "Spain",
          "Sweden",
          "Switzerland",
          "Turkey"
         ],
         "ids": [
          "Austria",
          "Belgium",
          "Czech_Republic",
          "Denmark",
          "Estonia",
          "Finland",
          "France",
          "Germany",
          "Greece",
          "Hungary",
          "Iceland",
          "Ireland",
          "Italy",
          "Latvia",
          "Lithuania",
          "Luxembourg",
          "Netherlands",
          "Norway",
          "Poland",
          "Portugal",
          "Russia",
          "Slovakia",
          "Slovenia",
          "Spain",
          "Sweden",
          "Switzerland",
          "Turkey"
         ],
         "legendgroup": "Europe",
         "marker": {
          "color": "#EF553B",
          "size": [
           8847037,
           11422068,
           10625695,
           5797446,
           1320884,
           5518050,
           66987244,
           82927922,
           10727668,
           9768785,
           353574,
           4853506,
           60431283,
           1926542,
           2789533,
           607728,
           17231017,
           5314336,
           37978548,
           10281762,
           144478050,
           5447011,
           2067372,
           46723749,
           10183175,
           8516543,
           82319724
          ],
          "sizemode": "area",
          "sizeref": 460406.6115702479,
          "symbol": "circle"
         },
         "mode": "markers",
         "name": "Europe",
         "showlegend": true,
         "type": "scatter",
         "x": [
          7.37,
          5.76,
          6.63,
          2.61,
          4.69,
          3.28,
          5.98,
          8,
          4.21,
          7.02,
          3.06,
          2.96,
          3.18,
          5.57,
          6.56,
          4.66,
          3.32,
          3.6,
          6.62,
          3.39,
          8.05,
          5.82,
          4.5,
          2.97,
          2.22,
          4.53,
          2.81
         ],
         "xaxis": "x",
         "y": [
          1.8085150994621135,
          1.225697483152788,
          1.035226401661256,
          1.0349384884309403,
          2.2712062527822274,
          1.2685640760775998,
          1.17932900777348,
          1.1335144753777866,
          1.2118197543026126,
          1.0236687571688803,
          2.828262259102762,
          1.2362197553685932,
          1.3238176657609602,
          1.0381294568195243,
          1.433931772809284,
          1.6454729747518626,
          1.1606975955046646,
          1.1290215748496144,
          1.1322181142891508,
          1.1671151306556211,
          1.0243770593526145,
          1.1015215500758122,
          1.4511176508146575,
          1.005912432240829,
          1.5712191924424357,
          1.2916038819976603,
          1.1175936401341675
         ],
         "yaxis": "y"
        },
        {
         "hovertemplate": "<b>%{hovertext}</b><br><br>Continent=North America<br>Day=1<br>Hospital_beds_per100_2017=%{x}<br>Dead_per_million=%{y}<br>popData2018=%{marker.size}<extra></extra>",
         "hovertext": [
          "Canada",
          "Mexico",
          "USA"
         ],
         "ids": [
          "Canada",
          "Mexico",
          "USA"
         ],
         "legendgroup": "North America",
         "marker": {
          "color": "#00cc96",
          "size": [
           37058856,
           126190788,
           327167434
          ],
          "sizemode": "area",
          "sizeref": 460406.6115702479,
          "symbol": "circle"
         },
         "mode": "markers",
         "name": "North America",
         "showlegend": true,
         "type": "scatter",
         "x": [
          2.52,
          1.38,
          2.77
         ],
         "xaxis": "x",
         "y": [
          1.0523800302955926,
          1.1173557296432763,
          1.039223237603777
         ],
         "yaxis": "y"
        },
        {
         "hovertemplate": "<b>%{hovertext}</b><br><br>Continent=Asia<br>Day=1<br>Hospital_beds_per100_2017=%{x}<br>Dead_per_million=%{y}<br>popData2018=%{marker.size}<extra></extra>",
         "hovertext": [
          "China",
          "Japan",
          "South_Korea"
         ],
         "ids": [
          "China",
          "Japan",
          "South_Korea"
         ],
         "legendgroup": "Asia",
         "marker": {
          "color": "#ab63fa",
          "size": [
           1392730000,
           126529100,
           51635256
          ],
          "sizemode": "area",
          "sizeref": 460406.6115702479,
          "symbol": "circle"
         },
         "mode": "markers",
         "name": "Asia",
         "showlegend": true,
         "type": "scatter",
         "x": [
          4.34,
          13.05,
          12.27
         ],
         "xaxis": "x",
         "y": [
          1.0942537318791152,
          1.0748515558871439,
          1.0457970809711876
         ],
         "yaxis": "y"
        }
       ],
       "frames": [
        {
         "data": [
          {
           "hovertemplate": "<b>%{hovertext}</b><br><br>Continent=Oceania<br>Day=1<br>Hospital_beds_per100_2017=%{x}<br>Dead_per_million=%{y}<br>popData2018=%{marker.size}<extra></extra>",
           "hovertext": [
            "Australia"
           ],
           "ids": [
            "Australia"
           ],
           "legendgroup": "Oceania",
           "marker": {
            "color": "#636efa",
            "size": [
             24992369
            ],
            "sizemode": "area",
            "sizeref": 460406.6115702479,
            "symbol": "circle"
           },
           "mode": "markers",
           "name": "Oceania",
           "showlegend": true,
           "type": "scatter",
           "x": [
            3.84
           ],
           "xaxis": "x",
           "y": [
            1.200366399839887
           ],
           "yaxis": "y"
          },
          {
           "hovertemplate": "<b>%{hovertext}</b><br><br>Continent=Europe<br>Day=1<br>Hospital_beds_per100_2017=%{x}<br>Dead_per_million=%{y}<br>popData2018=%{marker.size}<extra></extra>",
           "hovertext": [
            "Austria",
            "Belgium",
            "Czech_Republic",
            "Denmark",
            "Estonia",
            "Finland",
            "France",
            "Germany",
            "Greece",
            "Hungary",
            "Iceland",
            "Ireland",
            "Italy",
            "Latvia",
            "Lithuania",
            "Luxembourg",
            "Netherlands",
            "Norway",
            "Poland",
            "Portugal",
            "Russia",
            "Slovakia",
            "Slovenia",
            "Spain",
            "Sweden",
            "Switzerland",
            "Turkey"
           ],
           "ids": [
            "Austria",
            "Belgium",
            "Czech_Republic",
            "Denmark",
            "Estonia",
            "Finland",
            "France",
            "Germany",
            "Greece",
            "Hungary",
            "Iceland",
            "Ireland",
            "Italy",
            "Latvia",
            "Lithuania",
            "Luxembourg",
            "Netherlands",
            "Norway",
            "Poland",
            "Portugal",
            "Russia",
            "Slovakia",
            "Slovenia",
            "Spain",
            "Sweden",
            "Switzerland",
            "Turkey"
           ],
           "legendgroup": "Europe",
           "marker": {
            "color": "#EF553B",
            "size": [
             8847037,
             11422068,
             10625695,
             5797446,
             1320884,
             5518050,
             66987244,
             82927922,
             10727668,
             9768785,
             353574,
             4853506,
             60431283,
             1926542,
             2789533,
             607728,
             17231017,
             5314336,
             37978548,
             10281762,
             144478050,
             5447011,
             2067372,
             46723749,
             10183175,
             8516543,
             82319724
            ],
            "sizemode": "area",
            "sizeref": 460406.6115702479,
            "symbol": "circle"
           },
           "mode": "markers",
           "name": "Europe",
           "showlegend": true,
           "type": "scatter",
           "x": [
            7.37,
            5.76,
            6.63,
            2.61,
            4.69,
            3.28,
            5.98,
            8,
            4.21,
            7.02,
            3.06,
            2.96,
            3.18,
            5.57,
            6.56,
            4.66,
            3.32,
            3.6,
            6.62,
            3.39,
            8.05,
            5.82,
            4.5,
            2.97,
            2.22,
            4.53,
            2.81
           ],
           "xaxis": "x",
           "y": [
            1.8085150994621135,
            1.225697483152788,
            1.035226401661256,
            1.0349384884309403,
            2.2712062527822274,
            1.2685640760775998,
            1.17932900777348,
            1.1335144753777866,
            1.2118197543026126,
            1.0236687571688803,
            2.828262259102762,
            1.2362197553685932,
            1.3238176657609602,
            1.0381294568195243,
            1.433931772809284,
            1.6454729747518626,
            1.1606975955046646,
            1.1290215748496144,
            1.1322181142891508,
            1.1671151306556211,
            1.0243770593526145,
            1.1015215500758122,
            1.4511176508146575,
            1.005912432240829,
            1.5712191924424357,
            1.2916038819976603,
            1.1175936401341675
           ],
           "yaxis": "y"
          },
          {
           "hovertemplate": "<b>%{hovertext}</b><br><br>Continent=North America<br>Day=1<br>Hospital_beds_per100_2017=%{x}<br>Dead_per_million=%{y}<br>popData2018=%{marker.size}<extra></extra>",
           "hovertext": [
            "Canada",
            "Mexico",
            "USA"
           ],
           "ids": [
            "Canada",
            "Mexico",
            "USA"
           ],
           "legendgroup": "North America",
           "marker": {
            "color": "#00cc96",
            "size": [
             37058856,
             126190788,
             327167434
            ],
            "sizemode": "area",
            "sizeref": 460406.6115702479,
            "symbol": "circle"
           },
           "mode": "markers",
           "name": "North America",
           "showlegend": true,
           "type": "scatter",
           "x": [
            2.52,
            1.38,
            2.77
           ],
           "xaxis": "x",
           "y": [
            1.0523800302955926,
            1.1173557296432763,
            1.039223237603777
           ],
           "yaxis": "y"
          },
          {
           "hovertemplate": "<b>%{hovertext}</b><br><br>Continent=Asia<br>Day=1<br>Hospital_beds_per100_2017=%{x}<br>Dead_per_million=%{y}<br>popData2018=%{marker.size}<extra></extra>",
           "hovertext": [
            "China",
            "Japan",
            "South_Korea"
           ],
           "ids": [
            "China",
            "Japan",
            "South_Korea"
           ],
           "legendgroup": "Asia",
           "marker": {
            "color": "#ab63fa",
            "size": [
             1392730000,
             126529100,
             51635256
            ],
            "sizemode": "area",
            "sizeref": 460406.6115702479,
            "symbol": "circle"
           },
           "mode": "markers",
           "name": "Asia",
           "showlegend": true,
           "type": "scatter",
           "x": [
            4.34,
            13.05,
            12.27
           ],
           "xaxis": "x",
           "y": [
            1.0942537318791152,
            1.0748515558871439,
            1.0457970809711876
           ],
           "yaxis": "y"
          }
         ],
         "name": "1"
        },
        {
         "data": [
          {
           "hovertemplate": "<b>%{hovertext}</b><br><br>Continent=Oceania<br>Day=2<br>Hospital_beds_per100_2017=%{x}<br>Dead_per_million=%{y}<br>popData2018=%{marker.size}<extra></extra>",
           "hovertext": [
            "Australia"
           ],
           "ids": [
            "Australia"
           ],
           "legendgroup": "Oceania",
           "marker": {
            "color": "#636efa",
            "size": [
             24992369
            ],
            "sizemode": "area",
            "sizeref": 460406.6115702479,
            "symbol": "circle"
           },
           "mode": "markers",
           "name": "Oceania",
           "showlegend": true,
           "type": "scatter",
           "x": [
            3.84
           ],
           "xaxis": "x",
           "y": [
            1.360415253151872
           ],
           "yaxis": "y"
          },
          {
           "hovertemplate": "<b>%{hovertext}</b><br><br>Continent=Europe<br>Day=2<br>Hospital_beds_per100_2017=%{x}<br>Dead_per_million=%{y}<br>popData2018=%{marker.size}<extra></extra>",
           "hovertext": [
            "Austria",
            "Belgium",
            "Czech_Republic",
            "Denmark",
            "Estonia",
            "Finland",
            "France",
            "Germany",
            "Greece",
            "Hungary",
            "Iceland",
            "Ireland",
            "Italy",
            "Latvia",
            "Lithuania",
            "Luxembourg",
            "Netherlands",
            "Norway",
            "Poland",
            "Portugal",
            "Russia",
            "Slovakia",
            "Slovenia",
            "Spain",
            "Sweden",
            "Switzerland",
            "Turkey"
           ],
           "ids": [
            "Austria",
            "Belgium",
            "Czech_Republic",
            "Denmark",
            "Estonia",
            "Finland",
            "France",
            "Germany",
            "Greece",
            "Hungary",
            "Iceland",
            "Ireland",
            "Italy",
            "Latvia",
            "Lithuania",
            "Luxembourg",
            "Netherlands",
            "Norway",
            "Poland",
            "Portugal",
            "Russia",
            "Slovakia",
            "Slovenia",
            "Spain",
            "Sweden",
            "Switzerland",
            "Turkey"
           ],
           "legendgroup": "Europe",
           "marker": {
            "color": "#EF553B",
            "size": [
             8847037,
             11422068,
             10625695,
             5797446,
             1320884,
             5518050,
             66987244,
             82927922,
             10727668,
             9768785,
             353574,
             4853506,
             60431283,
             1926542,
             2789533,
             607728,
             17231017,
             5314336,
             37978548,
             10281762,
             144478050,
             5447011,
             2067372,
             46723749,
             10183175,
             8516543,
             82319724
            ],
            "sizemode": "area",
            "sizeref": 460406.6115702479,
            "symbol": "circle"
           },
           "mode": "markers",
           "name": "Europe",
           "showlegend": true,
           "type": "scatter",
           "x": [
            7.37,
            5.76,
            6.63,
            2.61,
            4.69,
            3.28,
            5.98,
            8,
            4.21,
            7.02,
            3.06,
            2.96,
            3.18,
            5.57,
            6.56,
            4.66,
            3.32,
            3.6,
            6.62,
            3.39,
            8.05,
            5.82,
            4.5,
            2.97,
            2.22,
            4.53,
            2.81
           ],
           "xaxis": "x",
           "y": [
            2.8258048429095526,
            1.8385462247291822,
            1.505783856961827,
            1.55240773264641,
            2.2712062527822274,
            1.631010954956914,
            1.3584675912327426,
            1.5193917435915012,
            1.3982535626568608,
            1.0236687571688803,
            2.828262259102762,
            1.4422563812633589,
            1.7706061279552843,
            1.0381294568195243,
            1.433931772809284,
            1.6454729747518626,
            1.3928371146055976,
            1.31719183732455,
            1.5008472677786417,
            1.3616343190982245,
            1.176649324932057,
            1.468695400101083,
            1.9348235344195432,
            1.7978009427282902,
            1.9640239905530446,
            1.5264409514517805,
            1.311957751461849
           ],
           "yaxis": "y"
          },
          {
           "hovertemplate": "<b>%{hovertext}</b><br><br>Continent=North America<br>Day=2<br>Hospital_beds_per100_2017=%{x}<br>Dead_per_million=%{y}<br>popData2018=%{marker.size}<extra></extra>",
           "hovertext": [
            "Canada",
            "Mexico",
            "USA"
           ],
           "ids": [
            "Canada",
            "Mexico",
            "USA"
           ],
           "legendgroup": "North America",
           "marker": {
            "color": "#00cc96",
            "size": [
             37058856,
             126190788,
             327167434
            ],
            "sizemode": "area",
            "sizeref": 460406.6115702479,
            "symbol": "circle"
           },
           "mode": "markers",
           "name": "North America",
           "showlegend": true,
           "type": "scatter",
           "x": [
            2.52,
            1.38,
            2.77
           ],
           "xaxis": "x",
           "y": [
            1.4301574770683692,
            1.3788645174321281,
            1.4396298379746437
           ],
           "yaxis": "y"
          },
          {
           "hovertemplate": "<b>%{hovertext}</b><br><br>Continent=Asia<br>Day=2<br>Hospital_beds_per100_2017=%{x}<br>Dead_per_million=%{y}<br>popData2018=%{marker.size}<extra></extra>",
           "hovertext": [
            "China",
            "Japan",
            "South_Korea"
           ],
           "ids": [
            "China",
            "Japan",
            "South_Korea"
           ],
           "legendgroup": "Asia",
           "marker": {
            "color": "#ab63fa",
            "size": [
             1392730000,
             126529100,
             51635256
            ],
            "sizemode": "area",
            "sizeref": 460406.6115702479,
            "symbol": "circle"
           },
           "mode": "markers",
           "name": "Asia",
           "showlegend": true,
           "type": "scatter",
           "x": [
            4.34,
            13.05,
            12.27
           ],
           "xaxis": "x",
           "y": [
            1.1962117567654895,
            1.1696913990536564,
            1.161996756634653
           ],
           "yaxis": "y"
          }
         ],
         "name": "2"
        },
        {
         "data": [
          {
           "hovertemplate": "<b>%{hovertext}</b><br><br>Continent=Oceania<br>Day=3<br>Hospital_beds_per100_2017=%{x}<br>Dead_per_million=%{y}<br>popData2018=%{marker.size}<extra></extra>",
           "hovertext": [
            "Australia"
           ],
           "ids": [
            "Australia"
           ],
           "legendgroup": "Oceania",
           "marker": {
            "color": "#636efa",
            "size": [
             24992369
            ],
            "sizemode": "area",
            "sizeref": 460406.6115702479,
            "symbol": "circle"
           },
           "mode": "markers",
           "name": "Oceania",
           "showlegend": true,
           "type": "scatter",
           "x": [
            3.84
           ],
           "xaxis": "x",
           "y": [
            1.4404396798078645
           ],
           "yaxis": "y"
          },
          {
           "hovertemplate": "<b>%{hovertext}</b><br><br>Continent=Europe<br>Day=3<br>Hospital_beds_per100_2017=%{x}<br>Dead_per_million=%{y}<br>popData2018=%{marker.size}<extra></extra>",
           "hovertext": [
            "Austria",
            "Belgium",
            "Czech_Republic",
            "Denmark",
            "Estonia",
            "Finland",
            "France",
            "Germany",
            "Greece",
            "Hungary",
            "Iceland",
            "Ireland",
            "Italy",
            "Latvia",
            "Lithuania",
            "Luxembourg",
            "Netherlands",
            "Norway",
            "Poland",
            "Portugal",
            "Russia",
            "Slovakia",
            "Slovenia",
            "Spain",
            "Sweden",
            "Switzerland",
            "Turkey"
           ],
           "ids": [
            "Austria",
            "Belgium",
            "Czech_Republic",
            "Denmark",
            "Estonia",
            "Finland",
            "France",
            "Germany",
            "Greece",
            "Hungary",
            "Iceland",
            "Ireland",
            "Italy",
            "Latvia",
            "Lithuania",
            "Luxembourg",
            "Netherlands",
            "Norway",
            "Poland",
            "Portugal",
            "Russia",
            "Slovakia",
            "Slovenia",
            "Spain",
            "Sweden",
            "Switzerland",
            "Turkey"
           ],
           "legendgroup": "Europe",
           "marker": {
            "color": "#EF553B",
            "size": [
             8847037,
             11422068,
             10625695,
             5797446,
             1320884,
             5518050,
             66987244,
             82927922,
             10727668,
             9768785,
             353574,
             4853506,
             60431283,
             1926542,
             2789533,
             607728,
             17231017,
             5314336,
             37978548,
             10281762,
             144478050,
             5447011,
             2067372,
             46723749,
             10183175,
             8516543,
             82319724
            ],
            "sizemode": "area",
            "sizeref": 460406.6115702479,
            "symbol": "circle"
           },
           "mode": "markers",
           "name": "Europe",
           "showlegend": true,
           "type": "scatter",
           "x": [
            7.37,
            5.76,
            6.63,
            2.61,
            4.69,
            3.28,
            5.98,
            8,
            4.21,
            7.02,
            3.06,
            2.96,
            3.18,
            5.57,
            6.56,
            4.66,
            3.32,
            3.6,
            6.62,
            3.39,
            8.05,
            5.82,
            4.5,
            2.97,
            2.22,
            4.53,
            2.81
           ],
           "xaxis": "x",
           "y": [
            3.3909658114914634,
            3.2393433483323686,
            2.2586757854427404,
            2.2423667249337034,
            3.028275003709637,
            1.9934578338362285,
            1.8958833416105312,
            1.7967410301201086,
            1.584687371011109,
            1.0236687571688803,
            2.828262259102762,
            1.85432963305289,
            2.4490626816577765,
            1.0381294568195243,
            1.7924147160116048,
            1.6454729747518626,
            2.4954998303350293,
            1.31719183732455,
            1.8694764212681327,
            2.2369706670899405,
            1.3704503902149843,
            1.6522823251137184,
            2.4185294180244292,
            2.5896894532157515,
            2.0622251900806967,
            1.6438594861788405,
            1.5913561614953908
           ],
           "yaxis": "y"
          },
          {
           "hovertemplate": "<b>%{hovertext}</b><br><br>Continent=North America<br>Day=3<br>Hospital_beds_per100_2017=%{x}<br>Dead_per_million=%{y}<br>popData2018=%{marker.size}<extra></extra>",
           "hovertext": [
            "Canada",
            "Mexico",
            "USA"
           ],
           "ids": [
            "Canada",
            "Mexico",
            "USA"
           ],
           "legendgroup": "North America",
           "marker": {
            "color": "#00cc96",
            "size": [
             37058856,
             126190788,
             327167434
            ],
            "sizemode": "area",
            "sizeref": 460406.6115702479,
            "symbol": "circle"
           },
           "mode": "markers",
           "name": "North America",
           "showlegend": true,
           "type": "scatter",
           "x": [
            2.52,
            1.38,
            2.77
           ],
           "xaxis": "x",
           "y": [
            1.6190462004547577,
            1.5373546918496142,
            1.8033579711359657
           ],
           "yaxis": "y"
          },
          {
           "hovertemplate": "<b>%{hovertext}</b><br><br>Continent=Asia<br>Day=3<br>Hospital_beds_per100_2017=%{x}<br>Dead_per_million=%{y}<br>popData2018=%{marker.size}<extra></extra>",
           "hovertext": [
            "China",
            "Japan",
            "South_Korea"
           ],
           "ids": [
            "China",
            "Japan",
            "South_Korea"
           ],
           "legendgroup": "Asia",
           "marker": {
            "color": "#ab63fa",
            "size": [
             1392730000,
             126529100,
             51635256
            ],
            "sizemode": "area",
            "sizeref": 460406.6115702479,
            "symbol": "circle"
           },
           "mode": "markers",
           "name": "Asia",
           "showlegend": true,
           "type": "scatter",
           "x": [
            4.34,
            13.05,
            12.27
           ],
           "xaxis": "x",
           "y": [
            1.2716032540406252,
            1.2171113206369129,
            1.2781964322981183
           ],
           "yaxis": "y"
          }
         ],
         "name": "3"
        },
        {
         "data": [
          {
           "hovertemplate": "<b>%{hovertext}</b><br><br>Continent=Oceania<br>Day=4<br>Hospital_beds_per100_2017=%{x}<br>Dead_per_million=%{y}<br>popData2018=%{marker.size}<extra></extra>",
           "hovertext": [
            "Australia"
           ],
           "ids": [
            "Australia"
           ],
           "legendgroup": "Oceania",
           "marker": {
            "color": "#636efa",
            "size": [
             24992369
            ],
            "sizemode": "area",
            "sizeref": 460406.6115702479,
            "symbol": "circle"
           },
           "mode": "markers",
           "name": "Oceania",
           "showlegend": true,
           "type": "scatter",
           "x": [
            3.84
           ],
           "xaxis": "x",
           "y": [
            1.680512959775842
           ],
           "yaxis": "y"
          },
          {
           "hovertemplate": "<b>%{hovertext}</b><br><br>Continent=Europe<br>Day=4<br>Hospital_beds_per100_2017=%{x}<br>Dead_per_million=%{y}<br>popData2018=%{marker.size}<extra></extra>",
           "hovertext": [
            "Austria",
            "Belgium",
            "Czech_Republic",
            "Denmark",
            "Estonia",
            "Finland",
            "France",
            "Germany",
            "Greece",
            "Hungary",
            "Iceland",
            "Ireland",
            "Italy",
            "Latvia",
            "Lithuania",
            "Luxembourg",
            "Netherlands",
            "Norway",
            "Poland",
            "Portugal",
            "Russia",
            "Slovakia",
            "Slovenia",
            "Spain",
            "Sweden",
            "Switzerland",
            "Turkey"
           ],
           "ids": [
            "Austria",
            "Belgium",
            "Czech_Republic",
            "Denmark",
            "Estonia",
            "Finland",
            "France",
            "Germany",
            "Greece",
            "Hungary",
            "Iceland",
            "Ireland",
            "Italy",
            "Latvia",
            "Lithuania",
            "Luxembourg",
            "Netherlands",
            "Norway",
            "Poland",
            "Portugal",
            "Russia",
            "Slovakia",
            "Slovenia",
            "Spain",
            "Sweden",
            "Switzerland",
            "Turkey"
           ],
           "legendgroup": "Europe",
           "marker": {
            "color": "#EF553B",
            "size": [
             8847037,
             11422068,
             10625695,
             5797446,
             1320884,
             5518050,
             66987244,
             82927922,
             10727668,
             9768785,
             353574,
             4853506,
             60431283,
             1926542,
             2789533,
             607728,
             17231017,
             5314336,
             37978548,
             10281762,
             144478050,
             5447011,
             2067372,
             46723749,
             10183175,
             8516543,
             82319724
            ],
            "sizemode": "area",
            "sizeref": 460406.6115702479,
            "symbol": "circle"
           },
           "mode": "markers",
           "name": "Europe",
           "showlegend": true,
           "type": "scatter",
           "x": [
            7.37,
            5.76,
            6.63,
            2.61,
            4.69,
            3.28,
            5.98,
            8,
            4.21,
            7.02,
            3.06,
            2.96,
            3.18,
            5.57,
            6.56,
            4.66,
            3.32,
            3.6,
            6.62,
            3.39,
            8.05,
            5.82,
            4.5,
            2.97,
            2.22,
            4.53,
            2.81
           ],
           "xaxis": "x",
           "y": [
            3.8430945863569916,
            5.8658379550883435,
            2.9174562228635397,
            2.2423667249337034,
            3.785343754637046,
            2.3559047127155424,
            2.209375862664241,
            2.387615597072359,
            1.864338083542481,
            1.1260356328857684,
            2.828262259102762,
            3.9146958920005455,
            3.2599010019363646,
            1.0381294568195243,
            2.5093806024162464,
            1.6454729747518626,
            3.3660230269635276,
            1.31719183732455,
            2.080121651833556,
            3.209566609302958,
            1.6057802552013956,
            2.019456175138989,
            4.353352952443973,
            2.910725335845803,
            2.455029988191306,
            2.230952159814141,
            2.040823168940654
           ],
           "yaxis": "y"
          },
          {
           "hovertemplate": "<b>%{hovertext}</b><br><br>Continent=North America<br>Day=4<br>Hospital_beds_per100_2017=%{x}<br>Dead_per_million=%{y}<br>popData2018=%{marker.size}<extra></extra>",
           "hovertext": [
            "Canada",
            "Mexico",
            "USA"
           ],
           "ids": [
            "Canada",
            "Mexico",
            "USA"
           ],
           "legendgroup": "North America",
           "marker": {
            "color": "#00cc96",
            "size": [
             37058856,
             126190788,
             327167434
            ],
            "sizemode": "area",
            "sizeref": 460406.6115702479,
            "symbol": "circle"
           },
           "mode": "markers",
           "name": "North America",
           "showlegend": true,
           "type": "scatter",
           "x": [
            2.52,
            1.38,
            2.77
           ],
           "xaxis": "x",
           "y": [
            1.6460303037956703,
            1.8464105319637119,
            2.448287686237133
           ],
           "yaxis": "y"
          },
          {
           "hovertemplate": "<b>%{hovertext}</b><br><br>Continent=Asia<br>Day=4<br>Hospital_beds_per100_2017=%{x}<br>Dead_per_million=%{y}<br>popData2018=%{marker.size}<extra></extra>",
           "hovertext": [
            "China",
            "Japan",
            "South_Korea"
           ],
           "ids": [
            "China",
            "Japan",
            "South_Korea"
           ],
           "legendgroup": "Asia",
           "marker": {
            "color": "#ab63fa",
            "size": [
             1392730000,
             126529100,
             51635256
            ],
            "sizemode": "area",
            "sizeref": 460406.6115702479,
            "symbol": "circle"
           },
           "mode": "markers",
           "name": "Asia",
           "showlegend": true,
           "type": "scatter",
           "x": [
            4.34,
            13.05,
            12.27
           ],
           "xaxis": "x",
           "y": [
            1.3419686514974187,
            1.2724345624840452,
            1.2975630449086957
           ],
           "yaxis": "y"
          }
         ],
         "name": "4"
        },
        {
         "data": [
          {
           "hovertemplate": "<b>%{hovertext}</b><br><br>Continent=Oceania<br>Day=5<br>Hospital_beds_per100_2017=%{x}<br>Dead_per_million=%{y}<br>popData2018=%{marker.size}<extra></extra>",
           "hovertext": [
            "Australia"
           ],
           "ids": [
            "Australia"
           ],
           "legendgroup": "Oceania",
           "marker": {
            "color": "#636efa",
            "size": [
             24992369
            ],
            "sizemode": "area",
            "sizeref": 460406.6115702479,
            "symbol": "circle"
           },
           "mode": "markers",
           "name": "Oceania",
           "showlegend": true,
           "type": "scatter",
           "x": [
            3.84
           ],
           "xaxis": "x",
           "y": [
            1.8005495997598306
           ],
           "yaxis": "y"
          },
          {
           "hovertemplate": "<b>%{hovertext}</b><br><br>Continent=Europe<br>Day=5<br>Hospital_beds_per100_2017=%{x}<br>Dead_per_million=%{y}<br>popData2018=%{marker.size}<extra></extra>",
           "hovertext": [
            "Austria",
            "Belgium",
            "Czech_Republic",
            "Denmark",
            "Estonia",
            "Finland",
            "France",
            "Germany",
            "Greece",
            "Hungary",
            "Iceland",
            "Ireland",
            "Italy",
            "Latvia",
            "Lithuania",
            "Luxembourg",
            "Netherlands",
            "Norway",
            "Poland",
            "Portugal",
            "Russia",
            "Slovakia",
            "Slovenia",
            "Spain",
            "Sweden",
            "Switzerland",
            "Turkey"
           ],
           "ids": [
            "Austria",
            "Belgium",
            "Czech_Republic",
            "Denmark",
            "Estonia",
            "Finland",
            "France",
            "Germany",
            "Greece",
            "Hungary",
            "Iceland",
            "Ireland",
            "Italy",
            "Latvia",
            "Lithuania",
            "Luxembourg",
            "Netherlands",
            "Norway",
            "Poland",
            "Portugal",
            "Russia",
            "Slovakia",
            "Slovenia",
            "Spain",
            "Sweden",
            "Switzerland",
            "Turkey"
           ],
           "legendgroup": "Europe",
           "marker": {
            "color": "#EF553B",
            "size": [
             8847037,
             11422068,
             10625695,
             5797446,
             1320884,
             5518050,
             66987244,
             82927922,
             10727668,
             9768785,
             353574,
             4853506,
             60431283,
             1926542,
             2789533,
             607728,
             17231017,
             5314336,
             37978548,
             10281762,
             144478050,
             5447011,
             2067372,
             46723749,
             10183175,
             8516543,
             82319724
            ],
            "sizemode": "area",
            "sizeref": 460406.6115702479,
            "symbol": "circle"
           },
           "mode": "markers",
           "name": "Europe",
           "showlegend": true,
           "type": "scatter",
           "x": [
            7.37,
            5.76,
            6.63,
            2.61,
            4.69,
            3.28,
            5.98,
            8,
            4.21,
            7.02,
            3.06,
            2.96,
            3.18,
            5.57,
            6.56,
            4.66,
            3.32,
            3.6,
            6.62,
            3.39,
            8.05,
            5.82,
            4.5,
            2.97,
            2.22,
            4.53,
            2.81
           ],
           "xaxis": "x",
           "y": [
            5.877674073251869,
            6.566236516889936,
            3.670348151344453,
            4.139753953723761,
            8.3277562602015,
            3.0807984704741713,
            2.612437675447582,
            3.0508421518146807,
            2.050771891896729,
            1.3307693843195443,
            5.656524518205524,
            4.532805769684843,
            3.8556189515287964,
            1.5571941852292863,
            2.5093806024162464,
            3.290945949503725,
            4.410650862917725,
            1.5053620997994857,
            2.475081459143725,
            4.182162551515976,
            1.8895603865085389,
            2.2030431001516244,
            4.353352952443973,
            6.163888946496995,
            3.5352431829954805,
            2.465789229268261,
            2.5996199890077376
           ],
           "yaxis": "y"
          },
          {
           "hovertemplate": "<b>%{hovertext}</b><br><br>Continent=North America<br>Day=5<br>Hospital_beds_per100_2017=%{x}<br>Dead_per_million=%{y}<br>popData2018=%{marker.size}<extra></extra>",
           "hovertext": [
            "Canada",
            "Mexico",
            "USA"
           ],
           "ids": [
            "Canada",
            "Mexico",
            "USA"
           ],
           "legendgroup": "North America",
           "marker": {
            "color": "#00cc96",
            "size": [
             37058856,
             126190788,
             327167434
            ],
            "sizemode": "area",
            "sizeref": 460406.6115702479,
            "symbol": "circle"
           },
           "mode": "markers",
           "name": "North America",
           "showlegend": true,
           "type": "scatter",
           "x": [
            2.52,
            1.38,
            2.77
           ],
           "xaxis": "x",
           "y": [
            2.4015851973412237,
            2.1633908807986844,
            3.2093658808351937
           ],
           "yaxis": "y"
          },
          {
           "hovertemplate": "<b>%{hovertext}</b><br><br>Continent=Asia<br>Day=5<br>Hospital_beds_per100_2017=%{x}<br>Dead_per_million=%{y}<br>popData2018=%{marker.size}<extra></extra>",
           "hovertext": [
            "China",
            "Japan",
            "South_Korea"
           ],
           "ids": [
            "China",
            "Japan",
            "South_Korea"
           ],
           "legendgroup": "Asia",
           "marker": {
            "color": "#ab63fa",
            "size": [
             1392730000,
             126529100,
             51635256
            ],
            "sizemode": "area",
            "sizeref": 460406.6115702479,
            "symbol": "circle"
           },
           "mode": "markers",
           "name": "Asia",
           "showlegend": true,
           "type": "scatter",
           "x": [
            4.34,
            13.05,
            12.27
           ],
           "xaxis": "x",
           "y": [
            1.4417726336045034,
            1.3514677651228058,
            1.3943961079615834
           ],
           "yaxis": "y"
          }
         ],
         "name": "5"
        },
        {
         "data": [
          {
           "hovertemplate": "<b>%{hovertext}</b><br><br>Continent=Oceania<br>Day=6<br>Hospital_beds_per100_2017=%{x}<br>Dead_per_million=%{y}<br>popData2018=%{marker.size}<extra></extra>",
           "hovertext": [
            "Australia"
           ],
           "ids": [
            "Australia"
           ],
           "legendgroup": "Oceania",
           "marker": {
            "color": "#636efa",
            "size": [
             24992369
            ],
            "sizemode": "area",
            "sizeref": 460406.6115702479,
            "symbol": "circle"
           },
           "mode": "markers",
           "name": "Oceania",
           "showlegend": true,
           "type": "scatter",
           "x": [
            3.84
           ],
           "xaxis": "x",
           "y": [
            2.0006106663998118
           ],
           "yaxis": "y"
          },
          {
           "hovertemplate": "<b>%{hovertext}</b><br><br>Continent=Europe<br>Day=6<br>Hospital_beds_per100_2017=%{x}<br>Dead_per_million=%{y}<br>popData2018=%{marker.size}<extra></extra>",
           "hovertext": [
            "Austria",
            "Belgium",
            "Czech_Republic",
            "Denmark",
            "Estonia",
            "Finland",
            "France",
            "Germany",
            "Greece",
            "Hungary",
            "Iceland",
            "Ireland",
            "Italy",
            "Latvia",
            "Lithuania",
            "Luxembourg",
            "Netherlands",
            "Norway",
            "Poland",
            "Portugal",
            "Russia",
            "Slovenia",
            "Spain",
            "Sweden",
            "Switzerland",
            "Turkey"
           ],
           "ids": [
            "Austria",
            "Belgium",
            "Czech_Republic",
            "Denmark",
            "Estonia",
            "Finland",
            "France",
            "Germany",
            "Greece",
            "Hungary",
            "Iceland",
            "Ireland",
            "Italy",
            "Latvia",
            "Lithuania",
            "Luxembourg",
            "Netherlands",
            "Norway",
            "Poland",
            "Portugal",
            "Russia",
            "Slovenia",
            "Spain",
            "Sweden",
            "Switzerland",
            "Turkey"
           ],
           "legendgroup": "Europe",
           "marker": {
            "color": "#EF553B",
            "size": [
             8847037,
             11422068,
             10625695,
             5797446,
             1320884,
             5518050,
             66987244,
             82927922,
             10727668,
             9768785,
             353574,
             4853506,
             60431283,
             1926542,
             2789533,
             607728,
             17231017,
             5314336,
             37978548,
             10281762,
             144478050,
             2067372,
             46723749,
             10183175,
             8516543,
             82319724
            ],
            "sizemode": "area",
            "sizeref": 460406.6115702479,
            "symbol": "circle"
           },
           "mode": "markers",
           "name": "Europe",
           "showlegend": true,
           "type": "scatter",
           "x": [
            7.37,
            5.76,
            6.63,
            2.61,
            4.69,
            3.28,
            5.98,
            8,
            4.21,
            7.02,
            3.06,
            2.96,
            3.18,
            5.57,
            6.56,
            4.66,
            3.32,
            3.6,
            6.62,
            3.39,
            8.05,
            4.5,
            2.97,
            2.22,
            4.53,
            2.81
           ],
           "xaxis": "x",
           "y": [
            7.686189172713983,
            7.704384179817525,
            4.140905606645024,
            5.519671938298347,
            9.08482501112891,
            3.0807984704741713,
            3.6424845303383435,
            3.9190660052955386,
            2.423639508605225,
            1.5355031357533204,
            5.656524518205524,
            7.41731853221156,
            6.056465820856393,
            2.5953236420488106,
            2.5093806024162464,
            6.58189189900745,
            6.151697256174723,
            1.8817026247493573,
            2.817379958812538,
            5.835575653278106,
            2.1664190511984347,
            5.320764719653744,
            6.613339182179067,
            4.124450380161393,
            3.874811645992981,
            3.3649286773604827
           ],
           "yaxis": "y"
          },
          {
           "hovertemplate": "<b>%{hovertext}</b><br><br>Continent=North America<br>Day=6<br>Hospital_beds_per100_2017=%{x}<br>Dead_per_million=%{y}<br>popData2018=%{marker.size}<extra></extra>",
           "hovertext": [
            "Canada",
            "Mexico",
            "USA"
           ],
           "ids": [
            "Canada",
            "Mexico",
            "USA"
           ],
           "legendgroup": "North America",
           "marker": {
            "color": "#00cc96",
            "size": [
             37058856,
             126190788,
             327167434
            ],
            "sizemode": "area",
            "sizeref": 460406.6115702479,
            "symbol": "circle"
           },
           "mode": "markers",
           "name": "North America",
           "showlegend": true,
           "type": "scatter",
           "x": [
            2.52,
            1.38,
            2.77
           ],
           "xaxis": "x",
           "y": [
            2.590473920727612,
            2.345654581378793,
            3.9612744586308675
           ],
           "yaxis": "y"
          },
          {
           "hovertemplate": "<b>%{hovertext}</b><br><br>Continent=Asia<br>Day=6<br>Hospital_beds_per100_2017=%{x}<br>Dead_per_million=%{y}<br>popData2018=%{marker.size}<extra></extra>",
           "hovertext": [
            "China",
            "South_Korea"
           ],
           "ids": [
            "China",
            "South_Korea"
           ],
           "legendgroup": "Asia",
           "marker": {
            "color": "#ab63fa",
            "size": [
             1392730000,
             51635256
            ],
            "sizemode": "area",
            "sizeref": 460406.6115702479,
            "symbol": "circle"
           },
           "mode": "markers",
           "name": "Asia",
           "showlegend": true,
           "type": "scatter",
           "x": [
            4.34,
            12.27
           ],
           "xaxis": "x",
           "y": [
            1.5221902306979818,
            1.4524959457933162
           ],
           "yaxis": "y"
          }
         ],
         "name": "6"
        },
        {
         "data": [
          {
           "hovertemplate": "<b>%{hovertext}</b><br><br>Continent=Oceania<br>Day=7<br>Hospital_beds_per100_2017=%{x}<br>Dead_per_million=%{y}<br>popData2018=%{marker.size}<extra></extra>",
           "hovertext": [
            "Australia"
           ],
           "ids": [
            "Australia"
           ],
           "legendgroup": "Oceania",
           "marker": {
            "color": "#636efa",
            "size": [
             24992369
            ],
            "sizemode": "area",
            "sizeref": 460406.6115702479,
            "symbol": "circle"
           },
           "mode": "markers",
           "name": "Oceania",
           "showlegend": true,
           "type": "scatter",
           "x": [
            3.84
           ],
           "xaxis": "x",
           "y": [
            2.0806350930558044
           ],
           "yaxis": "y"
          },
          {
           "hovertemplate": "<b>%{hovertext}</b><br><br>Continent=Europe<br>Day=7<br>Hospital_beds_per100_2017=%{x}<br>Dead_per_million=%{y}<br>popData2018=%{marker.size}<extra></extra>",
           "hovertext": [
            "Austria",
            "Belgium",
            "Czech_Republic",
            "Denmark",
            "Estonia",
            "Finland",
            "France",
            "Germany",
            "Greece",
            "Hungary",
            "Iceland",
            "Ireland",
            "Italy",
            "Latvia",
            "Lithuania",
            "Luxembourg",
            "Netherlands",
            "Norway",
            "Poland",
            "Portugal",
            "Russia",
            "Slovenia",
            "Spain",
            "Sweden",
            "Switzerland",
            "Turkey"
           ],
           "ids": [
            "Austria",
            "Belgium",
            "Czech_Republic",
            "Denmark",
            "Estonia",
            "Finland",
            "France",
            "Germany",
            "Greece",
            "Hungary",
            "Iceland",
            "Ireland",
            "Italy",
            "Latvia",
            "Lithuania",
            "Luxembourg",
            "Netherlands",
            "Norway",
            "Poland",
            "Portugal",
            "Russia",
            "Slovenia",
            "Spain",
            "Sweden",
            "Switzerland",
            "Turkey"
           ],
           "legendgroup": "Europe",
           "marker": {
            "color": "#EF553B",
            "size": [
             8847037,
             11422068,
             10625695,
             5797446,
             1320884,
             5518050,
             66987244,
             82927922,
             10727668,
             9768785,
             353574,
             4853506,
             60431283,
             1926542,
             2789533,
             607728,
             17231017,
             5314336,
             37978548,
             10281762,
             144478050,
             2067372,
             46723749,
             10183175,
             8516543,
             82319724
            ],
            "sizemode": "area",
            "sizeref": 460406.6115702479,
            "symbol": "circle"
           },
           "mode": "markers",
           "name": "Europe",
           "showlegend": true,
           "type": "scatter",
           "x": [
            7.37,
            5.76,
            6.63,
            2.61,
            4.69,
            3.28,
            5.98,
            8,
            4.21,
            7.02,
            3.06,
            2.96,
            3.18,
            5.57,
            6.56,
            4.66,
            3.32,
            3.6,
            6.62,
            3.39,
            8.05,
            4.5,
            2.97,
            2.22,
            4.53,
            2.81
           ],
           "xaxis": "x",
           "y": [
            7.686189172713983,
            10.681078067474296,
            4.987909026186052,
            5.864651434441995,
            9.841893762056321,
            3.4432453493534854,
            5.553296087237146,
            4.690820541722968,
            2.6100733169594736,
            1.6378700114702085,
            5.656524518205524,
            9.477684791159215,
            7.67814246141357,
            2.5953236420488106,
            2.5093806024162464,
            8.227364873759313,
            7.89274364943172,
            2.258043149699229,
            3.3966543428674525,
            7.391729160818933,
            2.49864944882631,
            5.320764719653744,
            10.508574558090361,
            6.481279168825047,
            5.048996993263581,
            4.324601477040909
           ],
           "yaxis": "y"
          },
          {
           "hovertemplate": "<b>%{hovertext}</b><br><br>Continent=North America<br>Day=7<br>Hospital_beds_per100_2017=%{x}<br>Dead_per_million=%{y}<br>popData2018=%{marker.size}<extra></extra>",
           "hovertext": [
            "Canada",
            "Mexico",
            "USA"
           ],
           "ids": [
            "Canada",
            "Mexico",
            "USA"
           ],
           "legendgroup": "North America",
           "marker": {
            "color": "#00cc96",
            "size": [
             37058856,
             126190788,
             327167434
            ],
            "sizemode": "area",
            "sizeref": 460406.6115702479,
            "symbol": "circle"
           },
           "mode": "markers",
           "name": "North America",
           "showlegend": true,
           "type": "scatter",
           "x": [
            2.52,
            1.38,
            2.77
           ],
           "xaxis": "x",
           "y": [
            2.9412672641594764,
            2.630936895330268,
            5.217511960557786
           ],
           "yaxis": "y"
          },
          {
           "hovertemplate": "<b>%{hovertext}</b><br><br>Continent=Asia<br>Day=7<br>Hospital_beds_per100_2017=%{x}<br>Dead_per_million=%{y}<br>popData2018=%{marker.size}<extra></extra>",
           "hovertext": [
            "China",
            "South_Korea"
           ],
           "ids": [
            "China",
            "South_Korea"
           ],
           "legendgroup": "Asia",
           "marker": {
            "color": "#ab63fa",
            "size": [
             1392730000,
             51635256
            ],
            "sizemode": "area",
            "sizeref": 460406.6115702479,
            "symbol": "circle"
           },
           "mode": "markers",
           "name": "Asia",
           "showlegend": true,
           "type": "scatter",
           "x": [
            4.34,
            12.27
           ],
           "xaxis": "x",
           "y": [
            1.6069159133500392,
            1.4524959457933162
           ],
           "yaxis": "y"
          }
         ],
         "name": "7"
        },
        {
         "data": [
          {
           "hovertemplate": "<b>%{hovertext}</b><br><br>Continent=Oceania<br>Day=8<br>Hospital_beds_per100_2017=%{x}<br>Dead_per_million=%{y}<br>popData2018=%{marker.size}<extra></extra>",
           "hovertext": [
            "Australia"
           ],
           "ids": [
            "Australia"
           ],
           "legendgroup": "Oceania",
           "marker": {
            "color": "#636efa",
            "size": [
             24992369
            ],
            "sizemode": "area",
            "sizeref": 460406.6115702479,
            "symbol": "circle"
           },
           "mode": "markers",
           "name": "Oceania",
           "showlegend": true,
           "type": "scatter",
           "x": [
            3.84
           ],
           "xaxis": "x",
           "y": [
            2.1606595197117966
           ],
           "yaxis": "y"
          },
          {
           "hovertemplate": "<b>%{hovertext}</b><br><br>Continent=Europe<br>Day=8<br>Hospital_beds_per100_2017=%{x}<br>Dead_per_million=%{y}<br>popData2018=%{marker.size}<extra></extra>",
           "hovertext": [
            "Austria",
            "Belgium",
            "Czech_Republic",
            "Denmark",
            "Estonia",
            "Finland",
            "France",
            "Germany",
            "Greece",
            "Hungary",
            "Iceland",
            "Ireland",
            "Italy",
            "Latvia",
            "Lithuania",
            "Luxembourg",
            "Netherlands",
            "Norway",
            "Poland",
            "Portugal",
            "Slovenia",
            "Spain",
            "Sweden",
            "Switzerland",
            "Turkey"
           ],
           "ids": [
            "Austria",
            "Belgium",
            "Czech_Republic",
            "Denmark",
            "Estonia",
            "Finland",
            "France",
            "Germany",
            "Greece",
            "Hungary",
            "Iceland",
            "Ireland",
            "Italy",
            "Latvia",
            "Lithuania",
            "Luxembourg",
            "Netherlands",
            "Norway",
            "Poland",
            "Portugal",
            "Slovenia",
            "Spain",
            "Sweden",
            "Switzerland",
            "Turkey"
           ],
           "legendgroup": "Europe",
           "marker": {
            "color": "#EF553B",
            "size": [
             8847037,
             11422068,
             10625695,
             5797446,
             1320884,
             5518050,
             66987244,
             82927922,
             10727668,
             9768785,
             353574,
             4853506,
             60431283,
             1926542,
             2789533,
             607728,
             17231017,
             5314336,
             37978548,
             10281762,
             2067372,
             46723749,
             10183175,
             8516543,
             82319724
            ],
            "sizemode": "area",
            "sizeref": 460406.6115702479,
            "symbol": "circle"
           },
           "mode": "markers",
           "name": "Europe",
           "showlegend": true,
           "type": "scatter",
           "x": [
            7.37,
            5.76,
            6.63,
            2.61,
            4.69,
            3.28,
            5.98,
            8,
            4.21,
            7.02,
            3.06,
            2.96,
            3.18,
            5.57,
            6.56,
            4.66,
            3.32,
            3.6,
            6.62,
            3.39,
            4.5,
            2.97,
            2.22,
            4.53,
            2.81
           ],
           "xaxis": "x",
           "y": [
            9.720768659608861,
            15.583868000085449,
            5.552577972546737,
            7.072079670944757,
            11.356031263911138,
            3.6244687887931426,
            6.717696879722355,
            5.486692407413754,
            2.9829409336679698,
            2.0473375143377606,
            5.656524518205524,
            11.12597779831734,
            10.441611838689575,
            2.5953236420488106,
            2.867863545618568,
            13.1637837980149,
            10.388243479766748,
            2.6343836746491,
            4.1865739574877905,
            9.725959422130176,
            6.288176486863516,
            12.798630520851399,
            9.034510356544004,
            6.575437944715362,
            5.162796707141535
           ],
           "yaxis": "y"
          },
          {
           "hovertemplate": "<b>%{hovertext}</b><br><br>Continent=North America<br>Day=8<br>Hospital_beds_per100_2017=%{x}<br>Dead_per_million=%{y}<br>popData2018=%{marker.size}<extra></extra>",
           "hovertext": [
            "Canada",
            "Mexico",
            "USA"
           ],
           "ids": [
            "Canada",
            "Mexico",
            "USA"
           ],
           "legendgroup": "North America",
           "marker": {
            "color": "#00cc96",
            "size": [
             37058856,
             126190788,
             327167434
            ],
            "sizemode": "area",
            "sizeref": 460406.6115702479,
            "symbol": "circle"
           },
           "mode": "markers",
           "name": "North America",
           "showlegend": true,
           "type": "scatter",
           "x": [
            2.52,
            1.38,
            2.77
           ],
           "xaxis": "x",
           "y": [
            3.723806261045943,
            3.217350540674966,
            6.696876804676104
           ],
           "yaxis": "y"
          },
          {
           "hovertemplate": "<b>%{hovertext}</b><br><br>Continent=Asia<br>Day=8<br>Hospital_beds_per100_2017=%{x}<br>Dead_per_million=%{y}<br>popData2018=%{marker.size}<extra></extra>",
           "hovertext": [
            "China",
            "South_Korea"
           ],
           "ids": [
            "China",
            "South_Korea"
           ],
           "legendgroup": "Asia",
           "marker": {
            "color": "#ab63fa",
            "size": [
             1392730000,
             51635256
            ],
            "sizemode": "area",
            "sizeref": 460406.6115702479,
            "symbol": "circle"
           },
           "mode": "markers",
           "name": "Asia",
           "showlegend": true,
           "type": "scatter",
           "x": [
            4.34,
            12.27
           ],
           "xaxis": "x",
           "y": [
            1.685179467664228,
            1.5686956214567813
           ],
           "yaxis": "y"
          }
         ],
         "name": "8"
        },
        {
         "data": [
          {
           "hovertemplate": "<b>%{hovertext}</b><br><br>Continent=Oceania<br>Day=9<br>Hospital_beds_per100_2017=%{x}<br>Dead_per_million=%{y}<br>popData2018=%{marker.size}<extra></extra>",
           "hovertext": [
            "Australia"
           ],
           "ids": [
            "Australia"
           ],
           "legendgroup": "Oceania",
           "marker": {
            "color": "#636efa",
            "size": [
             24992369
            ],
            "sizemode": "area",
            "sizeref": 460406.6115702479,
            "symbol": "circle"
           },
           "mode": "markers",
           "name": "Oceania",
           "showlegend": true,
           "type": "scatter",
           "x": [
            3.84
           ],
           "xaxis": "x",
           "y": [
            2.2806961596957858
           ],
           "yaxis": "y"
          },
          {
           "hovertemplate": "<b>%{hovertext}</b><br><br>Continent=Europe<br>Day=9<br>Hospital_beds_per100_2017=%{x}<br>Dead_per_million=%{y}<br>popData2018=%{marker.size}<extra></extra>",
           "hovertext": [
            "Austria",
            "Belgium",
            "Czech_Republic",
            "Denmark",
            "Estonia",
            "Finland",
            "France",
            "Germany",
            "Greece",
            "Hungary",
            "Iceland",
            "Ireland",
            "Italy",
            "Latvia",
            "Lithuania",
            "Luxembourg",
            "Netherlands",
            "Norway",
            "Poland",
            "Portugal",
            "Slovenia",
            "Spain",
            "Sweden",
            "Switzerland",
            "Turkey"
           ],
           "ids": [
            "Austria",
            "Belgium",
            "Czech_Republic",
            "Denmark",
            "Estonia",
            "Finland",
            "France",
            "Germany",
            "Greece",
            "Hungary",
            "Iceland",
            "Ireland",
            "Italy",
            "Latvia",
            "Lithuania",
            "Luxembourg",
            "Netherlands",
            "Norway",
            "Poland",
            "Portugal",
            "Slovenia",
            "Spain",
            "Sweden",
            "Switzerland",
            "Turkey"
           ],
           "legendgroup": "Europe",
           "marker": {
            "color": "#EF553B",
            "size": [
             8847037,
             11422068,
             10625695,
             5797446,
             1320884,
             5518050,
             66987244,
             82927922,
             10727668,
             9768785,
             353574,
             4853506,
             60431283,
             1926542,
             2789533,
             607728,
             17231017,
             5314336,
             37978548,
             10281762,
             2067372,
             46723749,
             10183175,
             8516543,
             82319724
            ],
            "sizemode": "area",
            "sizeref": 460406.6115702479,
            "symbol": "circle"
           },
           "mode": "markers",
           "name": "Europe",
           "showlegend": true,
           "type": "scatter",
           "x": [
            7.37,
            5.76,
            6.63,
            2.61,
            4.69,
            3.28,
            5.98,
            8,
            4.21,
            7.02,
            3.06,
            2.96,
            3.18,
            5.57,
            6.56,
            4.66,
            3.32,
            3.6,
            6.62,
            3.39,
            4.5,
            2.97,
            2.22,
            4.53,
            2.81
           ],
           "xaxis": "x",
           "y": [
            12.207476921369267,
            19.260960449543813,
            6.30546990102765,
            8.969466899734813,
            14.384306267620774,
            4.530585985991428,
            8.389656992008808,
            7.030201480268612,
            3.542242358730714,
            2.1497043900546484,
            5.656524518205524,
            14.628600438528355,
            13.684965119803927,
            2.5953236420488106,
            3.226346488820889,
            13.1637837980149,
            12.361429392124679,
            3.0107241995989713,
            4.5815337647979595,
            11.57389171233491,
            7.255588254073287,
            16.415634798483314,
            10.016522351820527,
            7.045112083623601,
            6.0860262359480215
           ],
           "yaxis": "y"
          },
          {
           "hovertemplate": "<b>%{hovertext}</b><br><br>Continent=North America<br>Day=9<br>Hospital_beds_per100_2017=%{x}<br>Dead_per_million=%{y}<br>popData2018=%{marker.size}<extra></extra>",
           "hovertext": [
            "Canada",
            "Mexico",
            "USA"
           ],
           "ids": [
            "Canada",
            "Mexico",
            "USA"
           ],
           "legendgroup": "North America",
           "marker": {
            "color": "#00cc96",
            "size": [
             37058856,
             126190788,
             327167434
            ],
            "sizemode": "area",
            "sizeref": 460406.6115702479,
            "symbol": "circle"
           },
           "mode": "markers",
           "name": "North America",
           "showlegend": true,
           "type": "scatter",
           "x": [
            2.52,
            1.38,
            2.77
           ],
           "xaxis": "x",
           "y": [
            5.0460273247506615,
            3.558104415672561,
            7.668856185729048
           ],
           "yaxis": "y"
          },
          {
           "hovertemplate": "<b>%{hovertext}</b><br><br>Continent=Asia<br>Day=9<br>Hospital_beds_per100_2017=%{x}<br>Dead_per_million=%{y}<br>popData2018=%{marker.size}<extra></extra>",
           "hovertext": [
            "China",
            "South_Korea"
           ],
           "ids": [
            "China",
            "South_Korea"
           ],
           "legendgroup": "Asia",
           "marker": {
            "color": "#ab63fa",
            "size": [
             1392730000,
             51635256
            ],
            "sizemode": "area",
            "sizeref": 460406.6115702479,
            "symbol": "circle"
           },
           "mode": "markers",
           "name": "Asia",
           "showlegend": true,
           "type": "scatter",
           "x": [
            4.34,
            12.27
           ],
           "xaxis": "x",
           "y": [
            1.7555448651210213,
            1.665528684509669
           ],
           "yaxis": "y"
          }
         ],
         "name": "9"
        },
        {
         "data": [
          {
           "hovertemplate": "<b>%{hovertext}</b><br><br>Continent=Oceania<br>Day=10<br>Hospital_beds_per100_2017=%{x}<br>Dead_per_million=%{y}<br>popData2018=%{marker.size}<extra></extra>",
           "hovertext": [
            "Australia"
           ],
           "ids": [
            "Australia"
           ],
           "legendgroup": "Oceania",
           "marker": {
            "color": "#636efa",
            "size": [
             24992369
            ],
            "sizemode": "area",
            "sizeref": 460406.6115702479,
            "symbol": "circle"
           },
           "mode": "markers",
           "name": "Oceania",
           "showlegend": true,
           "type": "scatter",
           "x": [
            3.84
           ],
           "xaxis": "x",
           "y": [
            2.4407450130077706
           ],
           "yaxis": "y"
          },
          {
           "hovertemplate": "<b>%{hovertext}</b><br><br>Continent=Europe<br>Day=10<br>Hospital_beds_per100_2017=%{x}<br>Dead_per_million=%{y}<br>popData2018=%{marker.size}<extra></extra>",
           "hovertext": [
            "Austria",
            "Belgium",
            "Czech_Republic",
            "Denmark",
            "Estonia",
            "Finland",
            "France",
            "Germany",
            "Greece",
            "Hungary",
            "Iceland",
            "Ireland",
            "Italy",
            "Latvia",
            "Lithuania",
            "Luxembourg",
            "Netherlands",
            "Norway",
            "Poland",
            "Portugal",
            "Slovenia",
            "Spain",
            "Sweden",
            "Switzerland",
            "Turkey"
           ],
           "ids": [
            "Austria",
            "Belgium",
            "Czech_Republic",
            "Denmark",
            "Estonia",
            "Finland",
            "France",
            "Germany",
            "Greece",
            "Hungary",
            "Iceland",
            "Ireland",
            "Italy",
            "Latvia",
            "Lithuania",
            "Luxembourg",
            "Netherlands",
            "Norway",
            "Poland",
            "Portugal",
            "Slovenia",
            "Spain",
            "Sweden",
            "Switzerland",
            "Turkey"
           ],
           "legendgroup": "Europe",
           "marker": {
            "color": "#EF553B",
            "size": [
             8847037,
             11422068,
             10625695,
             5797446,
             1320884,
             5518050,
             66987244,
             82927922,
             10727668,
             9768785,
             353574,
             4853506,
             60431283,
             1926542,
             2789533,
             607728,
             17231017,
             5314336,
             37978548,
             10281762,
             2067372,
             46723749,
             10183175,
             8516543,
             82319724
            ],
            "sizemode": "area",
            "sizeref": 460406.6115702479,
            "symbol": "circle"
           },
           "mode": "markers",
           "name": "Europe",
           "showlegend": true,
           "type": "scatter",
           "x": [
            7.37,
            5.76,
            6.63,
            2.61,
            4.69,
            3.28,
            5.98,
            8,
            4.21,
            7.02,
            3.06,
            2.96,
            3.18,
            5.57,
            6.56,
            4.66,
            3.32,
            3.6,
            6.62,
            3.39,
            4.5,
            2.97,
            2.22,
            4.53,
            2.81
           ],
           "xaxis": "x",
           "y": [
            14.468120795696908,
            25.301898045082552,
            7.340696302688906,
            11.211833624668518,
            15.898443769475593,
            4.893032864870743,
            10.06161710429526,
            8.82694251038872,
            4.008326879616334,
            2.6615387686390886,
            5.656524518205524,
            17.513113201055074,
            16.812484355164194,
            2.5953236420488106,
            3.226346488820889,
            13.1637837980149,
            16.01762681796437,
            3.7634052494987147,
            4.765848341542704,
            13.616343190982246,
            7.739294137678173,
            21.44519695968746,
            10.802131948041746,
            7.749623291985962,
            6.972812493880568
           ],
           "yaxis": "y"
          },
          {
           "hovertemplate": "<b>%{hovertext}</b><br><br>Continent=North America<br>Day=10<br>Hospital_beds_per100_2017=%{x}<br>Dead_per_million=%{y}<br>popData2018=%{marker.size}<extra></extra>",
           "hovertext": [
            "Canada",
            "Mexico",
            "USA"
           ],
           "ids": [
            "Canada",
            "Mexico",
            "USA"
           ],
           "legendgroup": "North America",
           "marker": {
            "color": "#00cc96",
            "size": [
             37058856,
             126190788,
             327167434
            ],
            "sizemode": "area",
            "sizeref": 460406.6115702479,
            "symbol": "circle"
           },
           "mode": "markers",
           "name": "North America",
           "showlegend": true,
           "type": "scatter",
           "x": [
            2.52,
            1.38,
            2.77
           ],
           "xaxis": "x",
           "y": [
            6.2333278717508165,
            3.8513112383449104,
            9.689228421188155
           ],
           "yaxis": "y"
          },
          {
           "hovertemplate": "<b>%{hovertext}</b><br><br>Continent=Asia<br>Day=10<br>Hospital_beds_per100_2017=%{x}<br>Dead_per_million=%{y}<br>popData2018=%{marker.size}<extra></extra>",
           "hovertext": [
            "China",
            "South_Korea"
           ],
           "ids": [
            "China",
            "South_Korea"
           ],
           "legendgroup": "Asia",
           "marker": {
            "color": "#ab63fa",
            "size": [
             1392730000,
             51635256
            ],
            "sizemode": "area",
            "sizeref": 460406.6115702479,
            "symbol": "circle"
           },
           "mode": "markers",
           "name": "Asia",
           "showlegend": true,
           "type": "scatter",
           "x": [
            4.34,
            12.27
           ],
           "xaxis": "x",
           "y": [
            1.8632470040855011,
            1.7623617475625568
           ],
           "yaxis": "y"
          }
         ],
         "name": "10"
        },
        {
         "data": [
          {
           "hovertemplate": "<b>%{hovertext}</b><br><br>Continent=Oceania<br>Day=11<br>Hospital_beds_per100_2017=%{x}<br>Dead_per_million=%{y}<br>popData2018=%{marker.size}<extra></extra>",
           "hovertext": [
            "Australia"
           ],
           "ids": [
            "Australia"
           ],
           "legendgroup": "Oceania",
           "marker": {
            "color": "#636efa",
            "size": [
             24992369
            ],
            "sizemode": "area",
            "sizeref": 460406.6115702479,
            "symbol": "circle"
           },
           "mode": "markers",
           "name": "Oceania",
           "showlegend": true,
           "type": "scatter",
           "x": [
            3.84
           ],
           "xaxis": "x",
           "y": [
            2.4407450130077706
           ],
           "yaxis": "y"
          },
          {
           "hovertemplate": "<b>%{hovertext}</b><br><br>Continent=Europe<br>Day=11<br>Hospital_beds_per100_2017=%{x}<br>Dead_per_million=%{y}<br>popData2018=%{marker.size}<extra></extra>",
           "hovertext": [
            "Austria",
            "Belgium",
            "Czech_Republic",
            "Denmark",
            "Estonia",
            "Finland",
            "France",
            "Germany",
            "Greece",
            "Hungary",
            "Iceland",
            "Ireland",
            "Italy",
            "Latvia",
            "Lithuania",
            "Luxembourg",
            "Netherlands",
            "Norway",
            "Poland",
            "Portugal",
            "Slovenia",
            "Spain",
            "Sweden",
            "Switzerland",
            "Turkey"
           ],
           "ids": [
            "Austria",
            "Belgium",
            "Czech_Republic",
            "Denmark",
            "Estonia",
            "Finland",
            "France",
            "Germany",
            "Greece",
            "Hungary",
            "Iceland",
            "Ireland",
            "Italy",
            "Latvia",
            "Lithuania",
            "Luxembourg",
            "Netherlands",
            "Norway",
            "Poland",
            "Portugal",
            "Slovenia",
            "Spain",
            "Sweden",
            "Switzerland",
            "Turkey"
           ],
           "legendgroup": "Europe",
           "marker": {
            "color": "#EF553B",
            "size": [
             8847037,
             11422068,
             10625695,
             5797446,
             1320884,
             5518050,
             66987244,
             82927922,
             10727668,
             9768785,
             353574,
             4853506,
             60431283,
             1926542,
             2789533,
             607728,
             17231017,
             5314336,
             37978548,
             10281762,
             2067372,
             46723749,
             10183175,
             8516543,
             82319724
            ],
            "sizemode": "area",
            "sizeref": 460406.6115702479,
            "symbol": "circle"
           },
           "mode": "markers",
           "name": "Europe",
           "showlegend": true,
           "type": "scatter",
           "x": [
            7.37,
            5.76,
            6.63,
            2.61,
            4.69,
            3.28,
            5.98,
            8,
            4.21,
            7.02,
            3.06,
            2.96,
            3.18,
            5.57,
            6.56,
            4.66,
            3.32,
            3.6,
            6.62,
            3.39,
            4.5,
            2.97,
            2.22,
            4.53,
            2.81
           ],
           "xaxis": "x",
           "y": [
            16.50270028259179,
            30.9050865394953,
            8.281811213290048,
            12.41926186117128,
            18.16965002225782,
            4.893032864870743,
            12.838265147913832,
            10.515155558823722,
            4.567628304679078,
            3.275740022940417,
            5.656524518205524,
            20.191589337687024,
            20.98251000231122,
            2.5953236420488106,
            3.226346488820889,
            13.1637837980149,
            20.66041719998303,
            4.139745774448586,
            5.476775994701009,
            15.561535075408283,
            9.674117672097717,
            28.37957202449658,
            14.337375131037225,
            10.097993986527163,
            7.883894265729073
           ],
           "yaxis": "y"
          },
          {
           "hovertemplate": "<b>%{hovertext}</b><br><br>Continent=North America<br>Day=11<br>Hospital_beds_per100_2017=%{x}<br>Dead_per_million=%{y}<br>popData2018=%{marker.size}<extra></extra>",
           "hovertext": [
            "Canada",
            "Mexico",
            "USA"
           ],
           "ids": [
            "Canada",
            "Mexico",
            "USA"
           ],
           "legendgroup": "North America",
           "marker": {
            "color": "#00cc96",
            "size": [
             37058856,
             126190788,
             327167434
            ],
            "sizemode": "area",
            "sizeref": 460406.6115702479,
            "symbol": "circle"
           },
           "mode": "markers",
           "name": "North America",
           "showlegend": true,
           "type": "scatter",
           "x": [
            2.52,
            1.38,
            2.77
           ],
           "xaxis": "x",
           "y": [
            7.555548935455536,
            4.326781761597369,
            12.467622312311194
           ],
           "yaxis": "y"
          },
          {
           "hovertemplate": "<b>%{hovertext}</b><br><br>Continent=Asia<br>Day=11<br>Hospital_beds_per100_2017=%{x}<br>Dead_per_million=%{y}<br>popData2018=%{marker.size}<extra></extra>",
           "hovertext": [
            "China",
            "South_Korea"
           ],
           "ids": [
            "China",
            "South_Korea"
           ],
           "legendgroup": "Asia",
           "marker": {
            "color": "#ab63fa",
            "size": [
             1392730000,
             51635256
            ],
            "sizemode": "area",
            "sizeref": 460406.6115702479,
            "symbol": "circle"
           },
           "mode": "markers",
           "name": "Asia",
           "showlegend": true,
           "type": "scatter",
           "x": [
            4.34,
            12.27
           ],
           "xaxis": "x",
           "y": [
            1.9135080022689248,
            1.936661261057755
           ],
           "yaxis": "y"
          }
         ],
         "name": "11"
        },
        {
         "data": [
          {
           "hovertemplate": "<b>%{hovertext}</b><br><br>Continent=Oceania<br>Day=12<br>Hospital_beds_per100_2017=%{x}<br>Dead_per_million=%{y}<br>popData2018=%{marker.size}<extra></extra>",
           "hovertext": [
            "Australia"
           ],
           "ids": [
            "Australia"
           ],
           "legendgroup": "Oceania",
           "marker": {
            "color": "#636efa",
            "size": [
             24992369
            ],
            "sizemode": "area",
            "sizeref": 460406.6115702479,
            "symbol": "circle"
           },
           "mode": "markers",
           "name": "Oceania",
           "showlegend": true,
           "type": "scatter",
           "x": [
            3.84
           ],
           "xaxis": "x",
           "y": [
            2.4407450130077706
           ],
           "yaxis": "y"
          },
          {
           "hovertemplate": "<b>%{hovertext}</b><br><br>Continent=Europe<br>Day=12<br>Hospital_beds_per100_2017=%{x}<br>Dead_per_million=%{y}<br>popData2018=%{marker.size}<extra></extra>",
           "hovertext": [
            "Austria",
            "Belgium",
            "Czech_Republic",
            "Denmark",
            "Estonia",
            "Finland",
            "France",
            "Germany",
            "Greece",
            "Hungary",
            "Iceland",
            "Ireland",
            "Italy",
            "Latvia",
            "Lithuania",
            "Luxembourg",
            "Netherlands",
            "Norway",
            "Poland",
            "Portugal",
            "Slovenia",
            "Spain",
            "Sweden",
            "Switzerland",
            "Turkey"
           ],
           "ids": [
            "Austria",
            "Belgium",
            "Czech_Republic",
            "Denmark",
            "Estonia",
            "Finland",
            "France",
            "Germany",
            "Greece",
            "Hungary",
            "Iceland",
            "Ireland",
            "Italy",
            "Latvia",
            "Lithuania",
            "Luxembourg",
            "Netherlands",
            "Norway",
            "Poland",
            "Portugal",
            "Slovenia",
            "Spain",
            "Sweden",
            "Switzerland",
            "Turkey"
           ],
           "legendgroup": "Europe",
           "marker": {
            "color": "#EF553B",
            "size": [
             8847037,
             11422068,
             10625695,
             5797446,
             1320884,
             5518050,
             66987244,
             82927922,
             10727668,
             9768785,
             353574,
             4853506,
             60431283,
             1926542,
             2789533,
             607728,
             17231017,
             5314336,
             37978548,
             10281762,
             2067372,
             46723749,
             10183175,
             8516543,
             82319724
            ],
            "sizemode": "area",
            "sizeref": 460406.6115702479,
            "symbol": "circle"
           },
           "mode": "markers",
           "name": "Europe",
           "showlegend": true,
           "type": "scatter",
           "x": [
            7.37,
            5.76,
            6.63,
            2.61,
            4.69,
            3.28,
            5.98,
            8,
            4.21,
            7.02,
            3.06,
            2.96,
            3.18,
            5.57,
            6.56,
            4.66,
            3.32,
            3.6,
            6.62,
            3.39,
            4.5,
            2.97,
            2.22,
            4.53,
            2.81
           ],
           "xaxis": "x",
           "y": [
            17.859086607188374,
            37.733972517060835,
            9.317037614951303,
            13.281710601530397,
            18.16965002225782,
            6.161596940948343,
            16.421036817099086,
            12.263661930417117,
            4.660845208856202,
            3.4804737743741927,
            5.656524518205524,
            24.72439510737187,
            23.845265704519296,
            2.5953236420488106,
            4.660278261630173,
            13.1637837980149,
            25.187137822451223,
            4.892426824348329,
            6.108711686397279,
            18.18754411938343,
            10.641529439307488,
            36.81211454157927,
            17.6762159149774,
            12.094109076887182,
            8.80712379453556
           ],
           "yaxis": "y"
          },
          {
           "hovertemplate": "<b>%{hovertext}</b><br><br>Continent=North America<br>Day=12<br>Hospital_beds_per100_2017=%{x}<br>Dead_per_million=%{y}<br>popData2018=%{marker.size}<extra></extra>",
           "hovertext": [
            "Canada",
            "Mexico",
            "USA"
           ],
           "ids": [
            "Canada",
            "Mexico",
            "USA"
           ],
           "legendgroup": "North America",
           "marker": {
            "color": "#00cc96",
            "size": [
             37058856,
             126190788,
             327167434
            ],
            "sizemode": "area",
            "sizeref": 460406.6115702479,
            "symbol": "circle"
           },
           "mode": "markers",
           "name": "North America",
           "showlegend": true,
           "type": "scatter",
           "x": [
            2.52,
            1.38,
            2.77
           ],
           "xaxis": "x",
           "y": [
            8.71586537911478,
            5.150930668568296,
            15.704497043553546
           ],
           "yaxis": "y"
          },
          {
           "hovertemplate": "<b>%{hovertext}</b><br><br>Continent=Asia<br>Day=12<br>Hospital_beds_per100_2017=%{x}<br>Dead_per_million=%{y}<br>popData2018=%{marker.size}<extra></extra>",
           "hovertext": [
            "China",
            "South_Korea"
           ],
           "ids": [
            "China",
            "South_Korea"
           ],
           "legendgroup": "Asia",
           "marker": {
            "color": "#ab63fa",
            "size": [
             1392730000,
             51635256
            ],
            "sizemode": "area",
            "sizeref": 460406.6115702479,
            "symbol": "circle"
           },
           "mode": "markers",
           "name": "Asia",
           "showlegend": true,
           "type": "scatter",
           "x": [
            4.34,
            12.27
           ],
           "xaxis": "x",
           "y": [
            1.9508447437766112,
            1.9947610988894875
           ],
           "yaxis": "y"
          }
         ],
         "name": "12"
        },
        {
         "data": [
          {
           "hovertemplate": "<b>%{hovertext}</b><br><br>Continent=Oceania<br>Day=13<br>Hospital_beds_per100_2017=%{x}<br>Dead_per_million=%{y}<br>popData2018=%{marker.size}<extra></extra>",
           "hovertext": [
            "Australia"
           ],
           "ids": [
            "Australia"
           ],
           "legendgroup": "Oceania",
           "marker": {
            "color": "#636efa",
            "size": [
             24992369
            ],
            "sizemode": "area",
            "sizeref": 460406.6115702479,
            "symbol": "circle"
           },
           "mode": "markers",
           "name": "Oceania",
           "showlegend": true,
           "type": "scatter",
           "x": [
            3.84
           ],
           "xaxis": "x",
           "y": [
            2.5207694396637628
           ],
           "yaxis": "y"
          },
          {
           "hovertemplate": "<b>%{hovertext}</b><br><br>Continent=Europe<br>Day=13<br>Hospital_beds_per100_2017=%{x}<br>Dead_per_million=%{y}<br>popData2018=%{marker.size}<extra></extra>",
           "hovertext": [
            "Austria",
            "Belgium",
            "Czech_Republic",
            "Denmark",
            "Estonia",
            "Finland",
            "France",
            "Germany",
            "Greece",
            "Hungary",
            "Iceland",
            "Ireland",
            "Italy",
            "Latvia",
            "Lithuania",
            "Luxembourg",
            "Netherlands",
            "Norway",
            "Poland",
            "Portugal",
            "Slovenia",
            "Spain",
            "Sweden",
            "Switzerland",
            "Turkey"
           ],
           "ids": [
            "Austria",
            "Belgium",
            "Czech_Republic",
            "Denmark",
            "Estonia",
            "Finland",
            "France",
            "Germany",
            "Greece",
            "Hungary",
            "Iceland",
            "Ireland",
            "Italy",
            "Latvia",
            "Lithuania",
            "Luxembourg",
            "Netherlands",
            "Norway",
            "Poland",
            "Portugal",
            "Slovenia",
            "Spain",
            "Sweden",
            "Switzerland",
            "Turkey"
           ],
           "legendgroup": "Europe",
           "marker": {
            "color": "#EF553B",
            "size": [
             8847037,
             11422068,
             10625695,
             5797446,
             1320884,
             5518050,
             66987244,
             82927922,
             10727668,
             9768785,
             353574,
             4853506,
             60431283,
             1926542,
             2789533,
             607728,
             17231017,
             5314336,
             37978548,
             10281762,
             2067372,
             46723749,
             10183175,
             8516543,
             82319724
            ],
            "sizemode": "area",
            "sizeref": 460406.6115702479,
            "symbol": "circle"
           },
           "mode": "markers",
           "name": "Europe",
           "showlegend": true,
           "type": "scatter",
           "x": [
            7.37,
            5.76,
            6.63,
            2.61,
            4.69,
            3.28,
            5.98,
            8,
            4.21,
            7.02,
            3.06,
            2.96,
            3.18,
            5.57,
            6.56,
            4.66,
            3.32,
            3.6,
            6.62,
            3.39,
            4.5,
            2.97,
            2.22,
            4.53,
            2.81
           ],
           "xaxis": "x",
           "y": [
            18.989408544352194,
            44.913057775527164,
            10.540486998732788,
            15.524077326464102,
            18.16965002225782,
            7.248937577586285,
            19.869454548689895,
            13.963933643483795,
            4.9404959213875745,
            3.8899412772417454,
            5.656524518205524,
            28.22701774758288,
            29.96792240866374,
            2.5953236420488106,
            5.018761204832493,
            14.809256772766764,
            31.687044357277344,
            5.2687673492982,
            6.451010186066092,
            20.327255192252068,
            13.543764740936803,
            46.70001972658487,
            23.470086687108886,
            18.904384091056667,
            9.863978649879828
           ],
           "yaxis": "y"
          },
          {
           "hovertemplate": "<b>%{hovertext}</b><br><br>Continent=North America<br>Day=13<br>Hospital_beds_per100_2017=%{x}<br>Dead_per_million=%{y}<br>popData2018=%{marker.size}<extra></extra>",
           "hovertext": [
            "Canada",
            "Mexico",
            "USA"
           ],
           "ids": [
            "Canada",
            "Mexico",
            "USA"
           ],
           "legendgroup": "North America",
           "marker": {
            "color": "#00cc96",
            "size": [
             37058856,
             126190788,
             327167434
            ],
            "sizemode": "area",
            "sizeref": 460406.6115702479,
            "symbol": "circle"
           },
           "mode": "markers",
           "name": "North America",
           "showlegend": true,
           "type": "scatter",
           "x": [
            2.52,
            1.38,
            2.77
           ],
           "xaxis": "x",
           "y": [
            10.2539592695468,
            5.436212982519771,
            18.501230168281356
           ],
           "yaxis": "y"
          },
          {
           "hovertemplate": "<b>%{hovertext}</b><br><br>Continent=Asia<br>Day=13<br>Hospital_beds_per100_2017=%{x}<br>Dead_per_million=%{y}<br>popData2018=%{marker.size}<extra></extra>",
           "hovertext": [
            "China",
            "South_Korea"
           ],
           "ids": [
            "China",
            "South_Korea"
           ],
           "legendgroup": "Asia",
           "marker": {
            "color": "#ab63fa",
            "size": [
             1392730000,
             51635256
            ],
            "sizemode": "area",
            "sizeref": 460406.6115702479,
            "symbol": "circle"
           },
           "mode": "markers",
           "name": "Asia",
           "showlegend": true,
           "type": "scatter",
           "x": [
            4.34,
            12.27
           ],
           "xaxis": "x",
           "y": [
            1.9716671573097442,
            2.0141277115000653
           ],
           "yaxis": "y"
          }
         ],
         "name": "13"
        },
        {
         "data": [
          {
           "hovertemplate": "<b>%{hovertext}</b><br><br>Continent=Oceania<br>Day=14<br>Hospital_beds_per100_2017=%{x}<br>Dead_per_million=%{y}<br>popData2018=%{marker.size}<extra></extra>",
           "hovertext": [
            "Australia"
           ],
           "ids": [
            "Australia"
           ],
           "legendgroup": "Oceania",
           "marker": {
            "color": "#636efa",
            "size": [
             24992369
            ],
            "sizemode": "area",
            "sizeref": 460406.6115702479,
            "symbol": "circle"
           },
           "mode": "markers",
           "name": "Oceania",
           "showlegend": true,
           "type": "scatter",
           "x": [
            3.84
           ],
           "xaxis": "x",
           "y": [
            2.5207694396637628
           ],
           "yaxis": "y"
          },
          {
           "hovertemplate": "<b>%{hovertext}</b><br><br>Continent=Europe<br>Day=14<br>Hospital_beds_per100_2017=%{x}<br>Dead_per_million=%{y}<br>popData2018=%{marker.size}<extra></extra>",
           "hovertext": [
            "Austria",
            "Belgium",
            "Czech_Republic",
            "Denmark",
            "Estonia",
            "Finland",
            "France",
            "Germany",
            "Greece",
            "Hungary",
            "Iceland",
            "Ireland",
            "Italy",
            "Lithuania",
            "Luxembourg",
            "Netherlands",
            "Norway",
            "Poland",
            "Portugal",
            "Slovenia",
            "Spain",
            "Sweden",
            "Switzerland",
            "Turkey"
           ],
           "ids": [
            "Austria",
            "Belgium",
            "Czech_Republic",
            "Denmark",
            "Estonia",
            "Finland",
            "France",
            "Germany",
            "Greece",
            "Hungary",
            "Iceland",
            "Ireland",
            "Italy",
            "Lithuania",
            "Luxembourg",
            "Netherlands",
            "Norway",
            "Poland",
            "Portugal",
            "Slovenia",
            "Spain",
            "Sweden",
            "Switzerland",
            "Turkey"
           ],
           "legendgroup": "Europe",
           "marker": {
            "color": "#EF553B",
            "size": [
             8847037,
             11422068,
             10625695,
             5797446,
             1320884,
             5518050,
             66987244,
             82927922,
             10727668,
             9768785,
             353574,
             4853506,
             60431283,
             2789533,
             607728,
             17231017,
             5314336,
             37978548,
             10281762,
             2067372,
             46723749,
             10183175,
             8516543,
             82319724
            ],
            "sizemode": "area",
            "sizeref": 460406.6115702479,
            "symbol": "circle"
           },
           "mode": "markers",
           "name": "Europe",
           "showlegend": true,
           "type": "scatter",
           "x": [
            7.37,
            5.76,
            6.63,
            2.61,
            4.69,
            3.28,
            5.98,
            8,
            4.21,
            7.02,
            3.06,
            2.96,
            3.18,
            6.56,
            4.66,
            3.32,
            3.6,
            6.62,
            3.39,
            4.5,
            2.97,
            2.22,
            4.53,
            2.81
           ],
           "xaxis": "x",
           "y": [
            21.02398803124707,
            61.7226232587654,
            11.199267436153589,
            17.938933799469627,
            18.16965002225782,
            7.6113844564656,
            25.31825312890914,
            16.182727935712656,
            5.499797346450319,
            4.811243158693737,
            5.656524518205524,
            32.55378689137296,
            35.7099815339019,
            5.377244148034815,
            24.68209462127794,
            37.08428817637403,
            6.021448399197943,
            6.924961954838294,
            23.92586017844023,
            14.511176508146574,
            57.70084930470797,
            27.69273826679793,
            23.131451341230825,
            11.030163317845915
           ],
           "yaxis": "y"
          },
          {
           "hovertemplate": "<b>%{hovertext}</b><br><br>Continent=North America<br>Day=14<br>Hospital_beds_per100_2017=%{x}<br>Dead_per_million=%{y}<br>popData2018=%{marker.size}<extra></extra>",
           "hovertext": [
            "Canada",
            "USA"
           ],
           "ids": [
            "Canada",
            "USA"
           ],
           "legendgroup": "North America",
           "marker": {
            "color": "#00cc96",
            "size": [
             37058856,
             327167434
            ],
            "sizemode": "area",
            "sizeref": 460406.6115702479,
            "symbol": "circle"
           },
           "mode": "markers",
           "name": "North America",
           "showlegend": true,
           "type": "scatter",
           "x": [
            2.52,
            2.77
           ],
           "xaxis": "x",
           "y": [
            11.738084953296992,
            21.875649151559504
           ],
           "yaxis": "y"
          },
          {
           "hovertemplate": "<b>%{hovertext}</b><br><br>Continent=Asia<br>Day=14<br>Hospital_beds_per100_2017=%{x}<br>Dead_per_million=%{y}<br>popData2018=%{marker.size}<extra></extra>",
           "hovertext": [
            "China",
            "South_Korea"
           ],
           "ids": [
            "China",
            "South_Korea"
           ],
           "legendgroup": "Asia",
           "marker": {
            "color": "#ab63fa",
            "size": [
             1392730000,
             51635256
            ],
            "sizemode": "area",
            "sizeref": 460406.6115702479,
            "symbol": "circle"
           },
           "mode": "markers",
           "name": "Asia",
           "showlegend": true,
           "type": "scatter",
           "x": [
            4.34,
            12.27
           ],
           "xaxis": "x",
           "y": [
            2.003259784739325,
            2.188427224995263
           ],
           "yaxis": "y"
          }
         ],
         "name": "14"
        },
        {
         "data": [
          {
           "hovertemplate": "<b>%{hovertext}</b><br><br>Continent=Oceania<br>Day=15<br>Hospital_beds_per100_2017=%{x}<br>Dead_per_million=%{y}<br>popData2018=%{marker.size}<extra></extra>",
           "hovertext": [
            "Australia"
           ],
           "ids": [
            "Australia"
           ],
           "legendgroup": "Oceania",
           "marker": {
            "color": "#636efa",
            "size": [
             24992369
            ],
            "sizemode": "area",
            "sizeref": 460406.6115702479,
            "symbol": "circle"
           },
           "mode": "markers",
           "name": "Oceania",
           "showlegend": true,
           "type": "scatter",
           "x": [
            3.84
           ],
           "xaxis": "x",
           "y": [
            2.6808182929757476
           ],
           "yaxis": "y"
          },
          {
           "hovertemplate": "<b>%{hovertext}</b><br><br>Continent=Europe<br>Day=15<br>Hospital_beds_per100_2017=%{x}<br>Dead_per_million=%{y}<br>popData2018=%{marker.size}<extra></extra>",
           "hovertext": [
            "Austria",
            "Belgium",
            "Czech_Republic",
            "Denmark",
            "Estonia",
            "Finland",
            "France",
            "Germany",
            "Greece",
            "Hungary",
            "Iceland",
            "Ireland",
            "Italy",
            "Lithuania",
            "Luxembourg",
            "Netherlands",
            "Norway",
            "Poland",
            "Portugal",
            "Slovenia",
            "Spain",
            "Sweden",
            "Switzerland",
            "Turkey"
           ],
           "ids": [
            "Austria",
            "Belgium",
            "Czech_Republic",
            "Denmark",
            "Estonia",
            "Finland",
            "France",
            "Germany",
            "Greece",
            "Hungary",
            "Iceland",
            "Ireland",
            "Italy",
            "Lithuania",
            "Luxembourg",
            "Netherlands",
            "Norway",
            "Poland",
            "Portugal",
            "Slovenia",
            "Spain",
            "Sweden",
            "Switzerland",
            "Turkey"
           ],
           "legendgroup": "Europe",
           "marker": {
            "color": "#EF553B",
            "size": [
             8847037,
             11422068,
             10625695,
             5797446,
             1320884,
             5518050,
             66987244,
             82927922,
             10727668,
             9768785,
             353574,
             4853506,
             60431283,
             2789533,
             607728,
             17231017,
             5314336,
             37978548,
             10281762,
             2067372,
             46723749,
             10183175,
             8516543,
             82319724
            ],
            "sizemode": "area",
            "sizeref": 460406.6115702479,
            "symbol": "circle"
           },
           "mode": "markers",
           "name": "Europe",
           "showlegend": true,
           "type": "scatter",
           "x": [
            7.37,
            5.76,
            6.63,
            2.61,
            4.69,
            3.28,
            5.98,
            8,
            4.21,
            7.02,
            3.06,
            2.96,
            3.18,
            6.56,
            4.66,
            3.32,
            3.6,
            6.62,
            3.39,
            4.5,
            2.97,
            2.22,
            4.53,
            2.81
           ],
           "xaxis": "x",
           "y": [
            23.05856751814195,
            72.49125114646489,
            12.14038234675473,
            21.216239012834272,
            18.92671877318523,
            8.698725093103542,
            29.781789500102438,
            17.292125081827084,
            6.338749484044436,
            5.937278791579506,
            11.313049036411048,
            35.850372905689206,
            41.45204065914007,
            5.377244148034815,
            29.618513545533528,
            44.74489230670482,
            7.9031510239473,
            7.530566992713887,
            25.871052062866266,
            17.41341180977589,
            73.49581473010653,
            32.700999442708195,
            27.593355660859107,
            12.220643499727963
           ],
           "yaxis": "y"
          },
          {
           "hovertemplate": "<b>%{hovertext}</b><br><br>Continent=North America<br>Day=15<br>Hospital_beds_per100_2017=%{x}<br>Dead_per_million=%{y}<br>popData2018=%{marker.size}<extra></extra>",
           "hovertext": [
            "Canada",
            "USA"
           ],
           "ids": [
            "Canada",
            "USA"
           ],
           "legendgroup": "North America",
           "marker": {
            "color": "#00cc96",
            "size": [
             37058856,
             327167434
            ],
            "sizemode": "area",
            "sizeref": 460406.6115702479,
            "symbol": "circle"
           },
           "mode": "markers",
           "name": "North America",
           "showlegend": true,
           "type": "scatter",
           "x": [
            2.52,
            2.77
           ],
           "xaxis": "x",
           "y": [
            13.734908600524529,
            25.983637479028552
           ],
           "yaxis": "y"
          },
          {
           "hovertemplate": "<b>%{hovertext}</b><br><br>Continent=Asia<br>Day=15<br>Hospital_beds_per100_2017=%{x}<br>Dead_per_million=%{y}<br>popData2018=%{marker.size}<extra></extra>",
           "hovertext": [
            "China",
            "South_Korea"
           ],
           "ids": [
            "China",
            "South_Korea"
           ],
           "legendgroup": "Asia",
           "marker": {
            "color": "#ab63fa",
            "size": [
             1392730000,
             51635256
            ],
            "sizemode": "area",
            "sizeref": 460406.6115702479,
            "symbol": "circle"
           },
           "mode": "markers",
           "name": "Asia",
           "showlegend": true,
           "type": "scatter",
           "x": [
            4.34,
            12.27
           ],
           "xaxis": "x",
           "y": [
            2.0370064549481954,
            2.323993513269306
           ],
           "yaxis": "y"
          }
         ],
         "name": "15"
        },
        {
         "data": [
          {
           "hovertemplate": "<b>%{hovertext}</b><br><br>Continent=Oceania<br>Day=16<br>Hospital_beds_per100_2017=%{x}<br>Dead_per_million=%{y}<br>popData2018=%{marker.size}<extra></extra>",
           "hovertext": [
            "Australia"
           ],
           "ids": [
            "Australia"
           ],
           "legendgroup": "Oceania",
           "marker": {
            "color": "#636efa",
            "size": [
             24992369
            ],
            "sizemode": "area",
            "sizeref": 460406.6115702479,
            "symbol": "circle"
           },
           "mode": "markers",
           "name": "Oceania",
           "showlegend": true,
           "type": "scatter",
           "x": [
            3.84
           ],
           "xaxis": "x",
           "y": [
            2.76084271963174
           ],
           "yaxis": "y"
          },
          {
           "hovertemplate": "<b>%{hovertext}</b><br><br>Continent=Europe<br>Day=16<br>Hospital_beds_per100_2017=%{x}<br>Dead_per_million=%{y}<br>popData2018=%{marker.size}<extra></extra>",
           "hovertext": [
            "Austria",
            "Belgium",
            "Czech_Republic",
            "Denmark",
            "Estonia",
            "Finland",
            "France",
            "Germany",
            "Greece",
            "Hungary",
            "Iceland",
            "Ireland",
            "Italy",
            "Lithuania",
            "Luxembourg",
            "Netherlands",
            "Norway",
            "Poland",
            "Portugal",
            "Slovenia",
            "Spain",
            "Sweden",
            "Switzerland",
            "Turkey"
           ],
           "ids": [
            "Austria",
            "Belgium",
            "Czech_Republic",
            "Denmark",
            "Estonia",
            "Finland",
            "France",
            "Germany",
            "Greece",
            "Hungary",
            "Iceland",
            "Ireland",
            "Italy",
            "Lithuania",
            "Luxembourg",
            "Netherlands",
            "Norway",
            "Poland",
            "Portugal",
            "Slovenia",
            "Spain",
            "Sweden",
            "Switzerland",
            "Turkey"
           ],
           "legendgroup": "Europe",
           "marker": {
            "color": "#EF553B",
            "size": [
             8847037,
             11422068,
             10625695,
             5797446,
             1320884,
             5518050,
             66987244,
             82927922,
             10727668,
             9768785,
             353574,
             4853506,
             60431283,
             2789533,
             607728,
             17231017,
             5314336,
             37978548,
             10281762,
             2067372,
             46723749,
             10183175,
             8516543,
             82319724
            ],
            "sizemode": "area",
            "sizeref": 460406.6115702479,
            "symbol": "circle"
           },
           "mode": "markers",
           "name": "Europe",
           "showlegend": true,
           "type": "scatter",
           "x": [
            7.37,
            5.76,
            6.63,
            2.61,
            4.69,
            3.28,
            5.98,
            8,
            4.21,
            7.02,
            3.06,
            2.96,
            3.18,
            6.56,
            4.66,
            3.32,
            3.6,
            6.62,
            3.39,
            4.5,
            2.97,
            2.22,
            4.53,
            2.81
           ],
           "xaxis": "x",
           "y": [
            24.867082617604062,
            88.51286824767634,
            12.987385766295759,
            23.976074981983448,
            21.19792502596746,
            8.8799485325432,
            34.54389017706117,
            19.378274063107476,
            6.804834004930055,
            6.75621379731461,
            11.313049036411048,
            43.267691437900766,
            49.279112607951745,
            5.377244148034815,
            34.554932469789115,
            50.14213612580151,
            8.279491548897171,
            8.267825299692868,
            28.691580295284016,
            19.348235344195434,
            87.51438160495212,
            36.629047423814285,
            30.17656342485443,
            13.37468041073607
           ],
           "yaxis": "y"
          },
          {
           "hovertemplate": "<b>%{hovertext}</b><br><br>Continent=North America<br>Day=16<br>Hospital_beds_per100_2017=%{x}<br>Dead_per_million=%{y}<br>popData2018=%{marker.size}<extra></extra>",
           "hovertext": [
            "Canada",
            "USA"
           ],
           "ids": [
            "Canada",
            "USA"
           ],
           "legendgroup": "North America",
           "marker": {
            "color": "#00cc96",
            "size": [
             37058856,
             327167434
            ],
            "sizemode": "area",
            "sizeref": 460406.6115702479,
            "symbol": "circle"
           },
           "mode": "markers",
           "name": "North America",
           "showlegend": true,
           "type": "scatter",
           "x": [
            2.52,
            2.77
           ],
           "xaxis": "x",
           "y": [
            15.353954800979285,
            29.486431097540105
           ],
           "yaxis": "y"
          },
          {
           "hovertemplate": "<b>%{hovertext}</b><br><br>Continent=Asia<br>Day=16<br>Hospital_beds_per100_2017=%{x}<br>Dead_per_million=%{y}<br>popData2018=%{marker.size}<extra></extra>",
           "hovertext": [
            "China",
            "South_Korea"
           ],
           "ids": [
            "China",
            "South_Korea"
           ],
           "legendgroup": "Asia",
           "marker": {
            "color": "#ab63fa",
            "size": [
             1392730000,
             51635256
            ],
            "sizemode": "area",
            "sizeref": 460406.6115702479,
            "symbol": "circle"
           },
           "mode": "markers",
           "name": "Asia",
           "showlegend": true,
           "type": "scatter",
           "x": [
            4.34,
            12.27
           ],
           "xaxis": "x",
           "y": [
            2.0621369540399073,
            2.440193188932771
           ],
           "yaxis": "y"
          }
         ],
         "name": "16"
        },
        {
         "data": [
          {
           "hovertemplate": "<b>%{hovertext}</b><br><br>Continent=Oceania<br>Day=17<br>Hospital_beds_per100_2017=%{x}<br>Dead_per_million=%{y}<br>popData2018=%{marker.size}<extra></extra>",
           "hovertext": [
            "Australia"
           ],
           "ids": [
            "Australia"
           ],
           "legendgroup": "Oceania",
           "marker": {
            "color": "#636efa",
            "size": [
             24992369
            ],
            "sizemode": "area",
            "sizeref": 460406.6115702479,
            "symbol": "circle"
           },
           "mode": "markers",
           "name": "Oceania",
           "showlegend": true,
           "type": "scatter",
           "x": [
            3.84
           ],
           "xaxis": "x",
           "y": [
            2.8008549329597368
           ],
           "yaxis": "y"
          },
          {
           "hovertemplate": "<b>%{hovertext}</b><br><br>Continent=Europe<br>Day=17<br>Hospital_beds_per100_2017=%{x}<br>Dead_per_million=%{y}<br>popData2018=%{marker.size}<extra></extra>",
           "hovertext": [
            "Austria",
            "Belgium",
            "Czech_Republic",
            "Denmark",
            "Estonia",
            "Finland",
            "France",
            "Germany",
            "Greece",
            "Hungary",
            "Iceland",
            "Ireland",
            "Italy",
            "Lithuania",
            "Luxembourg",
            "Netherlands",
            "Norway",
            "Poland",
            "Portugal",
            "Slovenia",
            "Spain",
            "Sweden",
            "Switzerland",
            "Turkey"
           ],
           "ids": [
            "Austria",
            "Belgium",
            "Czech_Republic",
            "Denmark",
            "Estonia",
            "Finland",
            "France",
            "Germany",
            "Greece",
            "Hungary",
            "Iceland",
            "Ireland",
            "Italy",
            "Lithuania",
            "Luxembourg",
            "Netherlands",
            "Norway",
            "Poland",
            "Portugal",
            "Slovenia",
            "Spain",
            "Sweden",
            "Switzerland",
            "Turkey"
           ],
           "legendgroup": "Europe",
           "marker": {
            "color": "#EF553B",
            "size": [
             8847037,
             11422068,
             10625695,
             5797446,
             1320884,
             5518050,
             66987244,
             82927922,
             10727668,
             9768785,
             353574,
             4853506,
             60431283,
             2789533,
             607728,
             17231017,
             5314336,
             37978548,
             10281762,
             2067372,
             46723749,
             10183175,
             8516543,
             82319724
            ],
            "sizemode": "area",
            "sizeref": 460406.6115702479,
            "symbol": "circle"
           },
           "mode": "markers",
           "name": "Europe",
           "showlegend": true,
           "type": "scatter",
           "x": [
            7.37,
            5.76,
            6.63,
            2.61,
            4.69,
            3.28,
            5.98,
            8,
            4.21,
            7.02,
            3.06,
            2.96,
            3.18,
            6.56,
            4.66,
            3.32,
            3.6,
            6.62,
            3.39,
            4.5,
            2.97,
            2.22,
            4.53,
            2.81
           ],
           "xaxis": "x",
           "y": [
            27.466823073080853,
            100.06944451740263,
            13.457943221596329,
            27.77084943956356,
            23.469131278749686,
            10.148512608620798,
            38.90292904123657,
            22.441174879553834,
            7.3641354299928,
            7.882249430200378,
            11.313049036411048,
            48.41860708526991,
            56.3780848405949,
            6.094210034439457,
            36.200405444540976,
            60.298240086467324,
            9.408513123746786,
            8.741777068465073,
            30.247733802824847,
            20.79935299501009,
            103.97282118778611,
            39.378681010588544,
            34.63846774448271,
            14.55301283566014
           ],
           "yaxis": "y"
          },
          {
           "hovertemplate": "<b>%{hovertext}</b><br><br>Continent=North America<br>Day=17<br>Hospital_beds_per100_2017=%{x}<br>Dead_per_million=%{y}<br>popData2018=%{marker.size}<extra></extra>",
           "hovertext": [
            "Canada",
            "USA"
           ],
           "ids": [
            "Canada",
            "USA"
           ],
           "legendgroup": "North America",
           "marker": {
            "color": "#00cc96",
            "size": [
             37058856,
             327167434
            ],
            "sizemode": "area",
            "sizeref": 460406.6115702479,
            "symbol": "circle"
           },
           "mode": "markers",
           "name": "North America",
           "showlegend": true,
           "type": "scatter",
           "x": [
            2.52,
            2.77
           ],
           "xaxis": "x",
           "y": [
            17.620619481615943,
            33.58830634714089
           ],
           "yaxis": "y"
          },
          {
           "hovertemplate": "<b>%{hovertext}</b><br><br>Continent=Asia<br>Day=17<br>Hospital_beds_per100_2017=%{x}<br>Dead_per_million=%{y}<br>popData2018=%{marker.size}<extra></extra>",
           "hovertext": [
            "China",
            "South_Korea"
           ],
           "ids": [
            "China",
            "South_Korea"
           ],
           "legendgroup": "Asia",
           "marker": {
            "color": "#ab63fa",
            "size": [
             1392730000,
             51635256
            ],
            "sizemode": "area",
            "sizeref": 460406.6115702479,
            "symbol": "circle"
           },
           "mode": "markers",
           "name": "Asia",
           "showlegend": true,
           "type": "scatter",
           "x": [
            4.34,
            12.27
           ],
           "xaxis": "x",
           "y": [
            2.0922935529499616,
            2.537026251985659
           ],
           "yaxis": "y"
          }
         ],
         "name": "17"
        },
        {
         "data": [
          {
           "hovertemplate": "<b>%{hovertext}</b><br><br>Continent=Europe<br>Day=18<br>Hospital_beds_per100_2017=%{x}<br>Dead_per_million=%{y}<br>popData2018=%{marker.size}<extra></extra>",
           "hovertext": [
            "Austria",
            "Belgium",
            "Czech_Republic",
            "Denmark",
            "Estonia",
            "Finland",
            "France",
            "Germany",
            "Greece",
            "Hungary",
            "Iceland",
            "Ireland",
            "Italy",
            "Lithuania",
            "Luxembourg",
            "Netherlands",
            "Norway",
            "Poland",
            "Portugal",
            "Slovenia",
            "Spain",
            "Sweden",
            "Switzerland",
            "Turkey"
           ],
           "ids": [
            "Austria",
            "Belgium",
            "Czech_Republic",
            "Denmark",
            "Estonia",
            "Finland",
            "France",
            "Germany",
            "Greece",
            "Hungary",
            "Iceland",
            "Ireland",
            "Italy",
            "Lithuania",
            "Luxembourg",
            "Netherlands",
            "Norway",
            "Poland",
            "Portugal",
            "Slovenia",
            "Spain",
            "Sweden",
            "Switzerland",
            "Turkey"
           ],
           "legendgroup": "Europe",
           "marker": {
            "color": "#EF553B",
            "size": [
             8847037,
             11422068,
             10625695,
             5797446,
             1320884,
             5518050,
             66987244,
             82927922,
             10727668,
             9768785,
             353574,
             4853506,
             60431283,
             2789533,
             607728,
             17231017,
             5314336,
             37978548,
             10281762,
             2067372,
             46723749,
             10183175,
             8516543,
             82319724
            ],
            "sizemode": "area",
            "sizeref": 460406.6115702479,
            "symbol": "circle"
           },
           "mode": "markers",
           "name": "Europe",
           "showlegend": true,
           "type": "scatter",
           "x": [
            7.37,
            5.76,
            6.63,
            2.61,
            4.69,
            3.28,
            5.98,
            8,
            4.21,
            7.02,
            3.06,
            2.96,
            3.18,
            6.56,
            4.66,
            3.32,
            3.6,
            6.62,
            3.39,
            4.5,
            2.97,
            2.22,
            4.53,
            2.81
           ],
           "xaxis": "x",
           "y": [
            30.85778888457232,
            112.32641934893051,
            15.151950060678384,
            30.87566490485638,
            26.497406282459323,
            10.69218292693977,
            45.14292303173422,
            25.40760637894677,
            7.550569238347048,
            8.701184435935483,
            11.313049036411048,
            54.18763261032334,
            66.7204103543524,
            8.245107693653383,
            37.845878419292845,
            68.07491397634858,
            10.913875223546272,
            9.13673687577524,
            33.55456000634911,
            21.76676476221986,
            121.77961147766631,
            46.84197217469011,
            43.79711345319339,
            15.743493017542187
           ],
           "yaxis": "y"
          },
          {
           "hovertemplate": "<b>%{hovertext}</b><br><br>Continent=North America<br>Day=18<br>Hospital_beds_per100_2017=%{x}<br>Dead_per_million=%{y}<br>popData2018=%{marker.size}<extra></extra>",
           "hovertext": [
            "Canada",
            "USA"
           ],
           "ids": [
            "Canada",
            "USA"
           ],
           "legendgroup": "North America",
           "marker": {
            "color": "#00cc96",
            "size": [
             37058856,
             327167434
            ],
            "sizemode": "area",
            "sizeref": 460406.6115702479,
            "symbol": "circle"
           },
           "mode": "markers",
           "name": "North America",
           "showlegend": true,
           "type": "scatter",
           "x": [
            2.52,
            2.77
           ],
           "xaxis": "x",
           "y": [
            19.347602095434354,
            39.4140695555903
           ],
           "yaxis": "y"
          },
          {
           "hovertemplate": "<b>%{hovertext}</b><br><br>Continent=Asia<br>Day=18<br>Hospital_beds_per100_2017=%{x}<br>Dead_per_million=%{y}<br>popData2018=%{marker.size}<extra></extra>",
           "hovertext": [
            "China",
            "South_Korea"
           ],
           "ids": [
            "China",
            "South_Korea"
           ],
           "legendgroup": "Asia",
           "marker": {
            "color": "#ab63fa",
            "size": [
             1392730000,
             51635256
            ],
            "sizemode": "area",
            "sizeref": 460406.6115702479,
            "symbol": "circle"
           },
           "mode": "markers",
           "name": "Asia",
           "showlegend": true,
           "type": "scatter",
           "x": [
            4.34,
            12.27
           ],
           "xaxis": "x",
           "y": [
            2.115270009262384,
            2.6919591528702793
           ],
           "yaxis": "y"
          }
         ],
         "name": "18"
        },
        {
         "data": [
          {
           "hovertemplate": "<b>%{hovertext}</b><br><br>Continent=Europe<br>Day=19<br>Hospital_beds_per100_2017=%{x}<br>Dead_per_million=%{y}<br>popData2018=%{marker.size}<extra></extra>",
           "hovertext": [
            "Austria",
            "Belgium",
            "Czech_Republic",
            "Denmark",
            "Estonia",
            "Finland",
            "France",
            "Germany",
            "Greece",
            "Hungary",
            "Iceland",
            "Ireland",
            "Italy",
            "Lithuania",
            "Luxembourg",
            "Netherlands",
            "Norway",
            "Poland",
            "Portugal",
            "Slovenia",
            "Spain",
            "Sweden",
            "Switzerland",
            "Turkey"
           ],
           "ids": [
            "Austria",
            "Belgium",
            "Czech_Republic",
            "Denmark",
            "Estonia",
            "Finland",
            "France",
            "Germany",
            "Greece",
            "Hungary",
            "Iceland",
            "Ireland",
            "Italy",
            "Lithuania",
            "Luxembourg",
            "Netherlands",
            "Norway",
            "Poland",
            "Portugal",
            "Slovenia",
            "Spain",
            "Sweden",
            "Switzerland",
            "Turkey"
           ],
           "legendgroup": "Europe",
           "marker": {
            "color": "#EF553B",
            "size": [
             8847037,
             11422068,
             10625695,
             5797446,
             1320884,
             5518050,
             66987244,
             82927922,
             10727668,
             9768785,
             353574,
             4853506,
             60431283,
             2789533,
             607728,
             17231017,
             5314336,
             37978548,
             10281762,
             2067372,
             46723749,
             10183175,
             8516543,
             82319724
            ],
            "sizemode": "area",
            "sizeref": 460406.6115702479,
            "symbol": "circle"
           },
           "mode": "markers",
           "name": "Europe",
           "showlegend": true,
           "type": "scatter",
           "x": [
            7.37,
            5.76,
            6.63,
            2.61,
            4.69,
            3.28,
            5.98,
            8,
            4.21,
            7.02,
            3.06,
            2.96,
            3.18,
            6.56,
            4.66,
            3.32,
            3.6,
            6.62,
            3.39,
            4.5,
            2.97,
            2.22,
            4.53,
            2.81
           ],
           "xaxis": "x",
           "y": [
            33.34449714633272,
            126.68458986586317,
            15.622507515978953,
            32.25558288943097,
            27.254475033386733,
            11.598300124138056,
            52.5921024605819,
            28.615211170973268,
            7.737003046701296,
            10.134320695971914,
            16.96957355461657,
            59.13251163179771,
            79.87584840785193,
            8.603590636855703,
            47.71871626780402,
            77.7087040190373,
            11.102045486021208,
            9.479035375444052,
            36.95864580409467,
            24.18529418024429,
            139.71481612059856,
            58.036908920842464,
            44.384206126828694,
            17.043303012046056
           ],
           "yaxis": "y"
          },
          {
           "hovertemplate": "<b>%{hovertext}</b><br><br>Continent=North America<br>Day=19<br>Hospital_beds_per100_2017=%{x}<br>Dead_per_million=%{y}<br>popData2018=%{marker.size}<extra></extra>",
           "hovertext": [
            "Canada",
            "USA"
           ],
           "ids": [
            "Canada",
            "USA"
           ],
           "legendgroup": "North America",
           "marker": {
            "color": "#00cc96",
            "size": [
             37058856,
             327167434
            ],
            "sizemode": "area",
            "sizeref": 460406.6115702479,
            "symbol": "circle"
           },
           "mode": "markers",
           "name": "North America",
           "showlegend": true,
           "type": "scatter",
           "x": [
            2.52,
            2.77
           ],
           "xaxis": "x",
           "y": [
            21.04760060591185,
            45.28873738698577
           ],
           "yaxis": "y"
          },
          {
           "hovertemplate": "<b>%{hovertext}</b><br><br>Continent=Asia<br>Day=19<br>Hospital_beds_per100_2017=%{x}<br>Dead_per_million=%{y}<br>popData2018=%{marker.size}<extra></extra>",
           "hovertext": [
            "China",
            "South_Korea"
           ],
           "ids": [
            "China",
            "South_Korea"
           ],
           "legendgroup": "Asia",
           "marker": {
            "color": "#ab63fa",
            "size": [
             1392730000,
             51635256
            ],
            "sizemode": "area",
            "sizeref": 460406.6115702479,
            "symbol": "circle"
           },
           "mode": "markers",
           "name": "Asia",
           "showlegend": true,
           "type": "scatter",
           "x": [
            4.34,
            12.27
           ],
           "xaxis": "x",
           "y": [
            2.141836536873622,
            2.788792215923167
           ],
           "yaxis": "y"
          }
         ],
         "name": "19"
        },
        {
         "data": [
          {
           "hovertemplate": "<b>%{hovertext}</b><br><br>Continent=Europe<br>Day=20<br>Hospital_beds_per100_2017=%{x}<br>Dead_per_million=%{y}<br>popData2018=%{marker.size}<extra></extra>",
           "hovertext": [
            "Austria",
            "Belgium",
            "Czech_Republic",
            "Denmark",
            "Estonia",
            "Finland",
            "France",
            "Germany",
            "Greece",
            "Hungary",
            "Iceland",
            "Ireland",
            "Italy",
            "Lithuania",
            "Luxembourg",
            "Netherlands",
            "Norway",
            "Portugal",
            "Slovenia",
            "Spain",
            "Sweden",
            "Switzerland",
            "Turkey"
           ],
           "ids": [
            "Austria",
            "Belgium",
            "Czech_Republic",
            "Denmark",
            "Estonia",
            "Finland",
            "France",
            "Germany",
            "Greece",
            "Hungary",
            "Iceland",
            "Ireland",
            "Italy",
            "Lithuania",
            "Luxembourg",
            "Netherlands",
            "Norway",
            "Portugal",
            "Slovenia",
            "Spain",
            "Sweden",
            "Switzerland",
            "Turkey"
           ],
           "legendgroup": "Europe",
           "marker": {
            "color": "#EF553B",
            "size": [
             8847037,
             11422068,
             10625695,
             5797446,
             1320884,
             5518050,
             66987244,
             82927922,
             10727668,
             9768785,
             353574,
             4853506,
             60431283,
             2789533,
             607728,
             17231017,
             5314336,
             10281762,
             2067372,
             46723749,
             10183175,
             8516543,
             82319724
            ],
            "sizemode": "area",
            "sizeref": 460406.6115702479,
            "symbol": "circle"
           },
           "mode": "markers",
           "name": "Europe",
           "showlegend": true,
           "type": "scatter",
           "x": [
            7.37,
            5.76,
            6.63,
            2.61,
            4.69,
            3.28,
            5.98,
            8,
            4.21,
            7.02,
            3.06,
            2.96,
            3.18,
            6.56,
            4.66,
            3.32,
            3.6,
            3.39,
            4.5,
            2.97,
            2.22,
            4.53,
            2.81
           ],
           "xaxis": "x",
           "y": [
            36.05726979552589,
            142.881306607525,
            15.904841989159298,
            35.01541885858014,
            28.768612535241548,
            13.048087639655312,
            60.19056404231229,
            30.67724282299031,
            8.016653759232668,
            11.157989453140795,
            16.96957355461657,
            65.93172028632497,
            90.61531922133773,
            8.603590636855703,
            49.36418924255588,
            86.29786622577183,
            12.983748110770565,
            39.77917403651242,
            25.636411831058947,
            157.09355856697204,
            67.46422407549709,
            50.72480700208993,
            18.440295062213767
           ],
           "yaxis": "y"
          },
          {
           "hovertemplate": "<b>%{hovertext}</b><br><br>Continent=North America<br>Day=20<br>Hospital_beds_per100_2017=%{x}<br>Dead_per_million=%{y}<br>popData2018=%{marker.size}<extra></extra>",
           "hovertext": [
            "Canada",
            "USA"
           ],
           "ids": [
            "Canada",
            "USA"
           ],
           "legendgroup": "North America",
           "marker": {
            "color": "#00cc96",
            "size": [
             37058856,
             327167434
            ],
            "sizemode": "area",
            "sizeref": 460406.6115702479,
            "symbol": "circle"
           },
           "mode": "markers",
           "name": "North America",
           "showlegend": true,
           "type": "scatter",
           "x": [
            2.52,
            2.77
           ],
           "xaxis": "x",
           "y": [
            24.366645316844103,
            51.013634810608934
           ],
           "yaxis": "y"
          },
          {
           "hovertemplate": "<b>%{hovertext}</b><br><br>Continent=Asia<br>Day=20<br>Hospital_beds_per100_2017=%{x}<br>Dead_per_million=%{y}<br>popData2018=%{marker.size}<extra></extra>",
           "hovertext": [
            "China",
            "South_Korea"
           ],
           "ids": [
            "China",
            "South_Korea"
           ],
           "legendgroup": "Asia",
           "marker": {
            "color": "#ab63fa",
            "size": [
             1392730000,
             51635256
            ],
            "sizemode": "area",
            "sizeref": 460406.6115702479,
            "symbol": "circle"
           },
           "mode": "markers",
           "name": "Asia",
           "showlegend": true,
           "type": "scatter",
           "x": [
            4.34,
            12.27
           ],
           "xaxis": "x",
           "y": [
            2.1640949789262813,
            2.943725116807787
           ],
           "yaxis": "y"
          }
         ],
         "name": "20"
        },
        {
         "data": [
          {
           "hovertemplate": "<b>%{hovertext}</b><br><br>Continent=Europe<br>Day=21<br>Hospital_beds_per100_2017=%{x}<br>Dead_per_million=%{y}<br>popData2018=%{marker.size}<extra></extra>",
           "hovertext": [
            "Austria",
            "Belgium",
            "Czech_Republic",
            "Denmark",
            "Estonia",
            "Finland",
            "France",
            "Germany",
            "Greece",
            "Hungary",
            "Iceland",
            "Ireland",
            "Italy",
            "Lithuania",
            "Luxembourg",
            "Netherlands",
            "Norway",
            "Portugal",
            "Slovenia",
            "Spain",
            "Sweden",
            "Switzerland",
            "Turkey"
           ],
           "ids": [
            "Austria",
            "Belgium",
            "Czech_Republic",
            "Denmark",
            "Estonia",
            "Finland",
            "France",
            "Germany",
            "Greece",
            "Hungary",
            "Iceland",
            "Ireland",
            "Italy",
            "Lithuania",
            "Luxembourg",
            "Netherlands",
            "Norway",
            "Portugal",
            "Slovenia",
            "Spain",
            "Sweden",
            "Switzerland",
            "Turkey"
           ],
           "legendgroup": "Europe",
           "marker": {
            "color": "#EF553B",
            "size": [
             8847037,
             11422068,
             10625695,
             5797446,
             1320884,
             5518050,
             66987244,
             82927922,
             10727668,
             9768785,
             353574,
             4853506,
             60431283,
             2789533,
             607728,
             17231017,
             5314336,
             10281762,
             2067372,
             46723749,
             10183175,
             8516543,
             82319724
            ],
            "sizemode": "area",
            "sizeref": 460406.6115702479,
            "symbol": "circle"
           },
           "mode": "markers",
           "name": "Europe",
           "showlegend": true,
           "type": "scatter",
           "x": [
            7.37,
            5.76,
            6.63,
            2.61,
            4.69,
            3.28,
            5.98,
            8,
            4.21,
            7.02,
            3.06,
            2.96,
            3.18,
            6.56,
            4.66,
            3.32,
            3.6,
            3.39,
            4.5,
            2.97,
            2.22,
            4.53,
            2.81
           ],
           "xaxis": "x",
           "y": [
            38.09184928242077,
            178.16388415828027,
            16.281287953399755,
            37.60276507965749,
            28.768612535241548,
            13.591757957974286,
            67.22175344308836,
            32.23281056047684,
            8.389521375941165,
            12.48875883746034,
            16.96957355461657,
            68.8162330488517,
            100.56049943536695,
            8.603590636855703,
            51.00966221730774,
            95.81558650891007,
            15.053620997994859,
            42.30792348626626,
            26.60382359826872,
            175.26418952383295,
            77.87355122542822,
            56.830570807897054,
            19.958764681961277
           ],
           "yaxis": "y"
          },
          {
           "hovertemplate": "<b>%{hovertext}</b><br><br>Continent=North America<br>Day=21<br>Hospital_beds_per100_2017=%{x}<br>Dead_per_million=%{y}<br>popData2018=%{marker.size}<extra></extra>",
           "hovertext": [
            "Canada",
            "USA"
           ],
           "ids": [
            "Canada",
            "USA"
           ],
           "legendgroup": "North America",
           "marker": {
            "color": "#00cc96",
            "size": [
             37058856,
             327167434
            ],
            "sizemode": "area",
            "sizeref": 460406.6115702479,
            "symbol": "circle"
           },
           "mode": "markers",
           "name": "North America",
           "showlegend": true,
           "type": "scatter",
           "x": [
            2.52,
            2.77
           ],
           "xaxis": "x",
           "y": [
            27.253944374321755,
            57.39263156613564
           ],
           "yaxis": "y"
          },
          {
           "hovertemplate": "<b>%{hovertext}</b><br><br>Continent=Asia<br>Day=21<br>Hospital_beds_per100_2017=%{x}<br>Dead_per_million=%{y}<br>popData2018=%{marker.size}<extra></extra>",
           "hovertext": [
            "China",
            "South_Korea"
           ],
           "ids": [
            "China",
            "South_Korea"
           ],
           "legendgroup": "Asia",
           "marker": {
            "color": "#ab63fa",
            "size": [
             1392730000,
             51635256
            ],
            "sizemode": "area",
            "sizeref": 460406.6115702479,
            "symbol": "circle"
           },
           "mode": "markers",
           "name": "Asia",
           "showlegend": true,
           "type": "scatter",
           "x": [
            4.34,
            12.27
           ],
           "xaxis": "x",
           "y": [
            2.1856354067191774,
            3.0599247924712527
           ],
           "yaxis": "y"
          }
         ],
         "name": "21"
        },
        {
         "data": [
          {
           "hovertemplate": "<b>%{hovertext}</b><br><br>Continent=Europe<br>Day=22<br>Hospital_beds_per100_2017=%{x}<br>Dead_per_million=%{y}<br>popData2018=%{marker.size}<extra></extra>",
           "hovertext": [
            "Austria",
            "Belgium",
            "Czech_Republic",
            "Denmark",
            "Estonia",
            "Finland",
            "France",
            "Germany",
            "Greece",
            "Hungary",
            "Iceland",
            "Ireland",
            "Italy",
            "Lithuania",
            "Luxembourg",
            "Netherlands",
            "Norway",
            "Portugal",
            "Slovenia",
            "Spain",
            "Sweden",
            "Switzerland",
            "Turkey"
           ],
           "ids": [
            "Austria",
            "Belgium",
            "Czech_Republic",
            "Denmark",
            "Estonia",
            "Finland",
            "France",
            "Germany",
            "Greece",
            "Hungary",
            "Iceland",
            "Ireland",
            "Italy",
            "Lithuania",
            "Luxembourg",
            "Netherlands",
            "Norway",
            "Portugal",
            "Slovenia",
            "Spain",
            "Sweden",
            "Switzerland",
            "Turkey"
           ],
           "legendgroup": "Europe",
           "marker": {
            "color": "#EF553B",
            "size": [
             8847037,
             11422068,
             10625695,
             5797446,
             1320884,
             5518050,
             66987244,
             82927922,
             10727668,
             9768785,
             353574,
             4853506,
             60431283,
             2789533,
             607728,
             17231017,
             5314336,
             10281762,
             2067372,
             46723749,
             10183175,
             8516543,
             82319724
            ],
            "sizemode": "area",
            "sizeref": 460406.6115702479,
            "symbol": "circle"
           },
           "mode": "markers",
           "name": "Europe",
           "showlegend": true,
           "type": "scatter",
           "x": [
            7.37,
            5.76,
            6.63,
            2.61,
            4.69,
            3.28,
            5.98,
            8,
            4.21,
            7.02,
            3.06,
            2.96,
            3.18,
            6.56,
            4.66,
            3.32,
            3.6,
            3.39,
            4.5,
            2.97,
            2.22,
            4.53,
            2.81
           ],
           "xaxis": "x",
           "y": [
            39.56126780073374,
            196.1115973044461,
            17.034179881880668,
            40.880070293022136,
            30.282750037096367,
            14.860322034051885,
            97.13789688078525,
            33.75220230406835,
            8.669172088472537,
            13.717161346062996,
            16.96957355461657,
            75.20336845158944,
            112.85545600612187,
            10.396005352867308,
            51.00966221730774,
            102.48959768306189,
            16.558983097794343,
            45.71200928401183,
            27.087529481873606,
            193.75585636332394,
            85.43504358905744,
            63.406008752612415,
            21.489382058666767
           ],
           "yaxis": "y"
          },
          {
           "hovertemplate": "<b>%{hovertext}</b><br><br>Continent=North America<br>Day=22<br>Hospital_beds_per100_2017=%{x}<br>Dead_per_million=%{y}<br>popData2018=%{marker.size}<extra></extra>",
           "hovertext": [
            "Canada",
            "USA"
           ],
           "ids": [
            "Canada",
            "USA"
           ],
           "legendgroup": "North America",
           "marker": {
            "color": "#00cc96",
            "size": [
             37058856,
             327167434
            ],
            "sizemode": "area",
            "sizeref": 460406.6115702479,
            "symbol": "circle"
           },
           "mode": "markers",
           "name": "North America",
           "showlegend": true,
           "type": "scatter",
           "x": [
            2.52,
            2.77
           ],
           "xaxis": "x",
           "y": [
            32.19203528570877,
            62.9891543545254
           ],
           "yaxis": "y"
          },
          {
           "hovertemplate": "<b>%{hovertext}</b><br><br>Continent=Asia<br>Day=22<br>Hospital_beds_per100_2017=%{x}<br>Dead_per_million=%{y}<br>popData2018=%{marker.size}<extra></extra>",
           "hovertext": [
            "China",
            "South_Korea"
           ],
           "ids": [
            "China",
            "South_Korea"
           ],
           "legendgroup": "Asia",
           "marker": {
            "color": "#ab63fa",
            "size": [
             1392730000,
             51635256
            ],
            "sizemode": "area",
            "sizeref": 460406.6115702479,
            "symbol": "circle"
           },
           "mode": "markers",
           "name": "Asia",
           "showlegend": true,
           "type": "scatter",
           "x": [
            4.34,
            12.27
           ],
           "xaxis": "x",
           "y": [
            2.2057398059925473,
            3.1567578555241402
           ],
           "yaxis": "y"
          }
         ],
         "name": "22"
        },
        {
         "data": [
          {
           "hovertemplate": "<b>%{hovertext}</b><br><br>Continent=Europe<br>Day=23<br>Hospital_beds_per100_2017=%{x}<br>Dead_per_million=%{y}<br>popData2018=%{marker.size}<extra></extra>",
           "hovertext": [
            "Austria",
            "Belgium",
            "Czech_Republic",
            "Denmark",
            "Finland",
            "France",
            "Germany",
            "Greece",
            "Hungary",
            "Iceland",
            "Ireland",
            "Italy",
            "Lithuania",
            "Luxembourg",
            "Netherlands",
            "Norway",
            "Portugal",
            "Slovenia",
            "Spain",
            "Sweden",
            "Switzerland",
            "Turkey"
           ],
           "ids": [
            "Austria",
            "Belgium",
            "Czech_Republic",
            "Denmark",
            "Finland",
            "France",
            "Germany",
            "Greece",
            "Hungary",
            "Iceland",
            "Ireland",
            "Italy",
            "Lithuania",
            "Luxembourg",
            "Netherlands",
            "Norway",
            "Portugal",
            "Slovenia",
            "Spain",
            "Sweden",
            "Switzerland",
            "Turkey"
           ],
           "legendgroup": "Europe",
           "marker": {
            "color": "#EF553B",
            "size": [
             8847037,
             11422068,
             10625695,
             5797446,
             5518050,
             66987244,
             82927922,
             10727668,
             9768785,
             353574,
             4853506,
             60431283,
             2789533,
             607728,
             17231017,
             5314336,
             10281762,
             2067372,
             46723749,
             10183175,
             8516543,
             82319724
            ],
            "sizemode": "area",
            "sizeref": 460406.6115702479,
            "symbol": "circle"
           },
           "mode": "markers",
           "name": "Europe",
           "showlegend": true,
           "type": "scatter",
           "x": [
            7.37,
            5.76,
            6.63,
            2.61,
            3.28,
            5.98,
            8,
            4.21,
            7.02,
            3.06,
            2.96,
            3.18,
            6.56,
            4.66,
            3.32,
            3.6,
            3.39,
            4.5,
            2.97,
            2.22,
            4.53,
            2.81
           ],
           "xaxis": "x",
           "y": [
            41.595847287628615,
            220.88819642817745,
            17.692960319301466,
            42.60496777374036,
            16.31010954956914,
            112.85730757933555,
            35.8021752914537,
            9.135256609358157,
            14.536096351798099,
            19.797835813719335,
            83.65087011327482,
            124.19064476920009,
            11.471454182474272,
            59.237027091067056,
            108.35112054036044,
            17.311664147694085,
            49.01883548753609,
            29.506058899898036,
            214.08812892989386,
            87.10446398102754,
            65.63696091242656,
            22.959260650582358
           ],
           "yaxis": "y"
          },
          {
           "hovertemplate": "<b>%{hovertext}</b><br><br>Continent=North America<br>Day=23<br>Hospital_beds_per100_2017=%{x}<br>Dead_per_million=%{y}<br>popData2018=%{marker.size}<extra></extra>",
           "hovertext": [
            "Canada",
            "USA"
           ],
           "ids": [
            "Canada",
            "USA"
           ],
           "legendgroup": "North America",
           "marker": {
            "color": "#00cc96",
            "size": [
             37058856,
             327167434
            ],
            "sizemode": "area",
            "sizeref": 460406.6115702479,
            "symbol": "circle"
           },
           "mode": "markers",
           "name": "North America",
           "showlegend": true,
           "type": "scatter",
           "x": [
            2.52,
            2.77
           ],
           "xaxis": "x",
           "y": [
            35.32219127325463,
            67.57396275571853
           ],
           "yaxis": "y"
          },
          {
           "hovertemplate": "<b>%{hovertext}</b><br><br>Continent=Asia<br>Day=23<br>Hospital_beds_per100_2017=%{x}<br>Dead_per_million=%{y}<br>popData2018=%{marker.size}<extra></extra>",
           "hovertext": [
            "China",
            "South_Korea"
           ],
           "ids": [
            "China",
            "South_Korea"
           ],
           "legendgroup": "Asia",
           "marker": {
            "color": "#ab63fa",
            "size": [
             1392730000,
             51635256
            ],
            "sizemode": "area",
            "sizeref": 460406.6115702479,
            "symbol": "circle"
           },
           "mode": "markers",
           "name": "Asia",
           "showlegend": true,
           "type": "scatter",
           "x": [
            4.34,
            12.27
           ],
           "xaxis": "x",
           "y": [
            2.225126191006153,
            3.1567578555241402
           ],
           "yaxis": "y"
          }
         ],
         "name": "23"
        },
        {
         "data": [
          {
           "hovertemplate": "<b>%{hovertext}</b><br><br>Continent=Europe<br>Day=24<br>Hospital_beds_per100_2017=%{x}<br>Dead_per_million=%{y}<br>popData2018=%{marker.size}<extra></extra>",
           "hovertext": [
            "Austria",
            "Belgium",
            "Denmark",
            "Finland",
            "France",
            "Germany",
            "Greece",
            "Hungary",
            "Iceland",
            "Ireland",
            "Italy",
            "Lithuania",
            "Luxembourg",
            "Netherlands",
            "Norway",
            "Portugal",
            "Slovenia",
            "Spain",
            "Sweden",
            "Switzerland",
            "Turkey"
           ],
           "ids": [
            "Austria",
            "Belgium",
            "Denmark",
            "Finland",
            "France",
            "Germany",
            "Greece",
            "Hungary",
            "Iceland",
            "Ireland",
            "Italy",
            "Lithuania",
            "Luxembourg",
            "Netherlands",
            "Norway",
            "Portugal",
            "Slovenia",
            "Spain",
            "Sweden",
            "Switzerland",
            "Turkey"
           ],
           "legendgroup": "Europe",
           "marker": {
            "color": "#EF553B",
            "size": [
             8847037,
             11422068,
             5797446,
             5518050,
             66987244,
             82927922,
             10727668,
             9768785,
             353574,
             4853506,
             60431283,
             2789533,
             607728,
             17231017,
             5314336,
             10281762,
             2067372,
             46723749,
             10183175,
             8516543,
             82319724
            ],
            "sizemode": "area",
            "sizeref": 460406.6115702479,
            "symbol": "circle"
           },
           "mode": "markers",
           "name": "Europe",
           "showlegend": true,
           "type": "scatter",
           "x": [
            7.37,
            5.76,
            2.61,
            3.28,
            5.98,
            8,
            4.21,
            7.02,
            3.06,
            2.96,
            3.18,
            6.56,
            4.66,
            3.32,
            3.6,
            3.39,
            4.5,
            2.97,
            2.22,
            4.53,
            2.81
           ],
           "xaxis": "x",
           "y": [
            43.40436238709073,
            264.3129072598762,
            44.84733449867407,
            17.03500330732777,
            120.5901230986604,
            39.238894711482104,
            9.228473513535281,
            15.969232611834531,
            22.626098072822096,
            91.48026189727591,
            135.11214051172803,
            11.829937125676592,
            67.46439196482638,
            121.93128240776501,
            18.4406857225437,
            52.03388290839644,
            29.506058899898036,
            234.03515843730776,
            88.28287837535935,
            68.57242428060306,
            24.502025784245827
           ],
           "yaxis": "y"
          },
          {
           "hovertemplate": "<b>%{hovertext}</b><br><br>Continent=North America<br>Day=24<br>Hospital_beds_per100_2017=%{x}<br>Dead_per_million=%{y}<br>popData2018=%{marker.size}<extra></extra>",
           "hovertext": [
            "Canada",
            "USA"
           ],
           "ids": [
            "Canada",
            "USA"
           ],
           "legendgroup": "North America",
           "marker": {
            "color": "#00cc96",
            "size": [
             37058856,
             327167434
            ],
            "sizemode": "area",
            "sizeref": 460406.6115702479,
            "symbol": "circle"
           },
           "mode": "markers",
           "name": "North America",
           "showlegend": true,
           "type": "scatter",
           "x": [
            2.52,
            2.77
           ],
           "xaxis": "x",
           "y": [
            39.58567960111883,
            72.28408925321094
           ],
           "yaxis": "y"
          },
          {
           "hovertemplate": "<b>%{hovertext}</b><br><br>Continent=Asia<br>Day=24<br>Hospital_beds_per100_2017=%{x}<br>Dead_per_million=%{y}<br>popData2018=%{marker.size}<extra></extra>",
           "hovertext": [
            "China",
            "South_Korea"
           ],
           "ids": [
            "China",
            "South_Korea"
           ],
           "legendgroup": "Asia",
           "marker": {
            "color": "#ab63fa",
            "size": [
             1392730000,
             51635256
            ],
            "sizemode": "area",
            "sizeref": 460406.6115702479,
            "symbol": "circle"
           },
           "mode": "markers",
           "name": "Asia",
           "showlegend": true,
           "type": "scatter",
           "x": [
            4.34,
            12.27
           ],
           "xaxis": "x",
           "y": [
            2.241640518980707,
            3.2729575311876054
           ],
           "yaxis": "y"
          }
         ],
         "name": "24"
        },
        {
         "data": [
          {
           "hovertemplate": "<b>%{hovertext}</b><br><br>Continent=Europe<br>Day=25<br>Hospital_beds_per100_2017=%{x}<br>Dead_per_million=%{y}<br>popData2018=%{marker.size}<extra></extra>",
           "hovertext": [
            "Austria",
            "Belgium",
            "Denmark",
            "France",
            "Germany",
            "Greece",
            "Hungary",
            "Iceland",
            "Ireland",
            "Italy",
            "Lithuania",
            "Luxembourg",
            "Netherlands",
            "Norway",
            "Portugal",
            "Slovenia",
            "Spain",
            "Sweden",
            "Switzerland"
           ],
           "ids": [
            "Austria",
            "Belgium",
            "Denmark",
            "France",
            "Germany",
            "Greece",
            "Hungary",
            "Iceland",
            "Ireland",
            "Italy",
            "Lithuania",
            "Luxembourg",
            "Netherlands",
            "Norway",
            "Portugal",
            "Slovenia",
            "Spain",
            "Sweden",
            "Switzerland"
           ],
           "legendgroup": "Europe",
           "marker": {
            "color": "#EF553B",
            "size": [
             8847037,
             11422068,
             5797446,
             66987244,
             82927922,
             10727668,
             9768785,
             353574,
             4853506,
             60431283,
             2789533,
             607728,
             17231017,
             5314336,
             10281762,
             2067372,
             46723749,
             10183175,
             8516543
            ],
            "sizemode": "area",
            "sizeref": 460406.6115702479,
            "symbol": "circle"
           },
           "mode": "markers",
           "name": "Europe",
           "showlegend": true,
           "type": "scatter",
           "x": [
            7.37,
            5.76,
            2.61,
            5.98,
            8,
            4.21,
            7.02,
            3.06,
            2.96,
            3.18,
            6.56,
            4.66,
            3.32,
            3.6,
            3.39,
            4.5,
            2.97,
            2.22,
            4.53
           ],
           "xaxis": "x",
           "y": [
            44.42165213053817,
            292.94169847351634,
            47.089701223607776,
            133.0253264337909,
            43.03737407046086,
            9.41490732188953,
            17.60710262330474,
            22.626098072822096,
            100.13380018485607,
            151.17997742990167,
            11.829937125676592,
            72.40081088908195,
            130.4624097347243,
            19.38153703491838,
            55.1461899234781,
            31.924588317922463,
            251.34969370715524,
            90.24690236591239,
            75.26528076004548
           ],
           "yaxis": "y"
          },
          {
           "hovertemplate": "<b>%{hovertext}</b><br><br>Continent=North America<br>Day=25<br>Hospital_beds_per100_2017=%{x}<br>Dead_per_million=%{y}<br>popData2018=%{marker.size}<extra></extra>",
           "hovertext": [
            "Canada",
            "USA"
           ],
           "ids": [
            "Canada",
            "USA"
           ],
           "legendgroup": "North America",
           "marker": {
            "color": "#00cc96",
            "size": [
             37058856,
             327167434
            ],
            "sizemode": "area",
            "sizeref": 460406.6115702479,
            "symbol": "circle"
           },
           "mode": "markers",
           "name": "North America",
           "showlegend": true,
           "type": "scatter",
           "x": [
            2.52,
            2.77
           ],
           "xaxis": "x",
           "y": [
            42.63488327864195,
            79.644235006593
           ],
           "yaxis": "y"
          },
          {
           "hovertemplate": "<b>%{hovertext}</b><br><br>Continent=Asia<br>Day=25<br>Hospital_beds_per100_2017=%{x}<br>Dead_per_million=%{y}<br>popData2018=%{marker.size}<extra></extra>",
           "hovertext": [
            "China",
            "South_Korea"
           ],
           "ids": [
            "China",
            "South_Korea"
           ],
           "legendgroup": "Asia",
           "marker": {
            "color": "#ab63fa",
            "size": [
             1392730000,
             51635256
            ],
            "sizemode": "area",
            "sizeref": 460406.6115702479,
            "symbol": "circle"
           },
           "mode": "markers",
           "name": "Asia",
           "showlegend": true,
           "type": "scatter",
           "x": [
            4.34,
            12.27
           ],
           "xaxis": "x",
           "y": [
            2.253846761396681,
            3.3697905942404933
           ],
           "yaxis": "y"
          }
         ],
         "name": "25"
        },
        {
         "data": [
          {
           "hovertemplate": "<b>%{hovertext}</b><br><br>Continent=Europe<br>Day=26<br>Hospital_beds_per100_2017=%{x}<br>Dead_per_million=%{y}<br>popData2018=%{marker.size}<extra></extra>",
           "hovertext": [
            "Austria",
            "Belgium",
            "Denmark",
            "France",
            "Germany",
            "Greece",
            "Hungary",
            "Iceland",
            "Ireland",
            "Italy",
            "Lithuania",
            "Luxembourg",
            "Netherlands",
            "Norway",
            "Portugal",
            "Slovenia",
            "Spain",
            "Sweden",
            "Switzerland"
           ],
           "ids": [
            "Austria",
            "Belgium",
            "Denmark",
            "France",
            "Germany",
            "Greece",
            "Hungary",
            "Iceland",
            "Ireland",
            "Italy",
            "Lithuania",
            "Luxembourg",
            "Netherlands",
            "Norway",
            "Portugal",
            "Slovenia",
            "Spain",
            "Sweden",
            "Switzerland"
           ],
           "legendgroup": "Europe",
           "marker": {
            "color": "#EF553B",
            "size": [
             8847037,
             11422068,
             5797446,
             66987244,
             82927922,
             10727668,
             9768785,
             353574,
             4853506,
             60431283,
             2789533,
             607728,
             17231017,
             5314336,
             10281762,
             2067372,
             46723749,
             10183175,
             8516543
            ],
            "sizemode": "area",
            "sizeref": 460406.6115702479,
            "symbol": "circle"
           },
           "mode": "markers",
           "name": "Europe",
           "showlegend": true,
           "type": "scatter",
           "x": [
            7.37,
            5.76,
            2.61,
            5.98,
            8,
            4.21,
            7.02,
            3.06,
            2.96,
            3.18,
            6.56,
            4.66,
            3.32,
            3.6,
            3.39,
            4.5,
            2.97,
            2.22,
            4.53
           ],
           "xaxis": "x",
           "y": [
            46.34319942371666,
            315.179352810717,
            49.15957820046965,
            154.17860749727217,
            46.64291479533274,
            9.508124226066654,
            19.347339510491835,
            22.626098072822096,
            109.19941172422574,
            165.85780579902632,
            12.905385955283556,
            75.69175683858569,
            139.05157194145883,
            21.451409922142673,
            58.25849693855975,
            33.85941185234201,
            265.77490603333223,
            101.44183911206476,
            82.78006698257732
           ],
           "yaxis": "y"
          },
          {
           "hovertemplate": "<b>%{hovertext}</b><br><br>Continent=North America<br>Day=26<br>Hospital_beds_per100_2017=%{x}<br>Dead_per_million=%{y}<br>popData2018=%{marker.size}<extra></extra>",
           "hovertext": [
            "USA"
           ],
           "ids": [
            "USA"
           ],
           "legendgroup": "North America",
           "marker": {
            "color": "#00cc96",
            "size": [
             327167434
            ],
            "sizemode": "area",
            "sizeref": 460406.6115702479,
            "symbol": "circle"
           },
           "mode": "markers",
           "name": "North America",
           "showlegend": true,
           "type": "scatter",
           "x": [
            2.77
           ],
           "xaxis": "x",
           "y": [
            94.70685887397948
           ],
           "yaxis": "y"
          },
          {
           "hovertemplate": "<b>%{hovertext}</b><br><br>Continent=Asia<br>Day=26<br>Hospital_beds_per100_2017=%{x}<br>Dead_per_million=%{y}<br>popData2018=%{marker.size}<extra></extra>",
           "hovertext": [
            "China",
            "South_Korea"
           ],
           "ids": [
            "China",
            "South_Korea"
           ],
           "legendgroup": "Asia",
           "marker": {
            "color": "#ab63fa",
            "size": [
             1392730000,
             51635256
            ],
            "sizemode": "area",
            "sizeref": 460406.6115702479,
            "symbol": "circle"
           },
           "mode": "markers",
           "name": "Asia",
           "showlegend": true,
           "type": "scatter",
           "x": [
            4.34,
            12.27
           ],
           "xaxis": "x",
           "y": [
            2.2696430751114716,
            3.427890432072226
           ],
           "yaxis": "y"
          }
         ],
         "name": "26"
        },
        {
         "data": [
          {
           "hovertemplate": "<b>%{hovertext}</b><br><br>Continent=Europe<br>Day=27<br>Hospital_beds_per100_2017=%{x}<br>Dead_per_million=%{y}<br>popData2018=%{marker.size}<extra></extra>",
           "hovertext": [
            "Austria",
            "Belgium",
            "Denmark",
            "France",
            "Germany",
            "Greece",
            "Hungary",
            "Iceland",
            "Ireland",
            "Italy",
            "Luxembourg",
            "Netherlands",
            "Norway",
            "Portugal",
            "Slovenia",
            "Spain",
            "Sweden",
            "Switzerland"
           ],
           "ids": [
            "Austria",
            "Belgium",
            "Denmark",
            "France",
            "Germany",
            "Greece",
            "Hungary",
            "Iceland",
            "Ireland",
            "Italy",
            "Luxembourg",
            "Netherlands",
            "Norway",
            "Portugal",
            "Slovenia",
            "Spain",
            "Sweden",
            "Switzerland"
           ],
           "legendgroup": "Europe",
           "marker": {
            "color": "#EF553B",
            "size": [
             8847037,
             11422068,
             5797446,
             66987244,
             82927922,
             10727668,
             9768785,
             353574,
             4853506,
             60431283,
             607728,
             17231017,
             5314336,
             10281762,
             2067372,
             46723749,
             10183175,
             8516543
            ],
            "sizemode": "area",
            "sizeref": 460406.6115702479,
            "symbol": "circle"
           },
           "mode": "markers",
           "name": "Europe",
           "showlegend": true,
           "type": "scatter",
           "x": [
            7.37,
            5.76,
            2.61,
            5.98,
            8,
            4.21,
            7.02,
            3.06,
            2.96,
            3.18,
            4.66,
            3.32,
            3.6,
            3.39,
            4.5,
            2.97,
            2.22,
            4.53
           ],
           "xaxis": "x",
           "y": [
            48.71687549176069,
            341.70694833895226,
            51.57443467347518,
            162.25477196822726,
            49.561111636198966,
            9.787774938598025,
            20.371008267660716,
            22.626098072822096,
            117.64691338591113,
            178.4009781821114,
            85.56459468709686,
            145.72558311561065,
            23.897623334316837,
            61.17628476519881,
            35.79423538676155,
            279.4082298490217,
            118.13604303176564,
            88.76841225365739
           ],
           "yaxis": "y"
          },
          {
           "hovertemplate": "<b>%{hovertext}</b><br><br>Continent=North America<br>Day=27<br>Hospital_beds_per100_2017=%{x}<br>Dead_per_million=%{y}<br>popData2018=%{marker.size}<extra></extra>",
           "hovertext": [
            "USA"
           ],
           "ids": [
            "USA"
           ],
           "legendgroup": "North America",
           "marker": {
            "color": "#00cc96",
            "size": [
             327167434
            ],
            "sizemode": "area",
            "sizeref": 460406.6115702479,
            "symbol": "circle"
           },
           "mode": "markers",
           "name": "North America",
           "showlegend": true,
           "type": "scatter",
           "x": [
            2.77
           ],
           "xaxis": "x",
           "y": [
            101.7338418835415
           ],
           "yaxis": "y"
          },
          {
           "hovertemplate": "<b>%{hovertext}</b><br><br>Continent=Asia<br>Day=27<br>Hospital_beds_per100_2017=%{x}<br>Dead_per_million=%{y}<br>popData2018=%{marker.size}<extra></extra>",
           "hovertext": [
            "China",
            "South_Korea"
           ],
           "ids": [
            "China",
            "South_Korea"
           ],
           "legendgroup": "Asia",
           "marker": {
            "color": "#ab63fa",
            "size": [
             1392730000,
             51635256
            ],
            "sizemode": "area",
            "sizeref": 460406.6115702479,
            "symbol": "circle"
           },
           "mode": "markers",
           "name": "Asia",
           "showlegend": true,
           "type": "scatter",
           "x": [
            4.34,
            12.27
           ],
           "xaxis": "x",
           "y": [
            2.2775412319688666,
            3.544090107735691
           ],
           "yaxis": "y"
          }
         ],
         "name": "27"
        },
        {
         "data": [
          {
           "hovertemplate": "<b>%{hovertext}</b><br><br>Continent=Europe<br>Day=28<br>Hospital_beds_per100_2017=%{x}<br>Dead_per_million=%{y}<br>popData2018=%{marker.size}<extra></extra>",
           "hovertext": [
            "Austria",
            "Belgium",
            "Denmark",
            "France",
            "Germany",
            "Greece",
            "Iceland",
            "Ireland",
            "Italy",
            "Luxembourg",
            "Netherlands",
            "Norway",
            "Portugal",
            "Spain",
            "Sweden",
            "Switzerland"
           ],
           "ids": [
            "Austria",
            "Belgium",
            "Denmark",
            "France",
            "Germany",
            "Greece",
            "Iceland",
            "Ireland",
            "Italy",
            "Luxembourg",
            "Netherlands",
            "Norway",
            "Portugal",
            "Spain",
            "Sweden",
            "Switzerland"
           ],
           "legendgroup": "Europe",
           "marker": {
            "color": "#EF553B",
            "size": [
             8847037,
             11422068,
             5797446,
             66987244,
             82927922,
             10727668,
             353574,
             4853506,
             60431283,
             607728,
             17231017,
             5314336,
             10281762,
             46723749,
             10183175,
             8516543
            ],
            "sizemode": "area",
            "sizeref": 460406.6115702479,
            "symbol": "circle"
           },
           "mode": "markers",
           "name": "Europe",
           "showlegend": true,
           "type": "scatter",
           "x": [
            7.37,
            5.76,
            2.61,
            5.98,
            8,
            4.21,
            3.06,
            2.96,
            3.18,
            4.66,
            3.32,
            3.6,
            3.39,
            2.97,
            2.22,
            4.53
           ],
           "xaxis": "x",
           "y": [
            50.07326181635727,
            363.94460267615284,
            53.299332154193415,
            182.27350866979987,
            51.77990592842782,
            9.787774938598025,
            22.626098072822096,
            125.68234179580699,
            191.8046320479411,
            88.85554063660058,
            153.38618724594141,
            24.462134121741645,
            63.89955340339526,
            295.31020723529696,
            130.90219897036042,
            94.52192045528332
           ],
           "yaxis": "y"
          },
          {
           "hovertemplate": "<b>%{hovertext}</b><br><br>Continent=North America<br>Day=28<br>Hospital_beds_per100_2017=%{x}<br>Dead_per_million=%{y}<br>popData2018=%{marker.size}<extra></extra>",
           "hovertext": [
            "USA"
           ],
           "ids": [
            "USA"
           ],
           "legendgroup": "North America",
           "marker": {
            "color": "#00cc96",
            "size": [
             327167434
            ],
            "sizemode": "area",
            "sizeref": 460406.6115702479,
            "symbol": "circle"
           },
           "mode": "markers",
           "name": "North America",
           "showlegend": true,
           "type": "scatter",
           "x": [
            2.77
           ],
           "xaxis": "x",
           "y": [
            113.2569936652069
           ],
           "yaxis": "y"
          },
          {
           "hovertemplate": "<b>%{hovertext}</b><br><br>Continent=Asia<br>Day=28<br>Hospital_beds_per100_2017=%{x}<br>Dead_per_million=%{y}<br>popData2018=%{marker.size}<extra></extra>",
           "hovertext": [
            "China",
            "South_Korea"
           ],
           "ids": [
            "China",
            "South_Korea"
           ],
           "legendgroup": "Asia",
           "marker": {
            "color": "#ab63fa",
            "size": [
             1392730000,
             51635256
            ],
            "sizemode": "area",
            "sizeref": 460406.6115702479,
            "symbol": "circle"
           },
           "mode": "markers",
           "name": "Asia",
           "showlegend": true,
           "type": "scatter",
           "x": [
            4.34,
            12.27
           ],
           "xaxis": "x",
           "y": [
            2.2825673317872095,
            3.602189945567424
           ],
           "yaxis": "y"
          }
         ],
         "name": "28"
        },
        {
         "data": [
          {
           "hovertemplate": "<b>%{hovertext}</b><br><br>Continent=Europe<br>Day=29<br>Hospital_beds_per100_2017=%{x}<br>Dead_per_million=%{y}<br>popData2018=%{marker.size}<extra></extra>",
           "hovertext": [
            "Austria",
            "Belgium",
            "Denmark",
            "France",
            "Germany",
            "Greece",
            "Iceland",
            "Italy",
            "Luxembourg",
            "Netherlands",
            "Norway",
            "Portugal",
            "Spain",
            "Sweden",
            "Switzerland"
           ],
           "ids": [
            "Austria",
            "Belgium",
            "Denmark",
            "France",
            "Germany",
            "Greece",
            "Iceland",
            "Italy",
            "Luxembourg",
            "Netherlands",
            "Norway",
            "Portugal",
            "Spain",
            "Sweden",
            "Switzerland"
           ],
           "legendgroup": "Europe",
           "marker": {
            "color": "#EF553B",
            "size": [
             8847037,
             11422068,
             5797446,
             66987244,
             82927922,
             10727668,
             353574,
             60431283,
             607728,
             17231017,
             5314336,
             10281762,
             46723749,
             10183175,
             8516543
            ],
            "sizemode": "area",
            "sizeref": 460406.6115702479,
            "symbol": "circle"
           },
           "mode": "markers",
           "name": "Europe",
           "showlegend": true,
           "type": "scatter",
           "x": [
            7.37,
            5.76,
            2.61,
            5.98,
            8,
            4.21,
            3.06,
            3.18,
            4.66,
            3.32,
            3.6,
            3.39,
            2.97,
            2.22,
            4.53
           ],
           "xaxis": "x",
           "y": [
            51.090551559804716,
            388.7212017998842,
            55.3692091310553,
            197.00765715932422,
            53.10635903791247,
            9.787774938598025,
            22.626098072822096,
            205.6881698176092,
            102.01932443461548,
            158.84146594481336,
            25.591155696591258,
            66.8173412300343,
            311.5118181120269,
            137.48167933871312,
            97.57480235818689
           ],
           "yaxis": "y"
          },
          {
           "hovertemplate": "<b>%{hovertext}</b><br><br>Continent=North America<br>Day=29<br>Hospital_beds_per100_2017=%{x}<br>Dead_per_million=%{y}<br>popData2018=%{marker.size}<extra></extra>",
           "hovertext": [
            "USA"
           ],
           "ids": [
            "USA"
           ],
           "legendgroup": "North America",
           "marker": {
            "color": "#00cc96",
            "size": [
             327167434
            ],
            "sizemode": "area",
            "sizeref": 460406.6115702479,
            "symbol": "circle"
           },
           "mode": "markers",
           "name": "North America",
           "showlegend": true,
           "type": "scatter",
           "x": [
            2.77
           ],
           "xaxis": "x",
           "y": [
            118.92992992694988
           ],
           "yaxis": "y"
          },
          {
           "hovertemplate": "<b>%{hovertext}</b><br><br>Continent=Asia<br>Day=29<br>Hospital_beds_per100_2017=%{x}<br>Dead_per_million=%{y}<br>popData2018=%{marker.size}<extra></extra>",
           "hovertext": [
            "China",
            "South_Korea"
           ],
           "ids": [
            "China",
            "South_Korea"
           ],
           "legendgroup": "Asia",
           "marker": {
            "color": "#ab63fa",
            "size": [
             1392730000,
             51635256
            ],
            "sizemode": "area",
            "sizeref": 460406.6115702479,
            "symbol": "circle"
           },
           "mode": "markers",
           "name": "Asia",
           "showlegend": true,
           "type": "scatter",
           "x": [
            4.34,
            12.27
           ],
           "xaxis": "x",
           "y": [
            2.293337545683657,
            3.718389621230889
           ],
           "yaxis": "y"
          }
         ],
         "name": "29"
        },
        {
         "data": [
          {
           "hovertemplate": "<b>%{hovertext}</b><br><br>Continent=Europe<br>Day=30<br>Hospital_beds_per100_2017=%{x}<br>Dead_per_million=%{y}<br>popData2018=%{marker.size}<extra></extra>",
           "hovertext": [
            "Belgium",
            "Denmark",
            "France",
            "Greece",
            "Iceland",
            "Italy",
            "Luxembourg",
            "Netherlands",
            "Norway",
            "Portugal",
            "Spain",
            "Sweden",
            "Switzerland"
           ],
           "ids": [
            "Belgium",
            "Denmark",
            "France",
            "Greece",
            "Iceland",
            "Italy",
            "Luxembourg",
            "Netherlands",
            "Norway",
            "Portugal",
            "Spain",
            "Sweden",
            "Switzerland"
           ],
           "legendgroup": "Europe",
           "marker": {
            "color": "#EF553B",
            "size": [
             11422068,
             5797446,
             66987244,
             10727668,
             353574,
             60431283,
             607728,
             17231017,
             5314336,
             10281762,
             46723749,
             10183175,
             8516543
            ],
            "sizemode": "area",
            "sizeref": 460406.6115702479,
            "symbol": "circle"
           },
           "mode": "markers",
           "name": "Europe",
           "showlegend": true,
           "type": "scatter",
           "x": [
            5.76,
            2.61,
            5.98,
            4.21,
            3.06,
            3.18,
            4.66,
            3.32,
            3.6,
            3.39,
            2.97,
            2.22,
            4.53
           ],
           "xaxis": "x",
           "y": [
            425.22947683379226,
            57.956555352132646,
            206.4870738673769,
            10.253859459483646,
            22.626098072822096,
            217.71836285521192,
            108.60121633362293,
            163.8324656054834,
            25.591155696591258,
            69.44335027400946,
            326.1296519677819,
            148.38201248628252,
            100.74510279581752
           ],
           "yaxis": "y"
          },
          {
           "hovertemplate": "<b>%{hovertext}</b><br><br>Continent=North America<br>Day=30<br>Hospital_beds_per100_2017=%{x}<br>Dead_per_million=%{y}<br>popData2018=%{marker.size}<extra></extra>",
           "hovertext": [
            "USA"
           ],
           "ids": [
            "USA"
           ],
           "legendgroup": "North America",
           "marker": {
            "color": "#00cc96",
            "size": [
             327167434
            ],
            "sizemode": "area",
            "sizeref": 460406.6115702479,
            "symbol": "circle"
           },
           "mode": "markers",
           "name": "North America",
           "showlegend": true,
           "type": "scatter",
           "x": [
            2.77
           ],
           "xaxis": "x",
           "y": [
            124.34611691822603
           ],
           "yaxis": "y"
          },
          {
           "hovertemplate": "<b>%{hovertext}</b><br><br>Continent=Asia<br>Day=30<br>Hospital_beds_per100_2017=%{x}<br>Dead_per_million=%{y}<br>popData2018=%{marker.size}<extra></extra>",
           "hovertext": [
            "China",
            "South_Korea"
           ],
           "ids": [
            "China",
            "South_Korea"
           ],
           "legendgroup": "Asia",
           "marker": {
            "color": "#ab63fa",
            "size": [
             1392730000,
             51635256
            ],
            "sizemode": "area",
            "sizeref": 460406.6115702479,
            "symbol": "circle"
           },
           "mode": "markers",
           "name": "Asia",
           "showlegend": true,
           "type": "scatter",
           "x": [
            4.34,
            12.27
           ],
           "xaxis": "x",
           "y": [
            2.299799674021526,
            3.87332252211551
           ],
           "yaxis": "y"
          }
         ],
         "name": "30"
        },
        {
         "data": [
          {
           "hovertemplate": "<b>%{hovertext}</b><br><br>Continent=Europe<br>Day=31<br>Hospital_beds_per100_2017=%{x}<br>Dead_per_million=%{y}<br>popData2018=%{marker.size}<extra></extra>",
           "hovertext": [
            "Belgium",
            "Denmark",
            "France",
            "Iceland",
            "Italy",
            "Luxembourg",
            "Netherlands",
            "Norway",
            "Spain",
            "Sweden",
            "Switzerland"
           ],
           "ids": [
            "Belgium",
            "Denmark",
            "France",
            "Iceland",
            "Italy",
            "Luxembourg",
            "Netherlands",
            "Norway",
            "Spain",
            "Sweden",
            "Switzerland"
           ],
           "legendgroup": "Europe",
           "marker": {
            "color": "#EF553B",
            "size": [
             11422068,
             5797446,
             66987244,
             353574,
             60431283,
             607728,
             17231017,
             5314336,
             46723749,
             10183175,
             8516543
            ],
            "sizemode": "area",
            "sizeref": 460406.6115702479,
            "symbol": "circle"
           },
           "mode": "markers",
           "name": "Europe",
           "showlegend": true,
           "type": "scatter",
           "x": [
            5.76,
            2.61,
            5.98,
            3.06,
            3.18,
            4.66,
            3.32,
            3.6,
            2.97,
            2.22,
            4.53
           ],
           "xaxis": "x",
           "y": [
            452.0197218227032,
            59.68145283285088,
            214.86180264409742,
            25.454360331924857,
            230.29463067994106,
            110.2466893083748,
            170.91272093806185,
            27.849198846290488,
            339.0780992338607,
            151.22984727258444,
            100.74510279581752
           ],
           "yaxis": "y"
          },
          {
           "hovertemplate": "<b>%{hovertext}</b><br><br>Continent=Asia<br>Day=31<br>Hospital_beds_per100_2017=%{x}<br>Dead_per_million=%{y}<br>popData2018=%{marker.size}<extra></extra>",
           "hovertext": [
            "China",
            "South_Korea"
           ],
           "ids": [
            "China",
            "South_Korea"
           ],
           "legendgroup": "Asia",
           "marker": {
            "color": "#ab63fa",
            "size": [
             1392730000,
             51635256
            ],
            "sizemode": "area",
            "sizeref": 460406.6115702479,
            "symbol": "circle"
           },
           "mode": "markers",
           "name": "Asia",
           "showlegend": true,
           "type": "scatter",
           "x": [
            4.34,
            12.27
           ],
           "xaxis": "x",
           "y": [
            2.309133859398448,
            3.9507889725578202
           ],
           "yaxis": "y"
          }
         ],
         "name": "31"
        },
        {
         "data": [
          {
           "hovertemplate": "<b>%{hovertext}</b><br><br>Continent=Europe<br>Day=32<br>Hospital_beds_per100_2017=%{x}<br>Dead_per_million=%{y}<br>popData2018=%{marker.size}<extra></extra>",
           "hovertext": [
            "Belgium",
            "Denmark",
            "France",
            "Iceland",
            "Italy",
            "Luxembourg",
            "Netherlands",
            "Norway",
            "Spain",
            "Switzerland"
           ],
           "ids": [
            "Belgium",
            "Denmark",
            "France",
            "Iceland",
            "Italy",
            "Luxembourg",
            "Netherlands",
            "Norway",
            "Spain",
            "Switzerland"
           ],
           "legendgroup": "Europe",
           "marker": {
            "color": "#EF553B",
            "size": [
             11422068,
             5797446,
             66987244,
             353574,
             60431283,
             607728,
             17231017,
             5314336,
             46723749,
             8516543
            ],
            "sizemode": "area",
            "sizeref": 460406.6115702479,
            "symbol": "circle"
           },
           "mode": "markers",
           "name": "Europe",
           "showlegend": true,
           "type": "scatter",
           "x": [
            5.76,
            2.61,
            5.98,
            3.06,
            3.18,
            4.66,
            3.32,
            3.6,
            2.97,
            4.53
           ],
           "xaxis": "x",
           "y": [
            477.409169688011,
            61.233860565497295,
            223.43059821956552,
            25.454360331924857,
            242.93708938795822,
            110.2466893083748,
            181.88131321558095,
            28.9782204211401,
            349.9933192432825,
            105.67668125435404
           ],
           "yaxis": "y"
          },
          {
           "hovertemplate": "<b>%{hovertext}</b><br><br>Continent=Asia<br>Day=32<br>Hospital_beds_per100_2017=%{x}<br>Dead_per_million=%{y}<br>popData2018=%{marker.size}<extra></extra>",
           "hovertext": [
            "China",
            "South_Korea"
           ],
           "ids": [
            "China",
            "South_Korea"
           ],
           "legendgroup": "Asia",
           "marker": {
            "color": "#ab63fa",
            "size": [
             1392730000,
             51635256
            ],
            "sizemode": "area",
            "sizeref": 460406.6115702479,
            "symbol": "circle"
           },
           "mode": "markers",
           "name": "Asia",
           "showlegend": true,
           "type": "scatter",
           "x": [
            4.34,
            12.27
           ],
           "xaxis": "x",
           "y": [
            2.3155959877363164,
            4.028255423000131
           ],
           "yaxis": "y"
          }
         ],
         "name": "32"
        },
        {
         "data": [
          {
           "hovertemplate": "<b>%{hovertext}</b><br><br>Continent=Europe<br>Day=33<br>Hospital_beds_per100_2017=%{x}<br>Dead_per_million=%{y}<br>popData2018=%{marker.size}<extra></extra>",
           "hovertext": [
            "Belgium",
            "France",
            "Italy",
            "Luxembourg",
            "Netherlands",
            "Spain",
            "Switzerland"
           ],
           "ids": [
            "Belgium",
            "France",
            "Italy",
            "Luxembourg",
            "Netherlands",
            "Spain",
            "Switzerland"
           ],
           "legendgroup": "Europe",
           "marker": {
            "color": "#EF553B",
            "size": [
             11422068,
             66987244,
             60431283,
             607728,
             17231017,
             46723749,
             8516543
            ],
            "sizemode": "area",
            "sizeref": 460406.6115702479,
            "symbol": "circle"
           },
           "mode": "markers",
           "name": "Europe",
           "showlegend": true,
           "type": "scatter",
           "x": [
            5.76,
            5.98,
            3.18,
            4.66,
            3.32,
            2.97,
            4.53
           ],
           "xaxis": "x",
           "y": [
            497.5456283398068,
            234.8058982692287,
            254.20608726774842,
            113.53763525787852,
            192.38562645489816,
            363.24139999981594,
            114.2482342894294
           ],
           "yaxis": "y"
          },
          {
           "hovertemplate": "<b>%{hovertext}</b><br><br>Continent=Asia<br>Day=33<br>Hospital_beds_per100_2017=%{x}<br>Dead_per_million=%{y}<br>popData2018=%{marker.size}<extra></extra>",
           "hovertext": [
            "China",
            "South_Korea"
           ],
           "ids": [
            "China",
            "South_Korea"
           ],
           "legendgroup": "Asia",
           "marker": {
            "color": "#ab63fa",
            "size": [
             1392730000,
             51635256
            ],
            "sizemode": "area",
            "sizeref": 460406.6115702479,
            "symbol": "circle"
           },
           "mode": "markers",
           "name": "Asia",
           "showlegend": true,
           "type": "scatter",
           "x": [
            4.34,
            12.27
           ],
           "xaxis": "x",
           "y": [
            2.3270842158925276,
            4.028255423000131
           ],
           "yaxis": "y"
          }
         ],
         "name": "33"
        },
        {
         "data": [
          {
           "hovertemplate": "<b>%{hovertext}</b><br><br>Continent=Europe<br>Day=34<br>Hospital_beds_per100_2017=%{x}<br>Dead_per_million=%{y}<br>popData2018=%{marker.size}<extra></extra>",
           "hovertext": [
            "France",
            "Italy",
            "Luxembourg",
            "Netherlands",
            "Spain",
            "Switzerland"
           ],
           "ids": [
            "France",
            "Italy",
            "Luxembourg",
            "Netherlands",
            "Spain",
            "Switzerland"
           ],
           "legendgroup": "Europe",
           "marker": {
            "color": "#EF553B",
            "size": [
             66987244,
             60431283,
             607728,
             17231017,
             46723749,
             8516543
            ],
            "sizemode": "area",
            "sizeref": 460406.6115702479,
            "symbol": "circle"
           },
           "mode": "markers",
           "name": "Europe",
           "showlegend": true,
           "type": "scatter",
           "x": [
            5.98,
            3.18,
            4.66,
            3.32,
            2.97,
            4.53
           ],
           "xaxis": "x",
           "y": [
            256.2726718537637,
            262.9267361409487,
            113.53763525787852,
            200.74264914253175,
            374.30643675446504,
            119.29723128269299
           ],
           "yaxis": "y"
          },
          {
           "hovertemplate": "<b>%{hovertext}</b><br><br>Continent=Asia<br>Day=34<br>Hospital_beds_per100_2017=%{x}<br>Dead_per_million=%{y}<br>popData2018=%{marker.size}<extra></extra>",
           "hovertext": [
            "China",
            "South_Korea"
           ],
           "ids": [
            "China",
            "South_Korea"
           ],
           "legendgroup": "Asia",
           "marker": {
            "color": "#ab63fa",
            "size": [
             1392730000,
             51635256
            ],
            "sizemode": "area",
            "sizeref": 460406.6115702479,
            "symbol": "circle"
           },
           "mode": "markers",
           "name": "Asia",
           "showlegend": true,
           "type": "scatter",
           "x": [
            4.34,
            12.27
           ],
           "xaxis": "x",
           "y": [
            2.332828329970633,
            4.144455098663595
           ],
           "yaxis": "y"
          }
         ],
         "name": "34"
        },
        {
         "data": [
          {
           "hovertemplate": "<b>%{hovertext}</b><br><br>Continent=Europe<br>Day=35<br>Hospital_beds_per100_2017=%{x}<br>Dead_per_million=%{y}<br>popData2018=%{marker.size}<extra></extra>",
           "hovertext": [
            "France",
            "Italy",
            "Luxembourg",
            "Netherlands",
            "Spain",
            "Switzerland"
           ],
           "ids": [
            "France",
            "Italy",
            "Luxembourg",
            "Netherlands",
            "Spain",
            "Switzerland"
           ],
           "legendgroup": "Europe",
           "marker": {
            "color": "#EF553B",
            "size": [
             66987244,
             60431283,
             607728,
             17231017,
             46723749,
             8516543
            ],
            "sizemode": "area",
            "sizeref": 460406.6115702479,
            "symbol": "circle"
           },
           "mode": "markers",
           "name": "Europe",
           "showlegend": true,
           "type": "scatter",
           "x": [
            5.98,
            3.18,
            4.66,
            3.32,
            2.97,
            4.53
           ],
           "xaxis": "x",
           "y": [
            267.5136179658324,
            273.45108658374835,
            118.47405418213411,
            208.98360207061486,
            386.441593117881,
            124.22880974122951
           ],
           "yaxis": "y"
          },
          {
           "hovertemplate": "<b>%{hovertext}</b><br><br>Continent=Asia<br>Day=35<br>Hospital_beds_per100_2017=%{x}<br>Dead_per_million=%{y}<br>popData2018=%{marker.size}<extra></extra>",
           "hovertext": [
            "China",
            "South_Korea"
           ],
           "ids": [
            "China",
            "South_Korea"
           ],
           "legendgroup": "Asia",
           "marker": {
            "color": "#ab63fa",
            "size": [
             1392730000,
             51635256
            ],
            "sizemode": "area",
            "sizeref": 460406.6115702479,
            "symbol": "circle"
           },
           "mode": "markers",
           "name": "Asia",
           "showlegend": true,
           "type": "scatter",
           "x": [
            4.34,
            12.27
           ],
           "xaxis": "x",
           "y": [
            2.335700387009686,
            4.2025549364953285
           ],
           "yaxis": "y"
          }
         ],
         "name": "35"
        },
        {
         "data": [
          {
           "hovertemplate": "<b>%{hovertext}</b><br><br>Continent=Europe<br>Day=36<br>Hospital_beds_per100_2017=%{x}<br>Dead_per_million=%{y}<br>popData2018=%{marker.size}<extra></extra>",
           "hovertext": [
            "France",
            "Italy",
            "Luxembourg",
            "Netherlands",
            "Spain",
            "Switzerland"
           ],
           "ids": [
            "France",
            "Italy",
            "Luxembourg",
            "Netherlands",
            "Spain",
            "Switzerland"
           ],
           "legendgroup": "Europe",
           "marker": {
            "color": "#EF553B",
            "size": [
             66987244,
             60431283,
             607728,
             17231017,
             46723749,
             8516543
            ],
            "sizemode": "area",
            "sizeref": 460406.6115702479,
            "symbol": "circle"
           },
           "mode": "markers",
           "name": "Europe",
           "showlegend": true,
           "type": "scatter",
           "x": [
            5.98,
            3.18,
            4.66,
            3.32,
            2.97,
            4.53
           ],
           "xaxis": "x",
           "y": [
            278.87398980020737,
            283.4459099602436,
            118.47405418213411,
            213.80049709195922,
            397.63504422558213,
            130.33457354703663
           ],
           "yaxis": "y"
          },
          {
           "hovertemplate": "<b>%{hovertext}</b><br><br>Continent=Asia<br>Day=36<br>Hospital_beds_per100_2017=%{x}<br>Dead_per_million=%{y}<br>popData2018=%{marker.size}<extra></extra>",
           "hovertext": [
            "China",
            "South_Korea"
           ],
           "ids": [
            "China",
            "South_Korea"
           ],
           "legendgroup": "Asia",
           "marker": {
            "color": "#ab63fa",
            "size": [
             1392730000,
             51635256
            ],
            "sizemode": "area",
            "sizeref": 460406.6115702479,
            "symbol": "circle"
           },
           "mode": "markers",
           "name": "Asia",
           "showlegend": true,
           "type": "scatter",
           "x": [
            4.34,
            12.27
           ],
           "xaxis": "x",
           "y": [
            2.3400084725682655,
            4.299387999548216
           ],
           "yaxis": "y"
          }
         ],
         "name": "36"
        },
        {
         "data": [
          {
           "hovertemplate": "<b>%{hovertext}</b><br><br>Continent=Europe<br>Day=37<br>Hospital_beds_per100_2017=%{x}<br>Dead_per_million=%{y}<br>popData2018=%{marker.size}<extra></extra>",
           "hovertext": [
            "France",
            "Italy",
            "Luxembourg",
            "Spain",
            "Switzerland"
           ],
           "ids": [
            "France",
            "Italy",
            "Luxembourg",
            "Spain",
            "Switzerland"
           ],
           "legendgroup": "Europe",
           "marker": {
            "color": "#EF553B",
            "size": [
             66987244,
             60431283,
             607728,
             46723749,
             8516543
            ],
            "sizemode": "area",
            "sizeref": 460406.6115702479,
            "symbol": "circle"
           },
           "mode": "markers",
           "name": "Europe",
           "showlegend": true,
           "type": "scatter",
           "x": [
            5.98,
            3.18,
            4.66,
            2.97,
            4.53
           ],
           "xaxis": "x",
           "y": [
            288.4579040152779,
            292.3816792041301,
            120.11952715688598,
            409.42776231419276,
            133.15261838048608
           ],
           "yaxis": "y"
          },
          {
           "hovertemplate": "<b>%{hovertext}</b><br><br>Continent=Asia<br>Day=37<br>Hospital_beds_per100_2017=%{x}<br>Dead_per_million=%{y}<br>popData2018=%{marker.size}<extra></extra>",
           "hovertext": [
            "China",
            "South_Korea"
           ],
           "ids": [
            "China",
            "South_Korea"
           ],
           "legendgroup": "Asia",
           "marker": {
            "color": "#ab63fa",
            "size": [
             1392730000,
             51635256
            ],
            "sizemode": "area",
            "sizeref": 460406.6115702479,
            "symbol": "circle"
           },
           "mode": "markers",
           "name": "Asia",
           "showlegend": true,
           "type": "scatter",
           "x": [
            4.34,
            12.27
           ],
           "xaxis": "x",
           "y": [
            2.3443165581268444,
            4.357487837379948
           ],
           "yaxis": "y"
          }
         ],
         "name": "37"
        },
        {
         "data": [
          {
           "hovertemplate": "<b>%{hovertext}</b><br><br>Continent=Europe<br>Day=38<br>Hospital_beds_per100_2017=%{x}<br>Dead_per_million=%{y}<br>popData2018=%{marker.size}<extra></extra>",
           "hovertext": [
            "France",
            "Italy",
            "Spain"
           ],
           "ids": [
            "France",
            "Italy",
            "Spain"
           ],
           "legendgroup": "Europe",
           "marker": {
            "color": "#EF553B",
            "size": [
             66987244,
             60431283,
             46723749
            ],
            "sizemode": "area",
            "sizeref": 460406.6115702479,
            "symbol": "circle"
           },
           "mode": "markers",
           "name": "Europe",
           "showlegend": true,
           "type": "scatter",
           "x": [
            5.98,
            3.18,
            2.97
           ],
           "xaxis": "x",
           "y": [
            294.3545490541453,
            302.50888434720144,
            416.87579479120996
           ],
           "yaxis": "y"
          },
          {
           "hovertemplate": "<b>%{hovertext}</b><br><br>Continent=Asia<br>Day=38<br>Hospital_beds_per100_2017=%{x}<br>Dead_per_million=%{y}<br>popData2018=%{marker.size}<extra></extra>",
           "hovertext": [
            "China",
            "South_Korea"
           ],
           "ids": [
            "China",
            "South_Korea"
           ],
           "legendgroup": "Asia",
           "marker": {
            "color": "#ab63fa",
            "size": [
             1392730000,
             51635256
            ],
            "sizemode": "area",
            "sizeref": 460406.6115702479,
            "symbol": "circle"
           },
           "mode": "markers",
           "name": "Asia",
           "showlegend": true,
           "type": "scatter",
           "x": [
            4.34,
            12.27
           ],
           "xaxis": "x",
           "y": [
            2.350778686464713,
            4.434954287822259
           ],
           "yaxis": "y"
          }
         ],
         "name": "38"
        },
        {
         "data": [
          {
           "hovertemplate": "<b>%{hovertext}</b><br><br>Continent=Europe<br>Day=39<br>Hospital_beds_per100_2017=%{x}<br>Dead_per_million=%{y}<br>popData2018=%{marker.size}<extra></extra>",
           "hovertext": [
            "Italy",
            "Spain"
           ],
           "ids": [
            "Italy",
            "Spain"
           ],
           "legendgroup": "Europe",
           "marker": {
            "color": "#EF553B",
            "size": [
             60431283,
             46723749
            ],
            "sizemode": "area",
            "sizeref": 460406.6115702479,
            "symbol": "circle"
           },
           "mode": "markers",
           "name": "Europe",
           "showlegend": true,
           "type": "scatter",
           "x": [
            3.18,
            2.97
           ],
           "xaxis": "x",
           "y": [
            311.9410852157483,
            428.96814637027524
           ],
           "yaxis": "y"
          },
          {
           "hovertemplate": "<b>%{hovertext}</b><br><br>Continent=Asia<br>Day=39<br>Hospital_beds_per100_2017=%{x}<br>Dead_per_million=%{y}<br>popData2018=%{marker.size}<extra></extra>",
           "hovertext": [
            "China",
            "South_Korea"
           ],
           "ids": [
            "China",
            "South_Korea"
           ],
           "legendgroup": "Asia",
           "marker": {
            "color": "#ab63fa",
            "size": [
             1392730000,
             51635256
            ],
            "sizemode": "area",
            "sizeref": 460406.6115702479,
            "symbol": "circle"
           },
           "mode": "markers",
           "name": "Asia",
           "showlegend": true,
           "type": "scatter",
           "x": [
            4.34,
            12.27
           ],
           "xaxis": "x",
           "y": [
            2.3558047862830556,
            4.454320900432836
           ],
           "yaxis": "y"
          }
         ],
         "name": "39"
        },
        {
         "data": [
          {
           "hovertemplate": "<b>%{hovertext}</b><br><br>Continent=Europe<br>Day=40<br>Hospital_beds_per100_2017=%{x}<br>Dead_per_million=%{y}<br>popData2018=%{marker.size}<extra></extra>",
           "hovertext": [
            "Italy",
            "Spain"
           ],
           "ids": [
            "Italy",
            "Spain"
           ],
           "legendgroup": "Europe",
           "marker": {
            "color": "#EF553B",
            "size": [
             60431283,
             46723749
            ],
            "sizemode": "area",
            "sizeref": 460406.6115702479,
            "symbol": "circle"
           },
           "mode": "markers",
           "name": "Europe",
           "showlegend": true,
           "type": "scatter",
           "x": [
            3.18,
            2.97
           ],
           "xaxis": "x",
           "y": [
            322.1841244045737,
            437.74312716216326
           ],
           "yaxis": "y"
          },
          {
           "hovertemplate": "<b>%{hovertext}</b><br><br>Continent=Asia<br>Day=40<br>Hospital_beds_per100_2017=%{x}<br>Dead_per_million=%{y}<br>popData2018=%{marker.size}<extra></extra>",
           "hovertext": [
            "China",
            "South_Korea"
           ],
           "ids": [
            "China",
            "South_Korea"
           ],
           "legendgroup": "Asia",
           "marker": {
            "color": "#ab63fa",
            "size": [
             1392730000,
             51635256
            ],
            "sizemode": "area",
            "sizeref": 460406.6115702479,
            "symbol": "circle"
           },
           "mode": "markers",
           "name": "Asia",
           "showlegend": true,
           "type": "scatter",
           "x": [
            4.34,
            12.27
           ],
           "xaxis": "x",
           "y": [
            2.358676843322108,
            4.493054125653991
           ],
           "yaxis": "y"
          }
         ],
         "name": "40"
        },
        {
         "data": [
          {
           "hovertemplate": "<b>%{hovertext}</b><br><br>Continent=Europe<br>Day=41<br>Hospital_beds_per100_2017=%{x}<br>Dead_per_million=%{y}<br>popData2018=%{marker.size}<extra></extra>",
           "hovertext": [
            "Italy"
           ],
           "ids": [
            "Italy"
           ],
           "legendgroup": "Europe",
           "marker": {
            "color": "#EF553B",
            "size": [
             60431283
            ],
            "sizemode": "area",
            "sizeref": 460406.6115702479,
            "symbol": "circle"
           },
           "mode": "markers",
           "name": "Europe",
           "showlegend": true,
           "type": "scatter",
           "x": [
            3.18
           ],
           "xaxis": "x",
           "y": [
            329.31619207886087
           ],
           "yaxis": "y"
          },
          {
           "hovertemplate": "<b>%{hovertext}</b><br><br>Continent=Asia<br>Day=41<br>Hospital_beds_per100_2017=%{x}<br>Dead_per_million=%{y}<br>popData2018=%{marker.size}<extra></extra>",
           "hovertext": [
            "China",
            "South_Korea"
           ],
           "ids": [
            "China",
            "South_Korea"
           ],
           "legendgroup": "Asia",
           "marker": {
            "color": "#ab63fa",
            "size": [
             1392730000,
             51635256
            ],
            "sizemode": "area",
            "sizeref": 460406.6115702479,
            "symbol": "circle"
           },
           "mode": "markers",
           "name": "Asia",
           "showlegend": true,
           "type": "scatter",
           "x": [
            4.34,
            12.27
           ],
           "xaxis": "x",
           "y": [
            2.362984928880688,
            4.531787350875146
           ],
           "yaxis": "y"
          }
         ],
         "name": "41"
        },
        {
         "data": [
          {
           "hovertemplate": "<b>%{hovertext}</b><br><br>Continent=Europe<br>Day=42<br>Hospital_beds_per100_2017=%{x}<br>Dead_per_million=%{y}<br>popData2018=%{marker.size}<extra></extra>",
           "hovertext": [
            "Italy"
           ],
           "ids": [
            "Italy"
           ],
           "legendgroup": "Europe",
           "marker": {
            "color": "#EF553B",
            "size": [
             60431283
            ],
            "sizemode": "area",
            "sizeref": 460406.6115702479,
            "symbol": "circle"
           },
           "mode": "markers",
           "name": "Europe",
           "showlegend": true,
           "type": "scatter",
           "x": [
            3.18
           ],
           "xaxis": "x",
           "y": [
            338.64910662247564
           ],
           "yaxis": "y"
          },
          {
           "hovertemplate": "<b>%{hovertext}</b><br><br>Continent=Asia<br>Day=42<br>Hospital_beds_per100_2017=%{x}<br>Dead_per_million=%{y}<br>popData2018=%{marker.size}<extra></extra>",
           "hovertext": [
            "China",
            "South_Korea"
           ],
           "ids": [
            "China",
            "South_Korea"
           ],
           "legendgroup": "Asia",
           "marker": {
            "color": "#ab63fa",
            "size": [
             1392730000,
             51635256
            ],
            "sizemode": "area",
            "sizeref": 460406.6115702479,
            "symbol": "circle"
           },
           "mode": "markers",
           "name": "Asia",
           "showlegend": true,
           "type": "scatter",
           "x": [
            4.34,
            12.27
           ],
           "xaxis": "x",
           "y": [
            2.3665750001795036,
            4.5705205760963015
           ],
           "yaxis": "y"
          }
         ],
         "name": "42"
        },
        {
         "data": [
          {
           "hovertemplate": "<b>%{hovertext}</b><br><br>Continent=Europe<br>Day=43<br>Hospital_beds_per100_2017=%{x}<br>Dead_per_million=%{y}<br>popData2018=%{marker.size}<extra></extra>",
           "hovertext": [
            "Italy"
           ],
           "ids": [
            "Italy"
           ],
           "legendgroup": "Europe",
           "marker": {
            "color": "#EF553B",
            "size": [
             60431283
            ],
            "sizemode": "area",
            "sizeref": 460406.6115702479,
            "symbol": "circle"
           },
           "mode": "markers",
           "name": "Europe",
           "showlegend": true,
           "type": "scatter",
           "x": [
            3.18
           ],
           "xaxis": "x",
           "y": [
            348.64392999897086
           ],
           "yaxis": "y"
          },
          {
           "hovertemplate": "<b>%{hovertext}</b><br><br>Continent=Asia<br>Day=43<br>Hospital_beds_per100_2017=%{x}<br>Dead_per_million=%{y}<br>popData2018=%{marker.size}<extra></extra>",
           "hovertext": [
            "China"
           ],
           "ids": [
            "China"
           ],
           "legendgroup": "Asia",
           "marker": {
            "color": "#ab63fa",
            "size": [
             1392730000
            ],
            "sizemode": "area",
            "sizeref": 460406.6115702479,
            "symbol": "circle"
           },
           "mode": "markers",
           "name": "Asia",
           "showlegend": true,
           "type": "scatter",
           "x": [
            4.34
           ],
           "xaxis": "x",
           "y": [
            2.368729042958793
           ],
           "yaxis": "y"
          }
         ],
         "name": "43"
        },
        {
         "data": [
          {
           "hovertemplate": "<b>%{hovertext}</b><br><br>Continent=Europe<br>Day=44<br>Hospital_beds_per100_2017=%{x}<br>Dead_per_million=%{y}<br>popData2018=%{marker.size}<extra></extra>",
           "hovertext": [
            "Italy"
           ],
           "ids": [
            "Italy"
           ],
           "legendgroup": "Europe",
           "marker": {
            "color": "#EF553B",
            "size": [
             60431283
            ],
            "sizemode": "area",
            "sizeref": 460406.6115702479,
            "symbol": "circle"
           },
           "mode": "markers",
           "name": "Europe",
           "showlegend": true,
           "type": "scatter",
           "x": [
            3.18
           ],
           "xaxis": "x",
           "y": [
            358.20851263409384
           ],
           "yaxis": "y"
          },
          {
           "hovertemplate": "<b>%{hovertext}</b><br><br>Continent=Asia<br>Day=44<br>Hospital_beds_per100_2017=%{x}<br>Dead_per_million=%{y}<br>popData2018=%{marker.size}<extra></extra>",
           "hovertext": [
            "China"
           ],
           "ids": [
            "China"
           ],
           "legendgroup": "Asia",
           "marker": {
            "color": "#ab63fa",
            "size": [
             1392730000
            ],
            "sizemode": "area",
            "sizeref": 460406.6115702479,
            "symbol": "circle"
           },
           "mode": "markers",
           "name": "Asia",
           "showlegend": true,
           "type": "scatter",
           "x": [
            4.34
           ],
           "xaxis": "x",
           "y": [
            2.372319114257609
           ],
           "yaxis": "y"
          }
         ],
         "name": "44"
        },
        {
         "data": [
          {
           "hovertemplate": "<b>%{hovertext}</b><br><br>Continent=Europe<br>Day=45<br>Hospital_beds_per100_2017=%{x}<br>Dead_per_million=%{y}<br>popData2018=%{marker.size}<extra></extra>",
           "hovertext": [
            "Italy"
           ],
           "ids": [
            "Italy"
           ],
           "legendgroup": "Europe",
           "marker": {
            "color": "#EF553B",
            "size": [
             60431283
            ],
            "sizemode": "area",
            "sizeref": 460406.6115702479,
            "symbol": "circle"
           },
           "mode": "markers",
           "name": "Europe",
           "showlegend": true,
           "type": "scatter",
           "x": [
            3.18
           ],
           "xaxis": "x",
           "y": [
            366.89606606565013
           ],
           "yaxis": "y"
          },
          {
           "hovertemplate": "<b>%{hovertext}</b><br><br>Continent=Asia<br>Day=45<br>Hospital_beds_per100_2017=%{x}<br>Dead_per_million=%{y}<br>popData2018=%{marker.size}<extra></extra>",
           "hovertext": [
            "China"
           ],
           "ids": [
            "China"
           ],
           "legendgroup": "Asia",
           "marker": {
            "color": "#ab63fa",
            "size": [
             1392730000
            ],
            "sizemode": "area",
            "sizeref": 460406.6115702479,
            "symbol": "circle"
           },
           "mode": "markers",
           "name": "Asia",
           "showlegend": true,
           "type": "scatter",
           "x": [
            4.34
           ],
           "xaxis": "x",
           "y": [
            2.3737551427771355
           ],
           "yaxis": "y"
          }
         ],
         "name": "45"
        },
        {
         "data": [
          {
           "hovertemplate": "<b>%{hovertext}</b><br><br>Continent=Europe<br>Day=46<br>Hospital_beds_per100_2017=%{x}<br>Dead_per_million=%{y}<br>popData2018=%{marker.size}<extra></extra>",
           "hovertext": [
            "Italy"
           ],
           "ids": [
            "Italy"
           ],
           "legendgroup": "Europe",
           "marker": {
            "color": "#EF553B",
            "size": [
             60431283
            ],
            "sizemode": "area",
            "sizeref": 460406.6115702479,
            "symbol": "circle"
           },
           "mode": "markers",
           "name": "Europe",
           "showlegend": true,
           "type": "scatter",
           "x": [
            3.18
           ],
           "xaxis": "x",
           "y": [
            376.41100553830705
           ],
           "yaxis": "y"
          },
          {
           "hovertemplate": "<b>%{hovertext}</b><br><br>Continent=Asia<br>Day=46<br>Hospital_beds_per100_2017=%{x}<br>Dead_per_million=%{y}<br>popData2018=%{marker.size}<extra></extra>",
           "hovertext": [
            "China"
           ],
           "ids": [
            "China"
           ],
           "legendgroup": "Asia",
           "marker": {
            "color": "#ab63fa",
            "size": [
             1392730000
            ],
            "sizemode": "area",
            "sizeref": 460406.6115702479,
            "symbol": "circle"
           },
           "mode": "markers",
           "name": "Asia",
           "showlegend": true,
           "type": "scatter",
           "x": [
            4.34
           ],
           "xaxis": "x",
           "y": [
            2.375909185556425
           ],
           "yaxis": "y"
          }
         ],
         "name": "46"
        },
        {
         "data": [
          {
           "hovertemplate": "<b>%{hovertext}</b><br><br>Continent=Europe<br>Day=47<br>Hospital_beds_per100_2017=%{x}<br>Dead_per_million=%{y}<br>popData2018=%{marker.size}<extra></extra>",
           "hovertext": [
            "Italy"
           ],
           "ids": [
            "Italy"
           ],
           "legendgroup": "Europe",
           "marker": {
            "color": "#EF553B",
            "size": [
             60431283
            ],
            "sizemode": "area",
            "sizeref": 460406.6115702479,
            "symbol": "circle"
           },
           "mode": "markers",
           "name": "Europe",
           "showlegend": true,
           "type": "scatter",
           "x": [
            3.18
           ],
           "xaxis": "x",
           "y": [
            384.3539115328728
           ],
           "yaxis": "y"
          },
          {
           "hovertemplate": "<b>%{hovertext}</b><br><br>Continent=Asia<br>Day=47<br>Hospital_beds_per100_2017=%{x}<br>Dead_per_million=%{y}<br>popData2018=%{marker.size}<extra></extra>",
           "hovertext": [
            "China"
           ],
           "ids": [
            "China"
           ],
           "legendgroup": "Asia",
           "marker": {
            "color": "#ab63fa",
            "size": [
             1392730000
            ],
            "sizemode": "area",
            "sizeref": 460406.6115702479,
            "symbol": "circle"
           },
           "mode": "markers",
           "name": "Asia",
           "showlegend": true,
           "type": "scatter",
           "x": [
            4.34
           ],
           "xaxis": "x",
           "y": [
            2.376627199816188
           ],
           "yaxis": "y"
          }
         ],
         "name": "47"
        },
        {
         "data": [
          {
           "hovertemplate": "<b>%{hovertext}</b><br><br>Continent=Europe<br>Day=48<br>Hospital_beds_per100_2017=%{x}<br>Dead_per_million=%{y}<br>popData2018=%{marker.size}<extra></extra>",
           "hovertext": [
            "Italy"
           ],
           "ids": [
            "Italy"
           ],
           "legendgroup": "Europe",
           "marker": {
            "color": "#EF553B",
            "size": [
             60431283
            ],
            "sizemode": "area",
            "sizeref": 460406.6115702479,
            "symbol": "circle"
           },
           "mode": "markers",
           "name": "Europe",
           "showlegend": true,
           "type": "scatter",
           "x": [
            3.18
           ],
           "xaxis": "x",
           "y": [
            391.519074648804
           ],
           "yaxis": "y"
          },
          {
           "hovertemplate": "<b>%{hovertext}</b><br><br>Continent=Asia<br>Day=48<br>Hospital_beds_per100_2017=%{x}<br>Dead_per_million=%{y}<br>popData2018=%{marker.size}<extra></extra>",
           "hovertext": [
            "China"
           ],
           "ids": [
            "China"
           ],
           "legendgroup": "Asia",
           "marker": {
            "color": "#ab63fa",
            "size": [
             1392730000
            ],
            "sizemode": "area",
            "sizeref": 460406.6115702479,
            "symbol": "circle"
           },
           "mode": "markers",
           "name": "Asia",
           "showlegend": true,
           "type": "scatter",
           "x": [
            4.34
           ],
           "xaxis": "x",
           "y": [
            2.3809352853747674
           ],
           "yaxis": "y"
          }
         ],
         "name": "48"
        },
        {
         "data": [
          {
           "hovertemplate": "<b>%{hovertext}</b><br><br>Continent=Asia<br>Day=49<br>Hospital_beds_per100_2017=%{x}<br>Dead_per_million=%{y}<br>popData2018=%{marker.size}<extra></extra>",
           "hovertext": [
            "China"
           ],
           "ids": [
            "China"
           ],
           "legendgroup": "Asia",
           "marker": {
            "color": "#ab63fa",
            "size": [
             1392730000
            ],
            "sizemode": "area",
            "sizeref": 460406.6115702479,
            "symbol": "circle"
           },
           "mode": "markers",
           "name": "Asia",
           "showlegend": true,
           "type": "scatter",
           "x": [
            4.34
           ],
           "xaxis": "x",
           "y": [
            2.3881154279723997
           ],
           "yaxis": "y"
          }
         ],
         "name": "49"
        },
        {
         "data": [
          {
           "hovertemplate": "<b>%{hovertext}</b><br><br>Continent=Asia<br>Day=50<br>Hospital_beds_per100_2017=%{x}<br>Dead_per_million=%{y}<br>popData2018=%{marker.size}<extra></extra>",
           "hovertext": [
            "China"
           ],
           "ids": [
            "China"
           ],
           "legendgroup": "Asia",
           "marker": {
            "color": "#ab63fa",
            "size": [
             1392730000
            ],
            "sizemode": "area",
            "sizeref": 460406.6115702479,
            "symbol": "circle"
           },
           "mode": "markers",
           "name": "Asia",
           "showlegend": true,
           "type": "scatter",
           "x": [
            4.34
           ],
           "xaxis": "x",
           "y": [
            2.3909874850114523
           ],
           "yaxis": "y"
          }
         ],
         "name": "50"
        },
        {
         "data": [
          {
           "hovertemplate": "<b>%{hovertext}</b><br><br>Continent=Asia<br>Day=51<br>Hospital_beds_per100_2017=%{x}<br>Dead_per_million=%{y}<br>popData2018=%{marker.size}<extra></extra>",
           "hovertext": [
            "China"
           ],
           "ids": [
            "China"
           ],
           "legendgroup": "Asia",
           "marker": {
            "color": "#ab63fa",
            "size": [
             1392730000
            ],
            "sizemode": "area",
            "sizeref": 460406.6115702479,
            "symbol": "circle"
           },
           "mode": "markers",
           "name": "Asia",
           "showlegend": true,
           "type": "scatter",
           "x": [
            4.34
           ],
           "xaxis": "x",
           "y": [
            2.393141527790742
           ],
           "yaxis": "y"
          }
         ],
         "name": "51"
        },
        {
         "data": [
          {
           "hovertemplate": "<b>%{hovertext}</b><br><br>Continent=Asia<br>Day=52<br>Hospital_beds_per100_2017=%{x}<br>Dead_per_million=%{y}<br>popData2018=%{marker.size}<extra></extra>",
           "hovertext": [
            "China"
           ],
           "ids": [
            "China"
           ],
           "legendgroup": "Asia",
           "marker": {
            "color": "#ab63fa",
            "size": [
             1392730000
            ],
            "sizemode": "area",
            "sizeref": 460406.6115702479,
            "symbol": "circle"
           },
           "mode": "markers",
           "name": "Asia",
           "showlegend": true,
           "type": "scatter",
           "x": [
            4.34
           ],
           "xaxis": "x",
           "y": [
            2.3945775563102685
           ],
           "yaxis": "y"
          }
         ],
         "name": "52"
        },
        {
         "data": [
          {
           "hovertemplate": "<b>%{hovertext}</b><br><br>Continent=Asia<br>Day=53<br>Hospital_beds_per100_2017=%{x}<br>Dead_per_million=%{y}<br>popData2018=%{marker.size}<extra></extra>",
           "hovertext": [
            "China"
           ],
           "ids": [
            "China"
           ],
           "legendgroup": "Asia",
           "marker": {
            "color": "#ab63fa",
            "size": [
             1392730000
            ],
            "sizemode": "area",
            "sizeref": 460406.6115702479,
            "symbol": "circle"
           },
           "mode": "markers",
           "name": "Asia",
           "showlegend": true,
           "type": "scatter",
           "x": [
            4.34
           ],
           "xaxis": "x",
           "y": [
            2.3945775563102685
           ],
           "yaxis": "y"
          }
         ],
         "name": "53"
        },
        {
         "data": [
          {
           "hovertemplate": "<b>%{hovertext}</b><br><br>Continent=Asia<br>Day=54<br>Hospital_beds_per100_2017=%{x}<br>Dead_per_million=%{y}<br>popData2018=%{marker.size}<extra></extra>",
           "hovertext": [
            "China"
           ],
           "ids": [
            "China"
           ],
           "legendgroup": "Asia",
           "marker": {
            "color": "#ab63fa",
            "size": [
             1392730000
            ],
            "sizemode": "area",
            "sizeref": 460406.6115702479,
            "symbol": "circle"
           },
           "mode": "markers",
           "name": "Asia",
           "showlegend": true,
           "type": "scatter",
           "x": [
            4.34
           ],
           "xaxis": "x",
           "y": [
            2.3960135848297948
           ],
           "yaxis": "y"
          }
         ],
         "name": "54"
        },
        {
         "data": [
          {
           "hovertemplate": "<b>%{hovertext}</b><br><br>Continent=Asia<br>Day=55<br>Hospital_beds_per100_2017=%{x}<br>Dead_per_million=%{y}<br>popData2018=%{marker.size}<extra></extra>",
           "hovertext": [
            "China"
           ],
           "ids": [
            "China"
           ],
           "legendgroup": "Asia",
           "marker": {
            "color": "#ab63fa",
            "size": [
             1392730000
            ],
            "sizemode": "area",
            "sizeref": 460406.6115702479,
            "symbol": "circle"
           },
           "mode": "markers",
           "name": "Asia",
           "showlegend": true,
           "type": "scatter",
           "x": [
            4.34
           ],
           "xaxis": "x",
           "y": [
            2.397449613349321
           ],
           "yaxis": "y"
          }
         ],
         "name": "55"
        },
        {
         "data": [
          {
           "hovertemplate": "<b>%{hovertext}</b><br><br>Continent=Asia<br>Day=56<br>Hospital_beds_per100_2017=%{x}<br>Dead_per_million=%{y}<br>popData2018=%{marker.size}<extra></extra>",
           "hovertext": [
            "China"
           ],
           "ids": [
            "China"
           ],
           "legendgroup": "Asia",
           "marker": {
            "color": "#ab63fa",
            "size": [
             1392730000
            ],
            "sizemode": "area",
            "sizeref": 460406.6115702479,
            "symbol": "circle"
           },
           "mode": "markers",
           "name": "Asia",
           "showlegend": true,
           "type": "scatter",
           "x": [
            4.34
           ],
           "xaxis": "x",
           "y": [
            2.398167627609084
           ],
           "yaxis": "y"
          }
         ],
         "name": "56"
        },
        {
         "data": [
          {
           "hovertemplate": "<b>%{hovertext}</b><br><br>Continent=Asia<br>Day=57<br>Hospital_beds_per100_2017=%{x}<br>Dead_per_million=%{y}<br>popData2018=%{marker.size}<extra></extra>",
           "hovertext": [
            "China"
           ],
           "ids": [
            "China"
           ],
           "legendgroup": "Asia",
           "marker": {
            "color": "#ab63fa",
            "size": [
             1392730000
            ],
            "sizemode": "area",
            "sizeref": 460406.6115702479,
            "symbol": "circle"
           },
           "mode": "markers",
           "name": "Asia",
           "showlegend": true,
           "type": "scatter",
           "x": [
            4.34
           ],
           "xaxis": "x",
           "y": [
            2.400321670388374
           ],
           "yaxis": "y"
          }
         ],
         "name": "57"
        },
        {
         "data": [
          {
           "hovertemplate": "<b>%{hovertext}</b><br><br>Continent=Asia<br>Day=58<br>Hospital_beds_per100_2017=%{x}<br>Dead_per_million=%{y}<br>popData2018=%{marker.size}<extra></extra>",
           "hovertext": [
            "China"
           ],
           "ids": [
            "China"
           ],
           "legendgroup": "Asia",
           "marker": {
            "color": "#ab63fa",
            "size": [
             1392730000
            ],
            "sizemode": "area",
            "sizeref": 460406.6115702479,
            "symbol": "circle"
           },
           "mode": "markers",
           "name": "Asia",
           "showlegend": true,
           "type": "scatter",
           "x": [
            4.34
           ],
           "xaxis": "x",
           "y": [
            2.400321670388374
           ],
           "yaxis": "y"
          }
         ],
         "name": "58"
        },
        {
         "data": [
          {
           "hovertemplate": "<b>%{hovertext}</b><br><br>Continent=Asia<br>Day=59<br>Hospital_beds_per100_2017=%{x}<br>Dead_per_million=%{y}<br>popData2018=%{marker.size}<extra></extra>",
           "hovertext": [
            "China"
           ],
           "ids": [
            "China"
           ],
           "legendgroup": "Asia",
           "marker": {
            "color": "#ab63fa",
            "size": [
             1392730000
            ],
            "sizemode": "area",
            "sizeref": 460406.6115702479,
            "symbol": "circle"
           },
           "mode": "markers",
           "name": "Asia",
           "showlegend": true,
           "type": "scatter",
           "x": [
            4.34
           ],
           "xaxis": "x",
           "y": [
            2.4017576989079004
           ],
           "yaxis": "y"
          }
         ],
         "name": "59"
        },
        {
         "data": [
          {
           "hovertemplate": "<b>%{hovertext}</b><br><br>Continent=Asia<br>Day=60<br>Hospital_beds_per100_2017=%{x}<br>Dead_per_million=%{y}<br>popData2018=%{marker.size}<extra></extra>",
           "hovertext": [
            "China"
           ],
           "ids": [
            "China"
           ],
           "legendgroup": "Asia",
           "marker": {
            "color": "#ab63fa",
            "size": [
             1392730000
            ],
            "sizemode": "area",
            "sizeref": 460406.6115702479,
            "symbol": "circle"
           },
           "mode": "markers",
           "name": "Asia",
           "showlegend": true,
           "type": "scatter",
           "x": [
            4.34
           ],
           "xaxis": "x",
           "y": [
            2.4017576989079004
           ],
           "yaxis": "y"
          }
         ],
         "name": "60"
        },
        {
         "data": [
          {
           "hovertemplate": "<b>%{hovertext}</b><br><br>Continent=Asia<br>Day=61<br>Hospital_beds_per100_2017=%{x}<br>Dead_per_million=%{y}<br>popData2018=%{marker.size}<extra></extra>",
           "hovertext": [
            "China"
           ],
           "ids": [
            "China"
           ],
           "legendgroup": "Asia",
           "marker": {
            "color": "#ab63fa",
            "size": [
             1392730000
            ],
            "sizemode": "area",
            "sizeref": 460406.6115702479,
            "symbol": "circle"
           },
           "mode": "markers",
           "name": "Asia",
           "showlegend": true,
           "type": "scatter",
           "x": [
            4.34
           ],
           "xaxis": "x",
           "y": [
            2.4024757131676635
           ],
           "yaxis": "y"
          }
         ],
         "name": "61"
        },
        {
         "data": [
          {
           "hovertemplate": "<b>%{hovertext}</b><br><br>Continent=Asia<br>Day=62<br>Hospital_beds_per100_2017=%{x}<br>Dead_per_million=%{y}<br>popData2018=%{marker.size}<extra></extra>",
           "hovertext": [
            "China"
           ],
           "ids": [
            "China"
           ],
           "legendgroup": "Asia",
           "marker": {
            "color": "#ab63fa",
            "size": [
             1392730000
            ],
            "sizemode": "area",
            "sizeref": 460406.6115702479,
            "symbol": "circle"
           },
           "mode": "markers",
           "name": "Asia",
           "showlegend": true,
           "type": "scatter",
           "x": [
            4.34
           ],
           "xaxis": "x",
           "y": [
            2.4024757131676635
           ],
           "yaxis": "y"
          }
         ],
         "name": "62"
        },
        {
         "data": [
          {
           "hovertemplate": "<b>%{hovertext}</b><br><br>Continent=Asia<br>Day=63<br>Hospital_beds_per100_2017=%{x}<br>Dead_per_million=%{y}<br>popData2018=%{marker.size}<extra></extra>",
           "hovertext": [
            "China"
           ],
           "ids": [
            "China"
           ],
           "legendgroup": "Asia",
           "marker": {
            "color": "#ab63fa",
            "size": [
             1392730000
            ],
            "sizemode": "area",
            "sizeref": 460406.6115702479,
            "symbol": "circle"
           },
           "mode": "markers",
           "name": "Asia",
           "showlegend": true,
           "type": "scatter",
           "x": [
            4.34
           ],
           "xaxis": "x",
           "y": [
            3.32871410826219
           ],
           "yaxis": "y"
          }
         ],
         "name": "63"
        },
        {
         "data": [
          {
           "hovertemplate": "<b>%{hovertext}</b><br><br>Continent=Asia<br>Day=64<br>Hospital_beds_per100_2017=%{x}<br>Dead_per_million=%{y}<br>popData2018=%{marker.size}<extra></extra>",
           "hovertext": [
            "China"
           ],
           "ids": [
            "China"
           ],
           "legendgroup": "Asia",
           "marker": {
            "color": "#ab63fa",
            "size": [
             1392730000
            ],
            "sizemode": "area",
            "sizeref": 460406.6115702479,
            "symbol": "circle"
           },
           "mode": "markers",
           "name": "Asia",
           "showlegend": true,
           "type": "scatter",
           "x": [
            4.34
           ],
           "xaxis": "x",
           "y": [
            3.32871410826219
           ],
           "yaxis": "y"
          }
         ],
         "name": "64"
        },
        {
         "data": [
          {
           "hovertemplate": "<b>%{hovertext}</b><br><br>Continent=Asia<br>Day=65<br>Hospital_beds_per100_2017=%{x}<br>Dead_per_million=%{y}<br>popData2018=%{marker.size}<extra></extra>",
           "hovertext": [
            "China"
           ],
           "ids": [
            "China"
           ],
           "legendgroup": "Asia",
           "marker": {
            "color": "#ab63fa",
            "size": [
             1392730000
            ],
            "sizemode": "area",
            "sizeref": 460406.6115702479,
            "symbol": "circle"
           },
           "mode": "markers",
           "name": "Asia",
           "showlegend": true,
           "type": "scatter",
           "x": [
            4.34
           ],
           "xaxis": "x",
           "y": [
            3.32871410826219
           ],
           "yaxis": "y"
          }
         ],
         "name": "65"
        },
        {
         "data": [
          {
           "hovertemplate": "<b>%{hovertext}</b><br><br>Continent=Asia<br>Day=66<br>Hospital_beds_per100_2017=%{x}<br>Dead_per_million=%{y}<br>popData2018=%{marker.size}<extra></extra>",
           "hovertext": [
            "China"
           ],
           "ids": [
            "China"
           ],
           "legendgroup": "Asia",
           "marker": {
            "color": "#ab63fa",
            "size": [
             1392730000
            ],
            "sizemode": "area",
            "sizeref": 460406.6115702479,
            "symbol": "circle"
           },
           "mode": "markers",
           "name": "Asia",
           "showlegend": true,
           "type": "scatter",
           "x": [
            4.34
           ],
           "xaxis": "x",
           "y": [
            3.32871410826219
           ],
           "yaxis": "y"
          }
         ],
         "name": "66"
        }
       ],
       "layout": {
        "legend": {
         "itemsizing": "constant",
         "title": {
          "text": "Continent"
         },
         "tracegroupgap": 0
        },
        "margin": {
         "t": 60
        },
        "sliders": [
         {
          "active": 0,
          "currentvalue": {
           "prefix": "Day="
          },
          "len": 0.9,
          "pad": {
           "b": 10,
           "t": 60
          },
          "steps": [
           {
            "args": [
             [
              "1"
             ],
             {
              "frame": {
               "duration": 0,
               "redraw": false
              },
              "fromcurrent": true,
              "mode": "immediate",
              "transition": {
               "duration": 0,
               "easing": "linear"
              }
             }
            ],
            "label": "1",
            "method": "animate"
           },
           {
            "args": [
             [
              "2"
             ],
             {
              "frame": {
               "duration": 0,
               "redraw": false
              },
              "fromcurrent": true,
              "mode": "immediate",
              "transition": {
               "duration": 0,
               "easing": "linear"
              }
             }
            ],
            "label": "2",
            "method": "animate"
           },
           {
            "args": [
             [
              "3"
             ],
             {
              "frame": {
               "duration": 0,
               "redraw": false
              },
              "fromcurrent": true,
              "mode": "immediate",
              "transition": {
               "duration": 0,
               "easing": "linear"
              }
             }
            ],
            "label": "3",
            "method": "animate"
           },
           {
            "args": [
             [
              "4"
             ],
             {
              "frame": {
               "duration": 0,
               "redraw": false
              },
              "fromcurrent": true,
              "mode": "immediate",
              "transition": {
               "duration": 0,
               "easing": "linear"
              }
             }
            ],
            "label": "4",
            "method": "animate"
           },
           {
            "args": [
             [
              "5"
             ],
             {
              "frame": {
               "duration": 0,
               "redraw": false
              },
              "fromcurrent": true,
              "mode": "immediate",
              "transition": {
               "duration": 0,
               "easing": "linear"
              }
             }
            ],
            "label": "5",
            "method": "animate"
           },
           {
            "args": [
             [
              "6"
             ],
             {
              "frame": {
               "duration": 0,
               "redraw": false
              },
              "fromcurrent": true,
              "mode": "immediate",
              "transition": {
               "duration": 0,
               "easing": "linear"
              }
             }
            ],
            "label": "6",
            "method": "animate"
           },
           {
            "args": [
             [
              "7"
             ],
             {
              "frame": {
               "duration": 0,
               "redraw": false
              },
              "fromcurrent": true,
              "mode": "immediate",
              "transition": {
               "duration": 0,
               "easing": "linear"
              }
             }
            ],
            "label": "7",
            "method": "animate"
           },
           {
            "args": [
             [
              "8"
             ],
             {
              "frame": {
               "duration": 0,
               "redraw": false
              },
              "fromcurrent": true,
              "mode": "immediate",
              "transition": {
               "duration": 0,
               "easing": "linear"
              }
             }
            ],
            "label": "8",
            "method": "animate"
           },
           {
            "args": [
             [
              "9"
             ],
             {
              "frame": {
               "duration": 0,
               "redraw": false
              },
              "fromcurrent": true,
              "mode": "immediate",
              "transition": {
               "duration": 0,
               "easing": "linear"
              }
             }
            ],
            "label": "9",
            "method": "animate"
           },
           {
            "args": [
             [
              "10"
             ],
             {
              "frame": {
               "duration": 0,
               "redraw": false
              },
              "fromcurrent": true,
              "mode": "immediate",
              "transition": {
               "duration": 0,
               "easing": "linear"
              }
             }
            ],
            "label": "10",
            "method": "animate"
           },
           {
            "args": [
             [
              "11"
             ],
             {
              "frame": {
               "duration": 0,
               "redraw": false
              },
              "fromcurrent": true,
              "mode": "immediate",
              "transition": {
               "duration": 0,
               "easing": "linear"
              }
             }
            ],
            "label": "11",
            "method": "animate"
           },
           {
            "args": [
             [
              "12"
             ],
             {
              "frame": {
               "duration": 0,
               "redraw": false
              },
              "fromcurrent": true,
              "mode": "immediate",
              "transition": {
               "duration": 0,
               "easing": "linear"
              }
             }
            ],
            "label": "12",
            "method": "animate"
           },
           {
            "args": [
             [
              "13"
             ],
             {
              "frame": {
               "duration": 0,
               "redraw": false
              },
              "fromcurrent": true,
              "mode": "immediate",
              "transition": {
               "duration": 0,
               "easing": "linear"
              }
             }
            ],
            "label": "13",
            "method": "animate"
           },
           {
            "args": [
             [
              "14"
             ],
             {
              "frame": {
               "duration": 0,
               "redraw": false
              },
              "fromcurrent": true,
              "mode": "immediate",
              "transition": {
               "duration": 0,
               "easing": "linear"
              }
             }
            ],
            "label": "14",
            "method": "animate"
           },
           {
            "args": [
             [
              "15"
             ],
             {
              "frame": {
               "duration": 0,
               "redraw": false
              },
              "fromcurrent": true,
              "mode": "immediate",
              "transition": {
               "duration": 0,
               "easing": "linear"
              }
             }
            ],
            "label": "15",
            "method": "animate"
           },
           {
            "args": [
             [
              "16"
             ],
             {
              "frame": {
               "duration": 0,
               "redraw": false
              },
              "fromcurrent": true,
              "mode": "immediate",
              "transition": {
               "duration": 0,
               "easing": "linear"
              }
             }
            ],
            "label": "16",
            "method": "animate"
           },
           {
            "args": [
             [
              "17"
             ],
             {
              "frame": {
               "duration": 0,
               "redraw": false
              },
              "fromcurrent": true,
              "mode": "immediate",
              "transition": {
               "duration": 0,
               "easing": "linear"
              }
             }
            ],
            "label": "17",
            "method": "animate"
           },
           {
            "args": [
             [
              "18"
             ],
             {
              "frame": {
               "duration": 0,
               "redraw": false
              },
              "fromcurrent": true,
              "mode": "immediate",
              "transition": {
               "duration": 0,
               "easing": "linear"
              }
             }
            ],
            "label": "18",
            "method": "animate"
           },
           {
            "args": [
             [
              "19"
             ],
             {
              "frame": {
               "duration": 0,
               "redraw": false
              },
              "fromcurrent": true,
              "mode": "immediate",
              "transition": {
               "duration": 0,
               "easing": "linear"
              }
             }
            ],
            "label": "19",
            "method": "animate"
           },
           {
            "args": [
             [
              "20"
             ],
             {
              "frame": {
               "duration": 0,
               "redraw": false
              },
              "fromcurrent": true,
              "mode": "immediate",
              "transition": {
               "duration": 0,
               "easing": "linear"
              }
             }
            ],
            "label": "20",
            "method": "animate"
           },
           {
            "args": [
             [
              "21"
             ],
             {
              "frame": {
               "duration": 0,
               "redraw": false
              },
              "fromcurrent": true,
              "mode": "immediate",
              "transition": {
               "duration": 0,
               "easing": "linear"
              }
             }
            ],
            "label": "21",
            "method": "animate"
           },
           {
            "args": [
             [
              "22"
             ],
             {
              "frame": {
               "duration": 0,
               "redraw": false
              },
              "fromcurrent": true,
              "mode": "immediate",
              "transition": {
               "duration": 0,
               "easing": "linear"
              }
             }
            ],
            "label": "22",
            "method": "animate"
           },
           {
            "args": [
             [
              "23"
             ],
             {
              "frame": {
               "duration": 0,
               "redraw": false
              },
              "fromcurrent": true,
              "mode": "immediate",
              "transition": {
               "duration": 0,
               "easing": "linear"
              }
             }
            ],
            "label": "23",
            "method": "animate"
           },
           {
            "args": [
             [
              "24"
             ],
             {
              "frame": {
               "duration": 0,
               "redraw": false
              },
              "fromcurrent": true,
              "mode": "immediate",
              "transition": {
               "duration": 0,
               "easing": "linear"
              }
             }
            ],
            "label": "24",
            "method": "animate"
           },
           {
            "args": [
             [
              "25"
             ],
             {
              "frame": {
               "duration": 0,
               "redraw": false
              },
              "fromcurrent": true,
              "mode": "immediate",
              "transition": {
               "duration": 0,
               "easing": "linear"
              }
             }
            ],
            "label": "25",
            "method": "animate"
           },
           {
            "args": [
             [
              "26"
             ],
             {
              "frame": {
               "duration": 0,
               "redraw": false
              },
              "fromcurrent": true,
              "mode": "immediate",
              "transition": {
               "duration": 0,
               "easing": "linear"
              }
             }
            ],
            "label": "26",
            "method": "animate"
           },
           {
            "args": [
             [
              "27"
             ],
             {
              "frame": {
               "duration": 0,
               "redraw": false
              },
              "fromcurrent": true,
              "mode": "immediate",
              "transition": {
               "duration": 0,
               "easing": "linear"
              }
             }
            ],
            "label": "27",
            "method": "animate"
           },
           {
            "args": [
             [
              "28"
             ],
             {
              "frame": {
               "duration": 0,
               "redraw": false
              },
              "fromcurrent": true,
              "mode": "immediate",
              "transition": {
               "duration": 0,
               "easing": "linear"
              }
             }
            ],
            "label": "28",
            "method": "animate"
           },
           {
            "args": [
             [
              "29"
             ],
             {
              "frame": {
               "duration": 0,
               "redraw": false
              },
              "fromcurrent": true,
              "mode": "immediate",
              "transition": {
               "duration": 0,
               "easing": "linear"
              }
             }
            ],
            "label": "29",
            "method": "animate"
           },
           {
            "args": [
             [
              "30"
             ],
             {
              "frame": {
               "duration": 0,
               "redraw": false
              },
              "fromcurrent": true,
              "mode": "immediate",
              "transition": {
               "duration": 0,
               "easing": "linear"
              }
             }
            ],
            "label": "30",
            "method": "animate"
           },
           {
            "args": [
             [
              "31"
             ],
             {
              "frame": {
               "duration": 0,
               "redraw": false
              },
              "fromcurrent": true,
              "mode": "immediate",
              "transition": {
               "duration": 0,
               "easing": "linear"
              }
             }
            ],
            "label": "31",
            "method": "animate"
           },
           {
            "args": [
             [
              "32"
             ],
             {
              "frame": {
               "duration": 0,
               "redraw": false
              },
              "fromcurrent": true,
              "mode": "immediate",
              "transition": {
               "duration": 0,
               "easing": "linear"
              }
             }
            ],
            "label": "32",
            "method": "animate"
           },
           {
            "args": [
             [
              "33"
             ],
             {
              "frame": {
               "duration": 0,
               "redraw": false
              },
              "fromcurrent": true,
              "mode": "immediate",
              "transition": {
               "duration": 0,
               "easing": "linear"
              }
             }
            ],
            "label": "33",
            "method": "animate"
           },
           {
            "args": [
             [
              "34"
             ],
             {
              "frame": {
               "duration": 0,
               "redraw": false
              },
              "fromcurrent": true,
              "mode": "immediate",
              "transition": {
               "duration": 0,
               "easing": "linear"
              }
             }
            ],
            "label": "34",
            "method": "animate"
           },
           {
            "args": [
             [
              "35"
             ],
             {
              "frame": {
               "duration": 0,
               "redraw": false
              },
              "fromcurrent": true,
              "mode": "immediate",
              "transition": {
               "duration": 0,
               "easing": "linear"
              }
             }
            ],
            "label": "35",
            "method": "animate"
           },
           {
            "args": [
             [
              "36"
             ],
             {
              "frame": {
               "duration": 0,
               "redraw": false
              },
              "fromcurrent": true,
              "mode": "immediate",
              "transition": {
               "duration": 0,
               "easing": "linear"
              }
             }
            ],
            "label": "36",
            "method": "animate"
           },
           {
            "args": [
             [
              "37"
             ],
             {
              "frame": {
               "duration": 0,
               "redraw": false
              },
              "fromcurrent": true,
              "mode": "immediate",
              "transition": {
               "duration": 0,
               "easing": "linear"
              }
             }
            ],
            "label": "37",
            "method": "animate"
           },
           {
            "args": [
             [
              "38"
             ],
             {
              "frame": {
               "duration": 0,
               "redraw": false
              },
              "fromcurrent": true,
              "mode": "immediate",
              "transition": {
               "duration": 0,
               "easing": "linear"
              }
             }
            ],
            "label": "38",
            "method": "animate"
           },
           {
            "args": [
             [
              "39"
             ],
             {
              "frame": {
               "duration": 0,
               "redraw": false
              },
              "fromcurrent": true,
              "mode": "immediate",
              "transition": {
               "duration": 0,
               "easing": "linear"
              }
             }
            ],
            "label": "39",
            "method": "animate"
           },
           {
            "args": [
             [
              "40"
             ],
             {
              "frame": {
               "duration": 0,
               "redraw": false
              },
              "fromcurrent": true,
              "mode": "immediate",
              "transition": {
               "duration": 0,
               "easing": "linear"
              }
             }
            ],
            "label": "40",
            "method": "animate"
           },
           {
            "args": [
             [
              "41"
             ],
             {
              "frame": {
               "duration": 0,
               "redraw": false
              },
              "fromcurrent": true,
              "mode": "immediate",
              "transition": {
               "duration": 0,
               "easing": "linear"
              }
             }
            ],
            "label": "41",
            "method": "animate"
           },
           {
            "args": [
             [
              "42"
             ],
             {
              "frame": {
               "duration": 0,
               "redraw": false
              },
              "fromcurrent": true,
              "mode": "immediate",
              "transition": {
               "duration": 0,
               "easing": "linear"
              }
             }
            ],
            "label": "42",
            "method": "animate"
           },
           {
            "args": [
             [
              "43"
             ],
             {
              "frame": {
               "duration": 0,
               "redraw": false
              },
              "fromcurrent": true,
              "mode": "immediate",
              "transition": {
               "duration": 0,
               "easing": "linear"
              }
             }
            ],
            "label": "43",
            "method": "animate"
           },
           {
            "args": [
             [
              "44"
             ],
             {
              "frame": {
               "duration": 0,
               "redraw": false
              },
              "fromcurrent": true,
              "mode": "immediate",
              "transition": {
               "duration": 0,
               "easing": "linear"
              }
             }
            ],
            "label": "44",
            "method": "animate"
           },
           {
            "args": [
             [
              "45"
             ],
             {
              "frame": {
               "duration": 0,
               "redraw": false
              },
              "fromcurrent": true,
              "mode": "immediate",
              "transition": {
               "duration": 0,
               "easing": "linear"
              }
             }
            ],
            "label": "45",
            "method": "animate"
           },
           {
            "args": [
             [
              "46"
             ],
             {
              "frame": {
               "duration": 0,
               "redraw": false
              },
              "fromcurrent": true,
              "mode": "immediate",
              "transition": {
               "duration": 0,
               "easing": "linear"
              }
             }
            ],
            "label": "46",
            "method": "animate"
           },
           {
            "args": [
             [
              "47"
             ],
             {
              "frame": {
               "duration": 0,
               "redraw": false
              },
              "fromcurrent": true,
              "mode": "immediate",
              "transition": {
               "duration": 0,
               "easing": "linear"
              }
             }
            ],
            "label": "47",
            "method": "animate"
           },
           {
            "args": [
             [
              "48"
             ],
             {
              "frame": {
               "duration": 0,
               "redraw": false
              },
              "fromcurrent": true,
              "mode": "immediate",
              "transition": {
               "duration": 0,
               "easing": "linear"
              }
             }
            ],
            "label": "48",
            "method": "animate"
           },
           {
            "args": [
             [
              "49"
             ],
             {
              "frame": {
               "duration": 0,
               "redraw": false
              },
              "fromcurrent": true,
              "mode": "immediate",
              "transition": {
               "duration": 0,
               "easing": "linear"
              }
             }
            ],
            "label": "49",
            "method": "animate"
           },
           {
            "args": [
             [
              "50"
             ],
             {
              "frame": {
               "duration": 0,
               "redraw": false
              },
              "fromcurrent": true,
              "mode": "immediate",
              "transition": {
               "duration": 0,
               "easing": "linear"
              }
             }
            ],
            "label": "50",
            "method": "animate"
           },
           {
            "args": [
             [
              "51"
             ],
             {
              "frame": {
               "duration": 0,
               "redraw": false
              },
              "fromcurrent": true,
              "mode": "immediate",
              "transition": {
               "duration": 0,
               "easing": "linear"
              }
             }
            ],
            "label": "51",
            "method": "animate"
           },
           {
            "args": [
             [
              "52"
             ],
             {
              "frame": {
               "duration": 0,
               "redraw": false
              },
              "fromcurrent": true,
              "mode": "immediate",
              "transition": {
               "duration": 0,
               "easing": "linear"
              }
             }
            ],
            "label": "52",
            "method": "animate"
           },
           {
            "args": [
             [
              "53"
             ],
             {
              "frame": {
               "duration": 0,
               "redraw": false
              },
              "fromcurrent": true,
              "mode": "immediate",
              "transition": {
               "duration": 0,
               "easing": "linear"
              }
             }
            ],
            "label": "53",
            "method": "animate"
           },
           {
            "args": [
             [
              "54"
             ],
             {
              "frame": {
               "duration": 0,
               "redraw": false
              },
              "fromcurrent": true,
              "mode": "immediate",
              "transition": {
               "duration": 0,
               "easing": "linear"
              }
             }
            ],
            "label": "54",
            "method": "animate"
           },
           {
            "args": [
             [
              "55"
             ],
             {
              "frame": {
               "duration": 0,
               "redraw": false
              },
              "fromcurrent": true,
              "mode": "immediate",
              "transition": {
               "duration": 0,
               "easing": "linear"
              }
             }
            ],
            "label": "55",
            "method": "animate"
           },
           {
            "args": [
             [
              "56"
             ],
             {
              "frame": {
               "duration": 0,
               "redraw": false
              },
              "fromcurrent": true,
              "mode": "immediate",
              "transition": {
               "duration": 0,
               "easing": "linear"
              }
             }
            ],
            "label": "56",
            "method": "animate"
           },
           {
            "args": [
             [
              "57"
             ],
             {
              "frame": {
               "duration": 0,
               "redraw": false
              },
              "fromcurrent": true,
              "mode": "immediate",
              "transition": {
               "duration": 0,
               "easing": "linear"
              }
             }
            ],
            "label": "57",
            "method": "animate"
           },
           {
            "args": [
             [
              "58"
             ],
             {
              "frame": {
               "duration": 0,
               "redraw": false
              },
              "fromcurrent": true,
              "mode": "immediate",
              "transition": {
               "duration": 0,
               "easing": "linear"
              }
             }
            ],
            "label": "58",
            "method": "animate"
           },
           {
            "args": [
             [
              "59"
             ],
             {
              "frame": {
               "duration": 0,
               "redraw": false
              },
              "fromcurrent": true,
              "mode": "immediate",
              "transition": {
               "duration": 0,
               "easing": "linear"
              }
             }
            ],
            "label": "59",
            "method": "animate"
           },
           {
            "args": [
             [
              "60"
             ],
             {
              "frame": {
               "duration": 0,
               "redraw": false
              },
              "fromcurrent": true,
              "mode": "immediate",
              "transition": {
               "duration": 0,
               "easing": "linear"
              }
             }
            ],
            "label": "60",
            "method": "animate"
           },
           {
            "args": [
             [
              "61"
             ],
             {
              "frame": {
               "duration": 0,
               "redraw": false
              },
              "fromcurrent": true,
              "mode": "immediate",
              "transition": {
               "duration": 0,
               "easing": "linear"
              }
             }
            ],
            "label": "61",
            "method": "animate"
           },
           {
            "args": [
             [
              "62"
             ],
             {
              "frame": {
               "duration": 0,
               "redraw": false
              },
              "fromcurrent": true,
              "mode": "immediate",
              "transition": {
               "duration": 0,
               "easing": "linear"
              }
             }
            ],
            "label": "62",
            "method": "animate"
           },
           {
            "args": [
             [
              "63"
             ],
             {
              "frame": {
               "duration": 0,
               "redraw": false
              },
              "fromcurrent": true,
              "mode": "immediate",
              "transition": {
               "duration": 0,
               "easing": "linear"
              }
             }
            ],
            "label": "63",
            "method": "animate"
           },
           {
            "args": [
             [
              "64"
             ],
             {
              "frame": {
               "duration": 0,
               "redraw": false
              },
              "fromcurrent": true,
              "mode": "immediate",
              "transition": {
               "duration": 0,
               "easing": "linear"
              }
             }
            ],
            "label": "64",
            "method": "animate"
           },
           {
            "args": [
             [
              "65"
             ],
             {
              "frame": {
               "duration": 0,
               "redraw": false
              },
              "fromcurrent": true,
              "mode": "immediate",
              "transition": {
               "duration": 0,
               "easing": "linear"
              }
             }
            ],
            "label": "65",
            "method": "animate"
           },
           {
            "args": [
             [
              "66"
             ],
             {
              "frame": {
               "duration": 0,
               "redraw": false
              },
              "fromcurrent": true,
              "mode": "immediate",
              "transition": {
               "duration": 0,
               "easing": "linear"
              }
             }
            ],
            "label": "66",
            "method": "animate"
           }
          ],
          "x": 0.1,
          "xanchor": "left",
          "y": 0,
          "yanchor": "top"
         }
        ],
        "template": {
         "data": {
          "bar": [
           {
            "error_x": {
             "color": "#2a3f5f"
            },
            "error_y": {
             "color": "#2a3f5f"
            },
            "marker": {
             "line": {
              "color": "#E5ECF6",
              "width": 0.5
             }
            },
            "type": "bar"
           }
          ],
          "barpolar": [
           {
            "marker": {
             "line": {
              "color": "#E5ECF6",
              "width": 0.5
             }
            },
            "type": "barpolar"
           }
          ],
          "carpet": [
           {
            "aaxis": {
             "endlinecolor": "#2a3f5f",
             "gridcolor": "white",
             "linecolor": "white",
             "minorgridcolor": "white",
             "startlinecolor": "#2a3f5f"
            },
            "baxis": {
             "endlinecolor": "#2a3f5f",
             "gridcolor": "white",
             "linecolor": "white",
             "minorgridcolor": "white",
             "startlinecolor": "#2a3f5f"
            },
            "type": "carpet"
           }
          ],
          "choropleth": [
           {
            "colorbar": {
             "outlinewidth": 0,
             "ticks": ""
            },
            "type": "choropleth"
           }
          ],
          "contour": [
           {
            "colorbar": {
             "outlinewidth": 0,
             "ticks": ""
            },
            "colorscale": [
             [
              0,
              "#0d0887"
             ],
             [
              0.1111111111111111,
              "#46039f"
             ],
             [
              0.2222222222222222,
              "#7201a8"
             ],
             [
              0.3333333333333333,
              "#9c179e"
             ],
             [
              0.4444444444444444,
              "#bd3786"
             ],
             [
              0.5555555555555556,
              "#d8576b"
             ],
             [
              0.6666666666666666,
              "#ed7953"
             ],
             [
              0.7777777777777778,
              "#fb9f3a"
             ],
             [
              0.8888888888888888,
              "#fdca26"
             ],
             [
              1,
              "#f0f921"
             ]
            ],
            "type": "contour"
           }
          ],
          "contourcarpet": [
           {
            "colorbar": {
             "outlinewidth": 0,
             "ticks": ""
            },
            "type": "contourcarpet"
           }
          ],
          "heatmap": [
           {
            "colorbar": {
             "outlinewidth": 0,
             "ticks": ""
            },
            "colorscale": [
             [
              0,
              "#0d0887"
             ],
             [
              0.1111111111111111,
              "#46039f"
             ],
             [
              0.2222222222222222,
              "#7201a8"
             ],
             [
              0.3333333333333333,
              "#9c179e"
             ],
             [
              0.4444444444444444,
              "#bd3786"
             ],
             [
              0.5555555555555556,
              "#d8576b"
             ],
             [
              0.6666666666666666,
              "#ed7953"
             ],
             [
              0.7777777777777778,
              "#fb9f3a"
             ],
             [
              0.8888888888888888,
              "#fdca26"
             ],
             [
              1,
              "#f0f921"
             ]
            ],
            "type": "heatmap"
           }
          ],
          "heatmapgl": [
           {
            "colorbar": {
             "outlinewidth": 0,
             "ticks": ""
            },
            "colorscale": [
             [
              0,
              "#0d0887"
             ],
             [
              0.1111111111111111,
              "#46039f"
             ],
             [
              0.2222222222222222,
              "#7201a8"
             ],
             [
              0.3333333333333333,
              "#9c179e"
             ],
             [
              0.4444444444444444,
              "#bd3786"
             ],
             [
              0.5555555555555556,
              "#d8576b"
             ],
             [
              0.6666666666666666,
              "#ed7953"
             ],
             [
              0.7777777777777778,
              "#fb9f3a"
             ],
             [
              0.8888888888888888,
              "#fdca26"
             ],
             [
              1,
              "#f0f921"
             ]
            ],
            "type": "heatmapgl"
           }
          ],
          "histogram": [
           {
            "marker": {
             "colorbar": {
              "outlinewidth": 0,
              "ticks": ""
             }
            },
            "type": "histogram"
           }
          ],
          "histogram2d": [
           {
            "colorbar": {
             "outlinewidth": 0,
             "ticks": ""
            },
            "colorscale": [
             [
              0,
              "#0d0887"
             ],
             [
              0.1111111111111111,
              "#46039f"
             ],
             [
              0.2222222222222222,
              "#7201a8"
             ],
             [
              0.3333333333333333,
              "#9c179e"
             ],
             [
              0.4444444444444444,
              "#bd3786"
             ],
             [
              0.5555555555555556,
              "#d8576b"
             ],
             [
              0.6666666666666666,
              "#ed7953"
             ],
             [
              0.7777777777777778,
              "#fb9f3a"
             ],
             [
              0.8888888888888888,
              "#fdca26"
             ],
             [
              1,
              "#f0f921"
             ]
            ],
            "type": "histogram2d"
           }
          ],
          "histogram2dcontour": [
           {
            "colorbar": {
             "outlinewidth": 0,
             "ticks": ""
            },
            "colorscale": [
             [
              0,
              "#0d0887"
             ],
             [
              0.1111111111111111,
              "#46039f"
             ],
             [
              0.2222222222222222,
              "#7201a8"
             ],
             [
              0.3333333333333333,
              "#9c179e"
             ],
             [
              0.4444444444444444,
              "#bd3786"
             ],
             [
              0.5555555555555556,
              "#d8576b"
             ],
             [
              0.6666666666666666,
              "#ed7953"
             ],
             [
              0.7777777777777778,
              "#fb9f3a"
             ],
             [
              0.8888888888888888,
              "#fdca26"
             ],
             [
              1,
              "#f0f921"
             ]
            ],
            "type": "histogram2dcontour"
           }
          ],
          "mesh3d": [
           {
            "colorbar": {
             "outlinewidth": 0,
             "ticks": ""
            },
            "type": "mesh3d"
           }
          ],
          "parcoords": [
           {
            "line": {
             "colorbar": {
              "outlinewidth": 0,
              "ticks": ""
             }
            },
            "type": "parcoords"
           }
          ],
          "pie": [
           {
            "automargin": true,
            "type": "pie"
           }
          ],
          "scatter": [
           {
            "marker": {
             "colorbar": {
              "outlinewidth": 0,
              "ticks": ""
             }
            },
            "type": "scatter"
           }
          ],
          "scatter3d": [
           {
            "line": {
             "colorbar": {
              "outlinewidth": 0,
              "ticks": ""
             }
            },
            "marker": {
             "colorbar": {
              "outlinewidth": 0,
              "ticks": ""
             }
            },
            "type": "scatter3d"
           }
          ],
          "scattercarpet": [
           {
            "marker": {
             "colorbar": {
              "outlinewidth": 0,
              "ticks": ""
             }
            },
            "type": "scattercarpet"
           }
          ],
          "scattergeo": [
           {
            "marker": {
             "colorbar": {
              "outlinewidth": 0,
              "ticks": ""
             }
            },
            "type": "scattergeo"
           }
          ],
          "scattergl": [
           {
            "marker": {
             "colorbar": {
              "outlinewidth": 0,
              "ticks": ""
             }
            },
            "type": "scattergl"
           }
          ],
          "scattermapbox": [
           {
            "marker": {
             "colorbar": {
              "outlinewidth": 0,
              "ticks": ""
             }
            },
            "type": "scattermapbox"
           }
          ],
          "scatterpolar": [
           {
            "marker": {
             "colorbar": {
              "outlinewidth": 0,
              "ticks": ""
             }
            },
            "type": "scatterpolar"
           }
          ],
          "scatterpolargl": [
           {
            "marker": {
             "colorbar": {
              "outlinewidth": 0,
              "ticks": ""
             }
            },
            "type": "scatterpolargl"
           }
          ],
          "scatterternary": [
           {
            "marker": {
             "colorbar": {
              "outlinewidth": 0,
              "ticks": ""
             }
            },
            "type": "scatterternary"
           }
          ],
          "surface": [
           {
            "colorbar": {
             "outlinewidth": 0,
             "ticks": ""
            },
            "colorscale": [
             [
              0,
              "#0d0887"
             ],
             [
              0.1111111111111111,
              "#46039f"
             ],
             [
              0.2222222222222222,
              "#7201a8"
             ],
             [
              0.3333333333333333,
              "#9c179e"
             ],
             [
              0.4444444444444444,
              "#bd3786"
             ],
             [
              0.5555555555555556,
              "#d8576b"
             ],
             [
              0.6666666666666666,
              "#ed7953"
             ],
             [
              0.7777777777777778,
              "#fb9f3a"
             ],
             [
              0.8888888888888888,
              "#fdca26"
             ],
             [
              1,
              "#f0f921"
             ]
            ],
            "type": "surface"
           }
          ],
          "table": [
           {
            "cells": {
             "fill": {
              "color": "#EBF0F8"
             },
             "line": {
              "color": "white"
             }
            },
            "header": {
             "fill": {
              "color": "#C8D4E3"
             },
             "line": {
              "color": "white"
             }
            },
            "type": "table"
           }
          ]
         },
         "layout": {
          "annotationdefaults": {
           "arrowcolor": "#2a3f5f",
           "arrowhead": 0,
           "arrowwidth": 1
          },
          "coloraxis": {
           "colorbar": {
            "outlinewidth": 0,
            "ticks": ""
           }
          },
          "colorscale": {
           "diverging": [
            [
             0,
             "#8e0152"
            ],
            [
             0.1,
             "#c51b7d"
            ],
            [
             0.2,
             "#de77ae"
            ],
            [
             0.3,
             "#f1b6da"
            ],
            [
             0.4,
             "#fde0ef"
            ],
            [
             0.5,
             "#f7f7f7"
            ],
            [
             0.6,
             "#e6f5d0"
            ],
            [
             0.7,
             "#b8e186"
            ],
            [
             0.8,
             "#7fbc41"
            ],
            [
             0.9,
             "#4d9221"
            ],
            [
             1,
             "#276419"
            ]
           ],
           "sequential": [
            [
             0,
             "#0d0887"
            ],
            [
             0.1111111111111111,
             "#46039f"
            ],
            [
             0.2222222222222222,
             "#7201a8"
            ],
            [
             0.3333333333333333,
             "#9c179e"
            ],
            [
             0.4444444444444444,
             "#bd3786"
            ],
            [
             0.5555555555555556,
             "#d8576b"
            ],
            [
             0.6666666666666666,
             "#ed7953"
            ],
            [
             0.7777777777777778,
             "#fb9f3a"
            ],
            [
             0.8888888888888888,
             "#fdca26"
            ],
            [
             1,
             "#f0f921"
            ]
           ],
           "sequentialminus": [
            [
             0,
             "#0d0887"
            ],
            [
             0.1111111111111111,
             "#46039f"
            ],
            [
             0.2222222222222222,
             "#7201a8"
            ],
            [
             0.3333333333333333,
             "#9c179e"
            ],
            [
             0.4444444444444444,
             "#bd3786"
            ],
            [
             0.5555555555555556,
             "#d8576b"
            ],
            [
             0.6666666666666666,
             "#ed7953"
            ],
            [
             0.7777777777777778,
             "#fb9f3a"
            ],
            [
             0.8888888888888888,
             "#fdca26"
            ],
            [
             1,
             "#f0f921"
            ]
           ]
          },
          "colorway": [
           "#636efa",
           "#EF553B",
           "#00cc96",
           "#ab63fa",
           "#FFA15A",
           "#19d3f3",
           "#FF6692",
           "#B6E880",
           "#FF97FF",
           "#FECB52"
          ],
          "font": {
           "color": "#2a3f5f"
          },
          "geo": {
           "bgcolor": "white",
           "lakecolor": "white",
           "landcolor": "#E5ECF6",
           "showlakes": true,
           "showland": true,
           "subunitcolor": "white"
          },
          "hoverlabel": {
           "align": "left"
          },
          "hovermode": "closest",
          "mapbox": {
           "style": "light"
          },
          "paper_bgcolor": "white",
          "plot_bgcolor": "#E5ECF6",
          "polar": {
           "angularaxis": {
            "gridcolor": "white",
            "linecolor": "white",
            "ticks": ""
           },
           "bgcolor": "#E5ECF6",
           "radialaxis": {
            "gridcolor": "white",
            "linecolor": "white",
            "ticks": ""
           }
          },
          "scene": {
           "xaxis": {
            "backgroundcolor": "#E5ECF6",
            "gridcolor": "white",
            "gridwidth": 2,
            "linecolor": "white",
            "showbackground": true,
            "ticks": "",
            "zerolinecolor": "white"
           },
           "yaxis": {
            "backgroundcolor": "#E5ECF6",
            "gridcolor": "white",
            "gridwidth": 2,
            "linecolor": "white",
            "showbackground": true,
            "ticks": "",
            "zerolinecolor": "white"
           },
           "zaxis": {
            "backgroundcolor": "#E5ECF6",
            "gridcolor": "white",
            "gridwidth": 2,
            "linecolor": "white",
            "showbackground": true,
            "ticks": "",
            "zerolinecolor": "white"
           }
          },
          "shapedefaults": {
           "line": {
            "color": "#2a3f5f"
           }
          },
          "ternary": {
           "aaxis": {
            "gridcolor": "white",
            "linecolor": "white",
            "ticks": ""
           },
           "baxis": {
            "gridcolor": "white",
            "linecolor": "white",
            "ticks": ""
           },
           "bgcolor": "#E5ECF6",
           "caxis": {
            "gridcolor": "white",
            "linecolor": "white",
            "ticks": ""
           }
          },
          "title": {
           "x": 0.05
          },
          "xaxis": {
           "automargin": true,
           "gridcolor": "white",
           "linecolor": "white",
           "ticks": "",
           "title": {
            "standoff": 15
           },
           "zerolinecolor": "white",
           "zerolinewidth": 2
          },
          "yaxis": {
           "automargin": true,
           "gridcolor": "white",
           "linecolor": "white",
           "ticks": "",
           "title": {
            "standoff": 15
           },
           "zerolinecolor": "white",
           "zerolinewidth": 2
          }
         }
        },
        "title": {
         "text": "Covid-19 deaths per million vs. number of hospital beds (bubble size = population size)"
        },
        "updatemenus": [
         {
          "buttons": [
           {
            "args": [
             null,
             {
              "frame": {
               "duration": 500,
               "redraw": false
              },
              "fromcurrent": true,
              "mode": "immediate",
              "transition": {
               "duration": 500,
               "easing": "linear"
              }
             }
            ],
            "label": "&#9654;",
            "method": "animate"
           },
           {
            "args": [
             [
              null
             ],
             {
              "frame": {
               "duration": 0,
               "redraw": false
              },
              "fromcurrent": true,
              "mode": "immediate",
              "transition": {
               "duration": 0,
               "easing": "linear"
              }
             }
            ],
            "label": "&#9724;",
            "method": "animate"
           }
          ],
          "direction": "left",
          "pad": {
           "r": 10,
           "t": 70
          },
          "showactive": false,
          "type": "buttons",
          "x": 0.1,
          "xanchor": "right",
          "y": 0,
          "yanchor": "top"
         }
        ],
        "xaxis": {
         "anchor": "y",
         "domain": [
          0,
          1
         ],
         "range": [
          0,
          14
         ],
         "title": {
          "text": "Hospital beds per 1000 people in 2017 (Wikipedia)"
         }
        },
        "yaxis": {
         "anchor": "x",
         "domain": [
          0,
          1
         ],
         "range": [
          1,
          500
         ],
         "title": {
          "text": "Deaths due to Covid-19 per million population"
         }
        }
       }
      },
      "text/html": [
       "<div>\n",
       "        \n",
       "        \n",
       "            <div id=\"18c71e8b-7b5c-42fa-93a4-36a1a773caec\" class=\"plotly-graph-div\" style=\"height:525px; width:100%;\"></div>\n",
       "            <script type=\"text/javascript\">\n",
       "                require([\"plotly\"], function(Plotly) {\n",
       "                    window.PLOTLYENV=window.PLOTLYENV || {};\n",
       "                    \n",
       "                if (document.getElementById(\"18c71e8b-7b5c-42fa-93a4-36a1a773caec\")) {\n",
       "                    Plotly.newPlot(\n",
       "                        '18c71e8b-7b5c-42fa-93a4-36a1a773caec',\n",
       "                        [{\"hovertemplate\": \"<b>%{hovertext}</b><br><br>Continent=Oceania<br>Day=1<br>Hospital_beds_per100_2017=%{x}<br>Dead_per_million=%{y}<br>popData2018=%{marker.size}<extra></extra>\", \"hovertext\": [\"Australia\"], \"ids\": [\"Australia\"], \"legendgroup\": \"Oceania\", \"marker\": {\"color\": \"#636efa\", \"size\": [24992369.0], \"sizemode\": \"area\", \"sizeref\": 460406.6115702479, \"symbol\": \"circle\"}, \"mode\": \"markers\", \"name\": \"Oceania\", \"showlegend\": true, \"type\": \"scatter\", \"x\": [3.84], \"xaxis\": \"x\", \"y\": [1.200366399839887], \"yaxis\": \"y\"}, {\"hovertemplate\": \"<b>%{hovertext}</b><br><br>Continent=Europe<br>Day=1<br>Hospital_beds_per100_2017=%{x}<br>Dead_per_million=%{y}<br>popData2018=%{marker.size}<extra></extra>\", \"hovertext\": [\"Austria\", \"Belgium\", \"Czech_Republic\", \"Denmark\", \"Estonia\", \"Finland\", \"France\", \"Germany\", \"Greece\", \"Hungary\", \"Iceland\", \"Ireland\", \"Italy\", \"Latvia\", \"Lithuania\", \"Luxembourg\", \"Netherlands\", \"Norway\", \"Poland\", \"Portugal\", \"Russia\", \"Slovakia\", \"Slovenia\", \"Spain\", \"Sweden\", \"Switzerland\", \"Turkey\"], \"ids\": [\"Austria\", \"Belgium\", \"Czech_Republic\", \"Denmark\", \"Estonia\", \"Finland\", \"France\", \"Germany\", \"Greece\", \"Hungary\", \"Iceland\", \"Ireland\", \"Italy\", \"Latvia\", \"Lithuania\", \"Luxembourg\", \"Netherlands\", \"Norway\", \"Poland\", \"Portugal\", \"Russia\", \"Slovakia\", \"Slovenia\", \"Spain\", \"Sweden\", \"Switzerland\", \"Turkey\"], \"legendgroup\": \"Europe\", \"marker\": {\"color\": \"#EF553B\", \"size\": [8847037.0, 11422068.0, 10625695.0, 5797446.0, 1320884.0, 5518050.0, 66987244.0, 82927922.0, 10727668.0, 9768785.0, 353574.0, 4853506.0, 60431283.0, 1926542.0, 2789533.0, 607728.0, 17231017.0, 5314336.0, 37978548.0, 10281762.0, 144478050.0, 5447011.0, 2067372.0, 46723749.0, 10183175.0, 8516543.0, 82319724.0], \"sizemode\": \"area\", \"sizeref\": 460406.6115702479, \"symbol\": \"circle\"}, \"mode\": \"markers\", \"name\": \"Europe\", \"showlegend\": true, \"type\": \"scatter\", \"x\": [7.37, 5.76, 6.63, 2.61, 4.69, 3.28, 5.98, 8.0, 4.21, 7.02, 3.06, 2.96, 3.18, 5.57, 6.56, 4.66, 3.32, 3.6, 6.62, 3.39, 8.05, 5.82, 4.5, 2.97, 2.22, 4.53, 2.81], \"xaxis\": \"x\", \"y\": [1.8085150994621135, 1.225697483152788, 1.035226401661256, 1.0349384884309403, 2.2712062527822274, 1.2685640760775998, 1.17932900777348, 1.1335144753777866, 1.2118197543026126, 1.0236687571688803, 2.828262259102762, 1.2362197553685932, 1.3238176657609602, 1.0381294568195243, 1.433931772809284, 1.6454729747518626, 1.1606975955046646, 1.1290215748496144, 1.1322181142891508, 1.1671151306556211, 1.0243770593526145, 1.1015215500758122, 1.4511176508146575, 1.005912432240829, 1.5712191924424357, 1.2916038819976603, 1.1175936401341675], \"yaxis\": \"y\"}, {\"hovertemplate\": \"<b>%{hovertext}</b><br><br>Continent=North America<br>Day=1<br>Hospital_beds_per100_2017=%{x}<br>Dead_per_million=%{y}<br>popData2018=%{marker.size}<extra></extra>\", \"hovertext\": [\"Canada\", \"Mexico\", \"USA\"], \"ids\": [\"Canada\", \"Mexico\", \"USA\"], \"legendgroup\": \"North America\", \"marker\": {\"color\": \"#00cc96\", \"size\": [37058856.0, 126190788.0, 327167434.0], \"sizemode\": \"area\", \"sizeref\": 460406.6115702479, \"symbol\": \"circle\"}, \"mode\": \"markers\", \"name\": \"North America\", \"showlegend\": true, \"type\": \"scatter\", \"x\": [2.52, 1.38, 2.77], \"xaxis\": \"x\", \"y\": [1.0523800302955926, 1.1173557296432763, 1.039223237603777], \"yaxis\": \"y\"}, {\"hovertemplate\": \"<b>%{hovertext}</b><br><br>Continent=Asia<br>Day=1<br>Hospital_beds_per100_2017=%{x}<br>Dead_per_million=%{y}<br>popData2018=%{marker.size}<extra></extra>\", \"hovertext\": [\"China\", \"Japan\", \"South_Korea\"], \"ids\": [\"China\", \"Japan\", \"South_Korea\"], \"legendgroup\": \"Asia\", \"marker\": {\"color\": \"#ab63fa\", \"size\": [1392730000.0, 126529100.0, 51635256.0], \"sizemode\": \"area\", \"sizeref\": 460406.6115702479, \"symbol\": \"circle\"}, \"mode\": \"markers\", \"name\": \"Asia\", \"showlegend\": true, \"type\": \"scatter\", \"x\": [4.34, 13.05, 12.27], \"xaxis\": \"x\", \"y\": [1.0942537318791152, 1.0748515558871439, 1.0457970809711876], \"yaxis\": \"y\"}],\n",
       "                        {\"legend\": {\"itemsizing\": \"constant\", \"title\": {\"text\": \"Continent\"}, \"tracegroupgap\": 0}, \"margin\": {\"t\": 60}, \"sliders\": [{\"active\": 0, \"currentvalue\": {\"prefix\": \"Day=\"}, \"len\": 0.9, \"pad\": {\"b\": 10, \"t\": 60}, \"steps\": [{\"args\": [[\"1\"], {\"frame\": {\"duration\": 0, \"redraw\": false}, \"fromcurrent\": true, \"mode\": \"immediate\", \"transition\": {\"duration\": 0, \"easing\": \"linear\"}}], \"label\": \"1\", \"method\": \"animate\"}, {\"args\": [[\"2\"], {\"frame\": {\"duration\": 0, \"redraw\": false}, \"fromcurrent\": true, \"mode\": \"immediate\", \"transition\": {\"duration\": 0, \"easing\": \"linear\"}}], \"label\": \"2\", \"method\": \"animate\"}, {\"args\": [[\"3\"], {\"frame\": {\"duration\": 0, \"redraw\": false}, \"fromcurrent\": true, \"mode\": \"immediate\", \"transition\": {\"duration\": 0, \"easing\": \"linear\"}}], \"label\": \"3\", \"method\": \"animate\"}, {\"args\": [[\"4\"], {\"frame\": {\"duration\": 0, \"redraw\": false}, \"fromcurrent\": true, \"mode\": \"immediate\", \"transition\": {\"duration\": 0, \"easing\": \"linear\"}}], \"label\": \"4\", \"method\": \"animate\"}, {\"args\": [[\"5\"], {\"frame\": {\"duration\": 0, \"redraw\": false}, \"fromcurrent\": true, \"mode\": \"immediate\", \"transition\": {\"duration\": 0, \"easing\": \"linear\"}}], \"label\": \"5\", \"method\": \"animate\"}, {\"args\": [[\"6\"], {\"frame\": {\"duration\": 0, \"redraw\": false}, \"fromcurrent\": true, \"mode\": \"immediate\", \"transition\": {\"duration\": 0, \"easing\": \"linear\"}}], \"label\": \"6\", \"method\": \"animate\"}, {\"args\": [[\"7\"], {\"frame\": {\"duration\": 0, \"redraw\": false}, \"fromcurrent\": true, \"mode\": \"immediate\", \"transition\": {\"duration\": 0, \"easing\": \"linear\"}}], \"label\": \"7\", \"method\": \"animate\"}, {\"args\": [[\"8\"], {\"frame\": {\"duration\": 0, \"redraw\": false}, \"fromcurrent\": true, \"mode\": \"immediate\", \"transition\": {\"duration\": 0, \"easing\": \"linear\"}}], \"label\": \"8\", \"method\": \"animate\"}, {\"args\": [[\"9\"], {\"frame\": {\"duration\": 0, \"redraw\": false}, \"fromcurrent\": true, \"mode\": \"immediate\", \"transition\": {\"duration\": 0, \"easing\": \"linear\"}}], \"label\": \"9\", \"method\": \"animate\"}, {\"args\": [[\"10\"], {\"frame\": {\"duration\": 0, \"redraw\": false}, \"fromcurrent\": true, \"mode\": \"immediate\", \"transition\": {\"duration\": 0, \"easing\": \"linear\"}}], \"label\": \"10\", \"method\": \"animate\"}, {\"args\": [[\"11\"], {\"frame\": {\"duration\": 0, \"redraw\": false}, \"fromcurrent\": true, \"mode\": \"immediate\", \"transition\": {\"duration\": 0, \"easing\": \"linear\"}}], \"label\": \"11\", \"method\": \"animate\"}, {\"args\": [[\"12\"], {\"frame\": {\"duration\": 0, \"redraw\": false}, \"fromcurrent\": true, \"mode\": \"immediate\", \"transition\": {\"duration\": 0, \"easing\": \"linear\"}}], \"label\": \"12\", \"method\": \"animate\"}, {\"args\": [[\"13\"], {\"frame\": {\"duration\": 0, \"redraw\": false}, \"fromcurrent\": true, \"mode\": \"immediate\", \"transition\": {\"duration\": 0, \"easing\": \"linear\"}}], \"label\": \"13\", \"method\": \"animate\"}, {\"args\": [[\"14\"], {\"frame\": {\"duration\": 0, \"redraw\": false}, \"fromcurrent\": true, \"mode\": \"immediate\", \"transition\": {\"duration\": 0, \"easing\": \"linear\"}}], \"label\": \"14\", \"method\": \"animate\"}, {\"args\": [[\"15\"], {\"frame\": {\"duration\": 0, \"redraw\": false}, \"fromcurrent\": true, \"mode\": \"immediate\", \"transition\": {\"duration\": 0, \"easing\": \"linear\"}}], \"label\": \"15\", \"method\": \"animate\"}, {\"args\": [[\"16\"], {\"frame\": {\"duration\": 0, \"redraw\": false}, \"fromcurrent\": true, \"mode\": \"immediate\", \"transition\": {\"duration\": 0, \"easing\": \"linear\"}}], \"label\": \"16\", \"method\": \"animate\"}, {\"args\": [[\"17\"], {\"frame\": {\"duration\": 0, \"redraw\": false}, \"fromcurrent\": true, \"mode\": \"immediate\", \"transition\": {\"duration\": 0, \"easing\": \"linear\"}}], \"label\": \"17\", \"method\": \"animate\"}, {\"args\": [[\"18\"], {\"frame\": {\"duration\": 0, \"redraw\": false}, \"fromcurrent\": true, \"mode\": \"immediate\", \"transition\": {\"duration\": 0, \"easing\": \"linear\"}}], \"label\": \"18\", \"method\": \"animate\"}, {\"args\": [[\"19\"], {\"frame\": {\"duration\": 0, \"redraw\": false}, \"fromcurrent\": true, \"mode\": \"immediate\", \"transition\": {\"duration\": 0, \"easing\": \"linear\"}}], \"label\": \"19\", \"method\": \"animate\"}, {\"args\": [[\"20\"], {\"frame\": {\"duration\": 0, \"redraw\": false}, \"fromcurrent\": true, \"mode\": \"immediate\", \"transition\": {\"duration\": 0, \"easing\": \"linear\"}}], \"label\": \"20\", \"method\": \"animate\"}, {\"args\": [[\"21\"], {\"frame\": {\"duration\": 0, \"redraw\": false}, \"fromcurrent\": true, \"mode\": \"immediate\", \"transition\": {\"duration\": 0, \"easing\": \"linear\"}}], \"label\": \"21\", \"method\": \"animate\"}, {\"args\": [[\"22\"], {\"frame\": {\"duration\": 0, \"redraw\": false}, \"fromcurrent\": true, \"mode\": \"immediate\", \"transition\": {\"duration\": 0, \"easing\": \"linear\"}}], \"label\": \"22\", \"method\": \"animate\"}, {\"args\": [[\"23\"], {\"frame\": {\"duration\": 0, \"redraw\": false}, \"fromcurrent\": true, \"mode\": \"immediate\", \"transition\": {\"duration\": 0, \"easing\": \"linear\"}}], \"label\": \"23\", \"method\": \"animate\"}, {\"args\": [[\"24\"], {\"frame\": {\"duration\": 0, \"redraw\": false}, \"fromcurrent\": true, \"mode\": \"immediate\", \"transition\": {\"duration\": 0, \"easing\": \"linear\"}}], \"label\": \"24\", \"method\": \"animate\"}, {\"args\": [[\"25\"], {\"frame\": {\"duration\": 0, \"redraw\": false}, \"fromcurrent\": true, \"mode\": \"immediate\", \"transition\": {\"duration\": 0, \"easing\": \"linear\"}}], \"label\": \"25\", \"method\": \"animate\"}, {\"args\": [[\"26\"], {\"frame\": {\"duration\": 0, \"redraw\": false}, \"fromcurrent\": true, \"mode\": \"immediate\", \"transition\": {\"duration\": 0, \"easing\": \"linear\"}}], \"label\": \"26\", \"method\": \"animate\"}, {\"args\": [[\"27\"], {\"frame\": {\"duration\": 0, \"redraw\": false}, \"fromcurrent\": true, \"mode\": \"immediate\", \"transition\": {\"duration\": 0, \"easing\": \"linear\"}}], \"label\": \"27\", \"method\": \"animate\"}, {\"args\": [[\"28\"], {\"frame\": {\"duration\": 0, \"redraw\": false}, \"fromcurrent\": true, \"mode\": \"immediate\", \"transition\": {\"duration\": 0, \"easing\": \"linear\"}}], \"label\": \"28\", \"method\": \"animate\"}, {\"args\": [[\"29\"], {\"frame\": {\"duration\": 0, \"redraw\": false}, \"fromcurrent\": true, \"mode\": \"immediate\", \"transition\": {\"duration\": 0, \"easing\": \"linear\"}}], \"label\": \"29\", \"method\": \"animate\"}, {\"args\": [[\"30\"], {\"frame\": {\"duration\": 0, \"redraw\": false}, \"fromcurrent\": true, \"mode\": \"immediate\", \"transition\": {\"duration\": 0, \"easing\": \"linear\"}}], \"label\": \"30\", \"method\": \"animate\"}, {\"args\": [[\"31\"], {\"frame\": {\"duration\": 0, \"redraw\": false}, \"fromcurrent\": true, \"mode\": \"immediate\", \"transition\": {\"duration\": 0, \"easing\": \"linear\"}}], \"label\": \"31\", \"method\": \"animate\"}, {\"args\": [[\"32\"], {\"frame\": {\"duration\": 0, \"redraw\": false}, \"fromcurrent\": true, \"mode\": \"immediate\", \"transition\": {\"duration\": 0, \"easing\": \"linear\"}}], \"label\": \"32\", \"method\": \"animate\"}, {\"args\": [[\"33\"], {\"frame\": {\"duration\": 0, \"redraw\": false}, \"fromcurrent\": true, \"mode\": \"immediate\", \"transition\": {\"duration\": 0, \"easing\": \"linear\"}}], \"label\": \"33\", \"method\": \"animate\"}, {\"args\": [[\"34\"], {\"frame\": {\"duration\": 0, \"redraw\": false}, \"fromcurrent\": true, \"mode\": \"immediate\", \"transition\": {\"duration\": 0, \"easing\": \"linear\"}}], \"label\": \"34\", \"method\": \"animate\"}, {\"args\": [[\"35\"], {\"frame\": {\"duration\": 0, \"redraw\": false}, \"fromcurrent\": true, \"mode\": \"immediate\", \"transition\": {\"duration\": 0, \"easing\": \"linear\"}}], \"label\": \"35\", \"method\": \"animate\"}, {\"args\": [[\"36\"], {\"frame\": {\"duration\": 0, \"redraw\": false}, \"fromcurrent\": true, \"mode\": \"immediate\", \"transition\": {\"duration\": 0, \"easing\": \"linear\"}}], \"label\": \"36\", \"method\": \"animate\"}, {\"args\": [[\"37\"], {\"frame\": {\"duration\": 0, \"redraw\": false}, \"fromcurrent\": true, \"mode\": \"immediate\", \"transition\": {\"duration\": 0, \"easing\": \"linear\"}}], \"label\": \"37\", \"method\": \"animate\"}, {\"args\": [[\"38\"], {\"frame\": {\"duration\": 0, \"redraw\": false}, \"fromcurrent\": true, \"mode\": \"immediate\", \"transition\": {\"duration\": 0, \"easing\": \"linear\"}}], \"label\": \"38\", \"method\": \"animate\"}, {\"args\": [[\"39\"], {\"frame\": {\"duration\": 0, \"redraw\": false}, \"fromcurrent\": true, \"mode\": \"immediate\", \"transition\": {\"duration\": 0, \"easing\": \"linear\"}}], \"label\": \"39\", \"method\": \"animate\"}, {\"args\": [[\"40\"], {\"frame\": {\"duration\": 0, \"redraw\": false}, \"fromcurrent\": true, \"mode\": \"immediate\", \"transition\": {\"duration\": 0, \"easing\": \"linear\"}}], \"label\": \"40\", \"method\": \"animate\"}, {\"args\": [[\"41\"], {\"frame\": {\"duration\": 0, \"redraw\": false}, \"fromcurrent\": true, \"mode\": \"immediate\", \"transition\": {\"duration\": 0, \"easing\": \"linear\"}}], \"label\": \"41\", \"method\": \"animate\"}, {\"args\": [[\"42\"], {\"frame\": {\"duration\": 0, \"redraw\": false}, \"fromcurrent\": true, \"mode\": \"immediate\", \"transition\": {\"duration\": 0, \"easing\": \"linear\"}}], \"label\": \"42\", \"method\": \"animate\"}, {\"args\": [[\"43\"], {\"frame\": {\"duration\": 0, \"redraw\": false}, \"fromcurrent\": true, \"mode\": \"immediate\", \"transition\": {\"duration\": 0, \"easing\": \"linear\"}}], \"label\": \"43\", \"method\": \"animate\"}, {\"args\": [[\"44\"], {\"frame\": {\"duration\": 0, \"redraw\": false}, \"fromcurrent\": true, \"mode\": \"immediate\", \"transition\": {\"duration\": 0, \"easing\": \"linear\"}}], \"label\": \"44\", \"method\": \"animate\"}, {\"args\": [[\"45\"], {\"frame\": {\"duration\": 0, \"redraw\": false}, \"fromcurrent\": true, \"mode\": \"immediate\", \"transition\": {\"duration\": 0, \"easing\": \"linear\"}}], \"label\": \"45\", \"method\": \"animate\"}, {\"args\": [[\"46\"], {\"frame\": {\"duration\": 0, \"redraw\": false}, \"fromcurrent\": true, \"mode\": \"immediate\", \"transition\": {\"duration\": 0, \"easing\": \"linear\"}}], \"label\": \"46\", \"method\": \"animate\"}, {\"args\": [[\"47\"], {\"frame\": {\"duration\": 0, \"redraw\": false}, \"fromcurrent\": true, \"mode\": \"immediate\", \"transition\": {\"duration\": 0, \"easing\": \"linear\"}}], \"label\": \"47\", \"method\": \"animate\"}, {\"args\": [[\"48\"], {\"frame\": {\"duration\": 0, \"redraw\": false}, \"fromcurrent\": true, \"mode\": \"immediate\", \"transition\": {\"duration\": 0, \"easing\": \"linear\"}}], \"label\": \"48\", \"method\": \"animate\"}, {\"args\": [[\"49\"], {\"frame\": {\"duration\": 0, \"redraw\": false}, \"fromcurrent\": true, \"mode\": \"immediate\", \"transition\": {\"duration\": 0, \"easing\": \"linear\"}}], \"label\": \"49\", \"method\": \"animate\"}, {\"args\": [[\"50\"], {\"frame\": {\"duration\": 0, \"redraw\": false}, \"fromcurrent\": true, \"mode\": \"immediate\", \"transition\": {\"duration\": 0, \"easing\": \"linear\"}}], \"label\": \"50\", \"method\": \"animate\"}, {\"args\": [[\"51\"], {\"frame\": {\"duration\": 0, \"redraw\": false}, \"fromcurrent\": true, \"mode\": \"immediate\", \"transition\": {\"duration\": 0, \"easing\": \"linear\"}}], \"label\": \"51\", \"method\": \"animate\"}, {\"args\": [[\"52\"], {\"frame\": {\"duration\": 0, \"redraw\": false}, \"fromcurrent\": true, \"mode\": \"immediate\", \"transition\": {\"duration\": 0, \"easing\": \"linear\"}}], \"label\": \"52\", \"method\": \"animate\"}, {\"args\": [[\"53\"], {\"frame\": {\"duration\": 0, \"redraw\": false}, \"fromcurrent\": true, \"mode\": \"immediate\", \"transition\": {\"duration\": 0, \"easing\": \"linear\"}}], \"label\": \"53\", \"method\": \"animate\"}, {\"args\": [[\"54\"], {\"frame\": {\"duration\": 0, \"redraw\": false}, \"fromcurrent\": true, \"mode\": \"immediate\", \"transition\": {\"duration\": 0, \"easing\": \"linear\"}}], \"label\": \"54\", \"method\": \"animate\"}, {\"args\": [[\"55\"], {\"frame\": {\"duration\": 0, \"redraw\": false}, \"fromcurrent\": true, \"mode\": \"immediate\", \"transition\": {\"duration\": 0, \"easing\": \"linear\"}}], \"label\": \"55\", \"method\": \"animate\"}, {\"args\": [[\"56\"], {\"frame\": {\"duration\": 0, \"redraw\": false}, \"fromcurrent\": true, \"mode\": \"immediate\", \"transition\": {\"duration\": 0, \"easing\": \"linear\"}}], \"label\": \"56\", \"method\": \"animate\"}, {\"args\": [[\"57\"], {\"frame\": {\"duration\": 0, \"redraw\": false}, \"fromcurrent\": true, \"mode\": \"immediate\", \"transition\": {\"duration\": 0, \"easing\": \"linear\"}}], \"label\": \"57\", \"method\": \"animate\"}, {\"args\": [[\"58\"], {\"frame\": {\"duration\": 0, \"redraw\": false}, \"fromcurrent\": true, \"mode\": \"immediate\", \"transition\": {\"duration\": 0, \"easing\": \"linear\"}}], \"label\": \"58\", \"method\": \"animate\"}, {\"args\": [[\"59\"], {\"frame\": {\"duration\": 0, \"redraw\": false}, \"fromcurrent\": true, \"mode\": \"immediate\", \"transition\": {\"duration\": 0, \"easing\": \"linear\"}}], \"label\": \"59\", \"method\": \"animate\"}, {\"args\": [[\"60\"], {\"frame\": {\"duration\": 0, \"redraw\": false}, \"fromcurrent\": true, \"mode\": \"immediate\", \"transition\": {\"duration\": 0, \"easing\": \"linear\"}}], \"label\": \"60\", \"method\": \"animate\"}, {\"args\": [[\"61\"], {\"frame\": {\"duration\": 0, \"redraw\": false}, \"fromcurrent\": true, \"mode\": \"immediate\", \"transition\": {\"duration\": 0, \"easing\": \"linear\"}}], \"label\": \"61\", \"method\": \"animate\"}, {\"args\": [[\"62\"], {\"frame\": {\"duration\": 0, \"redraw\": false}, \"fromcurrent\": true, \"mode\": \"immediate\", \"transition\": {\"duration\": 0, \"easing\": \"linear\"}}], \"label\": \"62\", \"method\": \"animate\"}, {\"args\": [[\"63\"], {\"frame\": {\"duration\": 0, \"redraw\": false}, \"fromcurrent\": true, \"mode\": \"immediate\", \"transition\": {\"duration\": 0, \"easing\": \"linear\"}}], \"label\": \"63\", \"method\": \"animate\"}, {\"args\": [[\"64\"], {\"frame\": {\"duration\": 0, \"redraw\": false}, \"fromcurrent\": true, \"mode\": \"immediate\", \"transition\": {\"duration\": 0, \"easing\": \"linear\"}}], \"label\": \"64\", \"method\": \"animate\"}, {\"args\": [[\"65\"], {\"frame\": {\"duration\": 0, \"redraw\": false}, \"fromcurrent\": true, \"mode\": \"immediate\", \"transition\": {\"duration\": 0, \"easing\": \"linear\"}}], \"label\": \"65\", \"method\": \"animate\"}, {\"args\": [[\"66\"], {\"frame\": {\"duration\": 0, \"redraw\": false}, \"fromcurrent\": true, \"mode\": \"immediate\", \"transition\": {\"duration\": 0, \"easing\": \"linear\"}}], \"label\": \"66\", \"method\": \"animate\"}], \"x\": 0.1, \"xanchor\": \"left\", \"y\": 0, \"yanchor\": \"top\"}], \"template\": {\"data\": {\"bar\": [{\"error_x\": {\"color\": \"#2a3f5f\"}, \"error_y\": {\"color\": \"#2a3f5f\"}, \"marker\": {\"line\": {\"color\": \"#E5ECF6\", \"width\": 0.5}}, \"type\": \"bar\"}], \"barpolar\": [{\"marker\": {\"line\": {\"color\": \"#E5ECF6\", \"width\": 0.5}}, \"type\": \"barpolar\"}], \"carpet\": [{\"aaxis\": {\"endlinecolor\": \"#2a3f5f\", \"gridcolor\": \"white\", \"linecolor\": \"white\", \"minorgridcolor\": \"white\", \"startlinecolor\": \"#2a3f5f\"}, \"baxis\": {\"endlinecolor\": \"#2a3f5f\", \"gridcolor\": \"white\", \"linecolor\": \"white\", \"minorgridcolor\": \"white\", \"startlinecolor\": \"#2a3f5f\"}, \"type\": \"carpet\"}], \"choropleth\": [{\"colorbar\": {\"outlinewidth\": 0, \"ticks\": \"\"}, \"type\": \"choropleth\"}], \"contour\": [{\"colorbar\": {\"outlinewidth\": 0, \"ticks\": \"\"}, \"colorscale\": [[0.0, \"#0d0887\"], [0.1111111111111111, \"#46039f\"], [0.2222222222222222, \"#7201a8\"], [0.3333333333333333, \"#9c179e\"], [0.4444444444444444, \"#bd3786\"], [0.5555555555555556, \"#d8576b\"], [0.6666666666666666, \"#ed7953\"], [0.7777777777777778, \"#fb9f3a\"], [0.8888888888888888, \"#fdca26\"], [1.0, \"#f0f921\"]], \"type\": \"contour\"}], \"contourcarpet\": [{\"colorbar\": {\"outlinewidth\": 0, \"ticks\": \"\"}, \"type\": \"contourcarpet\"}], \"heatmap\": [{\"colorbar\": {\"outlinewidth\": 0, \"ticks\": \"\"}, \"colorscale\": [[0.0, \"#0d0887\"], [0.1111111111111111, \"#46039f\"], [0.2222222222222222, \"#7201a8\"], [0.3333333333333333, \"#9c179e\"], [0.4444444444444444, \"#bd3786\"], [0.5555555555555556, \"#d8576b\"], [0.6666666666666666, \"#ed7953\"], [0.7777777777777778, \"#fb9f3a\"], [0.8888888888888888, \"#fdca26\"], [1.0, \"#f0f921\"]], \"type\": \"heatmap\"}], \"heatmapgl\": [{\"colorbar\": {\"outlinewidth\": 0, \"ticks\": \"\"}, \"colorscale\": [[0.0, \"#0d0887\"], [0.1111111111111111, \"#46039f\"], [0.2222222222222222, \"#7201a8\"], [0.3333333333333333, \"#9c179e\"], [0.4444444444444444, \"#bd3786\"], [0.5555555555555556, \"#d8576b\"], [0.6666666666666666, \"#ed7953\"], [0.7777777777777778, \"#fb9f3a\"], [0.8888888888888888, \"#fdca26\"], [1.0, \"#f0f921\"]], \"type\": \"heatmapgl\"}], \"histogram\": [{\"marker\": {\"colorbar\": {\"outlinewidth\": 0, \"ticks\": \"\"}}, \"type\": \"histogram\"}], \"histogram2d\": [{\"colorbar\": {\"outlinewidth\": 0, \"ticks\": \"\"}, \"colorscale\": [[0.0, \"#0d0887\"], [0.1111111111111111, \"#46039f\"], [0.2222222222222222, \"#7201a8\"], [0.3333333333333333, \"#9c179e\"], [0.4444444444444444, \"#bd3786\"], [0.5555555555555556, \"#d8576b\"], [0.6666666666666666, \"#ed7953\"], [0.7777777777777778, \"#fb9f3a\"], [0.8888888888888888, \"#fdca26\"], [1.0, \"#f0f921\"]], \"type\": \"histogram2d\"}], \"histogram2dcontour\": [{\"colorbar\": {\"outlinewidth\": 0, \"ticks\": \"\"}, \"colorscale\": [[0.0, \"#0d0887\"], [0.1111111111111111, \"#46039f\"], [0.2222222222222222, \"#7201a8\"], [0.3333333333333333, \"#9c179e\"], [0.4444444444444444, \"#bd3786\"], [0.5555555555555556, \"#d8576b\"], [0.6666666666666666, \"#ed7953\"], [0.7777777777777778, \"#fb9f3a\"], [0.8888888888888888, \"#fdca26\"], [1.0, \"#f0f921\"]], \"type\": \"histogram2dcontour\"}], \"mesh3d\": [{\"colorbar\": {\"outlinewidth\": 0, \"ticks\": \"\"}, \"type\": \"mesh3d\"}], \"parcoords\": [{\"line\": {\"colorbar\": {\"outlinewidth\": 0, \"ticks\": \"\"}}, \"type\": \"parcoords\"}], \"pie\": [{\"automargin\": true, \"type\": \"pie\"}], \"scatter\": [{\"marker\": {\"colorbar\": {\"outlinewidth\": 0, \"ticks\": \"\"}}, \"type\": \"scatter\"}], \"scatter3d\": [{\"line\": {\"colorbar\": {\"outlinewidth\": 0, \"ticks\": \"\"}}, \"marker\": {\"colorbar\": {\"outlinewidth\": 0, \"ticks\": \"\"}}, \"type\": \"scatter3d\"}], \"scattercarpet\": [{\"marker\": {\"colorbar\": {\"outlinewidth\": 0, \"ticks\": \"\"}}, \"type\": \"scattercarpet\"}], \"scattergeo\": [{\"marker\": {\"colorbar\": {\"outlinewidth\": 0, \"ticks\": \"\"}}, \"type\": \"scattergeo\"}], \"scattergl\": [{\"marker\": {\"colorbar\": {\"outlinewidth\": 0, \"ticks\": \"\"}}, \"type\": \"scattergl\"}], \"scattermapbox\": [{\"marker\": {\"colorbar\": {\"outlinewidth\": 0, \"ticks\": \"\"}}, \"type\": \"scattermapbox\"}], \"scatterpolar\": [{\"marker\": {\"colorbar\": {\"outlinewidth\": 0, \"ticks\": \"\"}}, \"type\": \"scatterpolar\"}], \"scatterpolargl\": [{\"marker\": {\"colorbar\": {\"outlinewidth\": 0, \"ticks\": \"\"}}, \"type\": \"scatterpolargl\"}], \"scatterternary\": [{\"marker\": {\"colorbar\": {\"outlinewidth\": 0, \"ticks\": \"\"}}, \"type\": \"scatterternary\"}], \"surface\": [{\"colorbar\": {\"outlinewidth\": 0, \"ticks\": \"\"}, \"colorscale\": [[0.0, \"#0d0887\"], [0.1111111111111111, \"#46039f\"], [0.2222222222222222, \"#7201a8\"], [0.3333333333333333, \"#9c179e\"], [0.4444444444444444, \"#bd3786\"], [0.5555555555555556, \"#d8576b\"], [0.6666666666666666, \"#ed7953\"], [0.7777777777777778, \"#fb9f3a\"], [0.8888888888888888, \"#fdca26\"], [1.0, \"#f0f921\"]], \"type\": \"surface\"}], \"table\": [{\"cells\": {\"fill\": {\"color\": \"#EBF0F8\"}, \"line\": {\"color\": \"white\"}}, \"header\": {\"fill\": {\"color\": \"#C8D4E3\"}, \"line\": {\"color\": \"white\"}}, \"type\": \"table\"}]}, \"layout\": {\"annotationdefaults\": {\"arrowcolor\": \"#2a3f5f\", \"arrowhead\": 0, \"arrowwidth\": 1}, \"coloraxis\": {\"colorbar\": {\"outlinewidth\": 0, \"ticks\": \"\"}}, \"colorscale\": {\"diverging\": [[0, \"#8e0152\"], [0.1, \"#c51b7d\"], [0.2, \"#de77ae\"], [0.3, \"#f1b6da\"], [0.4, \"#fde0ef\"], [0.5, \"#f7f7f7\"], [0.6, \"#e6f5d0\"], [0.7, \"#b8e186\"], [0.8, \"#7fbc41\"], [0.9, \"#4d9221\"], [1, \"#276419\"]], \"sequential\": [[0.0, \"#0d0887\"], [0.1111111111111111, \"#46039f\"], [0.2222222222222222, \"#7201a8\"], [0.3333333333333333, \"#9c179e\"], [0.4444444444444444, \"#bd3786\"], [0.5555555555555556, \"#d8576b\"], [0.6666666666666666, \"#ed7953\"], [0.7777777777777778, \"#fb9f3a\"], [0.8888888888888888, \"#fdca26\"], [1.0, \"#f0f921\"]], \"sequentialminus\": [[0.0, \"#0d0887\"], [0.1111111111111111, \"#46039f\"], [0.2222222222222222, \"#7201a8\"], [0.3333333333333333, \"#9c179e\"], [0.4444444444444444, \"#bd3786\"], [0.5555555555555556, \"#d8576b\"], [0.6666666666666666, \"#ed7953\"], [0.7777777777777778, \"#fb9f3a\"], [0.8888888888888888, \"#fdca26\"], [1.0, \"#f0f921\"]]}, \"colorway\": [\"#636efa\", \"#EF553B\", \"#00cc96\", \"#ab63fa\", \"#FFA15A\", \"#19d3f3\", \"#FF6692\", \"#B6E880\", \"#FF97FF\", \"#FECB52\"], \"font\": {\"color\": \"#2a3f5f\"}, \"geo\": {\"bgcolor\": \"white\", \"lakecolor\": \"white\", \"landcolor\": \"#E5ECF6\", \"showlakes\": true, \"showland\": true, \"subunitcolor\": \"white\"}, \"hoverlabel\": {\"align\": \"left\"}, \"hovermode\": \"closest\", \"mapbox\": {\"style\": \"light\"}, \"paper_bgcolor\": \"white\", \"plot_bgcolor\": \"#E5ECF6\", \"polar\": {\"angularaxis\": {\"gridcolor\": \"white\", \"linecolor\": \"white\", \"ticks\": \"\"}, \"bgcolor\": \"#E5ECF6\", \"radialaxis\": {\"gridcolor\": \"white\", \"linecolor\": \"white\", \"ticks\": \"\"}}, \"scene\": {\"xaxis\": {\"backgroundcolor\": \"#E5ECF6\", \"gridcolor\": \"white\", \"gridwidth\": 2, \"linecolor\": \"white\", \"showbackground\": true, \"ticks\": \"\", \"zerolinecolor\": \"white\"}, \"yaxis\": {\"backgroundcolor\": \"#E5ECF6\", \"gridcolor\": \"white\", \"gridwidth\": 2, \"linecolor\": \"white\", \"showbackground\": true, \"ticks\": \"\", \"zerolinecolor\": \"white\"}, \"zaxis\": {\"backgroundcolor\": \"#E5ECF6\", \"gridcolor\": \"white\", \"gridwidth\": 2, \"linecolor\": \"white\", \"showbackground\": true, \"ticks\": \"\", \"zerolinecolor\": \"white\"}}, \"shapedefaults\": {\"line\": {\"color\": \"#2a3f5f\"}}, \"ternary\": {\"aaxis\": {\"gridcolor\": \"white\", \"linecolor\": \"white\", \"ticks\": \"\"}, \"baxis\": {\"gridcolor\": \"white\", \"linecolor\": \"white\", \"ticks\": \"\"}, \"bgcolor\": \"#E5ECF6\", \"caxis\": {\"gridcolor\": \"white\", \"linecolor\": \"white\", \"ticks\": \"\"}}, \"title\": {\"x\": 0.05}, \"xaxis\": {\"automargin\": true, \"gridcolor\": \"white\", \"linecolor\": \"white\", \"ticks\": \"\", \"title\": {\"standoff\": 15}, \"zerolinecolor\": \"white\", \"zerolinewidth\": 2}, \"yaxis\": {\"automargin\": true, \"gridcolor\": \"white\", \"linecolor\": \"white\", \"ticks\": \"\", \"title\": {\"standoff\": 15}, \"zerolinecolor\": \"white\", \"zerolinewidth\": 2}}}, \"title\": {\"text\": \"Covid-19 deaths per million vs. number of hospital beds (bubble size = population size)\"}, \"updatemenus\": [{\"buttons\": [{\"args\": [null, {\"frame\": {\"duration\": 500, \"redraw\": false}, \"fromcurrent\": true, \"mode\": \"immediate\", \"transition\": {\"duration\": 500, \"easing\": \"linear\"}}], \"label\": \"&#9654;\", \"method\": \"animate\"}, {\"args\": [[null], {\"frame\": {\"duration\": 0, \"redraw\": false}, \"fromcurrent\": true, \"mode\": \"immediate\", \"transition\": {\"duration\": 0, \"easing\": \"linear\"}}], \"label\": \"&#9724;\", \"method\": \"animate\"}], \"direction\": \"left\", \"pad\": {\"r\": 10, \"t\": 70}, \"showactive\": false, \"type\": \"buttons\", \"x\": 0.1, \"xanchor\": \"right\", \"y\": 0, \"yanchor\": \"top\"}], \"xaxis\": {\"anchor\": \"y\", \"domain\": [0.0, 1.0], \"range\": [0, 14], \"title\": {\"text\": \"Hospital beds per 1000 people in 2017 (Wikipedia)\"}}, \"yaxis\": {\"anchor\": \"x\", \"domain\": [0.0, 1.0], \"range\": [1, 500], \"title\": {\"text\": \"Deaths due to Covid-19 per million population\"}}},\n",
       "                        {\"responsive\": true}\n",
       "                    ).then(function(){\n",
       "                            Plotly.addFrames('18c71e8b-7b5c-42fa-93a4-36a1a773caec', [{\"data\": [{\"hovertemplate\": \"<b>%{hovertext}</b><br><br>Continent=Oceania<br>Day=1<br>Hospital_beds_per100_2017=%{x}<br>Dead_per_million=%{y}<br>popData2018=%{marker.size}<extra></extra>\", \"hovertext\": [\"Australia\"], \"ids\": [\"Australia\"], \"legendgroup\": \"Oceania\", \"marker\": {\"color\": \"#636efa\", \"size\": [24992369.0], \"sizemode\": \"area\", \"sizeref\": 460406.6115702479, \"symbol\": \"circle\"}, \"mode\": \"markers\", \"name\": \"Oceania\", \"showlegend\": true, \"x\": [3.84], \"xaxis\": \"x\", \"y\": [1.200366399839887], \"yaxis\": \"y\", \"type\": \"scatter\"}, {\"hovertemplate\": \"<b>%{hovertext}</b><br><br>Continent=Europe<br>Day=1<br>Hospital_beds_per100_2017=%{x}<br>Dead_per_million=%{y}<br>popData2018=%{marker.size}<extra></extra>\", \"hovertext\": [\"Austria\", \"Belgium\", \"Czech_Republic\", \"Denmark\", \"Estonia\", \"Finland\", \"France\", \"Germany\", \"Greece\", \"Hungary\", \"Iceland\", \"Ireland\", \"Italy\", \"Latvia\", \"Lithuania\", \"Luxembourg\", \"Netherlands\", \"Norway\", \"Poland\", \"Portugal\", \"Russia\", \"Slovakia\", \"Slovenia\", \"Spain\", \"Sweden\", \"Switzerland\", \"Turkey\"], \"ids\": [\"Austria\", \"Belgium\", \"Czech_Republic\", \"Denmark\", \"Estonia\", \"Finland\", \"France\", \"Germany\", \"Greece\", \"Hungary\", \"Iceland\", \"Ireland\", \"Italy\", \"Latvia\", \"Lithuania\", \"Luxembourg\", \"Netherlands\", \"Norway\", \"Poland\", \"Portugal\", \"Russia\", \"Slovakia\", \"Slovenia\", \"Spain\", \"Sweden\", \"Switzerland\", \"Turkey\"], \"legendgroup\": \"Europe\", \"marker\": {\"color\": \"#EF553B\", \"size\": [8847037.0, 11422068.0, 10625695.0, 5797446.0, 1320884.0, 5518050.0, 66987244.0, 82927922.0, 10727668.0, 9768785.0, 353574.0, 4853506.0, 60431283.0, 1926542.0, 2789533.0, 607728.0, 17231017.0, 5314336.0, 37978548.0, 10281762.0, 144478050.0, 5447011.0, 2067372.0, 46723749.0, 10183175.0, 8516543.0, 82319724.0], \"sizemode\": \"area\", \"sizeref\": 460406.6115702479, \"symbol\": \"circle\"}, \"mode\": \"markers\", \"name\": \"Europe\", \"showlegend\": true, \"x\": [7.37, 5.76, 6.63, 2.61, 4.69, 3.28, 5.98, 8.0, 4.21, 7.02, 3.06, 2.96, 3.18, 5.57, 6.56, 4.66, 3.32, 3.6, 6.62, 3.39, 8.05, 5.82, 4.5, 2.97, 2.22, 4.53, 2.81], \"xaxis\": \"x\", \"y\": [1.8085150994621135, 1.225697483152788, 1.035226401661256, 1.0349384884309403, 2.2712062527822274, 1.2685640760775998, 1.17932900777348, 1.1335144753777866, 1.2118197543026126, 1.0236687571688803, 2.828262259102762, 1.2362197553685932, 1.3238176657609602, 1.0381294568195243, 1.433931772809284, 1.6454729747518626, 1.1606975955046646, 1.1290215748496144, 1.1322181142891508, 1.1671151306556211, 1.0243770593526145, 1.1015215500758122, 1.4511176508146575, 1.005912432240829, 1.5712191924424357, 1.2916038819976603, 1.1175936401341675], \"yaxis\": \"y\", \"type\": \"scatter\"}, {\"hovertemplate\": \"<b>%{hovertext}</b><br><br>Continent=North America<br>Day=1<br>Hospital_beds_per100_2017=%{x}<br>Dead_per_million=%{y}<br>popData2018=%{marker.size}<extra></extra>\", \"hovertext\": [\"Canada\", \"Mexico\", \"USA\"], \"ids\": [\"Canada\", \"Mexico\", \"USA\"], \"legendgroup\": \"North America\", \"marker\": {\"color\": \"#00cc96\", \"size\": [37058856.0, 126190788.0, 327167434.0], \"sizemode\": \"area\", \"sizeref\": 460406.6115702479, \"symbol\": \"circle\"}, \"mode\": \"markers\", \"name\": \"North America\", \"showlegend\": true, \"x\": [2.52, 1.38, 2.77], \"xaxis\": \"x\", \"y\": [1.0523800302955926, 1.1173557296432763, 1.039223237603777], \"yaxis\": \"y\", \"type\": \"scatter\"}, {\"hovertemplate\": \"<b>%{hovertext}</b><br><br>Continent=Asia<br>Day=1<br>Hospital_beds_per100_2017=%{x}<br>Dead_per_million=%{y}<br>popData2018=%{marker.size}<extra></extra>\", \"hovertext\": [\"China\", \"Japan\", \"South_Korea\"], \"ids\": [\"China\", \"Japan\", \"South_Korea\"], \"legendgroup\": \"Asia\", \"marker\": {\"color\": \"#ab63fa\", \"size\": [1392730000.0, 126529100.0, 51635256.0], \"sizemode\": \"area\", \"sizeref\": 460406.6115702479, \"symbol\": \"circle\"}, \"mode\": \"markers\", \"name\": \"Asia\", \"showlegend\": true, \"x\": [4.34, 13.05, 12.27], \"xaxis\": \"x\", \"y\": [1.0942537318791152, 1.0748515558871439, 1.0457970809711876], \"yaxis\": \"y\", \"type\": \"scatter\"}], \"name\": \"1\"}, {\"data\": [{\"hovertemplate\": \"<b>%{hovertext}</b><br><br>Continent=Oceania<br>Day=2<br>Hospital_beds_per100_2017=%{x}<br>Dead_per_million=%{y}<br>popData2018=%{marker.size}<extra></extra>\", \"hovertext\": [\"Australia\"], \"ids\": [\"Australia\"], \"legendgroup\": \"Oceania\", \"marker\": {\"color\": \"#636efa\", \"size\": [24992369.0], \"sizemode\": \"area\", \"sizeref\": 460406.6115702479, \"symbol\": \"circle\"}, \"mode\": \"markers\", \"name\": \"Oceania\", \"showlegend\": true, \"x\": [3.84], \"xaxis\": \"x\", \"y\": [1.360415253151872], \"yaxis\": \"y\", \"type\": \"scatter\"}, {\"hovertemplate\": \"<b>%{hovertext}</b><br><br>Continent=Europe<br>Day=2<br>Hospital_beds_per100_2017=%{x}<br>Dead_per_million=%{y}<br>popData2018=%{marker.size}<extra></extra>\", \"hovertext\": [\"Austria\", \"Belgium\", \"Czech_Republic\", \"Denmark\", \"Estonia\", \"Finland\", \"France\", \"Germany\", \"Greece\", \"Hungary\", \"Iceland\", \"Ireland\", \"Italy\", \"Latvia\", \"Lithuania\", \"Luxembourg\", \"Netherlands\", \"Norway\", \"Poland\", \"Portugal\", \"Russia\", \"Slovakia\", \"Slovenia\", \"Spain\", \"Sweden\", \"Switzerland\", \"Turkey\"], \"ids\": [\"Austria\", \"Belgium\", \"Czech_Republic\", \"Denmark\", \"Estonia\", \"Finland\", \"France\", \"Germany\", \"Greece\", \"Hungary\", \"Iceland\", \"Ireland\", \"Italy\", \"Latvia\", \"Lithuania\", \"Luxembourg\", \"Netherlands\", \"Norway\", \"Poland\", \"Portugal\", \"Russia\", \"Slovakia\", \"Slovenia\", \"Spain\", \"Sweden\", \"Switzerland\", \"Turkey\"], \"legendgroup\": \"Europe\", \"marker\": {\"color\": \"#EF553B\", \"size\": [8847037.0, 11422068.0, 10625695.0, 5797446.0, 1320884.0, 5518050.0, 66987244.0, 82927922.0, 10727668.0, 9768785.0, 353574.0, 4853506.0, 60431283.0, 1926542.0, 2789533.0, 607728.0, 17231017.0, 5314336.0, 37978548.0, 10281762.0, 144478050.0, 5447011.0, 2067372.0, 46723749.0, 10183175.0, 8516543.0, 82319724.0], \"sizemode\": \"area\", \"sizeref\": 460406.6115702479, \"symbol\": \"circle\"}, \"mode\": \"markers\", \"name\": \"Europe\", \"showlegend\": true, \"x\": [7.37, 5.76, 6.63, 2.61, 4.69, 3.28, 5.98, 8.0, 4.21, 7.02, 3.06, 2.96, 3.18, 5.57, 6.56, 4.66, 3.32, 3.6, 6.62, 3.39, 8.05, 5.82, 4.5, 2.97, 2.22, 4.53, 2.81], \"xaxis\": \"x\", \"y\": [2.8258048429095526, 1.8385462247291822, 1.505783856961827, 1.55240773264641, 2.2712062527822274, 1.631010954956914, 1.3584675912327426, 1.5193917435915012, 1.3982535626568608, 1.0236687571688803, 2.828262259102762, 1.4422563812633589, 1.7706061279552843, 1.0381294568195243, 1.433931772809284, 1.6454729747518626, 1.3928371146055976, 1.31719183732455, 1.5008472677786417, 1.3616343190982245, 1.176649324932057, 1.468695400101083, 1.9348235344195432, 1.7978009427282902, 1.9640239905530446, 1.5264409514517805, 1.311957751461849], \"yaxis\": \"y\", \"type\": \"scatter\"}, {\"hovertemplate\": \"<b>%{hovertext}</b><br><br>Continent=North America<br>Day=2<br>Hospital_beds_per100_2017=%{x}<br>Dead_per_million=%{y}<br>popData2018=%{marker.size}<extra></extra>\", \"hovertext\": [\"Canada\", \"Mexico\", \"USA\"], \"ids\": [\"Canada\", \"Mexico\", \"USA\"], \"legendgroup\": \"North America\", \"marker\": {\"color\": \"#00cc96\", \"size\": [37058856.0, 126190788.0, 327167434.0], \"sizemode\": \"area\", \"sizeref\": 460406.6115702479, \"symbol\": \"circle\"}, \"mode\": \"markers\", \"name\": \"North America\", \"showlegend\": true, \"x\": [2.52, 1.38, 2.77], \"xaxis\": \"x\", \"y\": [1.4301574770683692, 1.3788645174321281, 1.4396298379746437], \"yaxis\": \"y\", \"type\": \"scatter\"}, {\"hovertemplate\": \"<b>%{hovertext}</b><br><br>Continent=Asia<br>Day=2<br>Hospital_beds_per100_2017=%{x}<br>Dead_per_million=%{y}<br>popData2018=%{marker.size}<extra></extra>\", \"hovertext\": [\"China\", \"Japan\", \"South_Korea\"], \"ids\": [\"China\", \"Japan\", \"South_Korea\"], \"legendgroup\": \"Asia\", \"marker\": {\"color\": \"#ab63fa\", \"size\": [1392730000.0, 126529100.0, 51635256.0], \"sizemode\": \"area\", \"sizeref\": 460406.6115702479, \"symbol\": \"circle\"}, \"mode\": \"markers\", \"name\": \"Asia\", \"showlegend\": true, \"x\": [4.34, 13.05, 12.27], \"xaxis\": \"x\", \"y\": [1.1962117567654895, 1.1696913990536564, 1.161996756634653], \"yaxis\": \"y\", \"type\": \"scatter\"}], \"name\": \"2\"}, {\"data\": [{\"hovertemplate\": \"<b>%{hovertext}</b><br><br>Continent=Oceania<br>Day=3<br>Hospital_beds_per100_2017=%{x}<br>Dead_per_million=%{y}<br>popData2018=%{marker.size}<extra></extra>\", \"hovertext\": [\"Australia\"], \"ids\": [\"Australia\"], \"legendgroup\": \"Oceania\", \"marker\": {\"color\": \"#636efa\", \"size\": [24992369.0], \"sizemode\": \"area\", \"sizeref\": 460406.6115702479, \"symbol\": \"circle\"}, \"mode\": \"markers\", \"name\": \"Oceania\", \"showlegend\": true, \"x\": [3.84], \"xaxis\": \"x\", \"y\": [1.4404396798078645], \"yaxis\": \"y\", \"type\": \"scatter\"}, {\"hovertemplate\": \"<b>%{hovertext}</b><br><br>Continent=Europe<br>Day=3<br>Hospital_beds_per100_2017=%{x}<br>Dead_per_million=%{y}<br>popData2018=%{marker.size}<extra></extra>\", \"hovertext\": [\"Austria\", \"Belgium\", \"Czech_Republic\", \"Denmark\", \"Estonia\", \"Finland\", \"France\", \"Germany\", \"Greece\", \"Hungary\", \"Iceland\", \"Ireland\", \"Italy\", \"Latvia\", \"Lithuania\", \"Luxembourg\", \"Netherlands\", \"Norway\", \"Poland\", \"Portugal\", \"Russia\", \"Slovakia\", \"Slovenia\", \"Spain\", \"Sweden\", \"Switzerland\", \"Turkey\"], \"ids\": [\"Austria\", \"Belgium\", \"Czech_Republic\", \"Denmark\", \"Estonia\", \"Finland\", \"France\", \"Germany\", \"Greece\", \"Hungary\", \"Iceland\", \"Ireland\", \"Italy\", \"Latvia\", \"Lithuania\", \"Luxembourg\", \"Netherlands\", \"Norway\", \"Poland\", \"Portugal\", \"Russia\", \"Slovakia\", \"Slovenia\", \"Spain\", \"Sweden\", \"Switzerland\", \"Turkey\"], \"legendgroup\": \"Europe\", \"marker\": {\"color\": \"#EF553B\", \"size\": [8847037.0, 11422068.0, 10625695.0, 5797446.0, 1320884.0, 5518050.0, 66987244.0, 82927922.0, 10727668.0, 9768785.0, 353574.0, 4853506.0, 60431283.0, 1926542.0, 2789533.0, 607728.0, 17231017.0, 5314336.0, 37978548.0, 10281762.0, 144478050.0, 5447011.0, 2067372.0, 46723749.0, 10183175.0, 8516543.0, 82319724.0], \"sizemode\": \"area\", \"sizeref\": 460406.6115702479, \"symbol\": \"circle\"}, \"mode\": \"markers\", \"name\": \"Europe\", \"showlegend\": true, \"x\": [7.37, 5.76, 6.63, 2.61, 4.69, 3.28, 5.98, 8.0, 4.21, 7.02, 3.06, 2.96, 3.18, 5.57, 6.56, 4.66, 3.32, 3.6, 6.62, 3.39, 8.05, 5.82, 4.5, 2.97, 2.22, 4.53, 2.81], \"xaxis\": \"x\", \"y\": [3.3909658114914634, 3.2393433483323686, 2.2586757854427404, 2.2423667249337034, 3.028275003709637, 1.9934578338362285, 1.8958833416105312, 1.7967410301201086, 1.584687371011109, 1.0236687571688803, 2.828262259102762, 1.85432963305289, 2.4490626816577765, 1.0381294568195243, 1.7924147160116048, 1.6454729747518626, 2.4954998303350293, 1.31719183732455, 1.8694764212681327, 2.2369706670899405, 1.3704503902149843, 1.6522823251137184, 2.4185294180244292, 2.5896894532157515, 2.0622251900806967, 1.6438594861788405, 1.5913561614953908], \"yaxis\": \"y\", \"type\": \"scatter\"}, {\"hovertemplate\": \"<b>%{hovertext}</b><br><br>Continent=North America<br>Day=3<br>Hospital_beds_per100_2017=%{x}<br>Dead_per_million=%{y}<br>popData2018=%{marker.size}<extra></extra>\", \"hovertext\": [\"Canada\", \"Mexico\", \"USA\"], \"ids\": [\"Canada\", \"Mexico\", \"USA\"], \"legendgroup\": \"North America\", \"marker\": {\"color\": \"#00cc96\", \"size\": [37058856.0, 126190788.0, 327167434.0], \"sizemode\": \"area\", \"sizeref\": 460406.6115702479, \"symbol\": \"circle\"}, \"mode\": \"markers\", \"name\": \"North America\", \"showlegend\": true, \"x\": [2.52, 1.38, 2.77], \"xaxis\": \"x\", \"y\": [1.6190462004547577, 1.5373546918496142, 1.8033579711359657], \"yaxis\": \"y\", \"type\": \"scatter\"}, {\"hovertemplate\": \"<b>%{hovertext}</b><br><br>Continent=Asia<br>Day=3<br>Hospital_beds_per100_2017=%{x}<br>Dead_per_million=%{y}<br>popData2018=%{marker.size}<extra></extra>\", \"hovertext\": [\"China\", \"Japan\", \"South_Korea\"], \"ids\": [\"China\", \"Japan\", \"South_Korea\"], \"legendgroup\": \"Asia\", \"marker\": {\"color\": \"#ab63fa\", \"size\": [1392730000.0, 126529100.0, 51635256.0], \"sizemode\": \"area\", \"sizeref\": 460406.6115702479, \"symbol\": \"circle\"}, \"mode\": \"markers\", \"name\": \"Asia\", \"showlegend\": true, \"x\": [4.34, 13.05, 12.27], \"xaxis\": \"x\", \"y\": [1.2716032540406252, 1.2171113206369129, 1.2781964322981183], \"yaxis\": \"y\", \"type\": \"scatter\"}], \"name\": \"3\"}, {\"data\": [{\"hovertemplate\": \"<b>%{hovertext}</b><br><br>Continent=Oceania<br>Day=4<br>Hospital_beds_per100_2017=%{x}<br>Dead_per_million=%{y}<br>popData2018=%{marker.size}<extra></extra>\", \"hovertext\": [\"Australia\"], \"ids\": [\"Australia\"], \"legendgroup\": \"Oceania\", \"marker\": {\"color\": \"#636efa\", \"size\": [24992369.0], \"sizemode\": \"area\", \"sizeref\": 460406.6115702479, \"symbol\": \"circle\"}, \"mode\": \"markers\", \"name\": \"Oceania\", \"showlegend\": true, \"x\": [3.84], \"xaxis\": \"x\", \"y\": [1.680512959775842], \"yaxis\": \"y\", \"type\": \"scatter\"}, {\"hovertemplate\": \"<b>%{hovertext}</b><br><br>Continent=Europe<br>Day=4<br>Hospital_beds_per100_2017=%{x}<br>Dead_per_million=%{y}<br>popData2018=%{marker.size}<extra></extra>\", \"hovertext\": [\"Austria\", \"Belgium\", \"Czech_Republic\", \"Denmark\", \"Estonia\", \"Finland\", \"France\", \"Germany\", \"Greece\", \"Hungary\", \"Iceland\", \"Ireland\", \"Italy\", \"Latvia\", \"Lithuania\", \"Luxembourg\", \"Netherlands\", \"Norway\", \"Poland\", \"Portugal\", \"Russia\", \"Slovakia\", \"Slovenia\", \"Spain\", \"Sweden\", \"Switzerland\", \"Turkey\"], \"ids\": [\"Austria\", \"Belgium\", \"Czech_Republic\", \"Denmark\", \"Estonia\", \"Finland\", \"France\", \"Germany\", \"Greece\", \"Hungary\", \"Iceland\", \"Ireland\", \"Italy\", \"Latvia\", \"Lithuania\", \"Luxembourg\", \"Netherlands\", \"Norway\", \"Poland\", \"Portugal\", \"Russia\", \"Slovakia\", \"Slovenia\", \"Spain\", \"Sweden\", \"Switzerland\", \"Turkey\"], \"legendgroup\": \"Europe\", \"marker\": {\"color\": \"#EF553B\", \"size\": [8847037.0, 11422068.0, 10625695.0, 5797446.0, 1320884.0, 5518050.0, 66987244.0, 82927922.0, 10727668.0, 9768785.0, 353574.0, 4853506.0, 60431283.0, 1926542.0, 2789533.0, 607728.0, 17231017.0, 5314336.0, 37978548.0, 10281762.0, 144478050.0, 5447011.0, 2067372.0, 46723749.0, 10183175.0, 8516543.0, 82319724.0], \"sizemode\": \"area\", \"sizeref\": 460406.6115702479, \"symbol\": \"circle\"}, \"mode\": \"markers\", \"name\": \"Europe\", \"showlegend\": true, \"x\": [7.37, 5.76, 6.63, 2.61, 4.69, 3.28, 5.98, 8.0, 4.21, 7.02, 3.06, 2.96, 3.18, 5.57, 6.56, 4.66, 3.32, 3.6, 6.62, 3.39, 8.05, 5.82, 4.5, 2.97, 2.22, 4.53, 2.81], \"xaxis\": \"x\", \"y\": [3.8430945863569916, 5.8658379550883435, 2.9174562228635397, 2.2423667249337034, 3.785343754637046, 2.3559047127155424, 2.209375862664241, 2.387615597072359, 1.864338083542481, 1.1260356328857684, 2.828262259102762, 3.9146958920005455, 3.2599010019363646, 1.0381294568195243, 2.5093806024162464, 1.6454729747518626, 3.3660230269635276, 1.31719183732455, 2.080121651833556, 3.209566609302958, 1.6057802552013956, 2.019456175138989, 4.353352952443973, 2.910725335845803, 2.455029988191306, 2.230952159814141, 2.040823168940654], \"yaxis\": \"y\", \"type\": \"scatter\"}, {\"hovertemplate\": \"<b>%{hovertext}</b><br><br>Continent=North America<br>Day=4<br>Hospital_beds_per100_2017=%{x}<br>Dead_per_million=%{y}<br>popData2018=%{marker.size}<extra></extra>\", \"hovertext\": [\"Canada\", \"Mexico\", \"USA\"], \"ids\": [\"Canada\", \"Mexico\", \"USA\"], \"legendgroup\": \"North America\", \"marker\": {\"color\": \"#00cc96\", \"size\": [37058856.0, 126190788.0, 327167434.0], \"sizemode\": \"area\", \"sizeref\": 460406.6115702479, \"symbol\": \"circle\"}, \"mode\": \"markers\", \"name\": \"North America\", \"showlegend\": true, \"x\": [2.52, 1.38, 2.77], \"xaxis\": \"x\", \"y\": [1.6460303037956703, 1.8464105319637119, 2.448287686237133], \"yaxis\": \"y\", \"type\": \"scatter\"}, {\"hovertemplate\": \"<b>%{hovertext}</b><br><br>Continent=Asia<br>Day=4<br>Hospital_beds_per100_2017=%{x}<br>Dead_per_million=%{y}<br>popData2018=%{marker.size}<extra></extra>\", \"hovertext\": [\"China\", \"Japan\", \"South_Korea\"], \"ids\": [\"China\", \"Japan\", \"South_Korea\"], \"legendgroup\": \"Asia\", \"marker\": {\"color\": \"#ab63fa\", \"size\": [1392730000.0, 126529100.0, 51635256.0], \"sizemode\": \"area\", \"sizeref\": 460406.6115702479, \"symbol\": \"circle\"}, \"mode\": \"markers\", \"name\": \"Asia\", \"showlegend\": true, \"x\": [4.34, 13.05, 12.27], \"xaxis\": \"x\", \"y\": [1.3419686514974187, 1.2724345624840452, 1.2975630449086957], \"yaxis\": \"y\", \"type\": \"scatter\"}], \"name\": \"4\"}, {\"data\": [{\"hovertemplate\": \"<b>%{hovertext}</b><br><br>Continent=Oceania<br>Day=5<br>Hospital_beds_per100_2017=%{x}<br>Dead_per_million=%{y}<br>popData2018=%{marker.size}<extra></extra>\", \"hovertext\": [\"Australia\"], \"ids\": [\"Australia\"], \"legendgroup\": \"Oceania\", \"marker\": {\"color\": \"#636efa\", \"size\": [24992369.0], \"sizemode\": \"area\", \"sizeref\": 460406.6115702479, \"symbol\": \"circle\"}, \"mode\": \"markers\", \"name\": \"Oceania\", \"showlegend\": true, \"x\": [3.84], \"xaxis\": \"x\", \"y\": [1.8005495997598306], \"yaxis\": \"y\", \"type\": \"scatter\"}, {\"hovertemplate\": \"<b>%{hovertext}</b><br><br>Continent=Europe<br>Day=5<br>Hospital_beds_per100_2017=%{x}<br>Dead_per_million=%{y}<br>popData2018=%{marker.size}<extra></extra>\", \"hovertext\": [\"Austria\", \"Belgium\", \"Czech_Republic\", \"Denmark\", \"Estonia\", \"Finland\", \"France\", \"Germany\", \"Greece\", \"Hungary\", \"Iceland\", \"Ireland\", \"Italy\", \"Latvia\", \"Lithuania\", \"Luxembourg\", \"Netherlands\", \"Norway\", \"Poland\", \"Portugal\", \"Russia\", \"Slovakia\", \"Slovenia\", \"Spain\", \"Sweden\", \"Switzerland\", \"Turkey\"], \"ids\": [\"Austria\", \"Belgium\", \"Czech_Republic\", \"Denmark\", \"Estonia\", \"Finland\", \"France\", \"Germany\", \"Greece\", \"Hungary\", \"Iceland\", \"Ireland\", \"Italy\", \"Latvia\", \"Lithuania\", \"Luxembourg\", \"Netherlands\", \"Norway\", \"Poland\", \"Portugal\", \"Russia\", \"Slovakia\", \"Slovenia\", \"Spain\", \"Sweden\", \"Switzerland\", \"Turkey\"], \"legendgroup\": \"Europe\", \"marker\": {\"color\": \"#EF553B\", \"size\": [8847037.0, 11422068.0, 10625695.0, 5797446.0, 1320884.0, 5518050.0, 66987244.0, 82927922.0, 10727668.0, 9768785.0, 353574.0, 4853506.0, 60431283.0, 1926542.0, 2789533.0, 607728.0, 17231017.0, 5314336.0, 37978548.0, 10281762.0, 144478050.0, 5447011.0, 2067372.0, 46723749.0, 10183175.0, 8516543.0, 82319724.0], \"sizemode\": \"area\", \"sizeref\": 460406.6115702479, \"symbol\": \"circle\"}, \"mode\": \"markers\", \"name\": \"Europe\", \"showlegend\": true, \"x\": [7.37, 5.76, 6.63, 2.61, 4.69, 3.28, 5.98, 8.0, 4.21, 7.02, 3.06, 2.96, 3.18, 5.57, 6.56, 4.66, 3.32, 3.6, 6.62, 3.39, 8.05, 5.82, 4.5, 2.97, 2.22, 4.53, 2.81], \"xaxis\": \"x\", \"y\": [5.877674073251869, 6.566236516889936, 3.670348151344453, 4.139753953723761, 8.3277562602015, 3.0807984704741713, 2.612437675447582, 3.0508421518146807, 2.050771891896729, 1.3307693843195443, 5.656524518205524, 4.532805769684843, 3.8556189515287964, 1.5571941852292863, 2.5093806024162464, 3.290945949503725, 4.410650862917725, 1.5053620997994857, 2.475081459143725, 4.182162551515976, 1.8895603865085389, 2.2030431001516244, 4.353352952443973, 6.163888946496995, 3.5352431829954805, 2.465789229268261, 2.5996199890077376], \"yaxis\": \"y\", \"type\": \"scatter\"}, {\"hovertemplate\": \"<b>%{hovertext}</b><br><br>Continent=North America<br>Day=5<br>Hospital_beds_per100_2017=%{x}<br>Dead_per_million=%{y}<br>popData2018=%{marker.size}<extra></extra>\", \"hovertext\": [\"Canada\", \"Mexico\", \"USA\"], \"ids\": [\"Canada\", \"Mexico\", \"USA\"], \"legendgroup\": \"North America\", \"marker\": {\"color\": \"#00cc96\", \"size\": [37058856.0, 126190788.0, 327167434.0], \"sizemode\": \"area\", \"sizeref\": 460406.6115702479, \"symbol\": \"circle\"}, \"mode\": \"markers\", \"name\": \"North America\", \"showlegend\": true, \"x\": [2.52, 1.38, 2.77], \"xaxis\": \"x\", \"y\": [2.4015851973412237, 2.1633908807986844, 3.2093658808351937], \"yaxis\": \"y\", \"type\": \"scatter\"}, {\"hovertemplate\": \"<b>%{hovertext}</b><br><br>Continent=Asia<br>Day=5<br>Hospital_beds_per100_2017=%{x}<br>Dead_per_million=%{y}<br>popData2018=%{marker.size}<extra></extra>\", \"hovertext\": [\"China\", \"Japan\", \"South_Korea\"], \"ids\": [\"China\", \"Japan\", \"South_Korea\"], \"legendgroup\": \"Asia\", \"marker\": {\"color\": \"#ab63fa\", \"size\": [1392730000.0, 126529100.0, 51635256.0], \"sizemode\": \"area\", \"sizeref\": 460406.6115702479, \"symbol\": \"circle\"}, \"mode\": \"markers\", \"name\": \"Asia\", \"showlegend\": true, \"x\": [4.34, 13.05, 12.27], \"xaxis\": \"x\", \"y\": [1.4417726336045034, 1.3514677651228058, 1.3943961079615834], \"yaxis\": \"y\", \"type\": \"scatter\"}], \"name\": \"5\"}, {\"data\": [{\"hovertemplate\": \"<b>%{hovertext}</b><br><br>Continent=Oceania<br>Day=6<br>Hospital_beds_per100_2017=%{x}<br>Dead_per_million=%{y}<br>popData2018=%{marker.size}<extra></extra>\", \"hovertext\": [\"Australia\"], \"ids\": [\"Australia\"], \"legendgroup\": \"Oceania\", \"marker\": {\"color\": \"#636efa\", \"size\": [24992369.0], \"sizemode\": \"area\", \"sizeref\": 460406.6115702479, \"symbol\": \"circle\"}, \"mode\": \"markers\", \"name\": \"Oceania\", \"showlegend\": true, \"x\": [3.84], \"xaxis\": \"x\", \"y\": [2.0006106663998118], \"yaxis\": \"y\", \"type\": \"scatter\"}, {\"hovertemplate\": \"<b>%{hovertext}</b><br><br>Continent=Europe<br>Day=6<br>Hospital_beds_per100_2017=%{x}<br>Dead_per_million=%{y}<br>popData2018=%{marker.size}<extra></extra>\", \"hovertext\": [\"Austria\", \"Belgium\", \"Czech_Republic\", \"Denmark\", \"Estonia\", \"Finland\", \"France\", \"Germany\", \"Greece\", \"Hungary\", \"Iceland\", \"Ireland\", \"Italy\", \"Latvia\", \"Lithuania\", \"Luxembourg\", \"Netherlands\", \"Norway\", \"Poland\", \"Portugal\", \"Russia\", \"Slovenia\", \"Spain\", \"Sweden\", \"Switzerland\", \"Turkey\"], \"ids\": [\"Austria\", \"Belgium\", \"Czech_Republic\", \"Denmark\", \"Estonia\", \"Finland\", \"France\", \"Germany\", \"Greece\", \"Hungary\", \"Iceland\", \"Ireland\", \"Italy\", \"Latvia\", \"Lithuania\", \"Luxembourg\", \"Netherlands\", \"Norway\", \"Poland\", \"Portugal\", \"Russia\", \"Slovenia\", \"Spain\", \"Sweden\", \"Switzerland\", \"Turkey\"], \"legendgroup\": \"Europe\", \"marker\": {\"color\": \"#EF553B\", \"size\": [8847037.0, 11422068.0, 10625695.0, 5797446.0, 1320884.0, 5518050.0, 66987244.0, 82927922.0, 10727668.0, 9768785.0, 353574.0, 4853506.0, 60431283.0, 1926542.0, 2789533.0, 607728.0, 17231017.0, 5314336.0, 37978548.0, 10281762.0, 144478050.0, 2067372.0, 46723749.0, 10183175.0, 8516543.0, 82319724.0], \"sizemode\": \"area\", \"sizeref\": 460406.6115702479, \"symbol\": \"circle\"}, \"mode\": \"markers\", \"name\": \"Europe\", \"showlegend\": true, \"x\": [7.37, 5.76, 6.63, 2.61, 4.69, 3.28, 5.98, 8.0, 4.21, 7.02, 3.06, 2.96, 3.18, 5.57, 6.56, 4.66, 3.32, 3.6, 6.62, 3.39, 8.05, 4.5, 2.97, 2.22, 4.53, 2.81], \"xaxis\": \"x\", \"y\": [7.686189172713983, 7.704384179817525, 4.140905606645024, 5.519671938298347, 9.08482501112891, 3.0807984704741713, 3.6424845303383435, 3.9190660052955386, 2.423639508605225, 1.5355031357533204, 5.656524518205524, 7.41731853221156, 6.056465820856393, 2.5953236420488106, 2.5093806024162464, 6.58189189900745, 6.151697256174723, 1.8817026247493573, 2.817379958812538, 5.835575653278106, 2.1664190511984347, 5.320764719653744, 6.613339182179067, 4.124450380161393, 3.874811645992981, 3.3649286773604827], \"yaxis\": \"y\", \"type\": \"scatter\"}, {\"hovertemplate\": \"<b>%{hovertext}</b><br><br>Continent=North America<br>Day=6<br>Hospital_beds_per100_2017=%{x}<br>Dead_per_million=%{y}<br>popData2018=%{marker.size}<extra></extra>\", \"hovertext\": [\"Canada\", \"Mexico\", \"USA\"], \"ids\": [\"Canada\", \"Mexico\", \"USA\"], \"legendgroup\": \"North America\", \"marker\": {\"color\": \"#00cc96\", \"size\": [37058856.0, 126190788.0, 327167434.0], \"sizemode\": \"area\", \"sizeref\": 460406.6115702479, \"symbol\": \"circle\"}, \"mode\": \"markers\", \"name\": \"North America\", \"showlegend\": true, \"x\": [2.52, 1.38, 2.77], \"xaxis\": \"x\", \"y\": [2.590473920727612, 2.345654581378793, 3.9612744586308675], \"yaxis\": \"y\", \"type\": \"scatter\"}, {\"hovertemplate\": \"<b>%{hovertext}</b><br><br>Continent=Asia<br>Day=6<br>Hospital_beds_per100_2017=%{x}<br>Dead_per_million=%{y}<br>popData2018=%{marker.size}<extra></extra>\", \"hovertext\": [\"China\", \"South_Korea\"], \"ids\": [\"China\", \"South_Korea\"], \"legendgroup\": \"Asia\", \"marker\": {\"color\": \"#ab63fa\", \"size\": [1392730000.0, 51635256.0], \"sizemode\": \"area\", \"sizeref\": 460406.6115702479, \"symbol\": \"circle\"}, \"mode\": \"markers\", \"name\": \"Asia\", \"showlegend\": true, \"x\": [4.34, 12.27], \"xaxis\": \"x\", \"y\": [1.5221902306979818, 1.4524959457933162], \"yaxis\": \"y\", \"type\": \"scatter\"}], \"name\": \"6\"}, {\"data\": [{\"hovertemplate\": \"<b>%{hovertext}</b><br><br>Continent=Oceania<br>Day=7<br>Hospital_beds_per100_2017=%{x}<br>Dead_per_million=%{y}<br>popData2018=%{marker.size}<extra></extra>\", \"hovertext\": [\"Australia\"], \"ids\": [\"Australia\"], \"legendgroup\": \"Oceania\", \"marker\": {\"color\": \"#636efa\", \"size\": [24992369.0], \"sizemode\": \"area\", \"sizeref\": 460406.6115702479, \"symbol\": \"circle\"}, \"mode\": \"markers\", \"name\": \"Oceania\", \"showlegend\": true, \"x\": [3.84], \"xaxis\": \"x\", \"y\": [2.0806350930558044], \"yaxis\": \"y\", \"type\": \"scatter\"}, {\"hovertemplate\": \"<b>%{hovertext}</b><br><br>Continent=Europe<br>Day=7<br>Hospital_beds_per100_2017=%{x}<br>Dead_per_million=%{y}<br>popData2018=%{marker.size}<extra></extra>\", \"hovertext\": [\"Austria\", \"Belgium\", \"Czech_Republic\", \"Denmark\", \"Estonia\", \"Finland\", \"France\", \"Germany\", \"Greece\", \"Hungary\", \"Iceland\", \"Ireland\", \"Italy\", \"Latvia\", \"Lithuania\", \"Luxembourg\", \"Netherlands\", \"Norway\", \"Poland\", \"Portugal\", \"Russia\", \"Slovenia\", \"Spain\", \"Sweden\", \"Switzerland\", \"Turkey\"], \"ids\": [\"Austria\", \"Belgium\", \"Czech_Republic\", \"Denmark\", \"Estonia\", \"Finland\", \"France\", \"Germany\", \"Greece\", \"Hungary\", \"Iceland\", \"Ireland\", \"Italy\", \"Latvia\", \"Lithuania\", \"Luxembourg\", \"Netherlands\", \"Norway\", \"Poland\", \"Portugal\", \"Russia\", \"Slovenia\", \"Spain\", \"Sweden\", \"Switzerland\", \"Turkey\"], \"legendgroup\": \"Europe\", \"marker\": {\"color\": \"#EF553B\", \"size\": [8847037.0, 11422068.0, 10625695.0, 5797446.0, 1320884.0, 5518050.0, 66987244.0, 82927922.0, 10727668.0, 9768785.0, 353574.0, 4853506.0, 60431283.0, 1926542.0, 2789533.0, 607728.0, 17231017.0, 5314336.0, 37978548.0, 10281762.0, 144478050.0, 2067372.0, 46723749.0, 10183175.0, 8516543.0, 82319724.0], \"sizemode\": \"area\", \"sizeref\": 460406.6115702479, \"symbol\": \"circle\"}, \"mode\": \"markers\", \"name\": \"Europe\", \"showlegend\": true, \"x\": [7.37, 5.76, 6.63, 2.61, 4.69, 3.28, 5.98, 8.0, 4.21, 7.02, 3.06, 2.96, 3.18, 5.57, 6.56, 4.66, 3.32, 3.6, 6.62, 3.39, 8.05, 4.5, 2.97, 2.22, 4.53, 2.81], \"xaxis\": \"x\", \"y\": [7.686189172713983, 10.681078067474296, 4.987909026186052, 5.864651434441995, 9.841893762056321, 3.4432453493534854, 5.553296087237146, 4.690820541722968, 2.6100733169594736, 1.6378700114702085, 5.656524518205524, 9.477684791159215, 7.67814246141357, 2.5953236420488106, 2.5093806024162464, 8.227364873759313, 7.89274364943172, 2.258043149699229, 3.3966543428674525, 7.391729160818933, 2.49864944882631, 5.320764719653744, 10.508574558090361, 6.481279168825047, 5.048996993263581, 4.324601477040909], \"yaxis\": \"y\", \"type\": \"scatter\"}, {\"hovertemplate\": \"<b>%{hovertext}</b><br><br>Continent=North America<br>Day=7<br>Hospital_beds_per100_2017=%{x}<br>Dead_per_million=%{y}<br>popData2018=%{marker.size}<extra></extra>\", \"hovertext\": [\"Canada\", \"Mexico\", \"USA\"], \"ids\": [\"Canada\", \"Mexico\", \"USA\"], \"legendgroup\": \"North America\", \"marker\": {\"color\": \"#00cc96\", \"size\": [37058856.0, 126190788.0, 327167434.0], \"sizemode\": \"area\", \"sizeref\": 460406.6115702479, \"symbol\": \"circle\"}, \"mode\": \"markers\", \"name\": \"North America\", \"showlegend\": true, \"x\": [2.52, 1.38, 2.77], \"xaxis\": \"x\", \"y\": [2.9412672641594764, 2.630936895330268, 5.217511960557786], \"yaxis\": \"y\", \"type\": \"scatter\"}, {\"hovertemplate\": \"<b>%{hovertext}</b><br><br>Continent=Asia<br>Day=7<br>Hospital_beds_per100_2017=%{x}<br>Dead_per_million=%{y}<br>popData2018=%{marker.size}<extra></extra>\", \"hovertext\": [\"China\", \"South_Korea\"], \"ids\": [\"China\", \"South_Korea\"], \"legendgroup\": \"Asia\", \"marker\": {\"color\": \"#ab63fa\", \"size\": [1392730000.0, 51635256.0], \"sizemode\": \"area\", \"sizeref\": 460406.6115702479, \"symbol\": \"circle\"}, \"mode\": \"markers\", \"name\": \"Asia\", \"showlegend\": true, \"x\": [4.34, 12.27], \"xaxis\": \"x\", \"y\": [1.6069159133500392, 1.4524959457933162], \"yaxis\": \"y\", \"type\": \"scatter\"}], \"name\": \"7\"}, {\"data\": [{\"hovertemplate\": \"<b>%{hovertext}</b><br><br>Continent=Oceania<br>Day=8<br>Hospital_beds_per100_2017=%{x}<br>Dead_per_million=%{y}<br>popData2018=%{marker.size}<extra></extra>\", \"hovertext\": [\"Australia\"], \"ids\": [\"Australia\"], \"legendgroup\": \"Oceania\", \"marker\": {\"color\": \"#636efa\", \"size\": [24992369.0], \"sizemode\": \"area\", \"sizeref\": 460406.6115702479, \"symbol\": \"circle\"}, \"mode\": \"markers\", \"name\": \"Oceania\", \"showlegend\": true, \"x\": [3.84], \"xaxis\": \"x\", \"y\": [2.1606595197117966], \"yaxis\": \"y\", \"type\": \"scatter\"}, {\"hovertemplate\": \"<b>%{hovertext}</b><br><br>Continent=Europe<br>Day=8<br>Hospital_beds_per100_2017=%{x}<br>Dead_per_million=%{y}<br>popData2018=%{marker.size}<extra></extra>\", \"hovertext\": [\"Austria\", \"Belgium\", \"Czech_Republic\", \"Denmark\", \"Estonia\", \"Finland\", \"France\", \"Germany\", \"Greece\", \"Hungary\", \"Iceland\", \"Ireland\", \"Italy\", \"Latvia\", \"Lithuania\", \"Luxembourg\", \"Netherlands\", \"Norway\", \"Poland\", \"Portugal\", \"Slovenia\", \"Spain\", \"Sweden\", \"Switzerland\", \"Turkey\"], \"ids\": [\"Austria\", \"Belgium\", \"Czech_Republic\", \"Denmark\", \"Estonia\", \"Finland\", \"France\", \"Germany\", \"Greece\", \"Hungary\", \"Iceland\", \"Ireland\", \"Italy\", \"Latvia\", \"Lithuania\", \"Luxembourg\", \"Netherlands\", \"Norway\", \"Poland\", \"Portugal\", \"Slovenia\", \"Spain\", \"Sweden\", \"Switzerland\", \"Turkey\"], \"legendgroup\": \"Europe\", \"marker\": {\"color\": \"#EF553B\", \"size\": [8847037.0, 11422068.0, 10625695.0, 5797446.0, 1320884.0, 5518050.0, 66987244.0, 82927922.0, 10727668.0, 9768785.0, 353574.0, 4853506.0, 60431283.0, 1926542.0, 2789533.0, 607728.0, 17231017.0, 5314336.0, 37978548.0, 10281762.0, 2067372.0, 46723749.0, 10183175.0, 8516543.0, 82319724.0], \"sizemode\": \"area\", \"sizeref\": 460406.6115702479, \"symbol\": \"circle\"}, \"mode\": \"markers\", \"name\": \"Europe\", \"showlegend\": true, \"x\": [7.37, 5.76, 6.63, 2.61, 4.69, 3.28, 5.98, 8.0, 4.21, 7.02, 3.06, 2.96, 3.18, 5.57, 6.56, 4.66, 3.32, 3.6, 6.62, 3.39, 4.5, 2.97, 2.22, 4.53, 2.81], \"xaxis\": \"x\", \"y\": [9.720768659608861, 15.583868000085449, 5.552577972546737, 7.072079670944757, 11.356031263911138, 3.6244687887931426, 6.717696879722355, 5.486692407413754, 2.9829409336679698, 2.0473375143377606, 5.656524518205524, 11.12597779831734, 10.441611838689575, 2.5953236420488106, 2.867863545618568, 13.1637837980149, 10.388243479766748, 2.6343836746491, 4.1865739574877905, 9.725959422130176, 6.288176486863516, 12.798630520851399, 9.034510356544004, 6.575437944715362, 5.162796707141535], \"yaxis\": \"y\", \"type\": \"scatter\"}, {\"hovertemplate\": \"<b>%{hovertext}</b><br><br>Continent=North America<br>Day=8<br>Hospital_beds_per100_2017=%{x}<br>Dead_per_million=%{y}<br>popData2018=%{marker.size}<extra></extra>\", \"hovertext\": [\"Canada\", \"Mexico\", \"USA\"], \"ids\": [\"Canada\", \"Mexico\", \"USA\"], \"legendgroup\": \"North America\", \"marker\": {\"color\": \"#00cc96\", \"size\": [37058856.0, 126190788.0, 327167434.0], \"sizemode\": \"area\", \"sizeref\": 460406.6115702479, \"symbol\": \"circle\"}, \"mode\": \"markers\", \"name\": \"North America\", \"showlegend\": true, \"x\": [2.52, 1.38, 2.77], \"xaxis\": \"x\", \"y\": [3.723806261045943, 3.217350540674966, 6.696876804676104], \"yaxis\": \"y\", \"type\": \"scatter\"}, {\"hovertemplate\": \"<b>%{hovertext}</b><br><br>Continent=Asia<br>Day=8<br>Hospital_beds_per100_2017=%{x}<br>Dead_per_million=%{y}<br>popData2018=%{marker.size}<extra></extra>\", \"hovertext\": [\"China\", \"South_Korea\"], \"ids\": [\"China\", \"South_Korea\"], \"legendgroup\": \"Asia\", \"marker\": {\"color\": \"#ab63fa\", \"size\": [1392730000.0, 51635256.0], \"sizemode\": \"area\", \"sizeref\": 460406.6115702479, \"symbol\": \"circle\"}, \"mode\": \"markers\", \"name\": \"Asia\", \"showlegend\": true, \"x\": [4.34, 12.27], \"xaxis\": \"x\", \"y\": [1.685179467664228, 1.5686956214567813], \"yaxis\": \"y\", \"type\": \"scatter\"}], \"name\": \"8\"}, {\"data\": [{\"hovertemplate\": \"<b>%{hovertext}</b><br><br>Continent=Oceania<br>Day=9<br>Hospital_beds_per100_2017=%{x}<br>Dead_per_million=%{y}<br>popData2018=%{marker.size}<extra></extra>\", \"hovertext\": [\"Australia\"], \"ids\": [\"Australia\"], \"legendgroup\": \"Oceania\", \"marker\": {\"color\": \"#636efa\", \"size\": [24992369.0], \"sizemode\": \"area\", \"sizeref\": 460406.6115702479, \"symbol\": \"circle\"}, \"mode\": \"markers\", \"name\": \"Oceania\", \"showlegend\": true, \"x\": [3.84], \"xaxis\": \"x\", \"y\": [2.2806961596957858], \"yaxis\": \"y\", \"type\": \"scatter\"}, {\"hovertemplate\": \"<b>%{hovertext}</b><br><br>Continent=Europe<br>Day=9<br>Hospital_beds_per100_2017=%{x}<br>Dead_per_million=%{y}<br>popData2018=%{marker.size}<extra></extra>\", \"hovertext\": [\"Austria\", \"Belgium\", \"Czech_Republic\", \"Denmark\", \"Estonia\", \"Finland\", \"France\", \"Germany\", \"Greece\", \"Hungary\", \"Iceland\", \"Ireland\", \"Italy\", \"Latvia\", \"Lithuania\", \"Luxembourg\", \"Netherlands\", \"Norway\", \"Poland\", \"Portugal\", \"Slovenia\", \"Spain\", \"Sweden\", \"Switzerland\", \"Turkey\"], \"ids\": [\"Austria\", \"Belgium\", \"Czech_Republic\", \"Denmark\", \"Estonia\", \"Finland\", \"France\", \"Germany\", \"Greece\", \"Hungary\", \"Iceland\", \"Ireland\", \"Italy\", \"Latvia\", \"Lithuania\", \"Luxembourg\", \"Netherlands\", \"Norway\", \"Poland\", \"Portugal\", \"Slovenia\", \"Spain\", \"Sweden\", \"Switzerland\", \"Turkey\"], \"legendgroup\": \"Europe\", \"marker\": {\"color\": \"#EF553B\", \"size\": [8847037.0, 11422068.0, 10625695.0, 5797446.0, 1320884.0, 5518050.0, 66987244.0, 82927922.0, 10727668.0, 9768785.0, 353574.0, 4853506.0, 60431283.0, 1926542.0, 2789533.0, 607728.0, 17231017.0, 5314336.0, 37978548.0, 10281762.0, 2067372.0, 46723749.0, 10183175.0, 8516543.0, 82319724.0], \"sizemode\": \"area\", \"sizeref\": 460406.6115702479, \"symbol\": \"circle\"}, \"mode\": \"markers\", \"name\": \"Europe\", \"showlegend\": true, \"x\": [7.37, 5.76, 6.63, 2.61, 4.69, 3.28, 5.98, 8.0, 4.21, 7.02, 3.06, 2.96, 3.18, 5.57, 6.56, 4.66, 3.32, 3.6, 6.62, 3.39, 4.5, 2.97, 2.22, 4.53, 2.81], \"xaxis\": \"x\", \"y\": [12.207476921369267, 19.260960449543813, 6.30546990102765, 8.969466899734813, 14.384306267620774, 4.530585985991428, 8.389656992008808, 7.030201480268612, 3.542242358730714, 2.1497043900546484, 5.656524518205524, 14.628600438528355, 13.684965119803927, 2.5953236420488106, 3.226346488820889, 13.1637837980149, 12.361429392124679, 3.0107241995989713, 4.5815337647979595, 11.57389171233491, 7.255588254073287, 16.415634798483314, 10.016522351820527, 7.045112083623601, 6.0860262359480215], \"yaxis\": \"y\", \"type\": \"scatter\"}, {\"hovertemplate\": \"<b>%{hovertext}</b><br><br>Continent=North America<br>Day=9<br>Hospital_beds_per100_2017=%{x}<br>Dead_per_million=%{y}<br>popData2018=%{marker.size}<extra></extra>\", \"hovertext\": [\"Canada\", \"Mexico\", \"USA\"], \"ids\": [\"Canada\", \"Mexico\", \"USA\"], \"legendgroup\": \"North America\", \"marker\": {\"color\": \"#00cc96\", \"size\": [37058856.0, 126190788.0, 327167434.0], \"sizemode\": \"area\", \"sizeref\": 460406.6115702479, \"symbol\": \"circle\"}, \"mode\": \"markers\", \"name\": \"North America\", \"showlegend\": true, \"x\": [2.52, 1.38, 2.77], \"xaxis\": \"x\", \"y\": [5.0460273247506615, 3.558104415672561, 7.668856185729048], \"yaxis\": \"y\", \"type\": \"scatter\"}, {\"hovertemplate\": \"<b>%{hovertext}</b><br><br>Continent=Asia<br>Day=9<br>Hospital_beds_per100_2017=%{x}<br>Dead_per_million=%{y}<br>popData2018=%{marker.size}<extra></extra>\", \"hovertext\": [\"China\", \"South_Korea\"], \"ids\": [\"China\", \"South_Korea\"], \"legendgroup\": \"Asia\", \"marker\": {\"color\": \"#ab63fa\", \"size\": [1392730000.0, 51635256.0], \"sizemode\": \"area\", \"sizeref\": 460406.6115702479, \"symbol\": \"circle\"}, \"mode\": \"markers\", \"name\": \"Asia\", \"showlegend\": true, \"x\": [4.34, 12.27], \"xaxis\": \"x\", \"y\": [1.7555448651210213, 1.665528684509669], \"yaxis\": \"y\", \"type\": \"scatter\"}], \"name\": \"9\"}, {\"data\": [{\"hovertemplate\": \"<b>%{hovertext}</b><br><br>Continent=Oceania<br>Day=10<br>Hospital_beds_per100_2017=%{x}<br>Dead_per_million=%{y}<br>popData2018=%{marker.size}<extra></extra>\", \"hovertext\": [\"Australia\"], \"ids\": [\"Australia\"], \"legendgroup\": \"Oceania\", \"marker\": {\"color\": \"#636efa\", \"size\": [24992369.0], \"sizemode\": \"area\", \"sizeref\": 460406.6115702479, \"symbol\": \"circle\"}, \"mode\": \"markers\", \"name\": \"Oceania\", \"showlegend\": true, \"x\": [3.84], \"xaxis\": \"x\", \"y\": [2.4407450130077706], \"yaxis\": \"y\", \"type\": \"scatter\"}, {\"hovertemplate\": \"<b>%{hovertext}</b><br><br>Continent=Europe<br>Day=10<br>Hospital_beds_per100_2017=%{x}<br>Dead_per_million=%{y}<br>popData2018=%{marker.size}<extra></extra>\", \"hovertext\": [\"Austria\", \"Belgium\", \"Czech_Republic\", \"Denmark\", \"Estonia\", \"Finland\", \"France\", \"Germany\", \"Greece\", \"Hungary\", \"Iceland\", \"Ireland\", \"Italy\", \"Latvia\", \"Lithuania\", \"Luxembourg\", \"Netherlands\", \"Norway\", \"Poland\", \"Portugal\", \"Slovenia\", \"Spain\", \"Sweden\", \"Switzerland\", \"Turkey\"], \"ids\": [\"Austria\", \"Belgium\", \"Czech_Republic\", \"Denmark\", \"Estonia\", \"Finland\", \"France\", \"Germany\", \"Greece\", \"Hungary\", \"Iceland\", \"Ireland\", \"Italy\", \"Latvia\", \"Lithuania\", \"Luxembourg\", \"Netherlands\", \"Norway\", \"Poland\", \"Portugal\", \"Slovenia\", \"Spain\", \"Sweden\", \"Switzerland\", \"Turkey\"], \"legendgroup\": \"Europe\", \"marker\": {\"color\": \"#EF553B\", \"size\": [8847037.0, 11422068.0, 10625695.0, 5797446.0, 1320884.0, 5518050.0, 66987244.0, 82927922.0, 10727668.0, 9768785.0, 353574.0, 4853506.0, 60431283.0, 1926542.0, 2789533.0, 607728.0, 17231017.0, 5314336.0, 37978548.0, 10281762.0, 2067372.0, 46723749.0, 10183175.0, 8516543.0, 82319724.0], \"sizemode\": \"area\", \"sizeref\": 460406.6115702479, \"symbol\": \"circle\"}, \"mode\": \"markers\", \"name\": \"Europe\", \"showlegend\": true, \"x\": [7.37, 5.76, 6.63, 2.61, 4.69, 3.28, 5.98, 8.0, 4.21, 7.02, 3.06, 2.96, 3.18, 5.57, 6.56, 4.66, 3.32, 3.6, 6.62, 3.39, 4.5, 2.97, 2.22, 4.53, 2.81], \"xaxis\": \"x\", \"y\": [14.468120795696908, 25.301898045082552, 7.340696302688906, 11.211833624668518, 15.898443769475593, 4.893032864870743, 10.06161710429526, 8.82694251038872, 4.008326879616334, 2.6615387686390886, 5.656524518205524, 17.513113201055074, 16.812484355164194, 2.5953236420488106, 3.226346488820889, 13.1637837980149, 16.01762681796437, 3.7634052494987147, 4.765848341542704, 13.616343190982246, 7.739294137678173, 21.44519695968746, 10.802131948041746, 7.749623291985962, 6.972812493880568], \"yaxis\": \"y\", \"type\": \"scatter\"}, {\"hovertemplate\": \"<b>%{hovertext}</b><br><br>Continent=North America<br>Day=10<br>Hospital_beds_per100_2017=%{x}<br>Dead_per_million=%{y}<br>popData2018=%{marker.size}<extra></extra>\", \"hovertext\": [\"Canada\", \"Mexico\", \"USA\"], \"ids\": [\"Canada\", \"Mexico\", \"USA\"], \"legendgroup\": \"North America\", \"marker\": {\"color\": \"#00cc96\", \"size\": [37058856.0, 126190788.0, 327167434.0], \"sizemode\": \"area\", \"sizeref\": 460406.6115702479, \"symbol\": \"circle\"}, \"mode\": \"markers\", \"name\": \"North America\", \"showlegend\": true, \"x\": [2.52, 1.38, 2.77], \"xaxis\": \"x\", \"y\": [6.2333278717508165, 3.8513112383449104, 9.689228421188155], \"yaxis\": \"y\", \"type\": \"scatter\"}, {\"hovertemplate\": \"<b>%{hovertext}</b><br><br>Continent=Asia<br>Day=10<br>Hospital_beds_per100_2017=%{x}<br>Dead_per_million=%{y}<br>popData2018=%{marker.size}<extra></extra>\", \"hovertext\": [\"China\", \"South_Korea\"], \"ids\": [\"China\", \"South_Korea\"], \"legendgroup\": \"Asia\", \"marker\": {\"color\": \"#ab63fa\", \"size\": [1392730000.0, 51635256.0], \"sizemode\": \"area\", \"sizeref\": 460406.6115702479, \"symbol\": \"circle\"}, \"mode\": \"markers\", \"name\": \"Asia\", \"showlegend\": true, \"x\": [4.34, 12.27], \"xaxis\": \"x\", \"y\": [1.8632470040855011, 1.7623617475625568], \"yaxis\": \"y\", \"type\": \"scatter\"}], \"name\": \"10\"}, {\"data\": [{\"hovertemplate\": \"<b>%{hovertext}</b><br><br>Continent=Oceania<br>Day=11<br>Hospital_beds_per100_2017=%{x}<br>Dead_per_million=%{y}<br>popData2018=%{marker.size}<extra></extra>\", \"hovertext\": [\"Australia\"], \"ids\": [\"Australia\"], \"legendgroup\": \"Oceania\", \"marker\": {\"color\": \"#636efa\", \"size\": [24992369.0], \"sizemode\": \"area\", \"sizeref\": 460406.6115702479, \"symbol\": \"circle\"}, \"mode\": \"markers\", \"name\": \"Oceania\", \"showlegend\": true, \"x\": [3.84], \"xaxis\": \"x\", \"y\": [2.4407450130077706], \"yaxis\": \"y\", \"type\": \"scatter\"}, {\"hovertemplate\": \"<b>%{hovertext}</b><br><br>Continent=Europe<br>Day=11<br>Hospital_beds_per100_2017=%{x}<br>Dead_per_million=%{y}<br>popData2018=%{marker.size}<extra></extra>\", \"hovertext\": [\"Austria\", \"Belgium\", \"Czech_Republic\", \"Denmark\", \"Estonia\", \"Finland\", \"France\", \"Germany\", \"Greece\", \"Hungary\", \"Iceland\", \"Ireland\", \"Italy\", \"Latvia\", \"Lithuania\", \"Luxembourg\", \"Netherlands\", \"Norway\", \"Poland\", \"Portugal\", \"Slovenia\", \"Spain\", \"Sweden\", \"Switzerland\", \"Turkey\"], \"ids\": [\"Austria\", \"Belgium\", \"Czech_Republic\", \"Denmark\", \"Estonia\", \"Finland\", \"France\", \"Germany\", \"Greece\", \"Hungary\", \"Iceland\", \"Ireland\", \"Italy\", \"Latvia\", \"Lithuania\", \"Luxembourg\", \"Netherlands\", \"Norway\", \"Poland\", \"Portugal\", \"Slovenia\", \"Spain\", \"Sweden\", \"Switzerland\", \"Turkey\"], \"legendgroup\": \"Europe\", \"marker\": {\"color\": \"#EF553B\", \"size\": [8847037.0, 11422068.0, 10625695.0, 5797446.0, 1320884.0, 5518050.0, 66987244.0, 82927922.0, 10727668.0, 9768785.0, 353574.0, 4853506.0, 60431283.0, 1926542.0, 2789533.0, 607728.0, 17231017.0, 5314336.0, 37978548.0, 10281762.0, 2067372.0, 46723749.0, 10183175.0, 8516543.0, 82319724.0], \"sizemode\": \"area\", \"sizeref\": 460406.6115702479, \"symbol\": \"circle\"}, \"mode\": \"markers\", \"name\": \"Europe\", \"showlegend\": true, \"x\": [7.37, 5.76, 6.63, 2.61, 4.69, 3.28, 5.98, 8.0, 4.21, 7.02, 3.06, 2.96, 3.18, 5.57, 6.56, 4.66, 3.32, 3.6, 6.62, 3.39, 4.5, 2.97, 2.22, 4.53, 2.81], \"xaxis\": \"x\", \"y\": [16.50270028259179, 30.9050865394953, 8.281811213290048, 12.41926186117128, 18.16965002225782, 4.893032864870743, 12.838265147913832, 10.515155558823722, 4.567628304679078, 3.275740022940417, 5.656524518205524, 20.191589337687024, 20.98251000231122, 2.5953236420488106, 3.226346488820889, 13.1637837980149, 20.66041719998303, 4.139745774448586, 5.476775994701009, 15.561535075408283, 9.674117672097717, 28.37957202449658, 14.337375131037225, 10.097993986527163, 7.883894265729073], \"yaxis\": \"y\", \"type\": \"scatter\"}, {\"hovertemplate\": \"<b>%{hovertext}</b><br><br>Continent=North America<br>Day=11<br>Hospital_beds_per100_2017=%{x}<br>Dead_per_million=%{y}<br>popData2018=%{marker.size}<extra></extra>\", \"hovertext\": [\"Canada\", \"Mexico\", \"USA\"], \"ids\": [\"Canada\", \"Mexico\", \"USA\"], \"legendgroup\": \"North America\", \"marker\": {\"color\": \"#00cc96\", \"size\": [37058856.0, 126190788.0, 327167434.0], \"sizemode\": \"area\", \"sizeref\": 460406.6115702479, \"symbol\": \"circle\"}, \"mode\": \"markers\", \"name\": \"North America\", \"showlegend\": true, \"x\": [2.52, 1.38, 2.77], \"xaxis\": \"x\", \"y\": [7.555548935455536, 4.326781761597369, 12.467622312311194], \"yaxis\": \"y\", \"type\": \"scatter\"}, {\"hovertemplate\": \"<b>%{hovertext}</b><br><br>Continent=Asia<br>Day=11<br>Hospital_beds_per100_2017=%{x}<br>Dead_per_million=%{y}<br>popData2018=%{marker.size}<extra></extra>\", \"hovertext\": [\"China\", \"South_Korea\"], \"ids\": [\"China\", \"South_Korea\"], \"legendgroup\": \"Asia\", \"marker\": {\"color\": \"#ab63fa\", \"size\": [1392730000.0, 51635256.0], \"sizemode\": \"area\", \"sizeref\": 460406.6115702479, \"symbol\": \"circle\"}, \"mode\": \"markers\", \"name\": \"Asia\", \"showlegend\": true, \"x\": [4.34, 12.27], \"xaxis\": \"x\", \"y\": [1.9135080022689248, 1.936661261057755], \"yaxis\": \"y\", \"type\": \"scatter\"}], \"name\": \"11\"}, {\"data\": [{\"hovertemplate\": \"<b>%{hovertext}</b><br><br>Continent=Oceania<br>Day=12<br>Hospital_beds_per100_2017=%{x}<br>Dead_per_million=%{y}<br>popData2018=%{marker.size}<extra></extra>\", \"hovertext\": [\"Australia\"], \"ids\": [\"Australia\"], \"legendgroup\": \"Oceania\", \"marker\": {\"color\": \"#636efa\", \"size\": [24992369.0], \"sizemode\": \"area\", \"sizeref\": 460406.6115702479, \"symbol\": \"circle\"}, \"mode\": \"markers\", \"name\": \"Oceania\", \"showlegend\": true, \"x\": [3.84], \"xaxis\": \"x\", \"y\": [2.4407450130077706], \"yaxis\": \"y\", \"type\": \"scatter\"}, {\"hovertemplate\": \"<b>%{hovertext}</b><br><br>Continent=Europe<br>Day=12<br>Hospital_beds_per100_2017=%{x}<br>Dead_per_million=%{y}<br>popData2018=%{marker.size}<extra></extra>\", \"hovertext\": [\"Austria\", \"Belgium\", \"Czech_Republic\", \"Denmark\", \"Estonia\", \"Finland\", \"France\", \"Germany\", \"Greece\", \"Hungary\", \"Iceland\", \"Ireland\", \"Italy\", \"Latvia\", \"Lithuania\", \"Luxembourg\", \"Netherlands\", \"Norway\", \"Poland\", \"Portugal\", \"Slovenia\", \"Spain\", \"Sweden\", \"Switzerland\", \"Turkey\"], \"ids\": [\"Austria\", \"Belgium\", \"Czech_Republic\", \"Denmark\", \"Estonia\", \"Finland\", \"France\", \"Germany\", \"Greece\", \"Hungary\", \"Iceland\", \"Ireland\", \"Italy\", \"Latvia\", \"Lithuania\", \"Luxembourg\", \"Netherlands\", \"Norway\", \"Poland\", \"Portugal\", \"Slovenia\", \"Spain\", \"Sweden\", \"Switzerland\", \"Turkey\"], \"legendgroup\": \"Europe\", \"marker\": {\"color\": \"#EF553B\", \"size\": [8847037.0, 11422068.0, 10625695.0, 5797446.0, 1320884.0, 5518050.0, 66987244.0, 82927922.0, 10727668.0, 9768785.0, 353574.0, 4853506.0, 60431283.0, 1926542.0, 2789533.0, 607728.0, 17231017.0, 5314336.0, 37978548.0, 10281762.0, 2067372.0, 46723749.0, 10183175.0, 8516543.0, 82319724.0], \"sizemode\": \"area\", \"sizeref\": 460406.6115702479, \"symbol\": \"circle\"}, \"mode\": \"markers\", \"name\": \"Europe\", \"showlegend\": true, \"x\": [7.37, 5.76, 6.63, 2.61, 4.69, 3.28, 5.98, 8.0, 4.21, 7.02, 3.06, 2.96, 3.18, 5.57, 6.56, 4.66, 3.32, 3.6, 6.62, 3.39, 4.5, 2.97, 2.22, 4.53, 2.81], \"xaxis\": \"x\", \"y\": [17.859086607188374, 37.733972517060835, 9.317037614951303, 13.281710601530397, 18.16965002225782, 6.161596940948343, 16.421036817099086, 12.263661930417117, 4.660845208856202, 3.4804737743741927, 5.656524518205524, 24.72439510737187, 23.845265704519296, 2.5953236420488106, 4.660278261630173, 13.1637837980149, 25.187137822451223, 4.892426824348329, 6.108711686397279, 18.18754411938343, 10.641529439307488, 36.81211454157927, 17.6762159149774, 12.094109076887182, 8.80712379453556], \"yaxis\": \"y\", \"type\": \"scatter\"}, {\"hovertemplate\": \"<b>%{hovertext}</b><br><br>Continent=North America<br>Day=12<br>Hospital_beds_per100_2017=%{x}<br>Dead_per_million=%{y}<br>popData2018=%{marker.size}<extra></extra>\", \"hovertext\": [\"Canada\", \"Mexico\", \"USA\"], \"ids\": [\"Canada\", \"Mexico\", \"USA\"], \"legendgroup\": \"North America\", \"marker\": {\"color\": \"#00cc96\", \"size\": [37058856.0, 126190788.0, 327167434.0], \"sizemode\": \"area\", \"sizeref\": 460406.6115702479, \"symbol\": \"circle\"}, \"mode\": \"markers\", \"name\": \"North America\", \"showlegend\": true, \"x\": [2.52, 1.38, 2.77], \"xaxis\": \"x\", \"y\": [8.71586537911478, 5.150930668568296, 15.704497043553546], \"yaxis\": \"y\", \"type\": \"scatter\"}, {\"hovertemplate\": \"<b>%{hovertext}</b><br><br>Continent=Asia<br>Day=12<br>Hospital_beds_per100_2017=%{x}<br>Dead_per_million=%{y}<br>popData2018=%{marker.size}<extra></extra>\", \"hovertext\": [\"China\", \"South_Korea\"], \"ids\": [\"China\", \"South_Korea\"], \"legendgroup\": \"Asia\", \"marker\": {\"color\": \"#ab63fa\", \"size\": [1392730000.0, 51635256.0], \"sizemode\": \"area\", \"sizeref\": 460406.6115702479, \"symbol\": \"circle\"}, \"mode\": \"markers\", \"name\": \"Asia\", \"showlegend\": true, \"x\": [4.34, 12.27], \"xaxis\": \"x\", \"y\": [1.9508447437766112, 1.9947610988894875], \"yaxis\": \"y\", \"type\": \"scatter\"}], \"name\": \"12\"}, {\"data\": [{\"hovertemplate\": \"<b>%{hovertext}</b><br><br>Continent=Oceania<br>Day=13<br>Hospital_beds_per100_2017=%{x}<br>Dead_per_million=%{y}<br>popData2018=%{marker.size}<extra></extra>\", \"hovertext\": [\"Australia\"], \"ids\": [\"Australia\"], \"legendgroup\": \"Oceania\", \"marker\": {\"color\": \"#636efa\", \"size\": [24992369.0], \"sizemode\": \"area\", \"sizeref\": 460406.6115702479, \"symbol\": \"circle\"}, \"mode\": \"markers\", \"name\": \"Oceania\", \"showlegend\": true, \"x\": [3.84], \"xaxis\": \"x\", \"y\": [2.5207694396637628], \"yaxis\": \"y\", \"type\": \"scatter\"}, {\"hovertemplate\": \"<b>%{hovertext}</b><br><br>Continent=Europe<br>Day=13<br>Hospital_beds_per100_2017=%{x}<br>Dead_per_million=%{y}<br>popData2018=%{marker.size}<extra></extra>\", \"hovertext\": [\"Austria\", \"Belgium\", \"Czech_Republic\", \"Denmark\", \"Estonia\", \"Finland\", \"France\", \"Germany\", \"Greece\", \"Hungary\", \"Iceland\", \"Ireland\", \"Italy\", \"Latvia\", \"Lithuania\", \"Luxembourg\", \"Netherlands\", \"Norway\", \"Poland\", \"Portugal\", \"Slovenia\", \"Spain\", \"Sweden\", \"Switzerland\", \"Turkey\"], \"ids\": [\"Austria\", \"Belgium\", \"Czech_Republic\", \"Denmark\", \"Estonia\", \"Finland\", \"France\", \"Germany\", \"Greece\", \"Hungary\", \"Iceland\", \"Ireland\", \"Italy\", \"Latvia\", \"Lithuania\", \"Luxembourg\", \"Netherlands\", \"Norway\", \"Poland\", \"Portugal\", \"Slovenia\", \"Spain\", \"Sweden\", \"Switzerland\", \"Turkey\"], \"legendgroup\": \"Europe\", \"marker\": {\"color\": \"#EF553B\", \"size\": [8847037.0, 11422068.0, 10625695.0, 5797446.0, 1320884.0, 5518050.0, 66987244.0, 82927922.0, 10727668.0, 9768785.0, 353574.0, 4853506.0, 60431283.0, 1926542.0, 2789533.0, 607728.0, 17231017.0, 5314336.0, 37978548.0, 10281762.0, 2067372.0, 46723749.0, 10183175.0, 8516543.0, 82319724.0], \"sizemode\": \"area\", \"sizeref\": 460406.6115702479, \"symbol\": \"circle\"}, \"mode\": \"markers\", \"name\": \"Europe\", \"showlegend\": true, \"x\": [7.37, 5.76, 6.63, 2.61, 4.69, 3.28, 5.98, 8.0, 4.21, 7.02, 3.06, 2.96, 3.18, 5.57, 6.56, 4.66, 3.32, 3.6, 6.62, 3.39, 4.5, 2.97, 2.22, 4.53, 2.81], \"xaxis\": \"x\", \"y\": [18.989408544352194, 44.913057775527164, 10.540486998732788, 15.524077326464102, 18.16965002225782, 7.248937577586285, 19.869454548689895, 13.963933643483795, 4.9404959213875745, 3.8899412772417454, 5.656524518205524, 28.22701774758288, 29.96792240866374, 2.5953236420488106, 5.018761204832493, 14.809256772766764, 31.687044357277344, 5.2687673492982, 6.451010186066092, 20.327255192252068, 13.543764740936803, 46.70001972658487, 23.470086687108886, 18.904384091056667, 9.863978649879828], \"yaxis\": \"y\", \"type\": \"scatter\"}, {\"hovertemplate\": \"<b>%{hovertext}</b><br><br>Continent=North America<br>Day=13<br>Hospital_beds_per100_2017=%{x}<br>Dead_per_million=%{y}<br>popData2018=%{marker.size}<extra></extra>\", \"hovertext\": [\"Canada\", \"Mexico\", \"USA\"], \"ids\": [\"Canada\", \"Mexico\", \"USA\"], \"legendgroup\": \"North America\", \"marker\": {\"color\": \"#00cc96\", \"size\": [37058856.0, 126190788.0, 327167434.0], \"sizemode\": \"area\", \"sizeref\": 460406.6115702479, \"symbol\": \"circle\"}, \"mode\": \"markers\", \"name\": \"North America\", \"showlegend\": true, \"x\": [2.52, 1.38, 2.77], \"xaxis\": \"x\", \"y\": [10.2539592695468, 5.436212982519771, 18.501230168281356], \"yaxis\": \"y\", \"type\": \"scatter\"}, {\"hovertemplate\": \"<b>%{hovertext}</b><br><br>Continent=Asia<br>Day=13<br>Hospital_beds_per100_2017=%{x}<br>Dead_per_million=%{y}<br>popData2018=%{marker.size}<extra></extra>\", \"hovertext\": [\"China\", \"South_Korea\"], \"ids\": [\"China\", \"South_Korea\"], \"legendgroup\": \"Asia\", \"marker\": {\"color\": \"#ab63fa\", \"size\": [1392730000.0, 51635256.0], \"sizemode\": \"area\", \"sizeref\": 460406.6115702479, \"symbol\": \"circle\"}, \"mode\": \"markers\", \"name\": \"Asia\", \"showlegend\": true, \"x\": [4.34, 12.27], \"xaxis\": \"x\", \"y\": [1.9716671573097442, 2.0141277115000653], \"yaxis\": \"y\", \"type\": \"scatter\"}], \"name\": \"13\"}, {\"data\": [{\"hovertemplate\": \"<b>%{hovertext}</b><br><br>Continent=Oceania<br>Day=14<br>Hospital_beds_per100_2017=%{x}<br>Dead_per_million=%{y}<br>popData2018=%{marker.size}<extra></extra>\", \"hovertext\": [\"Australia\"], \"ids\": [\"Australia\"], \"legendgroup\": \"Oceania\", \"marker\": {\"color\": \"#636efa\", \"size\": [24992369.0], \"sizemode\": \"area\", \"sizeref\": 460406.6115702479, \"symbol\": \"circle\"}, \"mode\": \"markers\", \"name\": \"Oceania\", \"showlegend\": true, \"x\": [3.84], \"xaxis\": \"x\", \"y\": [2.5207694396637628], \"yaxis\": \"y\", \"type\": \"scatter\"}, {\"hovertemplate\": \"<b>%{hovertext}</b><br><br>Continent=Europe<br>Day=14<br>Hospital_beds_per100_2017=%{x}<br>Dead_per_million=%{y}<br>popData2018=%{marker.size}<extra></extra>\", \"hovertext\": [\"Austria\", \"Belgium\", \"Czech_Republic\", \"Denmark\", \"Estonia\", \"Finland\", \"France\", \"Germany\", \"Greece\", \"Hungary\", \"Iceland\", \"Ireland\", \"Italy\", \"Lithuania\", \"Luxembourg\", \"Netherlands\", \"Norway\", \"Poland\", \"Portugal\", \"Slovenia\", \"Spain\", \"Sweden\", \"Switzerland\", \"Turkey\"], \"ids\": [\"Austria\", \"Belgium\", \"Czech_Republic\", \"Denmark\", \"Estonia\", \"Finland\", \"France\", \"Germany\", \"Greece\", \"Hungary\", \"Iceland\", \"Ireland\", \"Italy\", \"Lithuania\", \"Luxembourg\", \"Netherlands\", \"Norway\", \"Poland\", \"Portugal\", \"Slovenia\", \"Spain\", \"Sweden\", \"Switzerland\", \"Turkey\"], \"legendgroup\": \"Europe\", \"marker\": {\"color\": \"#EF553B\", \"size\": [8847037.0, 11422068.0, 10625695.0, 5797446.0, 1320884.0, 5518050.0, 66987244.0, 82927922.0, 10727668.0, 9768785.0, 353574.0, 4853506.0, 60431283.0, 2789533.0, 607728.0, 17231017.0, 5314336.0, 37978548.0, 10281762.0, 2067372.0, 46723749.0, 10183175.0, 8516543.0, 82319724.0], \"sizemode\": \"area\", \"sizeref\": 460406.6115702479, \"symbol\": \"circle\"}, \"mode\": \"markers\", \"name\": \"Europe\", \"showlegend\": true, \"x\": [7.37, 5.76, 6.63, 2.61, 4.69, 3.28, 5.98, 8.0, 4.21, 7.02, 3.06, 2.96, 3.18, 6.56, 4.66, 3.32, 3.6, 6.62, 3.39, 4.5, 2.97, 2.22, 4.53, 2.81], \"xaxis\": \"x\", \"y\": [21.02398803124707, 61.7226232587654, 11.199267436153589, 17.938933799469627, 18.16965002225782, 7.6113844564656, 25.31825312890914, 16.182727935712656, 5.499797346450319, 4.811243158693737, 5.656524518205524, 32.55378689137296, 35.7099815339019, 5.377244148034815, 24.68209462127794, 37.08428817637403, 6.021448399197943, 6.924961954838294, 23.92586017844023, 14.511176508146574, 57.70084930470797, 27.69273826679793, 23.131451341230825, 11.030163317845915], \"yaxis\": \"y\", \"type\": \"scatter\"}, {\"hovertemplate\": \"<b>%{hovertext}</b><br><br>Continent=North America<br>Day=14<br>Hospital_beds_per100_2017=%{x}<br>Dead_per_million=%{y}<br>popData2018=%{marker.size}<extra></extra>\", \"hovertext\": [\"Canada\", \"USA\"], \"ids\": [\"Canada\", \"USA\"], \"legendgroup\": \"North America\", \"marker\": {\"color\": \"#00cc96\", \"size\": [37058856.0, 327167434.0], \"sizemode\": \"area\", \"sizeref\": 460406.6115702479, \"symbol\": \"circle\"}, \"mode\": \"markers\", \"name\": \"North America\", \"showlegend\": true, \"x\": [2.52, 2.77], \"xaxis\": \"x\", \"y\": [11.738084953296992, 21.875649151559504], \"yaxis\": \"y\", \"type\": \"scatter\"}, {\"hovertemplate\": \"<b>%{hovertext}</b><br><br>Continent=Asia<br>Day=14<br>Hospital_beds_per100_2017=%{x}<br>Dead_per_million=%{y}<br>popData2018=%{marker.size}<extra></extra>\", \"hovertext\": [\"China\", \"South_Korea\"], \"ids\": [\"China\", \"South_Korea\"], \"legendgroup\": \"Asia\", \"marker\": {\"color\": \"#ab63fa\", \"size\": [1392730000.0, 51635256.0], \"sizemode\": \"area\", \"sizeref\": 460406.6115702479, \"symbol\": \"circle\"}, \"mode\": \"markers\", \"name\": \"Asia\", \"showlegend\": true, \"x\": [4.34, 12.27], \"xaxis\": \"x\", \"y\": [2.003259784739325, 2.188427224995263], \"yaxis\": \"y\", \"type\": \"scatter\"}], \"name\": \"14\"}, {\"data\": [{\"hovertemplate\": \"<b>%{hovertext}</b><br><br>Continent=Oceania<br>Day=15<br>Hospital_beds_per100_2017=%{x}<br>Dead_per_million=%{y}<br>popData2018=%{marker.size}<extra></extra>\", \"hovertext\": [\"Australia\"], \"ids\": [\"Australia\"], \"legendgroup\": \"Oceania\", \"marker\": {\"color\": \"#636efa\", \"size\": [24992369.0], \"sizemode\": \"area\", \"sizeref\": 460406.6115702479, \"symbol\": \"circle\"}, \"mode\": \"markers\", \"name\": \"Oceania\", \"showlegend\": true, \"x\": [3.84], \"xaxis\": \"x\", \"y\": [2.6808182929757476], \"yaxis\": \"y\", \"type\": \"scatter\"}, {\"hovertemplate\": \"<b>%{hovertext}</b><br><br>Continent=Europe<br>Day=15<br>Hospital_beds_per100_2017=%{x}<br>Dead_per_million=%{y}<br>popData2018=%{marker.size}<extra></extra>\", \"hovertext\": [\"Austria\", \"Belgium\", \"Czech_Republic\", \"Denmark\", \"Estonia\", \"Finland\", \"France\", \"Germany\", \"Greece\", \"Hungary\", \"Iceland\", \"Ireland\", \"Italy\", \"Lithuania\", \"Luxembourg\", \"Netherlands\", \"Norway\", \"Poland\", \"Portugal\", \"Slovenia\", \"Spain\", \"Sweden\", \"Switzerland\", \"Turkey\"], \"ids\": [\"Austria\", \"Belgium\", \"Czech_Republic\", \"Denmark\", \"Estonia\", \"Finland\", \"France\", \"Germany\", \"Greece\", \"Hungary\", \"Iceland\", \"Ireland\", \"Italy\", \"Lithuania\", \"Luxembourg\", \"Netherlands\", \"Norway\", \"Poland\", \"Portugal\", \"Slovenia\", \"Spain\", \"Sweden\", \"Switzerland\", \"Turkey\"], \"legendgroup\": \"Europe\", \"marker\": {\"color\": \"#EF553B\", \"size\": [8847037.0, 11422068.0, 10625695.0, 5797446.0, 1320884.0, 5518050.0, 66987244.0, 82927922.0, 10727668.0, 9768785.0, 353574.0, 4853506.0, 60431283.0, 2789533.0, 607728.0, 17231017.0, 5314336.0, 37978548.0, 10281762.0, 2067372.0, 46723749.0, 10183175.0, 8516543.0, 82319724.0], \"sizemode\": \"area\", \"sizeref\": 460406.6115702479, \"symbol\": \"circle\"}, \"mode\": \"markers\", \"name\": \"Europe\", \"showlegend\": true, \"x\": [7.37, 5.76, 6.63, 2.61, 4.69, 3.28, 5.98, 8.0, 4.21, 7.02, 3.06, 2.96, 3.18, 6.56, 4.66, 3.32, 3.6, 6.62, 3.39, 4.5, 2.97, 2.22, 4.53, 2.81], \"xaxis\": \"x\", \"y\": [23.05856751814195, 72.49125114646489, 12.14038234675473, 21.216239012834272, 18.92671877318523, 8.698725093103542, 29.781789500102438, 17.292125081827084, 6.338749484044436, 5.937278791579506, 11.313049036411048, 35.850372905689206, 41.45204065914007, 5.377244148034815, 29.618513545533528, 44.74489230670482, 7.9031510239473, 7.530566992713887, 25.871052062866266, 17.41341180977589, 73.49581473010653, 32.700999442708195, 27.593355660859107, 12.220643499727963], \"yaxis\": \"y\", \"type\": \"scatter\"}, {\"hovertemplate\": \"<b>%{hovertext}</b><br><br>Continent=North America<br>Day=15<br>Hospital_beds_per100_2017=%{x}<br>Dead_per_million=%{y}<br>popData2018=%{marker.size}<extra></extra>\", \"hovertext\": [\"Canada\", \"USA\"], \"ids\": [\"Canada\", \"USA\"], \"legendgroup\": \"North America\", \"marker\": {\"color\": \"#00cc96\", \"size\": [37058856.0, 327167434.0], \"sizemode\": \"area\", \"sizeref\": 460406.6115702479, \"symbol\": \"circle\"}, \"mode\": \"markers\", \"name\": \"North America\", \"showlegend\": true, \"x\": [2.52, 2.77], \"xaxis\": \"x\", \"y\": [13.734908600524529, 25.983637479028552], \"yaxis\": \"y\", \"type\": \"scatter\"}, {\"hovertemplate\": \"<b>%{hovertext}</b><br><br>Continent=Asia<br>Day=15<br>Hospital_beds_per100_2017=%{x}<br>Dead_per_million=%{y}<br>popData2018=%{marker.size}<extra></extra>\", \"hovertext\": [\"China\", \"South_Korea\"], \"ids\": [\"China\", \"South_Korea\"], \"legendgroup\": \"Asia\", \"marker\": {\"color\": \"#ab63fa\", \"size\": [1392730000.0, 51635256.0], \"sizemode\": \"area\", \"sizeref\": 460406.6115702479, \"symbol\": \"circle\"}, \"mode\": \"markers\", \"name\": \"Asia\", \"showlegend\": true, \"x\": [4.34, 12.27], \"xaxis\": \"x\", \"y\": [2.0370064549481954, 2.323993513269306], \"yaxis\": \"y\", \"type\": \"scatter\"}], \"name\": \"15\"}, {\"data\": [{\"hovertemplate\": \"<b>%{hovertext}</b><br><br>Continent=Oceania<br>Day=16<br>Hospital_beds_per100_2017=%{x}<br>Dead_per_million=%{y}<br>popData2018=%{marker.size}<extra></extra>\", \"hovertext\": [\"Australia\"], \"ids\": [\"Australia\"], \"legendgroup\": \"Oceania\", \"marker\": {\"color\": \"#636efa\", \"size\": [24992369.0], \"sizemode\": \"area\", \"sizeref\": 460406.6115702479, \"symbol\": \"circle\"}, \"mode\": \"markers\", \"name\": \"Oceania\", \"showlegend\": true, \"x\": [3.84], \"xaxis\": \"x\", \"y\": [2.76084271963174], \"yaxis\": \"y\", \"type\": \"scatter\"}, {\"hovertemplate\": \"<b>%{hovertext}</b><br><br>Continent=Europe<br>Day=16<br>Hospital_beds_per100_2017=%{x}<br>Dead_per_million=%{y}<br>popData2018=%{marker.size}<extra></extra>\", \"hovertext\": [\"Austria\", \"Belgium\", \"Czech_Republic\", \"Denmark\", \"Estonia\", \"Finland\", \"France\", \"Germany\", \"Greece\", \"Hungary\", \"Iceland\", \"Ireland\", \"Italy\", \"Lithuania\", \"Luxembourg\", \"Netherlands\", \"Norway\", \"Poland\", \"Portugal\", \"Slovenia\", \"Spain\", \"Sweden\", \"Switzerland\", \"Turkey\"], \"ids\": [\"Austria\", \"Belgium\", \"Czech_Republic\", \"Denmark\", \"Estonia\", \"Finland\", \"France\", \"Germany\", \"Greece\", \"Hungary\", \"Iceland\", \"Ireland\", \"Italy\", \"Lithuania\", \"Luxembourg\", \"Netherlands\", \"Norway\", \"Poland\", \"Portugal\", \"Slovenia\", \"Spain\", \"Sweden\", \"Switzerland\", \"Turkey\"], \"legendgroup\": \"Europe\", \"marker\": {\"color\": \"#EF553B\", \"size\": [8847037.0, 11422068.0, 10625695.0, 5797446.0, 1320884.0, 5518050.0, 66987244.0, 82927922.0, 10727668.0, 9768785.0, 353574.0, 4853506.0, 60431283.0, 2789533.0, 607728.0, 17231017.0, 5314336.0, 37978548.0, 10281762.0, 2067372.0, 46723749.0, 10183175.0, 8516543.0, 82319724.0], \"sizemode\": \"area\", \"sizeref\": 460406.6115702479, \"symbol\": \"circle\"}, \"mode\": \"markers\", \"name\": \"Europe\", \"showlegend\": true, \"x\": [7.37, 5.76, 6.63, 2.61, 4.69, 3.28, 5.98, 8.0, 4.21, 7.02, 3.06, 2.96, 3.18, 6.56, 4.66, 3.32, 3.6, 6.62, 3.39, 4.5, 2.97, 2.22, 4.53, 2.81], \"xaxis\": \"x\", \"y\": [24.867082617604062, 88.51286824767634, 12.987385766295759, 23.976074981983448, 21.19792502596746, 8.8799485325432, 34.54389017706117, 19.378274063107476, 6.804834004930055, 6.75621379731461, 11.313049036411048, 43.267691437900766, 49.279112607951745, 5.377244148034815, 34.554932469789115, 50.14213612580151, 8.279491548897171, 8.267825299692868, 28.691580295284016, 19.348235344195434, 87.51438160495212, 36.629047423814285, 30.17656342485443, 13.37468041073607], \"yaxis\": \"y\", \"type\": \"scatter\"}, {\"hovertemplate\": \"<b>%{hovertext}</b><br><br>Continent=North America<br>Day=16<br>Hospital_beds_per100_2017=%{x}<br>Dead_per_million=%{y}<br>popData2018=%{marker.size}<extra></extra>\", \"hovertext\": [\"Canada\", \"USA\"], \"ids\": [\"Canada\", \"USA\"], \"legendgroup\": \"North America\", \"marker\": {\"color\": \"#00cc96\", \"size\": [37058856.0, 327167434.0], \"sizemode\": \"area\", \"sizeref\": 460406.6115702479, \"symbol\": \"circle\"}, \"mode\": \"markers\", \"name\": \"North America\", \"showlegend\": true, \"x\": [2.52, 2.77], \"xaxis\": \"x\", \"y\": [15.353954800979285, 29.486431097540105], \"yaxis\": \"y\", \"type\": \"scatter\"}, {\"hovertemplate\": \"<b>%{hovertext}</b><br><br>Continent=Asia<br>Day=16<br>Hospital_beds_per100_2017=%{x}<br>Dead_per_million=%{y}<br>popData2018=%{marker.size}<extra></extra>\", \"hovertext\": [\"China\", \"South_Korea\"], \"ids\": [\"China\", \"South_Korea\"], \"legendgroup\": \"Asia\", \"marker\": {\"color\": \"#ab63fa\", \"size\": [1392730000.0, 51635256.0], \"sizemode\": \"area\", \"sizeref\": 460406.6115702479, \"symbol\": \"circle\"}, \"mode\": \"markers\", \"name\": \"Asia\", \"showlegend\": true, \"x\": [4.34, 12.27], \"xaxis\": \"x\", \"y\": [2.0621369540399073, 2.440193188932771], \"yaxis\": \"y\", \"type\": \"scatter\"}], \"name\": \"16\"}, {\"data\": [{\"hovertemplate\": \"<b>%{hovertext}</b><br><br>Continent=Oceania<br>Day=17<br>Hospital_beds_per100_2017=%{x}<br>Dead_per_million=%{y}<br>popData2018=%{marker.size}<extra></extra>\", \"hovertext\": [\"Australia\"], \"ids\": [\"Australia\"], \"legendgroup\": \"Oceania\", \"marker\": {\"color\": \"#636efa\", \"size\": [24992369.0], \"sizemode\": \"area\", \"sizeref\": 460406.6115702479, \"symbol\": \"circle\"}, \"mode\": \"markers\", \"name\": \"Oceania\", \"showlegend\": true, \"x\": [3.84], \"xaxis\": \"x\", \"y\": [2.8008549329597368], \"yaxis\": \"y\", \"type\": \"scatter\"}, {\"hovertemplate\": \"<b>%{hovertext}</b><br><br>Continent=Europe<br>Day=17<br>Hospital_beds_per100_2017=%{x}<br>Dead_per_million=%{y}<br>popData2018=%{marker.size}<extra></extra>\", \"hovertext\": [\"Austria\", \"Belgium\", \"Czech_Republic\", \"Denmark\", \"Estonia\", \"Finland\", \"France\", \"Germany\", \"Greece\", \"Hungary\", \"Iceland\", \"Ireland\", \"Italy\", \"Lithuania\", \"Luxembourg\", \"Netherlands\", \"Norway\", \"Poland\", \"Portugal\", \"Slovenia\", \"Spain\", \"Sweden\", \"Switzerland\", \"Turkey\"], \"ids\": [\"Austria\", \"Belgium\", \"Czech_Republic\", \"Denmark\", \"Estonia\", \"Finland\", \"France\", \"Germany\", \"Greece\", \"Hungary\", \"Iceland\", \"Ireland\", \"Italy\", \"Lithuania\", \"Luxembourg\", \"Netherlands\", \"Norway\", \"Poland\", \"Portugal\", \"Slovenia\", \"Spain\", \"Sweden\", \"Switzerland\", \"Turkey\"], \"legendgroup\": \"Europe\", \"marker\": {\"color\": \"#EF553B\", \"size\": [8847037.0, 11422068.0, 10625695.0, 5797446.0, 1320884.0, 5518050.0, 66987244.0, 82927922.0, 10727668.0, 9768785.0, 353574.0, 4853506.0, 60431283.0, 2789533.0, 607728.0, 17231017.0, 5314336.0, 37978548.0, 10281762.0, 2067372.0, 46723749.0, 10183175.0, 8516543.0, 82319724.0], \"sizemode\": \"area\", \"sizeref\": 460406.6115702479, \"symbol\": \"circle\"}, \"mode\": \"markers\", \"name\": \"Europe\", \"showlegend\": true, \"x\": [7.37, 5.76, 6.63, 2.61, 4.69, 3.28, 5.98, 8.0, 4.21, 7.02, 3.06, 2.96, 3.18, 6.56, 4.66, 3.32, 3.6, 6.62, 3.39, 4.5, 2.97, 2.22, 4.53, 2.81], \"xaxis\": \"x\", \"y\": [27.466823073080853, 100.06944451740263, 13.457943221596329, 27.77084943956356, 23.469131278749686, 10.148512608620798, 38.90292904123657, 22.441174879553834, 7.3641354299928, 7.882249430200378, 11.313049036411048, 48.41860708526991, 56.3780848405949, 6.094210034439457, 36.200405444540976, 60.298240086467324, 9.408513123746786, 8.741777068465073, 30.247733802824847, 20.79935299501009, 103.97282118778611, 39.378681010588544, 34.63846774448271, 14.55301283566014], \"yaxis\": \"y\", \"type\": \"scatter\"}, {\"hovertemplate\": \"<b>%{hovertext}</b><br><br>Continent=North America<br>Day=17<br>Hospital_beds_per100_2017=%{x}<br>Dead_per_million=%{y}<br>popData2018=%{marker.size}<extra></extra>\", \"hovertext\": [\"Canada\", \"USA\"], \"ids\": [\"Canada\", \"USA\"], \"legendgroup\": \"North America\", \"marker\": {\"color\": \"#00cc96\", \"size\": [37058856.0, 327167434.0], \"sizemode\": \"area\", \"sizeref\": 460406.6115702479, \"symbol\": \"circle\"}, \"mode\": \"markers\", \"name\": \"North America\", \"showlegend\": true, \"x\": [2.52, 2.77], \"xaxis\": \"x\", \"y\": [17.620619481615943, 33.58830634714089], \"yaxis\": \"y\", \"type\": \"scatter\"}, {\"hovertemplate\": \"<b>%{hovertext}</b><br><br>Continent=Asia<br>Day=17<br>Hospital_beds_per100_2017=%{x}<br>Dead_per_million=%{y}<br>popData2018=%{marker.size}<extra></extra>\", \"hovertext\": [\"China\", \"South_Korea\"], \"ids\": [\"China\", \"South_Korea\"], \"legendgroup\": \"Asia\", \"marker\": {\"color\": \"#ab63fa\", \"size\": [1392730000.0, 51635256.0], \"sizemode\": \"area\", \"sizeref\": 460406.6115702479, \"symbol\": \"circle\"}, \"mode\": \"markers\", \"name\": \"Asia\", \"showlegend\": true, \"x\": [4.34, 12.27], \"xaxis\": \"x\", \"y\": [2.0922935529499616, 2.537026251985659], \"yaxis\": \"y\", \"type\": \"scatter\"}], \"name\": \"17\"}, {\"data\": [{\"hovertemplate\": \"<b>%{hovertext}</b><br><br>Continent=Europe<br>Day=18<br>Hospital_beds_per100_2017=%{x}<br>Dead_per_million=%{y}<br>popData2018=%{marker.size}<extra></extra>\", \"hovertext\": [\"Austria\", \"Belgium\", \"Czech_Republic\", \"Denmark\", \"Estonia\", \"Finland\", \"France\", \"Germany\", \"Greece\", \"Hungary\", \"Iceland\", \"Ireland\", \"Italy\", \"Lithuania\", \"Luxembourg\", \"Netherlands\", \"Norway\", \"Poland\", \"Portugal\", \"Slovenia\", \"Spain\", \"Sweden\", \"Switzerland\", \"Turkey\"], \"ids\": [\"Austria\", \"Belgium\", \"Czech_Republic\", \"Denmark\", \"Estonia\", \"Finland\", \"France\", \"Germany\", \"Greece\", \"Hungary\", \"Iceland\", \"Ireland\", \"Italy\", \"Lithuania\", \"Luxembourg\", \"Netherlands\", \"Norway\", \"Poland\", \"Portugal\", \"Slovenia\", \"Spain\", \"Sweden\", \"Switzerland\", \"Turkey\"], \"legendgroup\": \"Europe\", \"marker\": {\"color\": \"#EF553B\", \"size\": [8847037.0, 11422068.0, 10625695.0, 5797446.0, 1320884.0, 5518050.0, 66987244.0, 82927922.0, 10727668.0, 9768785.0, 353574.0, 4853506.0, 60431283.0, 2789533.0, 607728.0, 17231017.0, 5314336.0, 37978548.0, 10281762.0, 2067372.0, 46723749.0, 10183175.0, 8516543.0, 82319724.0], \"sizemode\": \"area\", \"sizeref\": 460406.6115702479, \"symbol\": \"circle\"}, \"mode\": \"markers\", \"name\": \"Europe\", \"showlegend\": true, \"x\": [7.37, 5.76, 6.63, 2.61, 4.69, 3.28, 5.98, 8.0, 4.21, 7.02, 3.06, 2.96, 3.18, 6.56, 4.66, 3.32, 3.6, 6.62, 3.39, 4.5, 2.97, 2.22, 4.53, 2.81], \"xaxis\": \"x\", \"y\": [30.85778888457232, 112.32641934893051, 15.151950060678384, 30.87566490485638, 26.497406282459323, 10.69218292693977, 45.14292303173422, 25.40760637894677, 7.550569238347048, 8.701184435935483, 11.313049036411048, 54.18763261032334, 66.7204103543524, 8.245107693653383, 37.845878419292845, 68.07491397634858, 10.913875223546272, 9.13673687577524, 33.55456000634911, 21.76676476221986, 121.77961147766631, 46.84197217469011, 43.79711345319339, 15.743493017542187], \"yaxis\": \"y\", \"type\": \"scatter\"}, {\"hovertemplate\": \"<b>%{hovertext}</b><br><br>Continent=North America<br>Day=18<br>Hospital_beds_per100_2017=%{x}<br>Dead_per_million=%{y}<br>popData2018=%{marker.size}<extra></extra>\", \"hovertext\": [\"Canada\", \"USA\"], \"ids\": [\"Canada\", \"USA\"], \"legendgroup\": \"North America\", \"marker\": {\"color\": \"#00cc96\", \"size\": [37058856.0, 327167434.0], \"sizemode\": \"area\", \"sizeref\": 460406.6115702479, \"symbol\": \"circle\"}, \"mode\": \"markers\", \"name\": \"North America\", \"showlegend\": true, \"x\": [2.52, 2.77], \"xaxis\": \"x\", \"y\": [19.347602095434354, 39.4140695555903], \"yaxis\": \"y\", \"type\": \"scatter\"}, {\"hovertemplate\": \"<b>%{hovertext}</b><br><br>Continent=Asia<br>Day=18<br>Hospital_beds_per100_2017=%{x}<br>Dead_per_million=%{y}<br>popData2018=%{marker.size}<extra></extra>\", \"hovertext\": [\"China\", \"South_Korea\"], \"ids\": [\"China\", \"South_Korea\"], \"legendgroup\": \"Asia\", \"marker\": {\"color\": \"#ab63fa\", \"size\": [1392730000.0, 51635256.0], \"sizemode\": \"area\", \"sizeref\": 460406.6115702479, \"symbol\": \"circle\"}, \"mode\": \"markers\", \"name\": \"Asia\", \"showlegend\": true, \"x\": [4.34, 12.27], \"xaxis\": \"x\", \"y\": [2.115270009262384, 2.6919591528702793], \"yaxis\": \"y\", \"type\": \"scatter\"}], \"name\": \"18\"}, {\"data\": [{\"hovertemplate\": \"<b>%{hovertext}</b><br><br>Continent=Europe<br>Day=19<br>Hospital_beds_per100_2017=%{x}<br>Dead_per_million=%{y}<br>popData2018=%{marker.size}<extra></extra>\", \"hovertext\": [\"Austria\", \"Belgium\", \"Czech_Republic\", \"Denmark\", \"Estonia\", \"Finland\", \"France\", \"Germany\", \"Greece\", \"Hungary\", \"Iceland\", \"Ireland\", \"Italy\", \"Lithuania\", \"Luxembourg\", \"Netherlands\", \"Norway\", \"Poland\", \"Portugal\", \"Slovenia\", \"Spain\", \"Sweden\", \"Switzerland\", \"Turkey\"], \"ids\": [\"Austria\", \"Belgium\", \"Czech_Republic\", \"Denmark\", \"Estonia\", \"Finland\", \"France\", \"Germany\", \"Greece\", \"Hungary\", \"Iceland\", \"Ireland\", \"Italy\", \"Lithuania\", \"Luxembourg\", \"Netherlands\", \"Norway\", \"Poland\", \"Portugal\", \"Slovenia\", \"Spain\", \"Sweden\", \"Switzerland\", \"Turkey\"], \"legendgroup\": \"Europe\", \"marker\": {\"color\": \"#EF553B\", \"size\": [8847037.0, 11422068.0, 10625695.0, 5797446.0, 1320884.0, 5518050.0, 66987244.0, 82927922.0, 10727668.0, 9768785.0, 353574.0, 4853506.0, 60431283.0, 2789533.0, 607728.0, 17231017.0, 5314336.0, 37978548.0, 10281762.0, 2067372.0, 46723749.0, 10183175.0, 8516543.0, 82319724.0], \"sizemode\": \"area\", \"sizeref\": 460406.6115702479, \"symbol\": \"circle\"}, \"mode\": \"markers\", \"name\": \"Europe\", \"showlegend\": true, \"x\": [7.37, 5.76, 6.63, 2.61, 4.69, 3.28, 5.98, 8.0, 4.21, 7.02, 3.06, 2.96, 3.18, 6.56, 4.66, 3.32, 3.6, 6.62, 3.39, 4.5, 2.97, 2.22, 4.53, 2.81], \"xaxis\": \"x\", \"y\": [33.34449714633272, 126.68458986586317, 15.622507515978953, 32.25558288943097, 27.254475033386733, 11.598300124138056, 52.5921024605819, 28.615211170973268, 7.737003046701296, 10.134320695971914, 16.96957355461657, 59.13251163179771, 79.87584840785193, 8.603590636855703, 47.71871626780402, 77.7087040190373, 11.102045486021208, 9.479035375444052, 36.95864580409467, 24.18529418024429, 139.71481612059856, 58.036908920842464, 44.384206126828694, 17.043303012046056], \"yaxis\": \"y\", \"type\": \"scatter\"}, {\"hovertemplate\": \"<b>%{hovertext}</b><br><br>Continent=North America<br>Day=19<br>Hospital_beds_per100_2017=%{x}<br>Dead_per_million=%{y}<br>popData2018=%{marker.size}<extra></extra>\", \"hovertext\": [\"Canada\", \"USA\"], \"ids\": [\"Canada\", \"USA\"], \"legendgroup\": \"North America\", \"marker\": {\"color\": \"#00cc96\", \"size\": [37058856.0, 327167434.0], \"sizemode\": \"area\", \"sizeref\": 460406.6115702479, \"symbol\": \"circle\"}, \"mode\": \"markers\", \"name\": \"North America\", \"showlegend\": true, \"x\": [2.52, 2.77], \"xaxis\": \"x\", \"y\": [21.04760060591185, 45.28873738698577], \"yaxis\": \"y\", \"type\": \"scatter\"}, {\"hovertemplate\": \"<b>%{hovertext}</b><br><br>Continent=Asia<br>Day=19<br>Hospital_beds_per100_2017=%{x}<br>Dead_per_million=%{y}<br>popData2018=%{marker.size}<extra></extra>\", \"hovertext\": [\"China\", \"South_Korea\"], \"ids\": [\"China\", \"South_Korea\"], \"legendgroup\": \"Asia\", \"marker\": {\"color\": \"#ab63fa\", \"size\": [1392730000.0, 51635256.0], \"sizemode\": \"area\", \"sizeref\": 460406.6115702479, \"symbol\": \"circle\"}, \"mode\": \"markers\", \"name\": \"Asia\", \"showlegend\": true, \"x\": [4.34, 12.27], \"xaxis\": \"x\", \"y\": [2.141836536873622, 2.788792215923167], \"yaxis\": \"y\", \"type\": \"scatter\"}], \"name\": \"19\"}, {\"data\": [{\"hovertemplate\": \"<b>%{hovertext}</b><br><br>Continent=Europe<br>Day=20<br>Hospital_beds_per100_2017=%{x}<br>Dead_per_million=%{y}<br>popData2018=%{marker.size}<extra></extra>\", \"hovertext\": [\"Austria\", \"Belgium\", \"Czech_Republic\", \"Denmark\", \"Estonia\", \"Finland\", \"France\", \"Germany\", \"Greece\", \"Hungary\", \"Iceland\", \"Ireland\", \"Italy\", \"Lithuania\", \"Luxembourg\", \"Netherlands\", \"Norway\", \"Portugal\", \"Slovenia\", \"Spain\", \"Sweden\", \"Switzerland\", \"Turkey\"], \"ids\": [\"Austria\", \"Belgium\", \"Czech_Republic\", \"Denmark\", \"Estonia\", \"Finland\", \"France\", \"Germany\", \"Greece\", \"Hungary\", \"Iceland\", \"Ireland\", \"Italy\", \"Lithuania\", \"Luxembourg\", \"Netherlands\", \"Norway\", \"Portugal\", \"Slovenia\", \"Spain\", \"Sweden\", \"Switzerland\", \"Turkey\"], \"legendgroup\": \"Europe\", \"marker\": {\"color\": \"#EF553B\", \"size\": [8847037.0, 11422068.0, 10625695.0, 5797446.0, 1320884.0, 5518050.0, 66987244.0, 82927922.0, 10727668.0, 9768785.0, 353574.0, 4853506.0, 60431283.0, 2789533.0, 607728.0, 17231017.0, 5314336.0, 10281762.0, 2067372.0, 46723749.0, 10183175.0, 8516543.0, 82319724.0], \"sizemode\": \"area\", \"sizeref\": 460406.6115702479, \"symbol\": \"circle\"}, \"mode\": \"markers\", \"name\": \"Europe\", \"showlegend\": true, \"x\": [7.37, 5.76, 6.63, 2.61, 4.69, 3.28, 5.98, 8.0, 4.21, 7.02, 3.06, 2.96, 3.18, 6.56, 4.66, 3.32, 3.6, 3.39, 4.5, 2.97, 2.22, 4.53, 2.81], \"xaxis\": \"x\", \"y\": [36.05726979552589, 142.881306607525, 15.904841989159298, 35.01541885858014, 28.768612535241548, 13.048087639655312, 60.19056404231229, 30.67724282299031, 8.016653759232668, 11.157989453140795, 16.96957355461657, 65.93172028632497, 90.61531922133773, 8.603590636855703, 49.36418924255588, 86.29786622577183, 12.983748110770565, 39.77917403651242, 25.636411831058947, 157.09355856697204, 67.46422407549709, 50.72480700208993, 18.440295062213767], \"yaxis\": \"y\", \"type\": \"scatter\"}, {\"hovertemplate\": \"<b>%{hovertext}</b><br><br>Continent=North America<br>Day=20<br>Hospital_beds_per100_2017=%{x}<br>Dead_per_million=%{y}<br>popData2018=%{marker.size}<extra></extra>\", \"hovertext\": [\"Canada\", \"USA\"], \"ids\": [\"Canada\", \"USA\"], \"legendgroup\": \"North America\", \"marker\": {\"color\": \"#00cc96\", \"size\": [37058856.0, 327167434.0], \"sizemode\": \"area\", \"sizeref\": 460406.6115702479, \"symbol\": \"circle\"}, \"mode\": \"markers\", \"name\": \"North America\", \"showlegend\": true, \"x\": [2.52, 2.77], \"xaxis\": \"x\", \"y\": [24.366645316844103, 51.013634810608934], \"yaxis\": \"y\", \"type\": \"scatter\"}, {\"hovertemplate\": \"<b>%{hovertext}</b><br><br>Continent=Asia<br>Day=20<br>Hospital_beds_per100_2017=%{x}<br>Dead_per_million=%{y}<br>popData2018=%{marker.size}<extra></extra>\", \"hovertext\": [\"China\", \"South_Korea\"], \"ids\": [\"China\", \"South_Korea\"], \"legendgroup\": \"Asia\", \"marker\": {\"color\": \"#ab63fa\", \"size\": [1392730000.0, 51635256.0], \"sizemode\": \"area\", \"sizeref\": 460406.6115702479, \"symbol\": \"circle\"}, \"mode\": \"markers\", \"name\": \"Asia\", \"showlegend\": true, \"x\": [4.34, 12.27], \"xaxis\": \"x\", \"y\": [2.1640949789262813, 2.943725116807787], \"yaxis\": \"y\", \"type\": \"scatter\"}], \"name\": \"20\"}, {\"data\": [{\"hovertemplate\": \"<b>%{hovertext}</b><br><br>Continent=Europe<br>Day=21<br>Hospital_beds_per100_2017=%{x}<br>Dead_per_million=%{y}<br>popData2018=%{marker.size}<extra></extra>\", \"hovertext\": [\"Austria\", \"Belgium\", \"Czech_Republic\", \"Denmark\", \"Estonia\", \"Finland\", \"France\", \"Germany\", \"Greece\", \"Hungary\", \"Iceland\", \"Ireland\", \"Italy\", \"Lithuania\", \"Luxembourg\", \"Netherlands\", \"Norway\", \"Portugal\", \"Slovenia\", \"Spain\", \"Sweden\", \"Switzerland\", \"Turkey\"], \"ids\": [\"Austria\", \"Belgium\", \"Czech_Republic\", \"Denmark\", \"Estonia\", \"Finland\", \"France\", \"Germany\", \"Greece\", \"Hungary\", \"Iceland\", \"Ireland\", \"Italy\", \"Lithuania\", \"Luxembourg\", \"Netherlands\", \"Norway\", \"Portugal\", \"Slovenia\", \"Spain\", \"Sweden\", \"Switzerland\", \"Turkey\"], \"legendgroup\": \"Europe\", \"marker\": {\"color\": \"#EF553B\", \"size\": [8847037.0, 11422068.0, 10625695.0, 5797446.0, 1320884.0, 5518050.0, 66987244.0, 82927922.0, 10727668.0, 9768785.0, 353574.0, 4853506.0, 60431283.0, 2789533.0, 607728.0, 17231017.0, 5314336.0, 10281762.0, 2067372.0, 46723749.0, 10183175.0, 8516543.0, 82319724.0], \"sizemode\": \"area\", \"sizeref\": 460406.6115702479, \"symbol\": \"circle\"}, \"mode\": \"markers\", \"name\": \"Europe\", \"showlegend\": true, \"x\": [7.37, 5.76, 6.63, 2.61, 4.69, 3.28, 5.98, 8.0, 4.21, 7.02, 3.06, 2.96, 3.18, 6.56, 4.66, 3.32, 3.6, 3.39, 4.5, 2.97, 2.22, 4.53, 2.81], \"xaxis\": \"x\", \"y\": [38.09184928242077, 178.16388415828027, 16.281287953399755, 37.60276507965749, 28.768612535241548, 13.591757957974286, 67.22175344308836, 32.23281056047684, 8.389521375941165, 12.48875883746034, 16.96957355461657, 68.8162330488517, 100.56049943536695, 8.603590636855703, 51.00966221730774, 95.81558650891007, 15.053620997994859, 42.30792348626626, 26.60382359826872, 175.26418952383295, 77.87355122542822, 56.830570807897054, 19.958764681961277], \"yaxis\": \"y\", \"type\": \"scatter\"}, {\"hovertemplate\": \"<b>%{hovertext}</b><br><br>Continent=North America<br>Day=21<br>Hospital_beds_per100_2017=%{x}<br>Dead_per_million=%{y}<br>popData2018=%{marker.size}<extra></extra>\", \"hovertext\": [\"Canada\", \"USA\"], \"ids\": [\"Canada\", \"USA\"], \"legendgroup\": \"North America\", \"marker\": {\"color\": \"#00cc96\", \"size\": [37058856.0, 327167434.0], \"sizemode\": \"area\", \"sizeref\": 460406.6115702479, \"symbol\": \"circle\"}, \"mode\": \"markers\", \"name\": \"North America\", \"showlegend\": true, \"x\": [2.52, 2.77], \"xaxis\": \"x\", \"y\": [27.253944374321755, 57.39263156613564], \"yaxis\": \"y\", \"type\": \"scatter\"}, {\"hovertemplate\": \"<b>%{hovertext}</b><br><br>Continent=Asia<br>Day=21<br>Hospital_beds_per100_2017=%{x}<br>Dead_per_million=%{y}<br>popData2018=%{marker.size}<extra></extra>\", \"hovertext\": [\"China\", \"South_Korea\"], \"ids\": [\"China\", \"South_Korea\"], \"legendgroup\": \"Asia\", \"marker\": {\"color\": \"#ab63fa\", \"size\": [1392730000.0, 51635256.0], \"sizemode\": \"area\", \"sizeref\": 460406.6115702479, \"symbol\": \"circle\"}, \"mode\": \"markers\", \"name\": \"Asia\", \"showlegend\": true, \"x\": [4.34, 12.27], \"xaxis\": \"x\", \"y\": [2.1856354067191774, 3.0599247924712527], \"yaxis\": \"y\", \"type\": \"scatter\"}], \"name\": \"21\"}, {\"data\": [{\"hovertemplate\": \"<b>%{hovertext}</b><br><br>Continent=Europe<br>Day=22<br>Hospital_beds_per100_2017=%{x}<br>Dead_per_million=%{y}<br>popData2018=%{marker.size}<extra></extra>\", \"hovertext\": [\"Austria\", \"Belgium\", \"Czech_Republic\", \"Denmark\", \"Estonia\", \"Finland\", \"France\", \"Germany\", \"Greece\", \"Hungary\", \"Iceland\", \"Ireland\", \"Italy\", \"Lithuania\", \"Luxembourg\", \"Netherlands\", \"Norway\", \"Portugal\", \"Slovenia\", \"Spain\", \"Sweden\", \"Switzerland\", \"Turkey\"], \"ids\": [\"Austria\", \"Belgium\", \"Czech_Republic\", \"Denmark\", \"Estonia\", \"Finland\", \"France\", \"Germany\", \"Greece\", \"Hungary\", \"Iceland\", \"Ireland\", \"Italy\", \"Lithuania\", \"Luxembourg\", \"Netherlands\", \"Norway\", \"Portugal\", \"Slovenia\", \"Spain\", \"Sweden\", \"Switzerland\", \"Turkey\"], \"legendgroup\": \"Europe\", \"marker\": {\"color\": \"#EF553B\", \"size\": [8847037.0, 11422068.0, 10625695.0, 5797446.0, 1320884.0, 5518050.0, 66987244.0, 82927922.0, 10727668.0, 9768785.0, 353574.0, 4853506.0, 60431283.0, 2789533.0, 607728.0, 17231017.0, 5314336.0, 10281762.0, 2067372.0, 46723749.0, 10183175.0, 8516543.0, 82319724.0], \"sizemode\": \"area\", \"sizeref\": 460406.6115702479, \"symbol\": \"circle\"}, \"mode\": \"markers\", \"name\": \"Europe\", \"showlegend\": true, \"x\": [7.37, 5.76, 6.63, 2.61, 4.69, 3.28, 5.98, 8.0, 4.21, 7.02, 3.06, 2.96, 3.18, 6.56, 4.66, 3.32, 3.6, 3.39, 4.5, 2.97, 2.22, 4.53, 2.81], \"xaxis\": \"x\", \"y\": [39.56126780073374, 196.1115973044461, 17.034179881880668, 40.880070293022136, 30.282750037096367, 14.860322034051885, 97.13789688078525, 33.75220230406835, 8.669172088472537, 13.717161346062996, 16.96957355461657, 75.20336845158944, 112.85545600612187, 10.396005352867308, 51.00966221730774, 102.48959768306189, 16.558983097794343, 45.71200928401183, 27.087529481873606, 193.75585636332394, 85.43504358905744, 63.406008752612415, 21.489382058666767], \"yaxis\": \"y\", \"type\": \"scatter\"}, {\"hovertemplate\": \"<b>%{hovertext}</b><br><br>Continent=North America<br>Day=22<br>Hospital_beds_per100_2017=%{x}<br>Dead_per_million=%{y}<br>popData2018=%{marker.size}<extra></extra>\", \"hovertext\": [\"Canada\", \"USA\"], \"ids\": [\"Canada\", \"USA\"], \"legendgroup\": \"North America\", \"marker\": {\"color\": \"#00cc96\", \"size\": [37058856.0, 327167434.0], \"sizemode\": \"area\", \"sizeref\": 460406.6115702479, \"symbol\": \"circle\"}, \"mode\": \"markers\", \"name\": \"North America\", \"showlegend\": true, \"x\": [2.52, 2.77], \"xaxis\": \"x\", \"y\": [32.19203528570877, 62.9891543545254], \"yaxis\": \"y\", \"type\": \"scatter\"}, {\"hovertemplate\": \"<b>%{hovertext}</b><br><br>Continent=Asia<br>Day=22<br>Hospital_beds_per100_2017=%{x}<br>Dead_per_million=%{y}<br>popData2018=%{marker.size}<extra></extra>\", \"hovertext\": [\"China\", \"South_Korea\"], \"ids\": [\"China\", \"South_Korea\"], \"legendgroup\": \"Asia\", \"marker\": {\"color\": \"#ab63fa\", \"size\": [1392730000.0, 51635256.0], \"sizemode\": \"area\", \"sizeref\": 460406.6115702479, \"symbol\": \"circle\"}, \"mode\": \"markers\", \"name\": \"Asia\", \"showlegend\": true, \"x\": [4.34, 12.27], \"xaxis\": \"x\", \"y\": [2.2057398059925473, 3.1567578555241402], \"yaxis\": \"y\", \"type\": \"scatter\"}], \"name\": \"22\"}, {\"data\": [{\"hovertemplate\": \"<b>%{hovertext}</b><br><br>Continent=Europe<br>Day=23<br>Hospital_beds_per100_2017=%{x}<br>Dead_per_million=%{y}<br>popData2018=%{marker.size}<extra></extra>\", \"hovertext\": [\"Austria\", \"Belgium\", \"Czech_Republic\", \"Denmark\", \"Finland\", \"France\", \"Germany\", \"Greece\", \"Hungary\", \"Iceland\", \"Ireland\", \"Italy\", \"Lithuania\", \"Luxembourg\", \"Netherlands\", \"Norway\", \"Portugal\", \"Slovenia\", \"Spain\", \"Sweden\", \"Switzerland\", \"Turkey\"], \"ids\": [\"Austria\", \"Belgium\", \"Czech_Republic\", \"Denmark\", \"Finland\", \"France\", \"Germany\", \"Greece\", \"Hungary\", \"Iceland\", \"Ireland\", \"Italy\", \"Lithuania\", \"Luxembourg\", \"Netherlands\", \"Norway\", \"Portugal\", \"Slovenia\", \"Spain\", \"Sweden\", \"Switzerland\", \"Turkey\"], \"legendgroup\": \"Europe\", \"marker\": {\"color\": \"#EF553B\", \"size\": [8847037.0, 11422068.0, 10625695.0, 5797446.0, 5518050.0, 66987244.0, 82927922.0, 10727668.0, 9768785.0, 353574.0, 4853506.0, 60431283.0, 2789533.0, 607728.0, 17231017.0, 5314336.0, 10281762.0, 2067372.0, 46723749.0, 10183175.0, 8516543.0, 82319724.0], \"sizemode\": \"area\", \"sizeref\": 460406.6115702479, \"symbol\": \"circle\"}, \"mode\": \"markers\", \"name\": \"Europe\", \"showlegend\": true, \"x\": [7.37, 5.76, 6.63, 2.61, 3.28, 5.98, 8.0, 4.21, 7.02, 3.06, 2.96, 3.18, 6.56, 4.66, 3.32, 3.6, 3.39, 4.5, 2.97, 2.22, 4.53, 2.81], \"xaxis\": \"x\", \"y\": [41.595847287628615, 220.88819642817745, 17.692960319301466, 42.60496777374036, 16.31010954956914, 112.85730757933555, 35.8021752914537, 9.135256609358157, 14.536096351798099, 19.797835813719335, 83.65087011327482, 124.19064476920009, 11.471454182474272, 59.237027091067056, 108.35112054036044, 17.311664147694085, 49.01883548753609, 29.506058899898036, 214.08812892989386, 87.10446398102754, 65.63696091242656, 22.959260650582358], \"yaxis\": \"y\", \"type\": \"scatter\"}, {\"hovertemplate\": \"<b>%{hovertext}</b><br><br>Continent=North America<br>Day=23<br>Hospital_beds_per100_2017=%{x}<br>Dead_per_million=%{y}<br>popData2018=%{marker.size}<extra></extra>\", \"hovertext\": [\"Canada\", \"USA\"], \"ids\": [\"Canada\", \"USA\"], \"legendgroup\": \"North America\", \"marker\": {\"color\": \"#00cc96\", \"size\": [37058856.0, 327167434.0], \"sizemode\": \"area\", \"sizeref\": 460406.6115702479, \"symbol\": \"circle\"}, \"mode\": \"markers\", \"name\": \"North America\", \"showlegend\": true, \"x\": [2.52, 2.77], \"xaxis\": \"x\", \"y\": [35.32219127325463, 67.57396275571853], \"yaxis\": \"y\", \"type\": \"scatter\"}, {\"hovertemplate\": \"<b>%{hovertext}</b><br><br>Continent=Asia<br>Day=23<br>Hospital_beds_per100_2017=%{x}<br>Dead_per_million=%{y}<br>popData2018=%{marker.size}<extra></extra>\", \"hovertext\": [\"China\", \"South_Korea\"], \"ids\": [\"China\", \"South_Korea\"], \"legendgroup\": \"Asia\", \"marker\": {\"color\": \"#ab63fa\", \"size\": [1392730000.0, 51635256.0], \"sizemode\": \"area\", \"sizeref\": 460406.6115702479, \"symbol\": \"circle\"}, \"mode\": \"markers\", \"name\": \"Asia\", \"showlegend\": true, \"x\": [4.34, 12.27], \"xaxis\": \"x\", \"y\": [2.225126191006153, 3.1567578555241402], \"yaxis\": \"y\", \"type\": \"scatter\"}], \"name\": \"23\"}, {\"data\": [{\"hovertemplate\": \"<b>%{hovertext}</b><br><br>Continent=Europe<br>Day=24<br>Hospital_beds_per100_2017=%{x}<br>Dead_per_million=%{y}<br>popData2018=%{marker.size}<extra></extra>\", \"hovertext\": [\"Austria\", \"Belgium\", \"Denmark\", \"Finland\", \"France\", \"Germany\", \"Greece\", \"Hungary\", \"Iceland\", \"Ireland\", \"Italy\", \"Lithuania\", \"Luxembourg\", \"Netherlands\", \"Norway\", \"Portugal\", \"Slovenia\", \"Spain\", \"Sweden\", \"Switzerland\", \"Turkey\"], \"ids\": [\"Austria\", \"Belgium\", \"Denmark\", \"Finland\", \"France\", \"Germany\", \"Greece\", \"Hungary\", \"Iceland\", \"Ireland\", \"Italy\", \"Lithuania\", \"Luxembourg\", \"Netherlands\", \"Norway\", \"Portugal\", \"Slovenia\", \"Spain\", \"Sweden\", \"Switzerland\", \"Turkey\"], \"legendgroup\": \"Europe\", \"marker\": {\"color\": \"#EF553B\", \"size\": [8847037.0, 11422068.0, 5797446.0, 5518050.0, 66987244.0, 82927922.0, 10727668.0, 9768785.0, 353574.0, 4853506.0, 60431283.0, 2789533.0, 607728.0, 17231017.0, 5314336.0, 10281762.0, 2067372.0, 46723749.0, 10183175.0, 8516543.0, 82319724.0], \"sizemode\": \"area\", \"sizeref\": 460406.6115702479, \"symbol\": \"circle\"}, \"mode\": \"markers\", \"name\": \"Europe\", \"showlegend\": true, \"x\": [7.37, 5.76, 2.61, 3.28, 5.98, 8.0, 4.21, 7.02, 3.06, 2.96, 3.18, 6.56, 4.66, 3.32, 3.6, 3.39, 4.5, 2.97, 2.22, 4.53, 2.81], \"xaxis\": \"x\", \"y\": [43.40436238709073, 264.3129072598762, 44.84733449867407, 17.03500330732777, 120.5901230986604, 39.238894711482104, 9.228473513535281, 15.969232611834531, 22.626098072822096, 91.48026189727591, 135.11214051172803, 11.829937125676592, 67.46439196482638, 121.93128240776501, 18.4406857225437, 52.03388290839644, 29.506058899898036, 234.03515843730776, 88.28287837535935, 68.57242428060306, 24.502025784245827], \"yaxis\": \"y\", \"type\": \"scatter\"}, {\"hovertemplate\": \"<b>%{hovertext}</b><br><br>Continent=North America<br>Day=24<br>Hospital_beds_per100_2017=%{x}<br>Dead_per_million=%{y}<br>popData2018=%{marker.size}<extra></extra>\", \"hovertext\": [\"Canada\", \"USA\"], \"ids\": [\"Canada\", \"USA\"], \"legendgroup\": \"North America\", \"marker\": {\"color\": \"#00cc96\", \"size\": [37058856.0, 327167434.0], \"sizemode\": \"area\", \"sizeref\": 460406.6115702479, \"symbol\": \"circle\"}, \"mode\": \"markers\", \"name\": \"North America\", \"showlegend\": true, \"x\": [2.52, 2.77], \"xaxis\": \"x\", \"y\": [39.58567960111883, 72.28408925321094], \"yaxis\": \"y\", \"type\": \"scatter\"}, {\"hovertemplate\": \"<b>%{hovertext}</b><br><br>Continent=Asia<br>Day=24<br>Hospital_beds_per100_2017=%{x}<br>Dead_per_million=%{y}<br>popData2018=%{marker.size}<extra></extra>\", \"hovertext\": [\"China\", \"South_Korea\"], \"ids\": [\"China\", \"South_Korea\"], \"legendgroup\": \"Asia\", \"marker\": {\"color\": \"#ab63fa\", \"size\": [1392730000.0, 51635256.0], \"sizemode\": \"area\", \"sizeref\": 460406.6115702479, \"symbol\": \"circle\"}, \"mode\": \"markers\", \"name\": \"Asia\", \"showlegend\": true, \"x\": [4.34, 12.27], \"xaxis\": \"x\", \"y\": [2.241640518980707, 3.2729575311876054], \"yaxis\": \"y\", \"type\": \"scatter\"}], \"name\": \"24\"}, {\"data\": [{\"hovertemplate\": \"<b>%{hovertext}</b><br><br>Continent=Europe<br>Day=25<br>Hospital_beds_per100_2017=%{x}<br>Dead_per_million=%{y}<br>popData2018=%{marker.size}<extra></extra>\", \"hovertext\": [\"Austria\", \"Belgium\", \"Denmark\", \"France\", \"Germany\", \"Greece\", \"Hungary\", \"Iceland\", \"Ireland\", \"Italy\", \"Lithuania\", \"Luxembourg\", \"Netherlands\", \"Norway\", \"Portugal\", \"Slovenia\", \"Spain\", \"Sweden\", \"Switzerland\"], \"ids\": [\"Austria\", \"Belgium\", \"Denmark\", \"France\", \"Germany\", \"Greece\", \"Hungary\", \"Iceland\", \"Ireland\", \"Italy\", \"Lithuania\", \"Luxembourg\", \"Netherlands\", \"Norway\", \"Portugal\", \"Slovenia\", \"Spain\", \"Sweden\", \"Switzerland\"], \"legendgroup\": \"Europe\", \"marker\": {\"color\": \"#EF553B\", \"size\": [8847037.0, 11422068.0, 5797446.0, 66987244.0, 82927922.0, 10727668.0, 9768785.0, 353574.0, 4853506.0, 60431283.0, 2789533.0, 607728.0, 17231017.0, 5314336.0, 10281762.0, 2067372.0, 46723749.0, 10183175.0, 8516543.0], \"sizemode\": \"area\", \"sizeref\": 460406.6115702479, \"symbol\": \"circle\"}, \"mode\": \"markers\", \"name\": \"Europe\", \"showlegend\": true, \"x\": [7.37, 5.76, 2.61, 5.98, 8.0, 4.21, 7.02, 3.06, 2.96, 3.18, 6.56, 4.66, 3.32, 3.6, 3.39, 4.5, 2.97, 2.22, 4.53], \"xaxis\": \"x\", \"y\": [44.42165213053817, 292.94169847351634, 47.089701223607776, 133.0253264337909, 43.03737407046086, 9.41490732188953, 17.60710262330474, 22.626098072822096, 100.13380018485607, 151.17997742990167, 11.829937125676592, 72.40081088908195, 130.4624097347243, 19.38153703491838, 55.1461899234781, 31.924588317922463, 251.34969370715524, 90.24690236591239, 75.26528076004548], \"yaxis\": \"y\", \"type\": \"scatter\"}, {\"hovertemplate\": \"<b>%{hovertext}</b><br><br>Continent=North America<br>Day=25<br>Hospital_beds_per100_2017=%{x}<br>Dead_per_million=%{y}<br>popData2018=%{marker.size}<extra></extra>\", \"hovertext\": [\"Canada\", \"USA\"], \"ids\": [\"Canada\", \"USA\"], \"legendgroup\": \"North America\", \"marker\": {\"color\": \"#00cc96\", \"size\": [37058856.0, 327167434.0], \"sizemode\": \"area\", \"sizeref\": 460406.6115702479, \"symbol\": \"circle\"}, \"mode\": \"markers\", \"name\": \"North America\", \"showlegend\": true, \"x\": [2.52, 2.77], \"xaxis\": \"x\", \"y\": [42.63488327864195, 79.644235006593], \"yaxis\": \"y\", \"type\": \"scatter\"}, {\"hovertemplate\": \"<b>%{hovertext}</b><br><br>Continent=Asia<br>Day=25<br>Hospital_beds_per100_2017=%{x}<br>Dead_per_million=%{y}<br>popData2018=%{marker.size}<extra></extra>\", \"hovertext\": [\"China\", \"South_Korea\"], \"ids\": [\"China\", \"South_Korea\"], \"legendgroup\": \"Asia\", \"marker\": {\"color\": \"#ab63fa\", \"size\": [1392730000.0, 51635256.0], \"sizemode\": \"area\", \"sizeref\": 460406.6115702479, \"symbol\": \"circle\"}, \"mode\": \"markers\", \"name\": \"Asia\", \"showlegend\": true, \"x\": [4.34, 12.27], \"xaxis\": \"x\", \"y\": [2.253846761396681, 3.3697905942404933], \"yaxis\": \"y\", \"type\": \"scatter\"}], \"name\": \"25\"}, {\"data\": [{\"hovertemplate\": \"<b>%{hovertext}</b><br><br>Continent=Europe<br>Day=26<br>Hospital_beds_per100_2017=%{x}<br>Dead_per_million=%{y}<br>popData2018=%{marker.size}<extra></extra>\", \"hovertext\": [\"Austria\", \"Belgium\", \"Denmark\", \"France\", \"Germany\", \"Greece\", \"Hungary\", \"Iceland\", \"Ireland\", \"Italy\", \"Lithuania\", \"Luxembourg\", \"Netherlands\", \"Norway\", \"Portugal\", \"Slovenia\", \"Spain\", \"Sweden\", \"Switzerland\"], \"ids\": [\"Austria\", \"Belgium\", \"Denmark\", \"France\", \"Germany\", \"Greece\", \"Hungary\", \"Iceland\", \"Ireland\", \"Italy\", \"Lithuania\", \"Luxembourg\", \"Netherlands\", \"Norway\", \"Portugal\", \"Slovenia\", \"Spain\", \"Sweden\", \"Switzerland\"], \"legendgroup\": \"Europe\", \"marker\": {\"color\": \"#EF553B\", \"size\": [8847037.0, 11422068.0, 5797446.0, 66987244.0, 82927922.0, 10727668.0, 9768785.0, 353574.0, 4853506.0, 60431283.0, 2789533.0, 607728.0, 17231017.0, 5314336.0, 10281762.0, 2067372.0, 46723749.0, 10183175.0, 8516543.0], \"sizemode\": \"area\", \"sizeref\": 460406.6115702479, \"symbol\": \"circle\"}, \"mode\": \"markers\", \"name\": \"Europe\", \"showlegend\": true, \"x\": [7.37, 5.76, 2.61, 5.98, 8.0, 4.21, 7.02, 3.06, 2.96, 3.18, 6.56, 4.66, 3.32, 3.6, 3.39, 4.5, 2.97, 2.22, 4.53], \"xaxis\": \"x\", \"y\": [46.34319942371666, 315.179352810717, 49.15957820046965, 154.17860749727217, 46.64291479533274, 9.508124226066654, 19.347339510491835, 22.626098072822096, 109.19941172422574, 165.85780579902632, 12.905385955283556, 75.69175683858569, 139.05157194145883, 21.451409922142673, 58.25849693855975, 33.85941185234201, 265.77490603333223, 101.44183911206476, 82.78006698257732], \"yaxis\": \"y\", \"type\": \"scatter\"}, {\"hovertemplate\": \"<b>%{hovertext}</b><br><br>Continent=North America<br>Day=26<br>Hospital_beds_per100_2017=%{x}<br>Dead_per_million=%{y}<br>popData2018=%{marker.size}<extra></extra>\", \"hovertext\": [\"USA\"], \"ids\": [\"USA\"], \"legendgroup\": \"North America\", \"marker\": {\"color\": \"#00cc96\", \"size\": [327167434.0], \"sizemode\": \"area\", \"sizeref\": 460406.6115702479, \"symbol\": \"circle\"}, \"mode\": \"markers\", \"name\": \"North America\", \"showlegend\": true, \"x\": [2.77], \"xaxis\": \"x\", \"y\": [94.70685887397948], \"yaxis\": \"y\", \"type\": \"scatter\"}, {\"hovertemplate\": \"<b>%{hovertext}</b><br><br>Continent=Asia<br>Day=26<br>Hospital_beds_per100_2017=%{x}<br>Dead_per_million=%{y}<br>popData2018=%{marker.size}<extra></extra>\", \"hovertext\": [\"China\", \"South_Korea\"], \"ids\": [\"China\", \"South_Korea\"], \"legendgroup\": \"Asia\", \"marker\": {\"color\": \"#ab63fa\", \"size\": [1392730000.0, 51635256.0], \"sizemode\": \"area\", \"sizeref\": 460406.6115702479, \"symbol\": \"circle\"}, \"mode\": \"markers\", \"name\": \"Asia\", \"showlegend\": true, \"x\": [4.34, 12.27], \"xaxis\": \"x\", \"y\": [2.2696430751114716, 3.427890432072226], \"yaxis\": \"y\", \"type\": \"scatter\"}], \"name\": \"26\"}, {\"data\": [{\"hovertemplate\": \"<b>%{hovertext}</b><br><br>Continent=Europe<br>Day=27<br>Hospital_beds_per100_2017=%{x}<br>Dead_per_million=%{y}<br>popData2018=%{marker.size}<extra></extra>\", \"hovertext\": [\"Austria\", \"Belgium\", \"Denmark\", \"France\", \"Germany\", \"Greece\", \"Hungary\", \"Iceland\", \"Ireland\", \"Italy\", \"Luxembourg\", \"Netherlands\", \"Norway\", \"Portugal\", \"Slovenia\", \"Spain\", \"Sweden\", \"Switzerland\"], \"ids\": [\"Austria\", \"Belgium\", \"Denmark\", \"France\", \"Germany\", \"Greece\", \"Hungary\", \"Iceland\", \"Ireland\", \"Italy\", \"Luxembourg\", \"Netherlands\", \"Norway\", \"Portugal\", \"Slovenia\", \"Spain\", \"Sweden\", \"Switzerland\"], \"legendgroup\": \"Europe\", \"marker\": {\"color\": \"#EF553B\", \"size\": [8847037.0, 11422068.0, 5797446.0, 66987244.0, 82927922.0, 10727668.0, 9768785.0, 353574.0, 4853506.0, 60431283.0, 607728.0, 17231017.0, 5314336.0, 10281762.0, 2067372.0, 46723749.0, 10183175.0, 8516543.0], \"sizemode\": \"area\", \"sizeref\": 460406.6115702479, \"symbol\": \"circle\"}, \"mode\": \"markers\", \"name\": \"Europe\", \"showlegend\": true, \"x\": [7.37, 5.76, 2.61, 5.98, 8.0, 4.21, 7.02, 3.06, 2.96, 3.18, 4.66, 3.32, 3.6, 3.39, 4.5, 2.97, 2.22, 4.53], \"xaxis\": \"x\", \"y\": [48.71687549176069, 341.70694833895226, 51.57443467347518, 162.25477196822726, 49.561111636198966, 9.787774938598025, 20.371008267660716, 22.626098072822096, 117.64691338591113, 178.4009781821114, 85.56459468709686, 145.72558311561065, 23.897623334316837, 61.17628476519881, 35.79423538676155, 279.4082298490217, 118.13604303176564, 88.76841225365739], \"yaxis\": \"y\", \"type\": \"scatter\"}, {\"hovertemplate\": \"<b>%{hovertext}</b><br><br>Continent=North America<br>Day=27<br>Hospital_beds_per100_2017=%{x}<br>Dead_per_million=%{y}<br>popData2018=%{marker.size}<extra></extra>\", \"hovertext\": [\"USA\"], \"ids\": [\"USA\"], \"legendgroup\": \"North America\", \"marker\": {\"color\": \"#00cc96\", \"size\": [327167434.0], \"sizemode\": \"area\", \"sizeref\": 460406.6115702479, \"symbol\": \"circle\"}, \"mode\": \"markers\", \"name\": \"North America\", \"showlegend\": true, \"x\": [2.77], \"xaxis\": \"x\", \"y\": [101.7338418835415], \"yaxis\": \"y\", \"type\": \"scatter\"}, {\"hovertemplate\": \"<b>%{hovertext}</b><br><br>Continent=Asia<br>Day=27<br>Hospital_beds_per100_2017=%{x}<br>Dead_per_million=%{y}<br>popData2018=%{marker.size}<extra></extra>\", \"hovertext\": [\"China\", \"South_Korea\"], \"ids\": [\"China\", \"South_Korea\"], \"legendgroup\": \"Asia\", \"marker\": {\"color\": \"#ab63fa\", \"size\": [1392730000.0, 51635256.0], \"sizemode\": \"area\", \"sizeref\": 460406.6115702479, \"symbol\": \"circle\"}, \"mode\": \"markers\", \"name\": \"Asia\", \"showlegend\": true, \"x\": [4.34, 12.27], \"xaxis\": \"x\", \"y\": [2.2775412319688666, 3.544090107735691], \"yaxis\": \"y\", \"type\": \"scatter\"}], \"name\": \"27\"}, {\"data\": [{\"hovertemplate\": \"<b>%{hovertext}</b><br><br>Continent=Europe<br>Day=28<br>Hospital_beds_per100_2017=%{x}<br>Dead_per_million=%{y}<br>popData2018=%{marker.size}<extra></extra>\", \"hovertext\": [\"Austria\", \"Belgium\", \"Denmark\", \"France\", \"Germany\", \"Greece\", \"Iceland\", \"Ireland\", \"Italy\", \"Luxembourg\", \"Netherlands\", \"Norway\", \"Portugal\", \"Spain\", \"Sweden\", \"Switzerland\"], \"ids\": [\"Austria\", \"Belgium\", \"Denmark\", \"France\", \"Germany\", \"Greece\", \"Iceland\", \"Ireland\", \"Italy\", \"Luxembourg\", \"Netherlands\", \"Norway\", \"Portugal\", \"Spain\", \"Sweden\", \"Switzerland\"], \"legendgroup\": \"Europe\", \"marker\": {\"color\": \"#EF553B\", \"size\": [8847037.0, 11422068.0, 5797446.0, 66987244.0, 82927922.0, 10727668.0, 353574.0, 4853506.0, 60431283.0, 607728.0, 17231017.0, 5314336.0, 10281762.0, 46723749.0, 10183175.0, 8516543.0], \"sizemode\": \"area\", \"sizeref\": 460406.6115702479, \"symbol\": \"circle\"}, \"mode\": \"markers\", \"name\": \"Europe\", \"showlegend\": true, \"x\": [7.37, 5.76, 2.61, 5.98, 8.0, 4.21, 3.06, 2.96, 3.18, 4.66, 3.32, 3.6, 3.39, 2.97, 2.22, 4.53], \"xaxis\": \"x\", \"y\": [50.07326181635727, 363.94460267615284, 53.299332154193415, 182.27350866979987, 51.77990592842782, 9.787774938598025, 22.626098072822096, 125.68234179580699, 191.8046320479411, 88.85554063660058, 153.38618724594141, 24.462134121741645, 63.89955340339526, 295.31020723529696, 130.90219897036042, 94.52192045528332], \"yaxis\": \"y\", \"type\": \"scatter\"}, {\"hovertemplate\": \"<b>%{hovertext}</b><br><br>Continent=North America<br>Day=28<br>Hospital_beds_per100_2017=%{x}<br>Dead_per_million=%{y}<br>popData2018=%{marker.size}<extra></extra>\", \"hovertext\": [\"USA\"], \"ids\": [\"USA\"], \"legendgroup\": \"North America\", \"marker\": {\"color\": \"#00cc96\", \"size\": [327167434.0], \"sizemode\": \"area\", \"sizeref\": 460406.6115702479, \"symbol\": \"circle\"}, \"mode\": \"markers\", \"name\": \"North America\", \"showlegend\": true, \"x\": [2.77], \"xaxis\": \"x\", \"y\": [113.2569936652069], \"yaxis\": \"y\", \"type\": \"scatter\"}, {\"hovertemplate\": \"<b>%{hovertext}</b><br><br>Continent=Asia<br>Day=28<br>Hospital_beds_per100_2017=%{x}<br>Dead_per_million=%{y}<br>popData2018=%{marker.size}<extra></extra>\", \"hovertext\": [\"China\", \"South_Korea\"], \"ids\": [\"China\", \"South_Korea\"], \"legendgroup\": \"Asia\", \"marker\": {\"color\": \"#ab63fa\", \"size\": [1392730000.0, 51635256.0], \"sizemode\": \"area\", \"sizeref\": 460406.6115702479, \"symbol\": \"circle\"}, \"mode\": \"markers\", \"name\": \"Asia\", \"showlegend\": true, \"x\": [4.34, 12.27], \"xaxis\": \"x\", \"y\": [2.2825673317872095, 3.602189945567424], \"yaxis\": \"y\", \"type\": \"scatter\"}], \"name\": \"28\"}, {\"data\": [{\"hovertemplate\": \"<b>%{hovertext}</b><br><br>Continent=Europe<br>Day=29<br>Hospital_beds_per100_2017=%{x}<br>Dead_per_million=%{y}<br>popData2018=%{marker.size}<extra></extra>\", \"hovertext\": [\"Austria\", \"Belgium\", \"Denmark\", \"France\", \"Germany\", \"Greece\", \"Iceland\", \"Italy\", \"Luxembourg\", \"Netherlands\", \"Norway\", \"Portugal\", \"Spain\", \"Sweden\", \"Switzerland\"], \"ids\": [\"Austria\", \"Belgium\", \"Denmark\", \"France\", \"Germany\", \"Greece\", \"Iceland\", \"Italy\", \"Luxembourg\", \"Netherlands\", \"Norway\", \"Portugal\", \"Spain\", \"Sweden\", \"Switzerland\"], \"legendgroup\": \"Europe\", \"marker\": {\"color\": \"#EF553B\", \"size\": [8847037.0, 11422068.0, 5797446.0, 66987244.0, 82927922.0, 10727668.0, 353574.0, 60431283.0, 607728.0, 17231017.0, 5314336.0, 10281762.0, 46723749.0, 10183175.0, 8516543.0], \"sizemode\": \"area\", \"sizeref\": 460406.6115702479, \"symbol\": \"circle\"}, \"mode\": \"markers\", \"name\": \"Europe\", \"showlegend\": true, \"x\": [7.37, 5.76, 2.61, 5.98, 8.0, 4.21, 3.06, 3.18, 4.66, 3.32, 3.6, 3.39, 2.97, 2.22, 4.53], \"xaxis\": \"x\", \"y\": [51.090551559804716, 388.7212017998842, 55.3692091310553, 197.00765715932422, 53.10635903791247, 9.787774938598025, 22.626098072822096, 205.6881698176092, 102.01932443461548, 158.84146594481336, 25.591155696591258, 66.8173412300343, 311.5118181120269, 137.48167933871312, 97.57480235818689], \"yaxis\": \"y\", \"type\": \"scatter\"}, {\"hovertemplate\": \"<b>%{hovertext}</b><br><br>Continent=North America<br>Day=29<br>Hospital_beds_per100_2017=%{x}<br>Dead_per_million=%{y}<br>popData2018=%{marker.size}<extra></extra>\", \"hovertext\": [\"USA\"], \"ids\": [\"USA\"], \"legendgroup\": \"North America\", \"marker\": {\"color\": \"#00cc96\", \"size\": [327167434.0], \"sizemode\": \"area\", \"sizeref\": 460406.6115702479, \"symbol\": \"circle\"}, \"mode\": \"markers\", \"name\": \"North America\", \"showlegend\": true, \"x\": [2.77], \"xaxis\": \"x\", \"y\": [118.92992992694988], \"yaxis\": \"y\", \"type\": \"scatter\"}, {\"hovertemplate\": \"<b>%{hovertext}</b><br><br>Continent=Asia<br>Day=29<br>Hospital_beds_per100_2017=%{x}<br>Dead_per_million=%{y}<br>popData2018=%{marker.size}<extra></extra>\", \"hovertext\": [\"China\", \"South_Korea\"], \"ids\": [\"China\", \"South_Korea\"], \"legendgroup\": \"Asia\", \"marker\": {\"color\": \"#ab63fa\", \"size\": [1392730000.0, 51635256.0], \"sizemode\": \"area\", \"sizeref\": 460406.6115702479, \"symbol\": \"circle\"}, \"mode\": \"markers\", \"name\": \"Asia\", \"showlegend\": true, \"x\": [4.34, 12.27], \"xaxis\": \"x\", \"y\": [2.293337545683657, 3.718389621230889], \"yaxis\": \"y\", \"type\": \"scatter\"}], \"name\": \"29\"}, {\"data\": [{\"hovertemplate\": \"<b>%{hovertext}</b><br><br>Continent=Europe<br>Day=30<br>Hospital_beds_per100_2017=%{x}<br>Dead_per_million=%{y}<br>popData2018=%{marker.size}<extra></extra>\", \"hovertext\": [\"Belgium\", \"Denmark\", \"France\", \"Greece\", \"Iceland\", \"Italy\", \"Luxembourg\", \"Netherlands\", \"Norway\", \"Portugal\", \"Spain\", \"Sweden\", \"Switzerland\"], \"ids\": [\"Belgium\", \"Denmark\", \"France\", \"Greece\", \"Iceland\", \"Italy\", \"Luxembourg\", \"Netherlands\", \"Norway\", \"Portugal\", \"Spain\", \"Sweden\", \"Switzerland\"], \"legendgroup\": \"Europe\", \"marker\": {\"color\": \"#EF553B\", \"size\": [11422068.0, 5797446.0, 66987244.0, 10727668.0, 353574.0, 60431283.0, 607728.0, 17231017.0, 5314336.0, 10281762.0, 46723749.0, 10183175.0, 8516543.0], \"sizemode\": \"area\", \"sizeref\": 460406.6115702479, \"symbol\": \"circle\"}, \"mode\": \"markers\", \"name\": \"Europe\", \"showlegend\": true, \"x\": [5.76, 2.61, 5.98, 4.21, 3.06, 3.18, 4.66, 3.32, 3.6, 3.39, 2.97, 2.22, 4.53], \"xaxis\": \"x\", \"y\": [425.22947683379226, 57.956555352132646, 206.4870738673769, 10.253859459483646, 22.626098072822096, 217.71836285521192, 108.60121633362293, 163.8324656054834, 25.591155696591258, 69.44335027400946, 326.1296519677819, 148.38201248628252, 100.74510279581752], \"yaxis\": \"y\", \"type\": \"scatter\"}, {\"hovertemplate\": \"<b>%{hovertext}</b><br><br>Continent=North America<br>Day=30<br>Hospital_beds_per100_2017=%{x}<br>Dead_per_million=%{y}<br>popData2018=%{marker.size}<extra></extra>\", \"hovertext\": [\"USA\"], \"ids\": [\"USA\"], \"legendgroup\": \"North America\", \"marker\": {\"color\": \"#00cc96\", \"size\": [327167434.0], \"sizemode\": \"area\", \"sizeref\": 460406.6115702479, \"symbol\": \"circle\"}, \"mode\": \"markers\", \"name\": \"North America\", \"showlegend\": true, \"x\": [2.77], \"xaxis\": \"x\", \"y\": [124.34611691822603], \"yaxis\": \"y\", \"type\": \"scatter\"}, {\"hovertemplate\": \"<b>%{hovertext}</b><br><br>Continent=Asia<br>Day=30<br>Hospital_beds_per100_2017=%{x}<br>Dead_per_million=%{y}<br>popData2018=%{marker.size}<extra></extra>\", \"hovertext\": [\"China\", \"South_Korea\"], \"ids\": [\"China\", \"South_Korea\"], \"legendgroup\": \"Asia\", \"marker\": {\"color\": \"#ab63fa\", \"size\": [1392730000.0, 51635256.0], \"sizemode\": \"area\", \"sizeref\": 460406.6115702479, \"symbol\": \"circle\"}, \"mode\": \"markers\", \"name\": \"Asia\", \"showlegend\": true, \"x\": [4.34, 12.27], \"xaxis\": \"x\", \"y\": [2.299799674021526, 3.87332252211551], \"yaxis\": \"y\", \"type\": \"scatter\"}], \"name\": \"30\"}, {\"data\": [{\"hovertemplate\": \"<b>%{hovertext}</b><br><br>Continent=Europe<br>Day=31<br>Hospital_beds_per100_2017=%{x}<br>Dead_per_million=%{y}<br>popData2018=%{marker.size}<extra></extra>\", \"hovertext\": [\"Belgium\", \"Denmark\", \"France\", \"Iceland\", \"Italy\", \"Luxembourg\", \"Netherlands\", \"Norway\", \"Spain\", \"Sweden\", \"Switzerland\"], \"ids\": [\"Belgium\", \"Denmark\", \"France\", \"Iceland\", \"Italy\", \"Luxembourg\", \"Netherlands\", \"Norway\", \"Spain\", \"Sweden\", \"Switzerland\"], \"legendgroup\": \"Europe\", \"marker\": {\"color\": \"#EF553B\", \"size\": [11422068.0, 5797446.0, 66987244.0, 353574.0, 60431283.0, 607728.0, 17231017.0, 5314336.0, 46723749.0, 10183175.0, 8516543.0], \"sizemode\": \"area\", \"sizeref\": 460406.6115702479, \"symbol\": \"circle\"}, \"mode\": \"markers\", \"name\": \"Europe\", \"showlegend\": true, \"x\": [5.76, 2.61, 5.98, 3.06, 3.18, 4.66, 3.32, 3.6, 2.97, 2.22, 4.53], \"xaxis\": \"x\", \"y\": [452.0197218227032, 59.68145283285088, 214.86180264409742, 25.454360331924857, 230.29463067994106, 110.2466893083748, 170.91272093806185, 27.849198846290488, 339.0780992338607, 151.22984727258444, 100.74510279581752], \"yaxis\": \"y\", \"type\": \"scatter\"}, {\"hovertemplate\": \"<b>%{hovertext}</b><br><br>Continent=Asia<br>Day=31<br>Hospital_beds_per100_2017=%{x}<br>Dead_per_million=%{y}<br>popData2018=%{marker.size}<extra></extra>\", \"hovertext\": [\"China\", \"South_Korea\"], \"ids\": [\"China\", \"South_Korea\"], \"legendgroup\": \"Asia\", \"marker\": {\"color\": \"#ab63fa\", \"size\": [1392730000.0, 51635256.0], \"sizemode\": \"area\", \"sizeref\": 460406.6115702479, \"symbol\": \"circle\"}, \"mode\": \"markers\", \"name\": \"Asia\", \"showlegend\": true, \"x\": [4.34, 12.27], \"xaxis\": \"x\", \"y\": [2.309133859398448, 3.9507889725578202], \"yaxis\": \"y\", \"type\": \"scatter\"}], \"name\": \"31\"}, {\"data\": [{\"hovertemplate\": \"<b>%{hovertext}</b><br><br>Continent=Europe<br>Day=32<br>Hospital_beds_per100_2017=%{x}<br>Dead_per_million=%{y}<br>popData2018=%{marker.size}<extra></extra>\", \"hovertext\": [\"Belgium\", \"Denmark\", \"France\", \"Iceland\", \"Italy\", \"Luxembourg\", \"Netherlands\", \"Norway\", \"Spain\", \"Switzerland\"], \"ids\": [\"Belgium\", \"Denmark\", \"France\", \"Iceland\", \"Italy\", \"Luxembourg\", \"Netherlands\", \"Norway\", \"Spain\", \"Switzerland\"], \"legendgroup\": \"Europe\", \"marker\": {\"color\": \"#EF553B\", \"size\": [11422068.0, 5797446.0, 66987244.0, 353574.0, 60431283.0, 607728.0, 17231017.0, 5314336.0, 46723749.0, 8516543.0], \"sizemode\": \"area\", \"sizeref\": 460406.6115702479, \"symbol\": \"circle\"}, \"mode\": \"markers\", \"name\": \"Europe\", \"showlegend\": true, \"x\": [5.76, 2.61, 5.98, 3.06, 3.18, 4.66, 3.32, 3.6, 2.97, 4.53], \"xaxis\": \"x\", \"y\": [477.409169688011, 61.233860565497295, 223.43059821956552, 25.454360331924857, 242.93708938795822, 110.2466893083748, 181.88131321558095, 28.9782204211401, 349.9933192432825, 105.67668125435404], \"yaxis\": \"y\", \"type\": \"scatter\"}, {\"hovertemplate\": \"<b>%{hovertext}</b><br><br>Continent=Asia<br>Day=32<br>Hospital_beds_per100_2017=%{x}<br>Dead_per_million=%{y}<br>popData2018=%{marker.size}<extra></extra>\", \"hovertext\": [\"China\", \"South_Korea\"], \"ids\": [\"China\", \"South_Korea\"], \"legendgroup\": \"Asia\", \"marker\": {\"color\": \"#ab63fa\", \"size\": [1392730000.0, 51635256.0], \"sizemode\": \"area\", \"sizeref\": 460406.6115702479, \"symbol\": \"circle\"}, \"mode\": \"markers\", \"name\": \"Asia\", \"showlegend\": true, \"x\": [4.34, 12.27], \"xaxis\": \"x\", \"y\": [2.3155959877363164, 4.028255423000131], \"yaxis\": \"y\", \"type\": \"scatter\"}], \"name\": \"32\"}, {\"data\": [{\"hovertemplate\": \"<b>%{hovertext}</b><br><br>Continent=Europe<br>Day=33<br>Hospital_beds_per100_2017=%{x}<br>Dead_per_million=%{y}<br>popData2018=%{marker.size}<extra></extra>\", \"hovertext\": [\"Belgium\", \"France\", \"Italy\", \"Luxembourg\", \"Netherlands\", \"Spain\", \"Switzerland\"], \"ids\": [\"Belgium\", \"France\", \"Italy\", \"Luxembourg\", \"Netherlands\", \"Spain\", \"Switzerland\"], \"legendgroup\": \"Europe\", \"marker\": {\"color\": \"#EF553B\", \"size\": [11422068.0, 66987244.0, 60431283.0, 607728.0, 17231017.0, 46723749.0, 8516543.0], \"sizemode\": \"area\", \"sizeref\": 460406.6115702479, \"symbol\": \"circle\"}, \"mode\": \"markers\", \"name\": \"Europe\", \"showlegend\": true, \"x\": [5.76, 5.98, 3.18, 4.66, 3.32, 2.97, 4.53], \"xaxis\": \"x\", \"y\": [497.5456283398068, 234.8058982692287, 254.20608726774842, 113.53763525787852, 192.38562645489816, 363.24139999981594, 114.2482342894294], \"yaxis\": \"y\", \"type\": \"scatter\"}, {\"hovertemplate\": \"<b>%{hovertext}</b><br><br>Continent=Asia<br>Day=33<br>Hospital_beds_per100_2017=%{x}<br>Dead_per_million=%{y}<br>popData2018=%{marker.size}<extra></extra>\", \"hovertext\": [\"China\", \"South_Korea\"], \"ids\": [\"China\", \"South_Korea\"], \"legendgroup\": \"Asia\", \"marker\": {\"color\": \"#ab63fa\", \"size\": [1392730000.0, 51635256.0], \"sizemode\": \"area\", \"sizeref\": 460406.6115702479, \"symbol\": \"circle\"}, \"mode\": \"markers\", \"name\": \"Asia\", \"showlegend\": true, \"x\": [4.34, 12.27], \"xaxis\": \"x\", \"y\": [2.3270842158925276, 4.028255423000131], \"yaxis\": \"y\", \"type\": \"scatter\"}], \"name\": \"33\"}, {\"data\": [{\"hovertemplate\": \"<b>%{hovertext}</b><br><br>Continent=Europe<br>Day=34<br>Hospital_beds_per100_2017=%{x}<br>Dead_per_million=%{y}<br>popData2018=%{marker.size}<extra></extra>\", \"hovertext\": [\"France\", \"Italy\", \"Luxembourg\", \"Netherlands\", \"Spain\", \"Switzerland\"], \"ids\": [\"France\", \"Italy\", \"Luxembourg\", \"Netherlands\", \"Spain\", \"Switzerland\"], \"legendgroup\": \"Europe\", \"marker\": {\"color\": \"#EF553B\", \"size\": [66987244.0, 60431283.0, 607728.0, 17231017.0, 46723749.0, 8516543.0], \"sizemode\": \"area\", \"sizeref\": 460406.6115702479, \"symbol\": \"circle\"}, \"mode\": \"markers\", \"name\": \"Europe\", \"showlegend\": true, \"x\": [5.98, 3.18, 4.66, 3.32, 2.97, 4.53], \"xaxis\": \"x\", \"y\": [256.2726718537637, 262.9267361409487, 113.53763525787852, 200.74264914253175, 374.30643675446504, 119.29723128269299], \"yaxis\": \"y\", \"type\": \"scatter\"}, {\"hovertemplate\": \"<b>%{hovertext}</b><br><br>Continent=Asia<br>Day=34<br>Hospital_beds_per100_2017=%{x}<br>Dead_per_million=%{y}<br>popData2018=%{marker.size}<extra></extra>\", \"hovertext\": [\"China\", \"South_Korea\"], \"ids\": [\"China\", \"South_Korea\"], \"legendgroup\": \"Asia\", \"marker\": {\"color\": \"#ab63fa\", \"size\": [1392730000.0, 51635256.0], \"sizemode\": \"area\", \"sizeref\": 460406.6115702479, \"symbol\": \"circle\"}, \"mode\": \"markers\", \"name\": \"Asia\", \"showlegend\": true, \"x\": [4.34, 12.27], \"xaxis\": \"x\", \"y\": [2.332828329970633, 4.144455098663595], \"yaxis\": \"y\", \"type\": \"scatter\"}], \"name\": \"34\"}, {\"data\": [{\"hovertemplate\": \"<b>%{hovertext}</b><br><br>Continent=Europe<br>Day=35<br>Hospital_beds_per100_2017=%{x}<br>Dead_per_million=%{y}<br>popData2018=%{marker.size}<extra></extra>\", \"hovertext\": [\"France\", \"Italy\", \"Luxembourg\", \"Netherlands\", \"Spain\", \"Switzerland\"], \"ids\": [\"France\", \"Italy\", \"Luxembourg\", \"Netherlands\", \"Spain\", \"Switzerland\"], \"legendgroup\": \"Europe\", \"marker\": {\"color\": \"#EF553B\", \"size\": [66987244.0, 60431283.0, 607728.0, 17231017.0, 46723749.0, 8516543.0], \"sizemode\": \"area\", \"sizeref\": 460406.6115702479, \"symbol\": \"circle\"}, \"mode\": \"markers\", \"name\": \"Europe\", \"showlegend\": true, \"x\": [5.98, 3.18, 4.66, 3.32, 2.97, 4.53], \"xaxis\": \"x\", \"y\": [267.5136179658324, 273.45108658374835, 118.47405418213411, 208.98360207061486, 386.441593117881, 124.22880974122951], \"yaxis\": \"y\", \"type\": \"scatter\"}, {\"hovertemplate\": \"<b>%{hovertext}</b><br><br>Continent=Asia<br>Day=35<br>Hospital_beds_per100_2017=%{x}<br>Dead_per_million=%{y}<br>popData2018=%{marker.size}<extra></extra>\", \"hovertext\": [\"China\", \"South_Korea\"], \"ids\": [\"China\", \"South_Korea\"], \"legendgroup\": \"Asia\", \"marker\": {\"color\": \"#ab63fa\", \"size\": [1392730000.0, 51635256.0], \"sizemode\": \"area\", \"sizeref\": 460406.6115702479, \"symbol\": \"circle\"}, \"mode\": \"markers\", \"name\": \"Asia\", \"showlegend\": true, \"x\": [4.34, 12.27], \"xaxis\": \"x\", \"y\": [2.335700387009686, 4.2025549364953285], \"yaxis\": \"y\", \"type\": \"scatter\"}], \"name\": \"35\"}, {\"data\": [{\"hovertemplate\": \"<b>%{hovertext}</b><br><br>Continent=Europe<br>Day=36<br>Hospital_beds_per100_2017=%{x}<br>Dead_per_million=%{y}<br>popData2018=%{marker.size}<extra></extra>\", \"hovertext\": [\"France\", \"Italy\", \"Luxembourg\", \"Netherlands\", \"Spain\", \"Switzerland\"], \"ids\": [\"France\", \"Italy\", \"Luxembourg\", \"Netherlands\", \"Spain\", \"Switzerland\"], \"legendgroup\": \"Europe\", \"marker\": {\"color\": \"#EF553B\", \"size\": [66987244.0, 60431283.0, 607728.0, 17231017.0, 46723749.0, 8516543.0], \"sizemode\": \"area\", \"sizeref\": 460406.6115702479, \"symbol\": \"circle\"}, \"mode\": \"markers\", \"name\": \"Europe\", \"showlegend\": true, \"x\": [5.98, 3.18, 4.66, 3.32, 2.97, 4.53], \"xaxis\": \"x\", \"y\": [278.87398980020737, 283.4459099602436, 118.47405418213411, 213.80049709195922, 397.63504422558213, 130.33457354703663], \"yaxis\": \"y\", \"type\": \"scatter\"}, {\"hovertemplate\": \"<b>%{hovertext}</b><br><br>Continent=Asia<br>Day=36<br>Hospital_beds_per100_2017=%{x}<br>Dead_per_million=%{y}<br>popData2018=%{marker.size}<extra></extra>\", \"hovertext\": [\"China\", \"South_Korea\"], \"ids\": [\"China\", \"South_Korea\"], \"legendgroup\": \"Asia\", \"marker\": {\"color\": \"#ab63fa\", \"size\": [1392730000.0, 51635256.0], \"sizemode\": \"area\", \"sizeref\": 460406.6115702479, \"symbol\": \"circle\"}, \"mode\": \"markers\", \"name\": \"Asia\", \"showlegend\": true, \"x\": [4.34, 12.27], \"xaxis\": \"x\", \"y\": [2.3400084725682655, 4.299387999548216], \"yaxis\": \"y\", \"type\": \"scatter\"}], \"name\": \"36\"}, {\"data\": [{\"hovertemplate\": \"<b>%{hovertext}</b><br><br>Continent=Europe<br>Day=37<br>Hospital_beds_per100_2017=%{x}<br>Dead_per_million=%{y}<br>popData2018=%{marker.size}<extra></extra>\", \"hovertext\": [\"France\", \"Italy\", \"Luxembourg\", \"Spain\", \"Switzerland\"], \"ids\": [\"France\", \"Italy\", \"Luxembourg\", \"Spain\", \"Switzerland\"], \"legendgroup\": \"Europe\", \"marker\": {\"color\": \"#EF553B\", \"size\": [66987244.0, 60431283.0, 607728.0, 46723749.0, 8516543.0], \"sizemode\": \"area\", \"sizeref\": 460406.6115702479, \"symbol\": \"circle\"}, \"mode\": \"markers\", \"name\": \"Europe\", \"showlegend\": true, \"x\": [5.98, 3.18, 4.66, 2.97, 4.53], \"xaxis\": \"x\", \"y\": [288.4579040152779, 292.3816792041301, 120.11952715688598, 409.42776231419276, 133.15261838048608], \"yaxis\": \"y\", \"type\": \"scatter\"}, {\"hovertemplate\": \"<b>%{hovertext}</b><br><br>Continent=Asia<br>Day=37<br>Hospital_beds_per100_2017=%{x}<br>Dead_per_million=%{y}<br>popData2018=%{marker.size}<extra></extra>\", \"hovertext\": [\"China\", \"South_Korea\"], \"ids\": [\"China\", \"South_Korea\"], \"legendgroup\": \"Asia\", \"marker\": {\"color\": \"#ab63fa\", \"size\": [1392730000.0, 51635256.0], \"sizemode\": \"area\", \"sizeref\": 460406.6115702479, \"symbol\": \"circle\"}, \"mode\": \"markers\", \"name\": \"Asia\", \"showlegend\": true, \"x\": [4.34, 12.27], \"xaxis\": \"x\", \"y\": [2.3443165581268444, 4.357487837379948], \"yaxis\": \"y\", \"type\": \"scatter\"}], \"name\": \"37\"}, {\"data\": [{\"hovertemplate\": \"<b>%{hovertext}</b><br><br>Continent=Europe<br>Day=38<br>Hospital_beds_per100_2017=%{x}<br>Dead_per_million=%{y}<br>popData2018=%{marker.size}<extra></extra>\", \"hovertext\": [\"France\", \"Italy\", \"Spain\"], \"ids\": [\"France\", \"Italy\", \"Spain\"], \"legendgroup\": \"Europe\", \"marker\": {\"color\": \"#EF553B\", \"size\": [66987244.0, 60431283.0, 46723749.0], \"sizemode\": \"area\", \"sizeref\": 460406.6115702479, \"symbol\": \"circle\"}, \"mode\": \"markers\", \"name\": \"Europe\", \"showlegend\": true, \"x\": [5.98, 3.18, 2.97], \"xaxis\": \"x\", \"y\": [294.3545490541453, 302.50888434720144, 416.87579479120996], \"yaxis\": \"y\", \"type\": \"scatter\"}, {\"hovertemplate\": \"<b>%{hovertext}</b><br><br>Continent=Asia<br>Day=38<br>Hospital_beds_per100_2017=%{x}<br>Dead_per_million=%{y}<br>popData2018=%{marker.size}<extra></extra>\", \"hovertext\": [\"China\", \"South_Korea\"], \"ids\": [\"China\", \"South_Korea\"], \"legendgroup\": \"Asia\", \"marker\": {\"color\": \"#ab63fa\", \"size\": [1392730000.0, 51635256.0], \"sizemode\": \"area\", \"sizeref\": 460406.6115702479, \"symbol\": \"circle\"}, \"mode\": \"markers\", \"name\": \"Asia\", \"showlegend\": true, \"x\": [4.34, 12.27], \"xaxis\": \"x\", \"y\": [2.350778686464713, 4.434954287822259], \"yaxis\": \"y\", \"type\": \"scatter\"}], \"name\": \"38\"}, {\"data\": [{\"hovertemplate\": \"<b>%{hovertext}</b><br><br>Continent=Europe<br>Day=39<br>Hospital_beds_per100_2017=%{x}<br>Dead_per_million=%{y}<br>popData2018=%{marker.size}<extra></extra>\", \"hovertext\": [\"Italy\", \"Spain\"], \"ids\": [\"Italy\", \"Spain\"], \"legendgroup\": \"Europe\", \"marker\": {\"color\": \"#EF553B\", \"size\": [60431283.0, 46723749.0], \"sizemode\": \"area\", \"sizeref\": 460406.6115702479, \"symbol\": \"circle\"}, \"mode\": \"markers\", \"name\": \"Europe\", \"showlegend\": true, \"x\": [3.18, 2.97], \"xaxis\": \"x\", \"y\": [311.9410852157483, 428.96814637027524], \"yaxis\": \"y\", \"type\": \"scatter\"}, {\"hovertemplate\": \"<b>%{hovertext}</b><br><br>Continent=Asia<br>Day=39<br>Hospital_beds_per100_2017=%{x}<br>Dead_per_million=%{y}<br>popData2018=%{marker.size}<extra></extra>\", \"hovertext\": [\"China\", \"South_Korea\"], \"ids\": [\"China\", \"South_Korea\"], \"legendgroup\": \"Asia\", \"marker\": {\"color\": \"#ab63fa\", \"size\": [1392730000.0, 51635256.0], \"sizemode\": \"area\", \"sizeref\": 460406.6115702479, \"symbol\": \"circle\"}, \"mode\": \"markers\", \"name\": \"Asia\", \"showlegend\": true, \"x\": [4.34, 12.27], \"xaxis\": \"x\", \"y\": [2.3558047862830556, 4.454320900432836], \"yaxis\": \"y\", \"type\": \"scatter\"}], \"name\": \"39\"}, {\"data\": [{\"hovertemplate\": \"<b>%{hovertext}</b><br><br>Continent=Europe<br>Day=40<br>Hospital_beds_per100_2017=%{x}<br>Dead_per_million=%{y}<br>popData2018=%{marker.size}<extra></extra>\", \"hovertext\": [\"Italy\", \"Spain\"], \"ids\": [\"Italy\", \"Spain\"], \"legendgroup\": \"Europe\", \"marker\": {\"color\": \"#EF553B\", \"size\": [60431283.0, 46723749.0], \"sizemode\": \"area\", \"sizeref\": 460406.6115702479, \"symbol\": \"circle\"}, \"mode\": \"markers\", \"name\": \"Europe\", \"showlegend\": true, \"x\": [3.18, 2.97], \"xaxis\": \"x\", \"y\": [322.1841244045737, 437.74312716216326], \"yaxis\": \"y\", \"type\": \"scatter\"}, {\"hovertemplate\": \"<b>%{hovertext}</b><br><br>Continent=Asia<br>Day=40<br>Hospital_beds_per100_2017=%{x}<br>Dead_per_million=%{y}<br>popData2018=%{marker.size}<extra></extra>\", \"hovertext\": [\"China\", \"South_Korea\"], \"ids\": [\"China\", \"South_Korea\"], \"legendgroup\": \"Asia\", \"marker\": {\"color\": \"#ab63fa\", \"size\": [1392730000.0, 51635256.0], \"sizemode\": \"area\", \"sizeref\": 460406.6115702479, \"symbol\": \"circle\"}, \"mode\": \"markers\", \"name\": \"Asia\", \"showlegend\": true, \"x\": [4.34, 12.27], \"xaxis\": \"x\", \"y\": [2.358676843322108, 4.493054125653991], \"yaxis\": \"y\", \"type\": \"scatter\"}], \"name\": \"40\"}, {\"data\": [{\"hovertemplate\": \"<b>%{hovertext}</b><br><br>Continent=Europe<br>Day=41<br>Hospital_beds_per100_2017=%{x}<br>Dead_per_million=%{y}<br>popData2018=%{marker.size}<extra></extra>\", \"hovertext\": [\"Italy\"], \"ids\": [\"Italy\"], \"legendgroup\": \"Europe\", \"marker\": {\"color\": \"#EF553B\", \"size\": [60431283.0], \"sizemode\": \"area\", \"sizeref\": 460406.6115702479, \"symbol\": \"circle\"}, \"mode\": \"markers\", \"name\": \"Europe\", \"showlegend\": true, \"x\": [3.18], \"xaxis\": \"x\", \"y\": [329.31619207886087], \"yaxis\": \"y\", \"type\": \"scatter\"}, {\"hovertemplate\": \"<b>%{hovertext}</b><br><br>Continent=Asia<br>Day=41<br>Hospital_beds_per100_2017=%{x}<br>Dead_per_million=%{y}<br>popData2018=%{marker.size}<extra></extra>\", \"hovertext\": [\"China\", \"South_Korea\"], \"ids\": [\"China\", \"South_Korea\"], \"legendgroup\": \"Asia\", \"marker\": {\"color\": \"#ab63fa\", \"size\": [1392730000.0, 51635256.0], \"sizemode\": \"area\", \"sizeref\": 460406.6115702479, \"symbol\": \"circle\"}, \"mode\": \"markers\", \"name\": \"Asia\", \"showlegend\": true, \"x\": [4.34, 12.27], \"xaxis\": \"x\", \"y\": [2.362984928880688, 4.531787350875146], \"yaxis\": \"y\", \"type\": \"scatter\"}], \"name\": \"41\"}, {\"data\": [{\"hovertemplate\": \"<b>%{hovertext}</b><br><br>Continent=Europe<br>Day=42<br>Hospital_beds_per100_2017=%{x}<br>Dead_per_million=%{y}<br>popData2018=%{marker.size}<extra></extra>\", \"hovertext\": [\"Italy\"], \"ids\": [\"Italy\"], \"legendgroup\": \"Europe\", \"marker\": {\"color\": \"#EF553B\", \"size\": [60431283.0], \"sizemode\": \"area\", \"sizeref\": 460406.6115702479, \"symbol\": \"circle\"}, \"mode\": \"markers\", \"name\": \"Europe\", \"showlegend\": true, \"x\": [3.18], \"xaxis\": \"x\", \"y\": [338.64910662247564], \"yaxis\": \"y\", \"type\": \"scatter\"}, {\"hovertemplate\": \"<b>%{hovertext}</b><br><br>Continent=Asia<br>Day=42<br>Hospital_beds_per100_2017=%{x}<br>Dead_per_million=%{y}<br>popData2018=%{marker.size}<extra></extra>\", \"hovertext\": [\"China\", \"South_Korea\"], \"ids\": [\"China\", \"South_Korea\"], \"legendgroup\": \"Asia\", \"marker\": {\"color\": \"#ab63fa\", \"size\": [1392730000.0, 51635256.0], \"sizemode\": \"area\", \"sizeref\": 460406.6115702479, \"symbol\": \"circle\"}, \"mode\": \"markers\", \"name\": \"Asia\", \"showlegend\": true, \"x\": [4.34, 12.27], \"xaxis\": \"x\", \"y\": [2.3665750001795036, 4.5705205760963015], \"yaxis\": \"y\", \"type\": \"scatter\"}], \"name\": \"42\"}, {\"data\": [{\"hovertemplate\": \"<b>%{hovertext}</b><br><br>Continent=Europe<br>Day=43<br>Hospital_beds_per100_2017=%{x}<br>Dead_per_million=%{y}<br>popData2018=%{marker.size}<extra></extra>\", \"hovertext\": [\"Italy\"], \"ids\": [\"Italy\"], \"legendgroup\": \"Europe\", \"marker\": {\"color\": \"#EF553B\", \"size\": [60431283.0], \"sizemode\": \"area\", \"sizeref\": 460406.6115702479, \"symbol\": \"circle\"}, \"mode\": \"markers\", \"name\": \"Europe\", \"showlegend\": true, \"x\": [3.18], \"xaxis\": \"x\", \"y\": [348.64392999897086], \"yaxis\": \"y\", \"type\": \"scatter\"}, {\"hovertemplate\": \"<b>%{hovertext}</b><br><br>Continent=Asia<br>Day=43<br>Hospital_beds_per100_2017=%{x}<br>Dead_per_million=%{y}<br>popData2018=%{marker.size}<extra></extra>\", \"hovertext\": [\"China\"], \"ids\": [\"China\"], \"legendgroup\": \"Asia\", \"marker\": {\"color\": \"#ab63fa\", \"size\": [1392730000.0], \"sizemode\": \"area\", \"sizeref\": 460406.6115702479, \"symbol\": \"circle\"}, \"mode\": \"markers\", \"name\": \"Asia\", \"showlegend\": true, \"x\": [4.34], \"xaxis\": \"x\", \"y\": [2.368729042958793], \"yaxis\": \"y\", \"type\": \"scatter\"}], \"name\": \"43\"}, {\"data\": [{\"hovertemplate\": \"<b>%{hovertext}</b><br><br>Continent=Europe<br>Day=44<br>Hospital_beds_per100_2017=%{x}<br>Dead_per_million=%{y}<br>popData2018=%{marker.size}<extra></extra>\", \"hovertext\": [\"Italy\"], \"ids\": [\"Italy\"], \"legendgroup\": \"Europe\", \"marker\": {\"color\": \"#EF553B\", \"size\": [60431283.0], \"sizemode\": \"area\", \"sizeref\": 460406.6115702479, \"symbol\": \"circle\"}, \"mode\": \"markers\", \"name\": \"Europe\", \"showlegend\": true, \"x\": [3.18], \"xaxis\": \"x\", \"y\": [358.20851263409384], \"yaxis\": \"y\", \"type\": \"scatter\"}, {\"hovertemplate\": \"<b>%{hovertext}</b><br><br>Continent=Asia<br>Day=44<br>Hospital_beds_per100_2017=%{x}<br>Dead_per_million=%{y}<br>popData2018=%{marker.size}<extra></extra>\", \"hovertext\": [\"China\"], \"ids\": [\"China\"], \"legendgroup\": \"Asia\", \"marker\": {\"color\": \"#ab63fa\", \"size\": [1392730000.0], \"sizemode\": \"area\", \"sizeref\": 460406.6115702479, \"symbol\": \"circle\"}, \"mode\": \"markers\", \"name\": \"Asia\", \"showlegend\": true, \"x\": [4.34], \"xaxis\": \"x\", \"y\": [2.372319114257609], \"yaxis\": \"y\", \"type\": \"scatter\"}], \"name\": \"44\"}, {\"data\": [{\"hovertemplate\": \"<b>%{hovertext}</b><br><br>Continent=Europe<br>Day=45<br>Hospital_beds_per100_2017=%{x}<br>Dead_per_million=%{y}<br>popData2018=%{marker.size}<extra></extra>\", \"hovertext\": [\"Italy\"], \"ids\": [\"Italy\"], \"legendgroup\": \"Europe\", \"marker\": {\"color\": \"#EF553B\", \"size\": [60431283.0], \"sizemode\": \"area\", \"sizeref\": 460406.6115702479, \"symbol\": \"circle\"}, \"mode\": \"markers\", \"name\": \"Europe\", \"showlegend\": true, \"x\": [3.18], \"xaxis\": \"x\", \"y\": [366.89606606565013], \"yaxis\": \"y\", \"type\": \"scatter\"}, {\"hovertemplate\": \"<b>%{hovertext}</b><br><br>Continent=Asia<br>Day=45<br>Hospital_beds_per100_2017=%{x}<br>Dead_per_million=%{y}<br>popData2018=%{marker.size}<extra></extra>\", \"hovertext\": [\"China\"], \"ids\": [\"China\"], \"legendgroup\": \"Asia\", \"marker\": {\"color\": \"#ab63fa\", \"size\": [1392730000.0], \"sizemode\": \"area\", \"sizeref\": 460406.6115702479, \"symbol\": \"circle\"}, \"mode\": \"markers\", \"name\": \"Asia\", \"showlegend\": true, \"x\": [4.34], \"xaxis\": \"x\", \"y\": [2.3737551427771355], \"yaxis\": \"y\", \"type\": \"scatter\"}], \"name\": \"45\"}, {\"data\": [{\"hovertemplate\": \"<b>%{hovertext}</b><br><br>Continent=Europe<br>Day=46<br>Hospital_beds_per100_2017=%{x}<br>Dead_per_million=%{y}<br>popData2018=%{marker.size}<extra></extra>\", \"hovertext\": [\"Italy\"], \"ids\": [\"Italy\"], \"legendgroup\": \"Europe\", \"marker\": {\"color\": \"#EF553B\", \"size\": [60431283.0], \"sizemode\": \"area\", \"sizeref\": 460406.6115702479, \"symbol\": \"circle\"}, \"mode\": \"markers\", \"name\": \"Europe\", \"showlegend\": true, \"x\": [3.18], \"xaxis\": \"x\", \"y\": [376.41100553830705], \"yaxis\": \"y\", \"type\": \"scatter\"}, {\"hovertemplate\": \"<b>%{hovertext}</b><br><br>Continent=Asia<br>Day=46<br>Hospital_beds_per100_2017=%{x}<br>Dead_per_million=%{y}<br>popData2018=%{marker.size}<extra></extra>\", \"hovertext\": [\"China\"], \"ids\": [\"China\"], \"legendgroup\": \"Asia\", \"marker\": {\"color\": \"#ab63fa\", \"size\": [1392730000.0], \"sizemode\": \"area\", \"sizeref\": 460406.6115702479, \"symbol\": \"circle\"}, \"mode\": \"markers\", \"name\": \"Asia\", \"showlegend\": true, \"x\": [4.34], \"xaxis\": \"x\", \"y\": [2.375909185556425], \"yaxis\": \"y\", \"type\": \"scatter\"}], \"name\": \"46\"}, {\"data\": [{\"hovertemplate\": \"<b>%{hovertext}</b><br><br>Continent=Europe<br>Day=47<br>Hospital_beds_per100_2017=%{x}<br>Dead_per_million=%{y}<br>popData2018=%{marker.size}<extra></extra>\", \"hovertext\": [\"Italy\"], \"ids\": [\"Italy\"], \"legendgroup\": \"Europe\", \"marker\": {\"color\": \"#EF553B\", \"size\": [60431283.0], \"sizemode\": \"area\", \"sizeref\": 460406.6115702479, \"symbol\": \"circle\"}, \"mode\": \"markers\", \"name\": \"Europe\", \"showlegend\": true, \"x\": [3.18], \"xaxis\": \"x\", \"y\": [384.3539115328728], \"yaxis\": \"y\", \"type\": \"scatter\"}, {\"hovertemplate\": \"<b>%{hovertext}</b><br><br>Continent=Asia<br>Day=47<br>Hospital_beds_per100_2017=%{x}<br>Dead_per_million=%{y}<br>popData2018=%{marker.size}<extra></extra>\", \"hovertext\": [\"China\"], \"ids\": [\"China\"], \"legendgroup\": \"Asia\", \"marker\": {\"color\": \"#ab63fa\", \"size\": [1392730000.0], \"sizemode\": \"area\", \"sizeref\": 460406.6115702479, \"symbol\": \"circle\"}, \"mode\": \"markers\", \"name\": \"Asia\", \"showlegend\": true, \"x\": [4.34], \"xaxis\": \"x\", \"y\": [2.376627199816188], \"yaxis\": \"y\", \"type\": \"scatter\"}], \"name\": \"47\"}, {\"data\": [{\"hovertemplate\": \"<b>%{hovertext}</b><br><br>Continent=Europe<br>Day=48<br>Hospital_beds_per100_2017=%{x}<br>Dead_per_million=%{y}<br>popData2018=%{marker.size}<extra></extra>\", \"hovertext\": [\"Italy\"], \"ids\": [\"Italy\"], \"legendgroup\": \"Europe\", \"marker\": {\"color\": \"#EF553B\", \"size\": [60431283.0], \"sizemode\": \"area\", \"sizeref\": 460406.6115702479, \"symbol\": \"circle\"}, \"mode\": \"markers\", \"name\": \"Europe\", \"showlegend\": true, \"x\": [3.18], \"xaxis\": \"x\", \"y\": [391.519074648804], \"yaxis\": \"y\", \"type\": \"scatter\"}, {\"hovertemplate\": \"<b>%{hovertext}</b><br><br>Continent=Asia<br>Day=48<br>Hospital_beds_per100_2017=%{x}<br>Dead_per_million=%{y}<br>popData2018=%{marker.size}<extra></extra>\", \"hovertext\": [\"China\"], \"ids\": [\"China\"], \"legendgroup\": \"Asia\", \"marker\": {\"color\": \"#ab63fa\", \"size\": [1392730000.0], \"sizemode\": \"area\", \"sizeref\": 460406.6115702479, \"symbol\": \"circle\"}, \"mode\": \"markers\", \"name\": \"Asia\", \"showlegend\": true, \"x\": [4.34], \"xaxis\": \"x\", \"y\": [2.3809352853747674], \"yaxis\": \"y\", \"type\": \"scatter\"}], \"name\": \"48\"}, {\"data\": [{\"hovertemplate\": \"<b>%{hovertext}</b><br><br>Continent=Asia<br>Day=49<br>Hospital_beds_per100_2017=%{x}<br>Dead_per_million=%{y}<br>popData2018=%{marker.size}<extra></extra>\", \"hovertext\": [\"China\"], \"ids\": [\"China\"], \"legendgroup\": \"Asia\", \"marker\": {\"color\": \"#ab63fa\", \"size\": [1392730000.0], \"sizemode\": \"area\", \"sizeref\": 460406.6115702479, \"symbol\": \"circle\"}, \"mode\": \"markers\", \"name\": \"Asia\", \"showlegend\": true, \"x\": [4.34], \"xaxis\": \"x\", \"y\": [2.3881154279723997], \"yaxis\": \"y\", \"type\": \"scatter\"}], \"name\": \"49\"}, {\"data\": [{\"hovertemplate\": \"<b>%{hovertext}</b><br><br>Continent=Asia<br>Day=50<br>Hospital_beds_per100_2017=%{x}<br>Dead_per_million=%{y}<br>popData2018=%{marker.size}<extra></extra>\", \"hovertext\": [\"China\"], \"ids\": [\"China\"], \"legendgroup\": \"Asia\", \"marker\": {\"color\": \"#ab63fa\", \"size\": [1392730000.0], \"sizemode\": \"area\", \"sizeref\": 460406.6115702479, \"symbol\": \"circle\"}, \"mode\": \"markers\", \"name\": \"Asia\", \"showlegend\": true, \"x\": [4.34], \"xaxis\": \"x\", \"y\": [2.3909874850114523], \"yaxis\": \"y\", \"type\": \"scatter\"}], \"name\": \"50\"}, {\"data\": [{\"hovertemplate\": \"<b>%{hovertext}</b><br><br>Continent=Asia<br>Day=51<br>Hospital_beds_per100_2017=%{x}<br>Dead_per_million=%{y}<br>popData2018=%{marker.size}<extra></extra>\", \"hovertext\": [\"China\"], \"ids\": [\"China\"], \"legendgroup\": \"Asia\", \"marker\": {\"color\": \"#ab63fa\", \"size\": [1392730000.0], \"sizemode\": \"area\", \"sizeref\": 460406.6115702479, \"symbol\": \"circle\"}, \"mode\": \"markers\", \"name\": \"Asia\", \"showlegend\": true, \"x\": [4.34], \"xaxis\": \"x\", \"y\": [2.393141527790742], \"yaxis\": \"y\", \"type\": \"scatter\"}], \"name\": \"51\"}, {\"data\": [{\"hovertemplate\": \"<b>%{hovertext}</b><br><br>Continent=Asia<br>Day=52<br>Hospital_beds_per100_2017=%{x}<br>Dead_per_million=%{y}<br>popData2018=%{marker.size}<extra></extra>\", \"hovertext\": [\"China\"], \"ids\": [\"China\"], \"legendgroup\": \"Asia\", \"marker\": {\"color\": \"#ab63fa\", \"size\": [1392730000.0], \"sizemode\": \"area\", \"sizeref\": 460406.6115702479, \"symbol\": \"circle\"}, \"mode\": \"markers\", \"name\": \"Asia\", \"showlegend\": true, \"x\": [4.34], \"xaxis\": \"x\", \"y\": [2.3945775563102685], \"yaxis\": \"y\", \"type\": \"scatter\"}], \"name\": \"52\"}, {\"data\": [{\"hovertemplate\": \"<b>%{hovertext}</b><br><br>Continent=Asia<br>Day=53<br>Hospital_beds_per100_2017=%{x}<br>Dead_per_million=%{y}<br>popData2018=%{marker.size}<extra></extra>\", \"hovertext\": [\"China\"], \"ids\": [\"China\"], \"legendgroup\": \"Asia\", \"marker\": {\"color\": \"#ab63fa\", \"size\": [1392730000.0], \"sizemode\": \"area\", \"sizeref\": 460406.6115702479, \"symbol\": \"circle\"}, \"mode\": \"markers\", \"name\": \"Asia\", \"showlegend\": true, \"x\": [4.34], \"xaxis\": \"x\", \"y\": [2.3945775563102685], \"yaxis\": \"y\", \"type\": \"scatter\"}], \"name\": \"53\"}, {\"data\": [{\"hovertemplate\": \"<b>%{hovertext}</b><br><br>Continent=Asia<br>Day=54<br>Hospital_beds_per100_2017=%{x}<br>Dead_per_million=%{y}<br>popData2018=%{marker.size}<extra></extra>\", \"hovertext\": [\"China\"], \"ids\": [\"China\"], \"legendgroup\": \"Asia\", \"marker\": {\"color\": \"#ab63fa\", \"size\": [1392730000.0], \"sizemode\": \"area\", \"sizeref\": 460406.6115702479, \"symbol\": \"circle\"}, \"mode\": \"markers\", \"name\": \"Asia\", \"showlegend\": true, \"x\": [4.34], \"xaxis\": \"x\", \"y\": [2.3960135848297948], \"yaxis\": \"y\", \"type\": \"scatter\"}], \"name\": \"54\"}, {\"data\": [{\"hovertemplate\": \"<b>%{hovertext}</b><br><br>Continent=Asia<br>Day=55<br>Hospital_beds_per100_2017=%{x}<br>Dead_per_million=%{y}<br>popData2018=%{marker.size}<extra></extra>\", \"hovertext\": [\"China\"], \"ids\": [\"China\"], \"legendgroup\": \"Asia\", \"marker\": {\"color\": \"#ab63fa\", \"size\": [1392730000.0], \"sizemode\": \"area\", \"sizeref\": 460406.6115702479, \"symbol\": \"circle\"}, \"mode\": \"markers\", \"name\": \"Asia\", \"showlegend\": true, \"x\": [4.34], \"xaxis\": \"x\", \"y\": [2.397449613349321], \"yaxis\": \"y\", \"type\": \"scatter\"}], \"name\": \"55\"}, {\"data\": [{\"hovertemplate\": \"<b>%{hovertext}</b><br><br>Continent=Asia<br>Day=56<br>Hospital_beds_per100_2017=%{x}<br>Dead_per_million=%{y}<br>popData2018=%{marker.size}<extra></extra>\", \"hovertext\": [\"China\"], \"ids\": [\"China\"], \"legendgroup\": \"Asia\", \"marker\": {\"color\": \"#ab63fa\", \"size\": [1392730000.0], \"sizemode\": \"area\", \"sizeref\": 460406.6115702479, \"symbol\": \"circle\"}, \"mode\": \"markers\", \"name\": \"Asia\", \"showlegend\": true, \"x\": [4.34], \"xaxis\": \"x\", \"y\": [2.398167627609084], \"yaxis\": \"y\", \"type\": \"scatter\"}], \"name\": \"56\"}, {\"data\": [{\"hovertemplate\": \"<b>%{hovertext}</b><br><br>Continent=Asia<br>Day=57<br>Hospital_beds_per100_2017=%{x}<br>Dead_per_million=%{y}<br>popData2018=%{marker.size}<extra></extra>\", \"hovertext\": [\"China\"], \"ids\": [\"China\"], \"legendgroup\": \"Asia\", \"marker\": {\"color\": \"#ab63fa\", \"size\": [1392730000.0], \"sizemode\": \"area\", \"sizeref\": 460406.6115702479, \"symbol\": \"circle\"}, \"mode\": \"markers\", \"name\": \"Asia\", \"showlegend\": true, \"x\": [4.34], \"xaxis\": \"x\", \"y\": [2.400321670388374], \"yaxis\": \"y\", \"type\": \"scatter\"}], \"name\": \"57\"}, {\"data\": [{\"hovertemplate\": \"<b>%{hovertext}</b><br><br>Continent=Asia<br>Day=58<br>Hospital_beds_per100_2017=%{x}<br>Dead_per_million=%{y}<br>popData2018=%{marker.size}<extra></extra>\", \"hovertext\": [\"China\"], \"ids\": [\"China\"], \"legendgroup\": \"Asia\", \"marker\": {\"color\": \"#ab63fa\", \"size\": [1392730000.0], \"sizemode\": \"area\", \"sizeref\": 460406.6115702479, \"symbol\": \"circle\"}, \"mode\": \"markers\", \"name\": \"Asia\", \"showlegend\": true, \"x\": [4.34], \"xaxis\": \"x\", \"y\": [2.400321670388374], \"yaxis\": \"y\", \"type\": \"scatter\"}], \"name\": \"58\"}, {\"data\": [{\"hovertemplate\": \"<b>%{hovertext}</b><br><br>Continent=Asia<br>Day=59<br>Hospital_beds_per100_2017=%{x}<br>Dead_per_million=%{y}<br>popData2018=%{marker.size}<extra></extra>\", \"hovertext\": [\"China\"], \"ids\": [\"China\"], \"legendgroup\": \"Asia\", \"marker\": {\"color\": \"#ab63fa\", \"size\": [1392730000.0], \"sizemode\": \"area\", \"sizeref\": 460406.6115702479, \"symbol\": \"circle\"}, \"mode\": \"markers\", \"name\": \"Asia\", \"showlegend\": true, \"x\": [4.34], \"xaxis\": \"x\", \"y\": [2.4017576989079004], \"yaxis\": \"y\", \"type\": \"scatter\"}], \"name\": \"59\"}, {\"data\": [{\"hovertemplate\": \"<b>%{hovertext}</b><br><br>Continent=Asia<br>Day=60<br>Hospital_beds_per100_2017=%{x}<br>Dead_per_million=%{y}<br>popData2018=%{marker.size}<extra></extra>\", \"hovertext\": [\"China\"], \"ids\": [\"China\"], \"legendgroup\": \"Asia\", \"marker\": {\"color\": \"#ab63fa\", \"size\": [1392730000.0], \"sizemode\": \"area\", \"sizeref\": 460406.6115702479, \"symbol\": \"circle\"}, \"mode\": \"markers\", \"name\": \"Asia\", \"showlegend\": true, \"x\": [4.34], \"xaxis\": \"x\", \"y\": [2.4017576989079004], \"yaxis\": \"y\", \"type\": \"scatter\"}], \"name\": \"60\"}, {\"data\": [{\"hovertemplate\": \"<b>%{hovertext}</b><br><br>Continent=Asia<br>Day=61<br>Hospital_beds_per100_2017=%{x}<br>Dead_per_million=%{y}<br>popData2018=%{marker.size}<extra></extra>\", \"hovertext\": [\"China\"], \"ids\": [\"China\"], \"legendgroup\": \"Asia\", \"marker\": {\"color\": \"#ab63fa\", \"size\": [1392730000.0], \"sizemode\": \"area\", \"sizeref\": 460406.6115702479, \"symbol\": \"circle\"}, \"mode\": \"markers\", \"name\": \"Asia\", \"showlegend\": true, \"x\": [4.34], \"xaxis\": \"x\", \"y\": [2.4024757131676635], \"yaxis\": \"y\", \"type\": \"scatter\"}], \"name\": \"61\"}, {\"data\": [{\"hovertemplate\": \"<b>%{hovertext}</b><br><br>Continent=Asia<br>Day=62<br>Hospital_beds_per100_2017=%{x}<br>Dead_per_million=%{y}<br>popData2018=%{marker.size}<extra></extra>\", \"hovertext\": [\"China\"], \"ids\": [\"China\"], \"legendgroup\": \"Asia\", \"marker\": {\"color\": \"#ab63fa\", \"size\": [1392730000.0], \"sizemode\": \"area\", \"sizeref\": 460406.6115702479, \"symbol\": \"circle\"}, \"mode\": \"markers\", \"name\": \"Asia\", \"showlegend\": true, \"x\": [4.34], \"xaxis\": \"x\", \"y\": [2.4024757131676635], \"yaxis\": \"y\", \"type\": \"scatter\"}], \"name\": \"62\"}, {\"data\": [{\"hovertemplate\": \"<b>%{hovertext}</b><br><br>Continent=Asia<br>Day=63<br>Hospital_beds_per100_2017=%{x}<br>Dead_per_million=%{y}<br>popData2018=%{marker.size}<extra></extra>\", \"hovertext\": [\"China\"], \"ids\": [\"China\"], \"legendgroup\": \"Asia\", \"marker\": {\"color\": \"#ab63fa\", \"size\": [1392730000.0], \"sizemode\": \"area\", \"sizeref\": 460406.6115702479, \"symbol\": \"circle\"}, \"mode\": \"markers\", \"name\": \"Asia\", \"showlegend\": true, \"x\": [4.34], \"xaxis\": \"x\", \"y\": [3.32871410826219], \"yaxis\": \"y\", \"type\": \"scatter\"}], \"name\": \"63\"}, {\"data\": [{\"hovertemplate\": \"<b>%{hovertext}</b><br><br>Continent=Asia<br>Day=64<br>Hospital_beds_per100_2017=%{x}<br>Dead_per_million=%{y}<br>popData2018=%{marker.size}<extra></extra>\", \"hovertext\": [\"China\"], \"ids\": [\"China\"], \"legendgroup\": \"Asia\", \"marker\": {\"color\": \"#ab63fa\", \"size\": [1392730000.0], \"sizemode\": \"area\", \"sizeref\": 460406.6115702479, \"symbol\": \"circle\"}, \"mode\": \"markers\", \"name\": \"Asia\", \"showlegend\": true, \"x\": [4.34], \"xaxis\": \"x\", \"y\": [3.32871410826219], \"yaxis\": \"y\", \"type\": \"scatter\"}], \"name\": \"64\"}, {\"data\": [{\"hovertemplate\": \"<b>%{hovertext}</b><br><br>Continent=Asia<br>Day=65<br>Hospital_beds_per100_2017=%{x}<br>Dead_per_million=%{y}<br>popData2018=%{marker.size}<extra></extra>\", \"hovertext\": [\"China\"], \"ids\": [\"China\"], \"legendgroup\": \"Asia\", \"marker\": {\"color\": \"#ab63fa\", \"size\": [1392730000.0], \"sizemode\": \"area\", \"sizeref\": 460406.6115702479, \"symbol\": \"circle\"}, \"mode\": \"markers\", \"name\": \"Asia\", \"showlegend\": true, \"x\": [4.34], \"xaxis\": \"x\", \"y\": [3.32871410826219], \"yaxis\": \"y\", \"type\": \"scatter\"}], \"name\": \"65\"}, {\"data\": [{\"hovertemplate\": \"<b>%{hovertext}</b><br><br>Continent=Asia<br>Day=66<br>Hospital_beds_per100_2017=%{x}<br>Dead_per_million=%{y}<br>popData2018=%{marker.size}<extra></extra>\", \"hovertext\": [\"China\"], \"ids\": [\"China\"], \"legendgroup\": \"Asia\", \"marker\": {\"color\": \"#ab63fa\", \"size\": [1392730000.0], \"sizemode\": \"area\", \"sizeref\": 460406.6115702479, \"symbol\": \"circle\"}, \"mode\": \"markers\", \"name\": \"Asia\", \"showlegend\": true, \"x\": [4.34], \"xaxis\": \"x\", \"y\": [3.32871410826219], \"yaxis\": \"y\", \"type\": \"scatter\"}], \"name\": \"66\"}]);\n",
       "                        }).then(function(){\n",
       "                            \n",
       "var gd = document.getElementById('18c71e8b-7b5c-42fa-93a4-36a1a773caec');\n",
       "var x = new MutationObserver(function (mutations, observer) {{\n",
       "        var display = window.getComputedStyle(gd).display;\n",
       "        if (!display || display === 'none') {{\n",
       "            console.log([gd, 'removed!']);\n",
       "            Plotly.purge(gd);\n",
       "            observer.disconnect();\n",
       "        }}\n",
       "}});\n",
       "\n",
       "// Listen for the removal of the full notebook cells\n",
       "var notebookContainer = gd.closest('#notebook-container');\n",
       "if (notebookContainer) {{\n",
       "    x.observe(notebookContainer, {childList: true});\n",
       "}}\n",
       "\n",
       "// Listen for the clearing of the current output cell\n",
       "var outputEl = gd.closest('.output');\n",
       "if (outputEl) {{\n",
       "    x.observe(outputEl, {childList: true});\n",
       "}}\n",
       "\n",
       "                        })\n",
       "                };\n",
       "                });\n",
       "            </script>\n",
       "        </div>"
      ]
     },
     "metadata": {},
     "output_type": "display_data"
    }
   ],
   "source": [
    "#Animation for each day\n",
    "\n",
    "fig = px.scatter(Cumulative_deaths.dropna(), x=\"Hospital_beds_per100_2017\", y=\"Dead_per_million\", \n",
    "                 animation_frame=\"Day\", animation_group=\"Country\",\n",
    "           size=\"popData2018\", color=\"Continent\", hover_name=\"Country\",\n",
    "           #log_y=True, \n",
    "           size_max=55, range_x=[0,14], range_y=[1,500])#2400])\n",
    "\n",
    "fig.update_layout(\n",
    "    title_text='Covid-19 deaths per million vs. number of hospital beds (bubble size = population size)',\n",
    "    xaxis_title=\"Hospital beds per 1000 people in 2017 (Wikipedia)\",\n",
    "    yaxis_title=\"Deaths due to Covid-19 per million population\"\n",
    ")\n",
    "\n",
    "fig.show()"
   ]
  },
  {
   "cell_type": "code",
   "execution_count": null,
   "metadata": {},
   "outputs": [],
   "source": []
  }
 ],
 "metadata": {
  "kernelspec": {
   "display_name": "Python 3",
   "language": "python",
   "name": "python3"
  },
  "language_info": {
   "codemirror_mode": {
    "name": "ipython",
    "version": 3
   },
   "file_extension": ".py",
   "mimetype": "text/x-python",
   "name": "python",
   "nbconvert_exporter": "python",
   "pygments_lexer": "ipython3",
   "version": "3.7.0"
  }
 },
 "nbformat": 4,
 "nbformat_minor": 4
}
