{
 "cells": [
  {
   "cell_type": "markdown",
   "id": "needed-runner",
   "metadata": {},
   "source": [
    "# Analyse and visualise USDT (Tether) transactions\n",
    "[Data](https://s3-us-west-2.amazonaws.com/data.blockspur.com/tether/tether_transactions_522647.csv.zip) and idea [from a project](https://rstudio-pubs-static.s3.amazonaws.com/381106_66dadeefc9094bda99099c51a6c6a6e1.html). Bit outdated but the principle remains.\n",
    "\n",
    "I have looked at 2014-2018 transaction data of the USDT (Tether) blockchain. \n",
    "\n",
    "Network structure shows clusters with lots of activities that are mostly exchanges when matching to the Tether rick list wallet addresses. The network is not well connected and the average degree is 2, no matter if we look at it as directed or undirected graph. \n",
    "\n",
    "From the data we can estimate the wallet size and find that the exchanges have the largest amount of Tether in their wallets whereas the Tether treasury has a negative estimated balance sending more coins than recieving. From this we could try and match the large wallets to other exchanges.\n",
    "\n",
    "Furthermore, the adoption of Tether over time can be seen from an increase in transaction volume as well as the amount sent per transaction. \n",
    "\n",
    "Next steps would be to perform more network statistics which are computational expensive and not possible in this project."
   ]
  },
  {
   "cell_type": "code",
   "execution_count": 104,
   "id": "single-mistress",
   "metadata": {},
   "outputs": [],
   "source": [
    "import pandas as pd\n",
    "import networkx as nx\n",
    "import datetime as dt\n",
    "\n",
    "import matplotlib.pyplot as plt\n",
    "from pyvis.network import Network\n",
    "import seaborn as sns"
   ]
  },
  {
   "cell_type": "code",
   "execution_count": 301,
   "id": "israeli-offering",
   "metadata": {},
   "outputs": [],
   "source": [
    "def plot_network(data,source,target,weight):\n",
    "\n",
    "    net = Network(height='750px', width='100%', bgcolor='#222222', font_color='white',notebook=True,directed=True)\n",
    "\n",
    "    # set the physics layout of the network\n",
    "    net.barnes_hut()\n",
    "    \n",
    "    sources = data[source]\n",
    "    targets = data[target]\n",
    "    weights = data[weight]\n",
    "\n",
    "    edge_data = zip(sources, targets, weights)\n",
    "\n",
    "    for e in edge_data:\n",
    "        src = e[0]\n",
    "        dst = e[1]\n",
    "        w = e[2]\n",
    "\n",
    "        net.add_node(src, src, title=src)\n",
    "        net.add_node(dst, dst, title=dst)\n",
    "        net.add_edge(src, dst, value=w)\n",
    "\n",
    "    neighbor_map = net.get_adj_list()\n",
    "\n",
    "    # add neighbor data to node hover data\n",
    "    for node in net.nodes:\n",
    "        node['title'] += ' Neighbors:<br>' + '<br>'.join(neighbor_map[node['id']])\n",
    "        node['value'] = len(neighbor_map[node['id']])\n",
    "    \n",
    "    return net"
   ]
  },
  {
   "cell_type": "markdown",
   "id": "civilian-brain",
   "metadata": {},
   "source": [
    "## Read data and clean\n",
    "Data from 2014-2018"
   ]
  },
  {
   "cell_type": "code",
   "execution_count": 3,
   "id": "smoking-enzyme",
   "metadata": {},
   "outputs": [],
   "source": [
    "data = pd.read_csv(\"https://s3-us-west-2.amazonaws.com/data.blockspur.com/tether/tether_transactions_522647.csv.zip\")"
   ]
  },
  {
   "cell_type": "code",
   "execution_count": 10,
   "id": "raised-manual",
   "metadata": {},
   "outputs": [
    {
     "data": {
      "text/html": [
       "<div>\n",
       "<style scoped>\n",
       "    .dataframe tbody tr th:only-of-type {\n",
       "        vertical-align: middle;\n",
       "    }\n",
       "\n",
       "    .dataframe tbody tr th {\n",
       "        vertical-align: top;\n",
       "    }\n",
       "\n",
       "    .dataframe thead th {\n",
       "        text-align: right;\n",
       "    }\n",
       "</style>\n",
       "<table border=\"1\" class=\"dataframe\">\n",
       "  <thead>\n",
       "    <tr style=\"text-align: right;\">\n",
       "      <th></th>\n",
       "      <th>tx_hash</th>\n",
       "      <th>block_height</th>\n",
       "      <th>block_hash</th>\n",
       "      <th>block_time</th>\n",
       "      <th>position_in_block</th>\n",
       "      <th>sending_address</th>\n",
       "      <th>reference_address</th>\n",
       "      <th>tx_type</th>\n",
       "      <th>amount</th>\n",
       "      <th>version</th>\n",
       "      <th>is_valid</th>\n",
       "      <th>fee</th>\n",
       "    </tr>\n",
       "  </thead>\n",
       "  <tbody>\n",
       "    <tr>\n",
       "      <th>1508697</th>\n",
       "      <td>ae1e8ab9161adda8e013180b69496676155d12fed02158...</td>\n",
       "      <td>522647</td>\n",
       "      <td>0000000000000000002b28f90f1040357c3bcd30e93976...</td>\n",
       "      <td>2018-05-14 15:48:10</td>\n",
       "      <td>1822</td>\n",
       "      <td>3HvcvjYhhCjoHayU2HTBCsFvWJ8bfks3uf</td>\n",
       "      <td>3GyeFJmQynJWd8DeACm4cdEnZcckAtrfcN</td>\n",
       "      <td>Simple Send</td>\n",
       "      <td>16495.60</td>\n",
       "      <td>0</td>\n",
       "      <td>1</td>\n",
       "      <td>0.000121</td>\n",
       "    </tr>\n",
       "    <tr>\n",
       "      <th>1508698</th>\n",
       "      <td>b281f01c5da4be524f59c0878a66e906bd5b76f8e50a55...</td>\n",
       "      <td>522647</td>\n",
       "      <td>0000000000000000002b28f90f1040357c3bcd30e93976...</td>\n",
       "      <td>2018-05-14 15:48:10</td>\n",
       "      <td>1823</td>\n",
       "      <td>398wQC6NCdL7H5JsAXMUwU34xdLLnwiufg</td>\n",
       "      <td>3GyeFJmQynJWd8DeACm4cdEnZcckAtrfcN</td>\n",
       "      <td>Simple Send</td>\n",
       "      <td>1443.55</td>\n",
       "      <td>0</td>\n",
       "      <td>1</td>\n",
       "      <td>0.000193</td>\n",
       "    </tr>\n",
       "    <tr>\n",
       "      <th>1508699</th>\n",
       "      <td>2c4d18a2b3ba4ba051854e9689e857b15a3b9613323c83...</td>\n",
       "      <td>522647</td>\n",
       "      <td>0000000000000000002b28f90f1040357c3bcd30e93976...</td>\n",
       "      <td>2018-05-14 15:48:10</td>\n",
       "      <td>1941</td>\n",
       "      <td>12aYuBCdPGFxz3zaMK5znV1wrBHuwx3ARo</td>\n",
       "      <td>1DUb2YYbQA1jjaNYzVXLZ7ZioEhLXtbUru</td>\n",
       "      <td>Simple Send</td>\n",
       "      <td>1000.00</td>\n",
       "      <td>0</td>\n",
       "      <td>1</td>\n",
       "      <td>0.000062</td>\n",
       "    </tr>\n",
       "    <tr>\n",
       "      <th>1508700</th>\n",
       "      <td>4fb31f84be181ce88c22db57dc7e1e1fb790631ce94582...</td>\n",
       "      <td>522647</td>\n",
       "      <td>0000000000000000002b28f90f1040357c3bcd30e93976...</td>\n",
       "      <td>2018-05-14 15:48:10</td>\n",
       "      <td>2355</td>\n",
       "      <td>1DUb2YYbQA1jjaNYzVXLZ7ZioEhLXtbUru</td>\n",
       "      <td>17oPa4idTwU5F92StJy3U3WABLkMXUit3h</td>\n",
       "      <td>Simple Send</td>\n",
       "      <td>9400.00</td>\n",
       "      <td>0</td>\n",
       "      <td>1</td>\n",
       "      <td>0.000051</td>\n",
       "    </tr>\n",
       "    <tr>\n",
       "      <th>1508701</th>\n",
       "      <td>56d00d059035dfa6f3fb13a72e93199b95cd76d9d18725...</td>\n",
       "      <td>522647</td>\n",
       "      <td>0000000000000000002b28f90f1040357c3bcd30e93976...</td>\n",
       "      <td>2018-05-14 15:48:10</td>\n",
       "      <td>2356</td>\n",
       "      <td>1DUb2YYbQA1jjaNYzVXLZ7ZioEhLXtbUru</td>\n",
       "      <td>1CRZLHti7Dw5CumXWnU7W3FD5Emje5bzr4</td>\n",
       "      <td>Simple Send</td>\n",
       "      <td>1500.00</td>\n",
       "      <td>0</td>\n",
       "      <td>1</td>\n",
       "      <td>0.000062</td>\n",
       "    </tr>\n",
       "  </tbody>\n",
       "</table>\n",
       "</div>"
      ],
      "text/plain": [
       "                                                   tx_hash  block_height  \\\n",
       "1508697  ae1e8ab9161adda8e013180b69496676155d12fed02158...        522647   \n",
       "1508698  b281f01c5da4be524f59c0878a66e906bd5b76f8e50a55...        522647   \n",
       "1508699  2c4d18a2b3ba4ba051854e9689e857b15a3b9613323c83...        522647   \n",
       "1508700  4fb31f84be181ce88c22db57dc7e1e1fb790631ce94582...        522647   \n",
       "1508701  56d00d059035dfa6f3fb13a72e93199b95cd76d9d18725...        522647   \n",
       "\n",
       "                                                block_hash  \\\n",
       "1508697  0000000000000000002b28f90f1040357c3bcd30e93976...   \n",
       "1508698  0000000000000000002b28f90f1040357c3bcd30e93976...   \n",
       "1508699  0000000000000000002b28f90f1040357c3bcd30e93976...   \n",
       "1508700  0000000000000000002b28f90f1040357c3bcd30e93976...   \n",
       "1508701  0000000000000000002b28f90f1040357c3bcd30e93976...   \n",
       "\n",
       "                  block_time  position_in_block  \\\n",
       "1508697  2018-05-14 15:48:10               1822   \n",
       "1508698  2018-05-14 15:48:10               1823   \n",
       "1508699  2018-05-14 15:48:10               1941   \n",
       "1508700  2018-05-14 15:48:10               2355   \n",
       "1508701  2018-05-14 15:48:10               2356   \n",
       "\n",
       "                            sending_address  \\\n",
       "1508697  3HvcvjYhhCjoHayU2HTBCsFvWJ8bfks3uf   \n",
       "1508698  398wQC6NCdL7H5JsAXMUwU34xdLLnwiufg   \n",
       "1508699  12aYuBCdPGFxz3zaMK5znV1wrBHuwx3ARo   \n",
       "1508700  1DUb2YYbQA1jjaNYzVXLZ7ZioEhLXtbUru   \n",
       "1508701  1DUb2YYbQA1jjaNYzVXLZ7ZioEhLXtbUru   \n",
       "\n",
       "                          reference_address      tx_type    amount  version  \\\n",
       "1508697  3GyeFJmQynJWd8DeACm4cdEnZcckAtrfcN  Simple Send  16495.60        0   \n",
       "1508698  3GyeFJmQynJWd8DeACm4cdEnZcckAtrfcN  Simple Send   1443.55        0   \n",
       "1508699  1DUb2YYbQA1jjaNYzVXLZ7ZioEhLXtbUru  Simple Send   1000.00        0   \n",
       "1508700  17oPa4idTwU5F92StJy3U3WABLkMXUit3h  Simple Send   9400.00        0   \n",
       "1508701  1CRZLHti7Dw5CumXWnU7W3FD5Emje5bzr4  Simple Send   1500.00        0   \n",
       "\n",
       "         is_valid       fee  \n",
       "1508697         1  0.000121  \n",
       "1508698         1  0.000193  \n",
       "1508699         1  0.000062  \n",
       "1508700         1  0.000051  \n",
       "1508701         1  0.000062  "
      ]
     },
     "execution_count": 10,
     "metadata": {},
     "output_type": "execute_result"
    }
   ],
   "source": [
    "data.tail()"
   ]
  },
  {
   "cell_type": "code",
   "execution_count": 9,
   "id": "respective-beads",
   "metadata": {},
   "outputs": [
    {
     "name": "stdout",
     "output_type": "stream",
     "text": [
      "<class 'pandas.core.frame.DataFrame'>\n",
      "RangeIndex: 1508702 entries, 0 to 1508701\n",
      "Data columns (total 12 columns):\n",
      " #   Column             Non-Null Count    Dtype  \n",
      "---  ------             --------------    -----  \n",
      " 0   tx_hash            1508702 non-null  object \n",
      " 1   block_height       1508702 non-null  int64  \n",
      " 2   block_hash         1508702 non-null  object \n",
      " 3   block_time         1508702 non-null  object \n",
      " 4   position_in_block  1508702 non-null  int64  \n",
      " 5   sending_address    1508702 non-null  object \n",
      " 6   reference_address  1508669 non-null  object \n",
      " 7   tx_type            1508702 non-null  object \n",
      " 8   amount             1508700 non-null  float64\n",
      " 9   version            1508702 non-null  int64  \n",
      " 10  is_valid           1508702 non-null  int64  \n",
      " 11  fee                1508702 non-null  float64\n",
      "dtypes: float64(2), int64(4), object(6)\n",
      "memory usage: 138.1+ MB\n"
     ]
    }
   ],
   "source": [
    "data.info()"
   ]
  },
  {
   "cell_type": "markdown",
   "id": "bibliographic-census",
   "metadata": {},
   "source": [
    "We have transaction data including hash, block details, sending and reference address."
   ]
  },
  {
   "cell_type": "code",
   "execution_count": 8,
   "id": "instant-arbitration",
   "metadata": {},
   "outputs": [
    {
     "data": {
      "text/html": [
       "<div>\n",
       "<style scoped>\n",
       "    .dataframe tbody tr th:only-of-type {\n",
       "        vertical-align: middle;\n",
       "    }\n",
       "\n",
       "    .dataframe tbody tr th {\n",
       "        vertical-align: top;\n",
       "    }\n",
       "\n",
       "    .dataframe thead th {\n",
       "        text-align: right;\n",
       "    }\n",
       "</style>\n",
       "<table border=\"1\" class=\"dataframe\">\n",
       "  <thead>\n",
       "    <tr style=\"text-align: right;\">\n",
       "      <th></th>\n",
       "      <th>block_height</th>\n",
       "      <th>position_in_block</th>\n",
       "      <th>amount</th>\n",
       "      <th>version</th>\n",
       "      <th>is_valid</th>\n",
       "      <th>fee</th>\n",
       "    </tr>\n",
       "  </thead>\n",
       "  <tbody>\n",
       "    <tr>\n",
       "      <th>count</th>\n",
       "      <td>1.508702e+06</td>\n",
       "      <td>1.508702e+06</td>\n",
       "      <td>1.508700e+06</td>\n",
       "      <td>1508702.0</td>\n",
       "      <td>1.508702e+06</td>\n",
       "      <td>1.508702e+06</td>\n",
       "    </tr>\n",
       "    <tr>\n",
       "      <th>mean</th>\n",
       "      <td>5.016535e+05</td>\n",
       "      <td>7.633348e+02</td>\n",
       "      <td>4.200170e+04</td>\n",
       "      <td>0.0</td>\n",
       "      <td>9.878710e-01</td>\n",
       "      <td>7.686501e-04</td>\n",
       "    </tr>\n",
       "    <tr>\n",
       "      <th>std</th>\n",
       "      <td>2.114673e+04</td>\n",
       "      <td>6.780329e+02</td>\n",
       "      <td>9.646539e+05</td>\n",
       "      <td>0.0</td>\n",
       "      <td>1.094617e-01</td>\n",
       "      <td>1.230914e-03</td>\n",
       "    </tr>\n",
       "    <tr>\n",
       "      <th>min</th>\n",
       "      <td>3.241400e+05</td>\n",
       "      <td>1.000000e+00</td>\n",
       "      <td>0.000000e+00</td>\n",
       "      <td>0.0</td>\n",
       "      <td>0.000000e+00</td>\n",
       "      <td>0.000000e+00</td>\n",
       "    </tr>\n",
       "    <tr>\n",
       "      <th>25%</th>\n",
       "      <td>4.964600e+05</td>\n",
       "      <td>1.940000e+02</td>\n",
       "      <td>4.750000e+02</td>\n",
       "      <td>0.0</td>\n",
       "      <td>1.000000e+00</td>\n",
       "      <td>1.003600e-04</td>\n",
       "    </tr>\n",
       "    <tr>\n",
       "      <th>50%</th>\n",
       "      <td>5.055950e+05</td>\n",
       "      <td>5.540000e+02</td>\n",
       "      <td>1.998000e+03</td>\n",
       "      <td>0.0</td>\n",
       "      <td>1.000000e+00</td>\n",
       "      <td>5.142850e-04</td>\n",
       "    </tr>\n",
       "    <tr>\n",
       "      <th>75%</th>\n",
       "      <td>5.155750e+05</td>\n",
       "      <td>1.198000e+03</td>\n",
       "      <td>1.037500e+04</td>\n",
       "      <td>0.0</td>\n",
       "      <td>1.000000e+00</td>\n",
       "      <td>1.000300e-03</td>\n",
       "    </tr>\n",
       "    <tr>\n",
       "      <th>max</th>\n",
       "      <td>5.226470e+05</td>\n",
       "      <td>4.415000e+03</td>\n",
       "      <td>6.123400e+08</td>\n",
       "      <td>0.0</td>\n",
       "      <td>1.000000e+00</td>\n",
       "      <td>1.091870e-01</td>\n",
       "    </tr>\n",
       "  </tbody>\n",
       "</table>\n",
       "</div>"
      ],
      "text/plain": [
       "       block_height  position_in_block        amount    version      is_valid  \\\n",
       "count  1.508702e+06       1.508702e+06  1.508700e+06  1508702.0  1.508702e+06   \n",
       "mean   5.016535e+05       7.633348e+02  4.200170e+04        0.0  9.878710e-01   \n",
       "std    2.114673e+04       6.780329e+02  9.646539e+05        0.0  1.094617e-01   \n",
       "min    3.241400e+05       1.000000e+00  0.000000e+00        0.0  0.000000e+00   \n",
       "25%    4.964600e+05       1.940000e+02  4.750000e+02        0.0  1.000000e+00   \n",
       "50%    5.055950e+05       5.540000e+02  1.998000e+03        0.0  1.000000e+00   \n",
       "75%    5.155750e+05       1.198000e+03  1.037500e+04        0.0  1.000000e+00   \n",
       "max    5.226470e+05       4.415000e+03  6.123400e+08        0.0  1.000000e+00   \n",
       "\n",
       "                fee  \n",
       "count  1.508702e+06  \n",
       "mean   7.686501e-04  \n",
       "std    1.230914e-03  \n",
       "min    0.000000e+00  \n",
       "25%    1.003600e-04  \n",
       "50%    5.142850e-04  \n",
       "75%    1.000300e-03  \n",
       "max    1.091870e-01  "
      ]
     },
     "execution_count": 8,
     "metadata": {},
     "output_type": "execute_result"
    }
   ],
   "source": [
    "data.describe()"
   ]
  },
  {
   "cell_type": "markdown",
   "id": "representative-immune",
   "metadata": {},
   "source": [
    "- block height centeres around 5 with the minmum being 3.2 and max 5.2 which looks pretty consistent\n",
    "- Amounts are in USDT and range from 0 to 612m.\n",
    "- not sure what version does and there is no variation so we'll delete the column\n",
    "- fees are small and close to 0."
   ]
  },
  {
   "cell_type": "code",
   "execution_count": 18,
   "id": "considered-wesley",
   "metadata": {},
   "outputs": [
    {
     "data": {
      "text/plain": [
       "Simple Send                 1490224\n",
       "Crowdsale Purchase               97\n",
       "Grant Property Tokens            80\n",
       "Create Property - Manual          1\n",
       "Revoke Property Tokens            1\n",
       "Name: tx_type, dtype: int64"
      ]
     },
     "execution_count": 18,
     "metadata": {},
     "output_type": "execute_result"
    }
   ],
   "source": [
    "data.tx_type.value_counts()"
   ]
  },
  {
   "cell_type": "markdown",
   "id": "fifty-prairie",
   "metadata": {},
   "source": [
    "We are only interested in simple send transactions and will only keep valid transactions for our ananlysis."
   ]
  },
  {
   "cell_type": "code",
   "execution_count": 21,
   "id": "tender-breakfast",
   "metadata": {},
   "outputs": [],
   "source": [
    "#perform described transformations\n",
    "data = data[data['is_valid'] == 1]\n",
    "data = data[data['tx_type'] == 'Simple Send']\n",
    "data.drop(['version','is_valid','tx_type'],axis=1,inplace=True)"
   ]
  },
  {
   "cell_type": "markdown",
   "id": "indonesian-receptor",
   "metadata": {},
   "source": [
    "## Transaction analysis\n",
    "Before we start we can already think about what we are expecting to see. Because USDT is issued by Bitfinix, their wallet should have a lot of transactions. We also know that USDT are mostly traded on exchanges which have large wallets. Some wallet adresses have been identified in the [tether rich list](https://usdt.tokenview.com/en/topaccount) which will help us to label some of the bigger wallets we expect to show many transactions. "
   ]
  },
  {
   "cell_type": "code",
   "execution_count": 49,
   "id": "worldwide-niger",
   "metadata": {},
   "outputs": [],
   "source": [
    "data.replace({'1FoWyxwPXuj4C6abqwhjDWdz6D4PZgYRjA':'Binance', \n",
    "                  '1NTMakcgVwQpMdGxRQnFKyb3G1FAJysSfz':'Tether treasury',\n",
    "                  '3GyeFJmQynJWd8DeACm4cdEnZcckAtrfcN':'Kraken',\n",
    "                  '1HckjUpRGcrrRAtFaaCAUaGjsPx9oYmLaZ':'Huobi.com-2',\n",
    "                  '1KYiKJEfdJtap9QX2v9BXJMpz2SfU4pgZw':'Bitfinex',\n",
    "                  '1Po1oWkD2LmodfkBYiAktwh76vkF93LKnh':'Poloniex'},inplace=True)"
   ]
  },
  {
   "cell_type": "code",
   "execution_count": 51,
   "id": "recent-inventory",
   "metadata": {},
   "outputs": [
    {
     "data": {
      "text/plain": [
       "1490224"
      ]
     },
     "execution_count": 51,
     "metadata": {},
     "output_type": "execute_result"
    }
   ],
   "source": [
    "len(data)"
   ]
  },
  {
   "cell_type": "markdown",
   "id": "eastern-median",
   "metadata": {},
   "source": [
    "We want to look at the relationships between senders and receivers. To see something in the network chart at all we can't keep 150k rows. To reduce the volume, let's sum the amount for repeated transactions between the same parties. The input to the networkx graph is source, target, weight (amount)\n"
   ]
  },
  {
   "cell_type": "code",
   "execution_count": 303,
   "id": "structured-donor",
   "metadata": {},
   "outputs": [
    {
     "data": {
      "text/html": [
       "<div>\n",
       "<style scoped>\n",
       "    .dataframe tbody tr th:only-of-type {\n",
       "        vertical-align: middle;\n",
       "    }\n",
       "\n",
       "    .dataframe tbody tr th {\n",
       "        vertical-align: top;\n",
       "    }\n",
       "\n",
       "    .dataframe thead th {\n",
       "        text-align: right;\n",
       "    }\n",
       "</style>\n",
       "<table border=\"1\" class=\"dataframe\">\n",
       "  <thead>\n",
       "    <tr style=\"text-align: right;\">\n",
       "      <th></th>\n",
       "      <th>sending_address</th>\n",
       "      <th>reference_address</th>\n",
       "      <th>frequency</th>\n",
       "      <th>amount_mean</th>\n",
       "      <th>amount_sum</th>\n",
       "    </tr>\n",
       "  </thead>\n",
       "  <tbody>\n",
       "    <tr>\n",
       "      <th>0</th>\n",
       "      <td>11129xtc9QYm9ToxLpTsFECmcoUNTNw7L8</td>\n",
       "      <td>Huobi.com-2</td>\n",
       "      <td>10</td>\n",
       "      <td>53259.09</td>\n",
       "      <td>532590.9</td>\n",
       "    </tr>\n",
       "    <tr>\n",
       "      <th>1</th>\n",
       "      <td>111hvbgaNv57PxY5zjK5XYoYZLjWmQNnM</td>\n",
       "      <td>171er1nakRbndTqHZeJrqRrrWU9iCGxBfB</td>\n",
       "      <td>1</td>\n",
       "      <td>20.00</td>\n",
       "      <td>20.0</td>\n",
       "    </tr>\n",
       "    <tr>\n",
       "      <th>2</th>\n",
       "      <td>111jdh82hKMzLya8GhvEBBenpH8aCQKE1</td>\n",
       "      <td>15XVG2UnYJAaPL59y8qWRQUV7RvG18VxsF</td>\n",
       "      <td>1</td>\n",
       "      <td>127.60</td>\n",
       "      <td>127.6</td>\n",
       "    </tr>\n",
       "    <tr>\n",
       "      <th>3</th>\n",
       "      <td>1121jKZbkSR5npoF3un9GrqNAS4oJVWpAd</td>\n",
       "      <td>15XVG2UnYJAaPL59y8qWRQUV7RvG18VxsF</td>\n",
       "      <td>1</td>\n",
       "      <td>1649.00</td>\n",
       "      <td>1649.0</td>\n",
       "    </tr>\n",
       "    <tr>\n",
       "      <th>4</th>\n",
       "      <td>1121mCV75DsxfS1Sfyy2RQkaSmdf1hQnZs</td>\n",
       "      <td>1DUb2YYbQA1jjaNYzVXLZ7ZioEhLXtbUru</td>\n",
       "      <td>1</td>\n",
       "      <td>145.00</td>\n",
       "      <td>145.0</td>\n",
       "    </tr>\n",
       "  </tbody>\n",
       "</table>\n",
       "</div>"
      ],
      "text/plain": [
       "                      sending_address                   reference_address  \\\n",
       "0  11129xtc9QYm9ToxLpTsFECmcoUNTNw7L8                         Huobi.com-2   \n",
       "1   111hvbgaNv57PxY5zjK5XYoYZLjWmQNnM  171er1nakRbndTqHZeJrqRrrWU9iCGxBfB   \n",
       "2   111jdh82hKMzLya8GhvEBBenpH8aCQKE1  15XVG2UnYJAaPL59y8qWRQUV7RvG18VxsF   \n",
       "3  1121jKZbkSR5npoF3un9GrqNAS4oJVWpAd  15XVG2UnYJAaPL59y8qWRQUV7RvG18VxsF   \n",
       "4  1121mCV75DsxfS1Sfyy2RQkaSmdf1hQnZs  1DUb2YYbQA1jjaNYzVXLZ7ZioEhLXtbUru   \n",
       "\n",
       "   frequency  amount_mean  amount_sum  \n",
       "0         10     53259.09    532590.9  \n",
       "1          1        20.00        20.0  \n",
       "2          1       127.60       127.6  \n",
       "3          1      1649.00      1649.0  \n",
       "4          1       145.00       145.0  "
      ]
     },
     "execution_count": 303,
     "metadata": {},
     "output_type": "execute_result"
    }
   ],
   "source": [
    "network_data = data.groupby(['sending_address','reference_address']).agg(frequency=('amount', 'count'),amount_mean=('amount', 'mean'),amount_sum=('amount','sum')).reset_index()\n",
    "network_data.head()"
   ]
  },
  {
   "cell_type": "markdown",
   "id": "artificial-jewelry",
   "metadata": {},
   "source": [
    "There are still 70K+ rows, too big for a graph. Take only top transactions.\n",
    "\n",
    "### Network graph"
   ]
  },
  {
   "cell_type": "code",
   "execution_count": 304,
   "id": "furnished-conviction",
   "metadata": {},
   "outputs": [
    {
     "data": {
      "text/html": [
       "\n",
       "        <iframe\n",
       "            width=\"100%\"\n",
       "            height=\"750px\"\n",
       "            src=\"USDT_toptransactions.html\"\n",
       "            frameborder=\"0\"\n",
       "            allowfullscreen\n",
       "        ></iframe>\n",
       "        "
      ],
      "text/plain": [
       "<IPython.lib.display.IFrame at 0x1e845a57e80>"
      ]
     },
     "execution_count": 304,
     "metadata": {},
     "output_type": "execute_result"
    }
   ],
   "source": [
    "network_data = count_send.sort_values(by='amount_sum',ascending=False)\n",
    "net = plot_network(network_data[:500],'sending_address','reference_address','amount_sum')\n",
    "net.show('USDT_toptransactions.html')"
   ]
  },
  {
   "cell_type": "markdown",
   "id": "minus-techno",
   "metadata": {},
   "source": [
    "Topology doesn't change much when adding more top transactions. 150 seems to be the defining numbers which includes a cluster around Bitfinext with strong links to Poliniex and a cluster around Binance with week ties to other exchanges. Adding direction to the graph gives us an idea about flows. Bitfinex treasury to Bitfinex also involves a couple other addreses which we could now label Bitfinex associated.\n",
    "\n",
    "This visualisation helps to identify related wallet addresses and we can see a few clusters that are not on the rich list but see strong ties with other addresses. "
   ]
  },
  {
   "cell_type": "code",
   "execution_count": 307,
   "id": "challenging-phrase",
   "metadata": {},
   "outputs": [
    {
     "data": {
      "text/html": [
       "\n",
       "        <iframe\n",
       "            width=\"100%\"\n",
       "            height=\"750px\"\n",
       "            src=\"USDT_toptransactions.html\"\n",
       "            frameborder=\"0\"\n",
       "            allowfullscreen\n",
       "        ></iframe>\n",
       "        "
      ],
      "text/plain": [
       "<IPython.lib.display.IFrame at 0x1e8459ccc40>"
      ]
     },
     "execution_count": 307,
     "metadata": {},
     "output_type": "execute_result"
    }
   ],
   "source": [
    "network_data = count_send.sort_values(by='frequency',ascending=False)\n",
    "net = plot_network(network_data[:1000],'sending_address','reference_address','amount_sum')\n",
    "net.show('USDT_toptransactions.html')"
   ]
  },
  {
   "cell_type": "markdown",
   "id": "armed-negative",
   "metadata": {},
   "source": [
    "Using frequency as edge weight shows again that exchanges play the main role of distributing and receiving tether. There is some connectivity between hubs via intermediate wallet adresses.  "
   ]
  },
  {
   "cell_type": "markdown",
   "id": "knowing-anaheim",
   "metadata": {},
   "source": [
    "Let's have a look if this has changed over time.\n",
    "\n",
    "### Network graphs by year\n",
    "Let's see if something changes over time"
   ]
  },
  {
   "cell_type": "code",
   "execution_count": 143,
   "id": "sapphire-minnesota",
   "metadata": {},
   "outputs": [],
   "source": [
    "data.block_time = pd.to_datetime(data.block_time)\n",
    "data['Y'] = data.block_time.dt.year"
   ]
  },
  {
   "cell_type": "code",
   "execution_count": 144,
   "id": "major-knight",
   "metadata": {},
   "outputs": [],
   "source": [
    "network_data_y = data.groupby(['Y','sending_address','reference_address'])['amount'].sum().reset_index()\n",
    "network_data_y.columns = ['year','sender','receiver','amount']"
   ]
  },
  {
   "cell_type": "markdown",
   "id": "technological-fellowship",
   "metadata": {},
   "source": [
    "#### 2014"
   ]
  },
  {
   "cell_type": "code",
   "execution_count": 131,
   "id": "charitable-bottom",
   "metadata": {},
   "outputs": [
    {
     "data": {
      "text/html": [
       "\n",
       "        <iframe\n",
       "            width=\"100%\"\n",
       "            height=\"750px\"\n",
       "            src=\"USDT_2014_transactions.html\"\n",
       "            frameborder=\"0\"\n",
       "            allowfullscreen\n",
       "        ></iframe>\n",
       "        "
      ],
      "text/plain": [
       "<IPython.lib.display.IFrame at 0x1e87294da30>"
      ]
     },
     "execution_count": 131,
     "metadata": {},
     "output_type": "execute_result"
    }
   ],
   "source": [
    "net = plot_network(network_data[network_data_y.year==2014])\n",
    "net.show('USDT_2014_transactions.html')"
   ]
  },
  {
   "cell_type": "markdown",
   "id": "floppy-technique",
   "metadata": {},
   "source": [
    "This was early days for Tether and not many transactions had been generated. We can't identify any of the wallets but it looks like there are two big exchanges involved, possibly Bitfinex one other.\n",
    "\n",
    "#### 2015"
   ]
  },
  {
   "cell_type": "code",
   "execution_count": 145,
   "id": "digital-third",
   "metadata": {},
   "outputs": [
    {
     "data": {
      "text/html": [
       "\n",
       "        <iframe\n",
       "            width=\"100%\"\n",
       "            height=\"750px\"\n",
       "            src=\"USDT_2015_transactions.html\"\n",
       "            frameborder=\"0\"\n",
       "            allowfullscreen\n",
       "        ></iframe>\n",
       "        "
      ],
      "text/plain": [
       "<IPython.lib.display.IFrame at 0x1e87291fa00>"
      ]
     },
     "execution_count": 145,
     "metadata": {},
     "output_type": "execute_result"
    }
   ],
   "source": [
    "net = plot_network(network_data[network_data_y.year==2015])\n",
    "net.show('USDT_2015_transactions.html')"
   ]
  },
  {
   "cell_type": "markdown",
   "id": "pediatric-campaign",
   "metadata": {},
   "source": [
    "About 5 central nodes can be seen. Only one is labelled as Poliniex. I assume the others are exchanges as well like Bitfinex and Bittrex but that's a guess. The following years see a few more big nodes appear and some disappear and the transaction volume increased. I will look into this in more detail next.\n",
    "\n",
    "## Network Analysis"
   ]
  },
  {
   "cell_type": "code",
   "execution_count": 165,
   "id": "wound-bracket",
   "metadata": {},
   "outputs": [],
   "source": [
    "def network_stats(G):\n",
    "    N, K = G.order(), G.size()\n",
    "    avg_deg = float(K) / N \n",
    "    print('Order: ',N)\n",
    "    print('Size: ',K)\n",
    "    print('average degree: ',avg_deg)"
   ]
  },
  {
   "cell_type": "code",
   "execution_count": 255,
   "id": "discrete-agenda",
   "metadata": {},
   "outputs": [
    {
     "name": "stdout",
     "output_type": "stream",
     "text": [
      "Order:  363857\n",
      "Size:  698435\n",
      "average degree:  1.9195315742173436\n"
     ]
    }
   ],
   "source": [
    "G = nx.from_pandas_edgelist(network_data,\n",
    "                           source='sender',\n",
    "                           target='receiver',\n",
    "                           edge_attr='amount')\n",
    "network_stats(G)"
   ]
  },
  {
   "cell_type": "code",
   "execution_count": 266,
   "id": "sunset-compilation",
   "metadata": {},
   "outputs": [
    {
     "name": "stdout",
     "output_type": "stream",
     "text": [
      "Order:  363857\n",
      "Size:  734626\n",
      "average degree:  2.0189964738894677\n"
     ]
    }
   ],
   "source": [
    "#directed graph\n",
    "G_D = nx.from_pandas_edgelist(network_data,#[:40000],\n",
    "                           source='sender',\n",
    "                           target='receiver',\n",
    "                           edge_attr='amount',create_using=nx.DiGraph())\n",
    "network_stats(G_D)"
   ]
  },
  {
   "cell_type": "markdown",
   "id": "pressed-reflection",
   "metadata": {},
   "source": [
    "Total Edges (size) / Total Nodes (order) = Average Degree\n",
    "The average degree of directed or undirected graph are very similar around 2. This means, each node as on average two connections in the network."
   ]
  },
  {
   "cell_type": "code",
   "execution_count": 264,
   "id": "missing-insertion",
   "metadata": {},
   "outputs": [
    {
     "data": {
      "text/plain": [
       "2691"
      ]
     },
     "execution_count": 264,
     "metadata": {},
     "output_type": "execute_result"
    }
   ],
   "source": [
    "nx.number_strongly_connected_components(G_D) # only use 40000 transactions for this\n",
    "#59575 on the full network"
   ]
  },
  {
   "cell_type": "code",
   "execution_count": 265,
   "id": "conscious-savage",
   "metadata": {},
   "outputs": [
    {
     "data": {
      "text/plain": [
       "5"
      ]
     },
     "execution_count": 265,
     "metadata": {},
     "output_type": "execute_result"
    }
   ],
   "source": [
    "nx.number_weakly_connected_components(G_D) # only use 40000 transactions for this\n",
    "#3 on the full network"
   ]
  },
  {
   "cell_type": "markdown",
   "id": "several-hollywood",
   "metadata": {},
   "source": [
    "#### Degree distribution"
   ]
  },
  {
   "cell_type": "code",
   "execution_count": 208,
   "id": "sophisticated-idaho",
   "metadata": {},
   "outputs": [],
   "source": [
    "in_degrees = G.in_degree() # dictionary node:degree\n",
    "out_degrees = G.out_degree()"
   ]
  },
  {
   "cell_type": "code",
   "execution_count": 221,
   "id": "regional-signature",
   "metadata": {},
   "outputs": [],
   "source": [
    "in_degrees = pd.DataFrame.from_dict(in_degrees)\n",
    "in_degrees.columns = ['rec_address','count']"
   ]
  },
  {
   "cell_type": "code",
   "execution_count": 244,
   "id": "antique-refund",
   "metadata": {},
   "outputs": [
    {
     "data": {
      "text/plain": [
       "<AxesSubplot:>"
      ]
     },
     "execution_count": 244,
     "metadata": {},
     "output_type": "execute_result"
    },
    {
     "data": {
      "image/png": "[encoded data removed]",
      "text/plain": [
       "<Figure size 432x288 with 1 Axes>"
      ]
     },
     "metadata": {
      "needs_background": "light"
     },
     "output_type": "display_data"
    }
   ],
   "source": [
    "in_degrees['count'].plot(loglog=True)"
   ]
  },
  {
   "cell_type": "code",
   "execution_count": 234,
   "id": "endangered-resort",
   "metadata": {},
   "outputs": [],
   "source": [
    "out_degrees = pd.DataFrame.from_dict(out_degrees)\n",
    "out_degrees.columns = ['send_address','count']"
   ]
  },
  {
   "cell_type": "code",
   "execution_count": 249,
   "id": "figured-morris",
   "metadata": {},
   "outputs": [
    {
     "data": {
      "text/plain": [
       "<AxesSubplot:>"
      ]
     },
     "execution_count": 249,
     "metadata": {},
     "output_type": "execute_result"
    },
    {
     "data": {
      "image/png": "[encoded data removed]",
      "text/plain": [
       "<Figure size 432x288 with 1 Axes>"
      ]
     },
     "metadata": {
      "needs_background": "light"
     },
     "output_type": "display_data"
    }
   ],
   "source": [
    "out_degrees['count'].plot(loglog=True)"
   ]
  },
  {
   "cell_type": "markdown",
   "id": "early-incident",
   "metadata": {},
   "source": [
    "## Look at transaction volumne and amounts per block"
   ]
  },
  {
   "cell_type": "code",
   "execution_count": 315,
   "id": "latin-serbia",
   "metadata": {},
   "outputs": [],
   "source": [
    "blocks=data.groupby(['block_height']).agg(transaction_vol=('tx_hash','count'),amount=('amount','sum'),fee=('fee','sum'),year=('Y','sum'))"
   ]
  },
  {
   "cell_type": "code",
   "execution_count": 318,
   "id": "imported-invitation",
   "metadata": {},
   "outputs": [],
   "source": [
    "blocks['year'] = blocks['year']/blocks['transaction_vol']"
   ]
  },
  {
   "cell_type": "code",
   "execution_count": 330,
   "id": "peripheral-fellowship",
   "metadata": {},
   "outputs": [
    {
     "data": {
      "text/plain": [
       "<AxesSubplot:xlabel='block_height'>"
      ]
     },
     "execution_count": 330,
     "metadata": {},
     "output_type": "execute_result"
    },
    {
     "data": {
      "image/png": "[encoded data removed]",
      "text/plain": [
       "<Figure size 432x288 with 1 Axes>"
      ]
     },
     "metadata": {
      "needs_background": "light"
     },
     "output_type": "display_data"
    }
   ],
   "source": [
    "blocks.transaction_vol.plot(logy=True)"
   ]
  },
  {
   "cell_type": "code",
   "execution_count": 333,
   "id": "threatened-retreat",
   "metadata": {},
   "outputs": [
    {
     "data": {
      "text/plain": [
       "<AxesSubplot:xlabel='block_height'>"
      ]
     },
     "execution_count": 333,
     "metadata": {},
     "output_type": "execute_result"
    },
    {
     "data": {
      "image/png": "[encoded data removed]",
      "text/plain": [
       "<Figure size 432x288 with 1 Axes>"
      ]
     },
     "metadata": {
      "needs_background": "light"
     },
     "output_type": "display_data"
    }
   ],
   "source": [
    "blocks.amount.plot()"
   ]
  },
  {
   "cell_type": "code",
   "execution_count": 334,
   "id": "exposed-genome",
   "metadata": {},
   "outputs": [
    {
     "data": {
      "text/plain": [
       "<AxesSubplot:xlabel='block_height'>"
      ]
     },
     "execution_count": 334,
     "metadata": {},
     "output_type": "execute_result"
    },
    {
     "data": {
      "image/png": "[encoded data removed]",
      "text/plain": [
       "<Figure size 432x288 with 1 Axes>"
      ]
     },
     "metadata": {
      "needs_background": "light"
     },
     "output_type": "display_data"
    }
   ],
   "source": [
    "blocks.fee.plot()"
   ]
  },
  {
   "cell_type": "code",
   "execution_count": 327,
   "id": "bigger-nerve",
   "metadata": {},
   "outputs": [
    {
     "data": {
      "text/html": [
       "<div>\n",
       "<style scoped>\n",
       "    .dataframe tbody tr th:only-of-type {\n",
       "        vertical-align: middle;\n",
       "    }\n",
       "\n",
       "    .dataframe tbody tr th {\n",
       "        vertical-align: top;\n",
       "    }\n",
       "\n",
       "    .dataframe thead th {\n",
       "        text-align: right;\n",
       "    }\n",
       "</style>\n",
       "<table border=\"1\" class=\"dataframe\">\n",
       "  <thead>\n",
       "    <tr style=\"text-align: right;\">\n",
       "      <th></th>\n",
       "      <th>transaction_vol</th>\n",
       "      <th>amount</th>\n",
       "      <th>fee</th>\n",
       "      <th>year</th>\n",
       "    </tr>\n",
       "  </thead>\n",
       "  <tbody>\n",
       "    <tr>\n",
       "      <th>transaction_vol</th>\n",
       "      <td>1.000000</td>\n",
       "      <td>0.329450</td>\n",
       "      <td>0.563667</td>\n",
       "      <td>0.414298</td>\n",
       "    </tr>\n",
       "    <tr>\n",
       "      <th>amount</th>\n",
       "      <td>0.329450</td>\n",
       "      <td>1.000000</td>\n",
       "      <td>0.195686</td>\n",
       "      <td>0.202304</td>\n",
       "    </tr>\n",
       "    <tr>\n",
       "      <th>fee</th>\n",
       "      <td>0.563667</td>\n",
       "      <td>0.195686</td>\n",
       "      <td>1.000000</td>\n",
       "      <td>0.201977</td>\n",
       "    </tr>\n",
       "    <tr>\n",
       "      <th>year</th>\n",
       "      <td>0.414298</td>\n",
       "      <td>0.202304</td>\n",
       "      <td>0.201977</td>\n",
       "      <td>1.000000</td>\n",
       "    </tr>\n",
       "  </tbody>\n",
       "</table>\n",
       "</div>"
      ],
      "text/plain": [
       "                 transaction_vol    amount       fee      year\n",
       "transaction_vol         1.000000  0.329450  0.563667  0.414298\n",
       "amount                  0.329450  1.000000  0.195686  0.202304\n",
       "fee                     0.563667  0.195686  1.000000  0.201977\n",
       "year                    0.414298  0.202304  0.201977  1.000000"
      ]
     },
     "execution_count": 327,
     "metadata": {},
     "output_type": "execute_result"
    }
   ],
   "source": [
    "blocks.corr()"
   ]
  },
  {
   "cell_type": "markdown",
   "id": "retained-silicon",
   "metadata": {},
   "source": [
    "Transaction volume as well as amount per transaction sent has increased over time. There is also some correlation between transaction volume and the sum of fees per transaction that was charged.\n",
    "\n",
    "## Estimating wallet size from receiving transactions"
   ]
  },
  {
   "cell_type": "code",
   "execution_count": 342,
   "id": "geographic-samba",
   "metadata": {},
   "outputs": [],
   "source": [
    "received = data.groupby('reference_address')['amount'].sum().reset_index()"
   ]
  },
  {
   "cell_type": "code",
   "execution_count": 343,
   "id": "first-sending",
   "metadata": {},
   "outputs": [],
   "source": [
    "sent = data.groupby('sending_address')['amount'].sum().reset_index()"
   ]
  },
  {
   "cell_type": "code",
   "execution_count": 346,
   "id": "partial-motion",
   "metadata": {},
   "outputs": [],
   "source": [
    "received.rename({'reference_address':'address','amount':'received'},axis=1,inplace=True)\n",
    "sent.rename({'sending_address':'address','amount':'sent'},axis=1,inplace=True)"
   ]
  },
  {
   "cell_type": "code",
   "execution_count": 349,
   "id": "thorough-australia",
   "metadata": {},
   "outputs": [],
   "source": [
    "trans_amounts = received.merge(sent)"
   ]
  },
  {
   "cell_type": "code",
   "execution_count": 353,
   "id": "sitting-space",
   "metadata": {},
   "outputs": [],
   "source": [
    "trans_amounts['wallet_size'] = trans_amounts.received-trans_amounts.sent"
   ]
  },
  {
   "cell_type": "markdown",
   "id": "ranking-shopper",
   "metadata": {},
   "source": [
    "### Top 10 wallets with more outgoings than incoming coins"
   ]
  },
  {
   "cell_type": "code",
   "execution_count": 368,
   "id": "rising-passion",
   "metadata": {},
   "outputs": [
    {
     "data": {
      "text/html": [
       "<div>\n",
       "<style scoped>\n",
       "    .dataframe tbody tr th:only-of-type {\n",
       "        vertical-align: middle;\n",
       "    }\n",
       "\n",
       "    .dataframe tbody tr th {\n",
       "        vertical-align: top;\n",
       "    }\n",
       "\n",
       "    .dataframe thead th {\n",
       "        text-align: right;\n",
       "    }\n",
       "</style>\n",
       "<table border=\"1\" class=\"dataframe\">\n",
       "  <thead>\n",
       "    <tr style=\"text-align: right;\">\n",
       "      <th></th>\n",
       "      <th>address</th>\n",
       "      <th>received</th>\n",
       "      <th>sent</th>\n",
       "      <th>wallet_size</th>\n",
       "    </tr>\n",
       "  </thead>\n",
       "  <tbody>\n",
       "    <tr>\n",
       "      <th>305124</th>\n",
       "      <td>Tether treasury</td>\n",
       "      <td>5.109928e+08</td>\n",
       "      <td>2.075033e+09</td>\n",
       "      <td>-1.564040e+09</td>\n",
       "    </tr>\n",
       "    <tr>\n",
       "      <th>293414</th>\n",
       "      <td>3BbDtxBSjgfTRxaBUgR2JACWRukLKtZdiQ</td>\n",
       "      <td>2.808872e+07</td>\n",
       "      <td>7.001371e+08</td>\n",
       "      <td>-6.720484e+08</td>\n",
       "    </tr>\n",
       "    <tr>\n",
       "      <th>68515</th>\n",
       "      <td>17ScKNXo4cL8DyfWfcCWu1uJySQuJm7iKC</td>\n",
       "      <td>1.000000e+01</td>\n",
       "      <td>9.010506e+07</td>\n",
       "      <td>-9.010505e+07</td>\n",
       "    </tr>\n",
       "    <tr>\n",
       "      <th>141114</th>\n",
       "      <td>1DGUWy6N6iHTpussbSP8XrK96tZgDboiWK</td>\n",
       "      <td>5.121772e+04</td>\n",
       "      <td>5.334380e+07</td>\n",
       "      <td>-5.329258e+07</td>\n",
       "    </tr>\n",
       "    <tr>\n",
       "      <th>280989</th>\n",
       "      <td>1gJ4FX7n4Udk1LVUSnutAgznyG9JZdQEU</td>\n",
       "      <td>3.171503e+07</td>\n",
       "      <td>7.491844e+07</td>\n",
       "      <td>-4.320341e+07</td>\n",
       "    </tr>\n",
       "    <tr>\n",
       "      <th>9877</th>\n",
       "      <td>12hnbu1xVuYF4VhaXYFyw6Pq2eudj3CG4g</td>\n",
       "      <td>1.531729e+06</td>\n",
       "      <td>9.977392e+06</td>\n",
       "      <td>-8.445663e+06</td>\n",
       "    </tr>\n",
       "    <tr>\n",
       "      <th>21171</th>\n",
       "      <td>13coLgY8DpWH7yjunMwyUgjEZQQbrAYT59</td>\n",
       "      <td>1.327500e+05</td>\n",
       "      <td>2.351433e+06</td>\n",
       "      <td>-2.218683e+06</td>\n",
       "    </tr>\n",
       "    <tr>\n",
       "      <th>289433</th>\n",
       "      <td>377UotoWsGk7K2Sx2QCnSVRBhCEZLtQtE4</td>\n",
       "      <td>3.128070e+06</td>\n",
       "      <td>4.628069e+06</td>\n",
       "      <td>-1.499999e+06</td>\n",
       "    </tr>\n",
       "    <tr>\n",
       "      <th>256994</th>\n",
       "      <td>1Nf3oM2pmoKx7M5oNUhyKYr3GLecineMHX</td>\n",
       "      <td>2.778268e+06</td>\n",
       "      <td>4.029768e+06</td>\n",
       "      <td>-1.251500e+06</td>\n",
       "    </tr>\n",
       "    <tr>\n",
       "      <th>239293</th>\n",
       "      <td>1MDVUq9wSSjrrZioy8ajB6Akz8umBnfbGi</td>\n",
       "      <td>1.100000e+02</td>\n",
       "      <td>8.671120e+05</td>\n",
       "      <td>-8.670020e+05</td>\n",
       "    </tr>\n",
       "  </tbody>\n",
       "</table>\n",
       "</div>"
      ],
      "text/plain": [
       "                                   address      received          sent  \\\n",
       "305124                     Tether treasury  5.109928e+08  2.075033e+09   \n",
       "293414  3BbDtxBSjgfTRxaBUgR2JACWRukLKtZdiQ  2.808872e+07  7.001371e+08   \n",
       "68515   17ScKNXo4cL8DyfWfcCWu1uJySQuJm7iKC  1.000000e+01  9.010506e+07   \n",
       "141114  1DGUWy6N6iHTpussbSP8XrK96tZgDboiWK  5.121772e+04  5.334380e+07   \n",
       "280989   1gJ4FX7n4Udk1LVUSnutAgznyG9JZdQEU  3.171503e+07  7.491844e+07   \n",
       "9877    12hnbu1xVuYF4VhaXYFyw6Pq2eudj3CG4g  1.531729e+06  9.977392e+06   \n",
       "21171   13coLgY8DpWH7yjunMwyUgjEZQQbrAYT59  1.327500e+05  2.351433e+06   \n",
       "289433  377UotoWsGk7K2Sx2QCnSVRBhCEZLtQtE4  3.128070e+06  4.628069e+06   \n",
       "256994  1Nf3oM2pmoKx7M5oNUhyKYr3GLecineMHX  2.778268e+06  4.029768e+06   \n",
       "239293  1MDVUq9wSSjrrZioy8ajB6Akz8umBnfbGi  1.100000e+02  8.671120e+05   \n",
       "\n",
       "         wallet_size  \n",
       "305124 -1.564040e+09  \n",
       "293414 -6.720484e+08  \n",
       "68515  -9.010505e+07  \n",
       "141114 -5.329258e+07  \n",
       "280989 -4.320341e+07  \n",
       "9877   -8.445663e+06  \n",
       "21171  -2.218683e+06  \n",
       "289433 -1.499999e+06  \n",
       "256994 -1.251500e+06  \n",
       "239293 -8.670020e+05  "
      ]
     },
     "execution_count": 368,
     "metadata": {},
     "output_type": "execute_result"
    }
   ],
   "source": [
    "trans_amounts.sort_values(by='wallet_size')[:10]"
   ]
  },
  {
   "cell_type": "code",
   "execution_count": 395,
   "id": "concerned-sentence",
   "metadata": {},
   "outputs": [
    {
     "data": {
      "image/png": "[encoded data removed]",
      "text/plain": [
       "<Figure size 432x288 with 1 Axes>"
      ]
     },
     "metadata": {},
     "output_type": "display_data"
    }
   ],
   "source": [
    "sns.set_style(\"whitegrid\")\n",
    "sns.set_palette(\"Paired\")\n",
    "\n",
    "sns.barplot(x=\"wallet_size\", \n",
    "            y=\"address\",\n",
    "            data=trans_amounts.sort_values(by='wallet_size')[:10])\n",
    "plt.xticks(rotation=90)\n",
    "plt.show()"
   ]
  },
  {
   "cell_type": "markdown",
   "id": "greater-colony",
   "metadata": {},
   "source": [
    "Unsurprisingly, tether treasury is the top wallet sending more than receiving. We could infer that the next highest net exporter is also a treasury wallet."
   ]
  },
  {
   "cell_type": "code",
   "execution_count": 362,
   "id": "traditional-tomato",
   "metadata": {},
   "outputs": [
    {
     "data": {
      "text/html": [
       "<div>\n",
       "<style scoped>\n",
       "    .dataframe tbody tr th:only-of-type {\n",
       "        vertical-align: middle;\n",
       "    }\n",
       "\n",
       "    .dataframe tbody tr th {\n",
       "        vertical-align: top;\n",
       "    }\n",
       "\n",
       "    .dataframe thead th {\n",
       "        text-align: right;\n",
       "    }\n",
       "</style>\n",
       "<table border=\"1\" class=\"dataframe\">\n",
       "  <thead>\n",
       "    <tr style=\"text-align: right;\">\n",
       "      <th></th>\n",
       "      <th>address</th>\n",
       "      <th>received</th>\n",
       "      <th>sent</th>\n",
       "      <th>wallet_size</th>\n",
       "    </tr>\n",
       "  </thead>\n",
       "  <tbody>\n",
       "    <tr>\n",
       "      <th>305119</th>\n",
       "      <td>Binance</td>\n",
       "      <td>3.479279e+09</td>\n",
       "      <td>2.817714e+09</td>\n",
       "      <td>6.615646e+08</td>\n",
       "    </tr>\n",
       "    <tr>\n",
       "      <th>305121</th>\n",
       "      <td>Huobi.com-2</td>\n",
       "      <td>1.395183e+09</td>\n",
       "      <td>1.168431e+09</td>\n",
       "      <td>2.267526e+08</td>\n",
       "    </tr>\n",
       "    <tr>\n",
       "      <th>143730</th>\n",
       "      <td>1DUb2YYbQA1jjaNYzVXLZ7ZioEhLXtbUru</td>\n",
       "      <td>3.557034e+09</td>\n",
       "      <td>3.339889e+09</td>\n",
       "      <td>2.171449e+08</td>\n",
       "    </tr>\n",
       "    <tr>\n",
       "      <th>52256</th>\n",
       "      <td>168o1kqNquEJeR9vosUB5fw4eAwcVAgh8P</td>\n",
       "      <td>2.728707e+09</td>\n",
       "      <td>2.516524e+09</td>\n",
       "      <td>2.121824e+08</td>\n",
       "    </tr>\n",
       "    <tr>\n",
       "      <th>305120</th>\n",
       "      <td>Bitfinex</td>\n",
       "      <td>8.294645e+09</td>\n",
       "      <td>8.228053e+09</td>\n",
       "      <td>6.659221e+07</td>\n",
       "    </tr>\n",
       "    <tr>\n",
       "      <th>226312</th>\n",
       "      <td>1LAnF8h3qMGx3TSwNUHVneBZUEpwE4gu3D</td>\n",
       "      <td>4.180477e+09</td>\n",
       "      <td>4.124798e+09</td>\n",
       "      <td>5.567925e+07</td>\n",
       "    </tr>\n",
       "    <tr>\n",
       "      <th>103956</th>\n",
       "      <td>1AHeqzQ9VJXAuQu9tTmNqeeo1xgKzFSrTR</td>\n",
       "      <td>3.125246e+08</td>\n",
       "      <td>2.738399e+08</td>\n",
       "      <td>3.868476e+07</td>\n",
       "    </tr>\n",
       "    <tr>\n",
       "      <th>289777</th>\n",
       "      <td>37Tm3Qz8Zw2VJrheUUhArDAoq58S6YrS3g</td>\n",
       "      <td>8.001810e+07</td>\n",
       "      <td>5.435536e+07</td>\n",
       "      <td>2.566274e+07</td>\n",
       "    </tr>\n",
       "    <tr>\n",
       "      <th>204370</th>\n",
       "      <td>1JP22bCZVoWdbTZ93BqYAyit6YtdseRw9H</td>\n",
       "      <td>1.569320e+08</td>\n",
       "      <td>1.447000e+08</td>\n",
       "      <td>1.223203e+07</td>\n",
       "    </tr>\n",
       "    <tr>\n",
       "      <th>305122</th>\n",
       "      <td>Kraken</td>\n",
       "      <td>3.956977e+08</td>\n",
       "      <td>3.847764e+08</td>\n",
       "      <td>1.092135e+07</td>\n",
       "    </tr>\n",
       "  </tbody>\n",
       "</table>\n",
       "</div>"
      ],
      "text/plain": [
       "                                   address      received          sent  \\\n",
       "305119                             Binance  3.479279e+09  2.817714e+09   \n",
       "305121                         Huobi.com-2  1.395183e+09  1.168431e+09   \n",
       "143730  1DUb2YYbQA1jjaNYzVXLZ7ZioEhLXtbUru  3.557034e+09  3.339889e+09   \n",
       "52256   168o1kqNquEJeR9vosUB5fw4eAwcVAgh8P  2.728707e+09  2.516524e+09   \n",
       "305120                            Bitfinex  8.294645e+09  8.228053e+09   \n",
       "226312  1LAnF8h3qMGx3TSwNUHVneBZUEpwE4gu3D  4.180477e+09  4.124798e+09   \n",
       "103956  1AHeqzQ9VJXAuQu9tTmNqeeo1xgKzFSrTR  3.125246e+08  2.738399e+08   \n",
       "289777  37Tm3Qz8Zw2VJrheUUhArDAoq58S6YrS3g  8.001810e+07  5.435536e+07   \n",
       "204370  1JP22bCZVoWdbTZ93BqYAyit6YtdseRw9H  1.569320e+08  1.447000e+08   \n",
       "305122                              Kraken  3.956977e+08  3.847764e+08   \n",
       "\n",
       "         wallet_size  \n",
       "305119  6.615646e+08  \n",
       "305121  2.267526e+08  \n",
       "143730  2.171449e+08  \n",
       "52256   2.121824e+08  \n",
       "305120  6.659221e+07  \n",
       "226312  5.567925e+07  \n",
       "103956  3.868476e+07  \n",
       "289777  2.566274e+07  \n",
       "204370  1.223203e+07  \n",
       "305122  1.092135e+07  "
      ]
     },
     "execution_count": 362,
     "metadata": {},
     "output_type": "execute_result"
    }
   ],
   "source": [
    "trans_amounts.sort_values(by='wallet_size',ascending=False)[:10]"
   ]
  },
  {
   "cell_type": "code",
   "execution_count": 396,
   "id": "medium-bread",
   "metadata": {},
   "outputs": [
    {
     "data": {
      "image/png": "[encoded data removed]",
      "text/plain": [
       "<Figure size 432x288 with 1 Axes>"
      ]
     },
     "metadata": {},
     "output_type": "display_data"
    }
   ],
   "source": [
    "sns.barplot(x=\"wallet_size\", \n",
    "            y=\"address\",\n",
    "            data=trans_amounts.sort_values(by='wallet_size',ascending=False)[:10])\n",
    "plt.xticks(rotation=90)\n",
    "plt.show()"
   ]
  },
  {
   "cell_type": "markdown",
   "id": "seeing-subscription",
   "metadata": {},
   "source": [
    "In the top 10 positive wallet balances we have got 4 exchanges. We could assume the others are also from exchanges such as Bittrex and potentially Coinbase. To be sure we need to investigate a bit more."
   ]
  }
 ],
 "metadata": {
  "kernelspec": {
   "display_name": "Python 3",
   "language": "python",
   "name": "python3"
  },
  "language_info": {
   "codemirror_mode": {
    "name": "ipython",
    "version": 3
   },
   "file_extension": ".py",
   "mimetype": "text/x-python",
   "name": "python",
   "nbconvert_exporter": "python",
   "pygments_lexer": "ipython3",
   "version": "3.9.2"
  }
 },
 "nbformat": 4,
 "nbformat_minor": 5
}
